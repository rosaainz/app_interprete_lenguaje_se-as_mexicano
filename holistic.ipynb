{
 "cells": [
  {
   "cell_type": "markdown",
   "id": "9e95f128",
   "metadata": {},
   "source": [
    "## 0. Importar librerias para dibujar landmarks"
   ]
  },
  {
   "cell_type": "code",
   "execution_count": 75,
   "id": "2aee16fd",
   "metadata": {},
   "outputs": [],
   "source": [
    "import mediapipe as mp\n",
    "import cv2 "
   ]
  },
  {
   "cell_type": "code",
   "execution_count": 76,
   "id": "61f20f03",
   "metadata": {},
   "outputs": [],
   "source": [
    "# Drawing helpers and Mediapipe Solutions\n",
    "mp_drawing = mp.solutions.drawing_utils \n",
    "mp_holistic = mp.solutions.holistic "
   ]
  },
  {
   "cell_type": "markdown",
   "id": "7716d6e4",
   "metadata": {},
   "source": [
    "## 1. Dibujar landmarks con mediapipe "
   ]
  },
  {
   "cell_type": "code",
   "execution_count": 77,
   "id": "34401ec4",
   "metadata": {},
   "outputs": [],
   "source": [
    "# Inicializa la captura de video desde la webcam\n",
    "cap = cv2.VideoCapture(0)\n",
    "\n",
    "# Inicia el modelo Holistic de mediapipe para la detección de landmarks\n",
    "# Los argumentos  min_detection_confidence y min_tracking_confidence  establecen los umbrales de confianza mínimos requeridos \n",
    "#para la detección y el seguimiento de landmarks en una imagen.\n",
    "#min_detection_confidence: Este argumento establece el umbral de confianza mínimo necesario para que el modelo Holistic detecte un landmark en la imagen. Un valor más alto significa que el modelo solo detectará landmarks con una confianza muy alta, mientras que un valor más bajo permitirá detectar landmarks con una confianza más baja.\n",
    "#min_tracking_confidence: Este argumento establece el umbral de confianza mínimo para el seguimiento de landmarks en imágenes sucesivas. Una vez que un landmark ha sido detectado en una imagen con una confianza superior a este umbral, el modelo intentará seguir ese landmark en imágenes posteriores. Un valor más alto aquí significa que el seguimiento se realizará solo para landmarks muy confiables, mientras que un valor más bajo permitirá un seguimiento incluso para landmarks menos confiables.\n",
    "# Factore: buena iluminación, fondo simple, si se requiere precision : usar valores mas alto\n",
    "# Un valor muy alto de confianza puede conducir a una menor cantidad de landmarks detectados y seguidos, lo que puede ser aceptable en algunos casos pero limitante en otros donde se necesite información más detallada.\n",
    "#min_detection_confidence: deteccion\n",
    "#min_tracking_confidence: seguimiento\n",
    "with mp_holistic.Holistic(min_detection_confidence=0.5, min_tracking_confidence=0.5) as holistic: #probar: min_detection_confidence=0.7-0.9, min_tracking_confidence=0.5-0.8\n",
    "    while cap.isOpened():  # Bucle principal para procesar cada fotograma de video\n",
    "        ret, frame = cap.read()  # Lee un fotograma de la webcam\n",
    "        \n",
    "        # Recolor Feed\n",
    "        # Convierte el fotograma de BGR a RGB para el procesamiento de mediapipe\n",
    "        image = cv2.cvtColor(frame, cv2.COLOR_BGR2RGB)\n",
    "        image.flags.writeable = False   # Marca la imagen como no modificable   \n",
    "        \n",
    "        # Make Detections\n",
    "        # Procesa la imagen utilizando el modelo Holistic para detectar landmarks\n",
    "        results = holistic.process(image)\n",
    "        # print(results.face_landmarks) # face_landmarks, pose_landmarks, left_hand_landmarks, right_hand_landmarks\n",
    "        \n",
    "        # Recolor image back to BGR for rendering\n",
    "        image.flags.writeable = True   \n",
    "        image = cv2.cvtColor(image, cv2.COLOR_RGB2BGR)\n",
    "        \n",
    "        # 1. Draw face landmarks\n",
    "        mp_drawing.draw_landmarks(image, results.face_landmarks, mp_holistic.FACEMESH_TESSELATION, \n",
    "                                 mp_drawing.DrawingSpec(color=(80,110,10), thickness=1, circle_radius=1),\n",
    "                                 mp_drawing.DrawingSpec(color=(80,256,121), thickness=1, circle_radius=1)\n",
    "                                 )\n",
    "        \n",
    "        # 2. Right hand\n",
    "        mp_drawing.draw_landmarks(image, results.right_hand_landmarks, mp_holistic.HAND_CONNECTIONS, \n",
    "                                 mp_drawing.DrawingSpec(color=(80,22,10), thickness=2, circle_radius=4),\n",
    "                                 mp_drawing.DrawingSpec(color=(80,44,121), thickness=2, circle_radius=2)\n",
    "                                 )\n",
    "\n",
    "        # 3. Left Hand\n",
    "        mp_drawing.draw_landmarks(image, results.left_hand_landmarks, mp_holistic.HAND_CONNECTIONS, \n",
    "                                 mp_drawing.DrawingSpec(color=(121,22,76), thickness=2, circle_radius=4),\n",
    "                                 mp_drawing.DrawingSpec(color=(121,44,250), thickness=2, circle_radius=2)\n",
    "                                 )\n",
    "\n",
    "        # 4. Pose Detections\n",
    "        mp_drawing.draw_landmarks(image, results.pose_landmarks, mp_holistic.POSE_CONNECTIONS, \n",
    "                                 mp_drawing.DrawingSpec(color=(245,117,66), thickness=2, circle_radius=4),\n",
    "                                 mp_drawing.DrawingSpec(color=(245,66,230), thickness=2, circle_radius=2)\n",
    "                                 )\n",
    "                        \n",
    "        # Muestra la imagen con los landmarks dibujados en una ventana\n",
    "        cv2.imshow('Rosa Webcam', image)\n",
    "\n",
    "        if cv2.waitKey(10) & 0xFF == ord('q'):\n",
    "            break\n",
    "\n",
    "cap.release()\n",
    "cv2.destroyAllWindows()\n"
   ]
  },
  {
   "cell_type": "markdown",
   "metadata": {},
   "source": [
    "## 0. Importar librerias para dibujar landmarks"
   ]
  },
  {
   "cell_type": "code",
   "execution_count": null,
   "metadata": {},
   "outputs": [],
   "source": [
    "import mediapipe as mp\n",
    "import cv2 "
   ]
  },
  {
   "cell_type": "code",
   "execution_count": null,
   "metadata": {},
   "outputs": [],
   "source": [
    "# Drawing helpers and Mediapipe Solutions\n",
    "mp_drawing = mp.solutions.drawing_utils \n",
    "mp_holistic = mp.solutions.holistic "
   ]
  },
  {
   "cell_type": "markdown",
   "metadata": {},
   "source": [
    "## 1. Dibujar landmarks con mediapipe "
   ]
  },
  {
   "cell_type": "code",
   "execution_count": null,
   "metadata": {},
   "outputs": [],
   "source": [
    "# Inicializa la captura de video desde la webcam\n",
    "cap = cv2.VideoCapture(0)\n",
    "\n",
    "# Inicia el modelo Holistic de mediapipe para la detección de landmarks\n",
    "# Los argumentos  min_detection_confidence y min_tracking_confidence  establecen los umbrales de confianza mínimos requeridos \n",
    "#para la detección y el seguimiento de landmarks en una imagen.\n",
    "#min_detection_confidence: Este argumento establece el umbral de confianza mínimo necesario para que el modelo Holistic detecte un landmark en la imagen. Un valor más alto significa que el modelo solo detectará landmarks con una confianza muy alta, mientras que un valor más bajo permitirá detectar landmarks con una confianza más baja.\n",
    "#min_tracking_confidence: Este argumento establece el umbral de confianza mínimo para el seguimiento de landmarks en imágenes sucesivas. Una vez que un landmark ha sido detectado en una imagen con una confianza superior a este umbral, el modelo intentará seguir ese landmark en imágenes posteriores. Un valor más alto aquí significa que el seguimiento se realizará solo para landmarks muy confiables, mientras que un valor más bajo permitirá un seguimiento incluso para landmarks menos confiables.\n",
    "# Factore: buena iluminación, fondo simple, si se requiere precision : usar valores mas alto\n",
    "# Un valor muy alto de confianza puede conducir a una menor cantidad de landmarks detectados y seguidos, lo que puede ser aceptable en algunos casos pero limitante en otros donde se necesite información más detallada.\n",
    "with mp_holistic.Holistic(min_detection_confidence=0.5, min_tracking_confidence=0.5) as holistic: #probar: min_detection_confidence=0.7-0.9, \n",
    "\n",
    "    \n",
    "    while cap.isOpened():\n",
    "        ret, frame = cap.read()\n",
    "        \n",
    "        # Recolor Feed\n",
    "        image = cv2.cvtColor(frame, cv2.COLOR_BGR2RGB)\n",
    "        image.flags.writeable = False        \n",
    "        \n",
    "        # Make Detections\n",
    "        results = holistic.process(image)\n",
    "        # print(results.face_landmarks)\n",
    "        \n",
    "        # face_landmarks, pose_landmarks, left_hand_landmarks, right_hand_landmarks\n",
    "        \n",
    "        # Recolor image back to BGR for rendering\n",
    "        image.flags.writeable = True   \n",
    "        image = cv2.cvtColor(image, cv2.COLOR_RGB2BGR)\n",
    "        \n",
    "        # 1. Draw face landmarks\n",
    "        mp_drawing.draw_landmarks(image, results.face_landmarks, mp_holistic.FACEMESH_TESSELATION, \n",
    "                                 mp_drawing.DrawingSpec(color=(80,110,10), thickness=1, circle_radius=1),\n",
    "                                 mp_drawing.DrawingSpec(color=(80,256,121), thickness=1, circle_radius=1)\n",
    "                                 )\n",
    "        \n",
    "        # 2. Right hand\n",
    "        mp_drawing.draw_landmarks(image, results.right_hand_landmarks, mp_holistic.HAND_CONNECTIONS, \n",
    "                                 mp_drawing.DrawingSpec(color=(80,22,10), thickness=2, circle_radius=4),\n",
    "                                 mp_drawing.DrawingSpec(color=(80,44,121), thickness=2, circle_radius=2)\n",
    "                                 )\n",
    "\n",
    "        # 3. Left Hand\n",
    "        mp_drawing.draw_landmarks(image, results.left_hand_landmarks, mp_holistic.HAND_CONNECTIONS, \n",
    "                                 mp_drawing.DrawingSpec(color=(121,22,76), thickness=2, circle_radius=4),\n",
    "                                 mp_drawing.DrawingSpec(color=(121,44,250), thickness=2, circle_radius=2)\n",
    "                                 )\n",
    "\n",
    "        # 4. Pose Detections\n",
    "        mp_drawing.draw_landmarks(image, results.pose_landmarks, mp_holistic.POSE_CONNECTIONS, \n",
    "                                 mp_drawing.DrawingSpec(color=(245,117,66), thickness=2, circle_radius=4),\n",
    "                                 mp_drawing.DrawingSpec(color=(245,66,230), thickness=2, circle_radius=2)\n",
    "                                 )\n",
    "                        \n",
    "        cv2.imshow('Rosa Webcam', image)\n",
    "\n",
    "        if cv2.waitKey(10) & 0xFF == ord('q'):\n",
    "            break\n",
    "\n",
    "cap.release()\n",
    "cv2.destroyAllWindows()\n"
   ]
  },
  {
   "cell_type": "code",
   "execution_count": null,
   "metadata": {},
   "outputs": [
    {
     "data": {
      "text/plain": [
       "mediapipe.python.solution_base.SolutionOutputs"
      ]
     },
     "metadata": {},
     "output_type": "display_data"
    }
   ],
   "source": [
    "results"
   ]
  },
  {
   "cell_type": "code",
   "execution_count": null,
   "metadata": {},
   "outputs": [
    {
     "data": {
      "text/plain": [
       "landmark {\n",
       "  x: 0.5809244\n",
       "  y: 0.24712658\n",
       "  z: -0.739278\n",
       "  visibility: 0.99993914\n",
       "}\n",
       "landmark {\n",
       "  x: 0.6049273\n",
       "  y: 0.15868685\n",
       "  z: -0.6839315\n",
       "  visibility: 0.99988085\n",
       "}\n",
       "landmark {\n",
       "  x: 0.6220694\n",
       "  y: 0.15958098\n",
       "  z: -0.68387604\n",
       "  visibility: 0.99987334\n",
       "}\n",
       "landmark {\n",
       "  x: 0.63892114\n",
       "  y: 0.16115968\n",
       "  z: -0.6841286\n",
       "  visibility: 0.99987036\n",
       "}\n",
       "landmark {\n",
       "  x: 0.54849285\n",
       "  y: 0.15705356\n",
       "  z: -0.6899874\n",
       "  visibility: 0.9998952\n",
       "}\n",
       "landmark {\n",
       "  x: 0.52555025\n",
       "  y: 0.15668614\n",
       "  z: -0.68933886\n",
       "  visibility: 0.9998963\n",
       "}\n",
       "landmark {\n",
       "  x: 0.50590986\n",
       "  y: 0.15615633\n",
       "  z: -0.689562\n",
       "  visibility: 0.9999029\n",
       "}\n",
       "landmark {\n",
       "  x: 0.6626643\n",
       "  y: 0.2011099\n",
       "  z: -0.35323778\n",
       "  visibility: 0.9998439\n",
       "}\n",
       "landmark {\n",
       "  x: 0.47565588\n",
       "  y: 0.19750349\n",
       "  z: -0.3682824\n",
       "  visibility: 0.99991006\n",
       "}\n",
       "landmark {\n",
       "  x: 0.6106254\n",
       "  y: 0.33324215\n",
       "  z: -0.61935574\n",
       "  visibility: 0.9999331\n",
       "}\n",
       "landmark {\n",
       "  x: 0.54190326\n",
       "  y: 0.33145252\n",
       "  z: -0.6230754\n",
       "  visibility: 0.9999421\n",
       "}\n",
       "landmark {\n",
       "  x: 0.77338624\n",
       "  y: 0.67101187\n",
       "  z: -0.19209817\n",
       "  visibility: 0.9990629\n",
       "}\n",
       "landmark {\n",
       "  x: 0.3314059\n",
       "  y: 0.69686127\n",
       "  z: -0.3093231\n",
       "  visibility: 0.9990125\n",
       "}\n",
       "landmark {\n",
       "  x: 0.8759099\n",
       "  y: 1.0357248\n",
       "  z: -0.2057263\n",
       "  visibility: 0.31266868\n",
       "}\n",
       "landmark {\n",
       "  x: 0.27247548\n",
       "  y: 1.3027484\n",
       "  z: -0.33921245\n",
       "  visibility: 0.45266393\n",
       "}\n",
       "landmark {\n",
       "  x: 0.9553095\n",
       "  y: 1.5810893\n",
       "  z: -0.5213495\n",
       "  visibility: 0.12174888\n",
       "}\n",
       "landmark {\n",
       "  x: 0.2327183\n",
       "  y: 1.7245259\n",
       "  z: -0.80656767\n",
       "  visibility: 0.22486159\n",
       "}\n",
       "landmark {\n",
       "  x: 1.0019696\n",
       "  y: 1.7080785\n",
       "  z: -0.62058204\n",
       "  visibility: 0.12975112\n",
       "}\n",
       "landmark {\n",
       "  x: 0.18794407\n",
       "  y: 1.8581065\n",
       "  z: -0.92546093\n",
       "  visibility: 0.2384526\n",
       "}\n",
       "landmark {\n",
       "  x: 0.9618707\n",
       "  y: 1.7144945\n",
       "  z: -0.65489966\n",
       "  visibility: 0.1661912\n",
       "}\n",
       "landmark {\n",
       "  x: 0.2346004\n",
       "  y: 1.8553627\n",
       "  z: -1.0257657\n",
       "  visibility: 0.30950117\n",
       "}\n",
       "landmark {\n",
       "  x: 0.9331772\n",
       "  y: 1.6683339\n",
       "  z: -0.56305146\n",
       "  visibility: 0.1675756\n",
       "}\n",
       "landmark {\n",
       "  x: 0.26259118\n",
       "  y: 1.8004785\n",
       "  z: -0.86652786\n",
       "  visibility: 0.30181152\n",
       "}\n",
       "landmark {\n",
       "  x: 0.71068764\n",
       "  y: 1.7009072\n",
       "  z: -0.04375672\n",
       "  visibility: 0.0018331904\n",
       "}\n",
       "landmark {\n",
       "  x: 0.42416888\n",
       "  y: 1.7146344\n",
       "  z: 0.04785337\n",
       "  visibility: 0.0019507147\n",
       "}\n",
       "landmark {\n",
       "  x: 0.7069418\n",
       "  y: 2.5661414\n",
       "  z: 0.0024344628\n",
       "  visibility: 0.001884419\n",
       "}\n",
       "landmark {\n",
       "  x: 0.44366056\n",
       "  y: 2.5870023\n",
       "  z: 0.12656592\n",
       "  visibility: 0.0007285858\n",
       "}\n",
       "landmark {\n",
       "  x: 0.7178904\n",
       "  y: 3.3514407\n",
       "  z: 0.6000527\n",
       "  visibility: 0.00027280394\n",
       "}\n",
       "landmark {\n",
       "  x: 0.47280198\n",
       "  y: 3.3570294\n",
       "  z: 0.53263015\n",
       "  visibility: 4.1248873e-05\n",
       "}\n",
       "landmark {\n",
       "  x: 0.72537917\n",
       "  y: 3.4757993\n",
       "  z: 0.6271635\n",
       "  visibility: 0.00020669066\n",
       "}\n",
       "landmark {\n",
       "  x: 0.470155\n",
       "  y: 3.4770355\n",
       "  z: 0.5582036\n",
       "  visibility: 8.203569e-05\n",
       "}\n",
       "landmark {\n",
       "  x: 0.6942489\n",
       "  y: 3.5821817\n",
       "  z: 0.10134424\n",
       "  visibility: 0.00030812057\n",
       "}\n",
       "landmark {\n",
       "  x: 0.52079284\n",
       "  y: 3.5925694\n",
       "  z: -0.03258152\n",
       "  visibility: 0.00016489792\n",
       "}"
      ]
     },
     "metadata": {},
     "output_type": "display_data"
    }
   ],
   "source": [
    "results.pose_landmarks"
   ]
  },
  {
   "cell_type": "code",
   "execution_count": null,
   "metadata": {},
   "outputs": [
    {
     "data": {
      "text/plain": [
       "x: 0.5809244\n",
       "y: 0.24712658\n",
       "z: -0.739278\n",
       "visibility: 0.99993914"
      ]
     },
     "metadata": {},
     "output_type": "display_data"
    }
   ],
   "source": [
    "results.pose_landmarks.landmark[0]"
   ]
  },
  {
   "cell_type": "code",
   "execution_count": null,
   "metadata": {},
   "outputs": [
    {
     "data": {
      "text/plain": [
       "0.9999391436576843"
      ]
     },
     "metadata": {},
     "output_type": "display_data"
    }
   ],
   "source": [
    "results.pose_landmarks.landmark[0].visibility"
   ]
  },
  {
   "cell_type": "code",
   "execution_count": null,
   "metadata": {},
   "outputs": [
    {
     "data": {
      "text/plain": [
       "x: 0.56733704\n",
       "y: 0.33550656\n",
       "z: -0.0311259"
      ]
     },
     "metadata": {},
     "output_type": "display_data"
    }
   ],
   "source": [
    "results.face_landmarks.landmark[0]"
   ]
  },
  {
   "cell_type": "code",
   "execution_count": null,
   "metadata": {},
   "outputs": [
    {
     "data": {
      "text/plain": [
       "0.0"
      ]
     },
     "metadata": {},
     "output_type": "display_data"
    }
   ],
   "source": [
    "results.face_landmarks.landmark[0].visibility # visibility muestra si el landmark si se muestra en la pantalla o no\n",
    "# para los landmarks de la cara siempre sera cero"
   ]
  },
  {
   "cell_type": "markdown",
   "metadata": {},
   "source": [
    "<img src=\"https://i.imgur.com/AzKNp7A.png\">"
   ]
  },
  {
   "cell_type": "markdown",
   "metadata": {},
   "source": [
    "## 2. Capturar Landmarks & Exportar CSV"
   ]
  },
  {
   "cell_type": "code",
   "execution_count": null,
   "metadata": {},
   "outputs": [],
   "source": [
    "import csv\n",
    "import os\n",
    "import numpy as np"
   ]
  },
  {
   "cell_type": "code",
   "execution_count": null,
   "metadata": {},
   "outputs": [
    {
     "data": {
      "text/plain": [
       "501"
      ]
     },
     "metadata": {},
     "output_type": "display_data"
    }
   ],
   "source": [
    "num_coords = len(results.face_landmarks.landmark) + len(results.pose_landmarks.landmark)\n",
    "num_coords #501"
   ]
  },
  {
   "cell_type": "code",
   "execution_count": null,
   "metadata": {},
   "outputs": [],
   "source": [
    "#Create header table | class | x | y | z | visibility |\n",
    "landmarks = ['class']\n",
    "for val in range(1, num_coords+1):\n",
    "    landmarks += ['x{}'.format(val), 'y{}'.format(val), 'z{}'.format(val), 'v{}'.format(val)]"
   ]
  },
  {
   "cell_type": "code",
   "execution_count": null,
   "metadata": {},
   "outputs": [
    {
     "data": {
      "text/plain": [
       "2005"
      ]
     },
     "metadata": {},
     "output_type": "display_data"
    }
   ],
   "source": [
    "len(landmarks) #2005"
   ]
  },
  {
   "cell_type": "code",
   "execution_count": null,
   "metadata": {},
   "outputs": [],
   "source": [
    "#Export header CSV\n",
    "with open('coords.csv', mode='w', newline='') as f:\n",
    "    csv_writer = csv.writer(f, delimiter=',', quotechar='\"', quoting=csv.QUOTE_MINIMAL)\n",
    "    csv_writer.writerow(landmarks)"
   ]
  },
  {
   "cell_type": "markdown",
   "metadata": {},
   "source": [
    "## 3. Tomar coordenadas de señas"
   ]
  },
  {
   "cell_type": "code",
   "execution_count": null,
   "metadata": {},
   "outputs": [],
   "source": [
    "#Save coord poses\n",
    "class_name=\"Buuu que mal\"\n",
    "\n",
    "#Detectar puntos de referencia\n",
    "cap = cv2.VideoCapture(0)  #0 o 2\n",
    "\n",
    "# Initiate holistic model\n",
    "with mp_holistic.Holistic(min_detection_confidence=0.5, min_tracking_confidence=0.5) as holistic:\n",
    "\n",
    "    while cap.isOpened():\n",
    "        ret, frame = cap.read()\n",
    "\n",
    "        # Recolor Feed\n",
    "        image = cv2.cvtColor(frame, cv2.COLOR_BGR2RGB)\n",
    "        image.flags.writeable = False\n",
    "\n",
    "        # Make Detections\n",
    "        results = holistic.process(image)\n",
    "        # print(results.face_landmarks)\n",
    "\n",
    "        # face_landmarks, pose_landmarks, left_hand_landmarks, right_hand_landmarks\n",
    "\n",
    "        # Recolor image back to BGR for rendering\n",
    "        image.flags.writeable = True\n",
    "        image = cv2.cvtColor(image, cv2.COLOR_RGB2BGR)\n",
    "\n",
    "\n",
    "        # 1. Draw face landmarks\n",
    "       # mp_drawing.draw_landmarks(image, results.face_landmarks, mp_holistic.FACEMESH_TESSELATION,\n",
    "       #                          mp_drawing.DrawingSpec(color=(80,110,10), thickness=1, circle_radius=1),\n",
    "       #                          mp_drawing.DrawingSpec(color=(80,256,121), thickness=1, circle_radius=1)\n",
    "       #                          )\n",
    "\n",
    "        # 2. Right hand\n",
    "        mp_drawing.draw_landmarks(image, results.right_hand_landmarks, mp_holistic.HAND_CONNECTIONS,\n",
    "                                 mp_drawing.DrawingSpec(color=(80,22,10), thickness=2, circle_radius=4),\n",
    "                                 mp_drawing.DrawingSpec(color=(80,44,121), thickness=2, circle_radius=2)\n",
    "                                 )\n",
    "\n",
    "        # 3. Left Hand\n",
    "        mp_drawing.draw_landmarks(image, results.left_hand_landmarks, mp_holistic.HAND_CONNECTIONS,\n",
    "                                 mp_drawing.DrawingSpec(color=(121,22,76), thickness=2, circle_radius=4),\n",
    "                                 mp_drawing.DrawingSpec(color=(121,44,250), thickness=2, circle_radius=2)\n",
    "                                 )\n",
    "\n",
    "        # 4. Pose Detections\n",
    "        mp_drawing.draw_landmarks(image, results.pose_landmarks, mp_holistic.POSE_CONNECTIONS,\n",
    "                                 mp_drawing.DrawingSpec(color=(245,117,66), thickness=2, circle_radius=4),\n",
    "                                 mp_drawing.DrawingSpec(color=(245,66,230), thickness=2, circle_radius=2)\n",
    "                                 )\n",
    "        # Export coordinates, da todos los landmarks y los almacena en una matriz\n",
    "        try:\n",
    "            # Extract Pose landmarks\n",
    "            pose = results.pose_landmarks.landmark\n",
    "            pose_row = list(np.array([[landmark.x, landmark.y, landmark.z, landmark.visibility] for landmark in pose]).flatten())\n",
    "\n",
    "            # Extract Face landmarks\n",
    "            face = results.face_landmarks.landmark\n",
    "            face_row = list(np.array([[landmark.x, landmark.y, landmark.z, landmark.visibility] for landmark in face]).flatten())\n",
    "\n",
    "            # Concate rows\n",
    "            row = pose_row+face_row\n",
    "\n",
    "            # Append class name\n",
    "            row.insert(0, class_name)\n",
    "\n",
    "            # Export to CSV\n",
    "            with open('coords.csv', mode='a', newline='') as f:\n",
    "                csv_writer = csv.writer(f, delimiter=',', quotechar='\"', quoting=csv.QUOTE_MINIMAL)\n",
    "                csv_writer.writerow(row)\n",
    "\n",
    "        except:\n",
    "            pass\n",
    "\n",
    "\n",
    "        cv2.imshow('Rosa Webcam', image)\n",
    "        if cv2.waitKey(10) & 0xFF == ord('q'):\n",
    "            break\n",
    "\n",
    "cap.release()\n",
    "cv2.destroyAllWindows()"
   ]
  },
  {
   "cell_type": "code",
   "execution_count": null,
   "metadata": {},
   "outputs": [
    {
     "data": {
      "text/plain": [
       "x: 0.5739429\n",
       "y: 0.31865352\n",
       "z: -0.85075855\n",
       "visibility: 0.9998646"
      ]
     },
     "metadata": {},
     "output_type": "display_data"
    }
   ],
   "source": [
    "results.pose_landmarks.landmark[0]"
   ]
  },
  {
   "cell_type": "code",
   "execution_count": null,
   "metadata": {},
   "outputs": [
    {
     "data": {
      "text/plain": [
       "0.0"
      ]
     },
     "metadata": {},
     "output_type": "display_data"
    }
   ],
   "source": [
    "results.face_landmarks.landmark[0].visibility #la visibilidad de face_landmark siempre sera cero"
   ]
  },
  {
   "cell_type": "markdown",
   "metadata": {},
   "source": [
    "Numero de coordenadas que tendremos:"
   ]
  },
  {
   "cell_type": "code",
   "execution_count": null,
   "metadata": {},
   "outputs": [
    {
     "data": {
      "text/plain": [
       "132"
      ]
     },
     "metadata": {},
     "output_type": "display_data"
    }
   ],
   "source": [
    "pose_row = list(np.array([[landmark.x, landmark.y, landmark.z, landmark.visibility] for landmark in pose]).flatten())\n",
    "len(pose_row) #132\n"
   ]
  },
  {
   "cell_type": "code",
   "execution_count": null,
   "metadata": {},
   "outputs": [
    {
     "data": {
      "text/plain": [
       "1872"
      ]
     },
     "metadata": {},
     "output_type": "display_data"
    }
   ],
   "source": [
    "face_row = list(np.array([[landmark.x, landmark.y, landmark.z, landmark.visibility] for landmark in face]).flatten())\n",
    "len(face_row)"
   ]
  },
  {
   "cell_type": "code",
   "execution_count": null,
   "metadata": {},
   "outputs": [
    {
     "data": {
      "text/plain": [
       "2004"
      ]
     },
     "metadata": {},
     "output_type": "display_data"
    }
   ],
   "source": [
    "row=pose_row+face_row #total de coordenadas deberia de ser 2004\n",
    "len(row)\n"
   ]
  },
  {
   "cell_type": "code",
   "execution_count": null,
   "metadata": {},
   "outputs": [
    {
     "data": {
      "text/plain": [
       "2005"
      ]
     },
     "metadata": {},
     "output_type": "display_data"
    }
   ],
   "source": [
    "1+501*4"
   ]
  },
  {
   "cell_type": "code",
   "execution_count": null,
   "metadata": {},
   "outputs": [
    {
     "data": {
      "text/plain": [
       "2005"
      ]
     },
     "metadata": {},
     "output_type": "display_data"
    }
   ],
   "source": [
    "row.insert(0, class_name) #agregar el nombre de la clase (pose)\n",
    "len(row) #1+501*4 class_name, landmarks, header (x,y,z,visibility)"
   ]
  },
  {
   "cell_type": "markdown",
   "metadata": {},
   "source": [
    "## 4. Entrenar modelo usando Scikit Learn"
   ]
  },
  {
   "cell_type": "markdown",
   "metadata": {},
   "source": [
    "### Leer y recolectar datos"
   ]
  },
  {
   "cell_type": "code",
   "execution_count": null,
   "metadata": {},
   "outputs": [],
   "source": [
    "import pandas as pd\n",
    "from sklearn.model_selection import train_test_split"
   ]
  },
  {
   "cell_type": "code",
   "execution_count": null,
   "metadata": {},
   "outputs": [],
   "source": [
    "df = pd.read_csv('coords.csv')"
   ]
  },
  {
   "cell_type": "code",
   "execution_count": null,
   "metadata": {},
   "outputs": [
    {
     "data": {
      "text/html": [
       "<div>\n",
       "<style scoped>\n",
       "    .dataframe tbody tr th:only-of-type {\n",
       "        vertical-align: middle;\n",
       "    }\n",
       "\n",
       "    .dataframe tbody tr th {\n",
       "        vertical-align: top;\n",
       "    }\n",
       "\n",
       "    .dataframe thead th {\n",
       "        text-align: right;\n",
       "    }\n",
       "</style>\n",
       "<table border=\"1\" class=\"dataframe\">\n",
       "  <thead>\n",
       "    <tr style=\"text-align: right;\">\n",
       "      <th></th>\n",
       "      <th>class</th>\n",
       "      <th>x1</th>\n",
       "      <th>y1</th>\n",
       "      <th>z1</th>\n",
       "      <th>v1</th>\n",
       "      <th>x2</th>\n",
       "      <th>y2</th>\n",
       "      <th>z2</th>\n",
       "      <th>v2</th>\n",
       "      <th>x3</th>\n",
       "      <th>...</th>\n",
       "      <th>z499</th>\n",
       "      <th>v499</th>\n",
       "      <th>x500</th>\n",
       "      <th>y500</th>\n",
       "      <th>z500</th>\n",
       "      <th>v500</th>\n",
       "      <th>x501</th>\n",
       "      <th>y501</th>\n",
       "      <th>z501</th>\n",
       "      <th>v501</th>\n",
       "    </tr>\n",
       "  </thead>\n",
       "  <tbody>\n",
       "    <tr>\n",
       "      <th>0</th>\n",
       "      <td>Buuieeen</td>\n",
       "      <td>0.530443</td>\n",
       "      <td>0.256885</td>\n",
       "      <td>-0.653312</td>\n",
       "      <td>0.999986</td>\n",
       "      <td>0.559472</td>\n",
       "      <td>0.183092</td>\n",
       "      <td>-0.591619</td>\n",
       "      <td>0.999977</td>\n",
       "      <td>0.577272</td>\n",
       "      <td>...</td>\n",
       "      <td>0.003441</td>\n",
       "      <td>0.0</td>\n",
       "      <td>0.577638</td>\n",
       "      <td>0.191048</td>\n",
       "      <td>0.022638</td>\n",
       "      <td>0.0</td>\n",
       "      <td>0.582679</td>\n",
       "      <td>0.182326</td>\n",
       "      <td>0.023350</td>\n",
       "      <td>0.0</td>\n",
       "    </tr>\n",
       "    <tr>\n",
       "      <th>1</th>\n",
       "      <td>Bieeen</td>\n",
       "      <td>0.527919</td>\n",
       "      <td>0.270350</td>\n",
       "      <td>-0.671225</td>\n",
       "      <td>0.999984</td>\n",
       "      <td>0.555597</td>\n",
       "      <td>0.191837</td>\n",
       "      <td>-0.610291</td>\n",
       "      <td>0.999974</td>\n",
       "      <td>0.572588</td>\n",
       "      <td>...</td>\n",
       "      <td>0.000889</td>\n",
       "      <td>0.0</td>\n",
       "      <td>0.575438</td>\n",
       "      <td>0.192714</td>\n",
       "      <td>0.018138</td>\n",
       "      <td>0.0</td>\n",
       "      <td>0.580191</td>\n",
       "      <td>0.184997</td>\n",
       "      <td>0.018685</td>\n",
       "      <td>0.0</td>\n",
       "    </tr>\n",
       "    <tr>\n",
       "      <th>2</th>\n",
       "      <td>Bieeen</td>\n",
       "      <td>0.526927</td>\n",
       "      <td>0.269982</td>\n",
       "      <td>-0.686023</td>\n",
       "      <td>0.999982</td>\n",
       "      <td>0.554501</td>\n",
       "      <td>0.191207</td>\n",
       "      <td>-0.624949</td>\n",
       "      <td>0.999969</td>\n",
       "      <td>0.571297</td>\n",
       "      <td>...</td>\n",
       "      <td>0.002067</td>\n",
       "      <td>0.0</td>\n",
       "      <td>0.574890</td>\n",
       "      <td>0.188843</td>\n",
       "      <td>0.020768</td>\n",
       "      <td>0.0</td>\n",
       "      <td>0.579669</td>\n",
       "      <td>0.182104</td>\n",
       "      <td>0.021323</td>\n",
       "      <td>0.0</td>\n",
       "    </tr>\n",
       "    <tr>\n",
       "      <th>3</th>\n",
       "      <td>Bieeen</td>\n",
       "      <td>0.526678</td>\n",
       "      <td>0.269773</td>\n",
       "      <td>-0.686642</td>\n",
       "      <td>0.999981</td>\n",
       "      <td>0.554088</td>\n",
       "      <td>0.190821</td>\n",
       "      <td>-0.628925</td>\n",
       "      <td>0.999967</td>\n",
       "      <td>0.570879</td>\n",
       "      <td>...</td>\n",
       "      <td>0.002285</td>\n",
       "      <td>0.0</td>\n",
       "      <td>0.575821</td>\n",
       "      <td>0.186804</td>\n",
       "      <td>0.020908</td>\n",
       "      <td>0.0</td>\n",
       "      <td>0.580568</td>\n",
       "      <td>0.179891</td>\n",
       "      <td>0.021366</td>\n",
       "      <td>0.0</td>\n",
       "    </tr>\n",
       "    <tr>\n",
       "      <th>4</th>\n",
       "      <td>Bieeen</td>\n",
       "      <td>0.525802</td>\n",
       "      <td>0.269881</td>\n",
       "      <td>-0.776611</td>\n",
       "      <td>0.999976</td>\n",
       "      <td>0.552998</td>\n",
       "      <td>0.191072</td>\n",
       "      <td>-0.715791</td>\n",
       "      <td>0.999958</td>\n",
       "      <td>0.569570</td>\n",
       "      <td>...</td>\n",
       "      <td>0.001017</td>\n",
       "      <td>0.0</td>\n",
       "      <td>0.574593</td>\n",
       "      <td>0.188575</td>\n",
       "      <td>0.019574</td>\n",
       "      <td>0.0</td>\n",
       "      <td>0.579291</td>\n",
       "      <td>0.181415</td>\n",
       "      <td>0.020120</td>\n",
       "      <td>0.0</td>\n",
       "    </tr>\n",
       "  </tbody>\n",
       "</table>\n",
       "<p>5 rows × 2005 columns</p>\n",
       "</div>"
      ],
      "text/plain": [
       "      class        x1        y1        z1        v1        x2        y2  \\\n",
       "0  Buuieeen  0.530443  0.256885 -0.653312  0.999986  0.559472  0.183092   \n",
       "1    Bieeen  0.527919  0.270350 -0.671225  0.999984  0.555597  0.191837   \n",
       "2    Bieeen  0.526927  0.269982 -0.686023  0.999982  0.554501  0.191207   \n",
       "3    Bieeen  0.526678  0.269773 -0.686642  0.999981  0.554088  0.190821   \n",
       "4    Bieeen  0.525802  0.269881 -0.776611  0.999976  0.552998  0.191072   \n",
       "\n",
       "         z2        v2        x3  ...      z499  v499      x500      y500  \\\n",
       "0 -0.591619  0.999977  0.577272  ...  0.003441   0.0  0.577638  0.191048   \n",
       "1 -0.610291  0.999974  0.572588  ...  0.000889   0.0  0.575438  0.192714   \n",
       "2 -0.624949  0.999969  0.571297  ...  0.002067   0.0  0.574890  0.188843   \n",
       "3 -0.628925  0.999967  0.570879  ...  0.002285   0.0  0.575821  0.186804   \n",
       "4 -0.715791  0.999958  0.569570  ...  0.001017   0.0  0.574593  0.188575   \n",
       "\n",
       "       z500  v500      x501      y501      z501  v501  \n",
       "0  0.022638   0.0  0.582679  0.182326  0.023350   0.0  \n",
       "1  0.018138   0.0  0.580191  0.184997  0.018685   0.0  \n",
       "2  0.020768   0.0  0.579669  0.182104  0.021323   0.0  \n",
       "3  0.020908   0.0  0.580568  0.179891  0.021366   0.0  \n",
       "4  0.019574   0.0  0.579291  0.181415  0.020120   0.0  \n",
       "\n",
       "[5 rows x 2005 columns]"
      ]
     },
     "metadata": {},
     "output_type": "display_data"
    }
   ],
   "source": [
    "df.head()"
   ]
  },
  {
   "cell_type": "code",
   "execution_count": null,
   "metadata": {},
   "outputs": [
    {
     "data": {
      "text/html": [
       "<div>\n",
       "<style scoped>\n",
       "    .dataframe tbody tr th:only-of-type {\n",
       "        vertical-align: middle;\n",
       "    }\n",
       "\n",
       "    .dataframe tbody tr th {\n",
       "        vertical-align: top;\n",
       "    }\n",
       "\n",
       "    .dataframe thead th {\n",
       "        text-align: right;\n",
       "    }\n",
       "</style>\n",
       "<table border=\"1\" class=\"dataframe\">\n",
       "  <thead>\n",
       "    <tr style=\"text-align: right;\">\n",
       "      <th></th>\n",
       "      <th>class</th>\n",
       "      <th>x1</th>\n",
       "      <th>y1</th>\n",
       "      <th>z1</th>\n",
       "      <th>v1</th>\n",
       "      <th>x2</th>\n",
       "      <th>y2</th>\n",
       "      <th>z2</th>\n",
       "      <th>v2</th>\n",
       "      <th>x3</th>\n",
       "      <th>...</th>\n",
       "      <th>z499</th>\n",
       "      <th>v499</th>\n",
       "      <th>x500</th>\n",
       "      <th>y500</th>\n",
       "      <th>z500</th>\n",
       "      <th>v500</th>\n",
       "      <th>x501</th>\n",
       "      <th>y501</th>\n",
       "      <th>z501</th>\n",
       "      <th>v501</th>\n",
       "    </tr>\n",
       "  </thead>\n",
       "  <tbody>\n",
       "    <tr>\n",
       "      <th>542</th>\n",
       "      <td>Buuu que mal</td>\n",
       "      <td>0.561161</td>\n",
       "      <td>0.312676</td>\n",
       "      <td>-0.954139</td>\n",
       "      <td>0.999895</td>\n",
       "      <td>0.585262</td>\n",
       "      <td>0.240363</td>\n",
       "      <td>-0.879301</td>\n",
       "      <td>0.999777</td>\n",
       "      <td>0.600595</td>\n",
       "      <td>...</td>\n",
       "      <td>0.002703</td>\n",
       "      <td>0.0</td>\n",
       "      <td>0.612643</td>\n",
       "      <td>0.256506</td>\n",
       "      <td>0.021253</td>\n",
       "      <td>0.0</td>\n",
       "      <td>0.617767</td>\n",
       "      <td>0.247276</td>\n",
       "      <td>0.021986</td>\n",
       "      <td>0.0</td>\n",
       "    </tr>\n",
       "    <tr>\n",
       "      <th>543</th>\n",
       "      <td>Buuu que mal</td>\n",
       "      <td>0.561202</td>\n",
       "      <td>0.313547</td>\n",
       "      <td>-1.004511</td>\n",
       "      <td>0.999883</td>\n",
       "      <td>0.585302</td>\n",
       "      <td>0.240690</td>\n",
       "      <td>-0.925527</td>\n",
       "      <td>0.999742</td>\n",
       "      <td>0.600615</td>\n",
       "      <td>...</td>\n",
       "      <td>0.002702</td>\n",
       "      <td>0.0</td>\n",
       "      <td>0.616873</td>\n",
       "      <td>0.256113</td>\n",
       "      <td>0.021999</td>\n",
       "      <td>0.0</td>\n",
       "      <td>0.621815</td>\n",
       "      <td>0.247989</td>\n",
       "      <td>0.022703</td>\n",
       "      <td>0.0</td>\n",
       "    </tr>\n",
       "    <tr>\n",
       "      <th>544</th>\n",
       "      <td>Buuu que mal</td>\n",
       "      <td>0.564997</td>\n",
       "      <td>0.315829</td>\n",
       "      <td>-0.923724</td>\n",
       "      <td>0.999874</td>\n",
       "      <td>0.587699</td>\n",
       "      <td>0.241852</td>\n",
       "      <td>-0.852775</td>\n",
       "      <td>0.999715</td>\n",
       "      <td>0.603202</td>\n",
       "      <td>...</td>\n",
       "      <td>0.003340</td>\n",
       "      <td>0.0</td>\n",
       "      <td>0.620147</td>\n",
       "      <td>0.253019</td>\n",
       "      <td>0.022850</td>\n",
       "      <td>0.0</td>\n",
       "      <td>0.625026</td>\n",
       "      <td>0.244550</td>\n",
       "      <td>0.023674</td>\n",
       "      <td>0.0</td>\n",
       "    </tr>\n",
       "    <tr>\n",
       "      <th>545</th>\n",
       "      <td>Buuu que mal</td>\n",
       "      <td>0.570446</td>\n",
       "      <td>0.317763</td>\n",
       "      <td>-0.891257</td>\n",
       "      <td>0.999865</td>\n",
       "      <td>0.592185</td>\n",
       "      <td>0.243242</td>\n",
       "      <td>-0.811182</td>\n",
       "      <td>0.999696</td>\n",
       "      <td>0.608082</td>\n",
       "      <td>...</td>\n",
       "      <td>0.002278</td>\n",
       "      <td>0.0</td>\n",
       "      <td>0.621281</td>\n",
       "      <td>0.251643</td>\n",
       "      <td>0.021229</td>\n",
       "      <td>0.0</td>\n",
       "      <td>0.626135</td>\n",
       "      <td>0.244106</td>\n",
       "      <td>0.021871</td>\n",
       "      <td>0.0</td>\n",
       "    </tr>\n",
       "    <tr>\n",
       "      <th>546</th>\n",
       "      <td>Buuu que mal</td>\n",
       "      <td>0.573943</td>\n",
       "      <td>0.318654</td>\n",
       "      <td>-0.850759</td>\n",
       "      <td>0.999865</td>\n",
       "      <td>0.594787</td>\n",
       "      <td>0.243582</td>\n",
       "      <td>-0.771189</td>\n",
       "      <td>0.999693</td>\n",
       "      <td>0.610638</td>\n",
       "      <td>...</td>\n",
       "      <td>0.002614</td>\n",
       "      <td>0.0</td>\n",
       "      <td>0.622002</td>\n",
       "      <td>0.249436</td>\n",
       "      <td>0.022121</td>\n",
       "      <td>0.0</td>\n",
       "      <td>0.626846</td>\n",
       "      <td>0.241835</td>\n",
       "      <td>0.022813</td>\n",
       "      <td>0.0</td>\n",
       "    </tr>\n",
       "  </tbody>\n",
       "</table>\n",
       "<p>5 rows × 2005 columns</p>\n",
       "</div>"
      ],
      "text/plain": [
       "            class        x1        y1        z1        v1        x2        y2  \\\n",
       "542  Buuu que mal  0.561161  0.312676 -0.954139  0.999895  0.585262  0.240363   \n",
       "543  Buuu que mal  0.561202  0.313547 -1.004511  0.999883  0.585302  0.240690   \n",
       "544  Buuu que mal  0.564997  0.315829 -0.923724  0.999874  0.587699  0.241852   \n",
       "545  Buuu que mal  0.570446  0.317763 -0.891257  0.999865  0.592185  0.243242   \n",
       "546  Buuu que mal  0.573943  0.318654 -0.850759  0.999865  0.594787  0.243582   \n",
       "\n",
       "           z2        v2        x3  ...      z499  v499      x500      y500  \\\n",
       "542 -0.879301  0.999777  0.600595  ...  0.002703   0.0  0.612643  0.256506   \n",
       "543 -0.925527  0.999742  0.600615  ...  0.002702   0.0  0.616873  0.256113   \n",
       "544 -0.852775  0.999715  0.603202  ...  0.003340   0.0  0.620147  0.253019   \n",
       "545 -0.811182  0.999696  0.608082  ...  0.002278   0.0  0.621281  0.251643   \n",
       "546 -0.771189  0.999693  0.610638  ...  0.002614   0.0  0.622002  0.249436   \n",
       "\n",
       "         z500  v500      x501      y501      z501  v501  \n",
       "542  0.021253   0.0  0.617767  0.247276  0.021986   0.0  \n",
       "543  0.021999   0.0  0.621815  0.247989  0.022703   0.0  \n",
       "544  0.022850   0.0  0.625026  0.244550  0.023674   0.0  \n",
       "545  0.021229   0.0  0.626135  0.244106  0.021871   0.0  \n",
       "546  0.022121   0.0  0.626846  0.241835  0.022813   0.0  \n",
       "\n",
       "[5 rows x 2005 columns]"
      ]
     },
     "metadata": {},
     "output_type": "display_data"
    }
   ],
   "source": [
    "df.tail()"
   ]
  },
  {
   "cell_type": "code",
   "execution_count": null,
   "metadata": {},
   "outputs": [
    {
     "data": {
      "text/html": [
       "<div>\n",
       "<style scoped>\n",
       "    .dataframe tbody tr th:only-of-type {\n",
       "        vertical-align: middle;\n",
       "    }\n",
       "\n",
       "    .dataframe tbody tr th {\n",
       "        vertical-align: top;\n",
       "    }\n",
       "\n",
       "    .dataframe thead th {\n",
       "        text-align: right;\n",
       "    }\n",
       "</style>\n",
       "<table border=\"1\" class=\"dataframe\">\n",
       "  <thead>\n",
       "    <tr style=\"text-align: right;\">\n",
       "      <th></th>\n",
       "      <th>class</th>\n",
       "      <th>x1</th>\n",
       "      <th>y1</th>\n",
       "      <th>z1</th>\n",
       "      <th>v1</th>\n",
       "      <th>x2</th>\n",
       "      <th>y2</th>\n",
       "      <th>z2</th>\n",
       "      <th>v2</th>\n",
       "      <th>x3</th>\n",
       "      <th>...</th>\n",
       "      <th>z499</th>\n",
       "      <th>v499</th>\n",
       "      <th>x500</th>\n",
       "      <th>y500</th>\n",
       "      <th>z500</th>\n",
       "      <th>v500</th>\n",
       "      <th>x501</th>\n",
       "      <th>y501</th>\n",
       "      <th>z501</th>\n",
       "      <th>v501</th>\n",
       "    </tr>\n",
       "  </thead>\n",
       "  <tbody>\n",
       "    <tr>\n",
       "      <th>1</th>\n",
       "      <td>Bieeen</td>\n",
       "      <td>0.527919</td>\n",
       "      <td>0.270350</td>\n",
       "      <td>-0.671225</td>\n",
       "      <td>0.999984</td>\n",
       "      <td>0.555597</td>\n",
       "      <td>0.191837</td>\n",
       "      <td>-0.610291</td>\n",
       "      <td>0.999974</td>\n",
       "      <td>0.572588</td>\n",
       "      <td>...</td>\n",
       "      <td>0.000889</td>\n",
       "      <td>0.0</td>\n",
       "      <td>0.575438</td>\n",
       "      <td>0.192714</td>\n",
       "      <td>0.018138</td>\n",
       "      <td>0.0</td>\n",
       "      <td>0.580191</td>\n",
       "      <td>0.184997</td>\n",
       "      <td>0.018685</td>\n",
       "      <td>0.0</td>\n",
       "    </tr>\n",
       "    <tr>\n",
       "      <th>2</th>\n",
       "      <td>Bieeen</td>\n",
       "      <td>0.526927</td>\n",
       "      <td>0.269982</td>\n",
       "      <td>-0.686023</td>\n",
       "      <td>0.999982</td>\n",
       "      <td>0.554501</td>\n",
       "      <td>0.191207</td>\n",
       "      <td>-0.624949</td>\n",
       "      <td>0.999969</td>\n",
       "      <td>0.571297</td>\n",
       "      <td>...</td>\n",
       "      <td>0.002067</td>\n",
       "      <td>0.0</td>\n",
       "      <td>0.574890</td>\n",
       "      <td>0.188843</td>\n",
       "      <td>0.020768</td>\n",
       "      <td>0.0</td>\n",
       "      <td>0.579669</td>\n",
       "      <td>0.182104</td>\n",
       "      <td>0.021323</td>\n",
       "      <td>0.0</td>\n",
       "    </tr>\n",
       "    <tr>\n",
       "      <th>3</th>\n",
       "      <td>Bieeen</td>\n",
       "      <td>0.526678</td>\n",
       "      <td>0.269773</td>\n",
       "      <td>-0.686642</td>\n",
       "      <td>0.999981</td>\n",
       "      <td>0.554088</td>\n",
       "      <td>0.190821</td>\n",
       "      <td>-0.628925</td>\n",
       "      <td>0.999967</td>\n",
       "      <td>0.570879</td>\n",
       "      <td>...</td>\n",
       "      <td>0.002285</td>\n",
       "      <td>0.0</td>\n",
       "      <td>0.575821</td>\n",
       "      <td>0.186804</td>\n",
       "      <td>0.020908</td>\n",
       "      <td>0.0</td>\n",
       "      <td>0.580568</td>\n",
       "      <td>0.179891</td>\n",
       "      <td>0.021366</td>\n",
       "      <td>0.0</td>\n",
       "    </tr>\n",
       "    <tr>\n",
       "      <th>4</th>\n",
       "      <td>Bieeen</td>\n",
       "      <td>0.525802</td>\n",
       "      <td>0.269881</td>\n",
       "      <td>-0.776611</td>\n",
       "      <td>0.999976</td>\n",
       "      <td>0.552998</td>\n",
       "      <td>0.191072</td>\n",
       "      <td>-0.715791</td>\n",
       "      <td>0.999958</td>\n",
       "      <td>0.569570</td>\n",
       "      <td>...</td>\n",
       "      <td>0.001017</td>\n",
       "      <td>0.0</td>\n",
       "      <td>0.574593</td>\n",
       "      <td>0.188575</td>\n",
       "      <td>0.019574</td>\n",
       "      <td>0.0</td>\n",
       "      <td>0.579291</td>\n",
       "      <td>0.181415</td>\n",
       "      <td>0.020120</td>\n",
       "      <td>0.0</td>\n",
       "    </tr>\n",
       "    <tr>\n",
       "      <th>5</th>\n",
       "      <td>Bieeen</td>\n",
       "      <td>0.524074</td>\n",
       "      <td>0.269810</td>\n",
       "      <td>-0.796441</td>\n",
       "      <td>0.999970</td>\n",
       "      <td>0.551455</td>\n",
       "      <td>0.191224</td>\n",
       "      <td>-0.731950</td>\n",
       "      <td>0.999950</td>\n",
       "      <td>0.567993</td>\n",
       "      <td>...</td>\n",
       "      <td>0.003378</td>\n",
       "      <td>0.0</td>\n",
       "      <td>0.574250</td>\n",
       "      <td>0.191542</td>\n",
       "      <td>0.022691</td>\n",
       "      <td>0.0</td>\n",
       "      <td>0.579120</td>\n",
       "      <td>0.183588</td>\n",
       "      <td>0.023304</td>\n",
       "      <td>0.0</td>\n",
       "    </tr>\n",
       "    <tr>\n",
       "      <th>...</th>\n",
       "      <td>...</td>\n",
       "      <td>...</td>\n",
       "      <td>...</td>\n",
       "      <td>...</td>\n",
       "      <td>...</td>\n",
       "      <td>...</td>\n",
       "      <td>...</td>\n",
       "      <td>...</td>\n",
       "      <td>...</td>\n",
       "      <td>...</td>\n",
       "      <td>...</td>\n",
       "      <td>...</td>\n",
       "      <td>...</td>\n",
       "      <td>...</td>\n",
       "      <td>...</td>\n",
       "      <td>...</td>\n",
       "      <td>...</td>\n",
       "      <td>...</td>\n",
       "      <td>...</td>\n",
       "      <td>...</td>\n",
       "      <td>...</td>\n",
       "    </tr>\n",
       "    <tr>\n",
       "      <th>332</th>\n",
       "      <td>Bieeen</td>\n",
       "      <td>0.502346</td>\n",
       "      <td>0.364458</td>\n",
       "      <td>-0.711878</td>\n",
       "      <td>0.999970</td>\n",
       "      <td>0.523844</td>\n",
       "      <td>0.285156</td>\n",
       "      <td>-0.645986</td>\n",
       "      <td>0.999950</td>\n",
       "      <td>0.538261</td>\n",
       "      <td>...</td>\n",
       "      <td>0.000084</td>\n",
       "      <td>0.0</td>\n",
       "      <td>0.568144</td>\n",
       "      <td>0.287267</td>\n",
       "      <td>0.020360</td>\n",
       "      <td>0.0</td>\n",
       "      <td>0.573151</td>\n",
       "      <td>0.280079</td>\n",
       "      <td>0.021128</td>\n",
       "      <td>0.0</td>\n",
       "    </tr>\n",
       "    <tr>\n",
       "      <th>333</th>\n",
       "      <td>Bieeen</td>\n",
       "      <td>0.504117</td>\n",
       "      <td>0.367366</td>\n",
       "      <td>-0.690439</td>\n",
       "      <td>0.999969</td>\n",
       "      <td>0.525992</td>\n",
       "      <td>0.288800</td>\n",
       "      <td>-0.626301</td>\n",
       "      <td>0.999947</td>\n",
       "      <td>0.540995</td>\n",
       "      <td>...</td>\n",
       "      <td>0.000711</td>\n",
       "      <td>0.0</td>\n",
       "      <td>0.572651</td>\n",
       "      <td>0.290650</td>\n",
       "      <td>0.022053</td>\n",
       "      <td>0.0</td>\n",
       "      <td>0.578006</td>\n",
       "      <td>0.282941</td>\n",
       "      <td>0.022980</td>\n",
       "      <td>0.0</td>\n",
       "    </tr>\n",
       "    <tr>\n",
       "      <th>334</th>\n",
       "      <td>Bieeen</td>\n",
       "      <td>0.504405</td>\n",
       "      <td>0.366832</td>\n",
       "      <td>-0.775375</td>\n",
       "      <td>0.999964</td>\n",
       "      <td>0.526557</td>\n",
       "      <td>0.287651</td>\n",
       "      <td>-0.712337</td>\n",
       "      <td>0.999936</td>\n",
       "      <td>0.541663</td>\n",
       "      <td>...</td>\n",
       "      <td>0.001722</td>\n",
       "      <td>0.0</td>\n",
       "      <td>0.570707</td>\n",
       "      <td>0.279155</td>\n",
       "      <td>0.022135</td>\n",
       "      <td>0.0</td>\n",
       "      <td>0.576245</td>\n",
       "      <td>0.269708</td>\n",
       "      <td>0.023198</td>\n",
       "      <td>0.0</td>\n",
       "    </tr>\n",
       "    <tr>\n",
       "      <th>335</th>\n",
       "      <td>Bieeen</td>\n",
       "      <td>0.504425</td>\n",
       "      <td>0.360905</td>\n",
       "      <td>-0.769675</td>\n",
       "      <td>0.999963</td>\n",
       "      <td>0.527333</td>\n",
       "      <td>0.283022</td>\n",
       "      <td>-0.703782</td>\n",
       "      <td>0.999935</td>\n",
       "      <td>0.542733</td>\n",
       "      <td>...</td>\n",
       "      <td>0.000002</td>\n",
       "      <td>0.0</td>\n",
       "      <td>0.569716</td>\n",
       "      <td>0.265240</td>\n",
       "      <td>0.020307</td>\n",
       "      <td>0.0</td>\n",
       "      <td>0.575013</td>\n",
       "      <td>0.256650</td>\n",
       "      <td>0.021239</td>\n",
       "      <td>0.0</td>\n",
       "    </tr>\n",
       "    <tr>\n",
       "      <th>336</th>\n",
       "      <td>Bieeen</td>\n",
       "      <td>0.504749</td>\n",
       "      <td>0.358122</td>\n",
       "      <td>-0.785410</td>\n",
       "      <td>0.999960</td>\n",
       "      <td>0.528486</td>\n",
       "      <td>0.281024</td>\n",
       "      <td>-0.717480</td>\n",
       "      <td>0.999927</td>\n",
       "      <td>0.543921</td>\n",
       "      <td>...</td>\n",
       "      <td>-0.001100</td>\n",
       "      <td>0.0</td>\n",
       "      <td>0.568778</td>\n",
       "      <td>0.259204</td>\n",
       "      <td>0.019351</td>\n",
       "      <td>0.0</td>\n",
       "      <td>0.573868</td>\n",
       "      <td>0.252160</td>\n",
       "      <td>0.020115</td>\n",
       "      <td>0.0</td>\n",
       "    </tr>\n",
       "  </tbody>\n",
       "</table>\n",
       "<p>336 rows × 2005 columns</p>\n",
       "</div>"
      ],
      "text/plain": [
       "      class        x1        y1        z1        v1        x2        y2  \\\n",
       "1    Bieeen  0.527919  0.270350 -0.671225  0.999984  0.555597  0.191837   \n",
       "2    Bieeen  0.526927  0.269982 -0.686023  0.999982  0.554501  0.191207   \n",
       "3    Bieeen  0.526678  0.269773 -0.686642  0.999981  0.554088  0.190821   \n",
       "4    Bieeen  0.525802  0.269881 -0.776611  0.999976  0.552998  0.191072   \n",
       "5    Bieeen  0.524074  0.269810 -0.796441  0.999970  0.551455  0.191224   \n",
       "..      ...       ...       ...       ...       ...       ...       ...   \n",
       "332  Bieeen  0.502346  0.364458 -0.711878  0.999970  0.523844  0.285156   \n",
       "333  Bieeen  0.504117  0.367366 -0.690439  0.999969  0.525992  0.288800   \n",
       "334  Bieeen  0.504405  0.366832 -0.775375  0.999964  0.526557  0.287651   \n",
       "335  Bieeen  0.504425  0.360905 -0.769675  0.999963  0.527333  0.283022   \n",
       "336  Bieeen  0.504749  0.358122 -0.785410  0.999960  0.528486  0.281024   \n",
       "\n",
       "           z2        v2        x3  ...      z499  v499      x500      y500  \\\n",
       "1   -0.610291  0.999974  0.572588  ...  0.000889   0.0  0.575438  0.192714   \n",
       "2   -0.624949  0.999969  0.571297  ...  0.002067   0.0  0.574890  0.188843   \n",
       "3   -0.628925  0.999967  0.570879  ...  0.002285   0.0  0.575821  0.186804   \n",
       "4   -0.715791  0.999958  0.569570  ...  0.001017   0.0  0.574593  0.188575   \n",
       "5   -0.731950  0.999950  0.567993  ...  0.003378   0.0  0.574250  0.191542   \n",
       "..        ...       ...       ...  ...       ...   ...       ...       ...   \n",
       "332 -0.645986  0.999950  0.538261  ...  0.000084   0.0  0.568144  0.287267   \n",
       "333 -0.626301  0.999947  0.540995  ...  0.000711   0.0  0.572651  0.290650   \n",
       "334 -0.712337  0.999936  0.541663  ...  0.001722   0.0  0.570707  0.279155   \n",
       "335 -0.703782  0.999935  0.542733  ...  0.000002   0.0  0.569716  0.265240   \n",
       "336 -0.717480  0.999927  0.543921  ... -0.001100   0.0  0.568778  0.259204   \n",
       "\n",
       "         z500  v500      x501      y501      z501  v501  \n",
       "1    0.018138   0.0  0.580191  0.184997  0.018685   0.0  \n",
       "2    0.020768   0.0  0.579669  0.182104  0.021323   0.0  \n",
       "3    0.020908   0.0  0.580568  0.179891  0.021366   0.0  \n",
       "4    0.019574   0.0  0.579291  0.181415  0.020120   0.0  \n",
       "5    0.022691   0.0  0.579120  0.183588  0.023304   0.0  \n",
       "..        ...   ...       ...       ...       ...   ...  \n",
       "332  0.020360   0.0  0.573151  0.280079  0.021128   0.0  \n",
       "333  0.022053   0.0  0.578006  0.282941  0.022980   0.0  \n",
       "334  0.022135   0.0  0.576245  0.269708  0.023198   0.0  \n",
       "335  0.020307   0.0  0.575013  0.256650  0.021239   0.0  \n",
       "336  0.019351   0.0  0.573868  0.252160  0.020115   0.0  \n",
       "\n",
       "[336 rows x 2005 columns]"
      ]
     },
     "metadata": {},
     "output_type": "display_data"
    }
   ],
   "source": [
    "df[df['class']=='Bieeen']"
   ]
  },
  {
   "cell_type": "markdown",
   "metadata": {},
   "source": [
    "x, y, z son las caracteristicas que le pasaremos al modelo para entrenarlo.\n",
    "La idea es que se pasen esas coordenadas y el modelo pueda predecir que clase es (pose)"
   ]
  },
  {
   "cell_type": "code",
   "execution_count": null,
   "metadata": {},
   "outputs": [],
   "source": [
    "X = df.drop('class', axis=1) # coordenadas\n",
    "y = df['class'] # clase"
   ]
  },
  {
   "cell_type": "code",
   "execution_count": null,
   "metadata": {},
   "outputs": [
    {
     "data": {
      "text/plain": [
       "0          Buuieeen\n",
       "1            Bieeen\n",
       "2            Bieeen\n",
       "3            Bieeen\n",
       "4            Bieeen\n",
       "           ...     \n",
       "542    Buuu que mal\n",
       "543    Buuu que mal\n",
       "544    Buuu que mal\n",
       "545    Buuu que mal\n",
       "546    Buuu que mal\n",
       "Name: class, Length: 547, dtype: object"
      ]
     },
     "metadata": {},
     "output_type": "display_data"
    }
   ],
   "source": [
    "y #X = coords , y = class"
   ]
  },
  {
   "cell_type": "code",
   "execution_count": null,
   "metadata": {},
   "outputs": [],
   "source": [
    "X_train, X_test, y_train, y_test = train_test_split(X, y, test_size=0.3, random_state=1234)"
   ]
  },
  {
   "cell_type": "code",
   "execution_count": null,
   "metadata": {},
   "outputs": [
    {
     "data": {
      "text/html": [
       "<div>\n",
       "<style scoped>\n",
       "    .dataframe tbody tr th:only-of-type {\n",
       "        vertical-align: middle;\n",
       "    }\n",
       "\n",
       "    .dataframe tbody tr th {\n",
       "        vertical-align: top;\n",
       "    }\n",
       "\n",
       "    .dataframe thead th {\n",
       "        text-align: right;\n",
       "    }\n",
       "</style>\n",
       "<table border=\"1\" class=\"dataframe\">\n",
       "  <thead>\n",
       "    <tr style=\"text-align: right;\">\n",
       "      <th></th>\n",
       "      <th>x1</th>\n",
       "      <th>y1</th>\n",
       "      <th>z1</th>\n",
       "      <th>v1</th>\n",
       "      <th>x2</th>\n",
       "      <th>y2</th>\n",
       "      <th>z2</th>\n",
       "      <th>v2</th>\n",
       "      <th>x3</th>\n",
       "      <th>y3</th>\n",
       "      <th>...</th>\n",
       "      <th>z499</th>\n",
       "      <th>v499</th>\n",
       "      <th>x500</th>\n",
       "      <th>y500</th>\n",
       "      <th>z500</th>\n",
       "      <th>v500</th>\n",
       "      <th>x501</th>\n",
       "      <th>y501</th>\n",
       "      <th>z501</th>\n",
       "      <th>v501</th>\n",
       "    </tr>\n",
       "  </thead>\n",
       "  <tbody>\n",
       "    <tr>\n",
       "      <th>444</th>\n",
       "      <td>0.607627</td>\n",
       "      <td>0.331788</td>\n",
       "      <td>-0.786915</td>\n",
       "      <td>0.999879</td>\n",
       "      <td>0.629459</td>\n",
       "      <td>0.266417</td>\n",
       "      <td>-0.717988</td>\n",
       "      <td>0.999843</td>\n",
       "      <td>0.644549</td>\n",
       "      <td>0.268743</td>\n",
       "      <td>...</td>\n",
       "      <td>0.001988</td>\n",
       "      <td>0.0</td>\n",
       "      <td>0.665968</td>\n",
       "      <td>0.260837</td>\n",
       "      <td>0.021296</td>\n",
       "      <td>0.0</td>\n",
       "      <td>0.670673</td>\n",
       "      <td>0.253972</td>\n",
       "      <td>0.021934</td>\n",
       "      <td>0.0</td>\n",
       "    </tr>\n",
       "    <tr>\n",
       "      <th>480</th>\n",
       "      <td>0.561522</td>\n",
       "      <td>0.337758</td>\n",
       "      <td>-0.722480</td>\n",
       "      <td>0.999941</td>\n",
       "      <td>0.583754</td>\n",
       "      <td>0.270509</td>\n",
       "      <td>-0.622497</td>\n",
       "      <td>0.999925</td>\n",
       "      <td>0.598792</td>\n",
       "      <td>0.271359</td>\n",
       "      <td>...</td>\n",
       "      <td>0.004055</td>\n",
       "      <td>0.0</td>\n",
       "      <td>0.608456</td>\n",
       "      <td>0.254144</td>\n",
       "      <td>0.021859</td>\n",
       "      <td>0.0</td>\n",
       "      <td>0.613111</td>\n",
       "      <td>0.245462</td>\n",
       "      <td>0.022605</td>\n",
       "      <td>0.0</td>\n",
       "    </tr>\n",
       "    <tr>\n",
       "      <th>134</th>\n",
       "      <td>0.505146</td>\n",
       "      <td>0.288510</td>\n",
       "      <td>-0.693865</td>\n",
       "      <td>0.999984</td>\n",
       "      <td>0.529100</td>\n",
       "      <td>0.220908</td>\n",
       "      <td>-0.624870</td>\n",
       "      <td>0.999972</td>\n",
       "      <td>0.543936</td>\n",
       "      <td>0.223276</td>\n",
       "      <td>...</td>\n",
       "      <td>0.002321</td>\n",
       "      <td>0.0</td>\n",
       "      <td>0.554203</td>\n",
       "      <td>0.209690</td>\n",
       "      <td>0.022227</td>\n",
       "      <td>0.0</td>\n",
       "      <td>0.558938</td>\n",
       "      <td>0.202911</td>\n",
       "      <td>0.022755</td>\n",
       "      <td>0.0</td>\n",
       "    </tr>\n",
       "    <tr>\n",
       "      <th>93</th>\n",
       "      <td>0.512465</td>\n",
       "      <td>0.361475</td>\n",
       "      <td>-0.661181</td>\n",
       "      <td>0.999947</td>\n",
       "      <td>0.533841</td>\n",
       "      <td>0.292627</td>\n",
       "      <td>-0.601996</td>\n",
       "      <td>0.999917</td>\n",
       "      <td>0.547602</td>\n",
       "      <td>0.292967</td>\n",
       "      <td>...</td>\n",
       "      <td>0.001359</td>\n",
       "      <td>0.0</td>\n",
       "      <td>0.565009</td>\n",
       "      <td>0.273539</td>\n",
       "      <td>0.020338</td>\n",
       "      <td>0.0</td>\n",
       "      <td>0.569777</td>\n",
       "      <td>0.266539</td>\n",
       "      <td>0.020884</td>\n",
       "      <td>0.0</td>\n",
       "    </tr>\n",
       "    <tr>\n",
       "      <th>363</th>\n",
       "      <td>0.538592</td>\n",
       "      <td>0.274794</td>\n",
       "      <td>-0.750494</td>\n",
       "      <td>0.999549</td>\n",
       "      <td>0.565521</td>\n",
       "      <td>0.204791</td>\n",
       "      <td>-0.675919</td>\n",
       "      <td>0.999103</td>\n",
       "      <td>0.580280</td>\n",
       "      <td>0.206831</td>\n",
       "      <td>...</td>\n",
       "      <td>0.004653</td>\n",
       "      <td>0.0</td>\n",
       "      <td>0.594222</td>\n",
       "      <td>0.208484</td>\n",
       "      <td>0.024701</td>\n",
       "      <td>0.0</td>\n",
       "      <td>0.599227</td>\n",
       "      <td>0.200359</td>\n",
       "      <td>0.025415</td>\n",
       "      <td>0.0</td>\n",
       "    </tr>\n",
       "    <tr>\n",
       "      <th>...</th>\n",
       "      <td>...</td>\n",
       "      <td>...</td>\n",
       "      <td>...</td>\n",
       "      <td>...</td>\n",
       "      <td>...</td>\n",
       "      <td>...</td>\n",
       "      <td>...</td>\n",
       "      <td>...</td>\n",
       "      <td>...</td>\n",
       "      <td>...</td>\n",
       "      <td>...</td>\n",
       "      <td>...</td>\n",
       "      <td>...</td>\n",
       "      <td>...</td>\n",
       "      <td>...</td>\n",
       "      <td>...</td>\n",
       "      <td>...</td>\n",
       "      <td>...</td>\n",
       "      <td>...</td>\n",
       "      <td>...</td>\n",
       "      <td>...</td>\n",
       "    </tr>\n",
       "    <tr>\n",
       "      <th>279</th>\n",
       "      <td>0.488968</td>\n",
       "      <td>0.363467</td>\n",
       "      <td>-0.626467</td>\n",
       "      <td>0.999947</td>\n",
       "      <td>0.515220</td>\n",
       "      <td>0.283686</td>\n",
       "      <td>-0.562118</td>\n",
       "      <td>0.999918</td>\n",
       "      <td>0.531321</td>\n",
       "      <td>0.281666</td>\n",
       "      <td>...</td>\n",
       "      <td>-0.002455</td>\n",
       "      <td>0.0</td>\n",
       "      <td>0.550067</td>\n",
       "      <td>0.273457</td>\n",
       "      <td>0.016614</td>\n",
       "      <td>0.0</td>\n",
       "      <td>0.555085</td>\n",
       "      <td>0.266556</td>\n",
       "      <td>0.017167</td>\n",
       "      <td>0.0</td>\n",
       "    </tr>\n",
       "    <tr>\n",
       "      <th>372</th>\n",
       "      <td>0.553317</td>\n",
       "      <td>0.296857</td>\n",
       "      <td>-0.723984</td>\n",
       "      <td>0.999655</td>\n",
       "      <td>0.575554</td>\n",
       "      <td>0.220616</td>\n",
       "      <td>-0.667189</td>\n",
       "      <td>0.999247</td>\n",
       "      <td>0.591970</td>\n",
       "      <td>0.219673</td>\n",
       "      <td>...</td>\n",
       "      <td>0.003934</td>\n",
       "      <td>0.0</td>\n",
       "      <td>0.607926</td>\n",
       "      <td>0.218048</td>\n",
       "      <td>0.023417</td>\n",
       "      <td>0.0</td>\n",
       "      <td>0.612781</td>\n",
       "      <td>0.210321</td>\n",
       "      <td>0.024091</td>\n",
       "      <td>0.0</td>\n",
       "    </tr>\n",
       "    <tr>\n",
       "      <th>204</th>\n",
       "      <td>0.480797</td>\n",
       "      <td>0.354897</td>\n",
       "      <td>-0.773540</td>\n",
       "      <td>0.999975</td>\n",
       "      <td>0.500139</td>\n",
       "      <td>0.278386</td>\n",
       "      <td>-0.703254</td>\n",
       "      <td>0.999961</td>\n",
       "      <td>0.516196</td>\n",
       "      <td>0.275988</td>\n",
       "      <td>...</td>\n",
       "      <td>0.001624</td>\n",
       "      <td>0.0</td>\n",
       "      <td>0.530649</td>\n",
       "      <td>0.266843</td>\n",
       "      <td>0.021341</td>\n",
       "      <td>0.0</td>\n",
       "      <td>0.535038</td>\n",
       "      <td>0.260296</td>\n",
       "      <td>0.022014</td>\n",
       "      <td>0.0</td>\n",
       "    </tr>\n",
       "    <tr>\n",
       "      <th>53</th>\n",
       "      <td>0.520480</td>\n",
       "      <td>0.353810</td>\n",
       "      <td>-0.560121</td>\n",
       "      <td>0.999949</td>\n",
       "      <td>0.541462</td>\n",
       "      <td>0.283457</td>\n",
       "      <td>-0.492140</td>\n",
       "      <td>0.999928</td>\n",
       "      <td>0.554404</td>\n",
       "      <td>0.284279</td>\n",
       "      <td>...</td>\n",
       "      <td>0.002891</td>\n",
       "      <td>0.0</td>\n",
       "      <td>0.569414</td>\n",
       "      <td>0.277148</td>\n",
       "      <td>0.022025</td>\n",
       "      <td>0.0</td>\n",
       "      <td>0.574226</td>\n",
       "      <td>0.270020</td>\n",
       "      <td>0.022672</td>\n",
       "      <td>0.0</td>\n",
       "    </tr>\n",
       "    <tr>\n",
       "      <th>294</th>\n",
       "      <td>0.497812</td>\n",
       "      <td>0.356935</td>\n",
       "      <td>-0.593829</td>\n",
       "      <td>0.999959</td>\n",
       "      <td>0.522068</td>\n",
       "      <td>0.279929</td>\n",
       "      <td>-0.523389</td>\n",
       "      <td>0.999932</td>\n",
       "      <td>0.536551</td>\n",
       "      <td>0.278835</td>\n",
       "      <td>...</td>\n",
       "      <td>-0.002423</td>\n",
       "      <td>0.0</td>\n",
       "      <td>0.552853</td>\n",
       "      <td>0.275002</td>\n",
       "      <td>0.016064</td>\n",
       "      <td>0.0</td>\n",
       "      <td>0.557846</td>\n",
       "      <td>0.268267</td>\n",
       "      <td>0.016600</td>\n",
       "      <td>0.0</td>\n",
       "    </tr>\n",
       "  </tbody>\n",
       "</table>\n",
       "<p>382 rows × 2004 columns</p>\n",
       "</div>"
      ],
      "text/plain": [
       "           x1        y1        z1        v1        x2        y2        z2  \\\n",
       "444  0.607627  0.331788 -0.786915  0.999879  0.629459  0.266417 -0.717988   \n",
       "480  0.561522  0.337758 -0.722480  0.999941  0.583754  0.270509 -0.622497   \n",
       "134  0.505146  0.288510 -0.693865  0.999984  0.529100  0.220908 -0.624870   \n",
       "93   0.512465  0.361475 -0.661181  0.999947  0.533841  0.292627 -0.601996   \n",
       "363  0.538592  0.274794 -0.750494  0.999549  0.565521  0.204791 -0.675919   \n",
       "..        ...       ...       ...       ...       ...       ...       ...   \n",
       "279  0.488968  0.363467 -0.626467  0.999947  0.515220  0.283686 -0.562118   \n",
       "372  0.553317  0.296857 -0.723984  0.999655  0.575554  0.220616 -0.667189   \n",
       "204  0.480797  0.354897 -0.773540  0.999975  0.500139  0.278386 -0.703254   \n",
       "53   0.520480  0.353810 -0.560121  0.999949  0.541462  0.283457 -0.492140   \n",
       "294  0.497812  0.356935 -0.593829  0.999959  0.522068  0.279929 -0.523389   \n",
       "\n",
       "           v2        x3        y3  ...      z499  v499      x500      y500  \\\n",
       "444  0.999843  0.644549  0.268743  ...  0.001988   0.0  0.665968  0.260837   \n",
       "480  0.999925  0.598792  0.271359  ...  0.004055   0.0  0.608456  0.254144   \n",
       "134  0.999972  0.543936  0.223276  ...  0.002321   0.0  0.554203  0.209690   \n",
       "93   0.999917  0.547602  0.292967  ...  0.001359   0.0  0.565009  0.273539   \n",
       "363  0.999103  0.580280  0.206831  ...  0.004653   0.0  0.594222  0.208484   \n",
       "..        ...       ...       ...  ...       ...   ...       ...       ...   \n",
       "279  0.999918  0.531321  0.281666  ... -0.002455   0.0  0.550067  0.273457   \n",
       "372  0.999247  0.591970  0.219673  ...  0.003934   0.0  0.607926  0.218048   \n",
       "204  0.999961  0.516196  0.275988  ...  0.001624   0.0  0.530649  0.266843   \n",
       "53   0.999928  0.554404  0.284279  ...  0.002891   0.0  0.569414  0.277148   \n",
       "294  0.999932  0.536551  0.278835  ... -0.002423   0.0  0.552853  0.275002   \n",
       "\n",
       "         z500  v500      x501      y501      z501  v501  \n",
       "444  0.021296   0.0  0.670673  0.253972  0.021934   0.0  \n",
       "480  0.021859   0.0  0.613111  0.245462  0.022605   0.0  \n",
       "134  0.022227   0.0  0.558938  0.202911  0.022755   0.0  \n",
       "93   0.020338   0.0  0.569777  0.266539  0.020884   0.0  \n",
       "363  0.024701   0.0  0.599227  0.200359  0.025415   0.0  \n",
       "..        ...   ...       ...       ...       ...   ...  \n",
       "279  0.016614   0.0  0.555085  0.266556  0.017167   0.0  \n",
       "372  0.023417   0.0  0.612781  0.210321  0.024091   0.0  \n",
       "204  0.021341   0.0  0.535038  0.260296  0.022014   0.0  \n",
       "53   0.022025   0.0  0.574226  0.270020  0.022672   0.0  \n",
       "294  0.016064   0.0  0.557846  0.268267  0.016600   0.0  \n",
       "\n",
       "[382 rows x 2004 columns]"
      ]
     },
     "metadata": {},
     "output_type": "display_data"
    }
   ],
   "source": [
    "X_train"
   ]
  },
  {
   "cell_type": "code",
   "execution_count": null,
   "metadata": {},
   "outputs": [
    {
     "data": {
      "text/html": [
       "<div>\n",
       "<style scoped>\n",
       "    .dataframe tbody tr th:only-of-type {\n",
       "        vertical-align: middle;\n",
       "    }\n",
       "\n",
       "    .dataframe tbody tr th {\n",
       "        vertical-align: top;\n",
       "    }\n",
       "\n",
       "    .dataframe thead th {\n",
       "        text-align: right;\n",
       "    }\n",
       "</style>\n",
       "<table border=\"1\" class=\"dataframe\">\n",
       "  <thead>\n",
       "    <tr style=\"text-align: right;\">\n",
       "      <th></th>\n",
       "      <th>class</th>\n",
       "      <th>x1</th>\n",
       "      <th>y1</th>\n",
       "      <th>z1</th>\n",
       "      <th>v1</th>\n",
       "      <th>x2</th>\n",
       "      <th>y2</th>\n",
       "      <th>z2</th>\n",
       "      <th>v2</th>\n",
       "      <th>x3</th>\n",
       "      <th>...</th>\n",
       "      <th>z499</th>\n",
       "      <th>v499</th>\n",
       "      <th>x500</th>\n",
       "      <th>y500</th>\n",
       "      <th>z500</th>\n",
       "      <th>v500</th>\n",
       "      <th>x501</th>\n",
       "      <th>y501</th>\n",
       "      <th>z501</th>\n",
       "      <th>v501</th>\n",
       "    </tr>\n",
       "  </thead>\n",
       "  <tbody>\n",
       "    <tr>\n",
       "      <th>0</th>\n",
       "      <td>Buuieeen</td>\n",
       "      <td>0.530443</td>\n",
       "      <td>0.256885</td>\n",
       "      <td>-0.653312</td>\n",
       "      <td>0.999986</td>\n",
       "      <td>0.559472</td>\n",
       "      <td>0.183092</td>\n",
       "      <td>-0.591619</td>\n",
       "      <td>0.999977</td>\n",
       "      <td>0.577272</td>\n",
       "      <td>...</td>\n",
       "      <td>0.003441</td>\n",
       "      <td>0.0</td>\n",
       "      <td>0.577638</td>\n",
       "      <td>0.191048</td>\n",
       "      <td>0.022638</td>\n",
       "      <td>0.0</td>\n",
       "      <td>0.582679</td>\n",
       "      <td>0.182326</td>\n",
       "      <td>0.023350</td>\n",
       "      <td>0.0</td>\n",
       "    </tr>\n",
       "    <tr>\n",
       "      <th>1</th>\n",
       "      <td>Bieeen</td>\n",
       "      <td>0.527919</td>\n",
       "      <td>0.270350</td>\n",
       "      <td>-0.671225</td>\n",
       "      <td>0.999984</td>\n",
       "      <td>0.555597</td>\n",
       "      <td>0.191837</td>\n",
       "      <td>-0.610291</td>\n",
       "      <td>0.999974</td>\n",
       "      <td>0.572588</td>\n",
       "      <td>...</td>\n",
       "      <td>0.000889</td>\n",
       "      <td>0.0</td>\n",
       "      <td>0.575438</td>\n",
       "      <td>0.192714</td>\n",
       "      <td>0.018138</td>\n",
       "      <td>0.0</td>\n",
       "      <td>0.580191</td>\n",
       "      <td>0.184997</td>\n",
       "      <td>0.018685</td>\n",
       "      <td>0.0</td>\n",
       "    </tr>\n",
       "    <tr>\n",
       "      <th>2</th>\n",
       "      <td>Bieeen</td>\n",
       "      <td>0.526927</td>\n",
       "      <td>0.269982</td>\n",
       "      <td>-0.686023</td>\n",
       "      <td>0.999982</td>\n",
       "      <td>0.554501</td>\n",
       "      <td>0.191207</td>\n",
       "      <td>-0.624949</td>\n",
       "      <td>0.999969</td>\n",
       "      <td>0.571297</td>\n",
       "      <td>...</td>\n",
       "      <td>0.002067</td>\n",
       "      <td>0.0</td>\n",
       "      <td>0.574890</td>\n",
       "      <td>0.188843</td>\n",
       "      <td>0.020768</td>\n",
       "      <td>0.0</td>\n",
       "      <td>0.579669</td>\n",
       "      <td>0.182104</td>\n",
       "      <td>0.021323</td>\n",
       "      <td>0.0</td>\n",
       "    </tr>\n",
       "    <tr>\n",
       "      <th>3</th>\n",
       "      <td>Bieeen</td>\n",
       "      <td>0.526678</td>\n",
       "      <td>0.269773</td>\n",
       "      <td>-0.686642</td>\n",
       "      <td>0.999981</td>\n",
       "      <td>0.554088</td>\n",
       "      <td>0.190821</td>\n",
       "      <td>-0.628925</td>\n",
       "      <td>0.999967</td>\n",
       "      <td>0.570879</td>\n",
       "      <td>...</td>\n",
       "      <td>0.002285</td>\n",
       "      <td>0.0</td>\n",
       "      <td>0.575821</td>\n",
       "      <td>0.186804</td>\n",
       "      <td>0.020908</td>\n",
       "      <td>0.0</td>\n",
       "      <td>0.580568</td>\n",
       "      <td>0.179891</td>\n",
       "      <td>0.021366</td>\n",
       "      <td>0.0</td>\n",
       "    </tr>\n",
       "    <tr>\n",
       "      <th>4</th>\n",
       "      <td>Bieeen</td>\n",
       "      <td>0.525802</td>\n",
       "      <td>0.269881</td>\n",
       "      <td>-0.776611</td>\n",
       "      <td>0.999976</td>\n",
       "      <td>0.552998</td>\n",
       "      <td>0.191072</td>\n",
       "      <td>-0.715791</td>\n",
       "      <td>0.999958</td>\n",
       "      <td>0.569570</td>\n",
       "      <td>...</td>\n",
       "      <td>0.001017</td>\n",
       "      <td>0.0</td>\n",
       "      <td>0.574593</td>\n",
       "      <td>0.188575</td>\n",
       "      <td>0.019574</td>\n",
       "      <td>0.0</td>\n",
       "      <td>0.579291</td>\n",
       "      <td>0.181415</td>\n",
       "      <td>0.020120</td>\n",
       "      <td>0.0</td>\n",
       "    </tr>\n",
       "    <tr>\n",
       "      <th>...</th>\n",
       "      <td>...</td>\n",
       "      <td>...</td>\n",
       "      <td>...</td>\n",
       "      <td>...</td>\n",
       "      <td>...</td>\n",
       "      <td>...</td>\n",
       "      <td>...</td>\n",
       "      <td>...</td>\n",
       "      <td>...</td>\n",
       "      <td>...</td>\n",
       "      <td>...</td>\n",
       "      <td>...</td>\n",
       "      <td>...</td>\n",
       "      <td>...</td>\n",
       "      <td>...</td>\n",
       "      <td>...</td>\n",
       "      <td>...</td>\n",
       "      <td>...</td>\n",
       "      <td>...</td>\n",
       "      <td>...</td>\n",
       "      <td>...</td>\n",
       "    </tr>\n",
       "    <tr>\n",
       "      <th>542</th>\n",
       "      <td>Buuu que mal</td>\n",
       "      <td>0.561161</td>\n",
       "      <td>0.312676</td>\n",
       "      <td>-0.954139</td>\n",
       "      <td>0.999895</td>\n",
       "      <td>0.585262</td>\n",
       "      <td>0.240363</td>\n",
       "      <td>-0.879301</td>\n",
       "      <td>0.999777</td>\n",
       "      <td>0.600595</td>\n",
       "      <td>...</td>\n",
       "      <td>0.002703</td>\n",
       "      <td>0.0</td>\n",
       "      <td>0.612643</td>\n",
       "      <td>0.256506</td>\n",
       "      <td>0.021253</td>\n",
       "      <td>0.0</td>\n",
       "      <td>0.617767</td>\n",
       "      <td>0.247276</td>\n",
       "      <td>0.021986</td>\n",
       "      <td>0.0</td>\n",
       "    </tr>\n",
       "    <tr>\n",
       "      <th>543</th>\n",
       "      <td>Buuu que mal</td>\n",
       "      <td>0.561202</td>\n",
       "      <td>0.313547</td>\n",
       "      <td>-1.004511</td>\n",
       "      <td>0.999883</td>\n",
       "      <td>0.585302</td>\n",
       "      <td>0.240690</td>\n",
       "      <td>-0.925527</td>\n",
       "      <td>0.999742</td>\n",
       "      <td>0.600615</td>\n",
       "      <td>...</td>\n",
       "      <td>0.002702</td>\n",
       "      <td>0.0</td>\n",
       "      <td>0.616873</td>\n",
       "      <td>0.256113</td>\n",
       "      <td>0.021999</td>\n",
       "      <td>0.0</td>\n",
       "      <td>0.621815</td>\n",
       "      <td>0.247989</td>\n",
       "      <td>0.022703</td>\n",
       "      <td>0.0</td>\n",
       "    </tr>\n",
       "    <tr>\n",
       "      <th>544</th>\n",
       "      <td>Buuu que mal</td>\n",
       "      <td>0.564997</td>\n",
       "      <td>0.315829</td>\n",
       "      <td>-0.923724</td>\n",
       "      <td>0.999874</td>\n",
       "      <td>0.587699</td>\n",
       "      <td>0.241852</td>\n",
       "      <td>-0.852775</td>\n",
       "      <td>0.999715</td>\n",
       "      <td>0.603202</td>\n",
       "      <td>...</td>\n",
       "      <td>0.003340</td>\n",
       "      <td>0.0</td>\n",
       "      <td>0.620147</td>\n",
       "      <td>0.253019</td>\n",
       "      <td>0.022850</td>\n",
       "      <td>0.0</td>\n",
       "      <td>0.625026</td>\n",
       "      <td>0.244550</td>\n",
       "      <td>0.023674</td>\n",
       "      <td>0.0</td>\n",
       "    </tr>\n",
       "    <tr>\n",
       "      <th>545</th>\n",
       "      <td>Buuu que mal</td>\n",
       "      <td>0.570446</td>\n",
       "      <td>0.317763</td>\n",
       "      <td>-0.891257</td>\n",
       "      <td>0.999865</td>\n",
       "      <td>0.592185</td>\n",
       "      <td>0.243242</td>\n",
       "      <td>-0.811182</td>\n",
       "      <td>0.999696</td>\n",
       "      <td>0.608082</td>\n",
       "      <td>...</td>\n",
       "      <td>0.002278</td>\n",
       "      <td>0.0</td>\n",
       "      <td>0.621281</td>\n",
       "      <td>0.251643</td>\n",
       "      <td>0.021229</td>\n",
       "      <td>0.0</td>\n",
       "      <td>0.626135</td>\n",
       "      <td>0.244106</td>\n",
       "      <td>0.021871</td>\n",
       "      <td>0.0</td>\n",
       "    </tr>\n",
       "    <tr>\n",
       "      <th>546</th>\n",
       "      <td>Buuu que mal</td>\n",
       "      <td>0.573943</td>\n",
       "      <td>0.318654</td>\n",
       "      <td>-0.850759</td>\n",
       "      <td>0.999865</td>\n",
       "      <td>0.594787</td>\n",
       "      <td>0.243582</td>\n",
       "      <td>-0.771189</td>\n",
       "      <td>0.999693</td>\n",
       "      <td>0.610638</td>\n",
       "      <td>...</td>\n",
       "      <td>0.002614</td>\n",
       "      <td>0.0</td>\n",
       "      <td>0.622002</td>\n",
       "      <td>0.249436</td>\n",
       "      <td>0.022121</td>\n",
       "      <td>0.0</td>\n",
       "      <td>0.626846</td>\n",
       "      <td>0.241835</td>\n",
       "      <td>0.022813</td>\n",
       "      <td>0.0</td>\n",
       "    </tr>\n",
       "  </tbody>\n",
       "</table>\n",
       "<p>547 rows × 2005 columns</p>\n",
       "</div>"
      ],
      "text/plain": [
       "            class        x1        y1        z1        v1        x2        y2  \\\n",
       "0        Buuieeen  0.530443  0.256885 -0.653312  0.999986  0.559472  0.183092   \n",
       "1          Bieeen  0.527919  0.270350 -0.671225  0.999984  0.555597  0.191837   \n",
       "2          Bieeen  0.526927  0.269982 -0.686023  0.999982  0.554501  0.191207   \n",
       "3          Bieeen  0.526678  0.269773 -0.686642  0.999981  0.554088  0.190821   \n",
       "4          Bieeen  0.525802  0.269881 -0.776611  0.999976  0.552998  0.191072   \n",
       "..            ...       ...       ...       ...       ...       ...       ...   \n",
       "542  Buuu que mal  0.561161  0.312676 -0.954139  0.999895  0.585262  0.240363   \n",
       "543  Buuu que mal  0.561202  0.313547 -1.004511  0.999883  0.585302  0.240690   \n",
       "544  Buuu que mal  0.564997  0.315829 -0.923724  0.999874  0.587699  0.241852   \n",
       "545  Buuu que mal  0.570446  0.317763 -0.891257  0.999865  0.592185  0.243242   \n",
       "546  Buuu que mal  0.573943  0.318654 -0.850759  0.999865  0.594787  0.243582   \n",
       "\n",
       "           z2        v2        x3  ...      z499  v499      x500      y500  \\\n",
       "0   -0.591619  0.999977  0.577272  ...  0.003441   0.0  0.577638  0.191048   \n",
       "1   -0.610291  0.999974  0.572588  ...  0.000889   0.0  0.575438  0.192714   \n",
       "2   -0.624949  0.999969  0.571297  ...  0.002067   0.0  0.574890  0.188843   \n",
       "3   -0.628925  0.999967  0.570879  ...  0.002285   0.0  0.575821  0.186804   \n",
       "4   -0.715791  0.999958  0.569570  ...  0.001017   0.0  0.574593  0.188575   \n",
       "..        ...       ...       ...  ...       ...   ...       ...       ...   \n",
       "542 -0.879301  0.999777  0.600595  ...  0.002703   0.0  0.612643  0.256506   \n",
       "543 -0.925527  0.999742  0.600615  ...  0.002702   0.0  0.616873  0.256113   \n",
       "544 -0.852775  0.999715  0.603202  ...  0.003340   0.0  0.620147  0.253019   \n",
       "545 -0.811182  0.999696  0.608082  ...  0.002278   0.0  0.621281  0.251643   \n",
       "546 -0.771189  0.999693  0.610638  ...  0.002614   0.0  0.622002  0.249436   \n",
       "\n",
       "         z500  v500      x501      y501      z501  v501  \n",
       "0    0.022638   0.0  0.582679  0.182326  0.023350   0.0  \n",
       "1    0.018138   0.0  0.580191  0.184997  0.018685   0.0  \n",
       "2    0.020768   0.0  0.579669  0.182104  0.021323   0.0  \n",
       "3    0.020908   0.0  0.580568  0.179891  0.021366   0.0  \n",
       "4    0.019574   0.0  0.579291  0.181415  0.020120   0.0  \n",
       "..        ...   ...       ...       ...       ...   ...  \n",
       "542  0.021253   0.0  0.617767  0.247276  0.021986   0.0  \n",
       "543  0.021999   0.0  0.621815  0.247989  0.022703   0.0  \n",
       "544  0.022850   0.0  0.625026  0.244550  0.023674   0.0  \n",
       "545  0.021229   0.0  0.626135  0.244106  0.021871   0.0  \n",
       "546  0.022121   0.0  0.626846  0.241835  0.022813   0.0  \n",
       "\n",
       "[547 rows x 2005 columns]"
      ]
     },
     "metadata": {},
     "output_type": "display_data"
    }
   ],
   "source": [
    "df #marco de datos completo, deben de ser 548 filas"
   ]
  },
  {
   "cell_type": "markdown",
   "metadata": {},
   "source": [
    "### Modelo de clasificación de aprendizaje automático"
   ]
  },
  {
   "cell_type": "code",
   "execution_count": null,
   "metadata": {},
   "outputs": [],
   "source": [
    "from sklearn.pipeline import make_pipeline \n",
    "from sklearn.preprocessing import StandardScaler \n",
    "\n",
    "from sklearn.linear_model import LogisticRegression, RidgeClassifier\n",
    "from sklearn.ensemble import RandomForestClassifier, GradientBoostingClassifier"
   ]
  },
  {
   "cell_type": "markdown",
   "metadata": {},
   "source": [
    "## Modelos de aprendizaje automatico:"
   ]
  },
  {
   "cell_type": "code",
   "execution_count": null,
   "metadata": {},
   "outputs": [],
   "source": [
    "pipelines = {\n",
    "    'lr':make_pipeline(StandardScaler(), LogisticRegression()),\n",
    "    'rc':make_pipeline(StandardScaler(), RidgeClassifier()),\n",
    "    'rf':make_pipeline(StandardScaler(), RandomForestClassifier()),\n",
    "    'gb':make_pipeline(StandardScaler(), GradientBoostingClassifier()),\n",
    "}"
   ]
  },
  {
   "cell_type": "code",
   "execution_count": null,
   "metadata": {},
   "outputs": [
    {
     "data": {
      "text/plain": [
       "dict_keys(['lr', 'rc', 'rf', 'gb'])"
      ]
     },
     "metadata": {},
     "output_type": "display_data"
    }
   ],
   "source": [
    "pipelines.keys()"
   ]
  },
  {
   "cell_type": "code",
   "execution_count": null,
   "metadata": {},
   "outputs": [
    {
     "data": {
      "text/html": [
       "<style>#sk-container-id-1 {\n",
       "  /* Definition of color scheme common for light and dark mode */\n",
       "  --sklearn-color-text: black;\n",
       "  --sklearn-color-line: gray;\n",
       "  /* Definition of color scheme for unfitted estimators */\n",
       "  --sklearn-color-unfitted-level-0: #fff5e6;\n",
       "  --sklearn-color-unfitted-level-1: #f6e4d2;\n",
       "  --sklearn-color-unfitted-level-2: #ffe0b3;\n",
       "  --sklearn-color-unfitted-level-3: chocolate;\n",
       "  /* Definition of color scheme for fitted estimators */\n",
       "  --sklearn-color-fitted-level-0: #f0f8ff;\n",
       "  --sklearn-color-fitted-level-1: #d4ebff;\n",
       "  --sklearn-color-fitted-level-2: #b3dbfd;\n",
       "  --sklearn-color-fitted-level-3: cornflowerblue;\n",
       "\n",
       "  /* Specific color for light theme */\n",
       "  --sklearn-color-text-on-default-background: var(--sg-text-color, var(--theme-code-foreground, var(--jp-content-font-color1, black)));\n",
       "  --sklearn-color-background: var(--sg-background-color, var(--theme-background, var(--jp-layout-color0, white)));\n",
       "  --sklearn-color-border-box: var(--sg-text-color, var(--theme-code-foreground, var(--jp-content-font-color1, black)));\n",
       "  --sklearn-color-icon: #696969;\n",
       "\n",
       "  @media (prefers-color-scheme: dark) {\n",
       "    /* Redefinition of color scheme for dark theme */\n",
       "    --sklearn-color-text-on-default-background: var(--sg-text-color, var(--theme-code-foreground, var(--jp-content-font-color1, white)));\n",
       "    --sklearn-color-background: var(--sg-background-color, var(--theme-background, var(--jp-layout-color0, #111)));\n",
       "    --sklearn-color-border-box: var(--sg-text-color, var(--theme-code-foreground, var(--jp-content-font-color1, white)));\n",
       "    --sklearn-color-icon: #878787;\n",
       "  }\n",
       "}\n",
       "\n",
       "#sk-container-id-1 {\n",
       "  color: var(--sklearn-color-text);\n",
       "}\n",
       "\n",
       "#sk-container-id-1 pre {\n",
       "  padding: 0;\n",
       "}\n",
       "\n",
       "#sk-container-id-1 input.sk-hidden--visually {\n",
       "  border: 0;\n",
       "  clip: rect(1px 1px 1px 1px);\n",
       "  clip: rect(1px, 1px, 1px, 1px);\n",
       "  height: 1px;\n",
       "  margin: -1px;\n",
       "  overflow: hidden;\n",
       "  padding: 0;\n",
       "  position: absolute;\n",
       "  width: 1px;\n",
       "}\n",
       "\n",
       "#sk-container-id-1 div.sk-dashed-wrapped {\n",
       "  border: 1px dashed var(--sklearn-color-line);\n",
       "  margin: 0 0.4em 0.5em 0.4em;\n",
       "  box-sizing: border-box;\n",
       "  padding-bottom: 0.4em;\n",
       "  background-color: var(--sklearn-color-background);\n",
       "}\n",
       "\n",
       "#sk-container-id-1 div.sk-container {\n",
       "  /* jupyter's `normalize.less` sets `[hidden] { display: none; }`\n",
       "     but bootstrap.min.css set `[hidden] { display: none !important; }`\n",
       "     so we also need the `!important` here to be able to override the\n",
       "     default hidden behavior on the sphinx rendered scikit-learn.org.\n",
       "     See: https://github.com/scikit-learn/scikit-learn/issues/21755 */\n",
       "  display: inline-block !important;\n",
       "  position: relative;\n",
       "}\n",
       "\n",
       "#sk-container-id-1 div.sk-text-repr-fallback {\n",
       "  display: none;\n",
       "}\n",
       "\n",
       "div.sk-parallel-item,\n",
       "div.sk-serial,\n",
       "div.sk-item {\n",
       "  /* draw centered vertical line to link estimators */\n",
       "  background-image: linear-gradient(var(--sklearn-color-text-on-default-background), var(--sklearn-color-text-on-default-background));\n",
       "  background-size: 2px 100%;\n",
       "  background-repeat: no-repeat;\n",
       "  background-position: center center;\n",
       "}\n",
       "\n",
       "/* Parallel-specific style estimator block */\n",
       "\n",
       "#sk-container-id-1 div.sk-parallel-item::after {\n",
       "  content: \"\";\n",
       "  width: 100%;\n",
       "  border-bottom: 2px solid var(--sklearn-color-text-on-default-background);\n",
       "  flex-grow: 1;\n",
       "}\n",
       "\n",
       "#sk-container-id-1 div.sk-parallel {\n",
       "  display: flex;\n",
       "  align-items: stretch;\n",
       "  justify-content: center;\n",
       "  background-color: var(--sklearn-color-background);\n",
       "  position: relative;\n",
       "}\n",
       "\n",
       "#sk-container-id-1 div.sk-parallel-item {\n",
       "  display: flex;\n",
       "  flex-direction: column;\n",
       "}\n",
       "\n",
       "#sk-container-id-1 div.sk-parallel-item:first-child::after {\n",
       "  align-self: flex-end;\n",
       "  width: 50%;\n",
       "}\n",
       "\n",
       "#sk-container-id-1 div.sk-parallel-item:last-child::after {\n",
       "  align-self: flex-start;\n",
       "  width: 50%;\n",
       "}\n",
       "\n",
       "#sk-container-id-1 div.sk-parallel-item:only-child::after {\n",
       "  width: 0;\n",
       "}\n",
       "\n",
       "/* Serial-specific style estimator block */\n",
       "\n",
       "#sk-container-id-1 div.sk-serial {\n",
       "  display: flex;\n",
       "  flex-direction: column;\n",
       "  align-items: center;\n",
       "  background-color: var(--sklearn-color-background);\n",
       "  padding-right: 1em;\n",
       "  padding-left: 1em;\n",
       "}\n",
       "\n",
       "\n",
       "/* Toggleable style: style used for estimator/Pipeline/ColumnTransformer box that is\n",
       "clickable and can be expanded/collapsed.\n",
       "- Pipeline and ColumnTransformer use this feature and define the default style\n",
       "- Estimators will overwrite some part of the style using the `sk-estimator` class\n",
       "*/\n",
       "\n",
       "/* Pipeline and ColumnTransformer style (default) */\n",
       "\n",
       "#sk-container-id-1 div.sk-toggleable {\n",
       "  /* Default theme specific background. It is overwritten whether we have a\n",
       "  specific estimator or a Pipeline/ColumnTransformer */\n",
       "  background-color: var(--sklearn-color-background);\n",
       "}\n",
       "\n",
       "/* Toggleable label */\n",
       "#sk-container-id-1 label.sk-toggleable__label {\n",
       "  cursor: pointer;\n",
       "  display: block;\n",
       "  width: 100%;\n",
       "  margin-bottom: 0;\n",
       "  padding: 0.5em;\n",
       "  box-sizing: border-box;\n",
       "  text-align: center;\n",
       "}\n",
       "\n",
       "#sk-container-id-1 label.sk-toggleable__label-arrow:before {\n",
       "  /* Arrow on the left of the label */\n",
       "  content: \"▸\";\n",
       "  float: left;\n",
       "  margin-right: 0.25em;\n",
       "  color: var(--sklearn-color-icon);\n",
       "}\n",
       "\n",
       "#sk-container-id-1 label.sk-toggleable__label-arrow:hover:before {\n",
       "  color: var(--sklearn-color-text);\n",
       "}\n",
       "\n",
       "/* Toggleable content - dropdown */\n",
       "\n",
       "#sk-container-id-1 div.sk-toggleable__content {\n",
       "  max-height: 0;\n",
       "  max-width: 0;\n",
       "  overflow: hidden;\n",
       "  text-align: left;\n",
       "  /* unfitted */\n",
       "  background-color: var(--sklearn-color-unfitted-level-0);\n",
       "}\n",
       "\n",
       "#sk-container-id-1 div.sk-toggleable__content.fitted {\n",
       "  /* fitted */\n",
       "  background-color: var(--sklearn-color-fitted-level-0);\n",
       "}\n",
       "\n",
       "#sk-container-id-1 div.sk-toggleable__content pre {\n",
       "  margin: 0.2em;\n",
       "  border-radius: 0.25em;\n",
       "  color: var(--sklearn-color-text);\n",
       "  /* unfitted */\n",
       "  background-color: var(--sklearn-color-unfitted-level-0);\n",
       "}\n",
       "\n",
       "#sk-container-id-1 div.sk-toggleable__content.fitted pre {\n",
       "  /* unfitted */\n",
       "  background-color: var(--sklearn-color-fitted-level-0);\n",
       "}\n",
       "\n",
       "#sk-container-id-1 input.sk-toggleable__control:checked~div.sk-toggleable__content {\n",
       "  /* Expand drop-down */\n",
       "  max-height: 200px;\n",
       "  max-width: 100%;\n",
       "  overflow: auto;\n",
       "}\n",
       "\n",
       "#sk-container-id-1 input.sk-toggleable__control:checked~label.sk-toggleable__label-arrow:before {\n",
       "  content: \"▾\";\n",
       "}\n",
       "\n",
       "/* Pipeline/ColumnTransformer-specific style */\n",
       "\n",
       "#sk-container-id-1 div.sk-label input.sk-toggleable__control:checked~label.sk-toggleable__label {\n",
       "  color: var(--sklearn-color-text);\n",
       "  background-color: var(--sklearn-color-unfitted-level-2);\n",
       "}\n",
       "\n",
       "#sk-container-id-1 div.sk-label.fitted input.sk-toggleable__control:checked~label.sk-toggleable__label {\n",
       "  background-color: var(--sklearn-color-fitted-level-2);\n",
       "}\n",
       "\n",
       "/* Estimator-specific style */\n",
       "\n",
       "/* Colorize estimator box */\n",
       "#sk-container-id-1 div.sk-estimator input.sk-toggleable__control:checked~label.sk-toggleable__label {\n",
       "  /* unfitted */\n",
       "  background-color: var(--sklearn-color-unfitted-level-2);\n",
       "}\n",
       "\n",
       "#sk-container-id-1 div.sk-estimator.fitted input.sk-toggleable__control:checked~label.sk-toggleable__label {\n",
       "  /* fitted */\n",
       "  background-color: var(--sklearn-color-fitted-level-2);\n",
       "}\n",
       "\n",
       "#sk-container-id-1 div.sk-label label.sk-toggleable__label,\n",
       "#sk-container-id-1 div.sk-label label {\n",
       "  /* The background is the default theme color */\n",
       "  color: var(--sklearn-color-text-on-default-background);\n",
       "}\n",
       "\n",
       "/* On hover, darken the color of the background */\n",
       "#sk-container-id-1 div.sk-label:hover label.sk-toggleable__label {\n",
       "  color: var(--sklearn-color-text);\n",
       "  background-color: var(--sklearn-color-unfitted-level-2);\n",
       "}\n",
       "\n",
       "/* Label box, darken color on hover, fitted */\n",
       "#sk-container-id-1 div.sk-label.fitted:hover label.sk-toggleable__label.fitted {\n",
       "  color: var(--sklearn-color-text);\n",
       "  background-color: var(--sklearn-color-fitted-level-2);\n",
       "}\n",
       "\n",
       "/* Estimator label */\n",
       "\n",
       "#sk-container-id-1 div.sk-label label {\n",
       "  font-family: monospace;\n",
       "  font-weight: bold;\n",
       "  display: inline-block;\n",
       "  line-height: 1.2em;\n",
       "}\n",
       "\n",
       "#sk-container-id-1 div.sk-label-container {\n",
       "  text-align: center;\n",
       "}\n",
       "\n",
       "/* Estimator-specific */\n",
       "#sk-container-id-1 div.sk-estimator {\n",
       "  font-family: monospace;\n",
       "  border: 1px dotted var(--sklearn-color-border-box);\n",
       "  border-radius: 0.25em;\n",
       "  box-sizing: border-box;\n",
       "  margin-bottom: 0.5em;\n",
       "  /* unfitted */\n",
       "  background-color: var(--sklearn-color-unfitted-level-0);\n",
       "}\n",
       "\n",
       "#sk-container-id-1 div.sk-estimator.fitted {\n",
       "  /* fitted */\n",
       "  background-color: var(--sklearn-color-fitted-level-0);\n",
       "}\n",
       "\n",
       "/* on hover */\n",
       "#sk-container-id-1 div.sk-estimator:hover {\n",
       "  /* unfitted */\n",
       "  background-color: var(--sklearn-color-unfitted-level-2);\n",
       "}\n",
       "\n",
       "#sk-container-id-1 div.sk-estimator.fitted:hover {\n",
       "  /* fitted */\n",
       "  background-color: var(--sklearn-color-fitted-level-2);\n",
       "}\n",
       "\n",
       "/* Specification for estimator info (e.g. \"i\" and \"?\") */\n",
       "\n",
       "/* Common style for \"i\" and \"?\" */\n",
       "\n",
       ".sk-estimator-doc-link,\n",
       "a:link.sk-estimator-doc-link,\n",
       "a:visited.sk-estimator-doc-link {\n",
       "  float: right;\n",
       "  font-size: smaller;\n",
       "  line-height: 1em;\n",
       "  font-family: monospace;\n",
       "  background-color: var(--sklearn-color-background);\n",
       "  border-radius: 1em;\n",
       "  height: 1em;\n",
       "  width: 1em;\n",
       "  text-decoration: none !important;\n",
       "  margin-left: 1ex;\n",
       "  /* unfitted */\n",
       "  border: var(--sklearn-color-unfitted-level-1) 1pt solid;\n",
       "  color: var(--sklearn-color-unfitted-level-1);\n",
       "}\n",
       "\n",
       ".sk-estimator-doc-link.fitted,\n",
       "a:link.sk-estimator-doc-link.fitted,\n",
       "a:visited.sk-estimator-doc-link.fitted {\n",
       "  /* fitted */\n",
       "  border: var(--sklearn-color-fitted-level-1) 1pt solid;\n",
       "  color: var(--sklearn-color-fitted-level-1);\n",
       "}\n",
       "\n",
       "/* On hover */\n",
       "div.sk-estimator:hover .sk-estimator-doc-link:hover,\n",
       ".sk-estimator-doc-link:hover,\n",
       "div.sk-label-container:hover .sk-estimator-doc-link:hover,\n",
       ".sk-estimator-doc-link:hover {\n",
       "  /* unfitted */\n",
       "  background-color: var(--sklearn-color-unfitted-level-3);\n",
       "  color: var(--sklearn-color-background);\n",
       "  text-decoration: none;\n",
       "}\n",
       "\n",
       "div.sk-estimator.fitted:hover .sk-estimator-doc-link.fitted:hover,\n",
       ".sk-estimator-doc-link.fitted:hover,\n",
       "div.sk-label-container:hover .sk-estimator-doc-link.fitted:hover,\n",
       ".sk-estimator-doc-link.fitted:hover {\n",
       "  /* fitted */\n",
       "  background-color: var(--sklearn-color-fitted-level-3);\n",
       "  color: var(--sklearn-color-background);\n",
       "  text-decoration: none;\n",
       "}\n",
       "\n",
       "/* Span, style for the box shown on hovering the info icon */\n",
       ".sk-estimator-doc-link span {\n",
       "  display: none;\n",
       "  z-index: 9999;\n",
       "  position: relative;\n",
       "  font-weight: normal;\n",
       "  right: .2ex;\n",
       "  padding: .5ex;\n",
       "  margin: .5ex;\n",
       "  width: min-content;\n",
       "  min-width: 20ex;\n",
       "  max-width: 50ex;\n",
       "  color: var(--sklearn-color-text);\n",
       "  box-shadow: 2pt 2pt 4pt #999;\n",
       "  /* unfitted */\n",
       "  background: var(--sklearn-color-unfitted-level-0);\n",
       "  border: .5pt solid var(--sklearn-color-unfitted-level-3);\n",
       "}\n",
       "\n",
       ".sk-estimator-doc-link.fitted span {\n",
       "  /* fitted */\n",
       "  background: var(--sklearn-color-fitted-level-0);\n",
       "  border: var(--sklearn-color-fitted-level-3);\n",
       "}\n",
       "\n",
       ".sk-estimator-doc-link:hover span {\n",
       "  display: block;\n",
       "}\n",
       "\n",
       "/* \"?\"-specific style due to the `<a>` HTML tag */\n",
       "\n",
       "#sk-container-id-1 a.estimator_doc_link {\n",
       "  float: right;\n",
       "  font-size: 1rem;\n",
       "  line-height: 1em;\n",
       "  font-family: monospace;\n",
       "  background-color: var(--sklearn-color-background);\n",
       "  border-radius: 1rem;\n",
       "  height: 1rem;\n",
       "  width: 1rem;\n",
       "  text-decoration: none;\n",
       "  /* unfitted */\n",
       "  color: var(--sklearn-color-unfitted-level-1);\n",
       "  border: var(--sklearn-color-unfitted-level-1) 1pt solid;\n",
       "}\n",
       "\n",
       "#sk-container-id-1 a.estimator_doc_link.fitted {\n",
       "  /* fitted */\n",
       "  border: var(--sklearn-color-fitted-level-1) 1pt solid;\n",
       "  color: var(--sklearn-color-fitted-level-1);\n",
       "}\n",
       "\n",
       "/* On hover */\n",
       "#sk-container-id-1 a.estimator_doc_link:hover {\n",
       "  /* unfitted */\n",
       "  background-color: var(--sklearn-color-unfitted-level-3);\n",
       "  color: var(--sklearn-color-background);\n",
       "  text-decoration: none;\n",
       "}\n",
       "\n",
       "#sk-container-id-1 a.estimator_doc_link.fitted:hover {\n",
       "  /* fitted */\n",
       "  background-color: var(--sklearn-color-fitted-level-3);\n",
       "}\n",
       "</style><div id=\"sk-container-id-1\" class=\"sk-top-container\"><div class=\"sk-text-repr-fallback\"><pre>Pipeline(steps=[(&#x27;standardscaler&#x27;, StandardScaler()),\n",
       "                (&#x27;logisticregression&#x27;, LogisticRegression())])</pre><b>In a Jupyter environment, please rerun this cell to show the HTML representation or trust the notebook. <br />On GitHub, the HTML representation is unable to render, please try loading this page with nbviewer.org.</b></div><div class=\"sk-container\" hidden><div class=\"sk-item sk-dashed-wrapped\"><div class=\"sk-label-container\"><div class=\"sk-label  sk-toggleable\"><input class=\"sk-toggleable__control sk-hidden--visually\" id=\"sk-estimator-id-1\" type=\"checkbox\" ><label for=\"sk-estimator-id-1\" class=\"sk-toggleable__label  sk-toggleable__label-arrow \">&nbsp;&nbsp;Pipeline<a class=\"sk-estimator-doc-link \" rel=\"noreferrer\" target=\"_blank\" href=\"https://scikit-learn.org/1.4/modules/generated/sklearn.pipeline.Pipeline.html\">?<span>Documentation for Pipeline</span></a><span class=\"sk-estimator-doc-link \">i<span>Not fitted</span></span></label><div class=\"sk-toggleable__content \"><pre>Pipeline(steps=[(&#x27;standardscaler&#x27;, StandardScaler()),\n",
       "                (&#x27;logisticregression&#x27;, LogisticRegression())])</pre></div> </div></div><div class=\"sk-serial\"><div class=\"sk-item\"><div class=\"sk-estimator  sk-toggleable\"><input class=\"sk-toggleable__control sk-hidden--visually\" id=\"sk-estimator-id-2\" type=\"checkbox\" ><label for=\"sk-estimator-id-2\" class=\"sk-toggleable__label  sk-toggleable__label-arrow \">&nbsp;StandardScaler<a class=\"sk-estimator-doc-link \" rel=\"noreferrer\" target=\"_blank\" href=\"https://scikit-learn.org/1.4/modules/generated/sklearn.preprocessing.StandardScaler.html\">?<span>Documentation for StandardScaler</span></a></label><div class=\"sk-toggleable__content \"><pre>StandardScaler()</pre></div> </div></div><div class=\"sk-item\"><div class=\"sk-estimator  sk-toggleable\"><input class=\"sk-toggleable__control sk-hidden--visually\" id=\"sk-estimator-id-3\" type=\"checkbox\" ><label for=\"sk-estimator-id-3\" class=\"sk-toggleable__label  sk-toggleable__label-arrow \">&nbsp;LogisticRegression<a class=\"sk-estimator-doc-link \" rel=\"noreferrer\" target=\"_blank\" href=\"https://scikit-learn.org/1.4/modules/generated/sklearn.linear_model.LogisticRegression.html\">?<span>Documentation for LogisticRegression</span></a></label><div class=\"sk-toggleable__content \"><pre>LogisticRegression()</pre></div> </div></div></div></div></div></div>"
      ],
      "text/plain": [
       "Pipeline(steps=[('standardscaler', StandardScaler()),\n",
       "                ('logisticregression', LogisticRegression())])"
      ]
     },
     "metadata": {},
     "output_type": "display_data"
    }
   ],
   "source": [
    "list(pipelines.values())[0]"
   ]
  },
  {
   "cell_type": "code",
   "execution_count": null,
   "metadata": {},
   "outputs": [],
   "source": [
    "fit_models = {}\n",
    "for algo, pipeline in pipelines.items():\n",
    "    model = pipeline.fit(X_train, y_train)\n",
    "    fit_models[algo] =  model"
   ]
  },
  {
   "cell_type": "code",
   "execution_count": null,
   "metadata": {},
   "outputs": [
    {
     "data": {
      "text/plain": [
       "{'lr': Pipeline(steps=[('standardscaler', StandardScaler()),\n",
       "                 ('logisticregression', LogisticRegression())]),\n",
       " 'rc': Pipeline(steps=[('standardscaler', StandardScaler()),\n",
       "                 ('ridgeclassifier', RidgeClassifier())]),\n",
       " 'rf': Pipeline(steps=[('standardscaler', StandardScaler()),\n",
       "                 ('randomforestclassifier', RandomForestClassifier())]),\n",
       " 'gb': Pipeline(steps=[('standardscaler', StandardScaler()),\n",
       "                 ('gradientboostingclassifier', GradientBoostingClassifier())])}"
      ]
     },
     "metadata": {},
     "output_type": "display_data"
    }
   ],
   "source": [
    "fit_models"
   ]
  },
  {
   "cell_type": "code",
   "execution_count": null,
   "metadata": {},
   "outputs": [
    {
     "data": {
      "text/plain": [
       "array(['Buuu que mal', 'Bieeen', 'Bieeen', 'Bieeen', 'Buuu que mal',\n",
       "       'Bieeen', 'Buuu que mal', 'Buuu que mal', 'Bieeen', 'Bieeen',\n",
       "       'Bieeen', 'Bieeen', 'Bieeen', 'Bieeen', 'Bieeen', 'Bieeen',\n",
       "       'Bieeen', 'Bieeen', 'Buuu que mal', 'Buuu que mal', 'Bieeen',\n",
       "       'Bieeen', 'Bieeen', 'Buuu que mal', 'Buuu que mal', 'Bieeen',\n",
       "       'Buuu que mal', 'Bieeen', 'Bieeen', 'Bieeen', 'Bieeen', 'Bieeen',\n",
       "       'Buuu que mal', 'Buuu que mal', 'Buuu que mal', 'Buuu que mal',\n",
       "       'Bieeen', 'Bieeen', 'Buuu que mal', 'Bieeen', 'Buuu que mal',\n",
       "       'Bieeen', 'Buuu que mal', 'Bieeen', 'Bieeen', 'Buuu que mal',\n",
       "       'Bieeen', 'Bieeen', 'Bieeen', 'Bieeen', 'Bieeen', 'Buuu que mal',\n",
       "       'Bieeen', 'Bieeen', 'Bieeen', 'Bieeen', 'Buuu que mal', 'Bieeen',\n",
       "       'Buuu que mal', 'Bieeen', 'Bieeen', 'Buuu que mal', 'Buuu que mal',\n",
       "       'Buuu que mal', 'Buuu que mal', 'Bieeen', 'Buuu que mal', 'Bieeen',\n",
       "       'Bieeen', 'Buuu que mal', 'Buuu que mal', 'Bieeen', 'Bieeen',\n",
       "       'Bieeen', 'Buuu que mal', 'Buuu que mal', 'Bieeen', 'Buuu que mal',\n",
       "       'Buuu que mal', 'Bieeen', 'Buuu que mal', 'Bieeen', 'Buuu que mal',\n",
       "       'Buuu que mal', 'Bieeen', 'Buuu que mal', 'Bieeen', 'Bieeen',\n",
       "       'Bieeen', 'Bieeen', 'Bieeen', 'Bieeen', 'Bieeen', 'Bieeen',\n",
       "       'Bieeen', 'Bieeen', 'Bieeen', 'Bieeen', 'Bieeen', 'Buuu que mal',\n",
       "       'Buuu que mal', 'Buuu que mal', 'Buuu que mal', 'Bieeen', 'Bieeen',\n",
       "       'Buuu que mal', 'Buuu que mal', 'Bieeen', 'Bieeen', 'Bieeen',\n",
       "       'Bieeen', 'Buuu que mal', 'Buuu que mal', 'Bieeen', 'Buuu que mal',\n",
       "       'Bieeen', 'Buuu que mal', 'Bieeen', 'Buuu que mal', 'Bieeen',\n",
       "       'Buuu que mal', 'Bieeen', 'Buuu que mal', 'Buuu que mal', 'Bieeen',\n",
       "       'Bieeen', 'Bieeen', 'Buuu que mal', 'Bieeen', 'Bieeen', 'Bieeen',\n",
       "       'Buuu que mal', 'Bieeen', 'Buuu que mal', 'Bieeen', 'Buuu que mal',\n",
       "       'Buuu que mal', 'Buuu que mal', 'Buuu que mal', 'Buuu que mal',\n",
       "       'Bieeen', 'Buuu que mal', 'Buuu que mal', 'Bieeen', 'Buuu que mal',\n",
       "       'Bieeen', 'Bieeen', 'Buuu que mal', 'Bieeen', 'Bieeen', 'Bieeen',\n",
       "       'Bieeen', 'Bieeen', 'Bieeen', 'Bieeen', 'Bieeen', 'Bieeen',\n",
       "       'Bieeen', 'Bieeen', 'Bieeen', 'Bieeen', 'Buuu que mal', 'Bieeen',\n",
       "       'Buuu que mal', 'Bieeen'], dtype='<U12')"
      ]
     },
     "metadata": {},
     "output_type": "display_data"
    }
   ],
   "source": [
    "fit_models['rc'].predict(X_test) "
   ]
  },
  {
   "cell_type": "markdown",
   "metadata": {},
   "source": [
    "Evaluar y serializar el modelo"
   ]
  },
  {
   "cell_type": "markdown",
   "metadata": {},
   "source": [
    "Otras metricas: precision, recall, f1 score, AUC. Aqui se usa precision"
   ]
  },
  {
   "cell_type": "code",
   "execution_count": null,
   "metadata": {},
   "outputs": [],
   "source": [
    "from sklearn.metrics import accuracy_score # Accuracy metrics \n",
    "import pickle "
   ]
  },
  {
   "cell_type": "code",
   "execution_count": null,
   "metadata": {},
   "outputs": [
    {
     "name": "stdout",
     "output_type": "stream",
     "text": [
      "lr 0.9939393939393939\n",
      "rc 0.9939393939393939\n",
      "rf 0.9878787878787879\n",
      "gb 0.9818181818181818\n"
     ]
    }
   ],
   "source": [
    "for algo, model in fit_models.items():\n",
    "    yhat = model.predict(X_test) ## yhat almacena las predicciones reales  \n",
    "    print(algo, accuracy_score(y_test, yhat)) #imprimimos la precision, "
   ]
  },
  {
   "cell_type": "markdown",
   "metadata": {},
   "source": [
    "Lo que se hace a continuacion tiene muchos casos de uso diferentes, se puede hacer una deteccion de accion o un modelo de lenguaje de señas(que se base en un solo cuadro o en una sola coordenada), analisis de sentimientos, etc."
   ]
  },
  {
   "cell_type": "code",
   "execution_count": null,
   "metadata": {},
   "outputs": [
    {
     "data": {
      "text/plain": [
       "array(['Buuu que mal', 'Bieeen', 'Bieeen', 'Bieeen', 'Buuu que mal',\n",
       "       'Bieeen', 'Buuu que mal', 'Buuu que mal', 'Bieeen', 'Bieeen',\n",
       "       'Bieeen', 'Bieeen', 'Bieeen', 'Bieeen', 'Bieeen', 'Bieeen',\n",
       "       'Bieeen', 'Bieeen', 'Buuu que mal', 'Buuu que mal', 'Bieeen',\n",
       "       'Bieeen', 'Bieeen', 'Buuu que mal', 'Buuu que mal', 'Bieeen',\n",
       "       'Buuu que mal', 'Bieeen', 'Bieeen', 'Bieeen', 'Bieeen', 'Bieeen',\n",
       "       'Buuu que mal', 'Buuu que mal', 'Buuu que mal', 'Buuu que mal',\n",
       "       'Bieeen', 'Bieeen', 'Buuu que mal', 'Bieeen', 'Buuu que mal',\n",
       "       'Bieeen', 'Buuu que mal', 'Bieeen', 'Bieeen', 'Buuu que mal',\n",
       "       'Bieeen', 'Bieeen', 'Bieeen', 'Bieeen', 'Bieeen', 'Buuu que mal',\n",
       "       'Bieeen', 'Bieeen', 'Bieeen', 'Bieeen', 'Buuu que mal', 'Bieeen',\n",
       "       'Buuu que mal', 'Bieeen', 'Bieeen', 'Buuu que mal', 'Buuu que mal',\n",
       "       'Buuu que mal', 'Buuu que mal', 'Bieeen', 'Buuu que mal', 'Bieeen',\n",
       "       'Bieeen', 'Buuu que mal', 'Buuu que mal', 'Bieeen', 'Bieeen',\n",
       "       'Bieeen', 'Buuu que mal', 'Buuu que mal', 'Bieeen', 'Buuu que mal',\n",
       "       'Buuu que mal', 'Bieeen', 'Buuu que mal', 'Bieeen', 'Buuu que mal',\n",
       "       'Buuu que mal', 'Bieeen', 'Buuu que mal', 'Bieeen', 'Bieeen',\n",
       "       'Bieeen', 'Bieeen', 'Bieeen', 'Bieeen', 'Bieeen', 'Bieeen',\n",
       "       'Bieeen', 'Bieeen', 'Bieeen', 'Bieeen', 'Bieeen', 'Buuu que mal',\n",
       "       'Buuu que mal', 'Buuu que mal', 'Buuu que mal', 'Bieeen', 'Bieeen',\n",
       "       'Buuu que mal', 'Buuu que mal', 'Bieeen', 'Bieeen', 'Bieeen',\n",
       "       'Bieeen', 'Buuu que mal', 'Buuu que mal', 'Bieeen', 'Buuu que mal',\n",
       "       'Bieeen', 'Buuu que mal', 'Bieeen', 'Buuu que mal', 'Bieeen',\n",
       "       'Buuu que mal', 'Bieeen', 'Buuu que mal', 'Buuu que mal', 'Bieeen',\n",
       "       'Bieeen', 'Bieeen', 'Buuu que mal', 'Bieeen', 'Bieeen', 'Bieeen',\n",
       "       'Buuu que mal', 'Bieeen', 'Buuu que mal', 'Bieeen', 'Buuu que mal',\n",
       "       'Buuu que mal', 'Buuu que mal', 'Buuu que mal', 'Buuu que mal',\n",
       "       'Bieeen', 'Buuu que mal', 'Buuu que mal', 'Bieeen', 'Buuu que mal',\n",
       "       'Bieeen', 'Bieeen', 'Buuu que mal', 'Bieeen', 'Bieeen', 'Bieeen',\n",
       "       'Bieeen', 'Bieeen', 'Bieeen', 'Bieeen', 'Bieeen', 'Bieeen',\n",
       "       'Bieeen', 'Bieeen', 'Bieeen', 'Bieeen', 'Buuu que mal', 'Bieeen',\n",
       "       'Buuu que mal', 'Bieeen'], dtype='<U12')"
      ]
     },
     "metadata": {},
     "output_type": "display_data"
    }
   ],
   "source": [
    "fit_models['rc'].predict(X_test)"
   ]
  },
  {
   "cell_type": "code",
   "execution_count": null,
   "metadata": {},
   "outputs": [
    {
     "data": {
      "text/plain": [
       "435    Buuu que mal\n",
       "20           Bieeen\n",
       "11           Bieeen\n",
       "129          Bieeen\n",
       "348    Buuu que mal\n",
       "           ...     \n",
       "43           Bieeen\n",
       "439    Buuu que mal\n",
       "115          Bieeen\n",
       "496    Buuu que mal\n",
       "122          Bieeen\n",
       "Name: class, Length: 165, dtype: object"
      ]
     },
     "metadata": {},
     "output_type": "display_data"
    }
   ],
   "source": [
    "y_test"
   ]
  },
  {
   "cell_type": "code",
   "execution_count": null,
   "metadata": {},
   "outputs": [],
   "source": [
    "# Guardar el modelo ya entrenado\n",
    "with open('modelo.pkl', 'wb') as f: \n",
    "    pickle.dump(fit_models['rf'], f) "
   ]
  },
  {
   "cell_type": "markdown",
   "metadata": {},
   "source": [
    "## Cargar el modelo ya entrenado"
   ]
  },
  {
   "cell_type": "code",
   "execution_count": null,
   "metadata": {},
   "outputs": [],
   "source": [
    "with open('modelo.pkl', 'rb') as f: \n",
    "    model = pickle.load(f)"
   ]
  },
  {
   "cell_type": "code",
   "execution_count": null,
   "metadata": {},
   "outputs": [
    {
     "data": {
      "text/html": [
       "<style>#sk-container-id-3 {\n",
       "  /* Definition of color scheme common for light and dark mode */\n",
       "  --sklearn-color-text: black;\n",
       "  --sklearn-color-line: gray;\n",
       "  /* Definition of color scheme for unfitted estimators */\n",
       "  --sklearn-color-unfitted-level-0: #fff5e6;\n",
       "  --sklearn-color-unfitted-level-1: #f6e4d2;\n",
       "  --sklearn-color-unfitted-level-2: #ffe0b3;\n",
       "  --sklearn-color-unfitted-level-3: chocolate;\n",
       "  /* Definition of color scheme for fitted estimators */\n",
       "  --sklearn-color-fitted-level-0: #f0f8ff;\n",
       "  --sklearn-color-fitted-level-1: #d4ebff;\n",
       "  --sklearn-color-fitted-level-2: #b3dbfd;\n",
       "  --sklearn-color-fitted-level-3: cornflowerblue;\n",
       "\n",
       "  /* Specific color for light theme */\n",
       "  --sklearn-color-text-on-default-background: var(--sg-text-color, var(--theme-code-foreground, var(--jp-content-font-color1, black)));\n",
       "  --sklearn-color-background: var(--sg-background-color, var(--theme-background, var(--jp-layout-color0, white)));\n",
       "  --sklearn-color-border-box: var(--sg-text-color, var(--theme-code-foreground, var(--jp-content-font-color1, black)));\n",
       "  --sklearn-color-icon: #696969;\n",
       "\n",
       "  @media (prefers-color-scheme: dark) {\n",
       "    /* Redefinition of color scheme for dark theme */\n",
       "    --sklearn-color-text-on-default-background: var(--sg-text-color, var(--theme-code-foreground, var(--jp-content-font-color1, white)));\n",
       "    --sklearn-color-background: var(--sg-background-color, var(--theme-background, var(--jp-layout-color0, #111)));\n",
       "    --sklearn-color-border-box: var(--sg-text-color, var(--theme-code-foreground, var(--jp-content-font-color1, white)));\n",
       "    --sklearn-color-icon: #878787;\n",
       "  }\n",
       "}\n",
       "\n",
       "#sk-container-id-3 {\n",
       "  color: var(--sklearn-color-text);\n",
       "}\n",
       "\n",
       "#sk-container-id-3 pre {\n",
       "  padding: 0;\n",
       "}\n",
       "\n",
       "#sk-container-id-3 input.sk-hidden--visually {\n",
       "  border: 0;\n",
       "  clip: rect(1px 1px 1px 1px);\n",
       "  clip: rect(1px, 1px, 1px, 1px);\n",
       "  height: 1px;\n",
       "  margin: -1px;\n",
       "  overflow: hidden;\n",
       "  padding: 0;\n",
       "  position: absolute;\n",
       "  width: 1px;\n",
       "}\n",
       "\n",
       "#sk-container-id-3 div.sk-dashed-wrapped {\n",
       "  border: 1px dashed var(--sklearn-color-line);\n",
       "  margin: 0 0.4em 0.5em 0.4em;\n",
       "  box-sizing: border-box;\n",
       "  padding-bottom: 0.4em;\n",
       "  background-color: var(--sklearn-color-background);\n",
       "}\n",
       "\n",
       "#sk-container-id-3 div.sk-container {\n",
       "  /* jupyter's `normalize.less` sets `[hidden] { display: none; }`\n",
       "     but bootstrap.min.css set `[hidden] { display: none !important; }`\n",
       "     so we also need the `!important` here to be able to override the\n",
       "     default hidden behavior on the sphinx rendered scikit-learn.org.\n",
       "     See: https://github.com/scikit-learn/scikit-learn/issues/21755 */\n",
       "  display: inline-block !important;\n",
       "  position: relative;\n",
       "}\n",
       "\n",
       "#sk-container-id-3 div.sk-text-repr-fallback {\n",
       "  display: none;\n",
       "}\n",
       "\n",
       "div.sk-parallel-item,\n",
       "div.sk-serial,\n",
       "div.sk-item {\n",
       "  /* draw centered vertical line to link estimators */\n",
       "  background-image: linear-gradient(var(--sklearn-color-text-on-default-background), var(--sklearn-color-text-on-default-background));\n",
       "  background-size: 2px 100%;\n",
       "  background-repeat: no-repeat;\n",
       "  background-position: center center;\n",
       "}\n",
       "\n",
       "/* Parallel-specific style estimator block */\n",
       "\n",
       "#sk-container-id-3 div.sk-parallel-item::after {\n",
       "  content: \"\";\n",
       "  width: 100%;\n",
       "  border-bottom: 2px solid var(--sklearn-color-text-on-default-background);\n",
       "  flex-grow: 1;\n",
       "}\n",
       "\n",
       "#sk-container-id-3 div.sk-parallel {\n",
       "  display: flex;\n",
       "  align-items: stretch;\n",
       "  justify-content: center;\n",
       "  background-color: var(--sklearn-color-background);\n",
       "  position: relative;\n",
       "}\n",
       "\n",
       "#sk-container-id-3 div.sk-parallel-item {\n",
       "  display: flex;\n",
       "  flex-direction: column;\n",
       "}\n",
       "\n",
       "#sk-container-id-3 div.sk-parallel-item:first-child::after {\n",
       "  align-self: flex-end;\n",
       "  width: 50%;\n",
       "}\n",
       "\n",
       "#sk-container-id-3 div.sk-parallel-item:last-child::after {\n",
       "  align-self: flex-start;\n",
       "  width: 50%;\n",
       "}\n",
       "\n",
       "#sk-container-id-3 div.sk-parallel-item:only-child::after {\n",
       "  width: 0;\n",
       "}\n",
       "\n",
       "/* Serial-specific style estimator block */\n",
       "\n",
       "#sk-container-id-3 div.sk-serial {\n",
       "  display: flex;\n",
       "  flex-direction: column;\n",
       "  align-items: center;\n",
       "  background-color: var(--sklearn-color-background);\n",
       "  padding-right: 1em;\n",
       "  padding-left: 1em;\n",
       "}\n",
       "\n",
       "\n",
       "/* Toggleable style: style used for estimator/Pipeline/ColumnTransformer box that is\n",
       "clickable and can be expanded/collapsed.\n",
       "- Pipeline and ColumnTransformer use this feature and define the default style\n",
       "- Estimators will overwrite some part of the style using the `sk-estimator` class\n",
       "*/\n",
       "\n",
       "/* Pipeline and ColumnTransformer style (default) */\n",
       "\n",
       "#sk-container-id-3 div.sk-toggleable {\n",
       "  /* Default theme specific background. It is overwritten whether we have a\n",
       "  specific estimator or a Pipeline/ColumnTransformer */\n",
       "  background-color: var(--sklearn-color-background);\n",
       "}\n",
       "\n",
       "/* Toggleable label */\n",
       "#sk-container-id-3 label.sk-toggleable__label {\n",
       "  cursor: pointer;\n",
       "  display: block;\n",
       "  width: 100%;\n",
       "  margin-bottom: 0;\n",
       "  padding: 0.5em;\n",
       "  box-sizing: border-box;\n",
       "  text-align: center;\n",
       "}\n",
       "\n",
       "#sk-container-id-3 label.sk-toggleable__label-arrow:before {\n",
       "  /* Arrow on the left of the label */\n",
       "  content: \"▸\";\n",
       "  float: left;\n",
       "  margin-right: 0.25em;\n",
       "  color: var(--sklearn-color-icon);\n",
       "}\n",
       "\n",
       "#sk-container-id-3 label.sk-toggleable__label-arrow:hover:before {\n",
       "  color: var(--sklearn-color-text);\n",
       "}\n",
       "\n",
       "/* Toggleable content - dropdown */\n",
       "\n",
       "#sk-container-id-3 div.sk-toggleable__content {\n",
       "  max-height: 0;\n",
       "  max-width: 0;\n",
       "  overflow: hidden;\n",
       "  text-align: left;\n",
       "  /* unfitted */\n",
       "  background-color: var(--sklearn-color-unfitted-level-0);\n",
       "}\n",
       "\n",
       "#sk-container-id-3 div.sk-toggleable__content.fitted {\n",
       "  /* fitted */\n",
       "  background-color: var(--sklearn-color-fitted-level-0);\n",
       "}\n",
       "\n",
       "#sk-container-id-3 div.sk-toggleable__content pre {\n",
       "  margin: 0.2em;\n",
       "  border-radius: 0.25em;\n",
       "  color: var(--sklearn-color-text);\n",
       "  /* unfitted */\n",
       "  background-color: var(--sklearn-color-unfitted-level-0);\n",
       "}\n",
       "\n",
       "#sk-container-id-3 div.sk-toggleable__content.fitted pre {\n",
       "  /* unfitted */\n",
       "  background-color: var(--sklearn-color-fitted-level-0);\n",
       "}\n",
       "\n",
       "#sk-container-id-3 input.sk-toggleable__control:checked~div.sk-toggleable__content {\n",
       "  /* Expand drop-down */\n",
       "  max-height: 200px;\n",
       "  max-width: 100%;\n",
       "  overflow: auto;\n",
       "}\n",
       "\n",
       "#sk-container-id-3 input.sk-toggleable__control:checked~label.sk-toggleable__label-arrow:before {\n",
       "  content: \"▾\";\n",
       "}\n",
       "\n",
       "/* Pipeline/ColumnTransformer-specific style */\n",
       "\n",
       "#sk-container-id-3 div.sk-label input.sk-toggleable__control:checked~label.sk-toggleable__label {\n",
       "  color: var(--sklearn-color-text);\n",
       "  background-color: var(--sklearn-color-unfitted-level-2);\n",
       "}\n",
       "\n",
       "#sk-container-id-3 div.sk-label.fitted input.sk-toggleable__control:checked~label.sk-toggleable__label {\n",
       "  background-color: var(--sklearn-color-fitted-level-2);\n",
       "}\n",
       "\n",
       "/* Estimator-specific style */\n",
       "\n",
       "/* Colorize estimator box */\n",
       "#sk-container-id-3 div.sk-estimator input.sk-toggleable__control:checked~label.sk-toggleable__label {\n",
       "  /* unfitted */\n",
       "  background-color: var(--sklearn-color-unfitted-level-2);\n",
       "}\n",
       "\n",
       "#sk-container-id-3 div.sk-estimator.fitted input.sk-toggleable__control:checked~label.sk-toggleable__label {\n",
       "  /* fitted */\n",
       "  background-color: var(--sklearn-color-fitted-level-2);\n",
       "}\n",
       "\n",
       "#sk-container-id-3 div.sk-label label.sk-toggleable__label,\n",
       "#sk-container-id-3 div.sk-label label {\n",
       "  /* The background is the default theme color */\n",
       "  color: var(--sklearn-color-text-on-default-background);\n",
       "}\n",
       "\n",
       "/* On hover, darken the color of the background */\n",
       "#sk-container-id-3 div.sk-label:hover label.sk-toggleable__label {\n",
       "  color: var(--sklearn-color-text);\n",
       "  background-color: var(--sklearn-color-unfitted-level-2);\n",
       "}\n",
       "\n",
       "/* Label box, darken color on hover, fitted */\n",
       "#sk-container-id-3 div.sk-label.fitted:hover label.sk-toggleable__label.fitted {\n",
       "  color: var(--sklearn-color-text);\n",
       "  background-color: var(--sklearn-color-fitted-level-2);\n",
       "}\n",
       "\n",
       "/* Estimator label */\n",
       "\n",
       "#sk-container-id-3 div.sk-label label {\n",
       "  font-family: monospace;\n",
       "  font-weight: bold;\n",
       "  display: inline-block;\n",
       "  line-height: 1.2em;\n",
       "}\n",
       "\n",
       "#sk-container-id-3 div.sk-label-container {\n",
       "  text-align: center;\n",
       "}\n",
       "\n",
       "/* Estimator-specific */\n",
       "#sk-container-id-3 div.sk-estimator {\n",
       "  font-family: monospace;\n",
       "  border: 1px dotted var(--sklearn-color-border-box);\n",
       "  border-radius: 0.25em;\n",
       "  box-sizing: border-box;\n",
       "  margin-bottom: 0.5em;\n",
       "  /* unfitted */\n",
       "  background-color: var(--sklearn-color-unfitted-level-0);\n",
       "}\n",
       "\n",
       "#sk-container-id-3 div.sk-estimator.fitted {\n",
       "  /* fitted */\n",
       "  background-color: var(--sklearn-color-fitted-level-0);\n",
       "}\n",
       "\n",
       "/* on hover */\n",
       "#sk-container-id-3 div.sk-estimator:hover {\n",
       "  /* unfitted */\n",
       "  background-color: var(--sklearn-color-unfitted-level-2);\n",
       "}\n",
       "\n",
       "#sk-container-id-3 div.sk-estimator.fitted:hover {\n",
       "  /* fitted */\n",
       "  background-color: var(--sklearn-color-fitted-level-2);\n",
       "}\n",
       "\n",
       "/* Specification for estimator info (e.g. \"i\" and \"?\") */\n",
       "\n",
       "/* Common style for \"i\" and \"?\" */\n",
       "\n",
       ".sk-estimator-doc-link,\n",
       "a:link.sk-estimator-doc-link,\n",
       "a:visited.sk-estimator-doc-link {\n",
       "  float: right;\n",
       "  font-size: smaller;\n",
       "  line-height: 1em;\n",
       "  font-family: monospace;\n",
       "  background-color: var(--sklearn-color-background);\n",
       "  border-radius: 1em;\n",
       "  height: 1em;\n",
       "  width: 1em;\n",
       "  text-decoration: none !important;\n",
       "  margin-left: 1ex;\n",
       "  /* unfitted */\n",
       "  border: var(--sklearn-color-unfitted-level-1) 1pt solid;\n",
       "  color: var(--sklearn-color-unfitted-level-1);\n",
       "}\n",
       "\n",
       ".sk-estimator-doc-link.fitted,\n",
       "a:link.sk-estimator-doc-link.fitted,\n",
       "a:visited.sk-estimator-doc-link.fitted {\n",
       "  /* fitted */\n",
       "  border: var(--sklearn-color-fitted-level-1) 1pt solid;\n",
       "  color: var(--sklearn-color-fitted-level-1);\n",
       "}\n",
       "\n",
       "/* On hover */\n",
       "div.sk-estimator:hover .sk-estimator-doc-link:hover,\n",
       ".sk-estimator-doc-link:hover,\n",
       "div.sk-label-container:hover .sk-estimator-doc-link:hover,\n",
       ".sk-estimator-doc-link:hover {\n",
       "  /* unfitted */\n",
       "  background-color: var(--sklearn-color-unfitted-level-3);\n",
       "  color: var(--sklearn-color-background);\n",
       "  text-decoration: none;\n",
       "}\n",
       "\n",
       "div.sk-estimator.fitted:hover .sk-estimator-doc-link.fitted:hover,\n",
       ".sk-estimator-doc-link.fitted:hover,\n",
       "div.sk-label-container:hover .sk-estimator-doc-link.fitted:hover,\n",
       ".sk-estimator-doc-link.fitted:hover {\n",
       "  /* fitted */\n",
       "  background-color: var(--sklearn-color-fitted-level-3);\n",
       "  color: var(--sklearn-color-background);\n",
       "  text-decoration: none;\n",
       "}\n",
       "\n",
       "/* Span, style for the box shown on hovering the info icon */\n",
       ".sk-estimator-doc-link span {\n",
       "  display: none;\n",
       "  z-index: 9999;\n",
       "  position: relative;\n",
       "  font-weight: normal;\n",
       "  right: .2ex;\n",
       "  padding: .5ex;\n",
       "  margin: .5ex;\n",
       "  width: min-content;\n",
       "  min-width: 20ex;\n",
       "  max-width: 50ex;\n",
       "  color: var(--sklearn-color-text);\n",
       "  box-shadow: 2pt 2pt 4pt #999;\n",
       "  /* unfitted */\n",
       "  background: var(--sklearn-color-unfitted-level-0);\n",
       "  border: .5pt solid var(--sklearn-color-unfitted-level-3);\n",
       "}\n",
       "\n",
       ".sk-estimator-doc-link.fitted span {\n",
       "  /* fitted */\n",
       "  background: var(--sklearn-color-fitted-level-0);\n",
       "  border: var(--sklearn-color-fitted-level-3);\n",
       "}\n",
       "\n",
       ".sk-estimator-doc-link:hover span {\n",
       "  display: block;\n",
       "}\n",
       "\n",
       "/* \"?\"-specific style due to the `<a>` HTML tag */\n",
       "\n",
       "#sk-container-id-3 a.estimator_doc_link {\n",
       "  float: right;\n",
       "  font-size: 1rem;\n",
       "  line-height: 1em;\n",
       "  font-family: monospace;\n",
       "  background-color: var(--sklearn-color-background);\n",
       "  border-radius: 1rem;\n",
       "  height: 1rem;\n",
       "  width: 1rem;\n",
       "  text-decoration: none;\n",
       "  /* unfitted */\n",
       "  color: var(--sklearn-color-unfitted-level-1);\n",
       "  border: var(--sklearn-color-unfitted-level-1) 1pt solid;\n",
       "}\n",
       "\n",
       "#sk-container-id-3 a.estimator_doc_link.fitted {\n",
       "  /* fitted */\n",
       "  border: var(--sklearn-color-fitted-level-1) 1pt solid;\n",
       "  color: var(--sklearn-color-fitted-level-1);\n",
       "}\n",
       "\n",
       "/* On hover */\n",
       "#sk-container-id-3 a.estimator_doc_link:hover {\n",
       "  /* unfitted */\n",
       "  background-color: var(--sklearn-color-unfitted-level-3);\n",
       "  color: var(--sklearn-color-background);\n",
       "  text-decoration: none;\n",
       "}\n",
       "\n",
       "#sk-container-id-3 a.estimator_doc_link.fitted:hover {\n",
       "  /* fitted */\n",
       "  background-color: var(--sklearn-color-fitted-level-3);\n",
       "}\n",
       "</style><div id=\"sk-container-id-3\" class=\"sk-top-container\"><div class=\"sk-text-repr-fallback\"><pre>Pipeline(steps=[(&#x27;standardscaler&#x27;, StandardScaler()),\n",
       "                (&#x27;randomforestclassifier&#x27;, RandomForestClassifier())])</pre><b>In a Jupyter environment, please rerun this cell to show the HTML representation or trust the notebook. <br />On GitHub, the HTML representation is unable to render, please try loading this page with nbviewer.org.</b></div><div class=\"sk-container\" hidden><div class=\"sk-item sk-dashed-wrapped\"><div class=\"sk-label-container\"><div class=\"sk-label fitted sk-toggleable\"><input class=\"sk-toggleable__control sk-hidden--visually\" id=\"sk-estimator-id-7\" type=\"checkbox\" ><label for=\"sk-estimator-id-7\" class=\"sk-toggleable__label fitted sk-toggleable__label-arrow fitted\">&nbsp;&nbsp;Pipeline<a class=\"sk-estimator-doc-link fitted\" rel=\"noreferrer\" target=\"_blank\" href=\"https://scikit-learn.org/1.4/modules/generated/sklearn.pipeline.Pipeline.html\">?<span>Documentation for Pipeline</span></a><span class=\"sk-estimator-doc-link fitted\">i<span>Fitted</span></span></label><div class=\"sk-toggleable__content fitted\"><pre>Pipeline(steps=[(&#x27;standardscaler&#x27;, StandardScaler()),\n",
       "                (&#x27;randomforestclassifier&#x27;, RandomForestClassifier())])</pre></div> </div></div><div class=\"sk-serial\"><div class=\"sk-item\"><div class=\"sk-estimator fitted sk-toggleable\"><input class=\"sk-toggleable__control sk-hidden--visually\" id=\"sk-estimator-id-8\" type=\"checkbox\" ><label for=\"sk-estimator-id-8\" class=\"sk-toggleable__label fitted sk-toggleable__label-arrow fitted\">&nbsp;StandardScaler<a class=\"sk-estimator-doc-link fitted\" rel=\"noreferrer\" target=\"_blank\" href=\"https://scikit-learn.org/1.4/modules/generated/sklearn.preprocessing.StandardScaler.html\">?<span>Documentation for StandardScaler</span></a></label><div class=\"sk-toggleable__content fitted\"><pre>StandardScaler()</pre></div> </div></div><div class=\"sk-item\"><div class=\"sk-estimator fitted sk-toggleable\"><input class=\"sk-toggleable__control sk-hidden--visually\" id=\"sk-estimator-id-9\" type=\"checkbox\" ><label for=\"sk-estimator-id-9\" class=\"sk-toggleable__label fitted sk-toggleable__label-arrow fitted\">&nbsp;RandomForestClassifier<a class=\"sk-estimator-doc-link fitted\" rel=\"noreferrer\" target=\"_blank\" href=\"https://scikit-learn.org/1.4/modules/generated/sklearn.ensemble.RandomForestClassifier.html\">?<span>Documentation for RandomForestClassifier</span></a></label><div class=\"sk-toggleable__content fitted\"><pre>RandomForestClassifier()</pre></div> </div></div></div></div></div></div>"
      ],
      "text/plain": [
       "Pipeline(steps=[('standardscaler', StandardScaler()),\n",
       "                ('randomforestclassifier', RandomForestClassifier())])"
      ]
     },
     "metadata": {},
     "output_type": "display_data"
    }
   ],
   "source": [
    "model"
   ]
  },
  {
   "cell_type": "code",
   "execution_count": null,
   "metadata": {},
   "outputs": [
    {
     "name": "stderr",
     "output_type": "stream",
     "text": [
      "/Library/Frameworks/Python.framework/Versions/3.10/lib/python3.10/site-packages/sklearn/base.py:493: UserWarning: X does not have valid feature names, but StandardScaler was fitted with feature names\n",
      "  warnings.warn(\n",
      "/Library/Frameworks/Python.framework/Versions/3.10/lib/python3.10/site-packages/sklearn/base.py:493: UserWarning: X does not have valid feature names, but StandardScaler was fitted with feature names\n",
      "  warnings.warn(\n"
     ]
    },
    {
     "name": "stdout",
     "output_type": "stream",
     "text": [
      "Buuu que mal [0. 1.]\n"
     ]
    },
    {
     "name": "stderr",
     "output_type": "stream",
     "text": [
      "/Library/Frameworks/Python.framework/Versions/3.10/lib/python3.10/site-packages/sklearn/base.py:493: UserWarning: X does not have valid feature names, but StandardScaler was fitted with feature names\n",
      "  warnings.warn(\n",
      "/Library/Frameworks/Python.framework/Versions/3.10/lib/python3.10/site-packages/sklearn/base.py:493: UserWarning: X does not have valid feature names, but StandardScaler was fitted with feature names\n",
      "  warnings.warn(\n"
     ]
    },
    {
     "name": "stdout",
     "output_type": "stream",
     "text": [
      "Buuu que mal [0. 1.]\n"
     ]
    },
    {
     "name": "stderr",
     "output_type": "stream",
     "text": [
      "/Library/Frameworks/Python.framework/Versions/3.10/lib/python3.10/site-packages/sklearn/base.py:493: UserWarning: X does not have valid feature names, but StandardScaler was fitted with feature names\n",
      "  warnings.warn(\n",
      "/Library/Frameworks/Python.framework/Versions/3.10/lib/python3.10/site-packages/sklearn/base.py:493: UserWarning: X does not have valid feature names, but StandardScaler was fitted with feature names\n",
      "  warnings.warn(\n"
     ]
    },
    {
     "name": "stdout",
     "output_type": "stream",
     "text": [
      "Buuu que mal [0. 1.]\n",
      "Buuu que mal [0. 1.]\n"
     ]
    },
    {
     "name": "stderr",
     "output_type": "stream",
     "text": [
      "/Library/Frameworks/Python.framework/Versions/3.10/lib/python3.10/site-packages/sklearn/base.py:493: UserWarning: X does not have valid feature names, but StandardScaler was fitted with feature names\n",
      "  warnings.warn(\n",
      "/Library/Frameworks/Python.framework/Versions/3.10/lib/python3.10/site-packages/sklearn/base.py:493: UserWarning: X does not have valid feature names, but StandardScaler was fitted with feature names\n",
      "  warnings.warn(\n",
      "/Library/Frameworks/Python.framework/Versions/3.10/lib/python3.10/site-packages/sklearn/base.py:493: UserWarning: X does not have valid feature names, but StandardScaler was fitted with feature names\n",
      "  warnings.warn(\n",
      "/Library/Frameworks/Python.framework/Versions/3.10/lib/python3.10/site-packages/sklearn/base.py:493: UserWarning: X does not have valid feature names, but StandardScaler was fitted with feature names\n",
      "  warnings.warn(\n"
     ]
    },
    {
     "name": "stdout",
     "output_type": "stream",
     "text": [
      "Buuu que mal [0. 1.]\n"
     ]
    },
    {
     "name": "stderr",
     "output_type": "stream",
     "text": [
      "/Library/Frameworks/Python.framework/Versions/3.10/lib/python3.10/site-packages/sklearn/base.py:493: UserWarning: X does not have valid feature names, but StandardScaler was fitted with feature names\n",
      "  warnings.warn(\n",
      "/Library/Frameworks/Python.framework/Versions/3.10/lib/python3.10/site-packages/sklearn/base.py:493: UserWarning: X does not have valid feature names, but StandardScaler was fitted with feature names\n",
      "  warnings.warn(\n",
      "/Library/Frameworks/Python.framework/Versions/3.10/lib/python3.10/site-packages/sklearn/base.py:493: UserWarning: X does not have valid feature names, but StandardScaler was fitted with feature names\n",
      "  warnings.warn(\n",
      "/Library/Frameworks/Python.framework/Versions/3.10/lib/python3.10/site-packages/sklearn/base.py:493: UserWarning: X does not have valid feature names, but StandardScaler was fitted with feature names\n",
      "  warnings.warn(\n"
     ]
    },
    {
     "name": "stdout",
     "output_type": "stream",
     "text": [
      "Buuu que mal [0. 1.]\n",
      "Buuu que mal [0. 1.]\n"
     ]
    },
    {
     "name": "stderr",
     "output_type": "stream",
     "text": [
      "/Library/Frameworks/Python.framework/Versions/3.10/lib/python3.10/site-packages/sklearn/base.py:493: UserWarning: X does not have valid feature names, but StandardScaler was fitted with feature names\n",
      "  warnings.warn(\n",
      "/Library/Frameworks/Python.framework/Versions/3.10/lib/python3.10/site-packages/sklearn/base.py:493: UserWarning: X does not have valid feature names, but StandardScaler was fitted with feature names\n",
      "  warnings.warn(\n"
     ]
    },
    {
     "name": "stdout",
     "output_type": "stream",
     "text": [
      "Buuu que mal [0. 1.]\n"
     ]
    },
    {
     "name": "stderr",
     "output_type": "stream",
     "text": [
      "/Library/Frameworks/Python.framework/Versions/3.10/lib/python3.10/site-packages/sklearn/base.py:493: UserWarning: X does not have valid feature names, but StandardScaler was fitted with feature names\n",
      "  warnings.warn(\n",
      "/Library/Frameworks/Python.framework/Versions/3.10/lib/python3.10/site-packages/sklearn/base.py:493: UserWarning: X does not have valid feature names, but StandardScaler was fitted with feature names\n",
      "  warnings.warn(\n"
     ]
    },
    {
     "name": "stdout",
     "output_type": "stream",
     "text": [
      "Buuu que mal [0. 1.]\n"
     ]
    },
    {
     "name": "stderr",
     "output_type": "stream",
     "text": [
      "/Library/Frameworks/Python.framework/Versions/3.10/lib/python3.10/site-packages/sklearn/base.py:493: UserWarning: X does not have valid feature names, but StandardScaler was fitted with feature names\n",
      "  warnings.warn(\n",
      "/Library/Frameworks/Python.framework/Versions/3.10/lib/python3.10/site-packages/sklearn/base.py:493: UserWarning: X does not have valid feature names, but StandardScaler was fitted with feature names\n",
      "  warnings.warn(\n",
      "/Library/Frameworks/Python.framework/Versions/3.10/lib/python3.10/site-packages/sklearn/base.py:493: UserWarning: X does not have valid feature names, but StandardScaler was fitted with feature names\n",
      "  warnings.warn(\n",
      "/Library/Frameworks/Python.framework/Versions/3.10/lib/python3.10/site-packages/sklearn/base.py:493: UserWarning: X does not have valid feature names, but StandardScaler was fitted with feature names\n",
      "  warnings.warn(\n"
     ]
    },
    {
     "name": "stdout",
     "output_type": "stream",
     "text": [
      "Buuu que mal [0. 1.]\n",
      "Buuu que mal [0. 1.]\n",
      "Buuu que mal [0. 1.]\n"
     ]
    },
    {
     "name": "stderr",
     "output_type": "stream",
     "text": [
      "/Library/Frameworks/Python.framework/Versions/3.10/lib/python3.10/site-packages/sklearn/base.py:493: UserWarning: X does not have valid feature names, but StandardScaler was fitted with feature names\n",
      "  warnings.warn(\n",
      "/Library/Frameworks/Python.framework/Versions/3.10/lib/python3.10/site-packages/sklearn/base.py:493: UserWarning: X does not have valid feature names, but StandardScaler was fitted with feature names\n",
      "  warnings.warn(\n",
      "/Library/Frameworks/Python.framework/Versions/3.10/lib/python3.10/site-packages/sklearn/base.py:493: UserWarning: X does not have valid feature names, but StandardScaler was fitted with feature names\n",
      "  warnings.warn(\n",
      "/Library/Frameworks/Python.framework/Versions/3.10/lib/python3.10/site-packages/sklearn/base.py:493: UserWarning: X does not have valid feature names, but StandardScaler was fitted with feature names\n",
      "  warnings.warn(\n"
     ]
    },
    {
     "name": "stdout",
     "output_type": "stream",
     "text": [
      "Buuu que mal [0. 1.]\n",
      "Buuu que mal [0. 1.]\n"
     ]
    },
    {
     "name": "stderr",
     "output_type": "stream",
     "text": [
      "/Library/Frameworks/Python.framework/Versions/3.10/lib/python3.10/site-packages/sklearn/base.py:493: UserWarning: X does not have valid feature names, but StandardScaler was fitted with feature names\n",
      "  warnings.warn(\n",
      "/Library/Frameworks/Python.framework/Versions/3.10/lib/python3.10/site-packages/sklearn/base.py:493: UserWarning: X does not have valid feature names, but StandardScaler was fitted with feature names\n",
      "  warnings.warn(\n",
      "/Library/Frameworks/Python.framework/Versions/3.10/lib/python3.10/site-packages/sklearn/base.py:493: UserWarning: X does not have valid feature names, but StandardScaler was fitted with feature names\n",
      "  warnings.warn(\n",
      "/Library/Frameworks/Python.framework/Versions/3.10/lib/python3.10/site-packages/sklearn/base.py:493: UserWarning: X does not have valid feature names, but StandardScaler was fitted with feature names\n",
      "  warnings.warn(\n"
     ]
    },
    {
     "name": "stdout",
     "output_type": "stream",
     "text": [
      "Buuu que mal [0. 1.]\n"
     ]
    },
    {
     "name": "stderr",
     "output_type": "stream",
     "text": [
      "/Library/Frameworks/Python.framework/Versions/3.10/lib/python3.10/site-packages/sklearn/base.py:493: UserWarning: X does not have valid feature names, but StandardScaler was fitted with feature names\n",
      "  warnings.warn(\n",
      "/Library/Frameworks/Python.framework/Versions/3.10/lib/python3.10/site-packages/sklearn/base.py:493: UserWarning: X does not have valid feature names, but StandardScaler was fitted with feature names\n",
      "  warnings.warn(\n"
     ]
    },
    {
     "name": "stdout",
     "output_type": "stream",
     "text": [
      "Buuu que mal [0. 1.]\n"
     ]
    },
    {
     "name": "stderr",
     "output_type": "stream",
     "text": [
      "/Library/Frameworks/Python.framework/Versions/3.10/lib/python3.10/site-packages/sklearn/base.py:493: UserWarning: X does not have valid feature names, but StandardScaler was fitted with feature names\n",
      "  warnings.warn(\n",
      "/Library/Frameworks/Python.framework/Versions/3.10/lib/python3.10/site-packages/sklearn/base.py:493: UserWarning: X does not have valid feature names, but StandardScaler was fitted with feature names\n",
      "  warnings.warn(\n",
      "/Library/Frameworks/Python.framework/Versions/3.10/lib/python3.10/site-packages/sklearn/base.py:493: UserWarning: X does not have valid feature names, but StandardScaler was fitted with feature names\n",
      "  warnings.warn(\n"
     ]
    },
    {
     "name": "stdout",
     "output_type": "stream",
     "text": [
      "Buuu que mal [0. 1.]\n",
      "Buuu que mal [0. 1.]\n"
     ]
    },
    {
     "name": "stderr",
     "output_type": "stream",
     "text": [
      "/Library/Frameworks/Python.framework/Versions/3.10/lib/python3.10/site-packages/sklearn/base.py:493: UserWarning: X does not have valid feature names, but StandardScaler was fitted with feature names\n",
      "  warnings.warn(\n",
      "/Library/Frameworks/Python.framework/Versions/3.10/lib/python3.10/site-packages/sklearn/base.py:493: UserWarning: X does not have valid feature names, but StandardScaler was fitted with feature names\n",
      "  warnings.warn(\n",
      "/Library/Frameworks/Python.framework/Versions/3.10/lib/python3.10/site-packages/sklearn/base.py:493: UserWarning: X does not have valid feature names, but StandardScaler was fitted with feature names\n",
      "  warnings.warn(\n"
     ]
    },
    {
     "name": "stdout",
     "output_type": "stream",
     "text": [
      "Buuu que mal [0. 1.]\n"
     ]
    },
    {
     "name": "stderr",
     "output_type": "stream",
     "text": [
      "/Library/Frameworks/Python.framework/Versions/3.10/lib/python3.10/site-packages/sklearn/base.py:493: UserWarning: X does not have valid feature names, but StandardScaler was fitted with feature names\n",
      "  warnings.warn(\n",
      "/Library/Frameworks/Python.framework/Versions/3.10/lib/python3.10/site-packages/sklearn/base.py:493: UserWarning: X does not have valid feature names, but StandardScaler was fitted with feature names\n",
      "  warnings.warn(\n"
     ]
    },
    {
     "name": "stdout",
     "output_type": "stream",
     "text": [
      "Buuu que mal [0. 1.]\n"
     ]
    },
    {
     "name": "stderr",
     "output_type": "stream",
     "text": [
      "/Library/Frameworks/Python.framework/Versions/3.10/lib/python3.10/site-packages/sklearn/base.py:493: UserWarning: X does not have valid feature names, but StandardScaler was fitted with feature names\n",
      "  warnings.warn(\n",
      "/Library/Frameworks/Python.framework/Versions/3.10/lib/python3.10/site-packages/sklearn/base.py:493: UserWarning: X does not have valid feature names, but StandardScaler was fitted with feature names\n",
      "  warnings.warn(\n"
     ]
    },
    {
     "name": "stdout",
     "output_type": "stream",
     "text": [
      "Buuu que mal [0. 1.]\n"
     ]
    },
    {
     "name": "stderr",
     "output_type": "stream",
     "text": [
      "/Library/Frameworks/Python.framework/Versions/3.10/lib/python3.10/site-packages/sklearn/base.py:493: UserWarning: X does not have valid feature names, but StandardScaler was fitted with feature names\n",
      "  warnings.warn(\n",
      "/Library/Frameworks/Python.framework/Versions/3.10/lib/python3.10/site-packages/sklearn/base.py:493: UserWarning: X does not have valid feature names, but StandardScaler was fitted with feature names\n",
      "  warnings.warn(\n"
     ]
    },
    {
     "name": "stdout",
     "output_type": "stream",
     "text": [
      "Buuu que mal [0. 1.]\n"
     ]
    },
    {
     "name": "stderr",
     "output_type": "stream",
     "text": [
      "/Library/Frameworks/Python.framework/Versions/3.10/lib/python3.10/site-packages/sklearn/base.py:493: UserWarning: X does not have valid feature names, but StandardScaler was fitted with feature names\n",
      "  warnings.warn(\n",
      "/Library/Frameworks/Python.framework/Versions/3.10/lib/python3.10/site-packages/sklearn/base.py:493: UserWarning: X does not have valid feature names, but StandardScaler was fitted with feature names\n",
      "  warnings.warn(\n"
     ]
    },
    {
     "name": "stdout",
     "output_type": "stream",
     "text": [
      "Buuu que mal [0. 1.]\n"
     ]
    },
    {
     "name": "stderr",
     "output_type": "stream",
     "text": [
      "/Library/Frameworks/Python.framework/Versions/3.10/lib/python3.10/site-packages/sklearn/base.py:493: UserWarning: X does not have valid feature names, but StandardScaler was fitted with feature names\n",
      "  warnings.warn(\n",
      "/Library/Frameworks/Python.framework/Versions/3.10/lib/python3.10/site-packages/sklearn/base.py:493: UserWarning: X does not have valid feature names, but StandardScaler was fitted with feature names\n",
      "  warnings.warn(\n"
     ]
    },
    {
     "name": "stdout",
     "output_type": "stream",
     "text": [
      "Buuu que mal [0. 1.]\n"
     ]
    },
    {
     "name": "stderr",
     "output_type": "stream",
     "text": [
      "/Library/Frameworks/Python.framework/Versions/3.10/lib/python3.10/site-packages/sklearn/base.py:493: UserWarning: X does not have valid feature names, but StandardScaler was fitted with feature names\n",
      "  warnings.warn(\n",
      "/Library/Frameworks/Python.framework/Versions/3.10/lib/python3.10/site-packages/sklearn/base.py:493: UserWarning: X does not have valid feature names, but StandardScaler was fitted with feature names\n",
      "  warnings.warn(\n"
     ]
    },
    {
     "name": "stdout",
     "output_type": "stream",
     "text": [
      "Buuu que mal [0. 1.]\n"
     ]
    },
    {
     "name": "stderr",
     "output_type": "stream",
     "text": [
      "/Library/Frameworks/Python.framework/Versions/3.10/lib/python3.10/site-packages/sklearn/base.py:493: UserWarning: X does not have valid feature names, but StandardScaler was fitted with feature names\n",
      "  warnings.warn(\n",
      "/Library/Frameworks/Python.framework/Versions/3.10/lib/python3.10/site-packages/sklearn/base.py:493: UserWarning: X does not have valid feature names, but StandardScaler was fitted with feature names\n",
      "  warnings.warn(\n"
     ]
    },
    {
     "name": "stdout",
     "output_type": "stream",
     "text": [
      "Buuu que mal [0. 1.]\n"
     ]
    },
    {
     "name": "stderr",
     "output_type": "stream",
     "text": [
      "/Library/Frameworks/Python.framework/Versions/3.10/lib/python3.10/site-packages/sklearn/base.py:493: UserWarning: X does not have valid feature names, but StandardScaler was fitted with feature names\n",
      "  warnings.warn(\n",
      "/Library/Frameworks/Python.framework/Versions/3.10/lib/python3.10/site-packages/sklearn/base.py:493: UserWarning: X does not have valid feature names, but StandardScaler was fitted with feature names\n",
      "  warnings.warn(\n"
     ]
    },
    {
     "name": "stdout",
     "output_type": "stream",
     "text": [
      "Buuu que mal [0. 1.]\n"
     ]
    },
    {
     "name": "stderr",
     "output_type": "stream",
     "text": [
      "/Library/Frameworks/Python.framework/Versions/3.10/lib/python3.10/site-packages/sklearn/base.py:493: UserWarning: X does not have valid feature names, but StandardScaler was fitted with feature names\n",
      "  warnings.warn(\n",
      "/Library/Frameworks/Python.framework/Versions/3.10/lib/python3.10/site-packages/sklearn/base.py:493: UserWarning: X does not have valid feature names, but StandardScaler was fitted with feature names\n",
      "  warnings.warn(\n"
     ]
    },
    {
     "name": "stdout",
     "output_type": "stream",
     "text": [
      "Buuu que mal [0. 1.]\n"
     ]
    },
    {
     "name": "stderr",
     "output_type": "stream",
     "text": [
      "/Library/Frameworks/Python.framework/Versions/3.10/lib/python3.10/site-packages/sklearn/base.py:493: UserWarning: X does not have valid feature names, but StandardScaler was fitted with feature names\n",
      "  warnings.warn(\n",
      "/Library/Frameworks/Python.framework/Versions/3.10/lib/python3.10/site-packages/sklearn/base.py:493: UserWarning: X does not have valid feature names, but StandardScaler was fitted with feature names\n",
      "  warnings.warn(\n"
     ]
    },
    {
     "name": "stdout",
     "output_type": "stream",
     "text": [
      "Buuu que mal [0. 1.]\n"
     ]
    },
    {
     "name": "stderr",
     "output_type": "stream",
     "text": [
      "/Library/Frameworks/Python.framework/Versions/3.10/lib/python3.10/site-packages/sklearn/base.py:493: UserWarning: X does not have valid feature names, but StandardScaler was fitted with feature names\n",
      "  warnings.warn(\n",
      "/Library/Frameworks/Python.framework/Versions/3.10/lib/python3.10/site-packages/sklearn/base.py:493: UserWarning: X does not have valid feature names, but StandardScaler was fitted with feature names\n",
      "  warnings.warn(\n"
     ]
    },
    {
     "name": "stdout",
     "output_type": "stream",
     "text": [
      "Buuu que mal [0. 1.]\n"
     ]
    },
    {
     "name": "stderr",
     "output_type": "stream",
     "text": [
      "/Library/Frameworks/Python.framework/Versions/3.10/lib/python3.10/site-packages/sklearn/base.py:493: UserWarning: X does not have valid feature names, but StandardScaler was fitted with feature names\n",
      "  warnings.warn(\n",
      "/Library/Frameworks/Python.framework/Versions/3.10/lib/python3.10/site-packages/sklearn/base.py:493: UserWarning: X does not have valid feature names, but StandardScaler was fitted with feature names\n",
      "  warnings.warn(\n"
     ]
    },
    {
     "name": "stdout",
     "output_type": "stream",
     "text": [
      "Buuu que mal [0. 1.]\n"
     ]
    },
    {
     "name": "stderr",
     "output_type": "stream",
     "text": [
      "/Library/Frameworks/Python.framework/Versions/3.10/lib/python3.10/site-packages/sklearn/base.py:493: UserWarning: X does not have valid feature names, but StandardScaler was fitted with feature names\n",
      "  warnings.warn(\n",
      "/Library/Frameworks/Python.framework/Versions/3.10/lib/python3.10/site-packages/sklearn/base.py:493: UserWarning: X does not have valid feature names, but StandardScaler was fitted with feature names\n",
      "  warnings.warn(\n"
     ]
    },
    {
     "name": "stdout",
     "output_type": "stream",
     "text": [
      "Buuu que mal [0. 1.]\n"
     ]
    },
    {
     "name": "stderr",
     "output_type": "stream",
     "text": [
      "/Library/Frameworks/Python.framework/Versions/3.10/lib/python3.10/site-packages/sklearn/base.py:493: UserWarning: X does not have valid feature names, but StandardScaler was fitted with feature names\n",
      "  warnings.warn(\n",
      "/Library/Frameworks/Python.framework/Versions/3.10/lib/python3.10/site-packages/sklearn/base.py:493: UserWarning: X does not have valid feature names, but StandardScaler was fitted with feature names\n",
      "  warnings.warn(\n"
     ]
    },
    {
     "name": "stdout",
     "output_type": "stream",
     "text": [
      "Buuu que mal [0. 1.]\n"
     ]
    },
    {
     "name": "stderr",
     "output_type": "stream",
     "text": [
      "/Library/Frameworks/Python.framework/Versions/3.10/lib/python3.10/site-packages/sklearn/base.py:493: UserWarning: X does not have valid feature names, but StandardScaler was fitted with feature names\n",
      "  warnings.warn(\n",
      "/Library/Frameworks/Python.framework/Versions/3.10/lib/python3.10/site-packages/sklearn/base.py:493: UserWarning: X does not have valid feature names, but StandardScaler was fitted with feature names\n",
      "  warnings.warn(\n"
     ]
    },
    {
     "name": "stdout",
     "output_type": "stream",
     "text": [
      "Buuu que mal [0. 1.]\n"
     ]
    },
    {
     "name": "stderr",
     "output_type": "stream",
     "text": [
      "/Library/Frameworks/Python.framework/Versions/3.10/lib/python3.10/site-packages/sklearn/base.py:493: UserWarning: X does not have valid feature names, but StandardScaler was fitted with feature names\n",
      "  warnings.warn(\n",
      "/Library/Frameworks/Python.framework/Versions/3.10/lib/python3.10/site-packages/sklearn/base.py:493: UserWarning: X does not have valid feature names, but StandardScaler was fitted with feature names\n",
      "  warnings.warn(\n"
     ]
    },
    {
     "name": "stdout",
     "output_type": "stream",
     "text": [
      "Buuu que mal [0. 1.]\n"
     ]
    },
    {
     "name": "stderr",
     "output_type": "stream",
     "text": [
      "/Library/Frameworks/Python.framework/Versions/3.10/lib/python3.10/site-packages/sklearn/base.py:493: UserWarning: X does not have valid feature names, but StandardScaler was fitted with feature names\n",
      "  warnings.warn(\n",
      "/Library/Frameworks/Python.framework/Versions/3.10/lib/python3.10/site-packages/sklearn/base.py:493: UserWarning: X does not have valid feature names, but StandardScaler was fitted with feature names\n",
      "  warnings.warn(\n"
     ]
    },
    {
     "name": "stdout",
     "output_type": "stream",
     "text": [
      "Buuu que mal [0. 1.]\n"
     ]
    },
    {
     "name": "stderr",
     "output_type": "stream",
     "text": [
      "/Library/Frameworks/Python.framework/Versions/3.10/lib/python3.10/site-packages/sklearn/base.py:493: UserWarning: X does not have valid feature names, but StandardScaler was fitted with feature names\n",
      "  warnings.warn(\n",
      "/Library/Frameworks/Python.framework/Versions/3.10/lib/python3.10/site-packages/sklearn/base.py:493: UserWarning: X does not have valid feature names, but StandardScaler was fitted with feature names\n",
      "  warnings.warn(\n"
     ]
    },
    {
     "name": "stdout",
     "output_type": "stream",
     "text": [
      "Buuu que mal [0. 1.]\n"
     ]
    },
    {
     "name": "stderr",
     "output_type": "stream",
     "text": [
      "/Library/Frameworks/Python.framework/Versions/3.10/lib/python3.10/site-packages/sklearn/base.py:493: UserWarning: X does not have valid feature names, but StandardScaler was fitted with feature names\n",
      "  warnings.warn(\n",
      "/Library/Frameworks/Python.framework/Versions/3.10/lib/python3.10/site-packages/sklearn/base.py:493: UserWarning: X does not have valid feature names, but StandardScaler was fitted with feature names\n",
      "  warnings.warn(\n"
     ]
    },
    {
     "name": "stdout",
     "output_type": "stream",
     "text": [
      "Buuu que mal [0. 1.]\n"
     ]
    },
    {
     "name": "stderr",
     "output_type": "stream",
     "text": [
      "/Library/Frameworks/Python.framework/Versions/3.10/lib/python3.10/site-packages/sklearn/base.py:493: UserWarning: X does not have valid feature names, but StandardScaler was fitted with feature names\n",
      "  warnings.warn(\n",
      "/Library/Frameworks/Python.framework/Versions/3.10/lib/python3.10/site-packages/sklearn/base.py:493: UserWarning: X does not have valid feature names, but StandardScaler was fitted with feature names\n",
      "  warnings.warn(\n"
     ]
    },
    {
     "name": "stdout",
     "output_type": "stream",
     "text": [
      "Buuu que mal [0. 1.]\n"
     ]
    },
    {
     "name": "stderr",
     "output_type": "stream",
     "text": [
      "/Library/Frameworks/Python.framework/Versions/3.10/lib/python3.10/site-packages/sklearn/base.py:493: UserWarning: X does not have valid feature names, but StandardScaler was fitted with feature names\n",
      "  warnings.warn(\n",
      "/Library/Frameworks/Python.framework/Versions/3.10/lib/python3.10/site-packages/sklearn/base.py:493: UserWarning: X does not have valid feature names, but StandardScaler was fitted with feature names\n",
      "  warnings.warn(\n"
     ]
    },
    {
     "name": "stdout",
     "output_type": "stream",
     "text": [
      "Buuu que mal [0. 1.]\n"
     ]
    },
    {
     "name": "stderr",
     "output_type": "stream",
     "text": [
      "/Library/Frameworks/Python.framework/Versions/3.10/lib/python3.10/site-packages/sklearn/base.py:493: UserWarning: X does not have valid feature names, but StandardScaler was fitted with feature names\n",
      "  warnings.warn(\n",
      "/Library/Frameworks/Python.framework/Versions/3.10/lib/python3.10/site-packages/sklearn/base.py:493: UserWarning: X does not have valid feature names, but StandardScaler was fitted with feature names\n",
      "  warnings.warn(\n"
     ]
    },
    {
     "name": "stdout",
     "output_type": "stream",
     "text": [
      "Buuu que mal [0. 1.]\n"
     ]
    },
    {
     "name": "stderr",
     "output_type": "stream",
     "text": [
      "/Library/Frameworks/Python.framework/Versions/3.10/lib/python3.10/site-packages/sklearn/base.py:493: UserWarning: X does not have valid feature names, but StandardScaler was fitted with feature names\n",
      "  warnings.warn(\n",
      "/Library/Frameworks/Python.framework/Versions/3.10/lib/python3.10/site-packages/sklearn/base.py:493: UserWarning: X does not have valid feature names, but StandardScaler was fitted with feature names\n",
      "  warnings.warn(\n"
     ]
    },
    {
     "name": "stdout",
     "output_type": "stream",
     "text": [
      "Buuu que mal [0. 1.]\n"
     ]
    },
    {
     "name": "stderr",
     "output_type": "stream",
     "text": [
      "/Library/Frameworks/Python.framework/Versions/3.10/lib/python3.10/site-packages/sklearn/base.py:493: UserWarning: X does not have valid feature names, but StandardScaler was fitted with feature names\n",
      "  warnings.warn(\n",
      "/Library/Frameworks/Python.framework/Versions/3.10/lib/python3.10/site-packages/sklearn/base.py:493: UserWarning: X does not have valid feature names, but StandardScaler was fitted with feature names\n",
      "  warnings.warn(\n"
     ]
    },
    {
     "name": "stdout",
     "output_type": "stream",
     "text": [
      "Buuu que mal [0. 1.]\n"
     ]
    },
    {
     "name": "stderr",
     "output_type": "stream",
     "text": [
      "/Library/Frameworks/Python.framework/Versions/3.10/lib/python3.10/site-packages/sklearn/base.py:493: UserWarning: X does not have valid feature names, but StandardScaler was fitted with feature names\n",
      "  warnings.warn(\n",
      "/Library/Frameworks/Python.framework/Versions/3.10/lib/python3.10/site-packages/sklearn/base.py:493: UserWarning: X does not have valid feature names, but StandardScaler was fitted with feature names\n",
      "  warnings.warn(\n"
     ]
    },
    {
     "name": "stdout",
     "output_type": "stream",
     "text": [
      "Buuu que mal [0. 1.]\n"
     ]
    },
    {
     "name": "stderr",
     "output_type": "stream",
     "text": [
      "/Library/Frameworks/Python.framework/Versions/3.10/lib/python3.10/site-packages/sklearn/base.py:493: UserWarning: X does not have valid feature names, but StandardScaler was fitted with feature names\n",
      "  warnings.warn(\n",
      "/Library/Frameworks/Python.framework/Versions/3.10/lib/python3.10/site-packages/sklearn/base.py:493: UserWarning: X does not have valid feature names, but StandardScaler was fitted with feature names\n",
      "  warnings.warn(\n"
     ]
    },
    {
     "name": "stdout",
     "output_type": "stream",
     "text": [
      "Buuu que mal [0. 1.]\n"
     ]
    },
    {
     "name": "stderr",
     "output_type": "stream",
     "text": [
      "/Library/Frameworks/Python.framework/Versions/3.10/lib/python3.10/site-packages/sklearn/base.py:493: UserWarning: X does not have valid feature names, but StandardScaler was fitted with feature names\n",
      "  warnings.warn(\n",
      "/Library/Frameworks/Python.framework/Versions/3.10/lib/python3.10/site-packages/sklearn/base.py:493: UserWarning: X does not have valid feature names, but StandardScaler was fitted with feature names\n",
      "  warnings.warn(\n"
     ]
    },
    {
     "name": "stdout",
     "output_type": "stream",
     "text": [
      "Buuu que mal [0. 1.]\n"
     ]
    },
    {
     "name": "stderr",
     "output_type": "stream",
     "text": [
      "/Library/Frameworks/Python.framework/Versions/3.10/lib/python3.10/site-packages/sklearn/base.py:493: UserWarning: X does not have valid feature names, but StandardScaler was fitted with feature names\n",
      "  warnings.warn(\n",
      "/Library/Frameworks/Python.framework/Versions/3.10/lib/python3.10/site-packages/sklearn/base.py:493: UserWarning: X does not have valid feature names, but StandardScaler was fitted with feature names\n",
      "  warnings.warn(\n"
     ]
    },
    {
     "name": "stdout",
     "output_type": "stream",
     "text": [
      "Buuu que mal [0. 1.]\n"
     ]
    },
    {
     "name": "stderr",
     "output_type": "stream",
     "text": [
      "/Library/Frameworks/Python.framework/Versions/3.10/lib/python3.10/site-packages/sklearn/base.py:493: UserWarning: X does not have valid feature names, but StandardScaler was fitted with feature names\n",
      "  warnings.warn(\n",
      "/Library/Frameworks/Python.framework/Versions/3.10/lib/python3.10/site-packages/sklearn/base.py:493: UserWarning: X does not have valid feature names, but StandardScaler was fitted with feature names\n",
      "  warnings.warn(\n"
     ]
    },
    {
     "name": "stdout",
     "output_type": "stream",
     "text": [
      "Buuu que mal [0. 1.]\n"
     ]
    },
    {
     "name": "stderr",
     "output_type": "stream",
     "text": [
      "/Library/Frameworks/Python.framework/Versions/3.10/lib/python3.10/site-packages/sklearn/base.py:493: UserWarning: X does not have valid feature names, but StandardScaler was fitted with feature names\n",
      "  warnings.warn(\n",
      "/Library/Frameworks/Python.framework/Versions/3.10/lib/python3.10/site-packages/sklearn/base.py:493: UserWarning: X does not have valid feature names, but StandardScaler was fitted with feature names\n",
      "  warnings.warn(\n"
     ]
    },
    {
     "name": "stdout",
     "output_type": "stream",
     "text": [
      "Buuu que mal [0. 1.]\n"
     ]
    },
    {
     "name": "stderr",
     "output_type": "stream",
     "text": [
      "/Library/Frameworks/Python.framework/Versions/3.10/lib/python3.10/site-packages/sklearn/base.py:493: UserWarning: X does not have valid feature names, but StandardScaler was fitted with feature names\n",
      "  warnings.warn(\n",
      "/Library/Frameworks/Python.framework/Versions/3.10/lib/python3.10/site-packages/sklearn/base.py:493: UserWarning: X does not have valid feature names, but StandardScaler was fitted with feature names\n",
      "  warnings.warn(\n"
     ]
    },
    {
     "name": "stdout",
     "output_type": "stream",
     "text": [
      "Buuu que mal [0. 1.]\n"
     ]
    },
    {
     "name": "stderr",
     "output_type": "stream",
     "text": [
      "/Library/Frameworks/Python.framework/Versions/3.10/lib/python3.10/site-packages/sklearn/base.py:493: UserWarning: X does not have valid feature names, but StandardScaler was fitted with feature names\n",
      "  warnings.warn(\n",
      "/Library/Frameworks/Python.framework/Versions/3.10/lib/python3.10/site-packages/sklearn/base.py:493: UserWarning: X does not have valid feature names, but StandardScaler was fitted with feature names\n",
      "  warnings.warn(\n"
     ]
    },
    {
     "name": "stdout",
     "output_type": "stream",
     "text": [
      "Buuu que mal [0. 1.]\n"
     ]
    },
    {
     "name": "stderr",
     "output_type": "stream",
     "text": [
      "/Library/Frameworks/Python.framework/Versions/3.10/lib/python3.10/site-packages/sklearn/base.py:493: UserWarning: X does not have valid feature names, but StandardScaler was fitted with feature names\n",
      "  warnings.warn(\n",
      "/Library/Frameworks/Python.framework/Versions/3.10/lib/python3.10/site-packages/sklearn/base.py:493: UserWarning: X does not have valid feature names, but StandardScaler was fitted with feature names\n",
      "  warnings.warn(\n"
     ]
    },
    {
     "name": "stdout",
     "output_type": "stream",
     "text": [
      "Buuu que mal [0. 1.]\n"
     ]
    },
    {
     "name": "stderr",
     "output_type": "stream",
     "text": [
      "/Library/Frameworks/Python.framework/Versions/3.10/lib/python3.10/site-packages/sklearn/base.py:493: UserWarning: X does not have valid feature names, but StandardScaler was fitted with feature names\n",
      "  warnings.warn(\n",
      "/Library/Frameworks/Python.framework/Versions/3.10/lib/python3.10/site-packages/sklearn/base.py:493: UserWarning: X does not have valid feature names, but StandardScaler was fitted with feature names\n",
      "  warnings.warn(\n"
     ]
    },
    {
     "name": "stdout",
     "output_type": "stream",
     "text": [
      "Buuu que mal [0. 1.]\n"
     ]
    },
    {
     "name": "stderr",
     "output_type": "stream",
     "text": [
      "/Library/Frameworks/Python.framework/Versions/3.10/lib/python3.10/site-packages/sklearn/base.py:493: UserWarning: X does not have valid feature names, but StandardScaler was fitted with feature names\n",
      "  warnings.warn(\n",
      "/Library/Frameworks/Python.framework/Versions/3.10/lib/python3.10/site-packages/sklearn/base.py:493: UserWarning: X does not have valid feature names, but StandardScaler was fitted with feature names\n",
      "  warnings.warn(\n"
     ]
    },
    {
     "name": "stdout",
     "output_type": "stream",
     "text": [
      "Buuu que mal [0. 1.]\n"
     ]
    },
    {
     "name": "stderr",
     "output_type": "stream",
     "text": [
      "/Library/Frameworks/Python.framework/Versions/3.10/lib/python3.10/site-packages/sklearn/base.py:493: UserWarning: X does not have valid feature names, but StandardScaler was fitted with feature names\n",
      "  warnings.warn(\n",
      "/Library/Frameworks/Python.framework/Versions/3.10/lib/python3.10/site-packages/sklearn/base.py:493: UserWarning: X does not have valid feature names, but StandardScaler was fitted with feature names\n",
      "  warnings.warn(\n"
     ]
    },
    {
     "name": "stdout",
     "output_type": "stream",
     "text": [
      "Buuu que mal [0. 1.]\n"
     ]
    },
    {
     "name": "stderr",
     "output_type": "stream",
     "text": [
      "/Library/Frameworks/Python.framework/Versions/3.10/lib/python3.10/site-packages/sklearn/base.py:493: UserWarning: X does not have valid feature names, but StandardScaler was fitted with feature names\n",
      "  warnings.warn(\n",
      "/Library/Frameworks/Python.framework/Versions/3.10/lib/python3.10/site-packages/sklearn/base.py:493: UserWarning: X does not have valid feature names, but StandardScaler was fitted with feature names\n",
      "  warnings.warn(\n"
     ]
    },
    {
     "name": "stdout",
     "output_type": "stream",
     "text": [
      "Buuu que mal [0. 1.]\n"
     ]
    },
    {
     "name": "stderr",
     "output_type": "stream",
     "text": [
      "/Library/Frameworks/Python.framework/Versions/3.10/lib/python3.10/site-packages/sklearn/base.py:493: UserWarning: X does not have valid feature names, but StandardScaler was fitted with feature names\n",
      "  warnings.warn(\n",
      "/Library/Frameworks/Python.framework/Versions/3.10/lib/python3.10/site-packages/sklearn/base.py:493: UserWarning: X does not have valid feature names, but StandardScaler was fitted with feature names\n",
      "  warnings.warn(\n"
     ]
    },
    {
     "name": "stdout",
     "output_type": "stream",
     "text": [
      "Buuu que mal [0. 1.]\n"
     ]
    },
    {
     "name": "stderr",
     "output_type": "stream",
     "text": [
      "/Library/Frameworks/Python.framework/Versions/3.10/lib/python3.10/site-packages/sklearn/base.py:493: UserWarning: X does not have valid feature names, but StandardScaler was fitted with feature names\n",
      "  warnings.warn(\n",
      "/Library/Frameworks/Python.framework/Versions/3.10/lib/python3.10/site-packages/sklearn/base.py:493: UserWarning: X does not have valid feature names, but StandardScaler was fitted with feature names\n",
      "  warnings.warn(\n"
     ]
    },
    {
     "name": "stdout",
     "output_type": "stream",
     "text": [
      "Buuu que mal [0. 1.]\n"
     ]
    },
    {
     "name": "stderr",
     "output_type": "stream",
     "text": [
      "/Library/Frameworks/Python.framework/Versions/3.10/lib/python3.10/site-packages/sklearn/base.py:493: UserWarning: X does not have valid feature names, but StandardScaler was fitted with feature names\n",
      "  warnings.warn(\n",
      "/Library/Frameworks/Python.framework/Versions/3.10/lib/python3.10/site-packages/sklearn/base.py:493: UserWarning: X does not have valid feature names, but StandardScaler was fitted with feature names\n",
      "  warnings.warn(\n"
     ]
    },
    {
     "name": "stdout",
     "output_type": "stream",
     "text": [
      "Buuu que mal [0.01 0.99]\n"
     ]
    },
    {
     "name": "stderr",
     "output_type": "stream",
     "text": [
      "/Library/Frameworks/Python.framework/Versions/3.10/lib/python3.10/site-packages/sklearn/base.py:493: UserWarning: X does not have valid feature names, but StandardScaler was fitted with feature names\n",
      "  warnings.warn(\n",
      "/Library/Frameworks/Python.framework/Versions/3.10/lib/python3.10/site-packages/sklearn/base.py:493: UserWarning: X does not have valid feature names, but StandardScaler was fitted with feature names\n",
      "  warnings.warn(\n"
     ]
    },
    {
     "name": "stdout",
     "output_type": "stream",
     "text": [
      "Buuu que mal [0.26 0.74]\n"
     ]
    },
    {
     "name": "stderr",
     "output_type": "stream",
     "text": [
      "/Library/Frameworks/Python.framework/Versions/3.10/lib/python3.10/site-packages/sklearn/base.py:493: UserWarning: X does not have valid feature names, but StandardScaler was fitted with feature names\n",
      "  warnings.warn(\n",
      "/Library/Frameworks/Python.framework/Versions/3.10/lib/python3.10/site-packages/sklearn/base.py:493: UserWarning: X does not have valid feature names, but StandardScaler was fitted with feature names\n",
      "  warnings.warn(\n"
     ]
    },
    {
     "name": "stdout",
     "output_type": "stream",
     "text": [
      "Buuu que mal [0.1 0.9]\n"
     ]
    },
    {
     "name": "stderr",
     "output_type": "stream",
     "text": [
      "/Library/Frameworks/Python.framework/Versions/3.10/lib/python3.10/site-packages/sklearn/base.py:493: UserWarning: X does not have valid feature names, but StandardScaler was fitted with feature names\n",
      "  warnings.warn(\n",
      "/Library/Frameworks/Python.framework/Versions/3.10/lib/python3.10/site-packages/sklearn/base.py:493: UserWarning: X does not have valid feature names, but StandardScaler was fitted with feature names\n",
      "  warnings.warn(\n"
     ]
    },
    {
     "name": "stdout",
     "output_type": "stream",
     "text": [
      "Buuu que mal [0.05 0.95]\n"
     ]
    },
    {
     "name": "stderr",
     "output_type": "stream",
     "text": [
      "/Library/Frameworks/Python.framework/Versions/3.10/lib/python3.10/site-packages/sklearn/base.py:493: UserWarning: X does not have valid feature names, but StandardScaler was fitted with feature names\n",
      "  warnings.warn(\n",
      "/Library/Frameworks/Python.framework/Versions/3.10/lib/python3.10/site-packages/sklearn/base.py:493: UserWarning: X does not have valid feature names, but StandardScaler was fitted with feature names\n",
      "  warnings.warn(\n"
     ]
    },
    {
     "name": "stdout",
     "output_type": "stream",
     "text": [
      "Buuu que mal [0.01 0.99]\n"
     ]
    },
    {
     "name": "stderr",
     "output_type": "stream",
     "text": [
      "/Library/Frameworks/Python.framework/Versions/3.10/lib/python3.10/site-packages/sklearn/base.py:493: UserWarning: X does not have valid feature names, but StandardScaler was fitted with feature names\n",
      "  warnings.warn(\n",
      "/Library/Frameworks/Python.framework/Versions/3.10/lib/python3.10/site-packages/sklearn/base.py:493: UserWarning: X does not have valid feature names, but StandardScaler was fitted with feature names\n",
      "  warnings.warn(\n"
     ]
    },
    {
     "name": "stdout",
     "output_type": "stream",
     "text": [
      "Buuu que mal [0. 1.]\n"
     ]
    },
    {
     "name": "stderr",
     "output_type": "stream",
     "text": [
      "/Library/Frameworks/Python.framework/Versions/3.10/lib/python3.10/site-packages/sklearn/base.py:493: UserWarning: X does not have valid feature names, but StandardScaler was fitted with feature names\n",
      "  warnings.warn(\n",
      "/Library/Frameworks/Python.framework/Versions/3.10/lib/python3.10/site-packages/sklearn/base.py:493: UserWarning: X does not have valid feature names, but StandardScaler was fitted with feature names\n",
      "  warnings.warn(\n"
     ]
    },
    {
     "name": "stdout",
     "output_type": "stream",
     "text": [
      "Buuu que mal [0. 1.]\n"
     ]
    },
    {
     "name": "stderr",
     "output_type": "stream",
     "text": [
      "/Library/Frameworks/Python.framework/Versions/3.10/lib/python3.10/site-packages/sklearn/base.py:493: UserWarning: X does not have valid feature names, but StandardScaler was fitted with feature names\n",
      "  warnings.warn(\n",
      "/Library/Frameworks/Python.framework/Versions/3.10/lib/python3.10/site-packages/sklearn/base.py:493: UserWarning: X does not have valid feature names, but StandardScaler was fitted with feature names\n",
      "  warnings.warn(\n"
     ]
    },
    {
     "name": "stdout",
     "output_type": "stream",
     "text": [
      "Buuu que mal [0.16 0.84]\n"
     ]
    },
    {
     "name": "stderr",
     "output_type": "stream",
     "text": [
      "/Library/Frameworks/Python.framework/Versions/3.10/lib/python3.10/site-packages/sklearn/base.py:493: UserWarning: X does not have valid feature names, but StandardScaler was fitted with feature names\n",
      "  warnings.warn(\n",
      "/Library/Frameworks/Python.framework/Versions/3.10/lib/python3.10/site-packages/sklearn/base.py:493: UserWarning: X does not have valid feature names, but StandardScaler was fitted with feature names\n",
      "  warnings.warn(\n"
     ]
    },
    {
     "name": "stdout",
     "output_type": "stream",
     "text": [
      "Bieeen [0.64 0.36]\n"
     ]
    },
    {
     "name": "stderr",
     "output_type": "stream",
     "text": [
      "/Library/Frameworks/Python.framework/Versions/3.10/lib/python3.10/site-packages/sklearn/base.py:493: UserWarning: X does not have valid feature names, but StandardScaler was fitted with feature names\n",
      "  warnings.warn(\n",
      "/Library/Frameworks/Python.framework/Versions/3.10/lib/python3.10/site-packages/sklearn/base.py:493: UserWarning: X does not have valid feature names, but StandardScaler was fitted with feature names\n",
      "  warnings.warn(\n"
     ]
    },
    {
     "name": "stdout",
     "output_type": "stream",
     "text": [
      "Buuu que mal [0.01 0.99]\n"
     ]
    },
    {
     "name": "stderr",
     "output_type": "stream",
     "text": [
      "/Library/Frameworks/Python.framework/Versions/3.10/lib/python3.10/site-packages/sklearn/base.py:493: UserWarning: X does not have valid feature names, but StandardScaler was fitted with feature names\n",
      "  warnings.warn(\n",
      "/Library/Frameworks/Python.framework/Versions/3.10/lib/python3.10/site-packages/sklearn/base.py:493: UserWarning: X does not have valid feature names, but StandardScaler was fitted with feature names\n",
      "  warnings.warn(\n"
     ]
    },
    {
     "name": "stdout",
     "output_type": "stream",
     "text": [
      "Buuu que mal [0. 1.]\n"
     ]
    },
    {
     "name": "stderr",
     "output_type": "stream",
     "text": [
      "/Library/Frameworks/Python.framework/Versions/3.10/lib/python3.10/site-packages/sklearn/base.py:493: UserWarning: X does not have valid feature names, but StandardScaler was fitted with feature names\n",
      "  warnings.warn(\n",
      "/Library/Frameworks/Python.framework/Versions/3.10/lib/python3.10/site-packages/sklearn/base.py:493: UserWarning: X does not have valid feature names, but StandardScaler was fitted with feature names\n",
      "  warnings.warn(\n"
     ]
    },
    {
     "name": "stdout",
     "output_type": "stream",
     "text": [
      "Buuu que mal [0. 1.]\n"
     ]
    },
    {
     "name": "stderr",
     "output_type": "stream",
     "text": [
      "/Library/Frameworks/Python.framework/Versions/3.10/lib/python3.10/site-packages/sklearn/base.py:493: UserWarning: X does not have valid feature names, but StandardScaler was fitted with feature names\n",
      "  warnings.warn(\n",
      "/Library/Frameworks/Python.framework/Versions/3.10/lib/python3.10/site-packages/sklearn/base.py:493: UserWarning: X does not have valid feature names, but StandardScaler was fitted with feature names\n",
      "  warnings.warn(\n"
     ]
    },
    {
     "name": "stdout",
     "output_type": "stream",
     "text": [
      "Buuu que mal [0. 1.]\n"
     ]
    },
    {
     "name": "stderr",
     "output_type": "stream",
     "text": [
      "/Library/Frameworks/Python.framework/Versions/3.10/lib/python3.10/site-packages/sklearn/base.py:493: UserWarning: X does not have valid feature names, but StandardScaler was fitted with feature names\n",
      "  warnings.warn(\n",
      "/Library/Frameworks/Python.framework/Versions/3.10/lib/python3.10/site-packages/sklearn/base.py:493: UserWarning: X does not have valid feature names, but StandardScaler was fitted with feature names\n",
      "  warnings.warn(\n"
     ]
    },
    {
     "name": "stdout",
     "output_type": "stream",
     "text": [
      "Buuu que mal [0. 1.]\n"
     ]
    },
    {
     "name": "stderr",
     "output_type": "stream",
     "text": [
      "/Library/Frameworks/Python.framework/Versions/3.10/lib/python3.10/site-packages/sklearn/base.py:493: UserWarning: X does not have valid feature names, but StandardScaler was fitted with feature names\n",
      "  warnings.warn(\n",
      "/Library/Frameworks/Python.framework/Versions/3.10/lib/python3.10/site-packages/sklearn/base.py:493: UserWarning: X does not have valid feature names, but StandardScaler was fitted with feature names\n",
      "  warnings.warn(\n"
     ]
    },
    {
     "name": "stdout",
     "output_type": "stream",
     "text": [
      "Buuu que mal [0. 1.]\n"
     ]
    },
    {
     "name": "stderr",
     "output_type": "stream",
     "text": [
      "/Library/Frameworks/Python.framework/Versions/3.10/lib/python3.10/site-packages/sklearn/base.py:493: UserWarning: X does not have valid feature names, but StandardScaler was fitted with feature names\n",
      "  warnings.warn(\n",
      "/Library/Frameworks/Python.framework/Versions/3.10/lib/python3.10/site-packages/sklearn/base.py:493: UserWarning: X does not have valid feature names, but StandardScaler was fitted with feature names\n",
      "  warnings.warn(\n"
     ]
    },
    {
     "name": "stdout",
     "output_type": "stream",
     "text": [
      "Buuu que mal [0. 1.]\n"
     ]
    },
    {
     "name": "stderr",
     "output_type": "stream",
     "text": [
      "/Library/Frameworks/Python.framework/Versions/3.10/lib/python3.10/site-packages/sklearn/base.py:493: UserWarning: X does not have valid feature names, but StandardScaler was fitted with feature names\n",
      "  warnings.warn(\n",
      "/Library/Frameworks/Python.framework/Versions/3.10/lib/python3.10/site-packages/sklearn/base.py:493: UserWarning: X does not have valid feature names, but StandardScaler was fitted with feature names\n",
      "  warnings.warn(\n"
     ]
    },
    {
     "name": "stdout",
     "output_type": "stream",
     "text": [
      "Buuu que mal [0. 1.]\n"
     ]
    },
    {
     "name": "stderr",
     "output_type": "stream",
     "text": [
      "/Library/Frameworks/Python.framework/Versions/3.10/lib/python3.10/site-packages/sklearn/base.py:493: UserWarning: X does not have valid feature names, but StandardScaler was fitted with feature names\n",
      "  warnings.warn(\n",
      "/Library/Frameworks/Python.framework/Versions/3.10/lib/python3.10/site-packages/sklearn/base.py:493: UserWarning: X does not have valid feature names, but StandardScaler was fitted with feature names\n",
      "  warnings.warn(\n"
     ]
    },
    {
     "name": "stdout",
     "output_type": "stream",
     "text": [
      "Buuu que mal [0. 1.]\n"
     ]
    },
    {
     "name": "stderr",
     "output_type": "stream",
     "text": [
      "/Library/Frameworks/Python.framework/Versions/3.10/lib/python3.10/site-packages/sklearn/base.py:493: UserWarning: X does not have valid feature names, but StandardScaler was fitted with feature names\n",
      "  warnings.warn(\n",
      "/Library/Frameworks/Python.framework/Versions/3.10/lib/python3.10/site-packages/sklearn/base.py:493: UserWarning: X does not have valid feature names, but StandardScaler was fitted with feature names\n",
      "  warnings.warn(\n"
     ]
    },
    {
     "name": "stdout",
     "output_type": "stream",
     "text": [
      "Buuu que mal [0. 1.]\n"
     ]
    },
    {
     "name": "stderr",
     "output_type": "stream",
     "text": [
      "/Library/Frameworks/Python.framework/Versions/3.10/lib/python3.10/site-packages/sklearn/base.py:493: UserWarning: X does not have valid feature names, but StandardScaler was fitted with feature names\n",
      "  warnings.warn(\n",
      "/Library/Frameworks/Python.framework/Versions/3.10/lib/python3.10/site-packages/sklearn/base.py:493: UserWarning: X does not have valid feature names, but StandardScaler was fitted with feature names\n",
      "  warnings.warn(\n"
     ]
    },
    {
     "name": "stdout",
     "output_type": "stream",
     "text": [
      "Buuu que mal [0. 1.]\n"
     ]
    },
    {
     "name": "stderr",
     "output_type": "stream",
     "text": [
      "/Library/Frameworks/Python.framework/Versions/3.10/lib/python3.10/site-packages/sklearn/base.py:493: UserWarning: X does not have valid feature names, but StandardScaler was fitted with feature names\n",
      "  warnings.warn(\n",
      "/Library/Frameworks/Python.framework/Versions/3.10/lib/python3.10/site-packages/sklearn/base.py:493: UserWarning: X does not have valid feature names, but StandardScaler was fitted with feature names\n",
      "  warnings.warn(\n"
     ]
    },
    {
     "name": "stdout",
     "output_type": "stream",
     "text": [
      "Buuu que mal [0. 1.]\n"
     ]
    },
    {
     "name": "stderr",
     "output_type": "stream",
     "text": [
      "/Library/Frameworks/Python.framework/Versions/3.10/lib/python3.10/site-packages/sklearn/base.py:493: UserWarning: X does not have valid feature names, but StandardScaler was fitted with feature names\n",
      "  warnings.warn(\n",
      "/Library/Frameworks/Python.framework/Versions/3.10/lib/python3.10/site-packages/sklearn/base.py:493: UserWarning: X does not have valid feature names, but StandardScaler was fitted with feature names\n",
      "  warnings.warn(\n"
     ]
    },
    {
     "name": "stdout",
     "output_type": "stream",
     "text": [
      "Buuu que mal [0. 1.]\n"
     ]
    },
    {
     "name": "stderr",
     "output_type": "stream",
     "text": [
      "/Library/Frameworks/Python.framework/Versions/3.10/lib/python3.10/site-packages/sklearn/base.py:493: UserWarning: X does not have valid feature names, but StandardScaler was fitted with feature names\n",
      "  warnings.warn(\n",
      "/Library/Frameworks/Python.framework/Versions/3.10/lib/python3.10/site-packages/sklearn/base.py:493: UserWarning: X does not have valid feature names, but StandardScaler was fitted with feature names\n",
      "  warnings.warn(\n"
     ]
    },
    {
     "name": "stdout",
     "output_type": "stream",
     "text": [
      "Buuu que mal [0. 1.]\n"
     ]
    },
    {
     "name": "stderr",
     "output_type": "stream",
     "text": [
      "/Library/Frameworks/Python.framework/Versions/3.10/lib/python3.10/site-packages/sklearn/base.py:493: UserWarning: X does not have valid feature names, but StandardScaler was fitted with feature names\n",
      "  warnings.warn(\n",
      "/Library/Frameworks/Python.framework/Versions/3.10/lib/python3.10/site-packages/sklearn/base.py:493: UserWarning: X does not have valid feature names, but StandardScaler was fitted with feature names\n",
      "  warnings.warn(\n"
     ]
    },
    {
     "name": "stdout",
     "output_type": "stream",
     "text": [
      "Buuu que mal [0. 1.]\n"
     ]
    },
    {
     "name": "stderr",
     "output_type": "stream",
     "text": [
      "/Library/Frameworks/Python.framework/Versions/3.10/lib/python3.10/site-packages/sklearn/base.py:493: UserWarning: X does not have valid feature names, but StandardScaler was fitted with feature names\n",
      "  warnings.warn(\n",
      "/Library/Frameworks/Python.framework/Versions/3.10/lib/python3.10/site-packages/sklearn/base.py:493: UserWarning: X does not have valid feature names, but StandardScaler was fitted with feature names\n",
      "  warnings.warn(\n"
     ]
    },
    {
     "name": "stdout",
     "output_type": "stream",
     "text": [
      "Buuu que mal [0. 1.]\n"
     ]
    },
    {
     "name": "stderr",
     "output_type": "stream",
     "text": [
      "/Library/Frameworks/Python.framework/Versions/3.10/lib/python3.10/site-packages/sklearn/base.py:493: UserWarning: X does not have valid feature names, but StandardScaler was fitted with feature names\n",
      "  warnings.warn(\n",
      "/Library/Frameworks/Python.framework/Versions/3.10/lib/python3.10/site-packages/sklearn/base.py:493: UserWarning: X does not have valid feature names, but StandardScaler was fitted with feature names\n",
      "  warnings.warn(\n"
     ]
    },
    {
     "name": "stdout",
     "output_type": "stream",
     "text": [
      "Buuu que mal [0. 1.]\n"
     ]
    },
    {
     "name": "stderr",
     "output_type": "stream",
     "text": [
      "/Library/Frameworks/Python.framework/Versions/3.10/lib/python3.10/site-packages/sklearn/base.py:493: UserWarning: X does not have valid feature names, but StandardScaler was fitted with feature names\n",
      "  warnings.warn(\n",
      "/Library/Frameworks/Python.framework/Versions/3.10/lib/python3.10/site-packages/sklearn/base.py:493: UserWarning: X does not have valid feature names, but StandardScaler was fitted with feature names\n",
      "  warnings.warn(\n"
     ]
    },
    {
     "name": "stdout",
     "output_type": "stream",
     "text": [
      "Buuu que mal [0. 1.]\n"
     ]
    },
    {
     "name": "stderr",
     "output_type": "stream",
     "text": [
      "/Library/Frameworks/Python.framework/Versions/3.10/lib/python3.10/site-packages/sklearn/base.py:493: UserWarning: X does not have valid feature names, but StandardScaler was fitted with feature names\n",
      "  warnings.warn(\n",
      "/Library/Frameworks/Python.framework/Versions/3.10/lib/python3.10/site-packages/sklearn/base.py:493: UserWarning: X does not have valid feature names, but StandardScaler was fitted with feature names\n",
      "  warnings.warn(\n"
     ]
    },
    {
     "name": "stdout",
     "output_type": "stream",
     "text": [
      "Buuu que mal [0. 1.]\n"
     ]
    },
    {
     "name": "stderr",
     "output_type": "stream",
     "text": [
      "/Library/Frameworks/Python.framework/Versions/3.10/lib/python3.10/site-packages/sklearn/base.py:493: UserWarning: X does not have valid feature names, but StandardScaler was fitted with feature names\n",
      "  warnings.warn(\n",
      "/Library/Frameworks/Python.framework/Versions/3.10/lib/python3.10/site-packages/sklearn/base.py:493: UserWarning: X does not have valid feature names, but StandardScaler was fitted with feature names\n",
      "  warnings.warn(\n"
     ]
    },
    {
     "name": "stdout",
     "output_type": "stream",
     "text": [
      "Buuu que mal [0. 1.]\n"
     ]
    },
    {
     "name": "stderr",
     "output_type": "stream",
     "text": [
      "/Library/Frameworks/Python.framework/Versions/3.10/lib/python3.10/site-packages/sklearn/base.py:493: UserWarning: X does not have valid feature names, but StandardScaler was fitted with feature names\n",
      "  warnings.warn(\n",
      "/Library/Frameworks/Python.framework/Versions/3.10/lib/python3.10/site-packages/sklearn/base.py:493: UserWarning: X does not have valid feature names, but StandardScaler was fitted with feature names\n",
      "  warnings.warn(\n"
     ]
    },
    {
     "name": "stdout",
     "output_type": "stream",
     "text": [
      "Buuu que mal [0. 1.]\n"
     ]
    },
    {
     "name": "stderr",
     "output_type": "stream",
     "text": [
      "/Library/Frameworks/Python.framework/Versions/3.10/lib/python3.10/site-packages/sklearn/base.py:493: UserWarning: X does not have valid feature names, but StandardScaler was fitted with feature names\n",
      "  warnings.warn(\n",
      "/Library/Frameworks/Python.framework/Versions/3.10/lib/python3.10/site-packages/sklearn/base.py:493: UserWarning: X does not have valid feature names, but StandardScaler was fitted with feature names\n",
      "  warnings.warn(\n"
     ]
    },
    {
     "name": "stdout",
     "output_type": "stream",
     "text": [
      "Buuu que mal [0. 1.]\n"
     ]
    },
    {
     "name": "stderr",
     "output_type": "stream",
     "text": [
      "/Library/Frameworks/Python.framework/Versions/3.10/lib/python3.10/site-packages/sklearn/base.py:493: UserWarning: X does not have valid feature names, but StandardScaler was fitted with feature names\n",
      "  warnings.warn(\n",
      "/Library/Frameworks/Python.framework/Versions/3.10/lib/python3.10/site-packages/sklearn/base.py:493: UserWarning: X does not have valid feature names, but StandardScaler was fitted with feature names\n",
      "  warnings.warn(\n"
     ]
    },
    {
     "name": "stdout",
     "output_type": "stream",
     "text": [
      "Buuu que mal [0. 1.]\n"
     ]
    },
    {
     "name": "stderr",
     "output_type": "stream",
     "text": [
      "/Library/Frameworks/Python.framework/Versions/3.10/lib/python3.10/site-packages/sklearn/base.py:493: UserWarning: X does not have valid feature names, but StandardScaler was fitted with feature names\n",
      "  warnings.warn(\n",
      "/Library/Frameworks/Python.framework/Versions/3.10/lib/python3.10/site-packages/sklearn/base.py:493: UserWarning: X does not have valid feature names, but StandardScaler was fitted with feature names\n",
      "  warnings.warn(\n"
     ]
    },
    {
     "name": "stdout",
     "output_type": "stream",
     "text": [
      "Buuu que mal [0. 1.]\n"
     ]
    },
    {
     "name": "stderr",
     "output_type": "stream",
     "text": [
      "/Library/Frameworks/Python.framework/Versions/3.10/lib/python3.10/site-packages/sklearn/base.py:493: UserWarning: X does not have valid feature names, but StandardScaler was fitted with feature names\n",
      "  warnings.warn(\n",
      "/Library/Frameworks/Python.framework/Versions/3.10/lib/python3.10/site-packages/sklearn/base.py:493: UserWarning: X does not have valid feature names, but StandardScaler was fitted with feature names\n",
      "  warnings.warn(\n"
     ]
    },
    {
     "name": "stdout",
     "output_type": "stream",
     "text": [
      "Buuu que mal [0. 1.]\n"
     ]
    },
    {
     "name": "stderr",
     "output_type": "stream",
     "text": [
      "/Library/Frameworks/Python.framework/Versions/3.10/lib/python3.10/site-packages/sklearn/base.py:493: UserWarning: X does not have valid feature names, but StandardScaler was fitted with feature names\n",
      "  warnings.warn(\n",
      "/Library/Frameworks/Python.framework/Versions/3.10/lib/python3.10/site-packages/sklearn/base.py:493: UserWarning: X does not have valid feature names, but StandardScaler was fitted with feature names\n",
      "  warnings.warn(\n"
     ]
    },
    {
     "name": "stdout",
     "output_type": "stream",
     "text": [
      "Buuu que mal [0. 1.]\n"
     ]
    },
    {
     "name": "stderr",
     "output_type": "stream",
     "text": [
      "/Library/Frameworks/Python.framework/Versions/3.10/lib/python3.10/site-packages/sklearn/base.py:493: UserWarning: X does not have valid feature names, but StandardScaler was fitted with feature names\n",
      "  warnings.warn(\n",
      "/Library/Frameworks/Python.framework/Versions/3.10/lib/python3.10/site-packages/sklearn/base.py:493: UserWarning: X does not have valid feature names, but StandardScaler was fitted with feature names\n",
      "  warnings.warn(\n"
     ]
    },
    {
     "name": "stdout",
     "output_type": "stream",
     "text": [
      "Buuu que mal [0. 1.]\n"
     ]
    },
    {
     "name": "stderr",
     "output_type": "stream",
     "text": [
      "/Library/Frameworks/Python.framework/Versions/3.10/lib/python3.10/site-packages/sklearn/base.py:493: UserWarning: X does not have valid feature names, but StandardScaler was fitted with feature names\n",
      "  warnings.warn(\n",
      "/Library/Frameworks/Python.framework/Versions/3.10/lib/python3.10/site-packages/sklearn/base.py:493: UserWarning: X does not have valid feature names, but StandardScaler was fitted with feature names\n",
      "  warnings.warn(\n"
     ]
    },
    {
     "name": "stdout",
     "output_type": "stream",
     "text": [
      "Buuu que mal [0. 1.]\n"
     ]
    },
    {
     "name": "stderr",
     "output_type": "stream",
     "text": [
      "/Library/Frameworks/Python.framework/Versions/3.10/lib/python3.10/site-packages/sklearn/base.py:493: UserWarning: X does not have valid feature names, but StandardScaler was fitted with feature names\n",
      "  warnings.warn(\n",
      "/Library/Frameworks/Python.framework/Versions/3.10/lib/python3.10/site-packages/sklearn/base.py:493: UserWarning: X does not have valid feature names, but StandardScaler was fitted with feature names\n",
      "  warnings.warn(\n"
     ]
    },
    {
     "name": "stdout",
     "output_type": "stream",
     "text": [
      "Buuu que mal [0. 1.]\n"
     ]
    },
    {
     "name": "stderr",
     "output_type": "stream",
     "text": [
      "/Library/Frameworks/Python.framework/Versions/3.10/lib/python3.10/site-packages/sklearn/base.py:493: UserWarning: X does not have valid feature names, but StandardScaler was fitted with feature names\n",
      "  warnings.warn(\n",
      "/Library/Frameworks/Python.framework/Versions/3.10/lib/python3.10/site-packages/sklearn/base.py:493: UserWarning: X does not have valid feature names, but StandardScaler was fitted with feature names\n",
      "  warnings.warn(\n"
     ]
    },
    {
     "name": "stdout",
     "output_type": "stream",
     "text": [
      "Buuu que mal [0. 1.]\n"
     ]
    },
    {
     "name": "stderr",
     "output_type": "stream",
     "text": [
      "/Library/Frameworks/Python.framework/Versions/3.10/lib/python3.10/site-packages/sklearn/base.py:493: UserWarning: X does not have valid feature names, but StandardScaler was fitted with feature names\n",
      "  warnings.warn(\n",
      "/Library/Frameworks/Python.framework/Versions/3.10/lib/python3.10/site-packages/sklearn/base.py:493: UserWarning: X does not have valid feature names, but StandardScaler was fitted with feature names\n",
      "  warnings.warn(\n"
     ]
    },
    {
     "name": "stdout",
     "output_type": "stream",
     "text": [
      "Buuu que mal [0. 1.]\n"
     ]
    },
    {
     "name": "stderr",
     "output_type": "stream",
     "text": [
      "/Library/Frameworks/Python.framework/Versions/3.10/lib/python3.10/site-packages/sklearn/base.py:493: UserWarning: X does not have valid feature names, but StandardScaler was fitted with feature names\n",
      "  warnings.warn(\n",
      "/Library/Frameworks/Python.framework/Versions/3.10/lib/python3.10/site-packages/sklearn/base.py:493: UserWarning: X does not have valid feature names, but StandardScaler was fitted with feature names\n",
      "  warnings.warn(\n"
     ]
    },
    {
     "name": "stdout",
     "output_type": "stream",
     "text": [
      "Buuu que mal [0. 1.]\n"
     ]
    },
    {
     "name": "stderr",
     "output_type": "stream",
     "text": [
      "/Library/Frameworks/Python.framework/Versions/3.10/lib/python3.10/site-packages/sklearn/base.py:493: UserWarning: X does not have valid feature names, but StandardScaler was fitted with feature names\n",
      "  warnings.warn(\n",
      "/Library/Frameworks/Python.framework/Versions/3.10/lib/python3.10/site-packages/sklearn/base.py:493: UserWarning: X does not have valid feature names, but StandardScaler was fitted with feature names\n",
      "  warnings.warn(\n"
     ]
    },
    {
     "name": "stdout",
     "output_type": "stream",
     "text": [
      "Buuu que mal [0. 1.]\n"
     ]
    },
    {
     "name": "stderr",
     "output_type": "stream",
     "text": [
      "/Library/Frameworks/Python.framework/Versions/3.10/lib/python3.10/site-packages/sklearn/base.py:493: UserWarning: X does not have valid feature names, but StandardScaler was fitted with feature names\n",
      "  warnings.warn(\n",
      "/Library/Frameworks/Python.framework/Versions/3.10/lib/python3.10/site-packages/sklearn/base.py:493: UserWarning: X does not have valid feature names, but StandardScaler was fitted with feature names\n",
      "  warnings.warn(\n"
     ]
    },
    {
     "name": "stdout",
     "output_type": "stream",
     "text": [
      "Buuu que mal [0. 1.]\n"
     ]
    },
    {
     "name": "stderr",
     "output_type": "stream",
     "text": [
      "/Library/Frameworks/Python.framework/Versions/3.10/lib/python3.10/site-packages/sklearn/base.py:493: UserWarning: X does not have valid feature names, but StandardScaler was fitted with feature names\n",
      "  warnings.warn(\n",
      "/Library/Frameworks/Python.framework/Versions/3.10/lib/python3.10/site-packages/sklearn/base.py:493: UserWarning: X does not have valid feature names, but StandardScaler was fitted with feature names\n",
      "  warnings.warn(\n"
     ]
    },
    {
     "name": "stdout",
     "output_type": "stream",
     "text": [
      "Buuu que mal [0. 1.]\n"
     ]
    },
    {
     "name": "stderr",
     "output_type": "stream",
     "text": [
      "/Library/Frameworks/Python.framework/Versions/3.10/lib/python3.10/site-packages/sklearn/base.py:493: UserWarning: X does not have valid feature names, but StandardScaler was fitted with feature names\n",
      "  warnings.warn(\n",
      "/Library/Frameworks/Python.framework/Versions/3.10/lib/python3.10/site-packages/sklearn/base.py:493: UserWarning: X does not have valid feature names, but StandardScaler was fitted with feature names\n",
      "  warnings.warn(\n"
     ]
    },
    {
     "name": "stdout",
     "output_type": "stream",
     "text": [
      "Buuu que mal [0. 1.]\n"
     ]
    },
    {
     "name": "stderr",
     "output_type": "stream",
     "text": [
      "/Library/Frameworks/Python.framework/Versions/3.10/lib/python3.10/site-packages/sklearn/base.py:493: UserWarning: X does not have valid feature names, but StandardScaler was fitted with feature names\n",
      "  warnings.warn(\n",
      "/Library/Frameworks/Python.framework/Versions/3.10/lib/python3.10/site-packages/sklearn/base.py:493: UserWarning: X does not have valid feature names, but StandardScaler was fitted with feature names\n",
      "  warnings.warn(\n"
     ]
    },
    {
     "name": "stdout",
     "output_type": "stream",
     "text": [
      "Buuu que mal [0. 1.]\n"
     ]
    }
   ],
   "source": [
    "cap = cv2.VideoCapture(0)\n",
    "# Initiate holistic model\n",
    "with mp_holistic.Holistic(min_detection_confidence=0.5, min_tracking_confidence=0.5) as holistic:\n",
    "    \n",
    "    while cap.isOpened():\n",
    "        ret, frame = cap.read()\n",
    "        \n",
    "        # Recolor Feed\n",
    "        image = cv2.cvtColor(frame, cv2.COLOR_BGR2RGB)\n",
    "        image.flags.writeable = False        \n",
    "        \n",
    "        # Make Detections\n",
    "        results = holistic.process(image)\n",
    "        # print(results.face_landmarks)\n",
    "        \n",
    "        # face_landmarks, pose_landmarks, left_hand_landmarks, right_hand_landmarks\n",
    "        \n",
    "        # Recolor image back to BGR for rendering\n",
    "        image.flags.writeable = True   \n",
    "        image = cv2.cvtColor(image, cv2.COLOR_RGB2BGR)\n",
    "        \n",
    "        # 1. Draw face landmarks\n",
    "        #mp_drawing.draw_landmarks(image, results.face_landmarks, mp_holistic.FACEMESH_TESSELATION, \n",
    "         #                        mp_drawing.DrawingSpec(color=(80,110,10), thickness=1, circle_radius=1),\n",
    "          #                       mp_drawing.DrawingSpec(color=(80,256,121), thickness=1, circle_radius=1)\n",
    "           #                      )\n",
    "        \n",
    "        # 2. Right hand\n",
    "        mp_drawing.draw_landmarks(image, results.right_hand_landmarks, mp_holistic.HAND_CONNECTIONS, \n",
    "                                 mp_drawing.DrawingSpec(color=(80,22,10), thickness=2, circle_radius=4),\n",
    "                                 mp_drawing.DrawingSpec(color=(80,44,121), thickness=2, circle_radius=2)\n",
    "                                 )\n",
    "\n",
    "        # 3. Left Hand\n",
    "        mp_drawing.draw_landmarks(image, results.left_hand_landmarks, mp_holistic.HAND_CONNECTIONS, \n",
    "                                 mp_drawing.DrawingSpec(color=(121,22,76), thickness=2, circle_radius=4),\n",
    "                                 mp_drawing.DrawingSpec(color=(121,44,250), thickness=2, circle_radius=2)\n",
    "                                 )\n",
    "\n",
    "        # 4. Pose Detections\n",
    "        mp_drawing.draw_landmarks(image, results.pose_landmarks, mp_holistic.POSE_CONNECTIONS, \n",
    "                                 mp_drawing.DrawingSpec(color=(245,117,66), thickness=2, circle_radius=4),\n",
    "                                 mp_drawing.DrawingSpec(color=(245,66,230), thickness=2, circle_radius=2)\n",
    "                                 )\n",
    "        # Export coordinates\n",
    "        try:\n",
    "            # Extract Pose landmarks\n",
    "            pose = results.pose_landmarks.landmark\n",
    "            pose_row = list(np.array([[landmark.x, landmark.y, landmark.z, landmark.visibility] for landmark in pose]).flatten())\n",
    "            \n",
    "            # Extract Face landmarks\n",
    "            face = results.face_landmarks.landmark\n",
    "            face_row = list(np.array([[landmark.x, landmark.y, landmark.z, landmark.visibility] for landmark in face]).flatten())\n",
    "            \n",
    "            # Concate rows\n",
    "            row = pose_row+face_row\n",
    "            \n",
    "#             # Append class name \n",
    "#             row.insert(0, class_name)\n",
    "            \n",
    "#             # Export to CSV\n",
    "#             with open('coords.csv', mode='a', newline='') as f:\n",
    "#                 csv_writer = csv.writer(f, delimiter=',', quotechar='\"', quoting=csv.QUOTE_MINIMAL)\n",
    "#                 csv_writer.writerow(row) \n",
    "\n",
    "            # Make Detections\n",
    "            X = pd.DataFrame([row])\n",
    "            body_language_class = model.predict(X)[0]\n",
    "            body_language_prob = model.predict_proba(X)[0]\n",
    "            print(body_language_class, body_language_prob)\n",
    "            \n",
    "            # Grab ear coords\n",
    "            coords = tuple(np.multiply(\n",
    "                            np.array(\n",
    "                                (results.pose_landmarks.landmark[mp_holistic.PoseLandmark.LEFT_EAR].x, \n",
    "                                 results.pose_landmarks.landmark[mp_holistic.PoseLandmark.LEFT_EAR].y))\n",
    "                        , [640,480]).astype(int))\n",
    "            \n",
    "            cv2.rectangle(image, \n",
    "                          (coords[0], coords[1]+5), \n",
    "                          (coords[0]+len(body_language_class)*20, coords[1]-30), \n",
    "                          (245, 117, 16), -1)\n",
    "            cv2.putText(image, body_language_class, coords, \n",
    "                        cv2.FONT_HERSHEY_SIMPLEX, 1, (255, 255, 255), 2, cv2.LINE_AA)\n",
    "            \n",
    "            # Get status box\n",
    "            cv2.rectangle(image, (0,0), (250, 60), (245, 117, 16), -1)\n",
    "            \n",
    "            # Display Class\n",
    "            cv2.putText(image, ''\n",
    "                        , (95,12), cv2.FONT_HERSHEY_SIMPLEX, 0.5, (0, 0, 0), 1, cv2.LINE_AA)\n",
    "            cv2.putText(image, body_language_class.split(' ')[0]\n",
    "                        , (90,40), cv2.FONT_HERSHEY_SIMPLEX, 1, (255, 255, 255), 2, cv2.LINE_AA)\n",
    "            \n",
    "            # Display Probability\n",
    "            cv2.putText(image, ''\n",
    "                        , (15,12), cv2.FONT_HERSHEY_SIMPLEX, 0.5, (0, 0, 0), 1, cv2.LINE_AA)\n",
    "            cv2.putText(image, str(round(body_language_prob[np.argmax(body_language_prob)],2))\n",
    "                        , (10,40), cv2.FONT_HERSHEY_SIMPLEX, 1, (255, 255, 255), 2, cv2.LINE_AA)\n",
    "            \n",
    "        except:\n",
    "            pass\n",
    "                        \n",
    "        cv2.imshow('Rosa Webcam', image)\n",
    "\n",
    "        if cv2.waitKey(10) & 0xFF == ord('q'):\n",
    "            break\n",
    "\n",
    "cap.release()\n",
    "cv2.destroyAllWindows()"
   ]
  },
  {
   "cell_type": "code",
   "execution_count": 78,
   "id": "033d0a11",
   "metadata": {},
   "outputs": [
    {
     "data": {
      "text/plain": [
       "mediapipe.python.solution_base.SolutionOutputs"
      ]
     },
     "execution_count": 78,
     "metadata": {},
     "output_type": "execute_result"
    }
   ],
   "source": [
    "results"
   ]
  },
  {
   "cell_type": "code",
   "execution_count": 79,
   "id": "37a5b300",
   "metadata": {},
   "outputs": [
    {
     "data": {
      "text/plain": [
       "landmark {\n",
       "  x: 0.5809244\n",
       "  y: 0.24712658\n",
       "  z: -0.739278\n",
       "  visibility: 0.99993914\n",
       "}\n",
       "landmark {\n",
       "  x: 0.6049273\n",
       "  y: 0.15868685\n",
       "  z: -0.6839315\n",
       "  visibility: 0.99988085\n",
       "}\n",
       "landmark {\n",
       "  x: 0.6220694\n",
       "  y: 0.15958098\n",
       "  z: -0.68387604\n",
       "  visibility: 0.99987334\n",
       "}\n",
       "landmark {\n",
       "  x: 0.63892114\n",
       "  y: 0.16115968\n",
       "  z: -0.6841286\n",
       "  visibility: 0.99987036\n",
       "}\n",
       "landmark {\n",
       "  x: 0.54849285\n",
       "  y: 0.15705356\n",
       "  z: -0.6899874\n",
       "  visibility: 0.9998952\n",
       "}\n",
       "landmark {\n",
       "  x: 0.52555025\n",
       "  y: 0.15668614\n",
       "  z: -0.68933886\n",
       "  visibility: 0.9998963\n",
       "}\n",
       "landmark {\n",
       "  x: 0.50590986\n",
       "  y: 0.15615633\n",
       "  z: -0.689562\n",
       "  visibility: 0.9999029\n",
       "}\n",
       "landmark {\n",
       "  x: 0.6626643\n",
       "  y: 0.2011099\n",
       "  z: -0.35323778\n",
       "  visibility: 0.9998439\n",
       "}\n",
       "landmark {\n",
       "  x: 0.47565588\n",
       "  y: 0.19750349\n",
       "  z: -0.3682824\n",
       "  visibility: 0.99991006\n",
       "}\n",
       "landmark {\n",
       "  x: 0.6106254\n",
       "  y: 0.33324215\n",
       "  z: -0.61935574\n",
       "  visibility: 0.9999331\n",
       "}\n",
       "landmark {\n",
       "  x: 0.54190326\n",
       "  y: 0.33145252\n",
       "  z: -0.6230754\n",
       "  visibility: 0.9999421\n",
       "}\n",
       "landmark {\n",
       "  x: 0.77338624\n",
       "  y: 0.67101187\n",
       "  z: -0.19209817\n",
       "  visibility: 0.9990629\n",
       "}\n",
       "landmark {\n",
       "  x: 0.3314059\n",
       "  y: 0.69686127\n",
       "  z: -0.3093231\n",
       "  visibility: 0.9990125\n",
       "}\n",
       "landmark {\n",
       "  x: 0.8759099\n",
       "  y: 1.0357248\n",
       "  z: -0.2057263\n",
       "  visibility: 0.31266868\n",
       "}\n",
       "landmark {\n",
       "  x: 0.27247548\n",
       "  y: 1.3027484\n",
       "  z: -0.33921245\n",
       "  visibility: 0.45266393\n",
       "}\n",
       "landmark {\n",
       "  x: 0.9553095\n",
       "  y: 1.5810893\n",
       "  z: -0.5213495\n",
       "  visibility: 0.12174888\n",
       "}\n",
       "landmark {\n",
       "  x: 0.2327183\n",
       "  y: 1.7245259\n",
       "  z: -0.80656767\n",
       "  visibility: 0.22486159\n",
       "}\n",
       "landmark {\n",
       "  x: 1.0019696\n",
       "  y: 1.7080785\n",
       "  z: -0.62058204\n",
       "  visibility: 0.12975112\n",
       "}\n",
       "landmark {\n",
       "  x: 0.18794407\n",
       "  y: 1.8581065\n",
       "  z: -0.92546093\n",
       "  visibility: 0.2384526\n",
       "}\n",
       "landmark {\n",
       "  x: 0.9618707\n",
       "  y: 1.7144945\n",
       "  z: -0.65489966\n",
       "  visibility: 0.1661912\n",
       "}\n",
       "landmark {\n",
       "  x: 0.2346004\n",
       "  y: 1.8553627\n",
       "  z: -1.0257657\n",
       "  visibility: 0.30950117\n",
       "}\n",
       "landmark {\n",
       "  x: 0.9331772\n",
       "  y: 1.6683339\n",
       "  z: -0.56305146\n",
       "  visibility: 0.1675756\n",
       "}\n",
       "landmark {\n",
       "  x: 0.26259118\n",
       "  y: 1.8004785\n",
       "  z: -0.86652786\n",
       "  visibility: 0.30181152\n",
       "}\n",
       "landmark {\n",
       "  x: 0.71068764\n",
       "  y: 1.7009072\n",
       "  z: -0.04375672\n",
       "  visibility: 0.0018331904\n",
       "}\n",
       "landmark {\n",
       "  x: 0.42416888\n",
       "  y: 1.7146344\n",
       "  z: 0.04785337\n",
       "  visibility: 0.0019507147\n",
       "}\n",
       "landmark {\n",
       "  x: 0.7069418\n",
       "  y: 2.5661414\n",
       "  z: 0.0024344628\n",
       "  visibility: 0.001884419\n",
       "}\n",
       "landmark {\n",
       "  x: 0.44366056\n",
       "  y: 2.5870023\n",
       "  z: 0.12656592\n",
       "  visibility: 0.0007285858\n",
       "}\n",
       "landmark {\n",
       "  x: 0.7178904\n",
       "  y: 3.3514407\n",
       "  z: 0.6000527\n",
       "  visibility: 0.00027280394\n",
       "}\n",
       "landmark {\n",
       "  x: 0.47280198\n",
       "  y: 3.3570294\n",
       "  z: 0.53263015\n",
       "  visibility: 4.1248873e-05\n",
       "}\n",
       "landmark {\n",
       "  x: 0.72537917\n",
       "  y: 3.4757993\n",
       "  z: 0.6271635\n",
       "  visibility: 0.00020669066\n",
       "}\n",
       "landmark {\n",
       "  x: 0.470155\n",
       "  y: 3.4770355\n",
       "  z: 0.5582036\n",
       "  visibility: 8.203569e-05\n",
       "}\n",
       "landmark {\n",
       "  x: 0.6942489\n",
       "  y: 3.5821817\n",
       "  z: 0.10134424\n",
       "  visibility: 0.00030812057\n",
       "}\n",
       "landmark {\n",
       "  x: 0.52079284\n",
       "  y: 3.5925694\n",
       "  z: -0.03258152\n",
       "  visibility: 0.00016489792\n",
       "}"
      ]
     },
     "execution_count": 79,
     "metadata": {},
     "output_type": "execute_result"
    }
   ],
   "source": [
    "results.pose_landmarks"
   ]
  },
  {
   "cell_type": "code",
   "execution_count": 80,
   "id": "bc197923",
   "metadata": {},
   "outputs": [
    {
     "data": {
      "text/plain": [
       "x: 0.5809244\n",
       "y: 0.24712658\n",
       "z: -0.739278\n",
       "visibility: 0.99993914"
      ]
     },
     "execution_count": 80,
     "metadata": {},
     "output_type": "execute_result"
    }
   ],
   "source": [
    "results.pose_landmarks.landmark[0]"
   ]
  },
  {
   "cell_type": "code",
   "execution_count": 81,
   "id": "241ec37d",
   "metadata": {},
   "outputs": [
    {
     "data": {
      "text/plain": [
       "0.9999391436576843"
      ]
     },
     "execution_count": 81,
     "metadata": {},
     "output_type": "execute_result"
    }
   ],
   "source": [
    "results.pose_landmarks.landmark[0].visibility"
   ]
  },
  {
   "cell_type": "code",
   "execution_count": 82,
   "id": "56522667",
   "metadata": {},
   "outputs": [
    {
     "data": {
      "text/plain": [
       "x: 0.56733704\n",
       "y: 0.33550656\n",
       "z: -0.0311259"
      ]
     },
     "execution_count": 82,
     "metadata": {},
     "output_type": "execute_result"
    }
   ],
   "source": [
    "results.face_landmarks.landmark[0]"
   ]
  },
  {
   "cell_type": "code",
   "execution_count": 83,
   "id": "5445a134",
   "metadata": {},
   "outputs": [
    {
     "data": {
      "text/plain": [
       "0.0"
      ]
     },
     "execution_count": 83,
     "metadata": {},
     "output_type": "execute_result"
    }
   ],
   "source": [
    "results.face_landmarks.landmark[0].visibility # visibility muestra si el landmark si se muestra en la pantalla o no\n",
    "# para los landmarks de la cara siempre sera cero"
   ]
  },
  {
   "cell_type": "markdown",
   "id": "a423fb05",
   "metadata": {},
   "source": [
    "<img src=\"https://i.imgur.com/AzKNp7A.png\">"
   ]
  },
  {
   "cell_type": "markdown",
   "id": "53da50d3",
   "metadata": {},
   "source": [
    "## 2. Capturar Landmarks & Exportar CSV"
   ]
  },
  {
   "cell_type": "code",
   "execution_count": 84,
   "id": "a3a98fb9",
   "metadata": {},
   "outputs": [],
   "source": [
    "import csv\n",
    "import os\n",
    "import numpy as np"
   ]
  },
  {
   "cell_type": "code",
   "execution_count": 103,
   "id": "b58a4cc2",
   "metadata": {},
   "outputs": [
    {
     "data": {
      "text/plain": [
       "501"
      ]
     },
     "execution_count": 103,
     "metadata": {},
     "output_type": "execute_result"
    }
   ],
   "source": [
    "num_coords = len(results.face_landmarks.landmark) + len(results.pose_landmarks.landmark)\n",
    "num_coords #501"
   ]
  },
  {
   "cell_type": "code",
   "execution_count": 104,
   "id": "83a430d1",
   "metadata": {},
   "outputs": [],
   "source": [
    "#Create header table | class | x | y | z | visibility |\n",
    "landmarks = ['class']\n",
    "for val in range(1, num_coords+1):\n",
    "    landmarks += ['x{}'.format(val), 'y{}'.format(val), 'z{}'.format(val), 'v{}'.format(val)]"
   ]
  },
  {
   "cell_type": "code",
   "execution_count": 105,
   "id": "904a3c14",
   "metadata": {},
   "outputs": [
    {
     "data": {
      "text/plain": [
       "2005"
      ]
     },
     "execution_count": 105,
     "metadata": {},
     "output_type": "execute_result"
    }
   ],
   "source": [
    "len(landmarks) #2005"
   ]
  },
  {
   "cell_type": "code",
   "execution_count": 106,
   "id": "3b23af69",
   "metadata": {},
   "outputs": [],
   "source": [
    "#Export header CSV\n",
    "with open('coords.csv', mode='w', newline='') as f:\n",
    "    csv_writer = csv.writer(f, delimiter=',', quotechar='\"', quoting=csv.QUOTE_MINIMAL)\n",
    "    csv_writer.writerow(landmarks)"
   ]
  },
  {
   "cell_type": "markdown",
   "id": "660880c2",
   "metadata": {},
   "source": [
    "## 3. Tomar coordenadas de señas"
   ]
  },
  {
   "cell_type": "code",
   "execution_count": 108,
   "id": "3625f653",
   "metadata": {},
   "outputs": [],
   "source": [
    "#Save coord poses\n",
    "class_name=\"Buuu que mal\"\n",
    "\n",
    "#Detectar puntos de referencia\n",
    "cap = cv2.VideoCapture(0)  #0 o 2\n",
    "\n",
    "# Initiate holistic model\n",
    "with mp_holistic.Holistic(min_detection_confidence=0.5, min_tracking_confidence=0.5) as holistic:\n",
    "\n",
    "    while cap.isOpened():\n",
    "        ret, frame = cap.read()\n",
    "\n",
    "        # Recolor Feed\n",
    "        image = cv2.cvtColor(frame, cv2.COLOR_BGR2RGB)\n",
    "        image.flags.writeable = False\n",
    "\n",
    "        # Make Detections\n",
    "        results = holistic.process(image)\n",
    "        # print(results.face_landmarks)\n",
    "\n",
    "        # face_landmarks, pose_landmarks, left_hand_landmarks, right_hand_landmarks\n",
    "\n",
    "        # Recolor image back to BGR for rendering\n",
    "        image.flags.writeable = True\n",
    "        image = cv2.cvtColor(image, cv2.COLOR_RGB2BGR)\n",
    "\n",
    "\n",
    "        # 1. Draw face landmarks\n",
    "       # mp_drawing.draw_landmarks(image, results.face_landmarks, mp_holistic.FACEMESH_TESSELATION,\n",
    "       #                          mp_drawing.DrawingSpec(color=(80,110,10), thickness=1, circle_radius=1),\n",
    "       #                          mp_drawing.DrawingSpec(color=(80,256,121), thickness=1, circle_radius=1)\n",
    "       #                          )\n",
    "\n",
    "        # 2. Right hand\n",
    "        mp_drawing.draw_landmarks(image, results.right_hand_landmarks, mp_holistic.HAND_CONNECTIONS,\n",
    "                                 mp_drawing.DrawingSpec(color=(80,22,10), thickness=2, circle_radius=4),\n",
    "                                 mp_drawing.DrawingSpec(color=(80,44,121), thickness=2, circle_radius=2)\n",
    "                                 )\n",
    "\n",
    "        # 3. Left Hand\n",
    "        mp_drawing.draw_landmarks(image, results.left_hand_landmarks, mp_holistic.HAND_CONNECTIONS,\n",
    "                                 mp_drawing.DrawingSpec(color=(121,22,76), thickness=2, circle_radius=4),\n",
    "                                 mp_drawing.DrawingSpec(color=(121,44,250), thickness=2, circle_radius=2)\n",
    "                                 )\n",
    "\n",
    "        # 4. Pose Detections\n",
    "        mp_drawing.draw_landmarks(image, results.pose_landmarks, mp_holistic.POSE_CONNECTIONS,\n",
    "                                 mp_drawing.DrawingSpec(color=(245,117,66), thickness=2, circle_radius=4),\n",
    "                                 mp_drawing.DrawingSpec(color=(245,66,230), thickness=2, circle_radius=2)\n",
    "                                 )\n",
    "        # Export coordinates, da todos los landmarks y los almacena en una matriz\n",
    "        try:\n",
    "            # Extract Pose landmarks\n",
    "            pose = results.pose_landmarks.landmark\n",
    "            pose_row = list(np.array([[landmark.x, landmark.y, landmark.z, landmark.visibility] for landmark in pose]).flatten())\n",
    "\n",
    "            # Extract Face landmarks\n",
    "            face = results.face_landmarks.landmark\n",
    "            face_row = list(np.array([[landmark.x, landmark.y, landmark.z, landmark.visibility] for landmark in face]).flatten())\n",
    "\n",
    "            # Concate rows\n",
    "            row = pose_row+face_row\n",
    "\n",
    "            # Append class name\n",
    "            row.insert(0, class_name)\n",
    "\n",
    "            # Export to CSV\n",
    "            with open('coords.csv', mode='a', newline='') as f:\n",
    "                csv_writer = csv.writer(f, delimiter=',', quotechar='\"', quoting=csv.QUOTE_MINIMAL)\n",
    "                csv_writer.writerow(row)\n",
    "\n",
    "        except:\n",
    "            pass\n",
    "\n",
    "\n",
    "        cv2.imshow('Rosa Webcam', image)\n",
    "        if cv2.waitKey(10) & 0xFF == ord('q'):\n",
    "            break\n",
    "\n",
    "cap.release()\n",
    "cv2.destroyAllWindows()"
   ]
  },
  {
   "cell_type": "code",
   "execution_count": 109,
   "id": "a94f1c11",
   "metadata": {},
   "outputs": [
    {
     "data": {
      "text/plain": [
       "x: 0.5739429\n",
       "y: 0.31865352\n",
       "z: -0.85075855\n",
       "visibility: 0.9998646"
      ]
     },
     "execution_count": 109,
     "metadata": {},
     "output_type": "execute_result"
    }
   ],
   "source": [
    "results.pose_landmarks.landmark[0]"
   ]
  },
  {
   "cell_type": "code",
   "execution_count": 121,
   "id": "5efa04af",
   "metadata": {},
   "outputs": [
    {
     "data": {
      "text/plain": [
       "0.0"
      ]
     },
     "execution_count": 121,
     "metadata": {},
     "output_type": "execute_result"
    }
   ],
   "source": [
    "results.face_landmarks.landmark[0].visibility #la visibilidad de face_landmark siempre sera cero"
   ]
  },
  {
   "cell_type": "markdown",
   "id": "54d8925c",
   "metadata": {},
   "source": [
    "Numero de coordenadas que tendremos:"
   ]
  },
  {
   "cell_type": "code",
   "execution_count": 144,
   "id": "a0d1148f",
   "metadata": {},
   "outputs": [
    {
     "data": {
      "text/plain": [
       "132"
      ]
     },
     "execution_count": 144,
     "metadata": {},
     "output_type": "execute_result"
    }
   ],
   "source": [
    "pose_row = list(np.array([[landmark.x, landmark.y, landmark.z, landmark.visibility] for landmark in pose]).flatten())\n",
    "len(pose_row) #132\n"
   ]
  },
  {
   "cell_type": "code",
   "execution_count": 157,
   "id": "ac6e925e",
   "metadata": {},
   "outputs": [
    {
     "data": {
      "text/plain": [
       "1872"
      ]
     },
     "execution_count": 157,
     "metadata": {},
     "output_type": "execute_result"
    }
   ],
   "source": [
    "face_row = list(np.array([[landmark.x, landmark.y, landmark.z, landmark.visibility] for landmark in face]).flatten())\n",
    "len(face_row)"
   ]
  },
  {
   "cell_type": "code",
   "execution_count": 146,
   "id": "0eaf1503",
   "metadata": {},
   "outputs": [
    {
     "data": {
      "text/plain": [
       "2004"
      ]
     },
     "execution_count": 146,
     "metadata": {},
     "output_type": "execute_result"
    }
   ],
   "source": [
    "row=pose_row+face_row #total de coordenadas deberia de ser 2004\n",
    "len(row)\n"
   ]
  },
  {
   "cell_type": "code",
   "execution_count": 148,
   "id": "096d7d1c",
   "metadata": {},
   "outputs": [
    {
     "data": {
      "text/plain": [
       "2005"
      ]
     },
     "execution_count": 148,
     "metadata": {},
     "output_type": "execute_result"
    }
   ],
   "source": [
    "1+501*4"
   ]
  },
  {
   "cell_type": "code",
   "execution_count": 147,
   "id": "5400a813",
   "metadata": {},
   "outputs": [
    {
     "data": {
      "text/plain": [
       "2005"
      ]
     },
     "execution_count": 147,
     "metadata": {},
     "output_type": "execute_result"
    }
   ],
   "source": [
    "row.insert(0, class_name) #agregar el nombre de la clase (pose)\n",
    "len(row) #1+501*4 class_name, landmarks, header (x,y,z,visibility)"
   ]
  },
  {
   "cell_type": "markdown",
   "id": "cf98267a",
   "metadata": {},
   "source": [
    "## 4. Entrenar modelo usando Scikit Learn"
   ]
  },
  {
   "cell_type": "markdown",
   "id": "978de101",
   "metadata": {},
   "source": [
    "### Leer y recolectar datos"
   ]
  },
  {
   "cell_type": "code",
   "execution_count": 158,
   "id": "8b1f0b43",
   "metadata": {},
   "outputs": [],
   "source": [
    "import pandas as pd\n",
    "from sklearn.model_selection import train_test_split"
   ]
  },
  {
   "cell_type": "code",
   "execution_count": 159,
   "id": "8a945a78",
   "metadata": {},
   "outputs": [],
   "source": [
    "df = pd.read_csv('coords.csv')"
   ]
  },
  {
   "cell_type": "code",
   "execution_count": 161,
   "id": "61a6170f",
   "metadata": {},
   "outputs": [
    {
     "data": {
      "text/html": [
       "<div>\n",
       "<style scoped>\n",
       "    .dataframe tbody tr th:only-of-type {\n",
       "        vertical-align: middle;\n",
       "    }\n",
       "\n",
       "    .dataframe tbody tr th {\n",
       "        vertical-align: top;\n",
       "    }\n",
       "\n",
       "    .dataframe thead th {\n",
       "        text-align: right;\n",
       "    }\n",
       "</style>\n",
       "<table border=\"1\" class=\"dataframe\">\n",
       "  <thead>\n",
       "    <tr style=\"text-align: right;\">\n",
       "      <th></th>\n",
       "      <th>class</th>\n",
       "      <th>x1</th>\n",
       "      <th>y1</th>\n",
       "      <th>z1</th>\n",
       "      <th>v1</th>\n",
       "      <th>x2</th>\n",
       "      <th>y2</th>\n",
       "      <th>z2</th>\n",
       "      <th>v2</th>\n",
       "      <th>x3</th>\n",
       "      <th>...</th>\n",
       "      <th>z499</th>\n",
       "      <th>v499</th>\n",
       "      <th>x500</th>\n",
       "      <th>y500</th>\n",
       "      <th>z500</th>\n",
       "      <th>v500</th>\n",
       "      <th>x501</th>\n",
       "      <th>y501</th>\n",
       "      <th>z501</th>\n",
       "      <th>v501</th>\n",
       "    </tr>\n",
       "  </thead>\n",
       "  <tbody>\n",
       "    <tr>\n",
       "      <th>0</th>\n",
       "      <td>Buuieeen</td>\n",
       "      <td>0.530443</td>\n",
       "      <td>0.256885</td>\n",
       "      <td>-0.653312</td>\n",
       "      <td>0.999986</td>\n",
       "      <td>0.559472</td>\n",
       "      <td>0.183092</td>\n",
       "      <td>-0.591619</td>\n",
       "      <td>0.999977</td>\n",
       "      <td>0.577272</td>\n",
       "      <td>...</td>\n",
       "      <td>0.003441</td>\n",
       "      <td>0.0</td>\n",
       "      <td>0.577638</td>\n",
       "      <td>0.191048</td>\n",
       "      <td>0.022638</td>\n",
       "      <td>0.0</td>\n",
       "      <td>0.582679</td>\n",
       "      <td>0.182326</td>\n",
       "      <td>0.023350</td>\n",
       "      <td>0.0</td>\n",
       "    </tr>\n",
       "    <tr>\n",
       "      <th>1</th>\n",
       "      <td>Bieeen</td>\n",
       "      <td>0.527919</td>\n",
       "      <td>0.270350</td>\n",
       "      <td>-0.671225</td>\n",
       "      <td>0.999984</td>\n",
       "      <td>0.555597</td>\n",
       "      <td>0.191837</td>\n",
       "      <td>-0.610291</td>\n",
       "      <td>0.999974</td>\n",
       "      <td>0.572588</td>\n",
       "      <td>...</td>\n",
       "      <td>0.000889</td>\n",
       "      <td>0.0</td>\n",
       "      <td>0.575438</td>\n",
       "      <td>0.192714</td>\n",
       "      <td>0.018138</td>\n",
       "      <td>0.0</td>\n",
       "      <td>0.580191</td>\n",
       "      <td>0.184997</td>\n",
       "      <td>0.018685</td>\n",
       "      <td>0.0</td>\n",
       "    </tr>\n",
       "    <tr>\n",
       "      <th>2</th>\n",
       "      <td>Bieeen</td>\n",
       "      <td>0.526927</td>\n",
       "      <td>0.269982</td>\n",
       "      <td>-0.686023</td>\n",
       "      <td>0.999982</td>\n",
       "      <td>0.554501</td>\n",
       "      <td>0.191207</td>\n",
       "      <td>-0.624949</td>\n",
       "      <td>0.999969</td>\n",
       "      <td>0.571297</td>\n",
       "      <td>...</td>\n",
       "      <td>0.002067</td>\n",
       "      <td>0.0</td>\n",
       "      <td>0.574890</td>\n",
       "      <td>0.188843</td>\n",
       "      <td>0.020768</td>\n",
       "      <td>0.0</td>\n",
       "      <td>0.579669</td>\n",
       "      <td>0.182104</td>\n",
       "      <td>0.021323</td>\n",
       "      <td>0.0</td>\n",
       "    </tr>\n",
       "    <tr>\n",
       "      <th>3</th>\n",
       "      <td>Bieeen</td>\n",
       "      <td>0.526678</td>\n",
       "      <td>0.269773</td>\n",
       "      <td>-0.686642</td>\n",
       "      <td>0.999981</td>\n",
       "      <td>0.554088</td>\n",
       "      <td>0.190821</td>\n",
       "      <td>-0.628925</td>\n",
       "      <td>0.999967</td>\n",
       "      <td>0.570879</td>\n",
       "      <td>...</td>\n",
       "      <td>0.002285</td>\n",
       "      <td>0.0</td>\n",
       "      <td>0.575821</td>\n",
       "      <td>0.186804</td>\n",
       "      <td>0.020908</td>\n",
       "      <td>0.0</td>\n",
       "      <td>0.580568</td>\n",
       "      <td>0.179891</td>\n",
       "      <td>0.021366</td>\n",
       "      <td>0.0</td>\n",
       "    </tr>\n",
       "    <tr>\n",
       "      <th>4</th>\n",
       "      <td>Bieeen</td>\n",
       "      <td>0.525802</td>\n",
       "      <td>0.269881</td>\n",
       "      <td>-0.776611</td>\n",
       "      <td>0.999976</td>\n",
       "      <td>0.552998</td>\n",
       "      <td>0.191072</td>\n",
       "      <td>-0.715791</td>\n",
       "      <td>0.999958</td>\n",
       "      <td>0.569570</td>\n",
       "      <td>...</td>\n",
       "      <td>0.001017</td>\n",
       "      <td>0.0</td>\n",
       "      <td>0.574593</td>\n",
       "      <td>0.188575</td>\n",
       "      <td>0.019574</td>\n",
       "      <td>0.0</td>\n",
       "      <td>0.579291</td>\n",
       "      <td>0.181415</td>\n",
       "      <td>0.020120</td>\n",
       "      <td>0.0</td>\n",
       "    </tr>\n",
       "  </tbody>\n",
       "</table>\n",
       "<p>5 rows × 2005 columns</p>\n",
       "</div>"
      ],
      "text/plain": [
       "      class        x1        y1        z1        v1        x2        y2  \\\n",
       "0  Buuieeen  0.530443  0.256885 -0.653312  0.999986  0.559472  0.183092   \n",
       "1    Bieeen  0.527919  0.270350 -0.671225  0.999984  0.555597  0.191837   \n",
       "2    Bieeen  0.526927  0.269982 -0.686023  0.999982  0.554501  0.191207   \n",
       "3    Bieeen  0.526678  0.269773 -0.686642  0.999981  0.554088  0.190821   \n",
       "4    Bieeen  0.525802  0.269881 -0.776611  0.999976  0.552998  0.191072   \n",
       "\n",
       "         z2        v2        x3  ...      z499  v499      x500      y500  \\\n",
       "0 -0.591619  0.999977  0.577272  ...  0.003441   0.0  0.577638  0.191048   \n",
       "1 -0.610291  0.999974  0.572588  ...  0.000889   0.0  0.575438  0.192714   \n",
       "2 -0.624949  0.999969  0.571297  ...  0.002067   0.0  0.574890  0.188843   \n",
       "3 -0.628925  0.999967  0.570879  ...  0.002285   0.0  0.575821  0.186804   \n",
       "4 -0.715791  0.999958  0.569570  ...  0.001017   0.0  0.574593  0.188575   \n",
       "\n",
       "       z500  v500      x501      y501      z501  v501  \n",
       "0  0.022638   0.0  0.582679  0.182326  0.023350   0.0  \n",
       "1  0.018138   0.0  0.580191  0.184997  0.018685   0.0  \n",
       "2  0.020768   0.0  0.579669  0.182104  0.021323   0.0  \n",
       "3  0.020908   0.0  0.580568  0.179891  0.021366   0.0  \n",
       "4  0.019574   0.0  0.579291  0.181415  0.020120   0.0  \n",
       "\n",
       "[5 rows x 2005 columns]"
      ]
     },
     "execution_count": 161,
     "metadata": {},
     "output_type": "execute_result"
    }
   ],
   "source": [
    "df.head()"
   ]
  },
  {
   "cell_type": "code",
   "execution_count": 162,
   "id": "d03794bd",
   "metadata": {},
   "outputs": [
    {
     "data": {
      "text/html": [
       "<div>\n",
       "<style scoped>\n",
       "    .dataframe tbody tr th:only-of-type {\n",
       "        vertical-align: middle;\n",
       "    }\n",
       "\n",
       "    .dataframe tbody tr th {\n",
       "        vertical-align: top;\n",
       "    }\n",
       "\n",
       "    .dataframe thead th {\n",
       "        text-align: right;\n",
       "    }\n",
       "</style>\n",
       "<table border=\"1\" class=\"dataframe\">\n",
       "  <thead>\n",
       "    <tr style=\"text-align: right;\">\n",
       "      <th></th>\n",
       "      <th>class</th>\n",
       "      <th>x1</th>\n",
       "      <th>y1</th>\n",
       "      <th>z1</th>\n",
       "      <th>v1</th>\n",
       "      <th>x2</th>\n",
       "      <th>y2</th>\n",
       "      <th>z2</th>\n",
       "      <th>v2</th>\n",
       "      <th>x3</th>\n",
       "      <th>...</th>\n",
       "      <th>z499</th>\n",
       "      <th>v499</th>\n",
       "      <th>x500</th>\n",
       "      <th>y500</th>\n",
       "      <th>z500</th>\n",
       "      <th>v500</th>\n",
       "      <th>x501</th>\n",
       "      <th>y501</th>\n",
       "      <th>z501</th>\n",
       "      <th>v501</th>\n",
       "    </tr>\n",
       "  </thead>\n",
       "  <tbody>\n",
       "    <tr>\n",
       "      <th>542</th>\n",
       "      <td>Buuu que mal</td>\n",
       "      <td>0.561161</td>\n",
       "      <td>0.312676</td>\n",
       "      <td>-0.954139</td>\n",
       "      <td>0.999895</td>\n",
       "      <td>0.585262</td>\n",
       "      <td>0.240363</td>\n",
       "      <td>-0.879301</td>\n",
       "      <td>0.999777</td>\n",
       "      <td>0.600595</td>\n",
       "      <td>...</td>\n",
       "      <td>0.002703</td>\n",
       "      <td>0.0</td>\n",
       "      <td>0.612643</td>\n",
       "      <td>0.256506</td>\n",
       "      <td>0.021253</td>\n",
       "      <td>0.0</td>\n",
       "      <td>0.617767</td>\n",
       "      <td>0.247276</td>\n",
       "      <td>0.021986</td>\n",
       "      <td>0.0</td>\n",
       "    </tr>\n",
       "    <tr>\n",
       "      <th>543</th>\n",
       "      <td>Buuu que mal</td>\n",
       "      <td>0.561202</td>\n",
       "      <td>0.313547</td>\n",
       "      <td>-1.004511</td>\n",
       "      <td>0.999883</td>\n",
       "      <td>0.585302</td>\n",
       "      <td>0.240690</td>\n",
       "      <td>-0.925527</td>\n",
       "      <td>0.999742</td>\n",
       "      <td>0.600615</td>\n",
       "      <td>...</td>\n",
       "      <td>0.002702</td>\n",
       "      <td>0.0</td>\n",
       "      <td>0.616873</td>\n",
       "      <td>0.256113</td>\n",
       "      <td>0.021999</td>\n",
       "      <td>0.0</td>\n",
       "      <td>0.621815</td>\n",
       "      <td>0.247989</td>\n",
       "      <td>0.022703</td>\n",
       "      <td>0.0</td>\n",
       "    </tr>\n",
       "    <tr>\n",
       "      <th>544</th>\n",
       "      <td>Buuu que mal</td>\n",
       "      <td>0.564997</td>\n",
       "      <td>0.315829</td>\n",
       "      <td>-0.923724</td>\n",
       "      <td>0.999874</td>\n",
       "      <td>0.587699</td>\n",
       "      <td>0.241852</td>\n",
       "      <td>-0.852775</td>\n",
       "      <td>0.999715</td>\n",
       "      <td>0.603202</td>\n",
       "      <td>...</td>\n",
       "      <td>0.003340</td>\n",
       "      <td>0.0</td>\n",
       "      <td>0.620147</td>\n",
       "      <td>0.253019</td>\n",
       "      <td>0.022850</td>\n",
       "      <td>0.0</td>\n",
       "      <td>0.625026</td>\n",
       "      <td>0.244550</td>\n",
       "      <td>0.023674</td>\n",
       "      <td>0.0</td>\n",
       "    </tr>\n",
       "    <tr>\n",
       "      <th>545</th>\n",
       "      <td>Buuu que mal</td>\n",
       "      <td>0.570446</td>\n",
       "      <td>0.317763</td>\n",
       "      <td>-0.891257</td>\n",
       "      <td>0.999865</td>\n",
       "      <td>0.592185</td>\n",
       "      <td>0.243242</td>\n",
       "      <td>-0.811182</td>\n",
       "      <td>0.999696</td>\n",
       "      <td>0.608082</td>\n",
       "      <td>...</td>\n",
       "      <td>0.002278</td>\n",
       "      <td>0.0</td>\n",
       "      <td>0.621281</td>\n",
       "      <td>0.251643</td>\n",
       "      <td>0.021229</td>\n",
       "      <td>0.0</td>\n",
       "      <td>0.626135</td>\n",
       "      <td>0.244106</td>\n",
       "      <td>0.021871</td>\n",
       "      <td>0.0</td>\n",
       "    </tr>\n",
       "    <tr>\n",
       "      <th>546</th>\n",
       "      <td>Buuu que mal</td>\n",
       "      <td>0.573943</td>\n",
       "      <td>0.318654</td>\n",
       "      <td>-0.850759</td>\n",
       "      <td>0.999865</td>\n",
       "      <td>0.594787</td>\n",
       "      <td>0.243582</td>\n",
       "      <td>-0.771189</td>\n",
       "      <td>0.999693</td>\n",
       "      <td>0.610638</td>\n",
       "      <td>...</td>\n",
       "      <td>0.002614</td>\n",
       "      <td>0.0</td>\n",
       "      <td>0.622002</td>\n",
       "      <td>0.249436</td>\n",
       "      <td>0.022121</td>\n",
       "      <td>0.0</td>\n",
       "      <td>0.626846</td>\n",
       "      <td>0.241835</td>\n",
       "      <td>0.022813</td>\n",
       "      <td>0.0</td>\n",
       "    </tr>\n",
       "  </tbody>\n",
       "</table>\n",
       "<p>5 rows × 2005 columns</p>\n",
       "</div>"
      ],
      "text/plain": [
       "            class        x1        y1        z1        v1        x2        y2  \\\n",
       "542  Buuu que mal  0.561161  0.312676 -0.954139  0.999895  0.585262  0.240363   \n",
       "543  Buuu que mal  0.561202  0.313547 -1.004511  0.999883  0.585302  0.240690   \n",
       "544  Buuu que mal  0.564997  0.315829 -0.923724  0.999874  0.587699  0.241852   \n",
       "545  Buuu que mal  0.570446  0.317763 -0.891257  0.999865  0.592185  0.243242   \n",
       "546  Buuu que mal  0.573943  0.318654 -0.850759  0.999865  0.594787  0.243582   \n",
       "\n",
       "           z2        v2        x3  ...      z499  v499      x500      y500  \\\n",
       "542 -0.879301  0.999777  0.600595  ...  0.002703   0.0  0.612643  0.256506   \n",
       "543 -0.925527  0.999742  0.600615  ...  0.002702   0.0  0.616873  0.256113   \n",
       "544 -0.852775  0.999715  0.603202  ...  0.003340   0.0  0.620147  0.253019   \n",
       "545 -0.811182  0.999696  0.608082  ...  0.002278   0.0  0.621281  0.251643   \n",
       "546 -0.771189  0.999693  0.610638  ...  0.002614   0.0  0.622002  0.249436   \n",
       "\n",
       "         z500  v500      x501      y501      z501  v501  \n",
       "542  0.021253   0.0  0.617767  0.247276  0.021986   0.0  \n",
       "543  0.021999   0.0  0.621815  0.247989  0.022703   0.0  \n",
       "544  0.022850   0.0  0.625026  0.244550  0.023674   0.0  \n",
       "545  0.021229   0.0  0.626135  0.244106  0.021871   0.0  \n",
       "546  0.022121   0.0  0.626846  0.241835  0.022813   0.0  \n",
       "\n",
       "[5 rows x 2005 columns]"
      ]
     },
     "execution_count": 162,
     "metadata": {},
     "output_type": "execute_result"
    }
   ],
   "source": [
    "df.tail()"
   ]
  },
  {
   "cell_type": "code",
   "execution_count": 165,
   "id": "ef6f2b99",
   "metadata": {},
   "outputs": [
    {
     "data": {
      "text/html": [
       "<div>\n",
       "<style scoped>\n",
       "    .dataframe tbody tr th:only-of-type {\n",
       "        vertical-align: middle;\n",
       "    }\n",
       "\n",
       "    .dataframe tbody tr th {\n",
       "        vertical-align: top;\n",
       "    }\n",
       "\n",
       "    .dataframe thead th {\n",
       "        text-align: right;\n",
       "    }\n",
       "</style>\n",
       "<table border=\"1\" class=\"dataframe\">\n",
       "  <thead>\n",
       "    <tr style=\"text-align: right;\">\n",
       "      <th></th>\n",
       "      <th>class</th>\n",
       "      <th>x1</th>\n",
       "      <th>y1</th>\n",
       "      <th>z1</th>\n",
       "      <th>v1</th>\n",
       "      <th>x2</th>\n",
       "      <th>y2</th>\n",
       "      <th>z2</th>\n",
       "      <th>v2</th>\n",
       "      <th>x3</th>\n",
       "      <th>...</th>\n",
       "      <th>z499</th>\n",
       "      <th>v499</th>\n",
       "      <th>x500</th>\n",
       "      <th>y500</th>\n",
       "      <th>z500</th>\n",
       "      <th>v500</th>\n",
       "      <th>x501</th>\n",
       "      <th>y501</th>\n",
       "      <th>z501</th>\n",
       "      <th>v501</th>\n",
       "    </tr>\n",
       "  </thead>\n",
       "  <tbody>\n",
       "    <tr>\n",
       "      <th>1</th>\n",
       "      <td>Bieeen</td>\n",
       "      <td>0.527919</td>\n",
       "      <td>0.270350</td>\n",
       "      <td>-0.671225</td>\n",
       "      <td>0.999984</td>\n",
       "      <td>0.555597</td>\n",
       "      <td>0.191837</td>\n",
       "      <td>-0.610291</td>\n",
       "      <td>0.999974</td>\n",
       "      <td>0.572588</td>\n",
       "      <td>...</td>\n",
       "      <td>0.000889</td>\n",
       "      <td>0.0</td>\n",
       "      <td>0.575438</td>\n",
       "      <td>0.192714</td>\n",
       "      <td>0.018138</td>\n",
       "      <td>0.0</td>\n",
       "      <td>0.580191</td>\n",
       "      <td>0.184997</td>\n",
       "      <td>0.018685</td>\n",
       "      <td>0.0</td>\n",
       "    </tr>\n",
       "    <tr>\n",
       "      <th>2</th>\n",
       "      <td>Bieeen</td>\n",
       "      <td>0.526927</td>\n",
       "      <td>0.269982</td>\n",
       "      <td>-0.686023</td>\n",
       "      <td>0.999982</td>\n",
       "      <td>0.554501</td>\n",
       "      <td>0.191207</td>\n",
       "      <td>-0.624949</td>\n",
       "      <td>0.999969</td>\n",
       "      <td>0.571297</td>\n",
       "      <td>...</td>\n",
       "      <td>0.002067</td>\n",
       "      <td>0.0</td>\n",
       "      <td>0.574890</td>\n",
       "      <td>0.188843</td>\n",
       "      <td>0.020768</td>\n",
       "      <td>0.0</td>\n",
       "      <td>0.579669</td>\n",
       "      <td>0.182104</td>\n",
       "      <td>0.021323</td>\n",
       "      <td>0.0</td>\n",
       "    </tr>\n",
       "    <tr>\n",
       "      <th>3</th>\n",
       "      <td>Bieeen</td>\n",
       "      <td>0.526678</td>\n",
       "      <td>0.269773</td>\n",
       "      <td>-0.686642</td>\n",
       "      <td>0.999981</td>\n",
       "      <td>0.554088</td>\n",
       "      <td>0.190821</td>\n",
       "      <td>-0.628925</td>\n",
       "      <td>0.999967</td>\n",
       "      <td>0.570879</td>\n",
       "      <td>...</td>\n",
       "      <td>0.002285</td>\n",
       "      <td>0.0</td>\n",
       "      <td>0.575821</td>\n",
       "      <td>0.186804</td>\n",
       "      <td>0.020908</td>\n",
       "      <td>0.0</td>\n",
       "      <td>0.580568</td>\n",
       "      <td>0.179891</td>\n",
       "      <td>0.021366</td>\n",
       "      <td>0.0</td>\n",
       "    </tr>\n",
       "    <tr>\n",
       "      <th>4</th>\n",
       "      <td>Bieeen</td>\n",
       "      <td>0.525802</td>\n",
       "      <td>0.269881</td>\n",
       "      <td>-0.776611</td>\n",
       "      <td>0.999976</td>\n",
       "      <td>0.552998</td>\n",
       "      <td>0.191072</td>\n",
       "      <td>-0.715791</td>\n",
       "      <td>0.999958</td>\n",
       "      <td>0.569570</td>\n",
       "      <td>...</td>\n",
       "      <td>0.001017</td>\n",
       "      <td>0.0</td>\n",
       "      <td>0.574593</td>\n",
       "      <td>0.188575</td>\n",
       "      <td>0.019574</td>\n",
       "      <td>0.0</td>\n",
       "      <td>0.579291</td>\n",
       "      <td>0.181415</td>\n",
       "      <td>0.020120</td>\n",
       "      <td>0.0</td>\n",
       "    </tr>\n",
       "    <tr>\n",
       "      <th>5</th>\n",
       "      <td>Bieeen</td>\n",
       "      <td>0.524074</td>\n",
       "      <td>0.269810</td>\n",
       "      <td>-0.796441</td>\n",
       "      <td>0.999970</td>\n",
       "      <td>0.551455</td>\n",
       "      <td>0.191224</td>\n",
       "      <td>-0.731950</td>\n",
       "      <td>0.999950</td>\n",
       "      <td>0.567993</td>\n",
       "      <td>...</td>\n",
       "      <td>0.003378</td>\n",
       "      <td>0.0</td>\n",
       "      <td>0.574250</td>\n",
       "      <td>0.191542</td>\n",
       "      <td>0.022691</td>\n",
       "      <td>0.0</td>\n",
       "      <td>0.579120</td>\n",
       "      <td>0.183588</td>\n",
       "      <td>0.023304</td>\n",
       "      <td>0.0</td>\n",
       "    </tr>\n",
       "    <tr>\n",
       "      <th>...</th>\n",
       "      <td>...</td>\n",
       "      <td>...</td>\n",
       "      <td>...</td>\n",
       "      <td>...</td>\n",
       "      <td>...</td>\n",
       "      <td>...</td>\n",
       "      <td>...</td>\n",
       "      <td>...</td>\n",
       "      <td>...</td>\n",
       "      <td>...</td>\n",
       "      <td>...</td>\n",
       "      <td>...</td>\n",
       "      <td>...</td>\n",
       "      <td>...</td>\n",
       "      <td>...</td>\n",
       "      <td>...</td>\n",
       "      <td>...</td>\n",
       "      <td>...</td>\n",
       "      <td>...</td>\n",
       "      <td>...</td>\n",
       "      <td>...</td>\n",
       "    </tr>\n",
       "    <tr>\n",
       "      <th>332</th>\n",
       "      <td>Bieeen</td>\n",
       "      <td>0.502346</td>\n",
       "      <td>0.364458</td>\n",
       "      <td>-0.711878</td>\n",
       "      <td>0.999970</td>\n",
       "      <td>0.523844</td>\n",
       "      <td>0.285156</td>\n",
       "      <td>-0.645986</td>\n",
       "      <td>0.999950</td>\n",
       "      <td>0.538261</td>\n",
       "      <td>...</td>\n",
       "      <td>0.000084</td>\n",
       "      <td>0.0</td>\n",
       "      <td>0.568144</td>\n",
       "      <td>0.287267</td>\n",
       "      <td>0.020360</td>\n",
       "      <td>0.0</td>\n",
       "      <td>0.573151</td>\n",
       "      <td>0.280079</td>\n",
       "      <td>0.021128</td>\n",
       "      <td>0.0</td>\n",
       "    </tr>\n",
       "    <tr>\n",
       "      <th>333</th>\n",
       "      <td>Bieeen</td>\n",
       "      <td>0.504117</td>\n",
       "      <td>0.367366</td>\n",
       "      <td>-0.690439</td>\n",
       "      <td>0.999969</td>\n",
       "      <td>0.525992</td>\n",
       "      <td>0.288800</td>\n",
       "      <td>-0.626301</td>\n",
       "      <td>0.999947</td>\n",
       "      <td>0.540995</td>\n",
       "      <td>...</td>\n",
       "      <td>0.000711</td>\n",
       "      <td>0.0</td>\n",
       "      <td>0.572651</td>\n",
       "      <td>0.290650</td>\n",
       "      <td>0.022053</td>\n",
       "      <td>0.0</td>\n",
       "      <td>0.578006</td>\n",
       "      <td>0.282941</td>\n",
       "      <td>0.022980</td>\n",
       "      <td>0.0</td>\n",
       "    </tr>\n",
       "    <tr>\n",
       "      <th>334</th>\n",
       "      <td>Bieeen</td>\n",
       "      <td>0.504405</td>\n",
       "      <td>0.366832</td>\n",
       "      <td>-0.775375</td>\n",
       "      <td>0.999964</td>\n",
       "      <td>0.526557</td>\n",
       "      <td>0.287651</td>\n",
       "      <td>-0.712337</td>\n",
       "      <td>0.999936</td>\n",
       "      <td>0.541663</td>\n",
       "      <td>...</td>\n",
       "      <td>0.001722</td>\n",
       "      <td>0.0</td>\n",
       "      <td>0.570707</td>\n",
       "      <td>0.279155</td>\n",
       "      <td>0.022135</td>\n",
       "      <td>0.0</td>\n",
       "      <td>0.576245</td>\n",
       "      <td>0.269708</td>\n",
       "      <td>0.023198</td>\n",
       "      <td>0.0</td>\n",
       "    </tr>\n",
       "    <tr>\n",
       "      <th>335</th>\n",
       "      <td>Bieeen</td>\n",
       "      <td>0.504425</td>\n",
       "      <td>0.360905</td>\n",
       "      <td>-0.769675</td>\n",
       "      <td>0.999963</td>\n",
       "      <td>0.527333</td>\n",
       "      <td>0.283022</td>\n",
       "      <td>-0.703782</td>\n",
       "      <td>0.999935</td>\n",
       "      <td>0.542733</td>\n",
       "      <td>...</td>\n",
       "      <td>0.000002</td>\n",
       "      <td>0.0</td>\n",
       "      <td>0.569716</td>\n",
       "      <td>0.265240</td>\n",
       "      <td>0.020307</td>\n",
       "      <td>0.0</td>\n",
       "      <td>0.575013</td>\n",
       "      <td>0.256650</td>\n",
       "      <td>0.021239</td>\n",
       "      <td>0.0</td>\n",
       "    </tr>\n",
       "    <tr>\n",
       "      <th>336</th>\n",
       "      <td>Bieeen</td>\n",
       "      <td>0.504749</td>\n",
       "      <td>0.358122</td>\n",
       "      <td>-0.785410</td>\n",
       "      <td>0.999960</td>\n",
       "      <td>0.528486</td>\n",
       "      <td>0.281024</td>\n",
       "      <td>-0.717480</td>\n",
       "      <td>0.999927</td>\n",
       "      <td>0.543921</td>\n",
       "      <td>...</td>\n",
       "      <td>-0.001100</td>\n",
       "      <td>0.0</td>\n",
       "      <td>0.568778</td>\n",
       "      <td>0.259204</td>\n",
       "      <td>0.019351</td>\n",
       "      <td>0.0</td>\n",
       "      <td>0.573868</td>\n",
       "      <td>0.252160</td>\n",
       "      <td>0.020115</td>\n",
       "      <td>0.0</td>\n",
       "    </tr>\n",
       "  </tbody>\n",
       "</table>\n",
       "<p>336 rows × 2005 columns</p>\n",
       "</div>"
      ],
      "text/plain": [
       "      class        x1        y1        z1        v1        x2        y2  \\\n",
       "1    Bieeen  0.527919  0.270350 -0.671225  0.999984  0.555597  0.191837   \n",
       "2    Bieeen  0.526927  0.269982 -0.686023  0.999982  0.554501  0.191207   \n",
       "3    Bieeen  0.526678  0.269773 -0.686642  0.999981  0.554088  0.190821   \n",
       "4    Bieeen  0.525802  0.269881 -0.776611  0.999976  0.552998  0.191072   \n",
       "5    Bieeen  0.524074  0.269810 -0.796441  0.999970  0.551455  0.191224   \n",
       "..      ...       ...       ...       ...       ...       ...       ...   \n",
       "332  Bieeen  0.502346  0.364458 -0.711878  0.999970  0.523844  0.285156   \n",
       "333  Bieeen  0.504117  0.367366 -0.690439  0.999969  0.525992  0.288800   \n",
       "334  Bieeen  0.504405  0.366832 -0.775375  0.999964  0.526557  0.287651   \n",
       "335  Bieeen  0.504425  0.360905 -0.769675  0.999963  0.527333  0.283022   \n",
       "336  Bieeen  0.504749  0.358122 -0.785410  0.999960  0.528486  0.281024   \n",
       "\n",
       "           z2        v2        x3  ...      z499  v499      x500      y500  \\\n",
       "1   -0.610291  0.999974  0.572588  ...  0.000889   0.0  0.575438  0.192714   \n",
       "2   -0.624949  0.999969  0.571297  ...  0.002067   0.0  0.574890  0.188843   \n",
       "3   -0.628925  0.999967  0.570879  ...  0.002285   0.0  0.575821  0.186804   \n",
       "4   -0.715791  0.999958  0.569570  ...  0.001017   0.0  0.574593  0.188575   \n",
       "5   -0.731950  0.999950  0.567993  ...  0.003378   0.0  0.574250  0.191542   \n",
       "..        ...       ...       ...  ...       ...   ...       ...       ...   \n",
       "332 -0.645986  0.999950  0.538261  ...  0.000084   0.0  0.568144  0.287267   \n",
       "333 -0.626301  0.999947  0.540995  ...  0.000711   0.0  0.572651  0.290650   \n",
       "334 -0.712337  0.999936  0.541663  ...  0.001722   0.0  0.570707  0.279155   \n",
       "335 -0.703782  0.999935  0.542733  ...  0.000002   0.0  0.569716  0.265240   \n",
       "336 -0.717480  0.999927  0.543921  ... -0.001100   0.0  0.568778  0.259204   \n",
       "\n",
       "         z500  v500      x501      y501      z501  v501  \n",
       "1    0.018138   0.0  0.580191  0.184997  0.018685   0.0  \n",
       "2    0.020768   0.0  0.579669  0.182104  0.021323   0.0  \n",
       "3    0.020908   0.0  0.580568  0.179891  0.021366   0.0  \n",
       "4    0.019574   0.0  0.579291  0.181415  0.020120   0.0  \n",
       "5    0.022691   0.0  0.579120  0.183588  0.023304   0.0  \n",
       "..        ...   ...       ...       ...       ...   ...  \n",
       "332  0.020360   0.0  0.573151  0.280079  0.021128   0.0  \n",
       "333  0.022053   0.0  0.578006  0.282941  0.022980   0.0  \n",
       "334  0.022135   0.0  0.576245  0.269708  0.023198   0.0  \n",
       "335  0.020307   0.0  0.575013  0.256650  0.021239   0.0  \n",
       "336  0.019351   0.0  0.573868  0.252160  0.020115   0.0  \n",
       "\n",
       "[336 rows x 2005 columns]"
      ]
     },
     "execution_count": 165,
     "metadata": {},
     "output_type": "execute_result"
    }
   ],
   "source": [
    "df[df['class']=='Bieeen']"
   ]
  },
  {
   "cell_type": "markdown",
   "id": "3b0ed234",
   "metadata": {},
   "source": [
    "x, y, z son las caracteristicas que le pasaremos al modelo para entrenarlo.\n",
    "La idea es que se pasen esas coordenadas y el modelo pueda predecir que clase es (pose)"
   ]
  },
  {
   "cell_type": "code",
   "execution_count": 167,
   "id": "4f83ab93",
   "metadata": {},
   "outputs": [],
   "source": [
    "X = df.drop('class', axis=1) # coordenadas\n",
    "y = df['class'] # clase"
   ]
  },
  {
   "cell_type": "code",
   "execution_count": 172,
   "id": "b6511b6b",
   "metadata": {},
   "outputs": [
    {
     "data": {
      "text/plain": [
       "0          Buuieeen\n",
       "1            Bieeen\n",
       "2            Bieeen\n",
       "3            Bieeen\n",
       "4            Bieeen\n",
       "           ...     \n",
       "542    Buuu que mal\n",
       "543    Buuu que mal\n",
       "544    Buuu que mal\n",
       "545    Buuu que mal\n",
       "546    Buuu que mal\n",
       "Name: class, Length: 547, dtype: object"
      ]
     },
     "execution_count": 172,
     "metadata": {},
     "output_type": "execute_result"
    }
   ],
   "source": [
    "y #X = coords , y = class"
   ]
  },
  {
   "cell_type": "code",
   "execution_count": 173,
   "id": "c4b2e4db",
   "metadata": {},
   "outputs": [],
   "source": [
    "X_train, X_test, y_train, y_test = train_test_split(X, y, test_size=0.3, random_state=1234)"
   ]
  },
  {
   "cell_type": "code",
   "execution_count": 174,
   "id": "91c25616",
   "metadata": {},
   "outputs": [
    {
     "data": {
      "text/html": [
       "<div>\n",
       "<style scoped>\n",
       "    .dataframe tbody tr th:only-of-type {\n",
       "        vertical-align: middle;\n",
       "    }\n",
       "\n",
       "    .dataframe tbody tr th {\n",
       "        vertical-align: top;\n",
       "    }\n",
       "\n",
       "    .dataframe thead th {\n",
       "        text-align: right;\n",
       "    }\n",
       "</style>\n",
       "<table border=\"1\" class=\"dataframe\">\n",
       "  <thead>\n",
       "    <tr style=\"text-align: right;\">\n",
       "      <th></th>\n",
       "      <th>x1</th>\n",
       "      <th>y1</th>\n",
       "      <th>z1</th>\n",
       "      <th>v1</th>\n",
       "      <th>x2</th>\n",
       "      <th>y2</th>\n",
       "      <th>z2</th>\n",
       "      <th>v2</th>\n",
       "      <th>x3</th>\n",
       "      <th>y3</th>\n",
       "      <th>...</th>\n",
       "      <th>z499</th>\n",
       "      <th>v499</th>\n",
       "      <th>x500</th>\n",
       "      <th>y500</th>\n",
       "      <th>z500</th>\n",
       "      <th>v500</th>\n",
       "      <th>x501</th>\n",
       "      <th>y501</th>\n",
       "      <th>z501</th>\n",
       "      <th>v501</th>\n",
       "    </tr>\n",
       "  </thead>\n",
       "  <tbody>\n",
       "    <tr>\n",
       "      <th>444</th>\n",
       "      <td>0.607627</td>\n",
       "      <td>0.331788</td>\n",
       "      <td>-0.786915</td>\n",
       "      <td>0.999879</td>\n",
       "      <td>0.629459</td>\n",
       "      <td>0.266417</td>\n",
       "      <td>-0.717988</td>\n",
       "      <td>0.999843</td>\n",
       "      <td>0.644549</td>\n",
       "      <td>0.268743</td>\n",
       "      <td>...</td>\n",
       "      <td>0.001988</td>\n",
       "      <td>0.0</td>\n",
       "      <td>0.665968</td>\n",
       "      <td>0.260837</td>\n",
       "      <td>0.021296</td>\n",
       "      <td>0.0</td>\n",
       "      <td>0.670673</td>\n",
       "      <td>0.253972</td>\n",
       "      <td>0.021934</td>\n",
       "      <td>0.0</td>\n",
       "    </tr>\n",
       "    <tr>\n",
       "      <th>480</th>\n",
       "      <td>0.561522</td>\n",
       "      <td>0.337758</td>\n",
       "      <td>-0.722480</td>\n",
       "      <td>0.999941</td>\n",
       "      <td>0.583754</td>\n",
       "      <td>0.270509</td>\n",
       "      <td>-0.622497</td>\n",
       "      <td>0.999925</td>\n",
       "      <td>0.598792</td>\n",
       "      <td>0.271359</td>\n",
       "      <td>...</td>\n",
       "      <td>0.004055</td>\n",
       "      <td>0.0</td>\n",
       "      <td>0.608456</td>\n",
       "      <td>0.254144</td>\n",
       "      <td>0.021859</td>\n",
       "      <td>0.0</td>\n",
       "      <td>0.613111</td>\n",
       "      <td>0.245462</td>\n",
       "      <td>0.022605</td>\n",
       "      <td>0.0</td>\n",
       "    </tr>\n",
       "    <tr>\n",
       "      <th>134</th>\n",
       "      <td>0.505146</td>\n",
       "      <td>0.288510</td>\n",
       "      <td>-0.693865</td>\n",
       "      <td>0.999984</td>\n",
       "      <td>0.529100</td>\n",
       "      <td>0.220908</td>\n",
       "      <td>-0.624870</td>\n",
       "      <td>0.999972</td>\n",
       "      <td>0.543936</td>\n",
       "      <td>0.223276</td>\n",
       "      <td>...</td>\n",
       "      <td>0.002321</td>\n",
       "      <td>0.0</td>\n",
       "      <td>0.554203</td>\n",
       "      <td>0.209690</td>\n",
       "      <td>0.022227</td>\n",
       "      <td>0.0</td>\n",
       "      <td>0.558938</td>\n",
       "      <td>0.202911</td>\n",
       "      <td>0.022755</td>\n",
       "      <td>0.0</td>\n",
       "    </tr>\n",
       "    <tr>\n",
       "      <th>93</th>\n",
       "      <td>0.512465</td>\n",
       "      <td>0.361475</td>\n",
       "      <td>-0.661181</td>\n",
       "      <td>0.999947</td>\n",
       "      <td>0.533841</td>\n",
       "      <td>0.292627</td>\n",
       "      <td>-0.601996</td>\n",
       "      <td>0.999917</td>\n",
       "      <td>0.547602</td>\n",
       "      <td>0.292967</td>\n",
       "      <td>...</td>\n",
       "      <td>0.001359</td>\n",
       "      <td>0.0</td>\n",
       "      <td>0.565009</td>\n",
       "      <td>0.273539</td>\n",
       "      <td>0.020338</td>\n",
       "      <td>0.0</td>\n",
       "      <td>0.569777</td>\n",
       "      <td>0.266539</td>\n",
       "      <td>0.020884</td>\n",
       "      <td>0.0</td>\n",
       "    </tr>\n",
       "    <tr>\n",
       "      <th>363</th>\n",
       "      <td>0.538592</td>\n",
       "      <td>0.274794</td>\n",
       "      <td>-0.750494</td>\n",
       "      <td>0.999549</td>\n",
       "      <td>0.565521</td>\n",
       "      <td>0.204791</td>\n",
       "      <td>-0.675919</td>\n",
       "      <td>0.999103</td>\n",
       "      <td>0.580280</td>\n",
       "      <td>0.206831</td>\n",
       "      <td>...</td>\n",
       "      <td>0.004653</td>\n",
       "      <td>0.0</td>\n",
       "      <td>0.594222</td>\n",
       "      <td>0.208484</td>\n",
       "      <td>0.024701</td>\n",
       "      <td>0.0</td>\n",
       "      <td>0.599227</td>\n",
       "      <td>0.200359</td>\n",
       "      <td>0.025415</td>\n",
       "      <td>0.0</td>\n",
       "    </tr>\n",
       "    <tr>\n",
       "      <th>...</th>\n",
       "      <td>...</td>\n",
       "      <td>...</td>\n",
       "      <td>...</td>\n",
       "      <td>...</td>\n",
       "      <td>...</td>\n",
       "      <td>...</td>\n",
       "      <td>...</td>\n",
       "      <td>...</td>\n",
       "      <td>...</td>\n",
       "      <td>...</td>\n",
       "      <td>...</td>\n",
       "      <td>...</td>\n",
       "      <td>...</td>\n",
       "      <td>...</td>\n",
       "      <td>...</td>\n",
       "      <td>...</td>\n",
       "      <td>...</td>\n",
       "      <td>...</td>\n",
       "      <td>...</td>\n",
       "      <td>...</td>\n",
       "      <td>...</td>\n",
       "    </tr>\n",
       "    <tr>\n",
       "      <th>279</th>\n",
       "      <td>0.488968</td>\n",
       "      <td>0.363467</td>\n",
       "      <td>-0.626467</td>\n",
       "      <td>0.999947</td>\n",
       "      <td>0.515220</td>\n",
       "      <td>0.283686</td>\n",
       "      <td>-0.562118</td>\n",
       "      <td>0.999918</td>\n",
       "      <td>0.531321</td>\n",
       "      <td>0.281666</td>\n",
       "      <td>...</td>\n",
       "      <td>-0.002455</td>\n",
       "      <td>0.0</td>\n",
       "      <td>0.550067</td>\n",
       "      <td>0.273457</td>\n",
       "      <td>0.016614</td>\n",
       "      <td>0.0</td>\n",
       "      <td>0.555085</td>\n",
       "      <td>0.266556</td>\n",
       "      <td>0.017167</td>\n",
       "      <td>0.0</td>\n",
       "    </tr>\n",
       "    <tr>\n",
       "      <th>372</th>\n",
       "      <td>0.553317</td>\n",
       "      <td>0.296857</td>\n",
       "      <td>-0.723984</td>\n",
       "      <td>0.999655</td>\n",
       "      <td>0.575554</td>\n",
       "      <td>0.220616</td>\n",
       "      <td>-0.667189</td>\n",
       "      <td>0.999247</td>\n",
       "      <td>0.591970</td>\n",
       "      <td>0.219673</td>\n",
       "      <td>...</td>\n",
       "      <td>0.003934</td>\n",
       "      <td>0.0</td>\n",
       "      <td>0.607926</td>\n",
       "      <td>0.218048</td>\n",
       "      <td>0.023417</td>\n",
       "      <td>0.0</td>\n",
       "      <td>0.612781</td>\n",
       "      <td>0.210321</td>\n",
       "      <td>0.024091</td>\n",
       "      <td>0.0</td>\n",
       "    </tr>\n",
       "    <tr>\n",
       "      <th>204</th>\n",
       "      <td>0.480797</td>\n",
       "      <td>0.354897</td>\n",
       "      <td>-0.773540</td>\n",
       "      <td>0.999975</td>\n",
       "      <td>0.500139</td>\n",
       "      <td>0.278386</td>\n",
       "      <td>-0.703254</td>\n",
       "      <td>0.999961</td>\n",
       "      <td>0.516196</td>\n",
       "      <td>0.275988</td>\n",
       "      <td>...</td>\n",
       "      <td>0.001624</td>\n",
       "      <td>0.0</td>\n",
       "      <td>0.530649</td>\n",
       "      <td>0.266843</td>\n",
       "      <td>0.021341</td>\n",
       "      <td>0.0</td>\n",
       "      <td>0.535038</td>\n",
       "      <td>0.260296</td>\n",
       "      <td>0.022014</td>\n",
       "      <td>0.0</td>\n",
       "    </tr>\n",
       "    <tr>\n",
       "      <th>53</th>\n",
       "      <td>0.520480</td>\n",
       "      <td>0.353810</td>\n",
       "      <td>-0.560121</td>\n",
       "      <td>0.999949</td>\n",
       "      <td>0.541462</td>\n",
       "      <td>0.283457</td>\n",
       "      <td>-0.492140</td>\n",
       "      <td>0.999928</td>\n",
       "      <td>0.554404</td>\n",
       "      <td>0.284279</td>\n",
       "      <td>...</td>\n",
       "      <td>0.002891</td>\n",
       "      <td>0.0</td>\n",
       "      <td>0.569414</td>\n",
       "      <td>0.277148</td>\n",
       "      <td>0.022025</td>\n",
       "      <td>0.0</td>\n",
       "      <td>0.574226</td>\n",
       "      <td>0.270020</td>\n",
       "      <td>0.022672</td>\n",
       "      <td>0.0</td>\n",
       "    </tr>\n",
       "    <tr>\n",
       "      <th>294</th>\n",
       "      <td>0.497812</td>\n",
       "      <td>0.356935</td>\n",
       "      <td>-0.593829</td>\n",
       "      <td>0.999959</td>\n",
       "      <td>0.522068</td>\n",
       "      <td>0.279929</td>\n",
       "      <td>-0.523389</td>\n",
       "      <td>0.999932</td>\n",
       "      <td>0.536551</td>\n",
       "      <td>0.278835</td>\n",
       "      <td>...</td>\n",
       "      <td>-0.002423</td>\n",
       "      <td>0.0</td>\n",
       "      <td>0.552853</td>\n",
       "      <td>0.275002</td>\n",
       "      <td>0.016064</td>\n",
       "      <td>0.0</td>\n",
       "      <td>0.557846</td>\n",
       "      <td>0.268267</td>\n",
       "      <td>0.016600</td>\n",
       "      <td>0.0</td>\n",
       "    </tr>\n",
       "  </tbody>\n",
       "</table>\n",
       "<p>382 rows × 2004 columns</p>\n",
       "</div>"
      ],
      "text/plain": [
       "           x1        y1        z1        v1        x2        y2        z2  \\\n",
       "444  0.607627  0.331788 -0.786915  0.999879  0.629459  0.266417 -0.717988   \n",
       "480  0.561522  0.337758 -0.722480  0.999941  0.583754  0.270509 -0.622497   \n",
       "134  0.505146  0.288510 -0.693865  0.999984  0.529100  0.220908 -0.624870   \n",
       "93   0.512465  0.361475 -0.661181  0.999947  0.533841  0.292627 -0.601996   \n",
       "363  0.538592  0.274794 -0.750494  0.999549  0.565521  0.204791 -0.675919   \n",
       "..        ...       ...       ...       ...       ...       ...       ...   \n",
       "279  0.488968  0.363467 -0.626467  0.999947  0.515220  0.283686 -0.562118   \n",
       "372  0.553317  0.296857 -0.723984  0.999655  0.575554  0.220616 -0.667189   \n",
       "204  0.480797  0.354897 -0.773540  0.999975  0.500139  0.278386 -0.703254   \n",
       "53   0.520480  0.353810 -0.560121  0.999949  0.541462  0.283457 -0.492140   \n",
       "294  0.497812  0.356935 -0.593829  0.999959  0.522068  0.279929 -0.523389   \n",
       "\n",
       "           v2        x3        y3  ...      z499  v499      x500      y500  \\\n",
       "444  0.999843  0.644549  0.268743  ...  0.001988   0.0  0.665968  0.260837   \n",
       "480  0.999925  0.598792  0.271359  ...  0.004055   0.0  0.608456  0.254144   \n",
       "134  0.999972  0.543936  0.223276  ...  0.002321   0.0  0.554203  0.209690   \n",
       "93   0.999917  0.547602  0.292967  ...  0.001359   0.0  0.565009  0.273539   \n",
       "363  0.999103  0.580280  0.206831  ...  0.004653   0.0  0.594222  0.208484   \n",
       "..        ...       ...       ...  ...       ...   ...       ...       ...   \n",
       "279  0.999918  0.531321  0.281666  ... -0.002455   0.0  0.550067  0.273457   \n",
       "372  0.999247  0.591970  0.219673  ...  0.003934   0.0  0.607926  0.218048   \n",
       "204  0.999961  0.516196  0.275988  ...  0.001624   0.0  0.530649  0.266843   \n",
       "53   0.999928  0.554404  0.284279  ...  0.002891   0.0  0.569414  0.277148   \n",
       "294  0.999932  0.536551  0.278835  ... -0.002423   0.0  0.552853  0.275002   \n",
       "\n",
       "         z500  v500      x501      y501      z501  v501  \n",
       "444  0.021296   0.0  0.670673  0.253972  0.021934   0.0  \n",
       "480  0.021859   0.0  0.613111  0.245462  0.022605   0.0  \n",
       "134  0.022227   0.0  0.558938  0.202911  0.022755   0.0  \n",
       "93   0.020338   0.0  0.569777  0.266539  0.020884   0.0  \n",
       "363  0.024701   0.0  0.599227  0.200359  0.025415   0.0  \n",
       "..        ...   ...       ...       ...       ...   ...  \n",
       "279  0.016614   0.0  0.555085  0.266556  0.017167   0.0  \n",
       "372  0.023417   0.0  0.612781  0.210321  0.024091   0.0  \n",
       "204  0.021341   0.0  0.535038  0.260296  0.022014   0.0  \n",
       "53   0.022025   0.0  0.574226  0.270020  0.022672   0.0  \n",
       "294  0.016064   0.0  0.557846  0.268267  0.016600   0.0  \n",
       "\n",
       "[382 rows x 2004 columns]"
      ]
     },
     "execution_count": 174,
     "metadata": {},
     "output_type": "execute_result"
    }
   ],
   "source": [
    "X_train"
   ]
  },
  {
   "cell_type": "code",
   "execution_count": 175,
   "id": "46d45ff3",
   "metadata": {},
   "outputs": [
    {
     "data": {
      "text/html": [
       "<div>\n",
       "<style scoped>\n",
       "    .dataframe tbody tr th:only-of-type {\n",
       "        vertical-align: middle;\n",
       "    }\n",
       "\n",
       "    .dataframe tbody tr th {\n",
       "        vertical-align: top;\n",
       "    }\n",
       "\n",
       "    .dataframe thead th {\n",
       "        text-align: right;\n",
       "    }\n",
       "</style>\n",
       "<table border=\"1\" class=\"dataframe\">\n",
       "  <thead>\n",
       "    <tr style=\"text-align: right;\">\n",
       "      <th></th>\n",
       "      <th>class</th>\n",
       "      <th>x1</th>\n",
       "      <th>y1</th>\n",
       "      <th>z1</th>\n",
       "      <th>v1</th>\n",
       "      <th>x2</th>\n",
       "      <th>y2</th>\n",
       "      <th>z2</th>\n",
       "      <th>v2</th>\n",
       "      <th>x3</th>\n",
       "      <th>...</th>\n",
       "      <th>z499</th>\n",
       "      <th>v499</th>\n",
       "      <th>x500</th>\n",
       "      <th>y500</th>\n",
       "      <th>z500</th>\n",
       "      <th>v500</th>\n",
       "      <th>x501</th>\n",
       "      <th>y501</th>\n",
       "      <th>z501</th>\n",
       "      <th>v501</th>\n",
       "    </tr>\n",
       "  </thead>\n",
       "  <tbody>\n",
       "    <tr>\n",
       "      <th>0</th>\n",
       "      <td>Buuieeen</td>\n",
       "      <td>0.530443</td>\n",
       "      <td>0.256885</td>\n",
       "      <td>-0.653312</td>\n",
       "      <td>0.999986</td>\n",
       "      <td>0.559472</td>\n",
       "      <td>0.183092</td>\n",
       "      <td>-0.591619</td>\n",
       "      <td>0.999977</td>\n",
       "      <td>0.577272</td>\n",
       "      <td>...</td>\n",
       "      <td>0.003441</td>\n",
       "      <td>0.0</td>\n",
       "      <td>0.577638</td>\n",
       "      <td>0.191048</td>\n",
       "      <td>0.022638</td>\n",
       "      <td>0.0</td>\n",
       "      <td>0.582679</td>\n",
       "      <td>0.182326</td>\n",
       "      <td>0.023350</td>\n",
       "      <td>0.0</td>\n",
       "    </tr>\n",
       "    <tr>\n",
       "      <th>1</th>\n",
       "      <td>Bieeen</td>\n",
       "      <td>0.527919</td>\n",
       "      <td>0.270350</td>\n",
       "      <td>-0.671225</td>\n",
       "      <td>0.999984</td>\n",
       "      <td>0.555597</td>\n",
       "      <td>0.191837</td>\n",
       "      <td>-0.610291</td>\n",
       "      <td>0.999974</td>\n",
       "      <td>0.572588</td>\n",
       "      <td>...</td>\n",
       "      <td>0.000889</td>\n",
       "      <td>0.0</td>\n",
       "      <td>0.575438</td>\n",
       "      <td>0.192714</td>\n",
       "      <td>0.018138</td>\n",
       "      <td>0.0</td>\n",
       "      <td>0.580191</td>\n",
       "      <td>0.184997</td>\n",
       "      <td>0.018685</td>\n",
       "      <td>0.0</td>\n",
       "    </tr>\n",
       "    <tr>\n",
       "      <th>2</th>\n",
       "      <td>Bieeen</td>\n",
       "      <td>0.526927</td>\n",
       "      <td>0.269982</td>\n",
       "      <td>-0.686023</td>\n",
       "      <td>0.999982</td>\n",
       "      <td>0.554501</td>\n",
       "      <td>0.191207</td>\n",
       "      <td>-0.624949</td>\n",
       "      <td>0.999969</td>\n",
       "      <td>0.571297</td>\n",
       "      <td>...</td>\n",
       "      <td>0.002067</td>\n",
       "      <td>0.0</td>\n",
       "      <td>0.574890</td>\n",
       "      <td>0.188843</td>\n",
       "      <td>0.020768</td>\n",
       "      <td>0.0</td>\n",
       "      <td>0.579669</td>\n",
       "      <td>0.182104</td>\n",
       "      <td>0.021323</td>\n",
       "      <td>0.0</td>\n",
       "    </tr>\n",
       "    <tr>\n",
       "      <th>3</th>\n",
       "      <td>Bieeen</td>\n",
       "      <td>0.526678</td>\n",
       "      <td>0.269773</td>\n",
       "      <td>-0.686642</td>\n",
       "      <td>0.999981</td>\n",
       "      <td>0.554088</td>\n",
       "      <td>0.190821</td>\n",
       "      <td>-0.628925</td>\n",
       "      <td>0.999967</td>\n",
       "      <td>0.570879</td>\n",
       "      <td>...</td>\n",
       "      <td>0.002285</td>\n",
       "      <td>0.0</td>\n",
       "      <td>0.575821</td>\n",
       "      <td>0.186804</td>\n",
       "      <td>0.020908</td>\n",
       "      <td>0.0</td>\n",
       "      <td>0.580568</td>\n",
       "      <td>0.179891</td>\n",
       "      <td>0.021366</td>\n",
       "      <td>0.0</td>\n",
       "    </tr>\n",
       "    <tr>\n",
       "      <th>4</th>\n",
       "      <td>Bieeen</td>\n",
       "      <td>0.525802</td>\n",
       "      <td>0.269881</td>\n",
       "      <td>-0.776611</td>\n",
       "      <td>0.999976</td>\n",
       "      <td>0.552998</td>\n",
       "      <td>0.191072</td>\n",
       "      <td>-0.715791</td>\n",
       "      <td>0.999958</td>\n",
       "      <td>0.569570</td>\n",
       "      <td>...</td>\n",
       "      <td>0.001017</td>\n",
       "      <td>0.0</td>\n",
       "      <td>0.574593</td>\n",
       "      <td>0.188575</td>\n",
       "      <td>0.019574</td>\n",
       "      <td>0.0</td>\n",
       "      <td>0.579291</td>\n",
       "      <td>0.181415</td>\n",
       "      <td>0.020120</td>\n",
       "      <td>0.0</td>\n",
       "    </tr>\n",
       "    <tr>\n",
       "      <th>...</th>\n",
       "      <td>...</td>\n",
       "      <td>...</td>\n",
       "      <td>...</td>\n",
       "      <td>...</td>\n",
       "      <td>...</td>\n",
       "      <td>...</td>\n",
       "      <td>...</td>\n",
       "      <td>...</td>\n",
       "      <td>...</td>\n",
       "      <td>...</td>\n",
       "      <td>...</td>\n",
       "      <td>...</td>\n",
       "      <td>...</td>\n",
       "      <td>...</td>\n",
       "      <td>...</td>\n",
       "      <td>...</td>\n",
       "      <td>...</td>\n",
       "      <td>...</td>\n",
       "      <td>...</td>\n",
       "      <td>...</td>\n",
       "      <td>...</td>\n",
       "    </tr>\n",
       "    <tr>\n",
       "      <th>542</th>\n",
       "      <td>Buuu que mal</td>\n",
       "      <td>0.561161</td>\n",
       "      <td>0.312676</td>\n",
       "      <td>-0.954139</td>\n",
       "      <td>0.999895</td>\n",
       "      <td>0.585262</td>\n",
       "      <td>0.240363</td>\n",
       "      <td>-0.879301</td>\n",
       "      <td>0.999777</td>\n",
       "      <td>0.600595</td>\n",
       "      <td>...</td>\n",
       "      <td>0.002703</td>\n",
       "      <td>0.0</td>\n",
       "      <td>0.612643</td>\n",
       "      <td>0.256506</td>\n",
       "      <td>0.021253</td>\n",
       "      <td>0.0</td>\n",
       "      <td>0.617767</td>\n",
       "      <td>0.247276</td>\n",
       "      <td>0.021986</td>\n",
       "      <td>0.0</td>\n",
       "    </tr>\n",
       "    <tr>\n",
       "      <th>543</th>\n",
       "      <td>Buuu que mal</td>\n",
       "      <td>0.561202</td>\n",
       "      <td>0.313547</td>\n",
       "      <td>-1.004511</td>\n",
       "      <td>0.999883</td>\n",
       "      <td>0.585302</td>\n",
       "      <td>0.240690</td>\n",
       "      <td>-0.925527</td>\n",
       "      <td>0.999742</td>\n",
       "      <td>0.600615</td>\n",
       "      <td>...</td>\n",
       "      <td>0.002702</td>\n",
       "      <td>0.0</td>\n",
       "      <td>0.616873</td>\n",
       "      <td>0.256113</td>\n",
       "      <td>0.021999</td>\n",
       "      <td>0.0</td>\n",
       "      <td>0.621815</td>\n",
       "      <td>0.247989</td>\n",
       "      <td>0.022703</td>\n",
       "      <td>0.0</td>\n",
       "    </tr>\n",
       "    <tr>\n",
       "      <th>544</th>\n",
       "      <td>Buuu que mal</td>\n",
       "      <td>0.564997</td>\n",
       "      <td>0.315829</td>\n",
       "      <td>-0.923724</td>\n",
       "      <td>0.999874</td>\n",
       "      <td>0.587699</td>\n",
       "      <td>0.241852</td>\n",
       "      <td>-0.852775</td>\n",
       "      <td>0.999715</td>\n",
       "      <td>0.603202</td>\n",
       "      <td>...</td>\n",
       "      <td>0.003340</td>\n",
       "      <td>0.0</td>\n",
       "      <td>0.620147</td>\n",
       "      <td>0.253019</td>\n",
       "      <td>0.022850</td>\n",
       "      <td>0.0</td>\n",
       "      <td>0.625026</td>\n",
       "      <td>0.244550</td>\n",
       "      <td>0.023674</td>\n",
       "      <td>0.0</td>\n",
       "    </tr>\n",
       "    <tr>\n",
       "      <th>545</th>\n",
       "      <td>Buuu que mal</td>\n",
       "      <td>0.570446</td>\n",
       "      <td>0.317763</td>\n",
       "      <td>-0.891257</td>\n",
       "      <td>0.999865</td>\n",
       "      <td>0.592185</td>\n",
       "      <td>0.243242</td>\n",
       "      <td>-0.811182</td>\n",
       "      <td>0.999696</td>\n",
       "      <td>0.608082</td>\n",
       "      <td>...</td>\n",
       "      <td>0.002278</td>\n",
       "      <td>0.0</td>\n",
       "      <td>0.621281</td>\n",
       "      <td>0.251643</td>\n",
       "      <td>0.021229</td>\n",
       "      <td>0.0</td>\n",
       "      <td>0.626135</td>\n",
       "      <td>0.244106</td>\n",
       "      <td>0.021871</td>\n",
       "      <td>0.0</td>\n",
       "    </tr>\n",
       "    <tr>\n",
       "      <th>546</th>\n",
       "      <td>Buuu que mal</td>\n",
       "      <td>0.573943</td>\n",
       "      <td>0.318654</td>\n",
       "      <td>-0.850759</td>\n",
       "      <td>0.999865</td>\n",
       "      <td>0.594787</td>\n",
       "      <td>0.243582</td>\n",
       "      <td>-0.771189</td>\n",
       "      <td>0.999693</td>\n",
       "      <td>0.610638</td>\n",
       "      <td>...</td>\n",
       "      <td>0.002614</td>\n",
       "      <td>0.0</td>\n",
       "      <td>0.622002</td>\n",
       "      <td>0.249436</td>\n",
       "      <td>0.022121</td>\n",
       "      <td>0.0</td>\n",
       "      <td>0.626846</td>\n",
       "      <td>0.241835</td>\n",
       "      <td>0.022813</td>\n",
       "      <td>0.0</td>\n",
       "    </tr>\n",
       "  </tbody>\n",
       "</table>\n",
       "<p>547 rows × 2005 columns</p>\n",
       "</div>"
      ],
      "text/plain": [
       "            class        x1        y1        z1        v1        x2        y2  \\\n",
       "0        Buuieeen  0.530443  0.256885 -0.653312  0.999986  0.559472  0.183092   \n",
       "1          Bieeen  0.527919  0.270350 -0.671225  0.999984  0.555597  0.191837   \n",
       "2          Bieeen  0.526927  0.269982 -0.686023  0.999982  0.554501  0.191207   \n",
       "3          Bieeen  0.526678  0.269773 -0.686642  0.999981  0.554088  0.190821   \n",
       "4          Bieeen  0.525802  0.269881 -0.776611  0.999976  0.552998  0.191072   \n",
       "..            ...       ...       ...       ...       ...       ...       ...   \n",
       "542  Buuu que mal  0.561161  0.312676 -0.954139  0.999895  0.585262  0.240363   \n",
       "543  Buuu que mal  0.561202  0.313547 -1.004511  0.999883  0.585302  0.240690   \n",
       "544  Buuu que mal  0.564997  0.315829 -0.923724  0.999874  0.587699  0.241852   \n",
       "545  Buuu que mal  0.570446  0.317763 -0.891257  0.999865  0.592185  0.243242   \n",
       "546  Buuu que mal  0.573943  0.318654 -0.850759  0.999865  0.594787  0.243582   \n",
       "\n",
       "           z2        v2        x3  ...      z499  v499      x500      y500  \\\n",
       "0   -0.591619  0.999977  0.577272  ...  0.003441   0.0  0.577638  0.191048   \n",
       "1   -0.610291  0.999974  0.572588  ...  0.000889   0.0  0.575438  0.192714   \n",
       "2   -0.624949  0.999969  0.571297  ...  0.002067   0.0  0.574890  0.188843   \n",
       "3   -0.628925  0.999967  0.570879  ...  0.002285   0.0  0.575821  0.186804   \n",
       "4   -0.715791  0.999958  0.569570  ...  0.001017   0.0  0.574593  0.188575   \n",
       "..        ...       ...       ...  ...       ...   ...       ...       ...   \n",
       "542 -0.879301  0.999777  0.600595  ...  0.002703   0.0  0.612643  0.256506   \n",
       "543 -0.925527  0.999742  0.600615  ...  0.002702   0.0  0.616873  0.256113   \n",
       "544 -0.852775  0.999715  0.603202  ...  0.003340   0.0  0.620147  0.253019   \n",
       "545 -0.811182  0.999696  0.608082  ...  0.002278   0.0  0.621281  0.251643   \n",
       "546 -0.771189  0.999693  0.610638  ...  0.002614   0.0  0.622002  0.249436   \n",
       "\n",
       "         z500  v500      x501      y501      z501  v501  \n",
       "0    0.022638   0.0  0.582679  0.182326  0.023350   0.0  \n",
       "1    0.018138   0.0  0.580191  0.184997  0.018685   0.0  \n",
       "2    0.020768   0.0  0.579669  0.182104  0.021323   0.0  \n",
       "3    0.020908   0.0  0.580568  0.179891  0.021366   0.0  \n",
       "4    0.019574   0.0  0.579291  0.181415  0.020120   0.0  \n",
       "..        ...   ...       ...       ...       ...   ...  \n",
       "542  0.021253   0.0  0.617767  0.247276  0.021986   0.0  \n",
       "543  0.021999   0.0  0.621815  0.247989  0.022703   0.0  \n",
       "544  0.022850   0.0  0.625026  0.244550  0.023674   0.0  \n",
       "545  0.021229   0.0  0.626135  0.244106  0.021871   0.0  \n",
       "546  0.022121   0.0  0.626846  0.241835  0.022813   0.0  \n",
       "\n",
       "[547 rows x 2005 columns]"
      ]
     },
     "execution_count": 175,
     "metadata": {},
     "output_type": "execute_result"
    }
   ],
   "source": [
    "df #marco de datos completo, deben de ser 548 filas"
   ]
  },
  {
   "cell_type": "markdown",
   "id": "60854fd0",
   "metadata": {},
   "source": [
    "### Modelo de clasificación de aprendizaje automático"
   ]
  },
  {
   "cell_type": "code",
   "execution_count": 176,
   "id": "39370b2d",
   "metadata": {},
   "outputs": [],
   "source": [
    "from sklearn.pipeline import make_pipeline \n",
    "from sklearn.preprocessing import StandardScaler \n",
    "\n",
    "from sklearn.linear_model import LogisticRegression, RidgeClassifier\n",
    "from sklearn.ensemble import RandomForestClassifier, GradientBoostingClassifier"
   ]
  },
  {
   "cell_type": "markdown",
   "id": "143bcf6f",
   "metadata": {},
   "source": [
    "## Modelos de aprendizaje automatico:"
   ]
  },
  {
   "cell_type": "code",
   "execution_count": 177,
   "id": "20246ff2",
   "metadata": {},
   "outputs": [],
   "source": [
    "pipelines = {\n",
    "    'lr':make_pipeline(StandardScaler(), LogisticRegression()),\n",
    "    'rc':make_pipeline(StandardScaler(), RidgeClassifier()),\n",
    "    'rf':make_pipeline(StandardScaler(), RandomForestClassifier()),\n",
    "    'gb':make_pipeline(StandardScaler(), GradientBoostingClassifier()),\n",
    "}"
   ]
  },
  {
   "cell_type": "code",
   "execution_count": 178,
   "id": "516e4cbe",
   "metadata": {},
   "outputs": [
    {
     "data": {
      "text/plain": [
       "dict_keys(['lr', 'rc', 'rf', 'gb'])"
      ]
     },
     "execution_count": 178,
     "metadata": {},
     "output_type": "execute_result"
    }
   ],
   "source": [
    "pipelines.keys()"
   ]
  },
  {
   "cell_type": "code",
   "execution_count": 179,
   "id": "88f4a531",
   "metadata": {},
   "outputs": [
    {
     "data": {
      "text/html": [
       "<style>#sk-container-id-1 {\n",
       "  /* Definition of color scheme common for light and dark mode */\n",
       "  --sklearn-color-text: black;\n",
       "  --sklearn-color-line: gray;\n",
       "  /* Definition of color scheme for unfitted estimators */\n",
       "  --sklearn-color-unfitted-level-0: #fff5e6;\n",
       "  --sklearn-color-unfitted-level-1: #f6e4d2;\n",
       "  --sklearn-color-unfitted-level-2: #ffe0b3;\n",
       "  --sklearn-color-unfitted-level-3: chocolate;\n",
       "  /* Definition of color scheme for fitted estimators */\n",
       "  --sklearn-color-fitted-level-0: #f0f8ff;\n",
       "  --sklearn-color-fitted-level-1: #d4ebff;\n",
       "  --sklearn-color-fitted-level-2: #b3dbfd;\n",
       "  --sklearn-color-fitted-level-3: cornflowerblue;\n",
       "\n",
       "  /* Specific color for light theme */\n",
       "  --sklearn-color-text-on-default-background: var(--sg-text-color, var(--theme-code-foreground, var(--jp-content-font-color1, black)));\n",
       "  --sklearn-color-background: var(--sg-background-color, var(--theme-background, var(--jp-layout-color0, white)));\n",
       "  --sklearn-color-border-box: var(--sg-text-color, var(--theme-code-foreground, var(--jp-content-font-color1, black)));\n",
       "  --sklearn-color-icon: #696969;\n",
       "\n",
       "  @media (prefers-color-scheme: dark) {\n",
       "    /* Redefinition of color scheme for dark theme */\n",
       "    --sklearn-color-text-on-default-background: var(--sg-text-color, var(--theme-code-foreground, var(--jp-content-font-color1, white)));\n",
       "    --sklearn-color-background: var(--sg-background-color, var(--theme-background, var(--jp-layout-color0, #111)));\n",
       "    --sklearn-color-border-box: var(--sg-text-color, var(--theme-code-foreground, var(--jp-content-font-color1, white)));\n",
       "    --sklearn-color-icon: #878787;\n",
       "  }\n",
       "}\n",
       "\n",
       "#sk-container-id-1 {\n",
       "  color: var(--sklearn-color-text);\n",
       "}\n",
       "\n",
       "#sk-container-id-1 pre {\n",
       "  padding: 0;\n",
       "}\n",
       "\n",
       "#sk-container-id-1 input.sk-hidden--visually {\n",
       "  border: 0;\n",
       "  clip: rect(1px 1px 1px 1px);\n",
       "  clip: rect(1px, 1px, 1px, 1px);\n",
       "  height: 1px;\n",
       "  margin: -1px;\n",
       "  overflow: hidden;\n",
       "  padding: 0;\n",
       "  position: absolute;\n",
       "  width: 1px;\n",
       "}\n",
       "\n",
       "#sk-container-id-1 div.sk-dashed-wrapped {\n",
       "  border: 1px dashed var(--sklearn-color-line);\n",
       "  margin: 0 0.4em 0.5em 0.4em;\n",
       "  box-sizing: border-box;\n",
       "  padding-bottom: 0.4em;\n",
       "  background-color: var(--sklearn-color-background);\n",
       "}\n",
       "\n",
       "#sk-container-id-1 div.sk-container {\n",
       "  /* jupyter's `normalize.less` sets `[hidden] { display: none; }`\n",
       "     but bootstrap.min.css set `[hidden] { display: none !important; }`\n",
       "     so we also need the `!important` here to be able to override the\n",
       "     default hidden behavior on the sphinx rendered scikit-learn.org.\n",
       "     See: https://github.com/scikit-learn/scikit-learn/issues/21755 */\n",
       "  display: inline-block !important;\n",
       "  position: relative;\n",
       "}\n",
       "\n",
       "#sk-container-id-1 div.sk-text-repr-fallback {\n",
       "  display: none;\n",
       "}\n",
       "\n",
       "div.sk-parallel-item,\n",
       "div.sk-serial,\n",
       "div.sk-item {\n",
       "  /* draw centered vertical line to link estimators */\n",
       "  background-image: linear-gradient(var(--sklearn-color-text-on-default-background), var(--sklearn-color-text-on-default-background));\n",
       "  background-size: 2px 100%;\n",
       "  background-repeat: no-repeat;\n",
       "  background-position: center center;\n",
       "}\n",
       "\n",
       "/* Parallel-specific style estimator block */\n",
       "\n",
       "#sk-container-id-1 div.sk-parallel-item::after {\n",
       "  content: \"\";\n",
       "  width: 100%;\n",
       "  border-bottom: 2px solid var(--sklearn-color-text-on-default-background);\n",
       "  flex-grow: 1;\n",
       "}\n",
       "\n",
       "#sk-container-id-1 div.sk-parallel {\n",
       "  display: flex;\n",
       "  align-items: stretch;\n",
       "  justify-content: center;\n",
       "  background-color: var(--sklearn-color-background);\n",
       "  position: relative;\n",
       "}\n",
       "\n",
       "#sk-container-id-1 div.sk-parallel-item {\n",
       "  display: flex;\n",
       "  flex-direction: column;\n",
       "}\n",
       "\n",
       "#sk-container-id-1 div.sk-parallel-item:first-child::after {\n",
       "  align-self: flex-end;\n",
       "  width: 50%;\n",
       "}\n",
       "\n",
       "#sk-container-id-1 div.sk-parallel-item:last-child::after {\n",
       "  align-self: flex-start;\n",
       "  width: 50%;\n",
       "}\n",
       "\n",
       "#sk-container-id-1 div.sk-parallel-item:only-child::after {\n",
       "  width: 0;\n",
       "}\n",
       "\n",
       "/* Serial-specific style estimator block */\n",
       "\n",
       "#sk-container-id-1 div.sk-serial {\n",
       "  display: flex;\n",
       "  flex-direction: column;\n",
       "  align-items: center;\n",
       "  background-color: var(--sklearn-color-background);\n",
       "  padding-right: 1em;\n",
       "  padding-left: 1em;\n",
       "}\n",
       "\n",
       "\n",
       "/* Toggleable style: style used for estimator/Pipeline/ColumnTransformer box that is\n",
       "clickable and can be expanded/collapsed.\n",
       "- Pipeline and ColumnTransformer use this feature and define the default style\n",
       "- Estimators will overwrite some part of the style using the `sk-estimator` class\n",
       "*/\n",
       "\n",
       "/* Pipeline and ColumnTransformer style (default) */\n",
       "\n",
       "#sk-container-id-1 div.sk-toggleable {\n",
       "  /* Default theme specific background. It is overwritten whether we have a\n",
       "  specific estimator or a Pipeline/ColumnTransformer */\n",
       "  background-color: var(--sklearn-color-background);\n",
       "}\n",
       "\n",
       "/* Toggleable label */\n",
       "#sk-container-id-1 label.sk-toggleable__label {\n",
       "  cursor: pointer;\n",
       "  display: block;\n",
       "  width: 100%;\n",
       "  margin-bottom: 0;\n",
       "  padding: 0.5em;\n",
       "  box-sizing: border-box;\n",
       "  text-align: center;\n",
       "}\n",
       "\n",
       "#sk-container-id-1 label.sk-toggleable__label-arrow:before {\n",
       "  /* Arrow on the left of the label */\n",
       "  content: \"▸\";\n",
       "  float: left;\n",
       "  margin-right: 0.25em;\n",
       "  color: var(--sklearn-color-icon);\n",
       "}\n",
       "\n",
       "#sk-container-id-1 label.sk-toggleable__label-arrow:hover:before {\n",
       "  color: var(--sklearn-color-text);\n",
       "}\n",
       "\n",
       "/* Toggleable content - dropdown */\n",
       "\n",
       "#sk-container-id-1 div.sk-toggleable__content {\n",
       "  max-height: 0;\n",
       "  max-width: 0;\n",
       "  overflow: hidden;\n",
       "  text-align: left;\n",
       "  /* unfitted */\n",
       "  background-color: var(--sklearn-color-unfitted-level-0);\n",
       "}\n",
       "\n",
       "#sk-container-id-1 div.sk-toggleable__content.fitted {\n",
       "  /* fitted */\n",
       "  background-color: var(--sklearn-color-fitted-level-0);\n",
       "}\n",
       "\n",
       "#sk-container-id-1 div.sk-toggleable__content pre {\n",
       "  margin: 0.2em;\n",
       "  border-radius: 0.25em;\n",
       "  color: var(--sklearn-color-text);\n",
       "  /* unfitted */\n",
       "  background-color: var(--sklearn-color-unfitted-level-0);\n",
       "}\n",
       "\n",
       "#sk-container-id-1 div.sk-toggleable__content.fitted pre {\n",
       "  /* unfitted */\n",
       "  background-color: var(--sklearn-color-fitted-level-0);\n",
       "}\n",
       "\n",
       "#sk-container-id-1 input.sk-toggleable__control:checked~div.sk-toggleable__content {\n",
       "  /* Expand drop-down */\n",
       "  max-height: 200px;\n",
       "  max-width: 100%;\n",
       "  overflow: auto;\n",
       "}\n",
       "\n",
       "#sk-container-id-1 input.sk-toggleable__control:checked~label.sk-toggleable__label-arrow:before {\n",
       "  content: \"▾\";\n",
       "}\n",
       "\n",
       "/* Pipeline/ColumnTransformer-specific style */\n",
       "\n",
       "#sk-container-id-1 div.sk-label input.sk-toggleable__control:checked~label.sk-toggleable__label {\n",
       "  color: var(--sklearn-color-text);\n",
       "  background-color: var(--sklearn-color-unfitted-level-2);\n",
       "}\n",
       "\n",
       "#sk-container-id-1 div.sk-label.fitted input.sk-toggleable__control:checked~label.sk-toggleable__label {\n",
       "  background-color: var(--sklearn-color-fitted-level-2);\n",
       "}\n",
       "\n",
       "/* Estimator-specific style */\n",
       "\n",
       "/* Colorize estimator box */\n",
       "#sk-container-id-1 div.sk-estimator input.sk-toggleable__control:checked~label.sk-toggleable__label {\n",
       "  /* unfitted */\n",
       "  background-color: var(--sklearn-color-unfitted-level-2);\n",
       "}\n",
       "\n",
       "#sk-container-id-1 div.sk-estimator.fitted input.sk-toggleable__control:checked~label.sk-toggleable__label {\n",
       "  /* fitted */\n",
       "  background-color: var(--sklearn-color-fitted-level-2);\n",
       "}\n",
       "\n",
       "#sk-container-id-1 div.sk-label label.sk-toggleable__label,\n",
       "#sk-container-id-1 div.sk-label label {\n",
       "  /* The background is the default theme color */\n",
       "  color: var(--sklearn-color-text-on-default-background);\n",
       "}\n",
       "\n",
       "/* On hover, darken the color of the background */\n",
       "#sk-container-id-1 div.sk-label:hover label.sk-toggleable__label {\n",
       "  color: var(--sklearn-color-text);\n",
       "  background-color: var(--sklearn-color-unfitted-level-2);\n",
       "}\n",
       "\n",
       "/* Label box, darken color on hover, fitted */\n",
       "#sk-container-id-1 div.sk-label.fitted:hover label.sk-toggleable__label.fitted {\n",
       "  color: var(--sklearn-color-text);\n",
       "  background-color: var(--sklearn-color-fitted-level-2);\n",
       "}\n",
       "\n",
       "/* Estimator label */\n",
       "\n",
       "#sk-container-id-1 div.sk-label label {\n",
       "  font-family: monospace;\n",
       "  font-weight: bold;\n",
       "  display: inline-block;\n",
       "  line-height: 1.2em;\n",
       "}\n",
       "\n",
       "#sk-container-id-1 div.sk-label-container {\n",
       "  text-align: center;\n",
       "}\n",
       "\n",
       "/* Estimator-specific */\n",
       "#sk-container-id-1 div.sk-estimator {\n",
       "  font-family: monospace;\n",
       "  border: 1px dotted var(--sklearn-color-border-box);\n",
       "  border-radius: 0.25em;\n",
       "  box-sizing: border-box;\n",
       "  margin-bottom: 0.5em;\n",
       "  /* unfitted */\n",
       "  background-color: var(--sklearn-color-unfitted-level-0);\n",
       "}\n",
       "\n",
       "#sk-container-id-1 div.sk-estimator.fitted {\n",
       "  /* fitted */\n",
       "  background-color: var(--sklearn-color-fitted-level-0);\n",
       "}\n",
       "\n",
       "/* on hover */\n",
       "#sk-container-id-1 div.sk-estimator:hover {\n",
       "  /* unfitted */\n",
       "  background-color: var(--sklearn-color-unfitted-level-2);\n",
       "}\n",
       "\n",
       "#sk-container-id-1 div.sk-estimator.fitted:hover {\n",
       "  /* fitted */\n",
       "  background-color: var(--sklearn-color-fitted-level-2);\n",
       "}\n",
       "\n",
       "/* Specification for estimator info (e.g. \"i\" and \"?\") */\n",
       "\n",
       "/* Common style for \"i\" and \"?\" */\n",
       "\n",
       ".sk-estimator-doc-link,\n",
       "a:link.sk-estimator-doc-link,\n",
       "a:visited.sk-estimator-doc-link {\n",
       "  float: right;\n",
       "  font-size: smaller;\n",
       "  line-height: 1em;\n",
       "  font-family: monospace;\n",
       "  background-color: var(--sklearn-color-background);\n",
       "  border-radius: 1em;\n",
       "  height: 1em;\n",
       "  width: 1em;\n",
       "  text-decoration: none !important;\n",
       "  margin-left: 1ex;\n",
       "  /* unfitted */\n",
       "  border: var(--sklearn-color-unfitted-level-1) 1pt solid;\n",
       "  color: var(--sklearn-color-unfitted-level-1);\n",
       "}\n",
       "\n",
       ".sk-estimator-doc-link.fitted,\n",
       "a:link.sk-estimator-doc-link.fitted,\n",
       "a:visited.sk-estimator-doc-link.fitted {\n",
       "  /* fitted */\n",
       "  border: var(--sklearn-color-fitted-level-1) 1pt solid;\n",
       "  color: var(--sklearn-color-fitted-level-1);\n",
       "}\n",
       "\n",
       "/* On hover */\n",
       "div.sk-estimator:hover .sk-estimator-doc-link:hover,\n",
       ".sk-estimator-doc-link:hover,\n",
       "div.sk-label-container:hover .sk-estimator-doc-link:hover,\n",
       ".sk-estimator-doc-link:hover {\n",
       "  /* unfitted */\n",
       "  background-color: var(--sklearn-color-unfitted-level-3);\n",
       "  color: var(--sklearn-color-background);\n",
       "  text-decoration: none;\n",
       "}\n",
       "\n",
       "div.sk-estimator.fitted:hover .sk-estimator-doc-link.fitted:hover,\n",
       ".sk-estimator-doc-link.fitted:hover,\n",
       "div.sk-label-container:hover .sk-estimator-doc-link.fitted:hover,\n",
       ".sk-estimator-doc-link.fitted:hover {\n",
       "  /* fitted */\n",
       "  background-color: var(--sklearn-color-fitted-level-3);\n",
       "  color: var(--sklearn-color-background);\n",
       "  text-decoration: none;\n",
       "}\n",
       "\n",
       "/* Span, style for the box shown on hovering the info icon */\n",
       ".sk-estimator-doc-link span {\n",
       "  display: none;\n",
       "  z-index: 9999;\n",
       "  position: relative;\n",
       "  font-weight: normal;\n",
       "  right: .2ex;\n",
       "  padding: .5ex;\n",
       "  margin: .5ex;\n",
       "  width: min-content;\n",
       "  min-width: 20ex;\n",
       "  max-width: 50ex;\n",
       "  color: var(--sklearn-color-text);\n",
       "  box-shadow: 2pt 2pt 4pt #999;\n",
       "  /* unfitted */\n",
       "  background: var(--sklearn-color-unfitted-level-0);\n",
       "  border: .5pt solid var(--sklearn-color-unfitted-level-3);\n",
       "}\n",
       "\n",
       ".sk-estimator-doc-link.fitted span {\n",
       "  /* fitted */\n",
       "  background: var(--sklearn-color-fitted-level-0);\n",
       "  border: var(--sklearn-color-fitted-level-3);\n",
       "}\n",
       "\n",
       ".sk-estimator-doc-link:hover span {\n",
       "  display: block;\n",
       "}\n",
       "\n",
       "/* \"?\"-specific style due to the `<a>` HTML tag */\n",
       "\n",
       "#sk-container-id-1 a.estimator_doc_link {\n",
       "  float: right;\n",
       "  font-size: 1rem;\n",
       "  line-height: 1em;\n",
       "  font-family: monospace;\n",
       "  background-color: var(--sklearn-color-background);\n",
       "  border-radius: 1rem;\n",
       "  height: 1rem;\n",
       "  width: 1rem;\n",
       "  text-decoration: none;\n",
       "  /* unfitted */\n",
       "  color: var(--sklearn-color-unfitted-level-1);\n",
       "  border: var(--sklearn-color-unfitted-level-1) 1pt solid;\n",
       "}\n",
       "\n",
       "#sk-container-id-1 a.estimator_doc_link.fitted {\n",
       "  /* fitted */\n",
       "  border: var(--sklearn-color-fitted-level-1) 1pt solid;\n",
       "  color: var(--sklearn-color-fitted-level-1);\n",
       "}\n",
       "\n",
       "/* On hover */\n",
       "#sk-container-id-1 a.estimator_doc_link:hover {\n",
       "  /* unfitted */\n",
       "  background-color: var(--sklearn-color-unfitted-level-3);\n",
       "  color: var(--sklearn-color-background);\n",
       "  text-decoration: none;\n",
       "}\n",
       "\n",
       "#sk-container-id-1 a.estimator_doc_link.fitted:hover {\n",
       "  /* fitted */\n",
       "  background-color: var(--sklearn-color-fitted-level-3);\n",
       "}\n",
       "</style><div id=\"sk-container-id-1\" class=\"sk-top-container\"><div class=\"sk-text-repr-fallback\"><pre>Pipeline(steps=[(&#x27;standardscaler&#x27;, StandardScaler()),\n",
       "                (&#x27;logisticregression&#x27;, LogisticRegression())])</pre><b>In a Jupyter environment, please rerun this cell to show the HTML representation or trust the notebook. <br />On GitHub, the HTML representation is unable to render, please try loading this page with nbviewer.org.</b></div><div class=\"sk-container\" hidden><div class=\"sk-item sk-dashed-wrapped\"><div class=\"sk-label-container\"><div class=\"sk-label  sk-toggleable\"><input class=\"sk-toggleable__control sk-hidden--visually\" id=\"sk-estimator-id-1\" type=\"checkbox\" ><label for=\"sk-estimator-id-1\" class=\"sk-toggleable__label  sk-toggleable__label-arrow \">&nbsp;&nbsp;Pipeline<a class=\"sk-estimator-doc-link \" rel=\"noreferrer\" target=\"_blank\" href=\"https://scikit-learn.org/1.4/modules/generated/sklearn.pipeline.Pipeline.html\">?<span>Documentation for Pipeline</span></a><span class=\"sk-estimator-doc-link \">i<span>Not fitted</span></span></label><div class=\"sk-toggleable__content \"><pre>Pipeline(steps=[(&#x27;standardscaler&#x27;, StandardScaler()),\n",
       "                (&#x27;logisticregression&#x27;, LogisticRegression())])</pre></div> </div></div><div class=\"sk-serial\"><div class=\"sk-item\"><div class=\"sk-estimator  sk-toggleable\"><input class=\"sk-toggleable__control sk-hidden--visually\" id=\"sk-estimator-id-2\" type=\"checkbox\" ><label for=\"sk-estimator-id-2\" class=\"sk-toggleable__label  sk-toggleable__label-arrow \">&nbsp;StandardScaler<a class=\"sk-estimator-doc-link \" rel=\"noreferrer\" target=\"_blank\" href=\"https://scikit-learn.org/1.4/modules/generated/sklearn.preprocessing.StandardScaler.html\">?<span>Documentation for StandardScaler</span></a></label><div class=\"sk-toggleable__content \"><pre>StandardScaler()</pre></div> </div></div><div class=\"sk-item\"><div class=\"sk-estimator  sk-toggleable\"><input class=\"sk-toggleable__control sk-hidden--visually\" id=\"sk-estimator-id-3\" type=\"checkbox\" ><label for=\"sk-estimator-id-3\" class=\"sk-toggleable__label  sk-toggleable__label-arrow \">&nbsp;LogisticRegression<a class=\"sk-estimator-doc-link \" rel=\"noreferrer\" target=\"_blank\" href=\"https://scikit-learn.org/1.4/modules/generated/sklearn.linear_model.LogisticRegression.html\">?<span>Documentation for LogisticRegression</span></a></label><div class=\"sk-toggleable__content \"><pre>LogisticRegression()</pre></div> </div></div></div></div></div></div>"
      ],
      "text/plain": [
       "Pipeline(steps=[('standardscaler', StandardScaler()),\n",
       "                ('logisticregression', LogisticRegression())])"
      ]
     },
     "execution_count": 179,
     "metadata": {},
     "output_type": "execute_result"
    }
   ],
   "source": [
    "list(pipelines.values())[0]"
   ]
  },
  {
   "cell_type": "code",
   "execution_count": 180,
   "id": "1bce83e9",
   "metadata": {},
   "outputs": [],
   "source": [
    "fit_models = {}\n",
    "for algo, pipeline in pipelines.items():\n",
    "    model = pipeline.fit(X_train, y_train)\n",
    "    fit_models[algo] =  model"
   ]
  },
  {
   "cell_type": "code",
   "execution_count": 181,
   "id": "9e7b61c3",
   "metadata": {},
   "outputs": [
    {
     "data": {
      "text/plain": [
       "{'lr': Pipeline(steps=[('standardscaler', StandardScaler()),\n",
       "                 ('logisticregression', LogisticRegression())]),\n",
       " 'rc': Pipeline(steps=[('standardscaler', StandardScaler()),\n",
       "                 ('ridgeclassifier', RidgeClassifier())]),\n",
       " 'rf': Pipeline(steps=[('standardscaler', StandardScaler()),\n",
       "                 ('randomforestclassifier', RandomForestClassifier())]),\n",
       " 'gb': Pipeline(steps=[('standardscaler', StandardScaler()),\n",
       "                 ('gradientboostingclassifier', GradientBoostingClassifier())])}"
      ]
     },
     "execution_count": 181,
     "metadata": {},
     "output_type": "execute_result"
    }
   ],
   "source": [
    "fit_models"
   ]
  },
  {
   "cell_type": "code",
   "execution_count": 185,
   "id": "d6112735",
   "metadata": {},
   "outputs": [
    {
     "data": {
      "text/plain": [
       "array(['Buuu que mal', 'Bieeen', 'Bieeen', 'Bieeen', 'Buuu que mal',\n",
       "       'Bieeen', 'Buuu que mal', 'Buuu que mal', 'Bieeen', 'Bieeen',\n",
       "       'Bieeen', 'Bieeen', 'Bieeen', 'Bieeen', 'Bieeen', 'Bieeen',\n",
       "       'Bieeen', 'Bieeen', 'Buuu que mal', 'Buuu que mal', 'Bieeen',\n",
       "       'Bieeen', 'Bieeen', 'Buuu que mal', 'Buuu que mal', 'Bieeen',\n",
       "       'Buuu que mal', 'Bieeen', 'Bieeen', 'Bieeen', 'Bieeen', 'Bieeen',\n",
       "       'Buuu que mal', 'Buuu que mal', 'Buuu que mal', 'Buuu que mal',\n",
       "       'Bieeen', 'Bieeen', 'Buuu que mal', 'Bieeen', 'Buuu que mal',\n",
       "       'Bieeen', 'Buuu que mal', 'Bieeen', 'Bieeen', 'Buuu que mal',\n",
       "       'Bieeen', 'Bieeen', 'Bieeen', 'Bieeen', 'Bieeen', 'Buuu que mal',\n",
       "       'Bieeen', 'Bieeen', 'Bieeen', 'Bieeen', 'Buuu que mal', 'Bieeen',\n",
       "       'Buuu que mal', 'Bieeen', 'Bieeen', 'Buuu que mal', 'Buuu que mal',\n",
       "       'Buuu que mal', 'Buuu que mal', 'Bieeen', 'Buuu que mal', 'Bieeen',\n",
       "       'Bieeen', 'Buuu que mal', 'Buuu que mal', 'Bieeen', 'Bieeen',\n",
       "       'Bieeen', 'Buuu que mal', 'Buuu que mal', 'Bieeen', 'Buuu que mal',\n",
       "       'Buuu que mal', 'Bieeen', 'Buuu que mal', 'Bieeen', 'Buuu que mal',\n",
       "       'Buuu que mal', 'Bieeen', 'Buuu que mal', 'Bieeen', 'Bieeen',\n",
       "       'Bieeen', 'Bieeen', 'Bieeen', 'Bieeen', 'Bieeen', 'Bieeen',\n",
       "       'Bieeen', 'Bieeen', 'Bieeen', 'Bieeen', 'Bieeen', 'Buuu que mal',\n",
       "       'Buuu que mal', 'Buuu que mal', 'Buuu que mal', 'Bieeen', 'Bieeen',\n",
       "       'Buuu que mal', 'Buuu que mal', 'Bieeen', 'Bieeen', 'Bieeen',\n",
       "       'Bieeen', 'Buuu que mal', 'Buuu que mal', 'Bieeen', 'Buuu que mal',\n",
       "       'Bieeen', 'Buuu que mal', 'Bieeen', 'Buuu que mal', 'Bieeen',\n",
       "       'Buuu que mal', 'Bieeen', 'Buuu que mal', 'Buuu que mal', 'Bieeen',\n",
       "       'Bieeen', 'Bieeen', 'Buuu que mal', 'Bieeen', 'Bieeen', 'Bieeen',\n",
       "       'Buuu que mal', 'Bieeen', 'Buuu que mal', 'Bieeen', 'Buuu que mal',\n",
       "       'Buuu que mal', 'Buuu que mal', 'Buuu que mal', 'Buuu que mal',\n",
       "       'Bieeen', 'Buuu que mal', 'Buuu que mal', 'Bieeen', 'Buuu que mal',\n",
       "       'Bieeen', 'Bieeen', 'Buuu que mal', 'Bieeen', 'Bieeen', 'Bieeen',\n",
       "       'Bieeen', 'Bieeen', 'Bieeen', 'Bieeen', 'Bieeen', 'Bieeen',\n",
       "       'Bieeen', 'Bieeen', 'Bieeen', 'Bieeen', 'Buuu que mal', 'Bieeen',\n",
       "       'Buuu que mal', 'Bieeen'], dtype='<U12')"
      ]
     },
     "execution_count": 185,
     "metadata": {},
     "output_type": "execute_result"
    }
   ],
   "source": [
    "fit_models['rc'].predict(X_test) "
   ]
  },
  {
   "cell_type": "markdown",
   "id": "620a909e",
   "metadata": {},
   "source": [
    "Evaluar y serializar el modelo"
   ]
  },
  {
   "cell_type": "markdown",
   "id": "f7bfffe7",
   "metadata": {},
   "source": [
    "Otras metricas: precision, recall, f1 score, AUC. Aqui se usa precision"
   ]
  },
  {
   "cell_type": "code",
   "execution_count": 186,
   "id": "8474ab01",
   "metadata": {},
   "outputs": [],
   "source": [
    "from sklearn.metrics import accuracy_score # Accuracy metrics \n",
    "import pickle "
   ]
  },
  {
   "cell_type": "code",
   "execution_count": 187,
   "id": "ef378352",
   "metadata": {},
   "outputs": [
    {
     "name": "stdout",
     "output_type": "stream",
     "text": [
      "lr 0.9939393939393939\n",
      "rc 0.9939393939393939\n",
      "rf 0.9878787878787879\n",
      "gb 0.9818181818181818\n"
     ]
    }
   ],
   "source": [
    "for algo, model in fit_models.items():\n",
    "    yhat = model.predict(X_test) ## yhat almacena las predicciones reales  \n",
    "    print(algo, accuracy_score(y_test, yhat)) #imprimimos la precision, "
   ]
  },
  {
   "cell_type": "markdown",
   "id": "3b566873",
   "metadata": {},
   "source": [
    "Lo que se hace a continuacion tiene muchos casos de uso diferentes, se puede hacer una deteccion de accion o un modelo de lenguaje de señas(que se base en un solo cuadro o en una sola coordenada), analisis de sentimientos, etc."
   ]
  },
  {
   "cell_type": "code",
   "execution_count": 193,
   "id": "c643d0e0",
   "metadata": {},
   "outputs": [
    {
     "data": {
      "text/plain": [
       "array(['Buuu que mal', 'Bieeen', 'Bieeen', 'Bieeen', 'Buuu que mal',\n",
       "       'Bieeen', 'Buuu que mal', 'Buuu que mal', 'Bieeen', 'Bieeen',\n",
       "       'Bieeen', 'Bieeen', 'Bieeen', 'Bieeen', 'Bieeen', 'Bieeen',\n",
       "       'Bieeen', 'Bieeen', 'Buuu que mal', 'Buuu que mal', 'Bieeen',\n",
       "       'Bieeen', 'Bieeen', 'Buuu que mal', 'Buuu que mal', 'Bieeen',\n",
       "       'Buuu que mal', 'Bieeen', 'Bieeen', 'Bieeen', 'Bieeen', 'Bieeen',\n",
       "       'Buuu que mal', 'Buuu que mal', 'Buuu que mal', 'Buuu que mal',\n",
       "       'Bieeen', 'Bieeen', 'Buuu que mal', 'Bieeen', 'Buuu que mal',\n",
       "       'Bieeen', 'Buuu que mal', 'Bieeen', 'Bieeen', 'Buuu que mal',\n",
       "       'Bieeen', 'Bieeen', 'Bieeen', 'Bieeen', 'Bieeen', 'Buuu que mal',\n",
       "       'Bieeen', 'Bieeen', 'Bieeen', 'Bieeen', 'Buuu que mal', 'Bieeen',\n",
       "       'Buuu que mal', 'Bieeen', 'Bieeen', 'Buuu que mal', 'Buuu que mal',\n",
       "       'Buuu que mal', 'Buuu que mal', 'Bieeen', 'Buuu que mal', 'Bieeen',\n",
       "       'Bieeen', 'Buuu que mal', 'Buuu que mal', 'Bieeen', 'Bieeen',\n",
       "       'Bieeen', 'Buuu que mal', 'Buuu que mal', 'Bieeen', 'Buuu que mal',\n",
       "       'Buuu que mal', 'Bieeen', 'Buuu que mal', 'Bieeen', 'Buuu que mal',\n",
       "       'Buuu que mal', 'Bieeen', 'Buuu que mal', 'Bieeen', 'Bieeen',\n",
       "       'Bieeen', 'Bieeen', 'Bieeen', 'Bieeen', 'Bieeen', 'Bieeen',\n",
       "       'Bieeen', 'Bieeen', 'Bieeen', 'Bieeen', 'Bieeen', 'Buuu que mal',\n",
       "       'Buuu que mal', 'Buuu que mal', 'Buuu que mal', 'Bieeen', 'Bieeen',\n",
       "       'Buuu que mal', 'Buuu que mal', 'Bieeen', 'Bieeen', 'Bieeen',\n",
       "       'Bieeen', 'Buuu que mal', 'Buuu que mal', 'Bieeen', 'Buuu que mal',\n",
       "       'Bieeen', 'Buuu que mal', 'Bieeen', 'Buuu que mal', 'Bieeen',\n",
       "       'Buuu que mal', 'Bieeen', 'Buuu que mal', 'Buuu que mal', 'Bieeen',\n",
       "       'Bieeen', 'Bieeen', 'Buuu que mal', 'Bieeen', 'Bieeen', 'Bieeen',\n",
       "       'Buuu que mal', 'Bieeen', 'Buuu que mal', 'Bieeen', 'Buuu que mal',\n",
       "       'Buuu que mal', 'Buuu que mal', 'Buuu que mal', 'Buuu que mal',\n",
       "       'Bieeen', 'Buuu que mal', 'Buuu que mal', 'Bieeen', 'Buuu que mal',\n",
       "       'Bieeen', 'Bieeen', 'Buuu que mal', 'Bieeen', 'Bieeen', 'Bieeen',\n",
       "       'Bieeen', 'Bieeen', 'Bieeen', 'Bieeen', 'Bieeen', 'Bieeen',\n",
       "       'Bieeen', 'Bieeen', 'Bieeen', 'Bieeen', 'Buuu que mal', 'Bieeen',\n",
       "       'Buuu que mal', 'Bieeen'], dtype='<U12')"
      ]
     },
     "execution_count": 193,
     "metadata": {},
     "output_type": "execute_result"
    }
   ],
   "source": [
    "fit_models['rc'].predict(X_test)"
   ]
  },
  {
   "cell_type": "code",
   "execution_count": 194,
   "id": "f2627dd6",
   "metadata": {},
   "outputs": [
    {
     "data": {
      "text/plain": [
       "435    Buuu que mal\n",
       "20           Bieeen\n",
       "11           Bieeen\n",
       "129          Bieeen\n",
       "348    Buuu que mal\n",
       "           ...     \n",
       "43           Bieeen\n",
       "439    Buuu que mal\n",
       "115          Bieeen\n",
       "496    Buuu que mal\n",
       "122          Bieeen\n",
       "Name: class, Length: 165, dtype: object"
      ]
     },
     "execution_count": 194,
     "metadata": {},
     "output_type": "execute_result"
    }
   ],
   "source": [
    "y_test"
   ]
  },
  {
   "cell_type": "code",
   "execution_count": 196,
   "id": "85b69cfb",
   "metadata": {},
   "outputs": [],
   "source": [
    "# Guardar el modelo ya entrenado\n",
    "with open('modelo.pkl', 'wb') as f: \n",
    "    pickle.dump(fit_models['rf'], f) "
   ]
  },
  {
   "cell_type": "markdown",
   "id": "8e53abf1",
   "metadata": {},
   "source": [
    "## Cargar el modelo ya entrenado"
   ]
  },
  {
   "cell_type": "code",
   "execution_count": 197,
   "id": "6723a260",
   "metadata": {},
   "outputs": [],
   "source": [
    "with open('modelo.pkl', 'rb') as f: \n",
    "    model = pickle.load(f)"
   ]
  },
  {
   "cell_type": "code",
   "execution_count": 198,
   "id": "2f052255",
   "metadata": {},
   "outputs": [
    {
     "data": {
      "text/html": [
       "<style>#sk-container-id-3 {\n",
       "  /* Definition of color scheme common for light and dark mode */\n",
       "  --sklearn-color-text: black;\n",
       "  --sklearn-color-line: gray;\n",
       "  /* Definition of color scheme for unfitted estimators */\n",
       "  --sklearn-color-unfitted-level-0: #fff5e6;\n",
       "  --sklearn-color-unfitted-level-1: #f6e4d2;\n",
       "  --sklearn-color-unfitted-level-2: #ffe0b3;\n",
       "  --sklearn-color-unfitted-level-3: chocolate;\n",
       "  /* Definition of color scheme for fitted estimators */\n",
       "  --sklearn-color-fitted-level-0: #f0f8ff;\n",
       "  --sklearn-color-fitted-level-1: #d4ebff;\n",
       "  --sklearn-color-fitted-level-2: #b3dbfd;\n",
       "  --sklearn-color-fitted-level-3: cornflowerblue;\n",
       "\n",
       "  /* Specific color for light theme */\n",
       "  --sklearn-color-text-on-default-background: var(--sg-text-color, var(--theme-code-foreground, var(--jp-content-font-color1, black)));\n",
       "  --sklearn-color-background: var(--sg-background-color, var(--theme-background, var(--jp-layout-color0, white)));\n",
       "  --sklearn-color-border-box: var(--sg-text-color, var(--theme-code-foreground, var(--jp-content-font-color1, black)));\n",
       "  --sklearn-color-icon: #696969;\n",
       "\n",
       "  @media (prefers-color-scheme: dark) {\n",
       "    /* Redefinition of color scheme for dark theme */\n",
       "    --sklearn-color-text-on-default-background: var(--sg-text-color, var(--theme-code-foreground, var(--jp-content-font-color1, white)));\n",
       "    --sklearn-color-background: var(--sg-background-color, var(--theme-background, var(--jp-layout-color0, #111)));\n",
       "    --sklearn-color-border-box: var(--sg-text-color, var(--theme-code-foreground, var(--jp-content-font-color1, white)));\n",
       "    --sklearn-color-icon: #878787;\n",
       "  }\n",
       "}\n",
       "\n",
       "#sk-container-id-3 {\n",
       "  color: var(--sklearn-color-text);\n",
       "}\n",
       "\n",
       "#sk-container-id-3 pre {\n",
       "  padding: 0;\n",
       "}\n",
       "\n",
       "#sk-container-id-3 input.sk-hidden--visually {\n",
       "  border: 0;\n",
       "  clip: rect(1px 1px 1px 1px);\n",
       "  clip: rect(1px, 1px, 1px, 1px);\n",
       "  height: 1px;\n",
       "  margin: -1px;\n",
       "  overflow: hidden;\n",
       "  padding: 0;\n",
       "  position: absolute;\n",
       "  width: 1px;\n",
       "}\n",
       "\n",
       "#sk-container-id-3 div.sk-dashed-wrapped {\n",
       "  border: 1px dashed var(--sklearn-color-line);\n",
       "  margin: 0 0.4em 0.5em 0.4em;\n",
       "  box-sizing: border-box;\n",
       "  padding-bottom: 0.4em;\n",
       "  background-color: var(--sklearn-color-background);\n",
       "}\n",
       "\n",
       "#sk-container-id-3 div.sk-container {\n",
       "  /* jupyter's `normalize.less` sets `[hidden] { display: none; }`\n",
       "     but bootstrap.min.css set `[hidden] { display: none !important; }`\n",
       "     so we also need the `!important` here to be able to override the\n",
       "     default hidden behavior on the sphinx rendered scikit-learn.org.\n",
       "     See: https://github.com/scikit-learn/scikit-learn/issues/21755 */\n",
       "  display: inline-block !important;\n",
       "  position: relative;\n",
       "}\n",
       "\n",
       "#sk-container-id-3 div.sk-text-repr-fallback {\n",
       "  display: none;\n",
       "}\n",
       "\n",
       "div.sk-parallel-item,\n",
       "div.sk-serial,\n",
       "div.sk-item {\n",
       "  /* draw centered vertical line to link estimators */\n",
       "  background-image: linear-gradient(var(--sklearn-color-text-on-default-background), var(--sklearn-color-text-on-default-background));\n",
       "  background-size: 2px 100%;\n",
       "  background-repeat: no-repeat;\n",
       "  background-position: center center;\n",
       "}\n",
       "\n",
       "/* Parallel-specific style estimator block */\n",
       "\n",
       "#sk-container-id-3 div.sk-parallel-item::after {\n",
       "  content: \"\";\n",
       "  width: 100%;\n",
       "  border-bottom: 2px solid var(--sklearn-color-text-on-default-background);\n",
       "  flex-grow: 1;\n",
       "}\n",
       "\n",
       "#sk-container-id-3 div.sk-parallel {\n",
       "  display: flex;\n",
       "  align-items: stretch;\n",
       "  justify-content: center;\n",
       "  background-color: var(--sklearn-color-background);\n",
       "  position: relative;\n",
       "}\n",
       "\n",
       "#sk-container-id-3 div.sk-parallel-item {\n",
       "  display: flex;\n",
       "  flex-direction: column;\n",
       "}\n",
       "\n",
       "#sk-container-id-3 div.sk-parallel-item:first-child::after {\n",
       "  align-self: flex-end;\n",
       "  width: 50%;\n",
       "}\n",
       "\n",
       "#sk-container-id-3 div.sk-parallel-item:last-child::after {\n",
       "  align-self: flex-start;\n",
       "  width: 50%;\n",
       "}\n",
       "\n",
       "#sk-container-id-3 div.sk-parallel-item:only-child::after {\n",
       "  width: 0;\n",
       "}\n",
       "\n",
       "/* Serial-specific style estimator block */\n",
       "\n",
       "#sk-container-id-3 div.sk-serial {\n",
       "  display: flex;\n",
       "  flex-direction: column;\n",
       "  align-items: center;\n",
       "  background-color: var(--sklearn-color-background);\n",
       "  padding-right: 1em;\n",
       "  padding-left: 1em;\n",
       "}\n",
       "\n",
       "\n",
       "/* Toggleable style: style used for estimator/Pipeline/ColumnTransformer box that is\n",
       "clickable and can be expanded/collapsed.\n",
       "- Pipeline and ColumnTransformer use this feature and define the default style\n",
       "- Estimators will overwrite some part of the style using the `sk-estimator` class\n",
       "*/\n",
       "\n",
       "/* Pipeline and ColumnTransformer style (default) */\n",
       "\n",
       "#sk-container-id-3 div.sk-toggleable {\n",
       "  /* Default theme specific background. It is overwritten whether we have a\n",
       "  specific estimator or a Pipeline/ColumnTransformer */\n",
       "  background-color: var(--sklearn-color-background);\n",
       "}\n",
       "\n",
       "/* Toggleable label */\n",
       "#sk-container-id-3 label.sk-toggleable__label {\n",
       "  cursor: pointer;\n",
       "  display: block;\n",
       "  width: 100%;\n",
       "  margin-bottom: 0;\n",
       "  padding: 0.5em;\n",
       "  box-sizing: border-box;\n",
       "  text-align: center;\n",
       "}\n",
       "\n",
       "#sk-container-id-3 label.sk-toggleable__label-arrow:before {\n",
       "  /* Arrow on the left of the label */\n",
       "  content: \"▸\";\n",
       "  float: left;\n",
       "  margin-right: 0.25em;\n",
       "  color: var(--sklearn-color-icon);\n",
       "}\n",
       "\n",
       "#sk-container-id-3 label.sk-toggleable__label-arrow:hover:before {\n",
       "  color: var(--sklearn-color-text);\n",
       "}\n",
       "\n",
       "/* Toggleable content - dropdown */\n",
       "\n",
       "#sk-container-id-3 div.sk-toggleable__content {\n",
       "  max-height: 0;\n",
       "  max-width: 0;\n",
       "  overflow: hidden;\n",
       "  text-align: left;\n",
       "  /* unfitted */\n",
       "  background-color: var(--sklearn-color-unfitted-level-0);\n",
       "}\n",
       "\n",
       "#sk-container-id-3 div.sk-toggleable__content.fitted {\n",
       "  /* fitted */\n",
       "  background-color: var(--sklearn-color-fitted-level-0);\n",
       "}\n",
       "\n",
       "#sk-container-id-3 div.sk-toggleable__content pre {\n",
       "  margin: 0.2em;\n",
       "  border-radius: 0.25em;\n",
       "  color: var(--sklearn-color-text);\n",
       "  /* unfitted */\n",
       "  background-color: var(--sklearn-color-unfitted-level-0);\n",
       "}\n",
       "\n",
       "#sk-container-id-3 div.sk-toggleable__content.fitted pre {\n",
       "  /* unfitted */\n",
       "  background-color: var(--sklearn-color-fitted-level-0);\n",
       "}\n",
       "\n",
       "#sk-container-id-3 input.sk-toggleable__control:checked~div.sk-toggleable__content {\n",
       "  /* Expand drop-down */\n",
       "  max-height: 200px;\n",
       "  max-width: 100%;\n",
       "  overflow: auto;\n",
       "}\n",
       "\n",
       "#sk-container-id-3 input.sk-toggleable__control:checked~label.sk-toggleable__label-arrow:before {\n",
       "  content: \"▾\";\n",
       "}\n",
       "\n",
       "/* Pipeline/ColumnTransformer-specific style */\n",
       "\n",
       "#sk-container-id-3 div.sk-label input.sk-toggleable__control:checked~label.sk-toggleable__label {\n",
       "  color: var(--sklearn-color-text);\n",
       "  background-color: var(--sklearn-color-unfitted-level-2);\n",
       "}\n",
       "\n",
       "#sk-container-id-3 div.sk-label.fitted input.sk-toggleable__control:checked~label.sk-toggleable__label {\n",
       "  background-color: var(--sklearn-color-fitted-level-2);\n",
       "}\n",
       "\n",
       "/* Estimator-specific style */\n",
       "\n",
       "/* Colorize estimator box */\n",
       "#sk-container-id-3 div.sk-estimator input.sk-toggleable__control:checked~label.sk-toggleable__label {\n",
       "  /* unfitted */\n",
       "  background-color: var(--sklearn-color-unfitted-level-2);\n",
       "}\n",
       "\n",
       "#sk-container-id-3 div.sk-estimator.fitted input.sk-toggleable__control:checked~label.sk-toggleable__label {\n",
       "  /* fitted */\n",
       "  background-color: var(--sklearn-color-fitted-level-2);\n",
       "}\n",
       "\n",
       "#sk-container-id-3 div.sk-label label.sk-toggleable__label,\n",
       "#sk-container-id-3 div.sk-label label {\n",
       "  /* The background is the default theme color */\n",
       "  color: var(--sklearn-color-text-on-default-background);\n",
       "}\n",
       "\n",
       "/* On hover, darken the color of the background */\n",
       "#sk-container-id-3 div.sk-label:hover label.sk-toggleable__label {\n",
       "  color: var(--sklearn-color-text);\n",
       "  background-color: var(--sklearn-color-unfitted-level-2);\n",
       "}\n",
       "\n",
       "/* Label box, darken color on hover, fitted */\n",
       "#sk-container-id-3 div.sk-label.fitted:hover label.sk-toggleable__label.fitted {\n",
       "  color: var(--sklearn-color-text);\n",
       "  background-color: var(--sklearn-color-fitted-level-2);\n",
       "}\n",
       "\n",
       "/* Estimator label */\n",
       "\n",
       "#sk-container-id-3 div.sk-label label {\n",
       "  font-family: monospace;\n",
       "  font-weight: bold;\n",
       "  display: inline-block;\n",
       "  line-height: 1.2em;\n",
       "}\n",
       "\n",
       "#sk-container-id-3 div.sk-label-container {\n",
       "  text-align: center;\n",
       "}\n",
       "\n",
       "/* Estimator-specific */\n",
       "#sk-container-id-3 div.sk-estimator {\n",
       "  font-family: monospace;\n",
       "  border: 1px dotted var(--sklearn-color-border-box);\n",
       "  border-radius: 0.25em;\n",
       "  box-sizing: border-box;\n",
       "  margin-bottom: 0.5em;\n",
       "  /* unfitted */\n",
       "  background-color: var(--sklearn-color-unfitted-level-0);\n",
       "}\n",
       "\n",
       "#sk-container-id-3 div.sk-estimator.fitted {\n",
       "  /* fitted */\n",
       "  background-color: var(--sklearn-color-fitted-level-0);\n",
       "}\n",
       "\n",
       "/* on hover */\n",
       "#sk-container-id-3 div.sk-estimator:hover {\n",
       "  /* unfitted */\n",
       "  background-color: var(--sklearn-color-unfitted-level-2);\n",
       "}\n",
       "\n",
       "#sk-container-id-3 div.sk-estimator.fitted:hover {\n",
       "  /* fitted */\n",
       "  background-color: var(--sklearn-color-fitted-level-2);\n",
       "}\n",
       "\n",
       "/* Specification for estimator info (e.g. \"i\" and \"?\") */\n",
       "\n",
       "/* Common style for \"i\" and \"?\" */\n",
       "\n",
       ".sk-estimator-doc-link,\n",
       "a:link.sk-estimator-doc-link,\n",
       "a:visited.sk-estimator-doc-link {\n",
       "  float: right;\n",
       "  font-size: smaller;\n",
       "  line-height: 1em;\n",
       "  font-family: monospace;\n",
       "  background-color: var(--sklearn-color-background);\n",
       "  border-radius: 1em;\n",
       "  height: 1em;\n",
       "  width: 1em;\n",
       "  text-decoration: none !important;\n",
       "  margin-left: 1ex;\n",
       "  /* unfitted */\n",
       "  border: var(--sklearn-color-unfitted-level-1) 1pt solid;\n",
       "  color: var(--sklearn-color-unfitted-level-1);\n",
       "}\n",
       "\n",
       ".sk-estimator-doc-link.fitted,\n",
       "a:link.sk-estimator-doc-link.fitted,\n",
       "a:visited.sk-estimator-doc-link.fitted {\n",
       "  /* fitted */\n",
       "  border: var(--sklearn-color-fitted-level-1) 1pt solid;\n",
       "  color: var(--sklearn-color-fitted-level-1);\n",
       "}\n",
       "\n",
       "/* On hover */\n",
       "div.sk-estimator:hover .sk-estimator-doc-link:hover,\n",
       ".sk-estimator-doc-link:hover,\n",
       "div.sk-label-container:hover .sk-estimator-doc-link:hover,\n",
       ".sk-estimator-doc-link:hover {\n",
       "  /* unfitted */\n",
       "  background-color: var(--sklearn-color-unfitted-level-3);\n",
       "  color: var(--sklearn-color-background);\n",
       "  text-decoration: none;\n",
       "}\n",
       "\n",
       "div.sk-estimator.fitted:hover .sk-estimator-doc-link.fitted:hover,\n",
       ".sk-estimator-doc-link.fitted:hover,\n",
       "div.sk-label-container:hover .sk-estimator-doc-link.fitted:hover,\n",
       ".sk-estimator-doc-link.fitted:hover {\n",
       "  /* fitted */\n",
       "  background-color: var(--sklearn-color-fitted-level-3);\n",
       "  color: var(--sklearn-color-background);\n",
       "  text-decoration: none;\n",
       "}\n",
       "\n",
       "/* Span, style for the box shown on hovering the info icon */\n",
       ".sk-estimator-doc-link span {\n",
       "  display: none;\n",
       "  z-index: 9999;\n",
       "  position: relative;\n",
       "  font-weight: normal;\n",
       "  right: .2ex;\n",
       "  padding: .5ex;\n",
       "  margin: .5ex;\n",
       "  width: min-content;\n",
       "  min-width: 20ex;\n",
       "  max-width: 50ex;\n",
       "  color: var(--sklearn-color-text);\n",
       "  box-shadow: 2pt 2pt 4pt #999;\n",
       "  /* unfitted */\n",
       "  background: var(--sklearn-color-unfitted-level-0);\n",
       "  border: .5pt solid var(--sklearn-color-unfitted-level-3);\n",
       "}\n",
       "\n",
       ".sk-estimator-doc-link.fitted span {\n",
       "  /* fitted */\n",
       "  background: var(--sklearn-color-fitted-level-0);\n",
       "  border: var(--sklearn-color-fitted-level-3);\n",
       "}\n",
       "\n",
       ".sk-estimator-doc-link:hover span {\n",
       "  display: block;\n",
       "}\n",
       "\n",
       "/* \"?\"-specific style due to the `<a>` HTML tag */\n",
       "\n",
       "#sk-container-id-3 a.estimator_doc_link {\n",
       "  float: right;\n",
       "  font-size: 1rem;\n",
       "  line-height: 1em;\n",
       "  font-family: monospace;\n",
       "  background-color: var(--sklearn-color-background);\n",
       "  border-radius: 1rem;\n",
       "  height: 1rem;\n",
       "  width: 1rem;\n",
       "  text-decoration: none;\n",
       "  /* unfitted */\n",
       "  color: var(--sklearn-color-unfitted-level-1);\n",
       "  border: var(--sklearn-color-unfitted-level-1) 1pt solid;\n",
       "}\n",
       "\n",
       "#sk-container-id-3 a.estimator_doc_link.fitted {\n",
       "  /* fitted */\n",
       "  border: var(--sklearn-color-fitted-level-1) 1pt solid;\n",
       "  color: var(--sklearn-color-fitted-level-1);\n",
       "}\n",
       "\n",
       "/* On hover */\n",
       "#sk-container-id-3 a.estimator_doc_link:hover {\n",
       "  /* unfitted */\n",
       "  background-color: var(--sklearn-color-unfitted-level-3);\n",
       "  color: var(--sklearn-color-background);\n",
       "  text-decoration: none;\n",
       "}\n",
       "\n",
       "#sk-container-id-3 a.estimator_doc_link.fitted:hover {\n",
       "  /* fitted */\n",
       "  background-color: var(--sklearn-color-fitted-level-3);\n",
       "}\n",
       "</style><div id=\"sk-container-id-3\" class=\"sk-top-container\"><div class=\"sk-text-repr-fallback\"><pre>Pipeline(steps=[(&#x27;standardscaler&#x27;, StandardScaler()),\n",
       "                (&#x27;randomforestclassifier&#x27;, RandomForestClassifier())])</pre><b>In a Jupyter environment, please rerun this cell to show the HTML representation or trust the notebook. <br />On GitHub, the HTML representation is unable to render, please try loading this page with nbviewer.org.</b></div><div class=\"sk-container\" hidden><div class=\"sk-item sk-dashed-wrapped\"><div class=\"sk-label-container\"><div class=\"sk-label fitted sk-toggleable\"><input class=\"sk-toggleable__control sk-hidden--visually\" id=\"sk-estimator-id-7\" type=\"checkbox\" ><label for=\"sk-estimator-id-7\" class=\"sk-toggleable__label fitted sk-toggleable__label-arrow fitted\">&nbsp;&nbsp;Pipeline<a class=\"sk-estimator-doc-link fitted\" rel=\"noreferrer\" target=\"_blank\" href=\"https://scikit-learn.org/1.4/modules/generated/sklearn.pipeline.Pipeline.html\">?<span>Documentation for Pipeline</span></a><span class=\"sk-estimator-doc-link fitted\">i<span>Fitted</span></span></label><div class=\"sk-toggleable__content fitted\"><pre>Pipeline(steps=[(&#x27;standardscaler&#x27;, StandardScaler()),\n",
       "                (&#x27;randomforestclassifier&#x27;, RandomForestClassifier())])</pre></div> </div></div><div class=\"sk-serial\"><div class=\"sk-item\"><div class=\"sk-estimator fitted sk-toggleable\"><input class=\"sk-toggleable__control sk-hidden--visually\" id=\"sk-estimator-id-8\" type=\"checkbox\" ><label for=\"sk-estimator-id-8\" class=\"sk-toggleable__label fitted sk-toggleable__label-arrow fitted\">&nbsp;StandardScaler<a class=\"sk-estimator-doc-link fitted\" rel=\"noreferrer\" target=\"_blank\" href=\"https://scikit-learn.org/1.4/modules/generated/sklearn.preprocessing.StandardScaler.html\">?<span>Documentation for StandardScaler</span></a></label><div class=\"sk-toggleable__content fitted\"><pre>StandardScaler()</pre></div> </div></div><div class=\"sk-item\"><div class=\"sk-estimator fitted sk-toggleable\"><input class=\"sk-toggleable__control sk-hidden--visually\" id=\"sk-estimator-id-9\" type=\"checkbox\" ><label for=\"sk-estimator-id-9\" class=\"sk-toggleable__label fitted sk-toggleable__label-arrow fitted\">&nbsp;RandomForestClassifier<a class=\"sk-estimator-doc-link fitted\" rel=\"noreferrer\" target=\"_blank\" href=\"https://scikit-learn.org/1.4/modules/generated/sklearn.ensemble.RandomForestClassifier.html\">?<span>Documentation for RandomForestClassifier</span></a></label><div class=\"sk-toggleable__content fitted\"><pre>RandomForestClassifier()</pre></div> </div></div></div></div></div></div>"
      ],
      "text/plain": [
       "Pipeline(steps=[('standardscaler', StandardScaler()),\n",
       "                ('randomforestclassifier', RandomForestClassifier())])"
      ]
     },
     "execution_count": 198,
     "metadata": {},
     "output_type": "execute_result"
    }
   ],
   "source": [
    "model"
   ]
  },
  {
   "cell_type": "code",
   "execution_count": 199,
   "id": "2c14c146",
   "metadata": {},
   "outputs": [
    {
     "name": "stderr",
     "output_type": "stream",
     "text": [
      "/Library/Frameworks/Python.framework/Versions/3.10/lib/python3.10/site-packages/sklearn/base.py:493: UserWarning: X does not have valid feature names, but StandardScaler was fitted with feature names\n",
      "  warnings.warn(\n",
      "/Library/Frameworks/Python.framework/Versions/3.10/lib/python3.10/site-packages/sklearn/base.py:493: UserWarning: X does not have valid feature names, but StandardScaler was fitted with feature names\n",
      "  warnings.warn(\n"
     ]
    },
    {
     "name": "stdout",
     "output_type": "stream",
     "text": [
      "Buuu que mal [0. 1.]\n"
     ]
    },
    {
     "name": "stderr",
     "output_type": "stream",
     "text": [
      "/Library/Frameworks/Python.framework/Versions/3.10/lib/python3.10/site-packages/sklearn/base.py:493: UserWarning: X does not have valid feature names, but StandardScaler was fitted with feature names\n",
      "  warnings.warn(\n",
      "/Library/Frameworks/Python.framework/Versions/3.10/lib/python3.10/site-packages/sklearn/base.py:493: UserWarning: X does not have valid feature names, but StandardScaler was fitted with feature names\n",
      "  warnings.warn(\n"
     ]
    },
    {
     "name": "stdout",
     "output_type": "stream",
     "text": [
      "Buuu que mal [0. 1.]\n"
     ]
    },
    {
     "name": "stderr",
     "output_type": "stream",
     "text": [
      "/Library/Frameworks/Python.framework/Versions/3.10/lib/python3.10/site-packages/sklearn/base.py:493: UserWarning: X does not have valid feature names, but StandardScaler was fitted with feature names\n",
      "  warnings.warn(\n",
      "/Library/Frameworks/Python.framework/Versions/3.10/lib/python3.10/site-packages/sklearn/base.py:493: UserWarning: X does not have valid feature names, but StandardScaler was fitted with feature names\n",
      "  warnings.warn(\n"
     ]
    },
    {
     "name": "stdout",
     "output_type": "stream",
     "text": [
      "Buuu que mal [0. 1.]\n",
      "Buuu que mal [0. 1.]\n"
     ]
    },
    {
     "name": "stderr",
     "output_type": "stream",
     "text": [
      "/Library/Frameworks/Python.framework/Versions/3.10/lib/python3.10/site-packages/sklearn/base.py:493: UserWarning: X does not have valid feature names, but StandardScaler was fitted with feature names\n",
      "  warnings.warn(\n",
      "/Library/Frameworks/Python.framework/Versions/3.10/lib/python3.10/site-packages/sklearn/base.py:493: UserWarning: X does not have valid feature names, but StandardScaler was fitted with feature names\n",
      "  warnings.warn(\n",
      "/Library/Frameworks/Python.framework/Versions/3.10/lib/python3.10/site-packages/sklearn/base.py:493: UserWarning: X does not have valid feature names, but StandardScaler was fitted with feature names\n",
      "  warnings.warn(\n",
      "/Library/Frameworks/Python.framework/Versions/3.10/lib/python3.10/site-packages/sklearn/base.py:493: UserWarning: X does not have valid feature names, but StandardScaler was fitted with feature names\n",
      "  warnings.warn(\n"
     ]
    },
    {
     "name": "stdout",
     "output_type": "stream",
     "text": [
      "Buuu que mal [0. 1.]\n"
     ]
    },
    {
     "name": "stderr",
     "output_type": "stream",
     "text": [
      "/Library/Frameworks/Python.framework/Versions/3.10/lib/python3.10/site-packages/sklearn/base.py:493: UserWarning: X does not have valid feature names, but StandardScaler was fitted with feature names\n",
      "  warnings.warn(\n",
      "/Library/Frameworks/Python.framework/Versions/3.10/lib/python3.10/site-packages/sklearn/base.py:493: UserWarning: X does not have valid feature names, but StandardScaler was fitted with feature names\n",
      "  warnings.warn(\n",
      "/Library/Frameworks/Python.framework/Versions/3.10/lib/python3.10/site-packages/sklearn/base.py:493: UserWarning: X does not have valid feature names, but StandardScaler was fitted with feature names\n",
      "  warnings.warn(\n",
      "/Library/Frameworks/Python.framework/Versions/3.10/lib/python3.10/site-packages/sklearn/base.py:493: UserWarning: X does not have valid feature names, but StandardScaler was fitted with feature names\n",
      "  warnings.warn(\n"
     ]
    },
    {
     "name": "stdout",
     "output_type": "stream",
     "text": [
      "Buuu que mal [0. 1.]\n",
      "Buuu que mal [0. 1.]\n"
     ]
    },
    {
     "name": "stderr",
     "output_type": "stream",
     "text": [
      "/Library/Frameworks/Python.framework/Versions/3.10/lib/python3.10/site-packages/sklearn/base.py:493: UserWarning: X does not have valid feature names, but StandardScaler was fitted with feature names\n",
      "  warnings.warn(\n",
      "/Library/Frameworks/Python.framework/Versions/3.10/lib/python3.10/site-packages/sklearn/base.py:493: UserWarning: X does not have valid feature names, but StandardScaler was fitted with feature names\n",
      "  warnings.warn(\n"
     ]
    },
    {
     "name": "stdout",
     "output_type": "stream",
     "text": [
      "Buuu que mal [0. 1.]\n"
     ]
    },
    {
     "name": "stderr",
     "output_type": "stream",
     "text": [
      "/Library/Frameworks/Python.framework/Versions/3.10/lib/python3.10/site-packages/sklearn/base.py:493: UserWarning: X does not have valid feature names, but StandardScaler was fitted with feature names\n",
      "  warnings.warn(\n",
      "/Library/Frameworks/Python.framework/Versions/3.10/lib/python3.10/site-packages/sklearn/base.py:493: UserWarning: X does not have valid feature names, but StandardScaler was fitted with feature names\n",
      "  warnings.warn(\n"
     ]
    },
    {
     "name": "stdout",
     "output_type": "stream",
     "text": [
      "Buuu que mal [0. 1.]\n"
     ]
    },
    {
     "name": "stderr",
     "output_type": "stream",
     "text": [
      "/Library/Frameworks/Python.framework/Versions/3.10/lib/python3.10/site-packages/sklearn/base.py:493: UserWarning: X does not have valid feature names, but StandardScaler was fitted with feature names\n",
      "  warnings.warn(\n",
      "/Library/Frameworks/Python.framework/Versions/3.10/lib/python3.10/site-packages/sklearn/base.py:493: UserWarning: X does not have valid feature names, but StandardScaler was fitted with feature names\n",
      "  warnings.warn(\n",
      "/Library/Frameworks/Python.framework/Versions/3.10/lib/python3.10/site-packages/sklearn/base.py:493: UserWarning: X does not have valid feature names, but StandardScaler was fitted with feature names\n",
      "  warnings.warn(\n",
      "/Library/Frameworks/Python.framework/Versions/3.10/lib/python3.10/site-packages/sklearn/base.py:493: UserWarning: X does not have valid feature names, but StandardScaler was fitted with feature names\n",
      "  warnings.warn(\n"
     ]
    },
    {
     "name": "stdout",
     "output_type": "stream",
     "text": [
      "Buuu que mal [0. 1.]\n",
      "Buuu que mal [0. 1.]\n",
      "Buuu que mal [0. 1.]\n"
     ]
    },
    {
     "name": "stderr",
     "output_type": "stream",
     "text": [
      "/Library/Frameworks/Python.framework/Versions/3.10/lib/python3.10/site-packages/sklearn/base.py:493: UserWarning: X does not have valid feature names, but StandardScaler was fitted with feature names\n",
      "  warnings.warn(\n",
      "/Library/Frameworks/Python.framework/Versions/3.10/lib/python3.10/site-packages/sklearn/base.py:493: UserWarning: X does not have valid feature names, but StandardScaler was fitted with feature names\n",
      "  warnings.warn(\n",
      "/Library/Frameworks/Python.framework/Versions/3.10/lib/python3.10/site-packages/sklearn/base.py:493: UserWarning: X does not have valid feature names, but StandardScaler was fitted with feature names\n",
      "  warnings.warn(\n",
      "/Library/Frameworks/Python.framework/Versions/3.10/lib/python3.10/site-packages/sklearn/base.py:493: UserWarning: X does not have valid feature names, but StandardScaler was fitted with feature names\n",
      "  warnings.warn(\n"
     ]
    },
    {
     "name": "stdout",
     "output_type": "stream",
     "text": [
      "Buuu que mal [0. 1.]\n",
      "Buuu que mal [0. 1.]\n"
     ]
    },
    {
     "name": "stderr",
     "output_type": "stream",
     "text": [
      "/Library/Frameworks/Python.framework/Versions/3.10/lib/python3.10/site-packages/sklearn/base.py:493: UserWarning: X does not have valid feature names, but StandardScaler was fitted with feature names\n",
      "  warnings.warn(\n",
      "/Library/Frameworks/Python.framework/Versions/3.10/lib/python3.10/site-packages/sklearn/base.py:493: UserWarning: X does not have valid feature names, but StandardScaler was fitted with feature names\n",
      "  warnings.warn(\n",
      "/Library/Frameworks/Python.framework/Versions/3.10/lib/python3.10/site-packages/sklearn/base.py:493: UserWarning: X does not have valid feature names, but StandardScaler was fitted with feature names\n",
      "  warnings.warn(\n",
      "/Library/Frameworks/Python.framework/Versions/3.10/lib/python3.10/site-packages/sklearn/base.py:493: UserWarning: X does not have valid feature names, but StandardScaler was fitted with feature names\n",
      "  warnings.warn(\n"
     ]
    },
    {
     "name": "stdout",
     "output_type": "stream",
     "text": [
      "Buuu que mal [0. 1.]\n"
     ]
    },
    {
     "name": "stderr",
     "output_type": "stream",
     "text": [
      "/Library/Frameworks/Python.framework/Versions/3.10/lib/python3.10/site-packages/sklearn/base.py:493: UserWarning: X does not have valid feature names, but StandardScaler was fitted with feature names\n",
      "  warnings.warn(\n",
      "/Library/Frameworks/Python.framework/Versions/3.10/lib/python3.10/site-packages/sklearn/base.py:493: UserWarning: X does not have valid feature names, but StandardScaler was fitted with feature names\n",
      "  warnings.warn(\n"
     ]
    },
    {
     "name": "stdout",
     "output_type": "stream",
     "text": [
      "Buuu que mal [0. 1.]\n"
     ]
    },
    {
     "name": "stderr",
     "output_type": "stream",
     "text": [
      "/Library/Frameworks/Python.framework/Versions/3.10/lib/python3.10/site-packages/sklearn/base.py:493: UserWarning: X does not have valid feature names, but StandardScaler was fitted with feature names\n",
      "  warnings.warn(\n",
      "/Library/Frameworks/Python.framework/Versions/3.10/lib/python3.10/site-packages/sklearn/base.py:493: UserWarning: X does not have valid feature names, but StandardScaler was fitted with feature names\n",
      "  warnings.warn(\n",
      "/Library/Frameworks/Python.framework/Versions/3.10/lib/python3.10/site-packages/sklearn/base.py:493: UserWarning: X does not have valid feature names, but StandardScaler was fitted with feature names\n",
      "  warnings.warn(\n"
     ]
    },
    {
     "name": "stdout",
     "output_type": "stream",
     "text": [
      "Buuu que mal [0. 1.]\n",
      "Buuu que mal [0. 1.]\n"
     ]
    },
    {
     "name": "stderr",
     "output_type": "stream",
     "text": [
      "/Library/Frameworks/Python.framework/Versions/3.10/lib/python3.10/site-packages/sklearn/base.py:493: UserWarning: X does not have valid feature names, but StandardScaler was fitted with feature names\n",
      "  warnings.warn(\n",
      "/Library/Frameworks/Python.framework/Versions/3.10/lib/python3.10/site-packages/sklearn/base.py:493: UserWarning: X does not have valid feature names, but StandardScaler was fitted with feature names\n",
      "  warnings.warn(\n",
      "/Library/Frameworks/Python.framework/Versions/3.10/lib/python3.10/site-packages/sklearn/base.py:493: UserWarning: X does not have valid feature names, but StandardScaler was fitted with feature names\n",
      "  warnings.warn(\n"
     ]
    },
    {
     "name": "stdout",
     "output_type": "stream",
     "text": [
      "Buuu que mal [0. 1.]\n"
     ]
    },
    {
     "name": "stderr",
     "output_type": "stream",
     "text": [
      "/Library/Frameworks/Python.framework/Versions/3.10/lib/python3.10/site-packages/sklearn/base.py:493: UserWarning: X does not have valid feature names, but StandardScaler was fitted with feature names\n",
      "  warnings.warn(\n",
      "/Library/Frameworks/Python.framework/Versions/3.10/lib/python3.10/site-packages/sklearn/base.py:493: UserWarning: X does not have valid feature names, but StandardScaler was fitted with feature names\n",
      "  warnings.warn(\n"
     ]
    },
    {
     "name": "stdout",
     "output_type": "stream",
     "text": [
      "Buuu que mal [0. 1.]\n"
     ]
    },
    {
     "name": "stderr",
     "output_type": "stream",
     "text": [
      "/Library/Frameworks/Python.framework/Versions/3.10/lib/python3.10/site-packages/sklearn/base.py:493: UserWarning: X does not have valid feature names, but StandardScaler was fitted with feature names\n",
      "  warnings.warn(\n",
      "/Library/Frameworks/Python.framework/Versions/3.10/lib/python3.10/site-packages/sklearn/base.py:493: UserWarning: X does not have valid feature names, but StandardScaler was fitted with feature names\n",
      "  warnings.warn(\n"
     ]
    },
    {
     "name": "stdout",
     "output_type": "stream",
     "text": [
      "Buuu que mal [0. 1.]\n"
     ]
    },
    {
     "name": "stderr",
     "output_type": "stream",
     "text": [
      "/Library/Frameworks/Python.framework/Versions/3.10/lib/python3.10/site-packages/sklearn/base.py:493: UserWarning: X does not have valid feature names, but StandardScaler was fitted with feature names\n",
      "  warnings.warn(\n",
      "/Library/Frameworks/Python.framework/Versions/3.10/lib/python3.10/site-packages/sklearn/base.py:493: UserWarning: X does not have valid feature names, but StandardScaler was fitted with feature names\n",
      "  warnings.warn(\n"
     ]
    },
    {
     "name": "stdout",
     "output_type": "stream",
     "text": [
      "Buuu que mal [0. 1.]\n"
     ]
    },
    {
     "name": "stderr",
     "output_type": "stream",
     "text": [
      "/Library/Frameworks/Python.framework/Versions/3.10/lib/python3.10/site-packages/sklearn/base.py:493: UserWarning: X does not have valid feature names, but StandardScaler was fitted with feature names\n",
      "  warnings.warn(\n",
      "/Library/Frameworks/Python.framework/Versions/3.10/lib/python3.10/site-packages/sklearn/base.py:493: UserWarning: X does not have valid feature names, but StandardScaler was fitted with feature names\n",
      "  warnings.warn(\n"
     ]
    },
    {
     "name": "stdout",
     "output_type": "stream",
     "text": [
      "Buuu que mal [0. 1.]\n"
     ]
    },
    {
     "name": "stderr",
     "output_type": "stream",
     "text": [
      "/Library/Frameworks/Python.framework/Versions/3.10/lib/python3.10/site-packages/sklearn/base.py:493: UserWarning: X does not have valid feature names, but StandardScaler was fitted with feature names\n",
      "  warnings.warn(\n",
      "/Library/Frameworks/Python.framework/Versions/3.10/lib/python3.10/site-packages/sklearn/base.py:493: UserWarning: X does not have valid feature names, but StandardScaler was fitted with feature names\n",
      "  warnings.warn(\n"
     ]
    },
    {
     "name": "stdout",
     "output_type": "stream",
     "text": [
      "Buuu que mal [0. 1.]\n"
     ]
    },
    {
     "name": "stderr",
     "output_type": "stream",
     "text": [
      "/Library/Frameworks/Python.framework/Versions/3.10/lib/python3.10/site-packages/sklearn/base.py:493: UserWarning: X does not have valid feature names, but StandardScaler was fitted with feature names\n",
      "  warnings.warn(\n",
      "/Library/Frameworks/Python.framework/Versions/3.10/lib/python3.10/site-packages/sklearn/base.py:493: UserWarning: X does not have valid feature names, but StandardScaler was fitted with feature names\n",
      "  warnings.warn(\n"
     ]
    },
    {
     "name": "stdout",
     "output_type": "stream",
     "text": [
      "Buuu que mal [0. 1.]\n"
     ]
    },
    {
     "name": "stderr",
     "output_type": "stream",
     "text": [
      "/Library/Frameworks/Python.framework/Versions/3.10/lib/python3.10/site-packages/sklearn/base.py:493: UserWarning: X does not have valid feature names, but StandardScaler was fitted with feature names\n",
      "  warnings.warn(\n",
      "/Library/Frameworks/Python.framework/Versions/3.10/lib/python3.10/site-packages/sklearn/base.py:493: UserWarning: X does not have valid feature names, but StandardScaler was fitted with feature names\n",
      "  warnings.warn(\n"
     ]
    },
    {
     "name": "stdout",
     "output_type": "stream",
     "text": [
      "Buuu que mal [0. 1.]\n"
     ]
    },
    {
     "name": "stderr",
     "output_type": "stream",
     "text": [
      "/Library/Frameworks/Python.framework/Versions/3.10/lib/python3.10/site-packages/sklearn/base.py:493: UserWarning: X does not have valid feature names, but StandardScaler was fitted with feature names\n",
      "  warnings.warn(\n",
      "/Library/Frameworks/Python.framework/Versions/3.10/lib/python3.10/site-packages/sklearn/base.py:493: UserWarning: X does not have valid feature names, but StandardScaler was fitted with feature names\n",
      "  warnings.warn(\n"
     ]
    },
    {
     "name": "stdout",
     "output_type": "stream",
     "text": [
      "Buuu que mal [0. 1.]\n"
     ]
    },
    {
     "name": "stderr",
     "output_type": "stream",
     "text": [
      "/Library/Frameworks/Python.framework/Versions/3.10/lib/python3.10/site-packages/sklearn/base.py:493: UserWarning: X does not have valid feature names, but StandardScaler was fitted with feature names\n",
      "  warnings.warn(\n",
      "/Library/Frameworks/Python.framework/Versions/3.10/lib/python3.10/site-packages/sklearn/base.py:493: UserWarning: X does not have valid feature names, but StandardScaler was fitted with feature names\n",
      "  warnings.warn(\n"
     ]
    },
    {
     "name": "stdout",
     "output_type": "stream",
     "text": [
      "Buuu que mal [0. 1.]\n"
     ]
    },
    {
     "name": "stderr",
     "output_type": "stream",
     "text": [
      "/Library/Frameworks/Python.framework/Versions/3.10/lib/python3.10/site-packages/sklearn/base.py:493: UserWarning: X does not have valid feature names, but StandardScaler was fitted with feature names\n",
      "  warnings.warn(\n",
      "/Library/Frameworks/Python.framework/Versions/3.10/lib/python3.10/site-packages/sklearn/base.py:493: UserWarning: X does not have valid feature names, but StandardScaler was fitted with feature names\n",
      "  warnings.warn(\n"
     ]
    },
    {
     "name": "stdout",
     "output_type": "stream",
     "text": [
      "Buuu que mal [0. 1.]\n"
     ]
    },
    {
     "name": "stderr",
     "output_type": "stream",
     "text": [
      "/Library/Frameworks/Python.framework/Versions/3.10/lib/python3.10/site-packages/sklearn/base.py:493: UserWarning: X does not have valid feature names, but StandardScaler was fitted with feature names\n",
      "  warnings.warn(\n",
      "/Library/Frameworks/Python.framework/Versions/3.10/lib/python3.10/site-packages/sklearn/base.py:493: UserWarning: X does not have valid feature names, but StandardScaler was fitted with feature names\n",
      "  warnings.warn(\n"
     ]
    },
    {
     "name": "stdout",
     "output_type": "stream",
     "text": [
      "Buuu que mal [0. 1.]\n"
     ]
    },
    {
     "name": "stderr",
     "output_type": "stream",
     "text": [
      "/Library/Frameworks/Python.framework/Versions/3.10/lib/python3.10/site-packages/sklearn/base.py:493: UserWarning: X does not have valid feature names, but StandardScaler was fitted with feature names\n",
      "  warnings.warn(\n",
      "/Library/Frameworks/Python.framework/Versions/3.10/lib/python3.10/site-packages/sklearn/base.py:493: UserWarning: X does not have valid feature names, but StandardScaler was fitted with feature names\n",
      "  warnings.warn(\n"
     ]
    },
    {
     "name": "stdout",
     "output_type": "stream",
     "text": [
      "Buuu que mal [0. 1.]\n"
     ]
    },
    {
     "name": "stderr",
     "output_type": "stream",
     "text": [
      "/Library/Frameworks/Python.framework/Versions/3.10/lib/python3.10/site-packages/sklearn/base.py:493: UserWarning: X does not have valid feature names, but StandardScaler was fitted with feature names\n",
      "  warnings.warn(\n",
      "/Library/Frameworks/Python.framework/Versions/3.10/lib/python3.10/site-packages/sklearn/base.py:493: UserWarning: X does not have valid feature names, but StandardScaler was fitted with feature names\n",
      "  warnings.warn(\n"
     ]
    },
    {
     "name": "stdout",
     "output_type": "stream",
     "text": [
      "Buuu que mal [0. 1.]\n"
     ]
    },
    {
     "name": "stderr",
     "output_type": "stream",
     "text": [
      "/Library/Frameworks/Python.framework/Versions/3.10/lib/python3.10/site-packages/sklearn/base.py:493: UserWarning: X does not have valid feature names, but StandardScaler was fitted with feature names\n",
      "  warnings.warn(\n",
      "/Library/Frameworks/Python.framework/Versions/3.10/lib/python3.10/site-packages/sklearn/base.py:493: UserWarning: X does not have valid feature names, but StandardScaler was fitted with feature names\n",
      "  warnings.warn(\n"
     ]
    },
    {
     "name": "stdout",
     "output_type": "stream",
     "text": [
      "Buuu que mal [0. 1.]\n"
     ]
    },
    {
     "name": "stderr",
     "output_type": "stream",
     "text": [
      "/Library/Frameworks/Python.framework/Versions/3.10/lib/python3.10/site-packages/sklearn/base.py:493: UserWarning: X does not have valid feature names, but StandardScaler was fitted with feature names\n",
      "  warnings.warn(\n",
      "/Library/Frameworks/Python.framework/Versions/3.10/lib/python3.10/site-packages/sklearn/base.py:493: UserWarning: X does not have valid feature names, but StandardScaler was fitted with feature names\n",
      "  warnings.warn(\n"
     ]
    },
    {
     "name": "stdout",
     "output_type": "stream",
     "text": [
      "Buuu que mal [0. 1.]\n"
     ]
    },
    {
     "name": "stderr",
     "output_type": "stream",
     "text": [
      "/Library/Frameworks/Python.framework/Versions/3.10/lib/python3.10/site-packages/sklearn/base.py:493: UserWarning: X does not have valid feature names, but StandardScaler was fitted with feature names\n",
      "  warnings.warn(\n",
      "/Library/Frameworks/Python.framework/Versions/3.10/lib/python3.10/site-packages/sklearn/base.py:493: UserWarning: X does not have valid feature names, but StandardScaler was fitted with feature names\n",
      "  warnings.warn(\n"
     ]
    },
    {
     "name": "stdout",
     "output_type": "stream",
     "text": [
      "Buuu que mal [0. 1.]\n"
     ]
    },
    {
     "name": "stderr",
     "output_type": "stream",
     "text": [
      "/Library/Frameworks/Python.framework/Versions/3.10/lib/python3.10/site-packages/sklearn/base.py:493: UserWarning: X does not have valid feature names, but StandardScaler was fitted with feature names\n",
      "  warnings.warn(\n",
      "/Library/Frameworks/Python.framework/Versions/3.10/lib/python3.10/site-packages/sklearn/base.py:493: UserWarning: X does not have valid feature names, but StandardScaler was fitted with feature names\n",
      "  warnings.warn(\n"
     ]
    },
    {
     "name": "stdout",
     "output_type": "stream",
     "text": [
      "Buuu que mal [0. 1.]\n"
     ]
    },
    {
     "name": "stderr",
     "output_type": "stream",
     "text": [
      "/Library/Frameworks/Python.framework/Versions/3.10/lib/python3.10/site-packages/sklearn/base.py:493: UserWarning: X does not have valid feature names, but StandardScaler was fitted with feature names\n",
      "  warnings.warn(\n",
      "/Library/Frameworks/Python.framework/Versions/3.10/lib/python3.10/site-packages/sklearn/base.py:493: UserWarning: X does not have valid feature names, but StandardScaler was fitted with feature names\n",
      "  warnings.warn(\n"
     ]
    },
    {
     "name": "stdout",
     "output_type": "stream",
     "text": [
      "Buuu que mal [0. 1.]\n"
     ]
    },
    {
     "name": "stderr",
     "output_type": "stream",
     "text": [
      "/Library/Frameworks/Python.framework/Versions/3.10/lib/python3.10/site-packages/sklearn/base.py:493: UserWarning: X does not have valid feature names, but StandardScaler was fitted with feature names\n",
      "  warnings.warn(\n",
      "/Library/Frameworks/Python.framework/Versions/3.10/lib/python3.10/site-packages/sklearn/base.py:493: UserWarning: X does not have valid feature names, but StandardScaler was fitted with feature names\n",
      "  warnings.warn(\n"
     ]
    },
    {
     "name": "stdout",
     "output_type": "stream",
     "text": [
      "Buuu que mal [0. 1.]\n"
     ]
    },
    {
     "name": "stderr",
     "output_type": "stream",
     "text": [
      "/Library/Frameworks/Python.framework/Versions/3.10/lib/python3.10/site-packages/sklearn/base.py:493: UserWarning: X does not have valid feature names, but StandardScaler was fitted with feature names\n",
      "  warnings.warn(\n",
      "/Library/Frameworks/Python.framework/Versions/3.10/lib/python3.10/site-packages/sklearn/base.py:493: UserWarning: X does not have valid feature names, but StandardScaler was fitted with feature names\n",
      "  warnings.warn(\n"
     ]
    },
    {
     "name": "stdout",
     "output_type": "stream",
     "text": [
      "Buuu que mal [0. 1.]\n"
     ]
    },
    {
     "name": "stderr",
     "output_type": "stream",
     "text": [
      "/Library/Frameworks/Python.framework/Versions/3.10/lib/python3.10/site-packages/sklearn/base.py:493: UserWarning: X does not have valid feature names, but StandardScaler was fitted with feature names\n",
      "  warnings.warn(\n",
      "/Library/Frameworks/Python.framework/Versions/3.10/lib/python3.10/site-packages/sklearn/base.py:493: UserWarning: X does not have valid feature names, but StandardScaler was fitted with feature names\n",
      "  warnings.warn(\n"
     ]
    },
    {
     "name": "stdout",
     "output_type": "stream",
     "text": [
      "Buuu que mal [0. 1.]\n"
     ]
    },
    {
     "name": "stderr",
     "output_type": "stream",
     "text": [
      "/Library/Frameworks/Python.framework/Versions/3.10/lib/python3.10/site-packages/sklearn/base.py:493: UserWarning: X does not have valid feature names, but StandardScaler was fitted with feature names\n",
      "  warnings.warn(\n",
      "/Library/Frameworks/Python.framework/Versions/3.10/lib/python3.10/site-packages/sklearn/base.py:493: UserWarning: X does not have valid feature names, but StandardScaler was fitted with feature names\n",
      "  warnings.warn(\n"
     ]
    },
    {
     "name": "stdout",
     "output_type": "stream",
     "text": [
      "Buuu que mal [0. 1.]\n"
     ]
    },
    {
     "name": "stderr",
     "output_type": "stream",
     "text": [
      "/Library/Frameworks/Python.framework/Versions/3.10/lib/python3.10/site-packages/sklearn/base.py:493: UserWarning: X does not have valid feature names, but StandardScaler was fitted with feature names\n",
      "  warnings.warn(\n",
      "/Library/Frameworks/Python.framework/Versions/3.10/lib/python3.10/site-packages/sklearn/base.py:493: UserWarning: X does not have valid feature names, but StandardScaler was fitted with feature names\n",
      "  warnings.warn(\n"
     ]
    },
    {
     "name": "stdout",
     "output_type": "stream",
     "text": [
      "Buuu que mal [0. 1.]\n"
     ]
    },
    {
     "name": "stderr",
     "output_type": "stream",
     "text": [
      "/Library/Frameworks/Python.framework/Versions/3.10/lib/python3.10/site-packages/sklearn/base.py:493: UserWarning: X does not have valid feature names, but StandardScaler was fitted with feature names\n",
      "  warnings.warn(\n",
      "/Library/Frameworks/Python.framework/Versions/3.10/lib/python3.10/site-packages/sklearn/base.py:493: UserWarning: X does not have valid feature names, but StandardScaler was fitted with feature names\n",
      "  warnings.warn(\n"
     ]
    },
    {
     "name": "stdout",
     "output_type": "stream",
     "text": [
      "Buuu que mal [0. 1.]\n"
     ]
    },
    {
     "name": "stderr",
     "output_type": "stream",
     "text": [
      "/Library/Frameworks/Python.framework/Versions/3.10/lib/python3.10/site-packages/sklearn/base.py:493: UserWarning: X does not have valid feature names, but StandardScaler was fitted with feature names\n",
      "  warnings.warn(\n",
      "/Library/Frameworks/Python.framework/Versions/3.10/lib/python3.10/site-packages/sklearn/base.py:493: UserWarning: X does not have valid feature names, but StandardScaler was fitted with feature names\n",
      "  warnings.warn(\n"
     ]
    },
    {
     "name": "stdout",
     "output_type": "stream",
     "text": [
      "Buuu que mal [0. 1.]\n"
     ]
    },
    {
     "name": "stderr",
     "output_type": "stream",
     "text": [
      "/Library/Frameworks/Python.framework/Versions/3.10/lib/python3.10/site-packages/sklearn/base.py:493: UserWarning: X does not have valid feature names, but StandardScaler was fitted with feature names\n",
      "  warnings.warn(\n",
      "/Library/Frameworks/Python.framework/Versions/3.10/lib/python3.10/site-packages/sklearn/base.py:493: UserWarning: X does not have valid feature names, but StandardScaler was fitted with feature names\n",
      "  warnings.warn(\n"
     ]
    },
    {
     "name": "stdout",
     "output_type": "stream",
     "text": [
      "Buuu que mal [0. 1.]\n"
     ]
    },
    {
     "name": "stderr",
     "output_type": "stream",
     "text": [
      "/Library/Frameworks/Python.framework/Versions/3.10/lib/python3.10/site-packages/sklearn/base.py:493: UserWarning: X does not have valid feature names, but StandardScaler was fitted with feature names\n",
      "  warnings.warn(\n",
      "/Library/Frameworks/Python.framework/Versions/3.10/lib/python3.10/site-packages/sklearn/base.py:493: UserWarning: X does not have valid feature names, but StandardScaler was fitted with feature names\n",
      "  warnings.warn(\n"
     ]
    },
    {
     "name": "stdout",
     "output_type": "stream",
     "text": [
      "Buuu que mal [0. 1.]\n"
     ]
    },
    {
     "name": "stderr",
     "output_type": "stream",
     "text": [
      "/Library/Frameworks/Python.framework/Versions/3.10/lib/python3.10/site-packages/sklearn/base.py:493: UserWarning: X does not have valid feature names, but StandardScaler was fitted with feature names\n",
      "  warnings.warn(\n",
      "/Library/Frameworks/Python.framework/Versions/3.10/lib/python3.10/site-packages/sklearn/base.py:493: UserWarning: X does not have valid feature names, but StandardScaler was fitted with feature names\n",
      "  warnings.warn(\n"
     ]
    },
    {
     "name": "stdout",
     "output_type": "stream",
     "text": [
      "Buuu que mal [0. 1.]\n"
     ]
    },
    {
     "name": "stderr",
     "output_type": "stream",
     "text": [
      "/Library/Frameworks/Python.framework/Versions/3.10/lib/python3.10/site-packages/sklearn/base.py:493: UserWarning: X does not have valid feature names, but StandardScaler was fitted with feature names\n",
      "  warnings.warn(\n",
      "/Library/Frameworks/Python.framework/Versions/3.10/lib/python3.10/site-packages/sklearn/base.py:493: UserWarning: X does not have valid feature names, but StandardScaler was fitted with feature names\n",
      "  warnings.warn(\n"
     ]
    },
    {
     "name": "stdout",
     "output_type": "stream",
     "text": [
      "Buuu que mal [0. 1.]\n"
     ]
    },
    {
     "name": "stderr",
     "output_type": "stream",
     "text": [
      "/Library/Frameworks/Python.framework/Versions/3.10/lib/python3.10/site-packages/sklearn/base.py:493: UserWarning: X does not have valid feature names, but StandardScaler was fitted with feature names\n",
      "  warnings.warn(\n",
      "/Library/Frameworks/Python.framework/Versions/3.10/lib/python3.10/site-packages/sklearn/base.py:493: UserWarning: X does not have valid feature names, but StandardScaler was fitted with feature names\n",
      "  warnings.warn(\n"
     ]
    },
    {
     "name": "stdout",
     "output_type": "stream",
     "text": [
      "Buuu que mal [0. 1.]\n"
     ]
    },
    {
     "name": "stderr",
     "output_type": "stream",
     "text": [
      "/Library/Frameworks/Python.framework/Versions/3.10/lib/python3.10/site-packages/sklearn/base.py:493: UserWarning: X does not have valid feature names, but StandardScaler was fitted with feature names\n",
      "  warnings.warn(\n",
      "/Library/Frameworks/Python.framework/Versions/3.10/lib/python3.10/site-packages/sklearn/base.py:493: UserWarning: X does not have valid feature names, but StandardScaler was fitted with feature names\n",
      "  warnings.warn(\n"
     ]
    },
    {
     "name": "stdout",
     "output_type": "stream",
     "text": [
      "Buuu que mal [0. 1.]\n"
     ]
    },
    {
     "name": "stderr",
     "output_type": "stream",
     "text": [
      "/Library/Frameworks/Python.framework/Versions/3.10/lib/python3.10/site-packages/sklearn/base.py:493: UserWarning: X does not have valid feature names, but StandardScaler was fitted with feature names\n",
      "  warnings.warn(\n",
      "/Library/Frameworks/Python.framework/Versions/3.10/lib/python3.10/site-packages/sklearn/base.py:493: UserWarning: X does not have valid feature names, but StandardScaler was fitted with feature names\n",
      "  warnings.warn(\n"
     ]
    },
    {
     "name": "stdout",
     "output_type": "stream",
     "text": [
      "Buuu que mal [0. 1.]\n"
     ]
    },
    {
     "name": "stderr",
     "output_type": "stream",
     "text": [
      "/Library/Frameworks/Python.framework/Versions/3.10/lib/python3.10/site-packages/sklearn/base.py:493: UserWarning: X does not have valid feature names, but StandardScaler was fitted with feature names\n",
      "  warnings.warn(\n",
      "/Library/Frameworks/Python.framework/Versions/3.10/lib/python3.10/site-packages/sklearn/base.py:493: UserWarning: X does not have valid feature names, but StandardScaler was fitted with feature names\n",
      "  warnings.warn(\n"
     ]
    },
    {
     "name": "stdout",
     "output_type": "stream",
     "text": [
      "Buuu que mal [0. 1.]\n"
     ]
    },
    {
     "name": "stderr",
     "output_type": "stream",
     "text": [
      "/Library/Frameworks/Python.framework/Versions/3.10/lib/python3.10/site-packages/sklearn/base.py:493: UserWarning: X does not have valid feature names, but StandardScaler was fitted with feature names\n",
      "  warnings.warn(\n",
      "/Library/Frameworks/Python.framework/Versions/3.10/lib/python3.10/site-packages/sklearn/base.py:493: UserWarning: X does not have valid feature names, but StandardScaler was fitted with feature names\n",
      "  warnings.warn(\n"
     ]
    },
    {
     "name": "stdout",
     "output_type": "stream",
     "text": [
      "Buuu que mal [0. 1.]\n"
     ]
    },
    {
     "name": "stderr",
     "output_type": "stream",
     "text": [
      "/Library/Frameworks/Python.framework/Versions/3.10/lib/python3.10/site-packages/sklearn/base.py:493: UserWarning: X does not have valid feature names, but StandardScaler was fitted with feature names\n",
      "  warnings.warn(\n",
      "/Library/Frameworks/Python.framework/Versions/3.10/lib/python3.10/site-packages/sklearn/base.py:493: UserWarning: X does not have valid feature names, but StandardScaler was fitted with feature names\n",
      "  warnings.warn(\n"
     ]
    },
    {
     "name": "stdout",
     "output_type": "stream",
     "text": [
      "Buuu que mal [0. 1.]\n"
     ]
    },
    {
     "name": "stderr",
     "output_type": "stream",
     "text": [
      "/Library/Frameworks/Python.framework/Versions/3.10/lib/python3.10/site-packages/sklearn/base.py:493: UserWarning: X does not have valid feature names, but StandardScaler was fitted with feature names\n",
      "  warnings.warn(\n",
      "/Library/Frameworks/Python.framework/Versions/3.10/lib/python3.10/site-packages/sklearn/base.py:493: UserWarning: X does not have valid feature names, but StandardScaler was fitted with feature names\n",
      "  warnings.warn(\n"
     ]
    },
    {
     "name": "stdout",
     "output_type": "stream",
     "text": [
      "Buuu que mal [0. 1.]\n"
     ]
    },
    {
     "name": "stderr",
     "output_type": "stream",
     "text": [
      "/Library/Frameworks/Python.framework/Versions/3.10/lib/python3.10/site-packages/sklearn/base.py:493: UserWarning: X does not have valid feature names, but StandardScaler was fitted with feature names\n",
      "  warnings.warn(\n",
      "/Library/Frameworks/Python.framework/Versions/3.10/lib/python3.10/site-packages/sklearn/base.py:493: UserWarning: X does not have valid feature names, but StandardScaler was fitted with feature names\n",
      "  warnings.warn(\n"
     ]
    },
    {
     "name": "stdout",
     "output_type": "stream",
     "text": [
      "Buuu que mal [0. 1.]\n"
     ]
    },
    {
     "name": "stderr",
     "output_type": "stream",
     "text": [
      "/Library/Frameworks/Python.framework/Versions/3.10/lib/python3.10/site-packages/sklearn/base.py:493: UserWarning: X does not have valid feature names, but StandardScaler was fitted with feature names\n",
      "  warnings.warn(\n",
      "/Library/Frameworks/Python.framework/Versions/3.10/lib/python3.10/site-packages/sklearn/base.py:493: UserWarning: X does not have valid feature names, but StandardScaler was fitted with feature names\n",
      "  warnings.warn(\n"
     ]
    },
    {
     "name": "stdout",
     "output_type": "stream",
     "text": [
      "Buuu que mal [0. 1.]\n"
     ]
    },
    {
     "name": "stderr",
     "output_type": "stream",
     "text": [
      "/Library/Frameworks/Python.framework/Versions/3.10/lib/python3.10/site-packages/sklearn/base.py:493: UserWarning: X does not have valid feature names, but StandardScaler was fitted with feature names\n",
      "  warnings.warn(\n",
      "/Library/Frameworks/Python.framework/Versions/3.10/lib/python3.10/site-packages/sklearn/base.py:493: UserWarning: X does not have valid feature names, but StandardScaler was fitted with feature names\n",
      "  warnings.warn(\n"
     ]
    },
    {
     "name": "stdout",
     "output_type": "stream",
     "text": [
      "Buuu que mal [0. 1.]\n"
     ]
    },
    {
     "name": "stderr",
     "output_type": "stream",
     "text": [
      "/Library/Frameworks/Python.framework/Versions/3.10/lib/python3.10/site-packages/sklearn/base.py:493: UserWarning: X does not have valid feature names, but StandardScaler was fitted with feature names\n",
      "  warnings.warn(\n",
      "/Library/Frameworks/Python.framework/Versions/3.10/lib/python3.10/site-packages/sklearn/base.py:493: UserWarning: X does not have valid feature names, but StandardScaler was fitted with feature names\n",
      "  warnings.warn(\n"
     ]
    },
    {
     "name": "stdout",
     "output_type": "stream",
     "text": [
      "Buuu que mal [0.01 0.99]\n"
     ]
    },
    {
     "name": "stderr",
     "output_type": "stream",
     "text": [
      "/Library/Frameworks/Python.framework/Versions/3.10/lib/python3.10/site-packages/sklearn/base.py:493: UserWarning: X does not have valid feature names, but StandardScaler was fitted with feature names\n",
      "  warnings.warn(\n",
      "/Library/Frameworks/Python.framework/Versions/3.10/lib/python3.10/site-packages/sklearn/base.py:493: UserWarning: X does not have valid feature names, but StandardScaler was fitted with feature names\n",
      "  warnings.warn(\n"
     ]
    },
    {
     "name": "stdout",
     "output_type": "stream",
     "text": [
      "Buuu que mal [0.26 0.74]\n"
     ]
    },
    {
     "name": "stderr",
     "output_type": "stream",
     "text": [
      "/Library/Frameworks/Python.framework/Versions/3.10/lib/python3.10/site-packages/sklearn/base.py:493: UserWarning: X does not have valid feature names, but StandardScaler was fitted with feature names\n",
      "  warnings.warn(\n",
      "/Library/Frameworks/Python.framework/Versions/3.10/lib/python3.10/site-packages/sklearn/base.py:493: UserWarning: X does not have valid feature names, but StandardScaler was fitted with feature names\n",
      "  warnings.warn(\n"
     ]
    },
    {
     "name": "stdout",
     "output_type": "stream",
     "text": [
      "Buuu que mal [0.1 0.9]\n"
     ]
    },
    {
     "name": "stderr",
     "output_type": "stream",
     "text": [
      "/Library/Frameworks/Python.framework/Versions/3.10/lib/python3.10/site-packages/sklearn/base.py:493: UserWarning: X does not have valid feature names, but StandardScaler was fitted with feature names\n",
      "  warnings.warn(\n",
      "/Library/Frameworks/Python.framework/Versions/3.10/lib/python3.10/site-packages/sklearn/base.py:493: UserWarning: X does not have valid feature names, but StandardScaler was fitted with feature names\n",
      "  warnings.warn(\n"
     ]
    },
    {
     "name": "stdout",
     "output_type": "stream",
     "text": [
      "Buuu que mal [0.05 0.95]\n"
     ]
    },
    {
     "name": "stderr",
     "output_type": "stream",
     "text": [
      "/Library/Frameworks/Python.framework/Versions/3.10/lib/python3.10/site-packages/sklearn/base.py:493: UserWarning: X does not have valid feature names, but StandardScaler was fitted with feature names\n",
      "  warnings.warn(\n",
      "/Library/Frameworks/Python.framework/Versions/3.10/lib/python3.10/site-packages/sklearn/base.py:493: UserWarning: X does not have valid feature names, but StandardScaler was fitted with feature names\n",
      "  warnings.warn(\n"
     ]
    },
    {
     "name": "stdout",
     "output_type": "stream",
     "text": [
      "Buuu que mal [0.01 0.99]\n"
     ]
    },
    {
     "name": "stderr",
     "output_type": "stream",
     "text": [
      "/Library/Frameworks/Python.framework/Versions/3.10/lib/python3.10/site-packages/sklearn/base.py:493: UserWarning: X does not have valid feature names, but StandardScaler was fitted with feature names\n",
      "  warnings.warn(\n",
      "/Library/Frameworks/Python.framework/Versions/3.10/lib/python3.10/site-packages/sklearn/base.py:493: UserWarning: X does not have valid feature names, but StandardScaler was fitted with feature names\n",
      "  warnings.warn(\n"
     ]
    },
    {
     "name": "stdout",
     "output_type": "stream",
     "text": [
      "Buuu que mal [0. 1.]\n"
     ]
    },
    {
     "name": "stderr",
     "output_type": "stream",
     "text": [
      "/Library/Frameworks/Python.framework/Versions/3.10/lib/python3.10/site-packages/sklearn/base.py:493: UserWarning: X does not have valid feature names, but StandardScaler was fitted with feature names\n",
      "  warnings.warn(\n",
      "/Library/Frameworks/Python.framework/Versions/3.10/lib/python3.10/site-packages/sklearn/base.py:493: UserWarning: X does not have valid feature names, but StandardScaler was fitted with feature names\n",
      "  warnings.warn(\n"
     ]
    },
    {
     "name": "stdout",
     "output_type": "stream",
     "text": [
      "Buuu que mal [0. 1.]\n"
     ]
    },
    {
     "name": "stderr",
     "output_type": "stream",
     "text": [
      "/Library/Frameworks/Python.framework/Versions/3.10/lib/python3.10/site-packages/sklearn/base.py:493: UserWarning: X does not have valid feature names, but StandardScaler was fitted with feature names\n",
      "  warnings.warn(\n",
      "/Library/Frameworks/Python.framework/Versions/3.10/lib/python3.10/site-packages/sklearn/base.py:493: UserWarning: X does not have valid feature names, but StandardScaler was fitted with feature names\n",
      "  warnings.warn(\n"
     ]
    },
    {
     "name": "stdout",
     "output_type": "stream",
     "text": [
      "Buuu que mal [0.16 0.84]\n"
     ]
    },
    {
     "name": "stderr",
     "output_type": "stream",
     "text": [
      "/Library/Frameworks/Python.framework/Versions/3.10/lib/python3.10/site-packages/sklearn/base.py:493: UserWarning: X does not have valid feature names, but StandardScaler was fitted with feature names\n",
      "  warnings.warn(\n",
      "/Library/Frameworks/Python.framework/Versions/3.10/lib/python3.10/site-packages/sklearn/base.py:493: UserWarning: X does not have valid feature names, but StandardScaler was fitted with feature names\n",
      "  warnings.warn(\n"
     ]
    },
    {
     "name": "stdout",
     "output_type": "stream",
     "text": [
      "Bieeen [0.64 0.36]\n"
     ]
    },
    {
     "name": "stderr",
     "output_type": "stream",
     "text": [
      "/Library/Frameworks/Python.framework/Versions/3.10/lib/python3.10/site-packages/sklearn/base.py:493: UserWarning: X does not have valid feature names, but StandardScaler was fitted with feature names\n",
      "  warnings.warn(\n",
      "/Library/Frameworks/Python.framework/Versions/3.10/lib/python3.10/site-packages/sklearn/base.py:493: UserWarning: X does not have valid feature names, but StandardScaler was fitted with feature names\n",
      "  warnings.warn(\n"
     ]
    },
    {
     "name": "stdout",
     "output_type": "stream",
     "text": [
      "Buuu que mal [0.01 0.99]\n"
     ]
    },
    {
     "name": "stderr",
     "output_type": "stream",
     "text": [
      "/Library/Frameworks/Python.framework/Versions/3.10/lib/python3.10/site-packages/sklearn/base.py:493: UserWarning: X does not have valid feature names, but StandardScaler was fitted with feature names\n",
      "  warnings.warn(\n",
      "/Library/Frameworks/Python.framework/Versions/3.10/lib/python3.10/site-packages/sklearn/base.py:493: UserWarning: X does not have valid feature names, but StandardScaler was fitted with feature names\n",
      "  warnings.warn(\n"
     ]
    },
    {
     "name": "stdout",
     "output_type": "stream",
     "text": [
      "Buuu que mal [0. 1.]\n"
     ]
    },
    {
     "name": "stderr",
     "output_type": "stream",
     "text": [
      "/Library/Frameworks/Python.framework/Versions/3.10/lib/python3.10/site-packages/sklearn/base.py:493: UserWarning: X does not have valid feature names, but StandardScaler was fitted with feature names\n",
      "  warnings.warn(\n",
      "/Library/Frameworks/Python.framework/Versions/3.10/lib/python3.10/site-packages/sklearn/base.py:493: UserWarning: X does not have valid feature names, but StandardScaler was fitted with feature names\n",
      "  warnings.warn(\n"
     ]
    },
    {
     "name": "stdout",
     "output_type": "stream",
     "text": [
      "Buuu que mal [0. 1.]\n"
     ]
    },
    {
     "name": "stderr",
     "output_type": "stream",
     "text": [
      "/Library/Frameworks/Python.framework/Versions/3.10/lib/python3.10/site-packages/sklearn/base.py:493: UserWarning: X does not have valid feature names, but StandardScaler was fitted with feature names\n",
      "  warnings.warn(\n",
      "/Library/Frameworks/Python.framework/Versions/3.10/lib/python3.10/site-packages/sklearn/base.py:493: UserWarning: X does not have valid feature names, but StandardScaler was fitted with feature names\n",
      "  warnings.warn(\n"
     ]
    },
    {
     "name": "stdout",
     "output_type": "stream",
     "text": [
      "Buuu que mal [0. 1.]\n"
     ]
    },
    {
     "name": "stderr",
     "output_type": "stream",
     "text": [
      "/Library/Frameworks/Python.framework/Versions/3.10/lib/python3.10/site-packages/sklearn/base.py:493: UserWarning: X does not have valid feature names, but StandardScaler was fitted with feature names\n",
      "  warnings.warn(\n",
      "/Library/Frameworks/Python.framework/Versions/3.10/lib/python3.10/site-packages/sklearn/base.py:493: UserWarning: X does not have valid feature names, but StandardScaler was fitted with feature names\n",
      "  warnings.warn(\n"
     ]
    },
    {
     "name": "stdout",
     "output_type": "stream",
     "text": [
      "Buuu que mal [0. 1.]\n"
     ]
    },
    {
     "name": "stderr",
     "output_type": "stream",
     "text": [
      "/Library/Frameworks/Python.framework/Versions/3.10/lib/python3.10/site-packages/sklearn/base.py:493: UserWarning: X does not have valid feature names, but StandardScaler was fitted with feature names\n",
      "  warnings.warn(\n",
      "/Library/Frameworks/Python.framework/Versions/3.10/lib/python3.10/site-packages/sklearn/base.py:493: UserWarning: X does not have valid feature names, but StandardScaler was fitted with feature names\n",
      "  warnings.warn(\n"
     ]
    },
    {
     "name": "stdout",
     "output_type": "stream",
     "text": [
      "Buuu que mal [0. 1.]\n"
     ]
    },
    {
     "name": "stderr",
     "output_type": "stream",
     "text": [
      "/Library/Frameworks/Python.framework/Versions/3.10/lib/python3.10/site-packages/sklearn/base.py:493: UserWarning: X does not have valid feature names, but StandardScaler was fitted with feature names\n",
      "  warnings.warn(\n",
      "/Library/Frameworks/Python.framework/Versions/3.10/lib/python3.10/site-packages/sklearn/base.py:493: UserWarning: X does not have valid feature names, but StandardScaler was fitted with feature names\n",
      "  warnings.warn(\n"
     ]
    },
    {
     "name": "stdout",
     "output_type": "stream",
     "text": [
      "Buuu que mal [0. 1.]\n"
     ]
    },
    {
     "name": "stderr",
     "output_type": "stream",
     "text": [
      "/Library/Frameworks/Python.framework/Versions/3.10/lib/python3.10/site-packages/sklearn/base.py:493: UserWarning: X does not have valid feature names, but StandardScaler was fitted with feature names\n",
      "  warnings.warn(\n",
      "/Library/Frameworks/Python.framework/Versions/3.10/lib/python3.10/site-packages/sklearn/base.py:493: UserWarning: X does not have valid feature names, but StandardScaler was fitted with feature names\n",
      "  warnings.warn(\n"
     ]
    },
    {
     "name": "stdout",
     "output_type": "stream",
     "text": [
      "Buuu que mal [0. 1.]\n"
     ]
    },
    {
     "name": "stderr",
     "output_type": "stream",
     "text": [
      "/Library/Frameworks/Python.framework/Versions/3.10/lib/python3.10/site-packages/sklearn/base.py:493: UserWarning: X does not have valid feature names, but StandardScaler was fitted with feature names\n",
      "  warnings.warn(\n",
      "/Library/Frameworks/Python.framework/Versions/3.10/lib/python3.10/site-packages/sklearn/base.py:493: UserWarning: X does not have valid feature names, but StandardScaler was fitted with feature names\n",
      "  warnings.warn(\n"
     ]
    },
    {
     "name": "stdout",
     "output_type": "stream",
     "text": [
      "Buuu que mal [0. 1.]\n"
     ]
    },
    {
     "name": "stderr",
     "output_type": "stream",
     "text": [
      "/Library/Frameworks/Python.framework/Versions/3.10/lib/python3.10/site-packages/sklearn/base.py:493: UserWarning: X does not have valid feature names, but StandardScaler was fitted with feature names\n",
      "  warnings.warn(\n",
      "/Library/Frameworks/Python.framework/Versions/3.10/lib/python3.10/site-packages/sklearn/base.py:493: UserWarning: X does not have valid feature names, but StandardScaler was fitted with feature names\n",
      "  warnings.warn(\n"
     ]
    },
    {
     "name": "stdout",
     "output_type": "stream",
     "text": [
      "Buuu que mal [0. 1.]\n"
     ]
    },
    {
     "name": "stderr",
     "output_type": "stream",
     "text": [
      "/Library/Frameworks/Python.framework/Versions/3.10/lib/python3.10/site-packages/sklearn/base.py:493: UserWarning: X does not have valid feature names, but StandardScaler was fitted with feature names\n",
      "  warnings.warn(\n",
      "/Library/Frameworks/Python.framework/Versions/3.10/lib/python3.10/site-packages/sklearn/base.py:493: UserWarning: X does not have valid feature names, but StandardScaler was fitted with feature names\n",
      "  warnings.warn(\n"
     ]
    },
    {
     "name": "stdout",
     "output_type": "stream",
     "text": [
      "Buuu que mal [0. 1.]\n"
     ]
    },
    {
     "name": "stderr",
     "output_type": "stream",
     "text": [
      "/Library/Frameworks/Python.framework/Versions/3.10/lib/python3.10/site-packages/sklearn/base.py:493: UserWarning: X does not have valid feature names, but StandardScaler was fitted with feature names\n",
      "  warnings.warn(\n",
      "/Library/Frameworks/Python.framework/Versions/3.10/lib/python3.10/site-packages/sklearn/base.py:493: UserWarning: X does not have valid feature names, but StandardScaler was fitted with feature names\n",
      "  warnings.warn(\n"
     ]
    },
    {
     "name": "stdout",
     "output_type": "stream",
     "text": [
      "Buuu que mal [0. 1.]\n"
     ]
    },
    {
     "name": "stderr",
     "output_type": "stream",
     "text": [
      "/Library/Frameworks/Python.framework/Versions/3.10/lib/python3.10/site-packages/sklearn/base.py:493: UserWarning: X does not have valid feature names, but StandardScaler was fitted with feature names\n",
      "  warnings.warn(\n",
      "/Library/Frameworks/Python.framework/Versions/3.10/lib/python3.10/site-packages/sklearn/base.py:493: UserWarning: X does not have valid feature names, but StandardScaler was fitted with feature names\n",
      "  warnings.warn(\n"
     ]
    },
    {
     "name": "stdout",
     "output_type": "stream",
     "text": [
      "Buuu que mal [0. 1.]\n"
     ]
    },
    {
     "name": "stderr",
     "output_type": "stream",
     "text": [
      "/Library/Frameworks/Python.framework/Versions/3.10/lib/python3.10/site-packages/sklearn/base.py:493: UserWarning: X does not have valid feature names, but StandardScaler was fitted with feature names\n",
      "  warnings.warn(\n",
      "/Library/Frameworks/Python.framework/Versions/3.10/lib/python3.10/site-packages/sklearn/base.py:493: UserWarning: X does not have valid feature names, but StandardScaler was fitted with feature names\n",
      "  warnings.warn(\n"
     ]
    },
    {
     "name": "stdout",
     "output_type": "stream",
     "text": [
      "Buuu que mal [0. 1.]\n"
     ]
    },
    {
     "name": "stderr",
     "output_type": "stream",
     "text": [
      "/Library/Frameworks/Python.framework/Versions/3.10/lib/python3.10/site-packages/sklearn/base.py:493: UserWarning: X does not have valid feature names, but StandardScaler was fitted with feature names\n",
      "  warnings.warn(\n",
      "/Library/Frameworks/Python.framework/Versions/3.10/lib/python3.10/site-packages/sklearn/base.py:493: UserWarning: X does not have valid feature names, but StandardScaler was fitted with feature names\n",
      "  warnings.warn(\n"
     ]
    },
    {
     "name": "stdout",
     "output_type": "stream",
     "text": [
      "Buuu que mal [0. 1.]\n"
     ]
    },
    {
     "name": "stderr",
     "output_type": "stream",
     "text": [
      "/Library/Frameworks/Python.framework/Versions/3.10/lib/python3.10/site-packages/sklearn/base.py:493: UserWarning: X does not have valid feature names, but StandardScaler was fitted with feature names\n",
      "  warnings.warn(\n",
      "/Library/Frameworks/Python.framework/Versions/3.10/lib/python3.10/site-packages/sklearn/base.py:493: UserWarning: X does not have valid feature names, but StandardScaler was fitted with feature names\n",
      "  warnings.warn(\n"
     ]
    },
    {
     "name": "stdout",
     "output_type": "stream",
     "text": [
      "Buuu que mal [0. 1.]\n"
     ]
    },
    {
     "name": "stderr",
     "output_type": "stream",
     "text": [
      "/Library/Frameworks/Python.framework/Versions/3.10/lib/python3.10/site-packages/sklearn/base.py:493: UserWarning: X does not have valid feature names, but StandardScaler was fitted with feature names\n",
      "  warnings.warn(\n",
      "/Library/Frameworks/Python.framework/Versions/3.10/lib/python3.10/site-packages/sklearn/base.py:493: UserWarning: X does not have valid feature names, but StandardScaler was fitted with feature names\n",
      "  warnings.warn(\n"
     ]
    },
    {
     "name": "stdout",
     "output_type": "stream",
     "text": [
      "Buuu que mal [0. 1.]\n"
     ]
    },
    {
     "name": "stderr",
     "output_type": "stream",
     "text": [
      "/Library/Frameworks/Python.framework/Versions/3.10/lib/python3.10/site-packages/sklearn/base.py:493: UserWarning: X does not have valid feature names, but StandardScaler was fitted with feature names\n",
      "  warnings.warn(\n",
      "/Library/Frameworks/Python.framework/Versions/3.10/lib/python3.10/site-packages/sklearn/base.py:493: UserWarning: X does not have valid feature names, but StandardScaler was fitted with feature names\n",
      "  warnings.warn(\n"
     ]
    },
    {
     "name": "stdout",
     "output_type": "stream",
     "text": [
      "Buuu que mal [0. 1.]\n"
     ]
    },
    {
     "name": "stderr",
     "output_type": "stream",
     "text": [
      "/Library/Frameworks/Python.framework/Versions/3.10/lib/python3.10/site-packages/sklearn/base.py:493: UserWarning: X does not have valid feature names, but StandardScaler was fitted with feature names\n",
      "  warnings.warn(\n",
      "/Library/Frameworks/Python.framework/Versions/3.10/lib/python3.10/site-packages/sklearn/base.py:493: UserWarning: X does not have valid feature names, but StandardScaler was fitted with feature names\n",
      "  warnings.warn(\n"
     ]
    },
    {
     "name": "stdout",
     "output_type": "stream",
     "text": [
      "Buuu que mal [0. 1.]\n"
     ]
    },
    {
     "name": "stderr",
     "output_type": "stream",
     "text": [
      "/Library/Frameworks/Python.framework/Versions/3.10/lib/python3.10/site-packages/sklearn/base.py:493: UserWarning: X does not have valid feature names, but StandardScaler was fitted with feature names\n",
      "  warnings.warn(\n",
      "/Library/Frameworks/Python.framework/Versions/3.10/lib/python3.10/site-packages/sklearn/base.py:493: UserWarning: X does not have valid feature names, but StandardScaler was fitted with feature names\n",
      "  warnings.warn(\n"
     ]
    },
    {
     "name": "stdout",
     "output_type": "stream",
     "text": [
      "Buuu que mal [0. 1.]\n"
     ]
    },
    {
     "name": "stderr",
     "output_type": "stream",
     "text": [
      "/Library/Frameworks/Python.framework/Versions/3.10/lib/python3.10/site-packages/sklearn/base.py:493: UserWarning: X does not have valid feature names, but StandardScaler was fitted with feature names\n",
      "  warnings.warn(\n",
      "/Library/Frameworks/Python.framework/Versions/3.10/lib/python3.10/site-packages/sklearn/base.py:493: UserWarning: X does not have valid feature names, but StandardScaler was fitted with feature names\n",
      "  warnings.warn(\n"
     ]
    },
    {
     "name": "stdout",
     "output_type": "stream",
     "text": [
      "Buuu que mal [0. 1.]\n"
     ]
    },
    {
     "name": "stderr",
     "output_type": "stream",
     "text": [
      "/Library/Frameworks/Python.framework/Versions/3.10/lib/python3.10/site-packages/sklearn/base.py:493: UserWarning: X does not have valid feature names, but StandardScaler was fitted with feature names\n",
      "  warnings.warn(\n",
      "/Library/Frameworks/Python.framework/Versions/3.10/lib/python3.10/site-packages/sklearn/base.py:493: UserWarning: X does not have valid feature names, but StandardScaler was fitted with feature names\n",
      "  warnings.warn(\n"
     ]
    },
    {
     "name": "stdout",
     "output_type": "stream",
     "text": [
      "Buuu que mal [0. 1.]\n"
     ]
    },
    {
     "name": "stderr",
     "output_type": "stream",
     "text": [
      "/Library/Frameworks/Python.framework/Versions/3.10/lib/python3.10/site-packages/sklearn/base.py:493: UserWarning: X does not have valid feature names, but StandardScaler was fitted with feature names\n",
      "  warnings.warn(\n",
      "/Library/Frameworks/Python.framework/Versions/3.10/lib/python3.10/site-packages/sklearn/base.py:493: UserWarning: X does not have valid feature names, but StandardScaler was fitted with feature names\n",
      "  warnings.warn(\n"
     ]
    },
    {
     "name": "stdout",
     "output_type": "stream",
     "text": [
      "Buuu que mal [0. 1.]\n"
     ]
    },
    {
     "name": "stderr",
     "output_type": "stream",
     "text": [
      "/Library/Frameworks/Python.framework/Versions/3.10/lib/python3.10/site-packages/sklearn/base.py:493: UserWarning: X does not have valid feature names, but StandardScaler was fitted with feature names\n",
      "  warnings.warn(\n",
      "/Library/Frameworks/Python.framework/Versions/3.10/lib/python3.10/site-packages/sklearn/base.py:493: UserWarning: X does not have valid feature names, but StandardScaler was fitted with feature names\n",
      "  warnings.warn(\n"
     ]
    },
    {
     "name": "stdout",
     "output_type": "stream",
     "text": [
      "Buuu que mal [0. 1.]\n"
     ]
    },
    {
     "name": "stderr",
     "output_type": "stream",
     "text": [
      "/Library/Frameworks/Python.framework/Versions/3.10/lib/python3.10/site-packages/sklearn/base.py:493: UserWarning: X does not have valid feature names, but StandardScaler was fitted with feature names\n",
      "  warnings.warn(\n",
      "/Library/Frameworks/Python.framework/Versions/3.10/lib/python3.10/site-packages/sklearn/base.py:493: UserWarning: X does not have valid feature names, but StandardScaler was fitted with feature names\n",
      "  warnings.warn(\n"
     ]
    },
    {
     "name": "stdout",
     "output_type": "stream",
     "text": [
      "Buuu que mal [0. 1.]\n"
     ]
    },
    {
     "name": "stderr",
     "output_type": "stream",
     "text": [
      "/Library/Frameworks/Python.framework/Versions/3.10/lib/python3.10/site-packages/sklearn/base.py:493: UserWarning: X does not have valid feature names, but StandardScaler was fitted with feature names\n",
      "  warnings.warn(\n",
      "/Library/Frameworks/Python.framework/Versions/3.10/lib/python3.10/site-packages/sklearn/base.py:493: UserWarning: X does not have valid feature names, but StandardScaler was fitted with feature names\n",
      "  warnings.warn(\n"
     ]
    },
    {
     "name": "stdout",
     "output_type": "stream",
     "text": [
      "Buuu que mal [0. 1.]\n"
     ]
    },
    {
     "name": "stderr",
     "output_type": "stream",
     "text": [
      "/Library/Frameworks/Python.framework/Versions/3.10/lib/python3.10/site-packages/sklearn/base.py:493: UserWarning: X does not have valid feature names, but StandardScaler was fitted with feature names\n",
      "  warnings.warn(\n",
      "/Library/Frameworks/Python.framework/Versions/3.10/lib/python3.10/site-packages/sklearn/base.py:493: UserWarning: X does not have valid feature names, but StandardScaler was fitted with feature names\n",
      "  warnings.warn(\n"
     ]
    },
    {
     "name": "stdout",
     "output_type": "stream",
     "text": [
      "Buuu que mal [0. 1.]\n"
     ]
    },
    {
     "name": "stderr",
     "output_type": "stream",
     "text": [
      "/Library/Frameworks/Python.framework/Versions/3.10/lib/python3.10/site-packages/sklearn/base.py:493: UserWarning: X does not have valid feature names, but StandardScaler was fitted with feature names\n",
      "  warnings.warn(\n",
      "/Library/Frameworks/Python.framework/Versions/3.10/lib/python3.10/site-packages/sklearn/base.py:493: UserWarning: X does not have valid feature names, but StandardScaler was fitted with feature names\n",
      "  warnings.warn(\n"
     ]
    },
    {
     "name": "stdout",
     "output_type": "stream",
     "text": [
      "Buuu que mal [0. 1.]\n"
     ]
    },
    {
     "name": "stderr",
     "output_type": "stream",
     "text": [
      "/Library/Frameworks/Python.framework/Versions/3.10/lib/python3.10/site-packages/sklearn/base.py:493: UserWarning: X does not have valid feature names, but StandardScaler was fitted with feature names\n",
      "  warnings.warn(\n",
      "/Library/Frameworks/Python.framework/Versions/3.10/lib/python3.10/site-packages/sklearn/base.py:493: UserWarning: X does not have valid feature names, but StandardScaler was fitted with feature names\n",
      "  warnings.warn(\n"
     ]
    },
    {
     "name": "stdout",
     "output_type": "stream",
     "text": [
      "Buuu que mal [0. 1.]\n"
     ]
    },
    {
     "name": "stderr",
     "output_type": "stream",
     "text": [
      "/Library/Frameworks/Python.framework/Versions/3.10/lib/python3.10/site-packages/sklearn/base.py:493: UserWarning: X does not have valid feature names, but StandardScaler was fitted with feature names\n",
      "  warnings.warn(\n",
      "/Library/Frameworks/Python.framework/Versions/3.10/lib/python3.10/site-packages/sklearn/base.py:493: UserWarning: X does not have valid feature names, but StandardScaler was fitted with feature names\n",
      "  warnings.warn(\n"
     ]
    },
    {
     "name": "stdout",
     "output_type": "stream",
     "text": [
      "Buuu que mal [0. 1.]\n"
     ]
    },
    {
     "name": "stderr",
     "output_type": "stream",
     "text": [
      "/Library/Frameworks/Python.framework/Versions/3.10/lib/python3.10/site-packages/sklearn/base.py:493: UserWarning: X does not have valid feature names, but StandardScaler was fitted with feature names\n",
      "  warnings.warn(\n",
      "/Library/Frameworks/Python.framework/Versions/3.10/lib/python3.10/site-packages/sklearn/base.py:493: UserWarning: X does not have valid feature names, but StandardScaler was fitted with feature names\n",
      "  warnings.warn(\n"
     ]
    },
    {
     "name": "stdout",
     "output_type": "stream",
     "text": [
      "Buuu que mal [0. 1.]\n"
     ]
    },
    {
     "name": "stderr",
     "output_type": "stream",
     "text": [
      "/Library/Frameworks/Python.framework/Versions/3.10/lib/python3.10/site-packages/sklearn/base.py:493: UserWarning: X does not have valid feature names, but StandardScaler was fitted with feature names\n",
      "  warnings.warn(\n",
      "/Library/Frameworks/Python.framework/Versions/3.10/lib/python3.10/site-packages/sklearn/base.py:493: UserWarning: X does not have valid feature names, but StandardScaler was fitted with feature names\n",
      "  warnings.warn(\n"
     ]
    },
    {
     "name": "stdout",
     "output_type": "stream",
     "text": [
      "Buuu que mal [0. 1.]\n"
     ]
    },
    {
     "name": "stderr",
     "output_type": "stream",
     "text": [
      "/Library/Frameworks/Python.framework/Versions/3.10/lib/python3.10/site-packages/sklearn/base.py:493: UserWarning: X does not have valid feature names, but StandardScaler was fitted with feature names\n",
      "  warnings.warn(\n",
      "/Library/Frameworks/Python.framework/Versions/3.10/lib/python3.10/site-packages/sklearn/base.py:493: UserWarning: X does not have valid feature names, but StandardScaler was fitted with feature names\n",
      "  warnings.warn(\n"
     ]
    },
    {
     "name": "stdout",
     "output_type": "stream",
     "text": [
      "Buuu que mal [0. 1.]\n"
     ]
    },
    {
     "name": "stderr",
     "output_type": "stream",
     "text": [
      "/Library/Frameworks/Python.framework/Versions/3.10/lib/python3.10/site-packages/sklearn/base.py:493: UserWarning: X does not have valid feature names, but StandardScaler was fitted with feature names\n",
      "  warnings.warn(\n",
      "/Library/Frameworks/Python.framework/Versions/3.10/lib/python3.10/site-packages/sklearn/base.py:493: UserWarning: X does not have valid feature names, but StandardScaler was fitted with feature names\n",
      "  warnings.warn(\n"
     ]
    },
    {
     "name": "stdout",
     "output_type": "stream",
     "text": [
      "Buuu que mal [0. 1.]\n"
     ]
    },
    {
     "name": "stderr",
     "output_type": "stream",
     "text": [
      "/Library/Frameworks/Python.framework/Versions/3.10/lib/python3.10/site-packages/sklearn/base.py:493: UserWarning: X does not have valid feature names, but StandardScaler was fitted with feature names\n",
      "  warnings.warn(\n",
      "/Library/Frameworks/Python.framework/Versions/3.10/lib/python3.10/site-packages/sklearn/base.py:493: UserWarning: X does not have valid feature names, but StandardScaler was fitted with feature names\n",
      "  warnings.warn(\n"
     ]
    },
    {
     "name": "stdout",
     "output_type": "stream",
     "text": [
      "Buuu que mal [0. 1.]\n"
     ]
    },
    {
     "name": "stderr",
     "output_type": "stream",
     "text": [
      "/Library/Frameworks/Python.framework/Versions/3.10/lib/python3.10/site-packages/sklearn/base.py:493: UserWarning: X does not have valid feature names, but StandardScaler was fitted with feature names\n",
      "  warnings.warn(\n",
      "/Library/Frameworks/Python.framework/Versions/3.10/lib/python3.10/site-packages/sklearn/base.py:493: UserWarning: X does not have valid feature names, but StandardScaler was fitted with feature names\n",
      "  warnings.warn(\n"
     ]
    },
    {
     "name": "stdout",
     "output_type": "stream",
     "text": [
      "Buuu que mal [0. 1.]\n"
     ]
    },
    {
     "name": "stderr",
     "output_type": "stream",
     "text": [
      "/Library/Frameworks/Python.framework/Versions/3.10/lib/python3.10/site-packages/sklearn/base.py:493: UserWarning: X does not have valid feature names, but StandardScaler was fitted with feature names\n",
      "  warnings.warn(\n",
      "/Library/Frameworks/Python.framework/Versions/3.10/lib/python3.10/site-packages/sklearn/base.py:493: UserWarning: X does not have valid feature names, but StandardScaler was fitted with feature names\n",
      "  warnings.warn(\n"
     ]
    },
    {
     "name": "stdout",
     "output_type": "stream",
     "text": [
      "Buuu que mal [0. 1.]\n"
     ]
    },
    {
     "ename": "",
     "evalue": "",
     "output_type": "error",
     "traceback": [
      "\u001b[1;31mEl kernel se bloqueó al ejecutar código en la celda actual o en una celda anterior. \n",
      "\u001b[1;31mRevise el código de las celdas para identificar una posible causa del error. \n",
      "\u001b[1;31mHaga clic <a href='https://aka.ms/vscodeJupyterKernelCrash'>aquí</a> para obtener más información. \n",
      "\u001b[1;31mVea Jupyter <a href='command:jupyter.viewOutput'>log</a> para obtener más detalles."
     ]
    }
   ],
   "source": [
    "cap = cv2.VideoCapture(0)\n",
    "# Initiate holistic model\n",
    "with mp_holistic.Holistic(min_detection_confidence=0.5, min_tracking_confidence=0.5) as holistic:\n",
    "    \n",
    "    while cap.isOpened():\n",
    "        ret, frame = cap.read()\n",
    "        \n",
    "        # Recolor Feed\n",
    "        image = cv2.cvtColor(frame, cv2.COLOR_BGR2RGB)\n",
    "        image.flags.writeable = False        \n",
    "        \n",
    "        # Make Detections\n",
    "        results = holistic.process(image)\n",
    "        # print(results.face_landmarks)\n",
    "        \n",
    "        # face_landmarks, pose_landmarks, left_hand_landmarks, right_hand_landmarks\n",
    "        \n",
    "        # Recolor image back to BGR for rendering\n",
    "        image.flags.writeable = True   \n",
    "        image = cv2.cvtColor(image, cv2.COLOR_RGB2BGR)\n",
    "        \n",
    "        # 1. Draw face landmarks\n",
    "        #mp_drawing.draw_landmarks(image, results.face_landmarks, mp_holistic.FACEMESH_TESSELATION, \n",
    "         #                        mp_drawing.DrawingSpec(color=(80,110,10), thickness=1, circle_radius=1),\n",
    "          #                       mp_drawing.DrawingSpec(color=(80,256,121), thickness=1, circle_radius=1)\n",
    "           #                      )\n",
    "        \n",
    "        # 2. Right hand\n",
    "        mp_drawing.draw_landmarks(image, results.right_hand_landmarks, mp_holistic.HAND_CONNECTIONS, \n",
    "                                 mp_drawing.DrawingSpec(color=(80,22,10), thickness=2, circle_radius=4),\n",
    "                                 mp_drawing.DrawingSpec(color=(80,44,121), thickness=2, circle_radius=2)\n",
    "                                 )\n",
    "\n",
    "        # 3. Left Hand\n",
    "        mp_drawing.draw_landmarks(image, results.left_hand_landmarks, mp_holistic.HAND_CONNECTIONS, \n",
    "                                 mp_drawing.DrawingSpec(color=(121,22,76), thickness=2, circle_radius=4),\n",
    "                                 mp_drawing.DrawingSpec(color=(121,44,250), thickness=2, circle_radius=2)\n",
    "                                 )\n",
    "\n",
    "        # 4. Pose Detections\n",
    "        mp_drawing.draw_landmarks(image, results.pose_landmarks, mp_holistic.POSE_CONNECTIONS, \n",
    "                                 mp_drawing.DrawingSpec(color=(245,117,66), thickness=2, circle_radius=4),\n",
    "                                 mp_drawing.DrawingSpec(color=(245,66,230), thickness=2, circle_radius=2)\n",
    "                                 )\n",
    "        # Export coordinates\n",
    "        try:\n",
    "            # Extract Pose landmarks\n",
    "            pose = results.pose_landmarks.landmark\n",
    "            pose_row = list(np.array([[landmark.x, landmark.y, landmark.z, landmark.visibility] for landmark in pose]).flatten())\n",
    "            \n",
    "            # Extract Face landmarks\n",
    "            face = results.face_landmarks.landmark\n",
    "            face_row = list(np.array([[landmark.x, landmark.y, landmark.z, landmark.visibility] for landmark in face]).flatten())\n",
    "            \n",
    "            # Concate rows\n",
    "            row = pose_row+face_row\n",
    "            \n",
    "#             # Append class name \n",
    "#             row.insert(0, class_name)\n",
    "            \n",
    "#             # Export to CSV\n",
    "#             with open('coords.csv', mode='a', newline='') as f:\n",
    "#                 csv_writer = csv.writer(f, delimiter=',', quotechar='\"', quoting=csv.QUOTE_MINIMAL)\n",
    "#                 csv_writer.writerow(row) \n",
    "\n",
    "            # Make Detections\n",
    "            X = pd.DataFrame([row])\n",
    "            body_language_class = model.predict(X)[0]\n",
    "            body_language_prob = model.predict_proba(X)[0]\n",
    "            print(body_language_class, body_language_prob)\n",
    "            \n",
    "            # Grab ear coords\n",
    "            coords = tuple(np.multiply(\n",
    "                            np.array(\n",
    "                                (results.pose_landmarks.landmark[mp_holistic.PoseLandmark.LEFT_EAR].x, \n",
    "                                 results.pose_landmarks.landmark[mp_holistic.PoseLandmark.LEFT_EAR].y))\n",
    "                        , [640,480]).astype(int))\n",
    "            \n",
    "            cv2.rectangle(image, \n",
    "                          (coords[0], coords[1]+5), \n",
    "                          (coords[0]+len(body_language_class)*20, coords[1]-30), \n",
    "                          (245, 117, 16), -1)\n",
    "            cv2.putText(image, body_language_class, coords, \n",
    "                        cv2.FONT_HERSHEY_SIMPLEX, 1, (255, 255, 255), 2, cv2.LINE_AA)\n",
    "            \n",
    "            # Get status box\n",
    "            cv2.rectangle(image, (0,0), (250, 60), (245, 117, 16), -1)\n",
    "            \n",
    "            # Display Class\n",
    "            cv2.putText(image, ''\n",
    "                        , (95,12), cv2.FONT_HERSHEY_SIMPLEX, 0.5, (0, 0, 0), 1, cv2.LINE_AA)\n",
    "            cv2.putText(image, body_language_class.split(' ')[0]\n",
    "                        , (90,40), cv2.FONT_HERSHEY_SIMPLEX, 1, (255, 255, 255), 2, cv2.LINE_AA)\n",
    "            \n",
    "            # Display Probability\n",
    "            cv2.putText(image, ''\n",
    "                        , (15,12), cv2.FONT_HERSHEY_SIMPLEX, 0.5, (0, 0, 0), 1, cv2.LINE_AA)\n",
    "            cv2.putText(image, str(round(body_language_prob[np.argmax(body_language_prob)],2))\n",
    "                        , (10,40), cv2.FONT_HERSHEY_SIMPLEX, 1, (255, 255, 255), 2, cv2.LINE_AA)\n",
    "            \n",
    "        except:\n",
    "            pass\n",
    "                        \n",
    "        cv2.imshow('Rosa Webcam', image)\n",
    "\n",
    "        if cv2.waitKey(10) & 0xFF == ord('q'):\n",
    "            break\n",
    "\n",
    "cap.release()\n",
    "cv2.destroyAllWindows()"
   ]
  }
 ],
 "metadata": {
  "kernelspec": {
   "display_name": "Python 3",
   "language": "python",
   "name": "python3"
  },
  "language_info": {
   "codemirror_mode": {
    "name": "ipython",
    "version": 3
   },
   "file_extension": ".py",
   "mimetype": "text/x-python",
   "name": "python",
   "nbconvert_exporter": "python",
   "pygments_lexer": "ipython3",
   "version": "3.10.4"
  }
 },
 "nbformat": 4,
 "nbformat_minor": 5
}
