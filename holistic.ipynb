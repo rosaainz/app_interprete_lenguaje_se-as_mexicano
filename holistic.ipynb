{
 "cells": [
  {
   "cell_type": "code",
   "execution_count": 1,
   "id": "beede387-5d74-4716-ae29-ed9c38f2e637",
   "metadata": {
    "tags": []
   },
   "outputs": [
    {
     "name": "stdout",
     "output_type": "stream",
     "text": [
      "^C\n"
     ]
    }
   ],
   "source": [
    "!pip install mediapipe opencv-python pandas scikit-learn"
   ]
  },
  {
   "cell_type": "code",
<<<<<<< HEAD
   "execution_count": 1,
   "id": "2aee16fd",
   "metadata": {},
=======
   "execution_count": 3,
   "id": "34a8f00b-3064-4658-964a-50b545f18d22",
   "metadata": {
    "tags": []
   },
   "outputs": [
    {
     "name": "stdout",
     "output_type": "stream",
     "text": [
      "Requirement already satisfied: scikit-learn in c:\\users\\jpc\\appdata\\local\\programs\\python\\python310\\lib\\site-packages (1.4.2)\n",
      "Requirement already satisfied: scipy in c:\\users\\jpc\\appdata\\local\\programs\\python\\python310\\lib\\site-packages (1.13.0)\n",
      "Requirement already satisfied: matplotlib in c:\\users\\jpc\\appdata\\local\\programs\\python\\python310\\lib\\site-packages (3.8.4)\n",
      "Requirement already satisfied: numpy>=1.19.5 in c:\\users\\jpc\\appdata\\local\\programs\\python\\python310\\lib\\site-packages (from scikit-learn) (1.24.2)\n",
      "Requirement already satisfied: joblib>=1.2.0 in c:\\users\\jpc\\appdata\\local\\programs\\python\\python310\\lib\\site-packages (from scikit-learn) (1.2.0)\n",
      "Requirement already satisfied: threadpoolctl>=2.0.0 in c:\\users\\jpc\\appdata\\local\\programs\\python\\python310\\lib\\site-packages (from scikit-learn) (3.1.0)\n",
      "Requirement already satisfied: contourpy>=1.0.1 in c:\\users\\jpc\\appdata\\local\\programs\\python\\python310\\lib\\site-packages (from matplotlib) (1.0.7)\n",
      "Requirement already satisfied: cycler>=0.10 in c:\\users\\jpc\\appdata\\local\\programs\\python\\python310\\lib\\site-packages (from matplotlib) (0.11.0)\n",
      "Requirement already satisfied: fonttools>=4.22.0 in c:\\users\\jpc\\appdata\\local\\programs\\python\\python310\\lib\\site-packages (from matplotlib) (4.38.0)\n",
      "Requirement already satisfied: kiwisolver>=1.3.1 in c:\\users\\jpc\\appdata\\local\\programs\\python\\python310\\lib\\site-packages (from matplotlib) (1.4.4)\n",
      "Requirement already satisfied: packaging>=20.0 in c:\\users\\jpc\\appdata\\local\\programs\\python\\python310\\lib\\site-packages (from matplotlib) (23.0)\n",
      "Requirement already satisfied: pillow>=8 in c:\\users\\jpc\\appdata\\local\\programs\\python\\python310\\lib\\site-packages (from matplotlib) (9.4.0)\n",
      "Requirement already satisfied: pyparsing>=2.3.1 in c:\\users\\jpc\\appdata\\local\\programs\\python\\python310\\lib\\site-packages (from matplotlib) (3.0.9)\n",
      "Requirement already satisfied: python-dateutil>=2.7 in c:\\users\\jpc\\appdata\\local\\programs\\python\\python310\\lib\\site-packages (from matplotlib) (2.8.2)\n",
      "Requirement already satisfied: six>=1.5 in c:\\users\\jpc\\appdata\\local\\programs\\python\\python310\\lib\\site-packages (from python-dateutil>=2.7->matplotlib) (1.16.0)\n",
      "Note: you may need to restart the kernel to use updated packages.\n"
     ]
    }
   ],
   "source": [
    "pip install -U scikit-learn scipy matplotlib"
   ]
  },
  {
   "cell_type": "code",
   "execution_count": 1,
   "id": "e5887fa9-8d54-48d0-b2b2-47816848e130",
   "metadata": {
    "metadata": {},
    "tags": []
   },
>>>>>>> 28f21dd (added time sign data and models)
   "outputs": [],
   "source": [
    "import mediapipe as mp\n",
    "import cv2 "
   ]
  },
  {
   "cell_type": "code",
   "execution_count": 2,
<<<<<<< HEAD
   "id": "61f20f03",
   "metadata": {},
=======
   "id": "85727aac-0d96-4202-b994-e457f016d0dd",
   "metadata": {
    "metadata": {},
    "tags": []
   },
>>>>>>> 28f21dd (added time sign data and models)
   "outputs": [],
   "source": [
    "# Soluciones de mediapipe holistic y drawing\n",
    "mp_drawing = mp.solutions.drawing_utils \n",
    "mp_holistic = mp.solutions.holistic "
   ]
  },
  {
   "cell_type": "markdown",
   "id": "32ca9a5a-1504-4f27-bca0-bb729ba66cc5",
   "metadata": {
    "tags": []
   },
   "source": [
    "## 1. Dibujar landmarks con mediapipe "
   ]
  },
  {
   "cell_type": "code",
<<<<<<< HEAD
   "execution_count": 3,
   "id": "34401ec4",
   "metadata": {},
   "outputs": [
    {
     "name": "stderr",
     "output_type": "stream",
     "text": [
      "INFO: Created TensorFlow Lite XNNPACK delegate for CPU.\n"
     ]
    }
   ],
=======
   "execution_count": 79,
   "id": "dcf93238-508d-42e5-baff-cac5f65013b5",
   "metadata": {
    "metadata": {},
    "tags": []
   },
   "outputs": [],
>>>>>>> 28f21dd (added time sign data and models)
   "source": [
    "# Inicializa la captura de video desde la webcam\n",
    "cap = cv2.VideoCapture(0)\n",
    "\n",
    "# Inicia el modelo Holistic de mediapipe para la detección de landmarks\n",
    "# Los argumentos  min_detection_confidence y min_tracking_confidence  establecen los umbrales de confianza mínimos requeridos \n",
    "#para la detección y el seguimiento de landmarks en una imagen.\n",
    "#min_detection_confidence: Este argumento establece el umbral de confianza mínimo necesario para que el modelo Holistic detecte un landmark en la imagen. Un valor más alto significa que el modelo solo detectará landmarks con una confianza muy alta, mientras que un valor más bajo permitirá detectar landmarks con una confianza más baja.\n",
    "#min_tracking_confidence: Este argumento establece el umbral de confianza mínimo para el seguimiento de landmarks en imágenes sucesivas. Una vez que un landmark ha sido detectado en una imagen con una confianza superior a este umbral, el modelo intentará seguir ese landmark en imágenes posteriores. Un valor más alto aquí significa que el seguimiento se realizará solo para landmarks muy confiables, mientras que un valor más bajo permitirá un seguimiento incluso para landmarks menos confiables.\n",
    "# Factore: buena iluminación, fondo simple, si se requiere precision : usar valores mas alto\n",
    "# Un valor muy alto de confianza puede conducir a una menor cantidad de landmarks detectados y seguidos, lo que puede ser aceptable en algunos casos pero limitante en otros donde se necesite información más detallada.\n",
    "#min_detection_confidence: deteccion\n",
    "#min_tracking_confidence: seguimiento\n",
    "with mp_holistic.Holistic(min_detection_confidence=0.7, min_tracking_confidence=0.6) as holistic: #probar: min_detection_confidence=0.7-0.9, min_tracking_confidence=0.5-0.8   0.5 y 0.8\n",
    "    while cap.isOpened():  # Bucle principal para procesar cada fotograma de video\n",
    "        ret, frame = cap.read()  # Lee un fotograma de la webcam\n",
    "        \n",
    "        # Recolor Feed\n",
    "        # Convierte el fotograma de BGR a RGB para el procesamiento de mediapipe\n",
    "        image = cv2.cvtColor(frame, cv2.COLOR_BGR2RGB)\n",
    "        image.flags.writeable = False   # Marca la imagen como no modificable para marcar los landmarks  \n",
    "        \n",
    "        # Make Detections\n",
    "        # Procesa la imagen utilizando el modelo Holistic para detectar landmarks\n",
    "        results = holistic.process(image)\n",
    "        # print(results.face_landmarks) # face_landmarks, pose_landmarks, left_hand_landmarks, right_hand_landmarks\n",
    "        \n",
    "        # Recolor image back to BGR for rendering\n",
    "        image.flags.writeable = True   \n",
    "        image = cv2.cvtColor(image, cv2.COLOR_RGB2BGR)\n",
    "        \n",
    "        # 1. Draw face landmarks\n",
    "        mp_drawing.draw_landmarks(image, results.face_landmarks, mp_holistic.FACEMESH_TESSELATION, \n",
    "                                 mp_drawing.DrawingSpec(color=(80,110,10), thickness=1, circle_radius=1),\n",
    "                                 mp_drawing.DrawingSpec(color=(80,256,121), thickness=1, circle_radius=1)\n",
    "                                 )\n",
    "        \n",
    "        # 2. Right hand\n",
    "        mp_drawing.draw_landmarks(image, results.right_hand_landmarks, mp_holistic.HAND_CONNECTIONS, \n",
    "                                 mp_drawing.DrawingSpec(color=(80,22,10), thickness=2, circle_radius=4),\n",
    "                                 mp_drawing.DrawingSpec(color=(80,44,121), thickness=2, circle_radius=2)\n",
    "                                 )\n",
    "\n",
    "        # 3. Left Hand\n",
    "        mp_drawing.draw_landmarks(image, results.left_hand_landmarks, mp_holistic.HAND_CONNECTIONS, \n",
    "                                 mp_drawing.DrawingSpec(color=(121,22,76), thickness=2, circle_radius=4),\n",
    "                                 mp_drawing.DrawingSpec(color=(121,44,250), thickness=2, circle_radius=2)\n",
    "                                 )\n",
    "\n",
    "        # 4. Pose Detections\n",
    "        mp_drawing.draw_landmarks(image, results.pose_landmarks, mp_holistic.POSE_CONNECTIONS, \n",
    "                                 mp_drawing.DrawingSpec(color=(245,117,66), thickness=2, circle_radius=4),\n",
    "                                 mp_drawing.DrawingSpec(color=(245,66,230), thickness=2, circle_radius=2)\n",
    "                                 )\n",
    "                        \n",
    "        # Muestra la imagen con los landmarks dibujados en una ventana\n",
    "        cv2.imshow('Rosa Webcam', image)\n",
    "\n",
<<<<<<< HEAD
    "        # ESpera la tecla q para salir del bucle\n",
=======
>>>>>>> 28f21dd (added time sign data and models)
    "        if cv2.waitKey(10) & 0xFF == ord('q'):\n",
    "            break\n",
    "\n",
    "cap.release()\n",
<<<<<<< HEAD
    "cv2.destroyAllWindows()\n"
=======
    "cv2.destroyAllWindows()"
>>>>>>> 28f21dd (added time sign data and models)
   ]
  },
  {
   "cell_type": "code",
<<<<<<< HEAD
   "execution_count": 4,
   "metadata": {},
   "outputs": [
    {
     "data": {
      "text/plain": [
       "mediapipe.python.solution_base.SolutionOutputs"
      ]
     },
     "execution_count": 4,
     "metadata": {},
     "output_type": "execute_result"
    }
   ],
   "source": [
    "results"
   ]
  },
  {
   "cell_type": "code",
   "execution_count": 5,
   "metadata": {},
=======
   "execution_count": 80,
   "id": "6917cf0a-613c-4e2e-881f-94c008e7441b",
   "metadata": {
    "metadata": {}
   },
>>>>>>> 28f21dd (added time sign data and models)
   "outputs": [
    {
     "data": {
      "text/plain": [
       "landmark {\n",
<<<<<<< HEAD
       "  x: 0.53047717\n",
       "  y: 0.4377123\n",
       "  z: -0.9427716\n",
       "  visibility: 0.9997985\n",
       "}\n",
       "landmark {\n",
       "  x: 0.56586057\n",
       "  y: 0.34645718\n",
       "  z: -0.9410329\n",
       "  visibility: 0.999623\n",
       "}\n",
       "landmark {\n",
       "  x: 0.5893166\n",
       "  y: 0.3416793\n",
       "  z: -0.9410146\n",
       "  visibility: 0.9995466\n",
       "}\n",
       "landmark {\n",
       "  x: 0.60902035\n",
       "  y: 0.33889732\n",
       "  z: -0.94125986\n",
       "  visibility: 0.9996536\n",
       "}\n",
       "landmark {\n",
       "  x: 0.48577467\n",
       "  y: 0.36310932\n",
       "  z: -0.9125844\n",
       "  visibility: 0.99951124\n",
       "}\n",
       "landmark {\n",
       "  x: 0.46448556\n",
       "  y: 0.36913523\n",
       "  z: -0.9116112\n",
       "  visibility: 0.9992621\n",
       "}\n",
       "landmark {\n",
       "  x: 0.44981986\n",
       "  y: 0.3749527\n",
       "  z: -0.9116389\n",
       "  visibility: 0.9992534\n",
       "}\n",
       "landmark {\n",
       "  x: 0.6505791\n",
       "  y: 0.34688863\n",
       "  z: -0.6991975\n",
       "  visibility: 0.9996483\n",
       "}\n",
       "landmark {\n",
       "  x: 0.4266978\n",
       "  y: 0.40434211\n",
       "  z: -0.5364181\n",
       "  visibility: 0.99902624\n",
       "}\n",
       "landmark {\n",
       "  x: 0.5846907\n",
       "  y: 0.5269141\n",
       "  z: -0.83626777\n",
       "  visibility: 0.99980557\n",
       "}\n",
       "landmark {\n",
       "  x: 0.49944705\n",
       "  y: 0.54615533\n",
       "  z: -0.78960013\n",
       "  visibility: 0.99962604\n",
       "}\n",
       "landmark {\n",
       "  x: 0.768391\n",
       "  y: 0.6075583\n",
       "  z: -0.5523454\n",
       "  visibility: 0.9988673\n",
       "}\n",
       "landmark {\n",
       "  x: 0.38387582\n",
       "  y: 0.81144136\n",
       "  z: -0.20216045\n",
       "  visibility: 0.9957657\n",
       "}\n",
       "landmark {\n",
       "  x: 0.89844286\n",
       "  y: 1.0044141\n",
       "  z: -0.4447089\n",
       "  visibility: 0.54102045\n",
       "}\n",
       "landmark {\n",
       "  x: 0.35302114\n",
       "  y: 1.2693145\n",
       "  z: 0.010794381\n",
       "  visibility: 0.25343245\n",
       "}\n",
       "landmark {\n",
       "  x: 0.9421872\n",
       "  y: 1.4902753\n",
       "  z: -0.5877894\n",
       "  visibility: 0.21734451\n",
       "}\n",
       "landmark {\n",
       "  x: 0.30718416\n",
       "  y: 1.6411865\n",
       "  z: -0.31205505\n",
       "  visibility: 0.16101168\n",
       "}\n",
       "landmark {\n",
       "  x: 0.9758476\n",
       "  y: 1.6191672\n",
       "  z: -0.63747656\n",
       "  visibility: 0.21121068\n",
       "}\n",
       "landmark {\n",
       "  x: 0.27800614\n",
       "  y: 1.7793716\n",
       "  z: -0.36055887\n",
       "  visibility: 0.16943653\n",
       "}\n",
       "landmark {\n",
       "  x: 0.93153\n",
       "  y: 1.6352893\n",
       "  z: -0.611076\n",
       "  visibility: 0.24931252\n",
       "}\n",
       "landmark {\n",
       "  x: 0.3006215\n",
       "  y: 1.765225\n",
       "  z: -0.45460734\n",
       "  visibility: 0.18708928\n",
       "}\n",
       "landmark {\n",
       "  x: 0.90928763\n",
       "  y: 1.595494\n",
       "  z: -0.5982012\n",
       "  visibility: 0.27964363\n",
       "}\n",
       "landmark {\n",
       "  x: 0.32134134\n",
       "  y: 1.7167969\n",
       "  z: -0.36541793\n",
       "  visibility: 0.19895303\n",
       "}\n",
       "landmark {\n",
       "  x: 0.7479943\n",
       "  y: 1.5946349\n",
       "  z: -0.16942099\n",
       "  visibility: 0.0012008774\n",
       "}\n",
       "landmark {\n",
       "  x: 0.48848614\n",
       "  y: 1.6195209\n",
       "  z: 0.17425019\n",
       "  visibility: 0.0009141431\n",
       "}\n",
       "landmark {\n",
       "  x: 0.7507046\n",
       "  y: 2.3016384\n",
       "  z: -0.108578846\n",
       "  visibility: 0.00019286059\n",
       "}\n",
       "landmark {\n",
       "  x: 0.4977066\n",
       "  y: 2.3230073\n",
       "  z: 0.58440363\n",
       "  visibility: 8.183701e-05\n",
       "}\n",
       "landmark {\n",
       "  x: 0.74604315\n",
       "  y: 2.9164453\n",
       "  z: 0.49808922\n",
       "  visibility: 1.219939e-05\n",
       "}\n",
       "landmark {\n",
       "  x: 0.49756122\n",
       "  y: 2.9171937\n",
       "  z: 1.2708262\n",
       "  visibility: 1.6771291e-06\n",
       "}\n",
       "landmark {\n",
       "  x: 0.75942016\n",
       "  y: 3.01425\n",
       "  z: 0.53152096\n",
       "  visibility: 9.323094e-06\n",
       "}\n",
       "landmark {\n",
       "  x: 0.5009657\n",
       "  y: 3.0140164\n",
       "  z: 1.3307816\n",
       "  visibility: 5.3494005e-06\n",
       "}\n",
       "landmark {\n",
       "  x: 0.6868505\n",
       "  y: 3.1522443\n",
       "  z: -0.049485125\n",
       "  visibility: 1.0682765e-05\n",
       "}\n",
       "landmark {\n",
       "  x: 0.5218532\n",
       "  y: 3.1480963\n",
       "  z: 0.8106575\n",
       "  visibility: 1.0280649e-05\n",
       "}"
      ]
     },
     "execution_count": 5,
=======
       "  x: 0.2459341287612915\n",
       "  y: 0.4354501962661743\n",
       "  z: -0.49546346068382263\n",
       "  visibility: 0.9991111159324646\n",
       "}\n",
       "landmark {\n",
       "  x: 0.27558434009552\n",
       "  y: 0.3823970556259155\n",
       "  z: -0.5393932461738586\n",
       "  visibility: 0.9984203577041626\n",
       "}\n",
       "landmark {\n",
       "  x: 0.2897672653198242\n",
       "  y: 0.3808986246585846\n",
       "  z: -0.5397096872329712\n",
       "  visibility: 0.9986534118652344\n",
       "}\n",
       "landmark {\n",
       "  x: 0.30426809191703796\n",
       "  y: 0.3781900107860565\n",
       "  z: -0.5396732687950134\n",
       "  visibility: 0.9983720183372498\n",
       "}\n",
       "landmark {\n",
       "  x: 0.2495085746049881\n",
       "  y: 0.3821074366569519\n",
       "  z: -0.4532240927219391\n",
       "  visibility: 0.998242199420929\n",
       "}\n",
       "landmark {\n",
       "  x: 0.24449646472930908\n",
       "  y: 0.3817051947116852\n",
       "  z: -0.4532557427883148\n",
       "  visibility: 0.9984951615333557\n",
       "}\n",
       "landmark {\n",
       "  x: 0.24064302444458008\n",
       "  y: 0.38104259967803955\n",
       "  z: -0.45389169454574585\n",
       "  visibility: 0.9983667135238647\n",
       "}\n",
       "landmark {\n",
       "  x: 0.3648405969142914\n",
       "  y: 0.3958626091480255\n",
       "  z: -0.5214162468910217\n",
       "  visibility: 0.9987645745277405\n",
       "}\n",
       "landmark {\n",
       "  x: 0.2874719500541687\n",
       "  y: 0.39484483003616333\n",
       "  z: -0.12694038450717926\n",
       "  visibility: 0.998670220375061\n",
       "}\n",
       "landmark {\n",
       "  x: 0.28325581550598145\n",
       "  y: 0.49125680327415466\n",
       "  z: -0.4724813997745514\n",
       "  visibility: 0.9991256594657898\n",
       "}\n",
       "landmark {\n",
       "  x: 0.25436651706695557\n",
       "  y: 0.48786675930023193\n",
       "  z: -0.3617781400680542\n",
       "  visibility: 0.998956024646759\n",
       "}\n",
       "landmark {\n",
       "  x: 0.5081984400749207\n",
       "  y: 0.6807462573051453\n",
       "  z: -0.5683506727218628\n",
       "  visibility: 0.9894204139709473\n",
       "}\n",
       "landmark {\n",
       "  x: 0.2357214242219925\n",
       "  y: 0.6520995497703552\n",
       "  z: 0.14058730006217957\n",
       "  visibility: 0.9961203932762146\n",
       "}\n",
       "landmark {\n",
       "  x: 0.3629056513309479\n",
       "  y: 1.0474152565002441\n",
       "  z: -0.7529119253158569\n",
       "  visibility: 0.4183168113231659\n",
       "}\n",
       "landmark {\n",
       "  x: 0.057027667760849\n",
       "  y: 0.9107691645622253\n",
       "  z: 0.02395826019346714\n",
       "  visibility: 0.4537893831729889\n",
       "}\n",
       "landmark {\n",
       "  x: 0.12651047110557556\n",
       "  y: 1.0787240266799927\n",
       "  z: -0.7818974256515503\n",
       "  visibility: 0.21799466013908386\n",
       "}\n",
       "landmark {\n",
       "  x: -0.11686352640390396\n",
       "  y: 0.9939801096916199\n",
       "  z: -0.5251296758651733\n",
       "  visibility: 0.21398799121379852\n",
       "}\n",
       "landmark {\n",
       "  x: 0.05835765600204468\n",
       "  y: 1.1260228157043457\n",
       "  z: -0.8476948738098145\n",
       "  visibility: 0.21889546513557434\n",
       "}\n",
       "landmark {\n",
       "  x: -0.16749776899814606\n",
       "  y: 1.0532160997390747\n",
       "  z: -0.6170116066932678\n",
       "  visibility: 0.20576857030391693\n",
       "}\n",
       "landmark {\n",
       "  x: 0.04915187507867813\n",
       "  y: 1.0131065845489502\n",
       "  z: -0.8377612829208374\n",
       "  visibility: 0.2554439604282379\n",
       "}\n",
       "landmark {\n",
       "  x: -0.14633868634700775\n",
       "  y: 1.0333750247955322\n",
       "  z: -0.6751300096511841\n",
       "  visibility: 0.24840447306632996\n",
       "}\n",
       "landmark {\n",
       "  x: 0.09126769006252289\n",
       "  y: 1.0580860376358032\n",
       "  z: -0.7688410878181458\n",
       "  visibility: 0.23976771533489227\n",
       "}\n",
       "landmark {\n",
       "  x: -0.12075874954462051\n",
       "  y: 1.0191787481307983\n",
       "  z: -0.578468382358551\n",
       "  visibility: 0.2584250569343567\n",
       "}\n",
       "landmark {\n",
       "  x: 0.4474319517612457\n",
       "  y: 1.3906067609786987\n",
       "  z: -0.19452854990959167\n",
       "  visibility: 0.001424060552380979\n",
       "}\n",
       "landmark {\n",
       "  x: 0.2269040048122406\n",
       "  y: 1.3428207635879517\n",
       "  z: 0.19703975319862366\n",
       "  visibility: 0.002238750923424959\n",
       "}\n",
       "landmark {\n",
       "  x: 0.3780035078525543\n",
       "  y: 1.8697612285614014\n",
       "  z: -0.41016340255737305\n",
       "  visibility: 0.003871396416798234\n",
       "}\n",
       "landmark {\n",
       "  x: 0.1798950880765915\n",
       "  y: 1.8229014873504639\n",
       "  z: 0.046685509383678436\n",
       "  visibility: 0.00218846439383924\n",
       "}\n",
       "landmark {\n",
       "  x: 0.3843465745449066\n",
       "  y: 2.4180052280426025\n",
       "  z: -0.1301354616880417\n",
       "  visibility: 0.00029207367333583534\n",
       "}\n",
       "landmark {\n",
       "  x: 0.16852761805057526\n",
       "  y: 2.390272617340088\n",
       "  z: 0.14042235910892487\n",
       "  visibility: 0.00023370515555143356\n",
       "}\n",
       "landmark {\n",
       "  x: 0.4054346978664398\n",
       "  y: 2.510281801223755\n",
       "  z: -0.13012441992759705\n",
       "  visibility: 0.000166523881489411\n",
       "}\n",
       "landmark {\n",
       "  x: 0.1753687709569931\n",
       "  y: 2.481005907058716\n",
       "  z: 0.13454397022724152\n",
       "  visibility: 0.0003494901757221669\n",
       "}\n",
       "landmark {\n",
       "  x: 0.2991042733192444\n",
       "  y: 2.53845477104187\n",
       "  z: -0.604141354560852\n",
       "  visibility: 0.00039874701178632677\n",
       "}\n",
       "landmark {\n",
       "  x: 0.12326779216527939\n",
       "  y: 2.5392160415649414\n",
       "  z: -0.32550209760665894\n",
       "  visibility: 0.0006897244020365179\n",
       "}"
      ]
     },
     "execution_count": 80,
>>>>>>> 28f21dd (added time sign data and models)
     "metadata": {},
     "output_type": "execute_result"
    }
   ],
   "source": [
    "results.pose_landmarks"
   ]
  },
  {
   "cell_type": "code",
<<<<<<< HEAD
   "execution_count": 6,
   "metadata": {},
   "outputs": [
    {
     "data": {
      "text/plain": [
       "x: 0.53047717\n",
       "y: 0.4377123\n",
       "z: -0.9427716\n",
       "visibility: 0.9997985"
      ]
     },
     "execution_count": 6,
     "metadata": {},
     "output_type": "execute_result"
    }
   ],
   "source": [
    "results.pose_landmarks.landmark[0]"
   ]
  },
  {
   "cell_type": "code",
   "execution_count": 7,
   "metadata": {},
   "outputs": [
    {
     "data": {
      "text/plain": [
       "0.9997984766960144"
      ]
     },
     "execution_count": 7,
     "metadata": {},
     "output_type": "execute_result"
    }
   ],
   "source": [
    "results.pose_landmarks.landmark[0].visibility"
   ]
  },
  {
   "cell_type": "code",
   "execution_count": 8,
   "metadata": {},
   "outputs": [
    {
     "data": {
      "text/plain": [
       "x: 0.56678826\n",
       "y: 0.5067538\n",
       "z: -0.037146635"
      ]
     },
     "execution_count": 8,
     "metadata": {},
     "output_type": "execute_result"
    }
   ],
   "source": [
    "results.face_landmarks.landmark[0]"
   ]
  },
  {
   "cell_type": "code",
   "execution_count": 9,
   "metadata": {},
=======
   "execution_count": 133,
   "id": "3579b85d-9358-4de5-ad5f-a8247024ffd5",
   "metadata": {
    "metadata": {}
   },
>>>>>>> 28f21dd (added time sign data and models)
   "outputs": [
    {
     "data": {
      "text/plain": [
       "0.0"
      ]
     },
<<<<<<< HEAD
     "execution_count": 9,
=======
     "execution_count": 133,
>>>>>>> 28f21dd (added time sign data and models)
     "metadata": {},
     "output_type": "execute_result"
    }
   ],
   "source": [
    "results.face_landmarks.landmark[0].visibility # visibility muestra si el landmark si se muestra en la pantalla o no\n",
    "# para los landmarks de la cara siempre sera cero"
   ]
  },
  {
   "cell_type": "markdown",
<<<<<<< HEAD
   "metadata": {},
   "source": [
    "<img src=\"https://i.imgur.com/AzKNp7A.png\">"
   ]
  },
  {
   "cell_type": "markdown",
=======
   "id": "9e336229-d593-4eef-9059-8036724ede5d",
>>>>>>> 28f21dd (added time sign data and models)
   "metadata": {},
   "source": [
    "## 2. Capturar Landmarks & Exportar CSV"
   ]
  },
  {
   "cell_type": "code",
<<<<<<< HEAD
   "execution_count": 10,
   "metadata": {},
=======
   "execution_count": 134,
   "id": "135c760a-5743-4735-b15a-b00dffc2144a",
   "metadata": {
    "metadata": {}
   },
>>>>>>> 28f21dd (added time sign data and models)
   "outputs": [],
   "source": [
    "import csv\n",
    "import os\n",
    "import numpy as np"
   ]
  },
  {
   "cell_type": "code",
<<<<<<< HEAD
   "execution_count": 11,
   "metadata": {},
=======
   "execution_count": 135,
   "id": "5d1de400-c60f-4add-a049-6db4fa6914b5",
   "metadata": {
    "metadata": {}
   },
>>>>>>> 28f21dd (added time sign data and models)
   "outputs": [
    {
     "data": {
      "text/plain": [
       "501"
      ]
     },
<<<<<<< HEAD
     "execution_count": 11,
=======
     "execution_count": 135,
>>>>>>> 28f21dd (added time sign data and models)
     "metadata": {},
     "output_type": "execute_result"
    }
   ],
   "source": [
    "num_coords = len(results.face_landmarks.landmark) + len(results.pose_landmarks.landmark)\n",
    "num_coords #501"
   ]
  },
  {
   "cell_type": "code",
<<<<<<< HEAD
   "execution_count": 12,
   "metadata": {},
=======
   "execution_count": 136,
   "id": "70ea6c17-5227-4b9c-abe3-01d1fc6eaa2d",
   "metadata": {
    "metadata": {}
   },
>>>>>>> 28f21dd (added time sign data and models)
   "outputs": [],
   "source": [
    "#Create header table | class | x | y | z | visibility |\n",
    "landmarks = ['class']\n",
    "for val in range(1, num_coords+1):\n",
    "    landmarks += ['x{}'.format(val), 'y{}'.format(val), 'z{}'.format(val), 'v{}'.format(val)]"
   ]
  },
  {
   "cell_type": "code",
<<<<<<< HEAD
   "execution_count": 13,
   "metadata": {},
=======
   "execution_count": 137,
   "id": "b7fc9b91-7a3a-4562-b108-c2f0a76a1621",
   "metadata": {
    "metadata": {}
   },
>>>>>>> 28f21dd (added time sign data and models)
   "outputs": [
    {
     "data": {
      "text/plain": [
       "2005"
      ]
     },
<<<<<<< HEAD
     "execution_count": 13,
=======
     "execution_count": 137,
>>>>>>> 28f21dd (added time sign data and models)
     "metadata": {},
     "output_type": "execute_result"
    }
   ],
   "source": [
    "len(landmarks) #2005"
   ]
  },
  {
   "cell_type": "code",
<<<<<<< HEAD
   "execution_count": 16,
   "metadata": {},
   "outputs": [],
   "source": [
    "#Export header CSV\n",
    "with open('prueba.csv', mode='w', newline='') as f:\n",
=======
   "execution_count": 138,
   "id": "67d72fc9-44be-4914-841f-6bdbeec4c046",
   "metadata": {
    "metadata": {}
   },
   "outputs": [],
   "source": [
    "#Export header CSV\n",
    "with open('temporalidad_1_0.csv', mode='w', newline='') as f:\n",
>>>>>>> 28f21dd (added time sign data and models)
    "    csv_writer = csv.writer(f, delimiter=',', quotechar='\"', quoting=csv.QUOTE_MINIMAL)\n",
    "    csv_writer.writerow(landmarks)"
   ]
  },
  {
   "cell_type": "markdown",
<<<<<<< HEAD
=======
   "id": "aebdc644-5228-444e-8db4-6d238e859d92",
>>>>>>> 28f21dd (added time sign data and models)
   "metadata": {},
   "source": [
    "## 3. Tomar coordenadas de señas"
   ]
  },
  {
   "cell_type": "code",
<<<<<<< HEAD
   "execution_count": 19,
   "metadata": {},
   "outputs": [],
   "source": [
    "#Save coord poses\n",
    "class_name=\"bien\"\n",
=======
   "execution_count": 141,
   "id": "d005d22e-f2bf-46d6-8ee1-87eb2c998250",
   "metadata": {
    "metadata": {}
   },
   "outputs": [],
   "source": [
    "#Save coord poses\n",
    "class_name=\"aveces\"\n",
>>>>>>> 28f21dd (added time sign data and models)
    "\n",
    "#Detectar puntos de referencia\n",
    "cap = cv2.VideoCapture(0)  #0 o 2\n",
    "\n",
<<<<<<< HEAD
    "# Initiate holistic model\n",
    "with mp_holistic.Holistic(min_detection_confidence=0.5, min_tracking_confidence=0.5) as holistic:\n",
=======
    "# Inicializar el tiempo de inicio\n",
    "inicio_tiempo = cv2.getTickCount()\n",
    "\n",
    "# Initiate holistic model\n",
    "#min_detection_confidence: deteccion\n",
    "#min_tracking_confidence: seguimiento\n",
    "with mp_holistic.Holistic(min_detection_confidence=0.9, min_tracking_confidence=0.8) as holistic: #probar: min_detection_confidence=0.7-0.9, min_tracking_confidence=0.5-0.8\n",
>>>>>>> 28f21dd (added time sign data and models)
    "\n",
    "    while cap.isOpened():\n",
    "        ret, frame = cap.read()\n",
    "\n",
    "        # Recolor Feed\n",
    "        image = cv2.cvtColor(frame, cv2.COLOR_BGR2RGB)\n",
    "        image.flags.writeable = False\n",
    "\n",
    "        # Make Detections\n",
    "        results = holistic.process(image)\n",
    "        # print(results.face_landmarks)\n",
    "\n",
    "        # face_landmarks, pose_landmarks, left_hand_landmarks, right_hand_landmarks\n",
    "\n",
    "        # Recolor image back to BGR for rendering\n",
    "        image.flags.writeable = True\n",
    "        image = cv2.cvtColor(image, cv2.COLOR_RGB2BGR)\n",
    "\n",
    "\n",
    "        # 1. Draw face landmarks\n",
    "        mp_drawing.draw_landmarks(image, results.face_landmarks, mp_holistic.FACEMESH_TESSELATION,\n",
    "                                 mp_drawing.DrawingSpec(color=(80,110,10), thickness=1, circle_radius=1),\n",
    "                                 mp_drawing.DrawingSpec(color=(80,256,121), thickness=1, circle_radius=1)\n",
    "                                 )\n",
    "\n",
    "        # 2. Right hand\n",
    "        mp_drawing.draw_landmarks(image, results.right_hand_landmarks, mp_holistic.HAND_CONNECTIONS,\n",
    "                                 mp_drawing.DrawingSpec(color=(80,22,10), thickness=2, circle_radius=4),\n",
    "                                 mp_drawing.DrawingSpec(color=(80,44,121), thickness=2, circle_radius=2)\n",
    "                                 )\n",
    "\n",
    "        # 3. Left Hand\n",
    "        mp_drawing.draw_landmarks(image, results.left_hand_landmarks, mp_holistic.HAND_CONNECTIONS,\n",
    "                                 mp_drawing.DrawingSpec(color=(121,22,76), thickness=2, circle_radius=4),\n",
    "                                 mp_drawing.DrawingSpec(color=(121,44,250), thickness=2, circle_radius=2)\n",
    "                                 )\n",
    "\n",
    "        # 4. Pose Detections\n",
    "        mp_drawing.draw_landmarks(image, results.pose_landmarks, mp_holistic.POSE_CONNECTIONS,\n",
    "                                 mp_drawing.DrawingSpec(color=(245,117,66), thickness=2, circle_radius=4),\n",
    "                                 mp_drawing.DrawingSpec(color=(245,66,230), thickness=2, circle_radius=2)\n",
    "                                 )\n",
    "        # Export coordinates, da todos los landmarks y los almacena en una matriz\n",
    "        try:\n",
    "            # Extract Pose landmarks\n",
    "            pose = results.pose_landmarks.landmark\n",
    "            pose_row = list(np.array([[landmark.x, landmark.y, landmark.z, landmark.visibility] for landmark in pose]).flatten())\n",
    "\n",
    "            # Extract Face landmarks\n",
    "            face = results.face_landmarks.landmark\n",
    "            face_row = list(np.array([[landmark.x, landmark.y, landmark.z, landmark.visibility] for landmark in face]).flatten())\n",
    "\n",
    "            # Concate rows\n",
    "            row = pose_row+face_row\n",
    "\n",
    "            # Append class name\n",
    "            row.insert(0, class_name)\n",
    "\n",
    "            # Export to CSV\n",
<<<<<<< HEAD
    "            with open('prueba.csv', mode='a', newline='') as f:\n",
=======
    "            with open('temporalidad_1_0.csv', mode='a', newline='') as f:\n",
>>>>>>> 28f21dd (added time sign data and models)
    "                csv_writer = csv.writer(f, delimiter=',', quotechar='\"', quoting=csv.QUOTE_MINIMAL)\n",
    "                csv_writer.writerow(row)\n",
    "\n",
    "        except:\n",
    "            pass\n",
    "\n",
<<<<<<< HEAD
    "\n",
    "        cv2.imshow('Rosa Webcam', image)\n",
    "        if cv2.waitKey(10) & 0xFF == ord('q'):\n",
    "            break\n",
    "\n",
    "cap.release()\n",
    "cv2.destroyAllWindows()"
   ]
  },
  {
   "cell_type": "code",
   "execution_count": 20,
   "metadata": {},
   "outputs": [
    {
     "data": {
      "text/plain": [
       "x: 0.5800599\n",
       "y: 0.36140284\n",
       "z: -0.99320525\n",
       "visibility: 0.9999126"
      ]
     },
     "execution_count": 20,
     "metadata": {},
     "output_type": "execute_result"
    }
   ],
   "source": [
    "results.pose_landmarks.landmark[0]"
   ]
  },
  {
   "cell_type": "code",
   "execution_count": 21,
   "metadata": {},
   "outputs": [
    {
     "data": {
      "text/plain": [
       "0.0"
      ]
     },
     "execution_count": 21,
     "metadata": {},
     "output_type": "execute_result"
    }
   ],
   "source": [
    "results.face_landmarks.landmark[0].visibility #la visibilidad de face_landmark siempre sera cero"
   ]
  },
  {
   "cell_type": "markdown",
   "metadata": {},
   "source": [
    "Numero de coordenadas que tendremos:"
   ]
  },
  {
   "cell_type": "code",
   "execution_count": 22,
   "metadata": {},
   "outputs": [
    {
     "data": {
      "text/plain": [
       "132"
      ]
     },
     "execution_count": 22,
     "metadata": {},
     "output_type": "execute_result"
    }
   ],
   "source": [
    "pose_row = list(np.array([[landmark.x, landmark.y, landmark.z, landmark.visibility] for landmark in pose]).flatten())\n",
    "len(pose_row) #132\n"
   ]
  },
  {
   "cell_type": "code",
   "execution_count": 23,
   "metadata": {},
   "outputs": [
    {
     "data": {
      "text/plain": [
       "1872"
      ]
     },
     "execution_count": 23,
     "metadata": {},
     "output_type": "execute_result"
    }
   ],
   "source": [
    "face_row = list(np.array([[landmark.x, landmark.y, landmark.z, landmark.visibility] for landmark in face]).flatten())\n",
    "len(face_row)"
   ]
  },
  {
   "cell_type": "code",
   "execution_count": 24,
   "metadata": {},
   "outputs": [
    {
     "data": {
      "text/plain": [
       "2004"
      ]
     },
     "execution_count": 24,
     "metadata": {},
     "output_type": "execute_result"
    }
   ],
   "source": [
    "row=pose_row+face_row #total de coordenadas deberia de ser 2004\n",
    "len(row)\n"
   ]
  },
  {
   "cell_type": "code",
   "execution_count": 25,
   "metadata": {},
   "outputs": [
    {
     "data": {
      "text/plain": [
       "2005"
      ]
     },
     "execution_count": 25,
     "metadata": {},
     "output_type": "execute_result"
    }
   ],
   "source": [
    "1+501*4"
   ]
  },
  {
   "cell_type": "code",
   "execution_count": 26,
   "metadata": {},
   "outputs": [
    {
     "data": {
      "text/plain": [
       "2005"
      ]
     },
     "execution_count": 26,
     "metadata": {},
     "output_type": "execute_result"
    }
   ],
   "source": [
    "row.insert(0, class_name) #agregar el nombre de la clase (pose)\n",
    "len(row) #1+501*4 class_name, landmarks, header (x,y,z,visibility)"
=======
    "        ##cv2.imshow('Rosa Webcam', image)\n",
    "        ##if cv2.waitKey(10) & 0xFF == ord('q'):\n",
    "        ##    break\n",
    "        # Calcular el tiempo transcurrido\n",
    "        tiempo_transcurrido = (cv2.getTickCount() - inicio_tiempo) / cv2.getTickFrequency()\n",
    "\n",
    "        # Mostrar la imagen y salir si pasa el tiempo límite o se presiona 'q'\n",
    "        cv2.imshow('Rosa Webcam', image)\n",
    "        if tiempo_transcurrido >= 60 or cv2.waitKey(10) & 0xFF == ord('q'):\n",
    "            break\n",
    "        \n",
    "\n",
    "cap.release()\n",
    "cv2.destroyAllWindows()\n"
>>>>>>> 28f21dd (added time sign data and models)
   ]
  },
  {
   "cell_type": "markdown",
<<<<<<< HEAD
=======
   "id": "6eaedafc-3dcc-4085-8a95-ca808eb4a71f",
>>>>>>> 28f21dd (added time sign data and models)
   "metadata": {},
   "source": [
    "## 4. Entrenar modelo usando Scikit Learn"
   ]
  },
  {
<<<<<<< HEAD
   "cell_type": "markdown",
   "metadata": {},
   "source": [
    "### Leer y recolectar datos"
   ]
  },
  {
   "cell_type": "code",
   "execution_count": 27,
   "metadata": {},
=======
   "cell_type": "code",
   "execution_count": 142,
   "id": "22ea319a-b61d-4f7d-91d2-7a2b7d6e2025",
   "metadata": {
    "metadata": {}
   },
>>>>>>> 28f21dd (added time sign data and models)
   "outputs": [],
   "source": [
    "import pandas as pd\n",
    "from sklearn.model_selection import train_test_split"
   ]
  },
  {
   "cell_type": "code",
<<<<<<< HEAD
   "execution_count": 28,
   "metadata": {},
   "outputs": [],
   "source": [
    "df = pd.read_csv('prueba.csv')"
=======
   "execution_count": 143,
   "id": "e1e721be-a24f-4234-bae4-c1bdc70d5f2b",
   "metadata": {
    "metadata": {}
   },
   "outputs": [],
   "source": [
    "df = pd.read_csv('temporalidad_1_0.csv')"
>>>>>>> 28f21dd (added time sign data and models)
   ]
  },
  {
   "cell_type": "code",
<<<<<<< HEAD
   "execution_count": 29,
   "metadata": {},
=======
   "execution_count": 144,
   "id": "46ba15a4-bcb0-40f2-a5e0-290f7a5e01a2",
   "metadata": {
    "metadata": {}
   },
>>>>>>> 28f21dd (added time sign data and models)
   "outputs": [
    {
     "data": {
      "text/html": [
       "<div>\n",
       "<style scoped>\n",
       "    .dataframe tbody tr th:only-of-type {\n",
       "        vertical-align: middle;\n",
       "    }\n",
       "\n",
       "    .dataframe tbody tr th {\n",
       "        vertical-align: top;\n",
       "    }\n",
       "\n",
       "    .dataframe thead th {\n",
       "        text-align: right;\n",
       "    }\n",
       "</style>\n",
       "<table border=\"1\" class=\"dataframe\">\n",
       "  <thead>\n",
       "    <tr style=\"text-align: right;\">\n",
       "      <th></th>\n",
       "      <th>class</th>\n",
       "      <th>x1</th>\n",
       "      <th>y1</th>\n",
       "      <th>z1</th>\n",
       "      <th>v1</th>\n",
       "      <th>x2</th>\n",
       "      <th>y2</th>\n",
       "      <th>z2</th>\n",
       "      <th>v2</th>\n",
       "      <th>x3</th>\n",
       "      <th>...</th>\n",
       "      <th>z499</th>\n",
       "      <th>v499</th>\n",
       "      <th>x500</th>\n",
       "      <th>y500</th>\n",
       "      <th>z500</th>\n",
       "      <th>v500</th>\n",
       "      <th>x501</th>\n",
       "      <th>y501</th>\n",
       "      <th>z501</th>\n",
       "      <th>v501</th>\n",
       "    </tr>\n",
       "  </thead>\n",
       "  <tbody>\n",
       "    <tr>\n",
       "      <th>0</th>\n",
<<<<<<< HEAD
       "      <td>amor y paz</td>\n",
       "      <td>0.613385</td>\n",
       "      <td>0.452124</td>\n",
       "      <td>-0.700507</td>\n",
       "      <td>0.999959</td>\n",
       "      <td>0.637091</td>\n",
       "      <td>0.358818</td>\n",
       "      <td>-0.675910</td>\n",
       "      <td>0.999898</td>\n",
       "      <td>0.652638</td>\n",
       "      <td>...</td>\n",
       "      <td>-0.007492</td>\n",
       "      <td>0.0</td>\n",
       "      <td>0.676354</td>\n",
       "      <td>0.337812</td>\n",
       "      <td>0.013768</td>\n",
       "      <td>0.0</td>\n",
       "      <td>0.680637</td>\n",
       "      <td>0.328635</td>\n",
       "      <td>0.014254</td>\n",
=======
       "      <td>mes</td>\n",
       "      <td>0.549135</td>\n",
       "      <td>0.394194</td>\n",
       "      <td>-0.809048</td>\n",
       "      <td>0.999992</td>\n",
       "      <td>0.579765</td>\n",
       "      <td>0.348766</td>\n",
       "      <td>-0.752098</td>\n",
       "      <td>0.999985</td>\n",
       "      <td>0.595620</td>\n",
       "      <td>...</td>\n",
       "      <td>0.001607</td>\n",
       "      <td>0.0</td>\n",
       "      <td>0.600875</td>\n",
       "      <td>0.335847</td>\n",
       "      <td>0.014170</td>\n",
       "      <td>0.0</td>\n",
       "      <td>0.605487</td>\n",
       "      <td>0.332054</td>\n",
       "      <td>0.014272</td>\n",
>>>>>>> 28f21dd (added time sign data and models)
       "      <td>0.0</td>\n",
       "    </tr>\n",
       "    <tr>\n",
       "      <th>1</th>\n",
<<<<<<< HEAD
       "      <td>amor y paz</td>\n",
       "      <td>0.560325</td>\n",
       "      <td>0.399195</td>\n",
       "      <td>-0.615101</td>\n",
       "      <td>0.999960</td>\n",
       "      <td>0.582329</td>\n",
       "      <td>0.324028</td>\n",
       "      <td>-0.579968</td>\n",
       "      <td>0.999903</td>\n",
       "      <td>0.601140</td>\n",
       "      <td>...</td>\n",
       "      <td>0.001633</td>\n",
       "      <td>0.0</td>\n",
       "      <td>0.605005</td>\n",
       "      <td>0.300140</td>\n",
       "      <td>0.019096</td>\n",
       "      <td>0.0</td>\n",
       "      <td>0.609497</td>\n",
       "      <td>0.289968</td>\n",
       "      <td>0.020048</td>\n",
=======
       "      <td>mes</td>\n",
       "      <td>0.546055</td>\n",
       "      <td>0.395098</td>\n",
       "      <td>-1.060882</td>\n",
       "      <td>0.999991</td>\n",
       "      <td>0.576010</td>\n",
       "      <td>0.349668</td>\n",
       "      <td>-0.995259</td>\n",
       "      <td>0.999983</td>\n",
       "      <td>0.590626</td>\n",
       "      <td>...</td>\n",
       "      <td>0.001446</td>\n",
       "      <td>0.0</td>\n",
       "      <td>0.598345</td>\n",
       "      <td>0.339420</td>\n",
       "      <td>0.014053</td>\n",
       "      <td>0.0</td>\n",
       "      <td>0.602958</td>\n",
       "      <td>0.335890</td>\n",
       "      <td>0.014159</td>\n",
>>>>>>> 28f21dd (added time sign data and models)
       "      <td>0.0</td>\n",
       "    </tr>\n",
       "    <tr>\n",
       "      <th>2</th>\n",
<<<<<<< HEAD
       "      <td>amor y paz</td>\n",
       "      <td>0.551383</td>\n",
       "      <td>0.390284</td>\n",
       "      <td>-0.614112</td>\n",
       "      <td>0.999962</td>\n",
       "      <td>0.574005</td>\n",
       "      <td>0.316108</td>\n",
       "      <td>-0.580800</td>\n",
       "      <td>0.999908</td>\n",
       "      <td>0.594194</td>\n",
       "      <td>...</td>\n",
       "      <td>0.000287</td>\n",
       "      <td>0.0</td>\n",
       "      <td>0.606104</td>\n",
       "      <td>0.294038</td>\n",
       "      <td>0.017505</td>\n",
       "      <td>0.0</td>\n",
       "      <td>0.610421</td>\n",
       "      <td>0.285270</td>\n",
       "      <td>0.018154</td>\n",
=======
       "      <td>mes</td>\n",
       "      <td>0.542215</td>\n",
       "      <td>0.396934</td>\n",
       "      <td>-0.999211</td>\n",
       "      <td>0.999990</td>\n",
       "      <td>0.570538</td>\n",
       "      <td>0.351776</td>\n",
       "      <td>-0.935079</td>\n",
       "      <td>0.999982</td>\n",
       "      <td>0.585182</td>\n",
       "      <td>...</td>\n",
       "      <td>0.001247</td>\n",
       "      <td>0.0</td>\n",
       "      <td>0.592184</td>\n",
       "      <td>0.343229</td>\n",
       "      <td>0.013815</td>\n",
       "      <td>0.0</td>\n",
       "      <td>0.596732</td>\n",
       "      <td>0.339478</td>\n",
       "      <td>0.013969</td>\n",
>>>>>>> 28f21dd (added time sign data and models)
       "      <td>0.0</td>\n",
       "    </tr>\n",
       "    <tr>\n",
       "      <th>3</th>\n",
<<<<<<< HEAD
       "      <td>amor y paz</td>\n",
       "      <td>0.556212</td>\n",
       "      <td>0.388608</td>\n",
       "      <td>-0.628064</td>\n",
       "      <td>0.999965</td>\n",
       "      <td>0.581611</td>\n",
       "      <td>0.313546</td>\n",
       "      <td>-0.597510</td>\n",
       "      <td>0.999916</td>\n",
       "      <td>0.601063</td>\n",
       "      <td>...</td>\n",
       "      <td>-0.000817</td>\n",
       "      <td>0.0</td>\n",
       "      <td>0.618044</td>\n",
       "      <td>0.300111</td>\n",
       "      <td>0.018229</td>\n",
       "      <td>0.0</td>\n",
       "      <td>0.622577</td>\n",
       "      <td>0.291423</td>\n",
       "      <td>0.018931</td>\n",
=======
       "      <td>mes</td>\n",
       "      <td>0.538879</td>\n",
       "      <td>0.398038</td>\n",
       "      <td>-0.817963</td>\n",
       "      <td>0.999988</td>\n",
       "      <td>0.565235</td>\n",
       "      <td>0.353356</td>\n",
       "      <td>-0.752814</td>\n",
       "      <td>0.999978</td>\n",
       "      <td>0.580477</td>\n",
       "      <td>...</td>\n",
       "      <td>0.001401</td>\n",
       "      <td>0.0</td>\n",
       "      <td>0.587346</td>\n",
       "      <td>0.348871</td>\n",
       "      <td>0.013566</td>\n",
       "      <td>0.0</td>\n",
       "      <td>0.591874</td>\n",
       "      <td>0.345217</td>\n",
       "      <td>0.013690</td>\n",
>>>>>>> 28f21dd (added time sign data and models)
       "      <td>0.0</td>\n",
       "    </tr>\n",
       "    <tr>\n",
       "      <th>4</th>\n",
<<<<<<< HEAD
       "      <td>amor y paz</td>\n",
       "      <td>0.557557</td>\n",
       "      <td>0.385441</td>\n",
       "      <td>-0.635466</td>\n",
       "      <td>0.999967</td>\n",
       "      <td>0.585015</td>\n",
       "      <td>0.310754</td>\n",
       "      <td>-0.605581</td>\n",
       "      <td>0.999920</td>\n",
       "      <td>0.604648</td>\n",
       "      <td>...</td>\n",
       "      <td>-0.001144</td>\n",
       "      <td>0.0</td>\n",
       "      <td>0.622279</td>\n",
       "      <td>0.305588</td>\n",
       "      <td>0.017936</td>\n",
       "      <td>0.0</td>\n",
       "      <td>0.626861</td>\n",
       "      <td>0.297015</td>\n",
       "      <td>0.018601</td>\n",
=======
       "      <td>mes</td>\n",
       "      <td>0.536219</td>\n",
       "      <td>0.401987</td>\n",
       "      <td>-0.740743</td>\n",
       "      <td>0.999984</td>\n",
       "      <td>0.561953</td>\n",
       "      <td>0.357833</td>\n",
       "      <td>-0.679093</td>\n",
       "      <td>0.999971</td>\n",
       "      <td>0.577154</td>\n",
       "      <td>...</td>\n",
       "      <td>0.000645</td>\n",
       "      <td>0.0</td>\n",
       "      <td>0.583073</td>\n",
       "      <td>0.355737</td>\n",
       "      <td>0.011841</td>\n",
       "      <td>0.0</td>\n",
       "      <td>0.587611</td>\n",
       "      <td>0.352066</td>\n",
       "      <td>0.011862</td>\n",
>>>>>>> 28f21dd (added time sign data and models)
       "      <td>0.0</td>\n",
       "    </tr>\n",
       "  </tbody>\n",
       "</table>\n",
       "<p>5 rows × 2005 columns</p>\n",
       "</div>"
      ],
      "text/plain": [
<<<<<<< HEAD
       "        class        x1        y1        z1        v1        x2        y2  \\\n",
       "0  amor y paz  0.613385  0.452124 -0.700507  0.999959  0.637091  0.358818   \n",
       "1  amor y paz  0.560325  0.399195 -0.615101  0.999960  0.582329  0.324028   \n",
       "2  amor y paz  0.551383  0.390284 -0.614112  0.999962  0.574005  0.316108   \n",
       "3  amor y paz  0.556212  0.388608 -0.628064  0.999965  0.581611  0.313546   \n",
       "4  amor y paz  0.557557  0.385441 -0.635466  0.999967  0.585015  0.310754   \n",
       "\n",
       "         z2        v2        x3  ...      z499  v499      x500      y500  \\\n",
       "0 -0.675910  0.999898  0.652638  ... -0.007492   0.0  0.676354  0.337812   \n",
       "1 -0.579968  0.999903  0.601140  ...  0.001633   0.0  0.605005  0.300140   \n",
       "2 -0.580800  0.999908  0.594194  ...  0.000287   0.0  0.606104  0.294038   \n",
       "3 -0.597510  0.999916  0.601063  ... -0.000817   0.0  0.618044  0.300111   \n",
       "4 -0.605581  0.999920  0.604648  ... -0.001144   0.0  0.622279  0.305588   \n",
       "\n",
       "       z500  v500      x501      y501      z501  v501  \n",
       "0  0.013768   0.0  0.680637  0.328635  0.014254   0.0  \n",
       "1  0.019096   0.0  0.609497  0.289968  0.020048   0.0  \n",
       "2  0.017505   0.0  0.610421  0.285270  0.018154   0.0  \n",
       "3  0.018229   0.0  0.622577  0.291423  0.018931   0.0  \n",
       "4  0.017936   0.0  0.626861  0.297015  0.018601   0.0  \n",
=======
       "  class        x1        y1        z1        v1        x2        y2        z2  \\\n",
       "0   mes  0.549135  0.394194 -0.809048  0.999992  0.579765  0.348766 -0.752098   \n",
       "1   mes  0.546055  0.395098 -1.060882  0.999991  0.576010  0.349668 -0.995259   \n",
       "2   mes  0.542215  0.396934 -0.999211  0.999990  0.570538  0.351776 -0.935079   \n",
       "3   mes  0.538879  0.398038 -0.817963  0.999988  0.565235  0.353356 -0.752814   \n",
       "4   mes  0.536219  0.401987 -0.740743  0.999984  0.561953  0.357833 -0.679093   \n",
       "\n",
       "         v2        x3  ...      z499  v499      x500      y500      z500  \\\n",
       "0  0.999985  0.595620  ...  0.001607   0.0  0.600875  0.335847  0.014170   \n",
       "1  0.999983  0.590626  ...  0.001446   0.0  0.598345  0.339420  0.014053   \n",
       "2  0.999982  0.585182  ...  0.001247   0.0  0.592184  0.343229  0.013815   \n",
       "3  0.999978  0.580477  ...  0.001401   0.0  0.587346  0.348871  0.013566   \n",
       "4  0.999971  0.577154  ...  0.000645   0.0  0.583073  0.355737  0.011841   \n",
       "\n",
       "   v500      x501      y501      z501  v501  \n",
       "0   0.0  0.605487  0.332054  0.014272   0.0  \n",
       "1   0.0  0.602958  0.335890  0.014159   0.0  \n",
       "2   0.0  0.596732  0.339478  0.013969   0.0  \n",
       "3   0.0  0.591874  0.345217  0.013690   0.0  \n",
       "4   0.0  0.587611  0.352066  0.011862   0.0  \n",
>>>>>>> 28f21dd (added time sign data and models)
       "\n",
       "[5 rows x 2005 columns]"
      ]
     },
<<<<<<< HEAD
     "execution_count": 29,
=======
     "execution_count": 144,
>>>>>>> 28f21dd (added time sign data and models)
     "metadata": {},
     "output_type": "execute_result"
    }
   ],
   "source": [
    "df.head()"
   ]
  },
  {
   "cell_type": "code",
<<<<<<< HEAD
   "execution_count": 30,
   "metadata": {},
=======
   "execution_count": 145,
   "id": "4381c58e-4b78-41cb-85c7-148d7460dfa7",
   "metadata": {
    "metadata": {}
   },
>>>>>>> 28f21dd (added time sign data and models)
   "outputs": [
    {
     "data": {
      "text/html": [
       "<div>\n",
       "<style scoped>\n",
       "    .dataframe tbody tr th:only-of-type {\n",
       "        vertical-align: middle;\n",
       "    }\n",
       "\n",
       "    .dataframe tbody tr th {\n",
       "        vertical-align: top;\n",
       "    }\n",
       "\n",
       "    .dataframe thead th {\n",
       "        text-align: right;\n",
       "    }\n",
       "</style>\n",
       "<table border=\"1\" class=\"dataframe\">\n",
       "  <thead>\n",
       "    <tr style=\"text-align: right;\">\n",
       "      <th></th>\n",
       "      <th>class</th>\n",
       "      <th>x1</th>\n",
       "      <th>y1</th>\n",
       "      <th>z1</th>\n",
       "      <th>v1</th>\n",
       "      <th>x2</th>\n",
       "      <th>y2</th>\n",
       "      <th>z2</th>\n",
       "      <th>v2</th>\n",
       "      <th>x3</th>\n",
       "      <th>...</th>\n",
       "      <th>z499</th>\n",
       "      <th>v499</th>\n",
       "      <th>x500</th>\n",
       "      <th>y500</th>\n",
       "      <th>z500</th>\n",
       "      <th>v500</th>\n",
       "      <th>x501</th>\n",
       "      <th>y501</th>\n",
       "      <th>z501</th>\n",
       "      <th>v501</th>\n",
       "    </tr>\n",
       "  </thead>\n",
       "  <tbody>\n",
       "    <tr>\n",
<<<<<<< HEAD
       "      <th>500</th>\n",
       "      <td>bien</td>\n",
       "      <td>0.595054</td>\n",
       "      <td>0.357828</td>\n",
       "      <td>-1.051835</td>\n",
       "      <td>0.999893</td>\n",
       "      <td>0.627182</td>\n",
       "      <td>0.281425</td>\n",
       "      <td>-0.996402</td>\n",
       "      <td>0.999768</td>\n",
       "      <td>0.648592</td>\n",
       "      <td>...</td>\n",
       "      <td>-0.001397</td>\n",
       "      <td>0.0</td>\n",
       "      <td>0.646575</td>\n",
       "      <td>0.278519</td>\n",
       "      <td>0.017722</td>\n",
       "      <td>0.0</td>\n",
       "      <td>0.651645</td>\n",
       "      <td>0.270069</td>\n",
       "      <td>0.018374</td>\n",
       "      <td>0.0</td>\n",
       "    </tr>\n",
       "    <tr>\n",
       "      <th>501</th>\n",
       "      <td>bien</td>\n",
       "      <td>0.584939</td>\n",
       "      <td>0.358493</td>\n",
       "      <td>-1.064896</td>\n",
       "      <td>0.999897</td>\n",
       "      <td>0.617338</td>\n",
       "      <td>0.281891</td>\n",
       "      <td>-1.009192</td>\n",
       "      <td>0.999774</td>\n",
       "      <td>0.639153</td>\n",
       "      <td>...</td>\n",
       "      <td>-0.002910</td>\n",
       "      <td>0.0</td>\n",
       "      <td>0.643986</td>\n",
       "      <td>0.279315</td>\n",
       "      <td>0.015975</td>\n",
       "      <td>0.0</td>\n",
       "      <td>0.649053</td>\n",
       "      <td>0.270646</td>\n",
       "      <td>0.016635</td>\n",
       "      <td>0.0</td>\n",
       "    </tr>\n",
       "    <tr>\n",
       "      <th>502</th>\n",
       "      <td>bien</td>\n",
       "      <td>0.582489</td>\n",
       "      <td>0.359019</td>\n",
       "      <td>-1.079598</td>\n",
       "      <td>0.999903</td>\n",
       "      <td>0.614424</td>\n",
       "      <td>0.282432</td>\n",
       "      <td>-1.022348</td>\n",
       "      <td>0.999783</td>\n",
       "      <td>0.636224</td>\n",
       "      <td>...</td>\n",
       "      <td>-0.002693</td>\n",
       "      <td>0.0</td>\n",
       "      <td>0.645582</td>\n",
       "      <td>0.280061</td>\n",
       "      <td>0.016411</td>\n",
       "      <td>0.0</td>\n",
       "      <td>0.650676</td>\n",
       "      <td>0.270929</td>\n",
       "      <td>0.017121</td>\n",
       "      <td>0.0</td>\n",
       "    </tr>\n",
       "    <tr>\n",
       "      <th>503</th>\n",
       "      <td>bien</td>\n",
       "      <td>0.581719</td>\n",
       "      <td>0.360786</td>\n",
       "      <td>-1.009336</td>\n",
       "      <td>0.999907</td>\n",
       "      <td>0.612969</td>\n",
       "      <td>0.283730</td>\n",
       "      <td>-0.956925</td>\n",
       "      <td>0.999789</td>\n",
       "      <td>0.634580</td>\n",
       "      <td>...</td>\n",
       "      <td>-0.002461</td>\n",
       "      <td>0.0</td>\n",
       "      <td>0.645904</td>\n",
       "      <td>0.281520</td>\n",
       "      <td>0.016854</td>\n",
       "      <td>0.0</td>\n",
       "      <td>0.651049</td>\n",
       "      <td>0.272292</td>\n",
       "      <td>0.017630</td>\n",
       "      <td>0.0</td>\n",
       "    </tr>\n",
       "    <tr>\n",
       "      <th>504</th>\n",
       "      <td>bien</td>\n",
       "      <td>0.580060</td>\n",
       "      <td>0.361403</td>\n",
       "      <td>-0.993205</td>\n",
       "      <td>0.999913</td>\n",
       "      <td>0.610810</td>\n",
       "      <td>0.284224</td>\n",
       "      <td>-0.942761</td>\n",
       "      <td>0.999800</td>\n",
       "      <td>0.632336</td>\n",
       "      <td>...</td>\n",
       "      <td>-0.002079</td>\n",
       "      <td>0.0</td>\n",
       "      <td>0.645282</td>\n",
       "      <td>0.280876</td>\n",
       "      <td>0.017424</td>\n",
       "      <td>0.0</td>\n",
       "      <td>0.650362</td>\n",
       "      <td>0.272018</td>\n",
       "      <td>0.018172</td>\n",
=======
       "      <th>415</th>\n",
       "      <td>anio</td>\n",
       "      <td>0.537167</td>\n",
       "      <td>0.379919</td>\n",
       "      <td>-0.727094</td>\n",
       "      <td>0.999994</td>\n",
       "      <td>0.569766</td>\n",
       "      <td>0.327761</td>\n",
       "      <td>-0.675342</td>\n",
       "      <td>0.999989</td>\n",
       "      <td>0.587081</td>\n",
       "      <td>...</td>\n",
       "      <td>0.002245</td>\n",
       "      <td>0.0</td>\n",
       "      <td>0.589399</td>\n",
       "      <td>0.316334</td>\n",
       "      <td>0.010716</td>\n",
       "      <td>0.0</td>\n",
       "      <td>0.594814</td>\n",
       "      <td>0.311495</td>\n",
       "      <td>0.010657</td>\n",
       "      <td>0.0</td>\n",
       "    </tr>\n",
       "    <tr>\n",
       "      <th>416</th>\n",
       "      <td>anio</td>\n",
       "      <td>0.538806</td>\n",
       "      <td>0.379869</td>\n",
       "      <td>-1.088912</td>\n",
       "      <td>0.999988</td>\n",
       "      <td>0.570749</td>\n",
       "      <td>0.327520</td>\n",
       "      <td>-1.013447</td>\n",
       "      <td>0.999979</td>\n",
       "      <td>0.587151</td>\n",
       "      <td>...</td>\n",
       "      <td>0.001376</td>\n",
       "      <td>0.0</td>\n",
       "      <td>0.591470</td>\n",
       "      <td>0.316294</td>\n",
       "      <td>0.010541</td>\n",
       "      <td>0.0</td>\n",
       "      <td>0.596641</td>\n",
       "      <td>0.311898</td>\n",
       "      <td>0.010466</td>\n",
       "      <td>0.0</td>\n",
       "    </tr>\n",
       "    <tr>\n",
       "      <th>417</th>\n",
       "      <td>anio</td>\n",
       "      <td>0.537832</td>\n",
       "      <td>0.380505</td>\n",
       "      <td>-1.123347</td>\n",
       "      <td>0.999983</td>\n",
       "      <td>0.570560</td>\n",
       "      <td>0.327515</td>\n",
       "      <td>-1.053539</td>\n",
       "      <td>0.999974</td>\n",
       "      <td>0.586938</td>\n",
       "      <td>...</td>\n",
       "      <td>0.001039</td>\n",
       "      <td>0.0</td>\n",
       "      <td>0.589929</td>\n",
       "      <td>0.320670</td>\n",
       "      <td>0.009411</td>\n",
       "      <td>0.0</td>\n",
       "      <td>0.595237</td>\n",
       "      <td>0.315857</td>\n",
       "      <td>0.009166</td>\n",
       "      <td>0.0</td>\n",
       "    </tr>\n",
       "    <tr>\n",
       "      <th>418</th>\n",
       "      <td>anio</td>\n",
       "      <td>0.537042</td>\n",
       "      <td>0.380739</td>\n",
       "      <td>-1.173109</td>\n",
       "      <td>0.999978</td>\n",
       "      <td>0.570454</td>\n",
       "      <td>0.327509</td>\n",
       "      <td>-1.100974</td>\n",
       "      <td>0.999967</td>\n",
       "      <td>0.586798</td>\n",
       "      <td>...</td>\n",
       "      <td>0.000174</td>\n",
       "      <td>0.0</td>\n",
       "      <td>0.587900</td>\n",
       "      <td>0.321684</td>\n",
       "      <td>0.007567</td>\n",
       "      <td>0.0</td>\n",
       "      <td>0.593237</td>\n",
       "      <td>0.316653</td>\n",
       "      <td>0.007254</td>\n",
       "      <td>0.0</td>\n",
       "    </tr>\n",
       "    <tr>\n",
       "      <th>419</th>\n",
       "      <td>anio</td>\n",
       "      <td>0.537149</td>\n",
       "      <td>0.381378</td>\n",
       "      <td>-1.129792</td>\n",
       "      <td>0.999975</td>\n",
       "      <td>0.571131</td>\n",
       "      <td>0.327530</td>\n",
       "      <td>-1.057510</td>\n",
       "      <td>0.999964</td>\n",
       "      <td>0.587072</td>\n",
       "      <td>...</td>\n",
       "      <td>-0.000193</td>\n",
       "      <td>0.0</td>\n",
       "      <td>0.591049</td>\n",
       "      <td>0.327298</td>\n",
       "      <td>0.007726</td>\n",
       "      <td>0.0</td>\n",
       "      <td>0.596778</td>\n",
       "      <td>0.320559</td>\n",
       "      <td>0.007746</td>\n",
       "      <td>0.0</td>\n",
       "    </tr>\n",
       "    <tr>\n",
       "      <th>...</th>\n",
       "      <td>...</td>\n",
       "      <td>...</td>\n",
       "      <td>...</td>\n",
       "      <td>...</td>\n",
       "      <td>...</td>\n",
       "      <td>...</td>\n",
       "      <td>...</td>\n",
       "      <td>...</td>\n",
       "      <td>...</td>\n",
       "      <td>...</td>\n",
       "      <td>...</td>\n",
       "      <td>...</td>\n",
       "      <td>...</td>\n",
       "      <td>...</td>\n",
       "      <td>...</td>\n",
       "      <td>...</td>\n",
       "      <td>...</td>\n",
       "      <td>...</td>\n",
       "      <td>...</td>\n",
       "      <td>...</td>\n",
       "      <td>...</td>\n",
       "    </tr>\n",
       "    <tr>\n",
       "      <th>823</th>\n",
       "      <td>anio</td>\n",
       "      <td>0.540826</td>\n",
       "      <td>0.418476</td>\n",
       "      <td>-0.787728</td>\n",
       "      <td>0.999902</td>\n",
       "      <td>0.562513</td>\n",
       "      <td>0.374420</td>\n",
       "      <td>-0.714568</td>\n",
       "      <td>0.999735</td>\n",
       "      <td>0.574644</td>\n",
       "      <td>...</td>\n",
       "      <td>0.004085</td>\n",
       "      <td>0.0</td>\n",
       "      <td>0.583972</td>\n",
       "      <td>0.362799</td>\n",
       "      <td>0.019421</td>\n",
       "      <td>0.0</td>\n",
       "      <td>0.588139</td>\n",
       "      <td>0.359515</td>\n",
       "      <td>0.019948</td>\n",
       "      <td>0.0</td>\n",
       "    </tr>\n",
       "    <tr>\n",
       "      <th>824</th>\n",
       "      <td>anio</td>\n",
       "      <td>0.540816</td>\n",
       "      <td>0.418981</td>\n",
       "      <td>-0.821835</td>\n",
       "      <td>0.999907</td>\n",
       "      <td>0.562678</td>\n",
       "      <td>0.374692</td>\n",
       "      <td>-0.747167</td>\n",
       "      <td>0.999749</td>\n",
       "      <td>0.574945</td>\n",
       "      <td>...</td>\n",
       "      <td>0.004282</td>\n",
       "      <td>0.0</td>\n",
       "      <td>0.584778</td>\n",
       "      <td>0.362764</td>\n",
       "      <td>0.019610</td>\n",
       "      <td>0.0</td>\n",
       "      <td>0.588980</td>\n",
       "      <td>0.359409</td>\n",
       "      <td>0.020158</td>\n",
       "      <td>0.0</td>\n",
       "    </tr>\n",
       "    <tr>\n",
       "      <th>825</th>\n",
       "      <td>anio</td>\n",
       "      <td>0.540807</td>\n",
       "      <td>0.418862</td>\n",
       "      <td>-0.774413</td>\n",
       "      <td>0.999913</td>\n",
       "      <td>0.562752</td>\n",
       "      <td>0.374679</td>\n",
       "      <td>-0.695256</td>\n",
       "      <td>0.999764</td>\n",
       "      <td>0.575028</td>\n",
       "      <td>...</td>\n",
       "      <td>0.005107</td>\n",
       "      <td>0.0</td>\n",
       "      <td>0.584656</td>\n",
       "      <td>0.365388</td>\n",
       "      <td>0.019967</td>\n",
       "      <td>0.0</td>\n",
       "      <td>0.589132</td>\n",
       "      <td>0.360721</td>\n",
       "      <td>0.020684</td>\n",
       "      <td>0.0</td>\n",
       "    </tr>\n",
       "    <tr>\n",
       "      <th>826</th>\n",
       "      <td>anio</td>\n",
       "      <td>0.540889</td>\n",
       "      <td>0.418715</td>\n",
       "      <td>-0.803152</td>\n",
       "      <td>0.999916</td>\n",
       "      <td>0.562976</td>\n",
       "      <td>0.374678</td>\n",
       "      <td>-0.724844</td>\n",
       "      <td>0.999772</td>\n",
       "      <td>0.575379</td>\n",
       "      <td>...</td>\n",
       "      <td>0.004595</td>\n",
       "      <td>0.0</td>\n",
       "      <td>0.584939</td>\n",
       "      <td>0.363001</td>\n",
       "      <td>0.020209</td>\n",
       "      <td>0.0</td>\n",
       "      <td>0.589117</td>\n",
       "      <td>0.359709</td>\n",
       "      <td>0.020751</td>\n",
       "      <td>0.0</td>\n",
       "    </tr>\n",
       "    <tr>\n",
       "      <th>827</th>\n",
       "      <td>anio</td>\n",
       "      <td>0.541753</td>\n",
       "      <td>0.420114</td>\n",
       "      <td>-0.782571</td>\n",
       "      <td>0.999915</td>\n",
       "      <td>0.563872</td>\n",
       "      <td>0.376214</td>\n",
       "      <td>-0.710093</td>\n",
       "      <td>0.999772</td>\n",
       "      <td>0.576616</td>\n",
       "      <td>...</td>\n",
       "      <td>0.005740</td>\n",
       "      <td>0.0</td>\n",
       "      <td>0.584464</td>\n",
       "      <td>0.367080</td>\n",
       "      <td>0.020942</td>\n",
       "      <td>0.0</td>\n",
       "      <td>0.589103</td>\n",
       "      <td>0.361842</td>\n",
       "      <td>0.021718</td>\n",
>>>>>>> 28f21dd (added time sign data and models)
       "      <td>0.0</td>\n",
       "    </tr>\n",
       "  </tbody>\n",
       "</table>\n",
<<<<<<< HEAD
       "<p>5 rows × 2005 columns</p>\n",
=======
       "<p>413 rows × 2005 columns</p>\n",
>>>>>>> 28f21dd (added time sign data and models)
       "</div>"
      ],
      "text/plain": [
       "    class        x1        y1        z1        v1        x2        y2  \\\n",
<<<<<<< HEAD
       "500  bien  0.595054  0.357828 -1.051835  0.999893  0.627182  0.281425   \n",
       "501  bien  0.584939  0.358493 -1.064896  0.999897  0.617338  0.281891   \n",
       "502  bien  0.582489  0.359019 -1.079598  0.999903  0.614424  0.282432   \n",
       "503  bien  0.581719  0.360786 -1.009336  0.999907  0.612969  0.283730   \n",
       "504  bien  0.580060  0.361403 -0.993205  0.999913  0.610810  0.284224   \n",
       "\n",
       "           z2        v2        x3  ...      z499  v499      x500      y500  \\\n",
       "500 -0.996402  0.999768  0.648592  ... -0.001397   0.0  0.646575  0.278519   \n",
       "501 -1.009192  0.999774  0.639153  ... -0.002910   0.0  0.643986  0.279315   \n",
       "502 -1.022348  0.999783  0.636224  ... -0.002693   0.0  0.645582  0.280061   \n",
       "503 -0.956925  0.999789  0.634580  ... -0.002461   0.0  0.645904  0.281520   \n",
       "504 -0.942761  0.999800  0.632336  ... -0.002079   0.0  0.645282  0.280876   \n",
       "\n",
       "         z500  v500      x501      y501      z501  v501  \n",
       "500  0.017722   0.0  0.651645  0.270069  0.018374   0.0  \n",
       "501  0.015975   0.0  0.649053  0.270646  0.016635   0.0  \n",
       "502  0.016411   0.0  0.650676  0.270929  0.017121   0.0  \n",
       "503  0.016854   0.0  0.651049  0.272292  0.017630   0.0  \n",
       "504  0.017424   0.0  0.650362  0.272018  0.018172   0.0  \n",
       "\n",
       "[5 rows x 2005 columns]"
      ]
     },
     "execution_count": 30,
=======
       "415  anio  0.537167  0.379919 -0.727094  0.999994  0.569766  0.327761   \n",
       "416  anio  0.538806  0.379869 -1.088912  0.999988  0.570749  0.327520   \n",
       "417  anio  0.537832  0.380505 -1.123347  0.999983  0.570560  0.327515   \n",
       "418  anio  0.537042  0.380739 -1.173109  0.999978  0.570454  0.327509   \n",
       "419  anio  0.537149  0.381378 -1.129792  0.999975  0.571131  0.327530   \n",
       "..    ...       ...       ...       ...       ...       ...       ...   \n",
       "823  anio  0.540826  0.418476 -0.787728  0.999902  0.562513  0.374420   \n",
       "824  anio  0.540816  0.418981 -0.821835  0.999907  0.562678  0.374692   \n",
       "825  anio  0.540807  0.418862 -0.774413  0.999913  0.562752  0.374679   \n",
       "826  anio  0.540889  0.418715 -0.803152  0.999916  0.562976  0.374678   \n",
       "827  anio  0.541753  0.420114 -0.782571  0.999915  0.563872  0.376214   \n",
       "\n",
       "           z2        v2        x3  ...      z499  v499      x500      y500  \\\n",
       "415 -0.675342  0.999989  0.587081  ...  0.002245   0.0  0.589399  0.316334   \n",
       "416 -1.013447  0.999979  0.587151  ...  0.001376   0.0  0.591470  0.316294   \n",
       "417 -1.053539  0.999974  0.586938  ...  0.001039   0.0  0.589929  0.320670   \n",
       "418 -1.100974  0.999967  0.586798  ...  0.000174   0.0  0.587900  0.321684   \n",
       "419 -1.057510  0.999964  0.587072  ... -0.000193   0.0  0.591049  0.327298   \n",
       "..        ...       ...       ...  ...       ...   ...       ...       ...   \n",
       "823 -0.714568  0.999735  0.574644  ...  0.004085   0.0  0.583972  0.362799   \n",
       "824 -0.747167  0.999749  0.574945  ...  0.004282   0.0  0.584778  0.362764   \n",
       "825 -0.695256  0.999764  0.575028  ...  0.005107   0.0  0.584656  0.365388   \n",
       "826 -0.724844  0.999772  0.575379  ...  0.004595   0.0  0.584939  0.363001   \n",
       "827 -0.710093  0.999772  0.576616  ...  0.005740   0.0  0.584464  0.367080   \n",
       "\n",
       "         z500  v500      x501      y501      z501  v501  \n",
       "415  0.010716   0.0  0.594814  0.311495  0.010657   0.0  \n",
       "416  0.010541   0.0  0.596641  0.311898  0.010466   0.0  \n",
       "417  0.009411   0.0  0.595237  0.315857  0.009166   0.0  \n",
       "418  0.007567   0.0  0.593237  0.316653  0.007254   0.0  \n",
       "419  0.007726   0.0  0.596778  0.320559  0.007746   0.0  \n",
       "..        ...   ...       ...       ...       ...   ...  \n",
       "823  0.019421   0.0  0.588139  0.359515  0.019948   0.0  \n",
       "824  0.019610   0.0  0.588980  0.359409  0.020158   0.0  \n",
       "825  0.019967   0.0  0.589132  0.360721  0.020684   0.0  \n",
       "826  0.020209   0.0  0.589117  0.359709  0.020751   0.0  \n",
       "827  0.020942   0.0  0.589103  0.361842  0.021718   0.0  \n",
       "\n",
       "[413 rows x 2005 columns]"
      ]
     },
     "execution_count": 145,
>>>>>>> 28f21dd (added time sign data and models)
     "metadata": {},
     "output_type": "execute_result"
    }
   ],
   "source": [
<<<<<<< HEAD
    "df.tail()"
=======
    "df[df['class']=='anio']"
>>>>>>> 28f21dd (added time sign data and models)
   ]
  },
  {
   "cell_type": "code",
<<<<<<< HEAD
   "execution_count": 31,
   "metadata": {},
   "outputs": [
    {
     "data": {
      "text/html": [
       "<div>\n",
       "<style scoped>\n",
       "    .dataframe tbody tr th:only-of-type {\n",
       "        vertical-align: middle;\n",
       "    }\n",
       "\n",
       "    .dataframe tbody tr th {\n",
       "        vertical-align: top;\n",
       "    }\n",
       "\n",
       "    .dataframe thead th {\n",
       "        text-align: right;\n",
       "    }\n",
       "</style>\n",
       "<table border=\"1\" class=\"dataframe\">\n",
       "  <thead>\n",
       "    <tr style=\"text-align: right;\">\n",
       "      <th></th>\n",
       "      <th>class</th>\n",
       "      <th>x1</th>\n",
       "      <th>y1</th>\n",
       "      <th>z1</th>\n",
       "      <th>v1</th>\n",
       "      <th>x2</th>\n",
       "      <th>y2</th>\n",
       "      <th>z2</th>\n",
       "      <th>v2</th>\n",
       "      <th>x3</th>\n",
       "      <th>...</th>\n",
       "      <th>z499</th>\n",
       "      <th>v499</th>\n",
       "      <th>x500</th>\n",
       "      <th>y500</th>\n",
       "      <th>z500</th>\n",
       "      <th>v500</th>\n",
       "      <th>x501</th>\n",
       "      <th>y501</th>\n",
       "      <th>z501</th>\n",
       "      <th>v501</th>\n",
       "    </tr>\n",
       "  </thead>\n",
       "  <tbody>\n",
       "  </tbody>\n",
       "</table>\n",
       "<p>0 rows × 2005 columns</p>\n",
       "</div>"
      ],
      "text/plain": [
       "Empty DataFrame\n",
       "Columns: [class, x1, y1, z1, v1, x2, y2, z2, v2, x3, y3, z3, v3, x4, y4, z4, v4, x5, y5, z5, v5, x6, y6, z6, v6, x7, y7, z7, v7, x8, y8, z8, v8, x9, y9, z9, v9, x10, y10, z10, v10, x11, y11, z11, v11, x12, y12, z12, v12, x13, y13, z13, v13, x14, y14, z14, v14, x15, y15, z15, v15, x16, y16, z16, v16, x17, y17, z17, v17, x18, y18, z18, v18, x19, y19, z19, v19, x20, y20, z20, v20, x21, y21, z21, v21, x22, y22, z22, v22, x23, y23, z23, v23, x24, y24, z24, v24, x25, y25, z25, ...]\n",
       "Index: []\n",
       "\n",
       "[0 rows x 2005 columns]"
      ]
     },
     "execution_count": 31,
     "metadata": {},
     "output_type": "execute_result"
    }
   ],
   "source": [
    "df[df['class']=='Mal']"
   ]
  },
  {
   "cell_type": "markdown",
   "metadata": {},
   "source": [
    "x, y, z son las caracteristicas que le pasaremos al modelo para entrenarlo.\n",
    "La idea es que se pasen esas coordenadas y el modelo pueda predecir que clase es (pose)"
   ]
  },
  {
   "cell_type": "code",
   "execution_count": 32,
   "metadata": {},
=======
   "execution_count": 146,
   "id": "e10e3044-f0e9-430c-94b3-b29ce15410e5",
   "metadata": {
    "metadata": {}
   },
>>>>>>> 28f21dd (added time sign data and models)
   "outputs": [],
   "source": [
    "X = df.drop('class', axis=1) # coordenadas\n",
    "y = df['class'] # clase"
   ]
  },
  {
   "cell_type": "code",
<<<<<<< HEAD
   "execution_count": 33,
   "metadata": {},
=======
   "execution_count": 147,
   "id": "e0305d67-d3bc-44a7-9b61-49fd60db48fe",
   "metadata": {
    "metadata": {}
   },
>>>>>>> 28f21dd (added time sign data and models)
   "outputs": [
    {
     "data": {
      "text/plain": [
<<<<<<< HEAD
       "0      amor y paz\n",
       "1      amor y paz\n",
       "2      amor y paz\n",
       "3      amor y paz\n",
       "4      amor y paz\n",
       "          ...    \n",
       "500          bien\n",
       "501          bien\n",
       "502          bien\n",
       "503          bien\n",
       "504          bien\n",
       "Name: class, Length: 505, dtype: object"
      ]
     },
     "execution_count": 33,
=======
       "0          mes\n",
       "1          mes\n",
       "2          mes\n",
       "3          mes\n",
       "4          mes\n",
       "         ...  \n",
       "1257    aveces\n",
       "1258    aveces\n",
       "1259    aveces\n",
       "1260    aveces\n",
       "1261    aveces\n",
       "Name: class, Length: 1262, dtype: object"
      ]
     },
     "execution_count": 147,
>>>>>>> 28f21dd (added time sign data and models)
     "metadata": {},
     "output_type": "execute_result"
    }
   ],
   "source": [
    "y #X = coords , y = class"
   ]
  },
  {
<<<<<<< HEAD
   "cell_type": "code",
   "execution_count": 34,
   "metadata": {},
=======
   "cell_type": "markdown",
   "id": "2e141ba3",
   "metadata": {},
   "source": [
    "train_test_split(): dividide los datos en conjuntos de entrenamiento y prueba.\n",
    "- test_size: Es el tamaño que se desea para el conjunto de prueba. Se establece en 0.3, lo que significa que el 30% de los datos se asignarán al conjunto de prueba, y el 70% restante se utilizará para entrenamiento.\n",
    "- random_state: Este parámetro se utiliza para inicializar el generador de números aleatorios interno, lo que garantiza que la división de los datos sea reproducible"
   ]
  },
  {
   "cell_type": "code",
   "execution_count": 148,
   "id": "cee40d30-58f9-41af-8596-55ccc4ca0e92",
   "metadata": {
    "metadata": {}
   },
>>>>>>> 28f21dd (added time sign data and models)
   "outputs": [],
   "source": [
    "X_train, X_test, y_train, y_test = train_test_split(X, y, test_size=0.3, random_state=1234)"
   ]
  },
  {
   "cell_type": "code",
<<<<<<< HEAD
   "execution_count": 35,
   "metadata": {},
=======
   "execution_count": 149,
   "id": "0c136941-0a6c-4864-8f5d-88bdd338a725",
   "metadata": {
    "metadata": {}
   },
>>>>>>> 28f21dd (added time sign data and models)
   "outputs": [
    {
     "data": {
      "text/html": [
       "<div>\n",
       "<style scoped>\n",
       "    .dataframe tbody tr th:only-of-type {\n",
       "        vertical-align: middle;\n",
       "    }\n",
       "\n",
       "    .dataframe tbody tr th {\n",
       "        vertical-align: top;\n",
       "    }\n",
       "\n",
       "    .dataframe thead th {\n",
       "        text-align: right;\n",
       "    }\n",
       "</style>\n",
       "<table border=\"1\" class=\"dataframe\">\n",
       "  <thead>\n",
       "    <tr style=\"text-align: right;\">\n",
       "      <th></th>\n",
       "      <th>x1</th>\n",
       "      <th>y1</th>\n",
       "      <th>z1</th>\n",
       "      <th>v1</th>\n",
       "      <th>x2</th>\n",
       "      <th>y2</th>\n",
       "      <th>z2</th>\n",
       "      <th>v2</th>\n",
       "      <th>x3</th>\n",
       "      <th>y3</th>\n",
       "      <th>...</th>\n",
       "      <th>z499</th>\n",
       "      <th>v499</th>\n",
       "      <th>x500</th>\n",
       "      <th>y500</th>\n",
       "      <th>z500</th>\n",
       "      <th>v500</th>\n",
       "      <th>x501</th>\n",
       "      <th>y501</th>\n",
       "      <th>z501</th>\n",
       "      <th>v501</th>\n",
       "    </tr>\n",
       "  </thead>\n",
       "  <tbody>\n",
       "    <tr>\n",
<<<<<<< HEAD
       "      <th>102</th>\n",
       "      <td>0.593129</td>\n",
       "      <td>0.354836</td>\n",
       "      <td>-0.648603</td>\n",
       "      <td>0.999986</td>\n",
       "      <td>0.621495</td>\n",
       "      <td>0.281147</td>\n",
       "      <td>-0.612483</td>\n",
       "      <td>0.999972</td>\n",
       "      <td>0.641869</td>\n",
       "      <td>0.280944</td>\n",
       "      <td>...</td>\n",
       "      <td>0.001521</td>\n",
       "      <td>0.0</td>\n",
       "      <td>0.654161</td>\n",
       "      <td>0.288438</td>\n",
       "      <td>0.019574</td>\n",
       "      <td>0.0</td>\n",
       "      <td>0.659291</td>\n",
       "      <td>0.278075</td>\n",
       "      <td>0.020465</td>\n",
       "      <td>0.0</td>\n",
       "    </tr>\n",
       "    <tr>\n",
       "      <th>481</th>\n",
       "      <td>0.588485</td>\n",
       "      <td>0.384444</td>\n",
       "      <td>-1.063354</td>\n",
       "      <td>0.999906</td>\n",
       "      <td>0.619695</td>\n",
       "      <td>0.306764</td>\n",
       "      <td>-1.002501</td>\n",
       "      <td>0.999806</td>\n",
       "      <td>0.641279</td>\n",
       "      <td>0.304519</td>\n",
       "      <td>...</td>\n",
       "      <td>-0.002045</td>\n",
       "      <td>0.0</td>\n",
       "      <td>0.648583</td>\n",
       "      <td>0.291561</td>\n",
       "      <td>0.016104</td>\n",
       "      <td>0.0</td>\n",
       "      <td>0.653501</td>\n",
       "      <td>0.279927</td>\n",
       "      <td>0.017011</td>\n",
       "      <td>0.0</td>\n",
       "    </tr>\n",
       "    <tr>\n",
       "      <th>224</th>\n",
       "      <td>0.598080</td>\n",
       "      <td>0.410039</td>\n",
       "      <td>-0.655740</td>\n",
       "      <td>0.999986</td>\n",
       "      <td>0.630369</td>\n",
       "      <td>0.333059</td>\n",
       "      <td>-0.627165</td>\n",
       "      <td>0.999969</td>\n",
       "      <td>0.652087</td>\n",
       "      <td>0.332292</td>\n",
       "      <td>...</td>\n",
       "      <td>-0.002091</td>\n",
       "      <td>0.0</td>\n",
       "      <td>0.660826</td>\n",
       "      <td>0.317732</td>\n",
       "      <td>0.017624</td>\n",
       "      <td>0.0</td>\n",
       "      <td>0.665611</td>\n",
       "      <td>0.308676</td>\n",
       "      <td>0.018387</td>\n",
       "      <td>0.0</td>\n",
       "    </tr>\n",
       "    <tr>\n",
       "      <th>101</th>\n",
       "      <td>0.593478</td>\n",
       "      <td>0.352942</td>\n",
       "      <td>-0.638772</td>\n",
       "      <td>0.999986</td>\n",
       "      <td>0.621561</td>\n",
       "      <td>0.279780</td>\n",
       "      <td>-0.597709</td>\n",
       "      <td>0.999971</td>\n",
       "      <td>0.641887</td>\n",
       "      <td>0.279910</td>\n",
       "      <td>...</td>\n",
       "      <td>0.002133</td>\n",
       "      <td>0.0</td>\n",
       "      <td>0.653452</td>\n",
       "      <td>0.288036</td>\n",
       "      <td>0.020127</td>\n",
       "      <td>0.0</td>\n",
       "      <td>0.658615</td>\n",
       "      <td>0.277214</td>\n",
       "      <td>0.021052</td>\n",
       "      <td>0.0</td>\n",
       "    </tr>\n",
       "    <tr>\n",
       "      <th>391</th>\n",
       "      <td>0.562889</td>\n",
       "      <td>0.405048</td>\n",
       "      <td>-1.114198</td>\n",
       "      <td>0.999976</td>\n",
       "      <td>0.592954</td>\n",
       "      <td>0.326759</td>\n",
       "      <td>-1.068182</td>\n",
       "      <td>0.999939</td>\n",
       "      <td>0.613824</td>\n",
       "      <td>0.325410</td>\n",
       "      <td>...</td>\n",
       "      <td>-0.001490</td>\n",
       "      <td>0.0</td>\n",
       "      <td>0.618873</td>\n",
       "      <td>0.305226</td>\n",
       "      <td>0.016905</td>\n",
       "      <td>0.0</td>\n",
       "      <td>0.623304</td>\n",
       "      <td>0.298032</td>\n",
       "      <td>0.017323</td>\n",
=======
       "      <th>1071</th>\n",
       "      <td>0.531715</td>\n",
       "      <td>0.408507</td>\n",
       "      <td>-0.618889</td>\n",
       "      <td>0.999999</td>\n",
       "      <td>0.558529</td>\n",
       "      <td>0.359588</td>\n",
       "      <td>-0.564094</td>\n",
       "      <td>0.999998</td>\n",
       "      <td>0.571593</td>\n",
       "      <td>0.361934</td>\n",
       "      <td>...</td>\n",
       "      <td>0.002819</td>\n",
       "      <td>0.0</td>\n",
       "      <td>0.582799</td>\n",
       "      <td>0.346580</td>\n",
       "      <td>0.013658</td>\n",
       "      <td>0.0</td>\n",
       "      <td>0.587393</td>\n",
       "      <td>0.343068</td>\n",
       "      <td>0.013838</td>\n",
       "      <td>0.0</td>\n",
       "    </tr>\n",
       "    <tr>\n",
       "      <th>480</th>\n",
       "      <td>0.544767</td>\n",
       "      <td>0.425135</td>\n",
       "      <td>-0.819661</td>\n",
       "      <td>0.999923</td>\n",
       "      <td>0.570177</td>\n",
       "      <td>0.379395</td>\n",
       "      <td>-0.745749</td>\n",
       "      <td>0.999802</td>\n",
       "      <td>0.582672</td>\n",
       "      <td>0.380828</td>\n",
       "      <td>...</td>\n",
       "      <td>0.001898</td>\n",
       "      <td>0.0</td>\n",
       "      <td>0.587786</td>\n",
       "      <td>0.370268</td>\n",
       "      <td>0.012536</td>\n",
       "      <td>0.0</td>\n",
       "      <td>0.592594</td>\n",
       "      <td>0.365621</td>\n",
       "      <td>0.012824</td>\n",
       "      <td>0.0</td>\n",
       "    </tr>\n",
       "    <tr>\n",
       "      <th>755</th>\n",
       "      <td>0.545779</td>\n",
       "      <td>0.425959</td>\n",
       "      <td>-0.960496</td>\n",
       "      <td>0.999931</td>\n",
       "      <td>0.568995</td>\n",
       "      <td>0.382697</td>\n",
       "      <td>-0.896343</td>\n",
       "      <td>0.999815</td>\n",
       "      <td>0.583019</td>\n",
       "      <td>0.385348</td>\n",
       "      <td>...</td>\n",
       "      <td>0.003339</td>\n",
       "      <td>0.0</td>\n",
       "      <td>0.584947</td>\n",
       "      <td>0.361260</td>\n",
       "      <td>0.018827</td>\n",
       "      <td>0.0</td>\n",
       "      <td>0.588935</td>\n",
       "      <td>0.358371</td>\n",
       "      <td>0.019233</td>\n",
       "      <td>0.0</td>\n",
       "    </tr>\n",
       "    <tr>\n",
       "      <th>463</th>\n",
       "      <td>0.532203</td>\n",
       "      <td>0.395383</td>\n",
       "      <td>-0.734580</td>\n",
       "      <td>0.999941</td>\n",
       "      <td>0.549578</td>\n",
       "      <td>0.352531</td>\n",
       "      <td>-0.647906</td>\n",
       "      <td>0.999816</td>\n",
       "      <td>0.561977</td>\n",
       "      <td>0.353974</td>\n",
       "      <td>...</td>\n",
       "      <td>0.005607</td>\n",
       "      <td>0.0</td>\n",
       "      <td>0.572163</td>\n",
       "      <td>0.359535</td>\n",
       "      <td>0.017878</td>\n",
       "      <td>0.0</td>\n",
       "      <td>0.576444</td>\n",
       "      <td>0.354848</td>\n",
       "      <td>0.018105</td>\n",
       "      <td>0.0</td>\n",
       "    </tr>\n",
       "    <tr>\n",
       "      <th>1220</th>\n",
       "      <td>0.539375</td>\n",
       "      <td>0.406473</td>\n",
       "      <td>-0.767139</td>\n",
       "      <td>0.999997</td>\n",
       "      <td>0.566482</td>\n",
       "      <td>0.360515</td>\n",
       "      <td>-0.695487</td>\n",
       "      <td>0.999993</td>\n",
       "      <td>0.579690</td>\n",
       "      <td>0.363167</td>\n",
       "      <td>...</td>\n",
       "      <td>0.001953</td>\n",
       "      <td>0.0</td>\n",
       "      <td>0.587790</td>\n",
       "      <td>0.350942</td>\n",
       "      <td>0.011578</td>\n",
       "      <td>0.0</td>\n",
       "      <td>0.592365</td>\n",
       "      <td>0.347192</td>\n",
       "      <td>0.011656</td>\n",
>>>>>>> 28f21dd (added time sign data and models)
       "      <td>0.0</td>\n",
       "    </tr>\n",
       "    <tr>\n",
       "      <th>...</th>\n",
       "      <td>...</td>\n",
       "      <td>...</td>\n",
       "      <td>...</td>\n",
       "      <td>...</td>\n",
       "      <td>...</td>\n",
       "      <td>...</td>\n",
       "      <td>...</td>\n",
       "      <td>...</td>\n",
       "      <td>...</td>\n",
       "      <td>...</td>\n",
       "      <td>...</td>\n",
       "      <td>...</td>\n",
       "      <td>...</td>\n",
       "      <td>...</td>\n",
       "      <td>...</td>\n",
       "      <td>...</td>\n",
       "      <td>...</td>\n",
       "      <td>...</td>\n",
       "      <td>...</td>\n",
       "      <td>...</td>\n",
       "      <td>...</td>\n",
       "    </tr>\n",
       "    <tr>\n",
<<<<<<< HEAD
       "      <th>204</th>\n",
       "      <td>0.610540</td>\n",
       "      <td>0.413750</td>\n",
       "      <td>-0.686949</td>\n",
       "      <td>0.999982</td>\n",
       "      <td>0.642688</td>\n",
       "      <td>0.331829</td>\n",
       "      <td>-0.645121</td>\n",
       "      <td>0.999960</td>\n",
       "      <td>0.661125</td>\n",
       "      <td>0.330453</td>\n",
       "      <td>...</td>\n",
       "      <td>-0.003541</td>\n",
       "      <td>0.0</td>\n",
       "      <td>0.673477</td>\n",
       "      <td>0.332511</td>\n",
       "      <td>0.016724</td>\n",
       "      <td>0.0</td>\n",
       "      <td>0.678542</td>\n",
       "      <td>0.321920</td>\n",
       "      <td>0.017610</td>\n",
       "      <td>0.0</td>\n",
       "    </tr>\n",
       "    <tr>\n",
       "      <th>53</th>\n",
       "      <td>0.575423</td>\n",
       "      <td>0.389704</td>\n",
       "      <td>-0.672373</td>\n",
       "      <td>0.999989</td>\n",
       "      <td>0.606081</td>\n",
       "      <td>0.307008</td>\n",
       "      <td>-0.637808</td>\n",
       "      <td>0.999975</td>\n",
       "      <td>0.625751</td>\n",
       "      <td>0.305252</td>\n",
       "      <td>...</td>\n",
       "      <td>0.002514</td>\n",
       "      <td>0.0</td>\n",
       "      <td>0.647343</td>\n",
       "      <td>0.303932</td>\n",
       "      <td>0.022101</td>\n",
       "      <td>0.0</td>\n",
       "      <td>0.652525</td>\n",
       "      <td>0.291424</td>\n",
       "      <td>0.023222</td>\n",
       "      <td>0.0</td>\n",
       "    </tr>\n",
       "    <tr>\n",
       "      <th>294</th>\n",
       "      <td>0.575801</td>\n",
       "      <td>0.357035</td>\n",
       "      <td>-0.704895</td>\n",
       "      <td>0.999965</td>\n",
       "      <td>0.605204</td>\n",
       "      <td>0.276685</td>\n",
       "      <td>-0.665454</td>\n",
       "      <td>0.999910</td>\n",
       "      <td>0.626156</td>\n",
       "      <td>0.277073</td>\n",
       "      <td>...</td>\n",
       "      <td>-0.000188</td>\n",
       "      <td>0.0</td>\n",
       "      <td>0.636027</td>\n",
       "      <td>0.282495</td>\n",
       "      <td>0.020668</td>\n",
       "      <td>0.0</td>\n",
       "      <td>0.641443</td>\n",
       "      <td>0.272204</td>\n",
       "      <td>0.021702</td>\n",
       "      <td>0.0</td>\n",
       "    </tr>\n",
       "    <tr>\n",
       "      <th>211</th>\n",
       "      <td>0.613617</td>\n",
       "      <td>0.411555</td>\n",
       "      <td>-0.675507</td>\n",
       "      <td>0.999988</td>\n",
       "      <td>0.645847</td>\n",
       "      <td>0.329384</td>\n",
       "      <td>-0.633247</td>\n",
       "      <td>0.999975</td>\n",
       "      <td>0.663830</td>\n",
       "      <td>0.328112</td>\n",
       "      <td>...</td>\n",
       "      <td>-0.003225</td>\n",
       "      <td>0.0</td>\n",
       "      <td>0.672307</td>\n",
       "      <td>0.330320</td>\n",
       "      <td>0.016600</td>\n",
       "      <td>0.0</td>\n",
       "      <td>0.677320</td>\n",
       "      <td>0.319676</td>\n",
       "      <td>0.017444</td>\n",
       "      <td>0.0</td>\n",
       "    </tr>\n",
       "    <tr>\n",
       "      <th>303</th>\n",
       "      <td>0.617422</td>\n",
       "      <td>0.360929</td>\n",
       "      <td>-0.952367</td>\n",
       "      <td>0.999972</td>\n",
       "      <td>0.646639</td>\n",
       "      <td>0.280869</td>\n",
       "      <td>-0.909287</td>\n",
       "      <td>0.999932</td>\n",
       "      <td>0.665684</td>\n",
       "      <td>0.280332</td>\n",
       "      <td>...</td>\n",
       "      <td>0.001374</td>\n",
       "      <td>0.0</td>\n",
       "      <td>0.686170</td>\n",
       "      <td>0.284641</td>\n",
       "      <td>0.022867</td>\n",
       "      <td>0.0</td>\n",
       "      <td>0.691675</td>\n",
       "      <td>0.274402</td>\n",
       "      <td>0.024048</td>\n",
=======
       "      <th>664</th>\n",
       "      <td>0.544871</td>\n",
       "      <td>0.403599</td>\n",
       "      <td>-0.954051</td>\n",
       "      <td>0.999895</td>\n",
       "      <td>0.562191</td>\n",
       "      <td>0.366016</td>\n",
       "      <td>-0.873285</td>\n",
       "      <td>0.999703</td>\n",
       "      <td>0.573294</td>\n",
       "      <td>0.367486</td>\n",
       "      <td>...</td>\n",
       "      <td>0.007831</td>\n",
       "      <td>0.0</td>\n",
       "      <td>0.583905</td>\n",
       "      <td>0.363821</td>\n",
       "      <td>0.025952</td>\n",
       "      <td>0.0</td>\n",
       "      <td>0.588535</td>\n",
       "      <td>0.359029</td>\n",
       "      <td>0.026828</td>\n",
       "      <td>0.0</td>\n",
       "    </tr>\n",
       "    <tr>\n",
       "      <th>1228</th>\n",
       "      <td>0.538455</td>\n",
       "      <td>0.406140</td>\n",
       "      <td>-0.865450</td>\n",
       "      <td>0.999996</td>\n",
       "      <td>0.565894</td>\n",
       "      <td>0.360500</td>\n",
       "      <td>-0.794276</td>\n",
       "      <td>0.999992</td>\n",
       "      <td>0.579450</td>\n",
       "      <td>0.363064</td>\n",
       "      <td>...</td>\n",
       "      <td>0.001946</td>\n",
       "      <td>0.0</td>\n",
       "      <td>0.587157</td>\n",
       "      <td>0.352672</td>\n",
       "      <td>0.011117</td>\n",
       "      <td>0.0</td>\n",
       "      <td>0.591865</td>\n",
       "      <td>0.348543</td>\n",
       "      <td>0.011231</td>\n",
       "      <td>0.0</td>\n",
       "    </tr>\n",
       "    <tr>\n",
       "      <th>1077</th>\n",
       "      <td>0.527681</td>\n",
       "      <td>0.406673</td>\n",
       "      <td>-0.637033</td>\n",
       "      <td>1.000000</td>\n",
       "      <td>0.554090</td>\n",
       "      <td>0.358076</td>\n",
       "      <td>-0.577166</td>\n",
       "      <td>0.999999</td>\n",
       "      <td>0.567700</td>\n",
       "      <td>0.359977</td>\n",
       "      <td>...</td>\n",
       "      <td>0.003706</td>\n",
       "      <td>0.0</td>\n",
       "      <td>0.574409</td>\n",
       "      <td>0.350083</td>\n",
       "      <td>0.014133</td>\n",
       "      <td>0.0</td>\n",
       "      <td>0.579326</td>\n",
       "      <td>0.344993</td>\n",
       "      <td>0.014549</td>\n",
       "      <td>0.0</td>\n",
       "    </tr>\n",
       "    <tr>\n",
       "      <th>723</th>\n",
       "      <td>0.556669</td>\n",
       "      <td>0.400688</td>\n",
       "      <td>-1.033170</td>\n",
       "      <td>0.999843</td>\n",
       "      <td>0.572270</td>\n",
       "      <td>0.361469</td>\n",
       "      <td>-0.947566</td>\n",
       "      <td>0.999589</td>\n",
       "      <td>0.583556</td>\n",
       "      <td>0.363792</td>\n",
       "      <td>...</td>\n",
       "      <td>0.008003</td>\n",
       "      <td>0.0</td>\n",
       "      <td>0.584181</td>\n",
       "      <td>0.361442</td>\n",
       "      <td>0.025804</td>\n",
       "      <td>0.0</td>\n",
       "      <td>0.588740</td>\n",
       "      <td>0.357509</td>\n",
       "      <td>0.026512</td>\n",
       "      <td>0.0</td>\n",
       "    </tr>\n",
       "    <tr>\n",
       "      <th>815</th>\n",
       "      <td>0.541084</td>\n",
       "      <td>0.409899</td>\n",
       "      <td>-0.955480</td>\n",
       "      <td>0.999899</td>\n",
       "      <td>0.560968</td>\n",
       "      <td>0.368349</td>\n",
       "      <td>-0.880480</td>\n",
       "      <td>0.999722</td>\n",
       "      <td>0.571987</td>\n",
       "      <td>0.368886</td>\n",
       "      <td>...</td>\n",
       "      <td>0.005811</td>\n",
       "      <td>0.0</td>\n",
       "      <td>0.584513</td>\n",
       "      <td>0.361468</td>\n",
       "      <td>0.022864</td>\n",
       "      <td>0.0</td>\n",
       "      <td>0.588899</td>\n",
       "      <td>0.356946</td>\n",
       "      <td>0.023572</td>\n",
>>>>>>> 28f21dd (added time sign data and models)
       "      <td>0.0</td>\n",
       "    </tr>\n",
       "  </tbody>\n",
       "</table>\n",
<<<<<<< HEAD
       "<p>353 rows × 2004 columns</p>\n",
       "</div>"
      ],
      "text/plain": [
       "           x1        y1        z1        v1        x2        y2        z2  \\\n",
       "102  0.593129  0.354836 -0.648603  0.999986  0.621495  0.281147 -0.612483   \n",
       "481  0.588485  0.384444 -1.063354  0.999906  0.619695  0.306764 -1.002501   \n",
       "224  0.598080  0.410039 -0.655740  0.999986  0.630369  0.333059 -0.627165   \n",
       "101  0.593478  0.352942 -0.638772  0.999986  0.621561  0.279780 -0.597709   \n",
       "391  0.562889  0.405048 -1.114198  0.999976  0.592954  0.326759 -1.068182   \n",
       "..        ...       ...       ...       ...       ...       ...       ...   \n",
       "204  0.610540  0.413750 -0.686949  0.999982  0.642688  0.331829 -0.645121   \n",
       "53   0.575423  0.389704 -0.672373  0.999989  0.606081  0.307008 -0.637808   \n",
       "294  0.575801  0.357035 -0.704895  0.999965  0.605204  0.276685 -0.665454   \n",
       "211  0.613617  0.411555 -0.675507  0.999988  0.645847  0.329384 -0.633247   \n",
       "303  0.617422  0.360929 -0.952367  0.999972  0.646639  0.280869 -0.909287   \n",
       "\n",
       "           v2        x3        y3  ...      z499  v499      x500      y500  \\\n",
       "102  0.999972  0.641869  0.280944  ...  0.001521   0.0  0.654161  0.288438   \n",
       "481  0.999806  0.641279  0.304519  ... -0.002045   0.0  0.648583  0.291561   \n",
       "224  0.999969  0.652087  0.332292  ... -0.002091   0.0  0.660826  0.317732   \n",
       "101  0.999971  0.641887  0.279910  ...  0.002133   0.0  0.653452  0.288036   \n",
       "391  0.999939  0.613824  0.325410  ... -0.001490   0.0  0.618873  0.305226   \n",
       "..        ...       ...       ...  ...       ...   ...       ...       ...   \n",
       "204  0.999960  0.661125  0.330453  ... -0.003541   0.0  0.673477  0.332511   \n",
       "53   0.999975  0.625751  0.305252  ...  0.002514   0.0  0.647343  0.303932   \n",
       "294  0.999910  0.626156  0.277073  ... -0.000188   0.0  0.636027  0.282495   \n",
       "211  0.999975  0.663830  0.328112  ... -0.003225   0.0  0.672307  0.330320   \n",
       "303  0.999932  0.665684  0.280332  ...  0.001374   0.0  0.686170  0.284641   \n",
       "\n",
       "         z500  v500      x501      y501      z501  v501  \n",
       "102  0.019574   0.0  0.659291  0.278075  0.020465   0.0  \n",
       "481  0.016104   0.0  0.653501  0.279927  0.017011   0.0  \n",
       "224  0.017624   0.0  0.665611  0.308676  0.018387   0.0  \n",
       "101  0.020127   0.0  0.658615  0.277214  0.021052   0.0  \n",
       "391  0.016905   0.0  0.623304  0.298032  0.017323   0.0  \n",
       "..        ...   ...       ...       ...       ...   ...  \n",
       "204  0.016724   0.0  0.678542  0.321920  0.017610   0.0  \n",
       "53   0.022101   0.0  0.652525  0.291424  0.023222   0.0  \n",
       "294  0.020668   0.0  0.641443  0.272204  0.021702   0.0  \n",
       "211  0.016600   0.0  0.677320  0.319676  0.017444   0.0  \n",
       "303  0.022867   0.0  0.691675  0.274402  0.024048   0.0  \n",
       "\n",
       "[353 rows x 2004 columns]"
      ]
     },
     "execution_count": 35,
=======
       "<p>883 rows × 2004 columns</p>\n",
       "</div>"
      ],
      "text/plain": [
       "            x1        y1        z1        v1        x2        y2        z2  \\\n",
       "1071  0.531715  0.408507 -0.618889  0.999999  0.558529  0.359588 -0.564094   \n",
       "480   0.544767  0.425135 -0.819661  0.999923  0.570177  0.379395 -0.745749   \n",
       "755   0.545779  0.425959 -0.960496  0.999931  0.568995  0.382697 -0.896343   \n",
       "463   0.532203  0.395383 -0.734580  0.999941  0.549578  0.352531 -0.647906   \n",
       "1220  0.539375  0.406473 -0.767139  0.999997  0.566482  0.360515 -0.695487   \n",
       "...        ...       ...       ...       ...       ...       ...       ...   \n",
       "664   0.544871  0.403599 -0.954051  0.999895  0.562191  0.366016 -0.873285   \n",
       "1228  0.538455  0.406140 -0.865450  0.999996  0.565894  0.360500 -0.794276   \n",
       "1077  0.527681  0.406673 -0.637033  1.000000  0.554090  0.358076 -0.577166   \n",
       "723   0.556669  0.400688 -1.033170  0.999843  0.572270  0.361469 -0.947566   \n",
       "815   0.541084  0.409899 -0.955480  0.999899  0.560968  0.368349 -0.880480   \n",
       "\n",
       "            v2        x3        y3  ...      z499  v499      x500      y500  \\\n",
       "1071  0.999998  0.571593  0.361934  ...  0.002819   0.0  0.582799  0.346580   \n",
       "480   0.999802  0.582672  0.380828  ...  0.001898   0.0  0.587786  0.370268   \n",
       "755   0.999815  0.583019  0.385348  ...  0.003339   0.0  0.584947  0.361260   \n",
       "463   0.999816  0.561977  0.353974  ...  0.005607   0.0  0.572163  0.359535   \n",
       "1220  0.999993  0.579690  0.363167  ...  0.001953   0.0  0.587790  0.350942   \n",
       "...        ...       ...       ...  ...       ...   ...       ...       ...   \n",
       "664   0.999703  0.573294  0.367486  ...  0.007831   0.0  0.583905  0.363821   \n",
       "1228  0.999992  0.579450  0.363064  ...  0.001946   0.0  0.587157  0.352672   \n",
       "1077  0.999999  0.567700  0.359977  ...  0.003706   0.0  0.574409  0.350083   \n",
       "723   0.999589  0.583556  0.363792  ...  0.008003   0.0  0.584181  0.361442   \n",
       "815   0.999722  0.571987  0.368886  ...  0.005811   0.0  0.584513  0.361468   \n",
       "\n",
       "          z500  v500      x501      y501      z501  v501  \n",
       "1071  0.013658   0.0  0.587393  0.343068  0.013838   0.0  \n",
       "480   0.012536   0.0  0.592594  0.365621  0.012824   0.0  \n",
       "755   0.018827   0.0  0.588935  0.358371  0.019233   0.0  \n",
       "463   0.017878   0.0  0.576444  0.354848  0.018105   0.0  \n",
       "1220  0.011578   0.0  0.592365  0.347192  0.011656   0.0  \n",
       "...        ...   ...       ...       ...       ...   ...  \n",
       "664   0.025952   0.0  0.588535  0.359029  0.026828   0.0  \n",
       "1228  0.011117   0.0  0.591865  0.348543  0.011231   0.0  \n",
       "1077  0.014133   0.0  0.579326  0.344993  0.014549   0.0  \n",
       "723   0.025804   0.0  0.588740  0.357509  0.026512   0.0  \n",
       "815   0.022864   0.0  0.588899  0.356946  0.023572   0.0  \n",
       "\n",
       "[883 rows x 2004 columns]"
      ]
     },
     "execution_count": 149,
>>>>>>> 28f21dd (added time sign data and models)
     "metadata": {},
     "output_type": "execute_result"
    }
   ],
   "source": [
    "X_train"
   ]
  },
  {
   "cell_type": "code",
<<<<<<< HEAD
   "execution_count": 36,
   "metadata": {},
=======
   "execution_count": 150,
   "id": "35638b74-8ccd-4024-baac-83ce4ae4e123",
   "metadata": {
    "metadata": {}
   },
>>>>>>> 28f21dd (added time sign data and models)
   "outputs": [
    {
     "data": {
      "text/html": [
       "<div>\n",
       "<style scoped>\n",
       "    .dataframe tbody tr th:only-of-type {\n",
       "        vertical-align: middle;\n",
       "    }\n",
       "\n",
       "    .dataframe tbody tr th {\n",
       "        vertical-align: top;\n",
       "    }\n",
       "\n",
       "    .dataframe thead th {\n",
       "        text-align: right;\n",
       "    }\n",
       "</style>\n",
       "<table border=\"1\" class=\"dataframe\">\n",
       "  <thead>\n",
       "    <tr style=\"text-align: right;\">\n",
       "      <th></th>\n",
       "      <th>class</th>\n",
       "      <th>x1</th>\n",
       "      <th>y1</th>\n",
       "      <th>z1</th>\n",
       "      <th>v1</th>\n",
       "      <th>x2</th>\n",
       "      <th>y2</th>\n",
       "      <th>z2</th>\n",
       "      <th>v2</th>\n",
       "      <th>x3</th>\n",
       "      <th>...</th>\n",
       "      <th>z499</th>\n",
       "      <th>v499</th>\n",
       "      <th>x500</th>\n",
       "      <th>y500</th>\n",
       "      <th>z500</th>\n",
       "      <th>v500</th>\n",
       "      <th>x501</th>\n",
       "      <th>y501</th>\n",
       "      <th>z501</th>\n",
       "      <th>v501</th>\n",
       "    </tr>\n",
       "  </thead>\n",
       "  <tbody>\n",
       "    <tr>\n",
       "      <th>0</th>\n",
<<<<<<< HEAD
       "      <td>amor y paz</td>\n",
       "      <td>0.613385</td>\n",
       "      <td>0.452124</td>\n",
       "      <td>-0.700507</td>\n",
       "      <td>0.999959</td>\n",
       "      <td>0.637091</td>\n",
       "      <td>0.358818</td>\n",
       "      <td>-0.675910</td>\n",
       "      <td>0.999898</td>\n",
       "      <td>0.652638</td>\n",
       "      <td>...</td>\n",
       "      <td>-0.007492</td>\n",
       "      <td>0.0</td>\n",
       "      <td>0.676354</td>\n",
       "      <td>0.337812</td>\n",
       "      <td>0.013768</td>\n",
       "      <td>0.0</td>\n",
       "      <td>0.680637</td>\n",
       "      <td>0.328635</td>\n",
       "      <td>0.014254</td>\n",
=======
       "      <td>mes</td>\n",
       "      <td>0.549135</td>\n",
       "      <td>0.394194</td>\n",
       "      <td>-0.809048</td>\n",
       "      <td>0.999992</td>\n",
       "      <td>0.579765</td>\n",
       "      <td>0.348766</td>\n",
       "      <td>-0.752098</td>\n",
       "      <td>0.999985</td>\n",
       "      <td>0.595620</td>\n",
       "      <td>...</td>\n",
       "      <td>0.001607</td>\n",
       "      <td>0.0</td>\n",
       "      <td>0.600875</td>\n",
       "      <td>0.335847</td>\n",
       "      <td>0.014170</td>\n",
       "      <td>0.0</td>\n",
       "      <td>0.605487</td>\n",
       "      <td>0.332054</td>\n",
       "      <td>0.014272</td>\n",
>>>>>>> 28f21dd (added time sign data and models)
       "      <td>0.0</td>\n",
       "    </tr>\n",
       "    <tr>\n",
       "      <th>1</th>\n",
<<<<<<< HEAD
       "      <td>amor y paz</td>\n",
       "      <td>0.560325</td>\n",
       "      <td>0.399195</td>\n",
       "      <td>-0.615101</td>\n",
       "      <td>0.999960</td>\n",
       "      <td>0.582329</td>\n",
       "      <td>0.324028</td>\n",
       "      <td>-0.579968</td>\n",
       "      <td>0.999903</td>\n",
       "      <td>0.601140</td>\n",
       "      <td>...</td>\n",
       "      <td>0.001633</td>\n",
       "      <td>0.0</td>\n",
       "      <td>0.605005</td>\n",
       "      <td>0.300140</td>\n",
       "      <td>0.019096</td>\n",
       "      <td>0.0</td>\n",
       "      <td>0.609497</td>\n",
       "      <td>0.289968</td>\n",
       "      <td>0.020048</td>\n",
=======
       "      <td>mes</td>\n",
       "      <td>0.546055</td>\n",
       "      <td>0.395098</td>\n",
       "      <td>-1.060882</td>\n",
       "      <td>0.999991</td>\n",
       "      <td>0.576010</td>\n",
       "      <td>0.349668</td>\n",
       "      <td>-0.995259</td>\n",
       "      <td>0.999983</td>\n",
       "      <td>0.590626</td>\n",
       "      <td>...</td>\n",
       "      <td>0.001446</td>\n",
       "      <td>0.0</td>\n",
       "      <td>0.598345</td>\n",
       "      <td>0.339420</td>\n",
       "      <td>0.014053</td>\n",
       "      <td>0.0</td>\n",
       "      <td>0.602958</td>\n",
       "      <td>0.335890</td>\n",
       "      <td>0.014159</td>\n",
>>>>>>> 28f21dd (added time sign data and models)
       "      <td>0.0</td>\n",
       "    </tr>\n",
       "    <tr>\n",
       "      <th>2</th>\n",
<<<<<<< HEAD
       "      <td>amor y paz</td>\n",
       "      <td>0.551383</td>\n",
       "      <td>0.390284</td>\n",
       "      <td>-0.614112</td>\n",
       "      <td>0.999962</td>\n",
       "      <td>0.574005</td>\n",
       "      <td>0.316108</td>\n",
       "      <td>-0.580800</td>\n",
       "      <td>0.999908</td>\n",
       "      <td>0.594194</td>\n",
       "      <td>...</td>\n",
       "      <td>0.000287</td>\n",
       "      <td>0.0</td>\n",
       "      <td>0.606104</td>\n",
       "      <td>0.294038</td>\n",
       "      <td>0.017505</td>\n",
       "      <td>0.0</td>\n",
       "      <td>0.610421</td>\n",
       "      <td>0.285270</td>\n",
       "      <td>0.018154</td>\n",
=======
       "      <td>mes</td>\n",
       "      <td>0.542215</td>\n",
       "      <td>0.396934</td>\n",
       "      <td>-0.999211</td>\n",
       "      <td>0.999990</td>\n",
       "      <td>0.570538</td>\n",
       "      <td>0.351776</td>\n",
       "      <td>-0.935079</td>\n",
       "      <td>0.999982</td>\n",
       "      <td>0.585182</td>\n",
       "      <td>...</td>\n",
       "      <td>0.001247</td>\n",
       "      <td>0.0</td>\n",
       "      <td>0.592184</td>\n",
       "      <td>0.343229</td>\n",
       "      <td>0.013815</td>\n",
       "      <td>0.0</td>\n",
       "      <td>0.596732</td>\n",
       "      <td>0.339478</td>\n",
       "      <td>0.013969</td>\n",
>>>>>>> 28f21dd (added time sign data and models)
       "      <td>0.0</td>\n",
       "    </tr>\n",
       "    <tr>\n",
       "      <th>3</th>\n",
<<<<<<< HEAD
       "      <td>amor y paz</td>\n",
       "      <td>0.556212</td>\n",
       "      <td>0.388608</td>\n",
       "      <td>-0.628064</td>\n",
       "      <td>0.999965</td>\n",
       "      <td>0.581611</td>\n",
       "      <td>0.313546</td>\n",
       "      <td>-0.597510</td>\n",
       "      <td>0.999916</td>\n",
       "      <td>0.601063</td>\n",
       "      <td>...</td>\n",
       "      <td>-0.000817</td>\n",
       "      <td>0.0</td>\n",
       "      <td>0.618044</td>\n",
       "      <td>0.300111</td>\n",
       "      <td>0.018229</td>\n",
       "      <td>0.0</td>\n",
       "      <td>0.622577</td>\n",
       "      <td>0.291423</td>\n",
       "      <td>0.018931</td>\n",
=======
       "      <td>mes</td>\n",
       "      <td>0.538879</td>\n",
       "      <td>0.398038</td>\n",
       "      <td>-0.817963</td>\n",
       "      <td>0.999988</td>\n",
       "      <td>0.565235</td>\n",
       "      <td>0.353356</td>\n",
       "      <td>-0.752814</td>\n",
       "      <td>0.999978</td>\n",
       "      <td>0.580477</td>\n",
       "      <td>...</td>\n",
       "      <td>0.001401</td>\n",
       "      <td>0.0</td>\n",
       "      <td>0.587346</td>\n",
       "      <td>0.348871</td>\n",
       "      <td>0.013566</td>\n",
       "      <td>0.0</td>\n",
       "      <td>0.591874</td>\n",
       "      <td>0.345217</td>\n",
       "      <td>0.013690</td>\n",
>>>>>>> 28f21dd (added time sign data and models)
       "      <td>0.0</td>\n",
       "    </tr>\n",
       "    <tr>\n",
       "      <th>4</th>\n",
<<<<<<< HEAD
       "      <td>amor y paz</td>\n",
       "      <td>0.557557</td>\n",
       "      <td>0.385441</td>\n",
       "      <td>-0.635466</td>\n",
       "      <td>0.999967</td>\n",
       "      <td>0.585015</td>\n",
       "      <td>0.310754</td>\n",
       "      <td>-0.605581</td>\n",
       "      <td>0.999920</td>\n",
       "      <td>0.604648</td>\n",
       "      <td>...</td>\n",
       "      <td>-0.001144</td>\n",
       "      <td>0.0</td>\n",
       "      <td>0.622279</td>\n",
       "      <td>0.305588</td>\n",
       "      <td>0.017936</td>\n",
       "      <td>0.0</td>\n",
       "      <td>0.626861</td>\n",
       "      <td>0.297015</td>\n",
       "      <td>0.018601</td>\n",
=======
       "      <td>mes</td>\n",
       "      <td>0.536219</td>\n",
       "      <td>0.401987</td>\n",
       "      <td>-0.740743</td>\n",
       "      <td>0.999984</td>\n",
       "      <td>0.561953</td>\n",
       "      <td>0.357833</td>\n",
       "      <td>-0.679093</td>\n",
       "      <td>0.999971</td>\n",
       "      <td>0.577154</td>\n",
       "      <td>...</td>\n",
       "      <td>0.000645</td>\n",
       "      <td>0.0</td>\n",
       "      <td>0.583073</td>\n",
       "      <td>0.355737</td>\n",
       "      <td>0.011841</td>\n",
       "      <td>0.0</td>\n",
       "      <td>0.587611</td>\n",
       "      <td>0.352066</td>\n",
       "      <td>0.011862</td>\n",
>>>>>>> 28f21dd (added time sign data and models)
       "      <td>0.0</td>\n",
       "    </tr>\n",
       "    <tr>\n",
       "      <th>...</th>\n",
       "      <td>...</td>\n",
       "      <td>...</td>\n",
       "      <td>...</td>\n",
       "      <td>...</td>\n",
       "      <td>...</td>\n",
       "      <td>...</td>\n",
       "      <td>...</td>\n",
       "      <td>...</td>\n",
       "      <td>...</td>\n",
       "      <td>...</td>\n",
       "      <td>...</td>\n",
       "      <td>...</td>\n",
       "      <td>...</td>\n",
       "      <td>...</td>\n",
       "      <td>...</td>\n",
       "      <td>...</td>\n",
       "      <td>...</td>\n",
       "      <td>...</td>\n",
       "      <td>...</td>\n",
       "      <td>...</td>\n",
       "      <td>...</td>\n",
       "    </tr>\n",
       "    <tr>\n",
<<<<<<< HEAD
       "      <th>500</th>\n",
       "      <td>bien</td>\n",
       "      <td>0.595054</td>\n",
       "      <td>0.357828</td>\n",
       "      <td>-1.051835</td>\n",
       "      <td>0.999893</td>\n",
       "      <td>0.627182</td>\n",
       "      <td>0.281425</td>\n",
       "      <td>-0.996402</td>\n",
       "      <td>0.999768</td>\n",
       "      <td>0.648592</td>\n",
       "      <td>...</td>\n",
       "      <td>-0.001397</td>\n",
       "      <td>0.0</td>\n",
       "      <td>0.646575</td>\n",
       "      <td>0.278519</td>\n",
       "      <td>0.017722</td>\n",
       "      <td>0.0</td>\n",
       "      <td>0.651645</td>\n",
       "      <td>0.270069</td>\n",
       "      <td>0.018374</td>\n",
       "      <td>0.0</td>\n",
       "    </tr>\n",
       "    <tr>\n",
       "      <th>501</th>\n",
       "      <td>bien</td>\n",
       "      <td>0.584939</td>\n",
       "      <td>0.358493</td>\n",
       "      <td>-1.064896</td>\n",
       "      <td>0.999897</td>\n",
       "      <td>0.617338</td>\n",
       "      <td>0.281891</td>\n",
       "      <td>-1.009192</td>\n",
       "      <td>0.999774</td>\n",
       "      <td>0.639153</td>\n",
       "      <td>...</td>\n",
       "      <td>-0.002910</td>\n",
       "      <td>0.0</td>\n",
       "      <td>0.643986</td>\n",
       "      <td>0.279315</td>\n",
       "      <td>0.015975</td>\n",
       "      <td>0.0</td>\n",
       "      <td>0.649053</td>\n",
       "      <td>0.270646</td>\n",
       "      <td>0.016635</td>\n",
       "      <td>0.0</td>\n",
       "    </tr>\n",
       "    <tr>\n",
       "      <th>502</th>\n",
       "      <td>bien</td>\n",
       "      <td>0.582489</td>\n",
       "      <td>0.359019</td>\n",
       "      <td>-1.079598</td>\n",
       "      <td>0.999903</td>\n",
       "      <td>0.614424</td>\n",
       "      <td>0.282432</td>\n",
       "      <td>-1.022348</td>\n",
       "      <td>0.999783</td>\n",
       "      <td>0.636224</td>\n",
       "      <td>...</td>\n",
       "      <td>-0.002693</td>\n",
       "      <td>0.0</td>\n",
       "      <td>0.645582</td>\n",
       "      <td>0.280061</td>\n",
       "      <td>0.016411</td>\n",
       "      <td>0.0</td>\n",
       "      <td>0.650676</td>\n",
       "      <td>0.270929</td>\n",
       "      <td>0.017121</td>\n",
       "      <td>0.0</td>\n",
       "    </tr>\n",
       "    <tr>\n",
       "      <th>503</th>\n",
       "      <td>bien</td>\n",
       "      <td>0.581719</td>\n",
       "      <td>0.360786</td>\n",
       "      <td>-1.009336</td>\n",
       "      <td>0.999907</td>\n",
       "      <td>0.612969</td>\n",
       "      <td>0.283730</td>\n",
       "      <td>-0.956925</td>\n",
       "      <td>0.999789</td>\n",
       "      <td>0.634580</td>\n",
       "      <td>...</td>\n",
       "      <td>-0.002461</td>\n",
       "      <td>0.0</td>\n",
       "      <td>0.645904</td>\n",
       "      <td>0.281520</td>\n",
       "      <td>0.016854</td>\n",
       "      <td>0.0</td>\n",
       "      <td>0.651049</td>\n",
       "      <td>0.272292</td>\n",
       "      <td>0.017630</td>\n",
       "      <td>0.0</td>\n",
       "    </tr>\n",
       "    <tr>\n",
       "      <th>504</th>\n",
       "      <td>bien</td>\n",
       "      <td>0.580060</td>\n",
       "      <td>0.361403</td>\n",
       "      <td>-0.993205</td>\n",
       "      <td>0.999913</td>\n",
       "      <td>0.610810</td>\n",
       "      <td>0.284224</td>\n",
       "      <td>-0.942761</td>\n",
       "      <td>0.999800</td>\n",
       "      <td>0.632336</td>\n",
       "      <td>...</td>\n",
       "      <td>-0.002079</td>\n",
       "      <td>0.0</td>\n",
       "      <td>0.645282</td>\n",
       "      <td>0.280876</td>\n",
       "      <td>0.017424</td>\n",
       "      <td>0.0</td>\n",
       "      <td>0.650362</td>\n",
       "      <td>0.272018</td>\n",
       "      <td>0.018172</td>\n",
=======
       "      <th>1257</th>\n",
       "      <td>aveces</td>\n",
       "      <td>0.539636</td>\n",
       "      <td>0.408666</td>\n",
       "      <td>-0.746045</td>\n",
       "      <td>0.999998</td>\n",
       "      <td>0.567139</td>\n",
       "      <td>0.361573</td>\n",
       "      <td>-0.679805</td>\n",
       "      <td>0.999996</td>\n",
       "      <td>0.580581</td>\n",
       "      <td>...</td>\n",
       "      <td>0.001693</td>\n",
       "      <td>0.0</td>\n",
       "      <td>0.588285</td>\n",
       "      <td>0.351952</td>\n",
       "      <td>0.011262</td>\n",
       "      <td>0.0</td>\n",
       "      <td>0.592898</td>\n",
       "      <td>0.348152</td>\n",
       "      <td>0.011333</td>\n",
       "      <td>0.0</td>\n",
       "    </tr>\n",
       "    <tr>\n",
       "      <th>1258</th>\n",
       "      <td>aveces</td>\n",
       "      <td>0.539683</td>\n",
       "      <td>0.408355</td>\n",
       "      <td>-0.682429</td>\n",
       "      <td>0.999998</td>\n",
       "      <td>0.567101</td>\n",
       "      <td>0.361202</td>\n",
       "      <td>-0.617916</td>\n",
       "      <td>0.999996</td>\n",
       "      <td>0.580461</td>\n",
       "      <td>...</td>\n",
       "      <td>0.001860</td>\n",
       "      <td>0.0</td>\n",
       "      <td>0.589156</td>\n",
       "      <td>0.351018</td>\n",
       "      <td>0.011797</td>\n",
       "      <td>0.0</td>\n",
       "      <td>0.593730</td>\n",
       "      <td>0.347322</td>\n",
       "      <td>0.011862</td>\n",
       "      <td>0.0</td>\n",
       "    </tr>\n",
       "    <tr>\n",
       "      <th>1259</th>\n",
       "      <td>aveces</td>\n",
       "      <td>0.539697</td>\n",
       "      <td>0.406225</td>\n",
       "      <td>-0.688693</td>\n",
       "      <td>0.999998</td>\n",
       "      <td>0.567089</td>\n",
       "      <td>0.359371</td>\n",
       "      <td>-0.620507</td>\n",
       "      <td>0.999995</td>\n",
       "      <td>0.580446</td>\n",
       "      <td>...</td>\n",
       "      <td>0.001832</td>\n",
       "      <td>0.0</td>\n",
       "      <td>0.589122</td>\n",
       "      <td>0.350791</td>\n",
       "      <td>0.011516</td>\n",
       "      <td>0.0</td>\n",
       "      <td>0.593706</td>\n",
       "      <td>0.347040</td>\n",
       "      <td>0.011572</td>\n",
       "      <td>0.0</td>\n",
       "    </tr>\n",
       "    <tr>\n",
       "      <th>1260</th>\n",
       "      <td>aveces</td>\n",
       "      <td>0.539707</td>\n",
       "      <td>0.405756</td>\n",
       "      <td>-0.715585</td>\n",
       "      <td>0.999997</td>\n",
       "      <td>0.567082</td>\n",
       "      <td>0.358897</td>\n",
       "      <td>-0.655038</td>\n",
       "      <td>0.999995</td>\n",
       "      <td>0.580450</td>\n",
       "      <td>...</td>\n",
       "      <td>0.001758</td>\n",
       "      <td>0.0</td>\n",
       "      <td>0.588231</td>\n",
       "      <td>0.351193</td>\n",
       "      <td>0.011012</td>\n",
       "      <td>0.0</td>\n",
       "      <td>0.592886</td>\n",
       "      <td>0.347285</td>\n",
       "      <td>0.011065</td>\n",
       "      <td>0.0</td>\n",
       "    </tr>\n",
       "    <tr>\n",
       "      <th>1261</th>\n",
       "      <td>aveces</td>\n",
       "      <td>0.539717</td>\n",
       "      <td>0.405746</td>\n",
       "      <td>-0.736278</td>\n",
       "      <td>0.999997</td>\n",
       "      <td>0.567056</td>\n",
       "      <td>0.358861</td>\n",
       "      <td>-0.676425</td>\n",
       "      <td>0.999994</td>\n",
       "      <td>0.580427</td>\n",
       "      <td>...</td>\n",
       "      <td>0.001626</td>\n",
       "      <td>0.0</td>\n",
       "      <td>0.588102</td>\n",
       "      <td>0.350855</td>\n",
       "      <td>0.010978</td>\n",
       "      <td>0.0</td>\n",
       "      <td>0.592718</td>\n",
       "      <td>0.347105</td>\n",
       "      <td>0.011023</td>\n",
>>>>>>> 28f21dd (added time sign data and models)
       "      <td>0.0</td>\n",
       "    </tr>\n",
       "  </tbody>\n",
       "</table>\n",
<<<<<<< HEAD
       "<p>505 rows × 2005 columns</p>\n",
       "</div>"
      ],
      "text/plain": [
       "          class        x1        y1        z1        v1        x2        y2  \\\n",
       "0    amor y paz  0.613385  0.452124 -0.700507  0.999959  0.637091  0.358818   \n",
       "1    amor y paz  0.560325  0.399195 -0.615101  0.999960  0.582329  0.324028   \n",
       "2    amor y paz  0.551383  0.390284 -0.614112  0.999962  0.574005  0.316108   \n",
       "3    amor y paz  0.556212  0.388608 -0.628064  0.999965  0.581611  0.313546   \n",
       "4    amor y paz  0.557557  0.385441 -0.635466  0.999967  0.585015  0.310754   \n",
       "..          ...       ...       ...       ...       ...       ...       ...   \n",
       "500        bien  0.595054  0.357828 -1.051835  0.999893  0.627182  0.281425   \n",
       "501        bien  0.584939  0.358493 -1.064896  0.999897  0.617338  0.281891   \n",
       "502        bien  0.582489  0.359019 -1.079598  0.999903  0.614424  0.282432   \n",
       "503        bien  0.581719  0.360786 -1.009336  0.999907  0.612969  0.283730   \n",
       "504        bien  0.580060  0.361403 -0.993205  0.999913  0.610810  0.284224   \n",
       "\n",
       "           z2        v2        x3  ...      z499  v499      x500      y500  \\\n",
       "0   -0.675910  0.999898  0.652638  ... -0.007492   0.0  0.676354  0.337812   \n",
       "1   -0.579968  0.999903  0.601140  ...  0.001633   0.0  0.605005  0.300140   \n",
       "2   -0.580800  0.999908  0.594194  ...  0.000287   0.0  0.606104  0.294038   \n",
       "3   -0.597510  0.999916  0.601063  ... -0.000817   0.0  0.618044  0.300111   \n",
       "4   -0.605581  0.999920  0.604648  ... -0.001144   0.0  0.622279  0.305588   \n",
       "..        ...       ...       ...  ...       ...   ...       ...       ...   \n",
       "500 -0.996402  0.999768  0.648592  ... -0.001397   0.0  0.646575  0.278519   \n",
       "501 -1.009192  0.999774  0.639153  ... -0.002910   0.0  0.643986  0.279315   \n",
       "502 -1.022348  0.999783  0.636224  ... -0.002693   0.0  0.645582  0.280061   \n",
       "503 -0.956925  0.999789  0.634580  ... -0.002461   0.0  0.645904  0.281520   \n",
       "504 -0.942761  0.999800  0.632336  ... -0.002079   0.0  0.645282  0.280876   \n",
       "\n",
       "         z500  v500      x501      y501      z501  v501  \n",
       "0    0.013768   0.0  0.680637  0.328635  0.014254   0.0  \n",
       "1    0.019096   0.0  0.609497  0.289968  0.020048   0.0  \n",
       "2    0.017505   0.0  0.610421  0.285270  0.018154   0.0  \n",
       "3    0.018229   0.0  0.622577  0.291423  0.018931   0.0  \n",
       "4    0.017936   0.0  0.626861  0.297015  0.018601   0.0  \n",
       "..        ...   ...       ...       ...       ...   ...  \n",
       "500  0.017722   0.0  0.651645  0.270069  0.018374   0.0  \n",
       "501  0.015975   0.0  0.649053  0.270646  0.016635   0.0  \n",
       "502  0.016411   0.0  0.650676  0.270929  0.017121   0.0  \n",
       "503  0.016854   0.0  0.651049  0.272292  0.017630   0.0  \n",
       "504  0.017424   0.0  0.650362  0.272018  0.018172   0.0  \n",
       "\n",
       "[505 rows x 2005 columns]"
      ]
     },
     "execution_count": 36,
=======
       "<p>1262 rows × 2005 columns</p>\n",
       "</div>"
      ],
      "text/plain": [
       "       class        x1        y1        z1        v1        x2        y2  \\\n",
       "0        mes  0.549135  0.394194 -0.809048  0.999992  0.579765  0.348766   \n",
       "1        mes  0.546055  0.395098 -1.060882  0.999991  0.576010  0.349668   \n",
       "2        mes  0.542215  0.396934 -0.999211  0.999990  0.570538  0.351776   \n",
       "3        mes  0.538879  0.398038 -0.817963  0.999988  0.565235  0.353356   \n",
       "4        mes  0.536219  0.401987 -0.740743  0.999984  0.561953  0.357833   \n",
       "...      ...       ...       ...       ...       ...       ...       ...   \n",
       "1257  aveces  0.539636  0.408666 -0.746045  0.999998  0.567139  0.361573   \n",
       "1258  aveces  0.539683  0.408355 -0.682429  0.999998  0.567101  0.361202   \n",
       "1259  aveces  0.539697  0.406225 -0.688693  0.999998  0.567089  0.359371   \n",
       "1260  aveces  0.539707  0.405756 -0.715585  0.999997  0.567082  0.358897   \n",
       "1261  aveces  0.539717  0.405746 -0.736278  0.999997  0.567056  0.358861   \n",
       "\n",
       "            z2        v2        x3  ...      z499  v499      x500      y500  \\\n",
       "0    -0.752098  0.999985  0.595620  ...  0.001607   0.0  0.600875  0.335847   \n",
       "1    -0.995259  0.999983  0.590626  ...  0.001446   0.0  0.598345  0.339420   \n",
       "2    -0.935079  0.999982  0.585182  ...  0.001247   0.0  0.592184  0.343229   \n",
       "3    -0.752814  0.999978  0.580477  ...  0.001401   0.0  0.587346  0.348871   \n",
       "4    -0.679093  0.999971  0.577154  ...  0.000645   0.0  0.583073  0.355737   \n",
       "...        ...       ...       ...  ...       ...   ...       ...       ...   \n",
       "1257 -0.679805  0.999996  0.580581  ...  0.001693   0.0  0.588285  0.351952   \n",
       "1258 -0.617916  0.999996  0.580461  ...  0.001860   0.0  0.589156  0.351018   \n",
       "1259 -0.620507  0.999995  0.580446  ...  0.001832   0.0  0.589122  0.350791   \n",
       "1260 -0.655038  0.999995  0.580450  ...  0.001758   0.0  0.588231  0.351193   \n",
       "1261 -0.676425  0.999994  0.580427  ...  0.001626   0.0  0.588102  0.350855   \n",
       "\n",
       "          z500  v500      x501      y501      z501  v501  \n",
       "0     0.014170   0.0  0.605487  0.332054  0.014272   0.0  \n",
       "1     0.014053   0.0  0.602958  0.335890  0.014159   0.0  \n",
       "2     0.013815   0.0  0.596732  0.339478  0.013969   0.0  \n",
       "3     0.013566   0.0  0.591874  0.345217  0.013690   0.0  \n",
       "4     0.011841   0.0  0.587611  0.352066  0.011862   0.0  \n",
       "...        ...   ...       ...       ...       ...   ...  \n",
       "1257  0.011262   0.0  0.592898  0.348152  0.011333   0.0  \n",
       "1258  0.011797   0.0  0.593730  0.347322  0.011862   0.0  \n",
       "1259  0.011516   0.0  0.593706  0.347040  0.011572   0.0  \n",
       "1260  0.011012   0.0  0.592886  0.347285  0.011065   0.0  \n",
       "1261  0.010978   0.0  0.592718  0.347105  0.011023   0.0  \n",
       "\n",
       "[1262 rows x 2005 columns]"
      ]
     },
     "execution_count": 150,
>>>>>>> 28f21dd (added time sign data and models)
     "metadata": {},
     "output_type": "execute_result"
    }
   ],
   "source": [
<<<<<<< HEAD
    "df #marco de datos completo, deben de ser 548 filas"
=======
    "df #marco de datos completo"
>>>>>>> 28f21dd (added time sign data and models)
   ]
  },
  {
   "cell_type": "markdown",
<<<<<<< HEAD
   "metadata": {},
   "source": [
    "### Modelo de clasificación de aprendizaje automático"
=======
   "id": "c752f293-3ede-4b1f-8c37-4e72d09ac2f0",
   "metadata": {},
   "source": [
    "## Modelo de clasificación de aprendizaje automático"
>>>>>>> 28f21dd (added time sign data and models)
   ]
  },
  {
   "cell_type": "code",
<<<<<<< HEAD
   "execution_count": 37,
   "metadata": {},
=======
   "execution_count": 151,
   "id": "175a0bce-0661-4fd6-ba69-8eddf89f3454",
   "metadata": {
    "metadata": {}
   },
>>>>>>> 28f21dd (added time sign data and models)
   "outputs": [],
   "source": [
    "from sklearn.pipeline import make_pipeline \n",
    "from sklearn.preprocessing import StandardScaler \n",
    "\n",
    "from sklearn.linear_model import LogisticRegression, RidgeClassifier\n",
    "from sklearn.ensemble import RandomForestClassifier, GradientBoostingClassifier"
   ]
  },
  {
<<<<<<< HEAD
   "cell_type": "markdown",
   "metadata": {},
   "source": [
    "## Modelos de aprendizaje automatico:"
   ]
  },
  {
   "cell_type": "code",
   "execution_count": 38,
   "metadata": {},
=======
   "cell_type": "code",
   "execution_count": 153,
   "id": "a5de40e9-eb33-4ae9-a8a4-78824a278cd8",
   "metadata": {
    "metadata": {}
   },
>>>>>>> 28f21dd (added time sign data and models)
   "outputs": [],
   "source": [
    "pipelines = {\n",
    "    'lr':make_pipeline(StandardScaler(), LogisticRegression()),\n",
    "    'rc':make_pipeline(StandardScaler(), RidgeClassifier()),\n",
    "    'rf':make_pipeline(StandardScaler(), RandomForestClassifier()),\n",
    "    'gb':make_pipeline(StandardScaler(), GradientBoostingClassifier()),\n",
    "}"
   ]
  },
  {
   "cell_type": "code",
<<<<<<< HEAD
   "execution_count": 39,
   "metadata": {},
=======
   "execution_count": 154,
   "id": "622723df-33e9-481c-8a8b-ab24c40e25c2",
   "metadata": {
    "metadata": {}
   },
>>>>>>> 28f21dd (added time sign data and models)
   "outputs": [
    {
     "data": {
      "text/plain": [
       "dict_keys(['lr', 'rc', 'rf', 'gb'])"
      ]
     },
<<<<<<< HEAD
     "execution_count": 39,
=======
     "execution_count": 154,
>>>>>>> 28f21dd (added time sign data and models)
     "metadata": {},
     "output_type": "execute_result"
    }
   ],
   "source": [
    "pipelines.keys()"
   ]
  },
  {
   "cell_type": "code",
<<<<<<< HEAD
   "execution_count": 40,
   "metadata": {},
=======
   "execution_count": 155,
   "id": "ba96e637-f6ae-48d2-9beb-ac5518ea7992",
   "metadata": {
    "metadata": {}
   },
>>>>>>> 28f21dd (added time sign data and models)
   "outputs": [
    {
     "data": {
      "text/html": [
<<<<<<< HEAD
       "<style>#sk-container-id-1 {\n",
=======
       "<style>#sk-container-id-8 {\n",
>>>>>>> 28f21dd (added time sign data and models)
       "  /* Definition of color scheme common for light and dark mode */\n",
       "  --sklearn-color-text: black;\n",
       "  --sklearn-color-line: gray;\n",
       "  /* Definition of color scheme for unfitted estimators */\n",
       "  --sklearn-color-unfitted-level-0: #fff5e6;\n",
       "  --sklearn-color-unfitted-level-1: #f6e4d2;\n",
       "  --sklearn-color-unfitted-level-2: #ffe0b3;\n",
       "  --sklearn-color-unfitted-level-3: chocolate;\n",
       "  /* Definition of color scheme for fitted estimators */\n",
       "  --sklearn-color-fitted-level-0: #f0f8ff;\n",
       "  --sklearn-color-fitted-level-1: #d4ebff;\n",
       "  --sklearn-color-fitted-level-2: #b3dbfd;\n",
       "  --sklearn-color-fitted-level-3: cornflowerblue;\n",
       "\n",
       "  /* Specific color for light theme */\n",
       "  --sklearn-color-text-on-default-background: var(--sg-text-color, var(--theme-code-foreground, var(--jp-content-font-color1, black)));\n",
       "  --sklearn-color-background: var(--sg-background-color, var(--theme-background, var(--jp-layout-color0, white)));\n",
       "  --sklearn-color-border-box: var(--sg-text-color, var(--theme-code-foreground, var(--jp-content-font-color1, black)));\n",
       "  --sklearn-color-icon: #696969;\n",
       "\n",
       "  @media (prefers-color-scheme: dark) {\n",
       "    /* Redefinition of color scheme for dark theme */\n",
       "    --sklearn-color-text-on-default-background: var(--sg-text-color, var(--theme-code-foreground, var(--jp-content-font-color1, white)));\n",
       "    --sklearn-color-background: var(--sg-background-color, var(--theme-background, var(--jp-layout-color0, #111)));\n",
       "    --sklearn-color-border-box: var(--sg-text-color, var(--theme-code-foreground, var(--jp-content-font-color1, white)));\n",
       "    --sklearn-color-icon: #878787;\n",
       "  }\n",
       "}\n",
       "\n",
<<<<<<< HEAD
       "#sk-container-id-1 {\n",
       "  color: var(--sklearn-color-text);\n",
       "}\n",
       "\n",
       "#sk-container-id-1 pre {\n",
       "  padding: 0;\n",
       "}\n",
       "\n",
       "#sk-container-id-1 input.sk-hidden--visually {\n",
=======
       "#sk-container-id-8 {\n",
       "  color: var(--sklearn-color-text);\n",
       "}\n",
       "\n",
       "#sk-container-id-8 pre {\n",
       "  padding: 0;\n",
       "}\n",
       "\n",
       "#sk-container-id-8 input.sk-hidden--visually {\n",
>>>>>>> 28f21dd (added time sign data and models)
       "  border: 0;\n",
       "  clip: rect(1px 1px 1px 1px);\n",
       "  clip: rect(1px, 1px, 1px, 1px);\n",
       "  height: 1px;\n",
       "  margin: -1px;\n",
       "  overflow: hidden;\n",
       "  padding: 0;\n",
       "  position: absolute;\n",
       "  width: 1px;\n",
       "}\n",
       "\n",
<<<<<<< HEAD
       "#sk-container-id-1 div.sk-dashed-wrapped {\n",
=======
       "#sk-container-id-8 div.sk-dashed-wrapped {\n",
>>>>>>> 28f21dd (added time sign data and models)
       "  border: 1px dashed var(--sklearn-color-line);\n",
       "  margin: 0 0.4em 0.5em 0.4em;\n",
       "  box-sizing: border-box;\n",
       "  padding-bottom: 0.4em;\n",
       "  background-color: var(--sklearn-color-background);\n",
       "}\n",
       "\n",
<<<<<<< HEAD
       "#sk-container-id-1 div.sk-container {\n",
=======
       "#sk-container-id-8 div.sk-container {\n",
>>>>>>> 28f21dd (added time sign data and models)
       "  /* jupyter's `normalize.less` sets `[hidden] { display: none; }`\n",
       "     but bootstrap.min.css set `[hidden] { display: none !important; }`\n",
       "     so we also need the `!important` here to be able to override the\n",
       "     default hidden behavior on the sphinx rendered scikit-learn.org.\n",
       "     See: https://github.com/scikit-learn/scikit-learn/issues/21755 */\n",
       "  display: inline-block !important;\n",
       "  position: relative;\n",
       "}\n",
       "\n",
<<<<<<< HEAD
       "#sk-container-id-1 div.sk-text-repr-fallback {\n",
=======
       "#sk-container-id-8 div.sk-text-repr-fallback {\n",
>>>>>>> 28f21dd (added time sign data and models)
       "  display: none;\n",
       "}\n",
       "\n",
       "div.sk-parallel-item,\n",
       "div.sk-serial,\n",
       "div.sk-item {\n",
       "  /* draw centered vertical line to link estimators */\n",
       "  background-image: linear-gradient(var(--sklearn-color-text-on-default-background), var(--sklearn-color-text-on-default-background));\n",
       "  background-size: 2px 100%;\n",
       "  background-repeat: no-repeat;\n",
       "  background-position: center center;\n",
       "}\n",
       "\n",
       "/* Parallel-specific style estimator block */\n",
       "\n",
<<<<<<< HEAD
       "#sk-container-id-1 div.sk-parallel-item::after {\n",
=======
       "#sk-container-id-8 div.sk-parallel-item::after {\n",
>>>>>>> 28f21dd (added time sign data and models)
       "  content: \"\";\n",
       "  width: 100%;\n",
       "  border-bottom: 2px solid var(--sklearn-color-text-on-default-background);\n",
       "  flex-grow: 1;\n",
       "}\n",
       "\n",
<<<<<<< HEAD
       "#sk-container-id-1 div.sk-parallel {\n",
=======
       "#sk-container-id-8 div.sk-parallel {\n",
>>>>>>> 28f21dd (added time sign data and models)
       "  display: flex;\n",
       "  align-items: stretch;\n",
       "  justify-content: center;\n",
       "  background-color: var(--sklearn-color-background);\n",
       "  position: relative;\n",
       "}\n",
       "\n",
<<<<<<< HEAD
       "#sk-container-id-1 div.sk-parallel-item {\n",
=======
       "#sk-container-id-8 div.sk-parallel-item {\n",
>>>>>>> 28f21dd (added time sign data and models)
       "  display: flex;\n",
       "  flex-direction: column;\n",
       "}\n",
       "\n",
<<<<<<< HEAD
       "#sk-container-id-1 div.sk-parallel-item:first-child::after {\n",
=======
       "#sk-container-id-8 div.sk-parallel-item:first-child::after {\n",
>>>>>>> 28f21dd (added time sign data and models)
       "  align-self: flex-end;\n",
       "  width: 50%;\n",
       "}\n",
       "\n",
<<<<<<< HEAD
       "#sk-container-id-1 div.sk-parallel-item:last-child::after {\n",
=======
       "#sk-container-id-8 div.sk-parallel-item:last-child::after {\n",
>>>>>>> 28f21dd (added time sign data and models)
       "  align-self: flex-start;\n",
       "  width: 50%;\n",
       "}\n",
       "\n",
<<<<<<< HEAD
       "#sk-container-id-1 div.sk-parallel-item:only-child::after {\n",
=======
       "#sk-container-id-8 div.sk-parallel-item:only-child::after {\n",
>>>>>>> 28f21dd (added time sign data and models)
       "  width: 0;\n",
       "}\n",
       "\n",
       "/* Serial-specific style estimator block */\n",
       "\n",
<<<<<<< HEAD
       "#sk-container-id-1 div.sk-serial {\n",
=======
       "#sk-container-id-8 div.sk-serial {\n",
>>>>>>> 28f21dd (added time sign data and models)
       "  display: flex;\n",
       "  flex-direction: column;\n",
       "  align-items: center;\n",
       "  background-color: var(--sklearn-color-background);\n",
       "  padding-right: 1em;\n",
       "  padding-left: 1em;\n",
       "}\n",
       "\n",
       "\n",
       "/* Toggleable style: style used for estimator/Pipeline/ColumnTransformer box that is\n",
       "clickable and can be expanded/collapsed.\n",
       "- Pipeline and ColumnTransformer use this feature and define the default style\n",
       "- Estimators will overwrite some part of the style using the `sk-estimator` class\n",
       "*/\n",
       "\n",
       "/* Pipeline and ColumnTransformer style (default) */\n",
       "\n",
<<<<<<< HEAD
       "#sk-container-id-1 div.sk-toggleable {\n",
=======
       "#sk-container-id-8 div.sk-toggleable {\n",
>>>>>>> 28f21dd (added time sign data and models)
       "  /* Default theme specific background. It is overwritten whether we have a\n",
       "  specific estimator or a Pipeline/ColumnTransformer */\n",
       "  background-color: var(--sklearn-color-background);\n",
       "}\n",
       "\n",
       "/* Toggleable label */\n",
<<<<<<< HEAD
       "#sk-container-id-1 label.sk-toggleable__label {\n",
=======
       "#sk-container-id-8 label.sk-toggleable__label {\n",
>>>>>>> 28f21dd (added time sign data and models)
       "  cursor: pointer;\n",
       "  display: block;\n",
       "  width: 100%;\n",
       "  margin-bottom: 0;\n",
       "  padding: 0.5em;\n",
       "  box-sizing: border-box;\n",
       "  text-align: center;\n",
       "}\n",
       "\n",
<<<<<<< HEAD
       "#sk-container-id-1 label.sk-toggleable__label-arrow:before {\n",
=======
       "#sk-container-id-8 label.sk-toggleable__label-arrow:before {\n",
>>>>>>> 28f21dd (added time sign data and models)
       "  /* Arrow on the left of the label */\n",
       "  content: \"▸\";\n",
       "  float: left;\n",
       "  margin-right: 0.25em;\n",
       "  color: var(--sklearn-color-icon);\n",
       "}\n",
       "\n",
<<<<<<< HEAD
       "#sk-container-id-1 label.sk-toggleable__label-arrow:hover:before {\n",
=======
       "#sk-container-id-8 label.sk-toggleable__label-arrow:hover:before {\n",
>>>>>>> 28f21dd (added time sign data and models)
       "  color: var(--sklearn-color-text);\n",
       "}\n",
       "\n",
       "/* Toggleable content - dropdown */\n",
       "\n",
<<<<<<< HEAD
       "#sk-container-id-1 div.sk-toggleable__content {\n",
=======
       "#sk-container-id-8 div.sk-toggleable__content {\n",
>>>>>>> 28f21dd (added time sign data and models)
       "  max-height: 0;\n",
       "  max-width: 0;\n",
       "  overflow: hidden;\n",
       "  text-align: left;\n",
       "  /* unfitted */\n",
       "  background-color: var(--sklearn-color-unfitted-level-0);\n",
       "}\n",
       "\n",
<<<<<<< HEAD
       "#sk-container-id-1 div.sk-toggleable__content.fitted {\n",
=======
       "#sk-container-id-8 div.sk-toggleable__content.fitted {\n",
>>>>>>> 28f21dd (added time sign data and models)
       "  /* fitted */\n",
       "  background-color: var(--sklearn-color-fitted-level-0);\n",
       "}\n",
       "\n",
<<<<<<< HEAD
       "#sk-container-id-1 div.sk-toggleable__content pre {\n",
=======
       "#sk-container-id-8 div.sk-toggleable__content pre {\n",
>>>>>>> 28f21dd (added time sign data and models)
       "  margin: 0.2em;\n",
       "  border-radius: 0.25em;\n",
       "  color: var(--sklearn-color-text);\n",
       "  /* unfitted */\n",
       "  background-color: var(--sklearn-color-unfitted-level-0);\n",
       "}\n",
       "\n",
<<<<<<< HEAD
       "#sk-container-id-1 div.sk-toggleable__content.fitted pre {\n",
=======
       "#sk-container-id-8 div.sk-toggleable__content.fitted pre {\n",
>>>>>>> 28f21dd (added time sign data and models)
       "  /* unfitted */\n",
       "  background-color: var(--sklearn-color-fitted-level-0);\n",
       "}\n",
       "\n",
<<<<<<< HEAD
       "#sk-container-id-1 input.sk-toggleable__control:checked~div.sk-toggleable__content {\n",
=======
       "#sk-container-id-8 input.sk-toggleable__control:checked~div.sk-toggleable__content {\n",
>>>>>>> 28f21dd (added time sign data and models)
       "  /* Expand drop-down */\n",
       "  max-height: 200px;\n",
       "  max-width: 100%;\n",
       "  overflow: auto;\n",
       "}\n",
       "\n",
<<<<<<< HEAD
       "#sk-container-id-1 input.sk-toggleable__control:checked~label.sk-toggleable__label-arrow:before {\n",
=======
       "#sk-container-id-8 input.sk-toggleable__control:checked~label.sk-toggleable__label-arrow:before {\n",
>>>>>>> 28f21dd (added time sign data and models)
       "  content: \"▾\";\n",
       "}\n",
       "\n",
       "/* Pipeline/ColumnTransformer-specific style */\n",
       "\n",
<<<<<<< HEAD
       "#sk-container-id-1 div.sk-label input.sk-toggleable__control:checked~label.sk-toggleable__label {\n",
=======
       "#sk-container-id-8 div.sk-label input.sk-toggleable__control:checked~label.sk-toggleable__label {\n",
>>>>>>> 28f21dd (added time sign data and models)
       "  color: var(--sklearn-color-text);\n",
       "  background-color: var(--sklearn-color-unfitted-level-2);\n",
       "}\n",
       "\n",
<<<<<<< HEAD
       "#sk-container-id-1 div.sk-label.fitted input.sk-toggleable__control:checked~label.sk-toggleable__label {\n",
=======
       "#sk-container-id-8 div.sk-label.fitted input.sk-toggleable__control:checked~label.sk-toggleable__label {\n",
>>>>>>> 28f21dd (added time sign data and models)
       "  background-color: var(--sklearn-color-fitted-level-2);\n",
       "}\n",
       "\n",
       "/* Estimator-specific style */\n",
       "\n",
       "/* Colorize estimator box */\n",
<<<<<<< HEAD
       "#sk-container-id-1 div.sk-estimator input.sk-toggleable__control:checked~label.sk-toggleable__label {\n",
=======
       "#sk-container-id-8 div.sk-estimator input.sk-toggleable__control:checked~label.sk-toggleable__label {\n",
>>>>>>> 28f21dd (added time sign data and models)
       "  /* unfitted */\n",
       "  background-color: var(--sklearn-color-unfitted-level-2);\n",
       "}\n",
       "\n",
<<<<<<< HEAD
       "#sk-container-id-1 div.sk-estimator.fitted input.sk-toggleable__control:checked~label.sk-toggleable__label {\n",
=======
       "#sk-container-id-8 div.sk-estimator.fitted input.sk-toggleable__control:checked~label.sk-toggleable__label {\n",
>>>>>>> 28f21dd (added time sign data and models)
       "  /* fitted */\n",
       "  background-color: var(--sklearn-color-fitted-level-2);\n",
       "}\n",
       "\n",
<<<<<<< HEAD
       "#sk-container-id-1 div.sk-label label.sk-toggleable__label,\n",
       "#sk-container-id-1 div.sk-label label {\n",
=======
       "#sk-container-id-8 div.sk-label label.sk-toggleable__label,\n",
       "#sk-container-id-8 div.sk-label label {\n",
>>>>>>> 28f21dd (added time sign data and models)
       "  /* The background is the default theme color */\n",
       "  color: var(--sklearn-color-text-on-default-background);\n",
       "}\n",
       "\n",
       "/* On hover, darken the color of the background */\n",
<<<<<<< HEAD
       "#sk-container-id-1 div.sk-label:hover label.sk-toggleable__label {\n",
=======
       "#sk-container-id-8 div.sk-label:hover label.sk-toggleable__label {\n",
>>>>>>> 28f21dd (added time sign data and models)
       "  color: var(--sklearn-color-text);\n",
       "  background-color: var(--sklearn-color-unfitted-level-2);\n",
       "}\n",
       "\n",
       "/* Label box, darken color on hover, fitted */\n",
<<<<<<< HEAD
       "#sk-container-id-1 div.sk-label.fitted:hover label.sk-toggleable__label.fitted {\n",
=======
       "#sk-container-id-8 div.sk-label.fitted:hover label.sk-toggleable__label.fitted {\n",
>>>>>>> 28f21dd (added time sign data and models)
       "  color: var(--sklearn-color-text);\n",
       "  background-color: var(--sklearn-color-fitted-level-2);\n",
       "}\n",
       "\n",
       "/* Estimator label */\n",
       "\n",
<<<<<<< HEAD
       "#sk-container-id-1 div.sk-label label {\n",
=======
       "#sk-container-id-8 div.sk-label label {\n",
>>>>>>> 28f21dd (added time sign data and models)
       "  font-family: monospace;\n",
       "  font-weight: bold;\n",
       "  display: inline-block;\n",
       "  line-height: 1.2em;\n",
       "}\n",
       "\n",
<<<<<<< HEAD
       "#sk-container-id-1 div.sk-label-container {\n",
=======
       "#sk-container-id-8 div.sk-label-container {\n",
>>>>>>> 28f21dd (added time sign data and models)
       "  text-align: center;\n",
       "}\n",
       "\n",
       "/* Estimator-specific */\n",
<<<<<<< HEAD
       "#sk-container-id-1 div.sk-estimator {\n",
=======
       "#sk-container-id-8 div.sk-estimator {\n",
>>>>>>> 28f21dd (added time sign data and models)
       "  font-family: monospace;\n",
       "  border: 1px dotted var(--sklearn-color-border-box);\n",
       "  border-radius: 0.25em;\n",
       "  box-sizing: border-box;\n",
       "  margin-bottom: 0.5em;\n",
       "  /* unfitted */\n",
       "  background-color: var(--sklearn-color-unfitted-level-0);\n",
       "}\n",
       "\n",
<<<<<<< HEAD
       "#sk-container-id-1 div.sk-estimator.fitted {\n",
=======
       "#sk-container-id-8 div.sk-estimator.fitted {\n",
>>>>>>> 28f21dd (added time sign data and models)
       "  /* fitted */\n",
       "  background-color: var(--sklearn-color-fitted-level-0);\n",
       "}\n",
       "\n",
       "/* on hover */\n",
<<<<<<< HEAD
       "#sk-container-id-1 div.sk-estimator:hover {\n",
=======
       "#sk-container-id-8 div.sk-estimator:hover {\n",
>>>>>>> 28f21dd (added time sign data and models)
       "  /* unfitted */\n",
       "  background-color: var(--sklearn-color-unfitted-level-2);\n",
       "}\n",
       "\n",
<<<<<<< HEAD
       "#sk-container-id-1 div.sk-estimator.fitted:hover {\n",
=======
       "#sk-container-id-8 div.sk-estimator.fitted:hover {\n",
>>>>>>> 28f21dd (added time sign data and models)
       "  /* fitted */\n",
       "  background-color: var(--sklearn-color-fitted-level-2);\n",
       "}\n",
       "\n",
       "/* Specification for estimator info (e.g. \"i\" and \"?\") */\n",
       "\n",
       "/* Common style for \"i\" and \"?\" */\n",
       "\n",
       ".sk-estimator-doc-link,\n",
       "a:link.sk-estimator-doc-link,\n",
       "a:visited.sk-estimator-doc-link {\n",
       "  float: right;\n",
       "  font-size: smaller;\n",
       "  line-height: 1em;\n",
       "  font-family: monospace;\n",
       "  background-color: var(--sklearn-color-background);\n",
       "  border-radius: 1em;\n",
       "  height: 1em;\n",
       "  width: 1em;\n",
       "  text-decoration: none !important;\n",
       "  margin-left: 1ex;\n",
       "  /* unfitted */\n",
       "  border: var(--sklearn-color-unfitted-level-1) 1pt solid;\n",
       "  color: var(--sklearn-color-unfitted-level-1);\n",
       "}\n",
       "\n",
       ".sk-estimator-doc-link.fitted,\n",
       "a:link.sk-estimator-doc-link.fitted,\n",
       "a:visited.sk-estimator-doc-link.fitted {\n",
       "  /* fitted */\n",
       "  border: var(--sklearn-color-fitted-level-1) 1pt solid;\n",
       "  color: var(--sklearn-color-fitted-level-1);\n",
       "}\n",
       "\n",
       "/* On hover */\n",
       "div.sk-estimator:hover .sk-estimator-doc-link:hover,\n",
       ".sk-estimator-doc-link:hover,\n",
       "div.sk-label-container:hover .sk-estimator-doc-link:hover,\n",
       ".sk-estimator-doc-link:hover {\n",
       "  /* unfitted */\n",
       "  background-color: var(--sklearn-color-unfitted-level-3);\n",
       "  color: var(--sklearn-color-background);\n",
       "  text-decoration: none;\n",
       "}\n",
       "\n",
       "div.sk-estimator.fitted:hover .sk-estimator-doc-link.fitted:hover,\n",
       ".sk-estimator-doc-link.fitted:hover,\n",
       "div.sk-label-container:hover .sk-estimator-doc-link.fitted:hover,\n",
       ".sk-estimator-doc-link.fitted:hover {\n",
       "  /* fitted */\n",
       "  background-color: var(--sklearn-color-fitted-level-3);\n",
       "  color: var(--sklearn-color-background);\n",
       "  text-decoration: none;\n",
       "}\n",
       "\n",
       "/* Span, style for the box shown on hovering the info icon */\n",
       ".sk-estimator-doc-link span {\n",
       "  display: none;\n",
       "  z-index: 9999;\n",
       "  position: relative;\n",
       "  font-weight: normal;\n",
       "  right: .2ex;\n",
       "  padding: .5ex;\n",
       "  margin: .5ex;\n",
       "  width: min-content;\n",
       "  min-width: 20ex;\n",
       "  max-width: 50ex;\n",
       "  color: var(--sklearn-color-text);\n",
       "  box-shadow: 2pt 2pt 4pt #999;\n",
       "  /* unfitted */\n",
       "  background: var(--sklearn-color-unfitted-level-0);\n",
       "  border: .5pt solid var(--sklearn-color-unfitted-level-3);\n",
       "}\n",
       "\n",
       ".sk-estimator-doc-link.fitted span {\n",
       "  /* fitted */\n",
       "  background: var(--sklearn-color-fitted-level-0);\n",
       "  border: var(--sklearn-color-fitted-level-3);\n",
       "}\n",
       "\n",
       ".sk-estimator-doc-link:hover span {\n",
       "  display: block;\n",
       "}\n",
       "\n",
       "/* \"?\"-specific style due to the `<a>` HTML tag */\n",
       "\n",
<<<<<<< HEAD
       "#sk-container-id-1 a.estimator_doc_link {\n",
=======
       "#sk-container-id-8 a.estimator_doc_link {\n",
>>>>>>> 28f21dd (added time sign data and models)
       "  float: right;\n",
       "  font-size: 1rem;\n",
       "  line-height: 1em;\n",
       "  font-family: monospace;\n",
       "  background-color: var(--sklearn-color-background);\n",
       "  border-radius: 1rem;\n",
       "  height: 1rem;\n",
       "  width: 1rem;\n",
       "  text-decoration: none;\n",
       "  /* unfitted */\n",
       "  color: var(--sklearn-color-unfitted-level-1);\n",
       "  border: var(--sklearn-color-unfitted-level-1) 1pt solid;\n",
       "}\n",
       "\n",
<<<<<<< HEAD
       "#sk-container-id-1 a.estimator_doc_link.fitted {\n",
=======
       "#sk-container-id-8 a.estimator_doc_link.fitted {\n",
>>>>>>> 28f21dd (added time sign data and models)
       "  /* fitted */\n",
       "  border: var(--sklearn-color-fitted-level-1) 1pt solid;\n",
       "  color: var(--sklearn-color-fitted-level-1);\n",
       "}\n",
       "\n",
       "/* On hover */\n",
<<<<<<< HEAD
       "#sk-container-id-1 a.estimator_doc_link:hover {\n",
=======
       "#sk-container-id-8 a.estimator_doc_link:hover {\n",
>>>>>>> 28f21dd (added time sign data and models)
       "  /* unfitted */\n",
       "  background-color: var(--sklearn-color-unfitted-level-3);\n",
       "  color: var(--sklearn-color-background);\n",
       "  text-decoration: none;\n",
       "}\n",
       "\n",
<<<<<<< HEAD
       "#sk-container-id-1 a.estimator_doc_link.fitted:hover {\n",
       "  /* fitted */\n",
       "  background-color: var(--sklearn-color-fitted-level-3);\n",
       "}\n",
       "</style><div id=\"sk-container-id-1\" class=\"sk-top-container\"><div class=\"sk-text-repr-fallback\"><pre>Pipeline(steps=[(&#x27;standardscaler&#x27;, StandardScaler()),\n",
       "                (&#x27;logisticregression&#x27;, LogisticRegression())])</pre><b>In a Jupyter environment, please rerun this cell to show the HTML representation or trust the notebook. <br />On GitHub, the HTML representation is unable to render, please try loading this page with nbviewer.org.</b></div><div class=\"sk-container\" hidden><div class=\"sk-item sk-dashed-wrapped\"><div class=\"sk-label-container\"><div class=\"sk-label  sk-toggleable\"><input class=\"sk-toggleable__control sk-hidden--visually\" id=\"sk-estimator-id-1\" type=\"checkbox\" ><label for=\"sk-estimator-id-1\" class=\"sk-toggleable__label  sk-toggleable__label-arrow \">&nbsp;&nbsp;Pipeline<a class=\"sk-estimator-doc-link \" rel=\"noreferrer\" target=\"_blank\" href=\"https://scikit-learn.org/1.4/modules/generated/sklearn.pipeline.Pipeline.html\">?<span>Documentation for Pipeline</span></a><span class=\"sk-estimator-doc-link \">i<span>Not fitted</span></span></label><div class=\"sk-toggleable__content \"><pre>Pipeline(steps=[(&#x27;standardscaler&#x27;, StandardScaler()),\n",
       "                (&#x27;logisticregression&#x27;, LogisticRegression())])</pre></div> </div></div><div class=\"sk-serial\"><div class=\"sk-item\"><div class=\"sk-estimator  sk-toggleable\"><input class=\"sk-toggleable__control sk-hidden--visually\" id=\"sk-estimator-id-2\" type=\"checkbox\" ><label for=\"sk-estimator-id-2\" class=\"sk-toggleable__label  sk-toggleable__label-arrow \">&nbsp;StandardScaler<a class=\"sk-estimator-doc-link \" rel=\"noreferrer\" target=\"_blank\" href=\"https://scikit-learn.org/1.4/modules/generated/sklearn.preprocessing.StandardScaler.html\">?<span>Documentation for StandardScaler</span></a></label><div class=\"sk-toggleable__content \"><pre>StandardScaler()</pre></div> </div></div><div class=\"sk-item\"><div class=\"sk-estimator  sk-toggleable\"><input class=\"sk-toggleable__control sk-hidden--visually\" id=\"sk-estimator-id-3\" type=\"checkbox\" ><label for=\"sk-estimator-id-3\" class=\"sk-toggleable__label  sk-toggleable__label-arrow \">&nbsp;LogisticRegression<a class=\"sk-estimator-doc-link \" rel=\"noreferrer\" target=\"_blank\" href=\"https://scikit-learn.org/1.4/modules/generated/sklearn.linear_model.LogisticRegression.html\">?<span>Documentation for LogisticRegression</span></a></label><div class=\"sk-toggleable__content \"><pre>LogisticRegression()</pre></div> </div></div></div></div></div></div>"
=======
       "#sk-container-id-8 a.estimator_doc_link.fitted:hover {\n",
       "  /* fitted */\n",
       "  background-color: var(--sklearn-color-fitted-level-3);\n",
       "}\n",
       "</style><div id=\"sk-container-id-8\" class=\"sk-top-container\"><div class=\"sk-text-repr-fallback\"><pre>Pipeline(steps=[(&#x27;standardscaler&#x27;, StandardScaler()),\n",
       "                (&#x27;logisticregression&#x27;, LogisticRegression())])</pre><b>In a Jupyter environment, please rerun this cell to show the HTML representation or trust the notebook. <br />On GitHub, the HTML representation is unable to render, please try loading this page with nbviewer.org.</b></div><div class=\"sk-container\" hidden><div class=\"sk-item sk-dashed-wrapped\"><div class=\"sk-label-container\"><div class=\"sk-label  sk-toggleable\"><input class=\"sk-toggleable__control sk-hidden--visually\" id=\"sk-estimator-id-22\" type=\"checkbox\" ><label for=\"sk-estimator-id-22\" class=\"sk-toggleable__label  sk-toggleable__label-arrow \">&nbsp;&nbsp;Pipeline<a class=\"sk-estimator-doc-link \" rel=\"noreferrer\" target=\"_blank\" href=\"https://scikit-learn.org/1.4/modules/generated/sklearn.pipeline.Pipeline.html\">?<span>Documentation for Pipeline</span></a><span class=\"sk-estimator-doc-link \">i<span>Not fitted</span></span></label><div class=\"sk-toggleable__content \"><pre>Pipeline(steps=[(&#x27;standardscaler&#x27;, StandardScaler()),\n",
       "                (&#x27;logisticregression&#x27;, LogisticRegression())])</pre></div> </div></div><div class=\"sk-serial\"><div class=\"sk-item\"><div class=\"sk-estimator  sk-toggleable\"><input class=\"sk-toggleable__control sk-hidden--visually\" id=\"sk-estimator-id-23\" type=\"checkbox\" ><label for=\"sk-estimator-id-23\" class=\"sk-toggleable__label  sk-toggleable__label-arrow \">&nbsp;StandardScaler<a class=\"sk-estimator-doc-link \" rel=\"noreferrer\" target=\"_blank\" href=\"https://scikit-learn.org/1.4/modules/generated/sklearn.preprocessing.StandardScaler.html\">?<span>Documentation for StandardScaler</span></a></label><div class=\"sk-toggleable__content \"><pre>StandardScaler()</pre></div> </div></div><div class=\"sk-item\"><div class=\"sk-estimator  sk-toggleable\"><input class=\"sk-toggleable__control sk-hidden--visually\" id=\"sk-estimator-id-24\" type=\"checkbox\" ><label for=\"sk-estimator-id-24\" class=\"sk-toggleable__label  sk-toggleable__label-arrow \">&nbsp;LogisticRegression<a class=\"sk-estimator-doc-link \" rel=\"noreferrer\" target=\"_blank\" href=\"https://scikit-learn.org/1.4/modules/generated/sklearn.linear_model.LogisticRegression.html\">?<span>Documentation for LogisticRegression</span></a></label><div class=\"sk-toggleable__content \"><pre>LogisticRegression()</pre></div> </div></div></div></div></div></div>"
>>>>>>> 28f21dd (added time sign data and models)
      ],
      "text/plain": [
       "Pipeline(steps=[('standardscaler', StandardScaler()),\n",
       "                ('logisticregression', LogisticRegression())])"
      ]
     },
<<<<<<< HEAD
     "execution_count": 40,
=======
     "execution_count": 155,
>>>>>>> 28f21dd (added time sign data and models)
     "metadata": {},
     "output_type": "execute_result"
    }
   ],
   "source": [
    "list(pipelines.values())[0]"
   ]
  },
  {
   "cell_type": "code",
<<<<<<< HEAD
   "execution_count": 41,
   "metadata": {},
   "outputs": [],
   "source": [
    "fit_models = {}\n",
    "for algo, pipeline in pipelines.items():\n",
    "    model = pipeline.fit(X_train, y_train)\n",
    "    fit_models[algo] =  model"
   ]
  },
  {
   "cell_type": "code",
   "execution_count": 42,
   "metadata": {},
=======
   "execution_count": 156,
   "id": "8843e6af-6f3e-4ce9-a268-d1f35d278a40",
   "metadata": {
    "metadata": {}
   },
>>>>>>> 28f21dd (added time sign data and models)
   "outputs": [
    {
     "data": {
      "text/plain": [
       "{'lr': Pipeline(steps=[('standardscaler', StandardScaler()),\n",
       "                 ('logisticregression', LogisticRegression())]),\n",
       " 'rc': Pipeline(steps=[('standardscaler', StandardScaler()),\n",
       "                 ('ridgeclassifier', RidgeClassifier())]),\n",
       " 'rf': Pipeline(steps=[('standardscaler', StandardScaler()),\n",
       "                 ('randomforestclassifier', RandomForestClassifier())]),\n",
       " 'gb': Pipeline(steps=[('standardscaler', StandardScaler()),\n",
       "                 ('gradientboostingclassifier', GradientBoostingClassifier())])}"
      ]
     },
<<<<<<< HEAD
     "execution_count": 42,
=======
     "execution_count": 156,
>>>>>>> 28f21dd (added time sign data and models)
     "metadata": {},
     "output_type": "execute_result"
    }
   ],
   "source": [
<<<<<<< HEAD
=======
    "fit_models = {}\n",
    "for algo, pipeline in pipelines.items():\n",
    "    model = pipeline.fit(X_train, y_train)\n",
    "    fit_models[algo] =  model\n",
>>>>>>> 28f21dd (added time sign data and models)
    "fit_models"
   ]
  },
  {
   "cell_type": "code",
<<<<<<< HEAD
   "execution_count": 43,
   "metadata": {},
=======
   "execution_count": 157,
   "id": "a188491a-ee21-4fff-8a1b-db24d350d197",
   "metadata": {
    "metadata": {}
   },
>>>>>>> 28f21dd (added time sign data and models)
   "outputs": [
    {
     "data": {
      "text/plain": [
<<<<<<< HEAD
       "array(['amor y paz', 'bien', 'bien', 'amor y paz', 'amor y paz',\n",
       "       'i love u', 'amor y paz', 'i love u', 'amor y paz', 'amor y paz',\n",
       "       'bien', 'amor y paz', 'bien', 'amor y paz', 'bien', 'amor y paz',\n",
       "       'bien', 'amor y paz', 'amor y paz', 'i love u', 'i love u',\n",
       "       'amor y paz', 'bien', 'amor y paz', 'amor y paz', 'amor y paz',\n",
       "       'amor y paz', 'amor y paz', 'bien', 'amor y paz', 'amor y paz',\n",
       "       'amor y paz', 'i love u', 'bien', 'i love u', 'bien', 'i love u',\n",
       "       'i love u', 'bien', 'bien', 'bien', 'amor y paz', 'bien',\n",
       "       'i love u', 'bien', 'i love u', 'bien', 'amor y paz', 'amor y paz',\n",
       "       'i love u', 'bien', 'i love u', 'i love u', 'i love u', 'bien',\n",
       "       'amor y paz', 'i love u', 'bien', 'amor y paz', 'bien',\n",
       "       'amor y paz', 'i love u', 'i love u', 'amor y paz', 'amor y paz',\n",
       "       'i love u', 'i love u', 'bien', 'amor y paz', 'amor y paz',\n",
       "       'i love u', 'bien', 'amor y paz', 'amor y paz', 'bien', 'i love u',\n",
       "       'amor y paz', 'amor y paz', 'i love u', 'amor y paz', 'amor y paz',\n",
       "       'amor y paz', 'i love u', 'bien', 'i love u', 'i love u',\n",
       "       'amor y paz', 'amor y paz', 'amor y paz', 'amor y paz', 'i love u',\n",
       "       'amor y paz', 'i love u', 'amor y paz', 'i love u', 'bien',\n",
       "       'amor y paz', 'i love u', 'amor y paz', 'i love u', 'amor y paz',\n",
       "       'amor y paz', 'bien', 'bien', 'bien', 'i love u', 'amor y paz',\n",
       "       'amor y paz', 'bien', 'bien', 'amor y paz', 'amor y paz',\n",
       "       'i love u', 'i love u', 'amor y paz', 'amor y paz', 'bien', 'bien',\n",
       "       'amor y paz', 'amor y paz', 'bien', 'amor y paz', 'amor y paz',\n",
       "       'amor y paz', 'i love u', 'amor y paz', 'i love u', 'amor y paz',\n",
       "       'i love u', 'amor y paz', 'bien', 'bien', 'bien', 'bien',\n",
       "       'i love u', 'amor y paz', 'i love u', 'bien', 'i love u',\n",
       "       'amor y paz', 'bien', 'i love u', 'i love u', 'i love u', 'bien',\n",
       "       'amor y paz', 'amor y paz', 'i love u', 'amor y paz', 'amor y paz',\n",
       "       'i love u', 'amor y paz'], dtype='<U10')"
      ]
     },
     "execution_count": 43,
=======
       "array(['aveces', 'aveces', 'mes', 'aveces', 'anio', 'anio', 'mes',\n",
       "       'aveces', 'anio', 'aveces', 'anio', 'aveces', 'aveces', 'anio',\n",
       "       'aveces', 'anio', 'anio', 'mes', 'aveces', 'aveces', 'mes', 'mes',\n",
       "       'anio', 'aveces', 'aveces', 'mes', 'mes', 'aveces', 'aveces',\n",
       "       'anio', 'mes', 'aveces', 'anio', 'anio', 'anio', 'anio', 'aveces',\n",
       "       'aveces', 'anio', 'mes', 'mes', 'mes', 'anio', 'anio', 'aveces',\n",
       "       'aveces', 'anio', 'aveces', 'anio', 'mes', 'anio', 'anio', 'mes',\n",
       "       'anio', 'aveces', 'anio', 'anio', 'aveces', 'aveces', 'anio',\n",
       "       'aveces', 'mes', 'aveces', 'mes', 'aveces', 'aveces', 'anio',\n",
       "       'aveces', 'aveces', 'aveces', 'mes', 'mes', 'aveces', 'mes',\n",
       "       'aveces', 'aveces', 'anio', 'anio', 'mes', 'anio', 'anio', 'anio',\n",
       "       'aveces', 'anio', 'aveces', 'aveces', 'mes', 'mes', 'mes',\n",
       "       'aveces', 'anio', 'anio', 'aveces', 'aveces', 'aveces', 'mes',\n",
       "       'mes', 'mes', 'anio', 'mes', 'mes', 'aveces', 'mes', 'aveces',\n",
       "       'aveces', 'mes', 'anio', 'aveces', 'anio', 'mes', 'aveces', 'mes',\n",
       "       'mes', 'anio', 'aveces', 'mes', 'anio', 'aveces', 'aveces',\n",
       "       'aveces', 'anio', 'mes', 'mes', 'anio', 'aveces', 'anio', 'aveces',\n",
       "       'anio', 'mes', 'mes', 'anio', 'anio', 'mes', 'mes', 'aveces',\n",
       "       'aveces', 'anio', 'anio', 'aveces', 'anio', 'anio', 'anio',\n",
       "       'aveces', 'anio', 'anio', 'mes', 'anio', 'aveces', 'mes', 'anio',\n",
       "       'mes', 'aveces', 'aveces', 'anio', 'aveces', 'anio', 'aveces',\n",
       "       'mes', 'mes', 'anio', 'anio', 'mes', 'aveces', 'mes', 'mes', 'mes',\n",
       "       'anio', 'anio', 'aveces', 'aveces', 'anio', 'anio', 'aveces',\n",
       "       'aveces', 'mes', 'mes', 'anio', 'aveces', 'aveces', 'mes',\n",
       "       'aveces', 'anio', 'anio', 'aveces', 'mes', 'anio', 'mes', 'mes',\n",
       "       'anio', 'anio', 'aveces', 'anio', 'mes', 'aveces', 'aveces',\n",
       "       'anio', 'mes', 'mes', 'mes', 'anio', 'anio', 'anio', 'anio',\n",
       "       'anio', 'mes', 'mes', 'aveces', 'mes', 'anio', 'mes', 'aveces',\n",
       "       'aveces', 'mes', 'anio', 'aveces', 'anio', 'mes', 'mes', 'aveces',\n",
       "       'anio', 'anio', 'mes', 'anio', 'mes', 'aveces', 'aveces', 'mes',\n",
       "       'aveces', 'anio', 'anio', 'anio', 'mes', 'anio', 'mes', 'anio',\n",
       "       'anio', 'mes', 'anio', 'mes', 'mes', 'anio', 'mes', 'anio', 'mes',\n",
       "       'aveces', 'mes', 'aveces', 'aveces', 'anio', 'mes', 'mes', 'anio',\n",
       "       'aveces', 'aveces', 'anio', 'aveces', 'anio', 'anio', 'anio',\n",
       "       'mes', 'mes', 'mes', 'aveces', 'aveces', 'anio', 'anio', 'aveces',\n",
       "       'anio', 'mes', 'mes', 'anio', 'aveces', 'anio', 'mes', 'aveces',\n",
       "       'aveces', 'anio', 'mes', 'aveces', 'mes', 'aveces', 'mes', 'anio',\n",
       "       'anio', 'aveces', 'mes', 'mes', 'anio', 'mes', 'anio', 'aveces',\n",
       "       'mes', 'mes', 'aveces', 'anio', 'anio', 'aveces', 'aveces',\n",
       "       'aveces', 'mes', 'mes', 'aveces', 'mes', 'aveces', 'anio', 'mes',\n",
       "       'anio', 'mes', 'anio', 'mes', 'mes', 'mes', 'mes', 'aveces', 'mes',\n",
       "       'anio', 'aveces', 'anio', 'aveces', 'anio', 'mes', 'mes', 'aveces',\n",
       "       'anio', 'anio', 'mes', 'anio', 'aveces', 'mes', 'anio', 'aveces',\n",
       "       'mes', 'aveces', 'aveces', 'aveces', 'aveces', 'mes', 'anio',\n",
       "       'anio', 'mes', 'anio', 'mes', 'aveces', 'mes', 'mes', 'aveces',\n",
       "       'aveces', 'anio', 'anio', 'aveces', 'anio', 'aveces', 'anio',\n",
       "       'aveces', 'mes', 'anio', 'mes', 'aveces', 'mes', 'anio', 'mes',\n",
       "       'aveces', 'aveces', 'anio', 'aveces', 'aveces', 'mes', 'anio',\n",
       "       'anio', 'anio', 'mes', 'aveces', 'anio', 'mes', 'mes', 'mes',\n",
       "       'aveces', 'mes', 'aveces'], dtype='<U6')"
      ]
     },
     "execution_count": 157,
>>>>>>> 28f21dd (added time sign data and models)
     "metadata": {},
     "output_type": "execute_result"
    }
   ],
   "source": [
    "fit_models['rc'].predict(X_test) "
   ]
  },
  {
<<<<<<< HEAD
   "cell_type": "markdown",
   "metadata": {},
   "source": [
    "Evaluar y serializar el modelo"
   ]
  },
  {
   "cell_type": "markdown",
   "metadata": {},
   "source": [
    "Otras metricas: precision, recall, f1 score, AUC. Aqui se usa precision"
   ]
  },
  {
   "cell_type": "code",
   "execution_count": 44,
   "metadata": {},
=======
   "cell_type": "code",
   "execution_count": 158,
   "id": "0ff16de9-97e4-482a-ad48-982b340cf370",
   "metadata": {
    "metadata": {}
   },
>>>>>>> 28f21dd (added time sign data and models)
   "outputs": [],
   "source": [
    "from sklearn.metrics import accuracy_score # Accuracy metrics \n",
    "import pickle "
   ]
  },
  {
   "cell_type": "code",
<<<<<<< HEAD
   "execution_count": 45,
   "metadata": {},
=======
   "execution_count": 159,
   "id": "ca6d6dab-957e-4ca9-9308-a3aaf9283647",
   "metadata": {
    "metadata": {}
   },
>>>>>>> 28f21dd (added time sign data and models)
   "outputs": [
    {
     "name": "stdout",
     "output_type": "stream",
     "text": [
<<<<<<< HEAD
      "lr 0.993421052631579\n",
      "rc 1.0\n",
      "rf 1.0\n",
=======
      "lr 0.9973614775725593\n",
      "rc 1.0\n",
      "rf 0.9973614775725593\n",
>>>>>>> 28f21dd (added time sign data and models)
      "gb 1.0\n"
     ]
    }
   ],
   "source": [
    "for algo, model in fit_models.items():\n",
    "    yhat = model.predict(X_test) ## yhat almacena las predicciones reales  \n",
    "    print(algo, accuracy_score(y_test, yhat)) #imprimimos la precision, "
   ]
  },
  {
<<<<<<< HEAD
   "cell_type": "markdown",
   "metadata": {},
   "source": [
    "Lo que se hace a continuacion tiene muchos casos de uso diferentes, se puede hacer una deteccion de accion o un modelo de lenguaje de señas(que se base en un solo cuadro o en una sola coordenada), analisis de sentimientos, etc."
   ]
  },
  {
   "cell_type": "code",
   "execution_count": 46,
   "metadata": {},
=======
   "cell_type": "code",
   "execution_count": 160,
   "id": "1efc4631-d092-4452-aafb-1ce88ae348ed",
   "metadata": {
    "metadata": {}
   },
>>>>>>> 28f21dd (added time sign data and models)
   "outputs": [
    {
     "data": {
      "text/plain": [
<<<<<<< HEAD
       "array(['amor y paz', 'bien', 'bien', 'amor y paz', 'amor y paz',\n",
       "       'i love u', 'amor y paz', 'i love u', 'amor y paz', 'amor y paz',\n",
       "       'bien', 'amor y paz', 'bien', 'amor y paz', 'bien', 'amor y paz',\n",
       "       'bien', 'amor y paz', 'amor y paz', 'i love u', 'i love u',\n",
       "       'amor y paz', 'bien', 'amor y paz', 'amor y paz', 'amor y paz',\n",
       "       'amor y paz', 'amor y paz', 'bien', 'amor y paz', 'amor y paz',\n",
       "       'amor y paz', 'i love u', 'bien', 'i love u', 'bien', 'i love u',\n",
       "       'i love u', 'bien', 'bien', 'bien', 'amor y paz', 'bien',\n",
       "       'i love u', 'bien', 'i love u', 'bien', 'amor y paz', 'amor y paz',\n",
       "       'i love u', 'bien', 'i love u', 'i love u', 'i love u', 'bien',\n",
       "       'amor y paz', 'i love u', 'bien', 'amor y paz', 'bien',\n",
       "       'amor y paz', 'i love u', 'i love u', 'amor y paz', 'amor y paz',\n",
       "       'i love u', 'i love u', 'bien', 'amor y paz', 'amor y paz',\n",
       "       'i love u', 'bien', 'amor y paz', 'amor y paz', 'bien', 'i love u',\n",
       "       'amor y paz', 'amor y paz', 'i love u', 'amor y paz', 'amor y paz',\n",
       "       'amor y paz', 'i love u', 'bien', 'i love u', 'i love u',\n",
       "       'amor y paz', 'amor y paz', 'amor y paz', 'amor y paz', 'i love u',\n",
       "       'amor y paz', 'i love u', 'amor y paz', 'i love u', 'bien',\n",
       "       'amor y paz', 'i love u', 'amor y paz', 'i love u', 'amor y paz',\n",
       "       'amor y paz', 'bien', 'bien', 'bien', 'i love u', 'amor y paz',\n",
       "       'amor y paz', 'bien', 'bien', 'amor y paz', 'amor y paz',\n",
       "       'i love u', 'i love u', 'amor y paz', 'amor y paz', 'bien', 'bien',\n",
       "       'amor y paz', 'amor y paz', 'bien', 'amor y paz', 'amor y paz',\n",
       "       'amor y paz', 'i love u', 'amor y paz', 'i love u', 'amor y paz',\n",
       "       'i love u', 'amor y paz', 'bien', 'bien', 'bien', 'bien',\n",
       "       'i love u', 'amor y paz', 'i love u', 'bien', 'i love u',\n",
       "       'amor y paz', 'bien', 'i love u', 'i love u', 'i love u', 'bien',\n",
       "       'amor y paz', 'amor y paz', 'i love u', 'amor y paz', 'amor y paz',\n",
       "       'i love u', 'amor y paz'], dtype='<U10')"
      ]
     },
     "execution_count": 46,
=======
       "array(['aveces', 'aveces', 'mes', 'aveces', 'anio', 'anio', 'mes',\n",
       "       'aveces', 'anio', 'aveces', 'anio', 'aveces', 'aveces', 'anio',\n",
       "       'aveces', 'anio', 'anio', 'mes', 'aveces', 'aveces', 'mes', 'mes',\n",
       "       'anio', 'aveces', 'aveces', 'mes', 'mes', 'aveces', 'aveces',\n",
       "       'anio', 'mes', 'aveces', 'anio', 'anio', 'anio', 'anio', 'aveces',\n",
       "       'aveces', 'anio', 'mes', 'mes', 'mes', 'anio', 'anio', 'aveces',\n",
       "       'aveces', 'anio', 'aveces', 'anio', 'mes', 'anio', 'anio', 'mes',\n",
       "       'anio', 'aveces', 'anio', 'anio', 'aveces', 'aveces', 'anio',\n",
       "       'aveces', 'mes', 'aveces', 'mes', 'aveces', 'aveces', 'anio',\n",
       "       'aveces', 'aveces', 'aveces', 'mes', 'mes', 'aveces', 'mes',\n",
       "       'aveces', 'aveces', 'anio', 'anio', 'mes', 'anio', 'anio', 'anio',\n",
       "       'aveces', 'anio', 'aveces', 'aveces', 'mes', 'mes', 'mes',\n",
       "       'aveces', 'anio', 'anio', 'aveces', 'aveces', 'aveces', 'mes',\n",
       "       'mes', 'mes', 'anio', 'mes', 'mes', 'aveces', 'mes', 'aveces',\n",
       "       'aveces', 'mes', 'anio', 'aveces', 'anio', 'mes', 'aveces', 'mes',\n",
       "       'mes', 'anio', 'aveces', 'mes', 'anio', 'aveces', 'aveces',\n",
       "       'aveces', 'anio', 'mes', 'mes', 'anio', 'aveces', 'anio', 'aveces',\n",
       "       'anio', 'mes', 'mes', 'anio', 'anio', 'mes', 'mes', 'aveces',\n",
       "       'aveces', 'anio', 'anio', 'aveces', 'anio', 'anio', 'anio',\n",
       "       'aveces', 'anio', 'anio', 'mes', 'anio', 'aveces', 'mes', 'anio',\n",
       "       'mes', 'aveces', 'aveces', 'anio', 'aveces', 'anio', 'aveces',\n",
       "       'mes', 'mes', 'anio', 'anio', 'mes', 'aveces', 'mes', 'mes', 'mes',\n",
       "       'anio', 'anio', 'aveces', 'aveces', 'anio', 'anio', 'aveces',\n",
       "       'aveces', 'mes', 'mes', 'anio', 'aveces', 'aveces', 'mes',\n",
       "       'aveces', 'anio', 'anio', 'aveces', 'mes', 'anio', 'mes', 'mes',\n",
       "       'anio', 'anio', 'aveces', 'anio', 'mes', 'aveces', 'aveces',\n",
       "       'anio', 'mes', 'mes', 'mes', 'anio', 'anio', 'anio', 'anio',\n",
       "       'anio', 'mes', 'mes', 'aveces', 'mes', 'anio', 'mes', 'aveces',\n",
       "       'aveces', 'mes', 'anio', 'aveces', 'anio', 'mes', 'mes', 'aveces',\n",
       "       'anio', 'anio', 'mes', 'anio', 'mes', 'aveces', 'aveces', 'mes',\n",
       "       'aveces', 'anio', 'anio', 'anio', 'mes', 'anio', 'mes', 'anio',\n",
       "       'anio', 'mes', 'anio', 'mes', 'mes', 'anio', 'mes', 'anio', 'mes',\n",
       "       'aveces', 'mes', 'aveces', 'aveces', 'anio', 'mes', 'mes', 'anio',\n",
       "       'aveces', 'aveces', 'anio', 'aveces', 'anio', 'anio', 'anio',\n",
       "       'mes', 'mes', 'mes', 'aveces', 'aveces', 'anio', 'anio', 'aveces',\n",
       "       'anio', 'mes', 'mes', 'anio', 'aveces', 'anio', 'mes', 'aveces',\n",
       "       'aveces', 'anio', 'mes', 'aveces', 'mes', 'aveces', 'mes', 'anio',\n",
       "       'anio', 'aveces', 'mes', 'mes', 'anio', 'mes', 'anio', 'aveces',\n",
       "       'mes', 'mes', 'aveces', 'anio', 'anio', 'aveces', 'aveces',\n",
       "       'aveces', 'mes', 'mes', 'aveces', 'mes', 'aveces', 'anio', 'mes',\n",
       "       'anio', 'mes', 'anio', 'mes', 'mes', 'mes', 'mes', 'aveces', 'mes',\n",
       "       'anio', 'aveces', 'anio', 'aveces', 'anio', 'mes', 'mes', 'aveces',\n",
       "       'anio', 'anio', 'mes', 'anio', 'aveces', 'mes', 'anio', 'aveces',\n",
       "       'mes', 'aveces', 'aveces', 'aveces', 'aveces', 'mes', 'anio',\n",
       "       'anio', 'mes', 'anio', 'mes', 'aveces', 'mes', 'mes', 'aveces',\n",
       "       'aveces', 'anio', 'anio', 'aveces', 'anio', 'aveces', 'anio',\n",
       "       'aveces', 'mes', 'anio', 'mes', 'aveces', 'mes', 'anio', 'mes',\n",
       "       'aveces', 'aveces', 'anio', 'aveces', 'aveces', 'mes', 'anio',\n",
       "       'anio', 'anio', 'mes', 'aveces', 'anio', 'mes', 'mes', 'mes',\n",
       "       'aveces', 'mes', 'aveces'], dtype='<U6')"
      ]
     },
     "execution_count": 160,
>>>>>>> 28f21dd (added time sign data and models)
     "metadata": {},
     "output_type": "execute_result"
    }
   ],
   "source": [
    "fit_models['rc'].predict(X_test)"
   ]
  },
  {
   "cell_type": "code",
<<<<<<< HEAD
   "execution_count": 45,
   "metadata": {},
=======
   "execution_count": 161,
   "id": "217234c6-6577-4fba-be47-33ed9635db4b",
   "metadata": {
    "metadata": {}
   },
>>>>>>> 28f21dd (added time sign data and models)
   "outputs": [
    {
     "data": {
      "text/plain": [
<<<<<<< HEAD
       "12    Hola\n",
       "10    Hola\n",
       "0      Mal\n",
       "11    Hola\n",
       "13    Hola\n",
       "Name: class, dtype: object"
      ]
     },
     "execution_count": 45,
=======
       "1121    aveces\n",
       "1000    aveces\n",
       "373        mes\n",
       "1013    aveces\n",
       "791       anio\n",
       "         ...  \n",
       "4          mes\n",
       "114        mes\n",
       "1253    aveces\n",
       "171        mes\n",
       "858     aveces\n",
       "Name: class, Length: 379, dtype: object"
      ]
     },
     "execution_count": 161,
>>>>>>> 28f21dd (added time sign data and models)
     "metadata": {},
     "output_type": "execute_result"
    }
   ],
   "source": [
    "y_test"
   ]
  },
  {
   "cell_type": "code",
<<<<<<< HEAD
   "execution_count": 47,
   "metadata": {},
   "outputs": [],
   "source": [
    "# Guardar el modelo ya entrenado\n",
    "with open('prueba.pkl', 'wb') as f: \n",
=======
   "execution_count": 162,
   "id": "8d881adf-b695-44b7-9df7-d90f27eeb38d",
   "metadata": {
    "metadata": {}
   },
   "outputs": [],
   "source": [
    "# Guardar el modelo ya entrenado\n",
    "with open('temporalidad_1_0.pkl', 'wb') as f: \n",
>>>>>>> 28f21dd (added time sign data and models)
    "    pickle.dump(fit_models['rf'], f) "
   ]
  },
  {
   "cell_type": "markdown",
<<<<<<< HEAD
=======
   "id": "f134f593-45e8-45a0-9db8-95d82cbf57ae",
>>>>>>> 28f21dd (added time sign data and models)
   "metadata": {},
   "source": [
    "## Cargar el modelo ya entrenado"
   ]
  },
  {
   "cell_type": "code",
<<<<<<< HEAD
   "execution_count": 48,
   "metadata": {},
   "outputs": [],
   "source": [
    "with open('prueba.pkl', 'rb') as f: \n",
=======
   "execution_count": 163,
   "id": "cb7929f4-480f-4431-bfb7-04c66026cba5",
   "metadata": {
    "metadata": {}
   },
   "outputs": [],
   "source": [
    "with open('temporalidad_1_0.pkl', 'rb') as f:\n",
>>>>>>> 28f21dd (added time sign data and models)
    "    model = pickle.load(f)"
   ]
  },
  {
   "cell_type": "code",
<<<<<<< HEAD
   "execution_count": null,
   "metadata": {},
=======
   "execution_count": 164,
   "id": "14e58ba6-ed95-41d6-b841-c0f35e1085f6",
   "metadata": {
    "metadata": {}
   },
>>>>>>> 28f21dd (added time sign data and models)
   "outputs": [
    {
     "data": {
      "text/html": [
<<<<<<< HEAD
       "<style>#sk-container-id-3 {\n",
=======
       "<style>#sk-container-id-9 {\n",
>>>>>>> 28f21dd (added time sign data and models)
       "  /* Definition of color scheme common for light and dark mode */\n",
       "  --sklearn-color-text: black;\n",
       "  --sklearn-color-line: gray;\n",
       "  /* Definition of color scheme for unfitted estimators */\n",
       "  --sklearn-color-unfitted-level-0: #fff5e6;\n",
       "  --sklearn-color-unfitted-level-1: #f6e4d2;\n",
       "  --sklearn-color-unfitted-level-2: #ffe0b3;\n",
       "  --sklearn-color-unfitted-level-3: chocolate;\n",
       "  /* Definition of color scheme for fitted estimators */\n",
       "  --sklearn-color-fitted-level-0: #f0f8ff;\n",
       "  --sklearn-color-fitted-level-1: #d4ebff;\n",
       "  --sklearn-color-fitted-level-2: #b3dbfd;\n",
       "  --sklearn-color-fitted-level-3: cornflowerblue;\n",
       "\n",
       "  /* Specific color for light theme */\n",
       "  --sklearn-color-text-on-default-background: var(--sg-text-color, var(--theme-code-foreground, var(--jp-content-font-color1, black)));\n",
       "  --sklearn-color-background: var(--sg-background-color, var(--theme-background, var(--jp-layout-color0, white)));\n",
       "  --sklearn-color-border-box: var(--sg-text-color, var(--theme-code-foreground, var(--jp-content-font-color1, black)));\n",
       "  --sklearn-color-icon: #696969;\n",
       "\n",
       "  @media (prefers-color-scheme: dark) {\n",
       "    /* Redefinition of color scheme for dark theme */\n",
       "    --sklearn-color-text-on-default-background: var(--sg-text-color, var(--theme-code-foreground, var(--jp-content-font-color1, white)));\n",
       "    --sklearn-color-background: var(--sg-background-color, var(--theme-background, var(--jp-layout-color0, #111)));\n",
       "    --sklearn-color-border-box: var(--sg-text-color, var(--theme-code-foreground, var(--jp-content-font-color1, white)));\n",
       "    --sklearn-color-icon: #878787;\n",
       "  }\n",
       "}\n",
       "\n",
<<<<<<< HEAD
       "#sk-container-id-3 {\n",
       "  color: var(--sklearn-color-text);\n",
       "}\n",
       "\n",
       "#sk-container-id-3 pre {\n",
       "  padding: 0;\n",
       "}\n",
       "\n",
       "#sk-container-id-3 input.sk-hidden--visually {\n",
=======
       "#sk-container-id-9 {\n",
       "  color: var(--sklearn-color-text);\n",
       "}\n",
       "\n",
       "#sk-container-id-9 pre {\n",
       "  padding: 0;\n",
       "}\n",
       "\n",
       "#sk-container-id-9 input.sk-hidden--visually {\n",
>>>>>>> 28f21dd (added time sign data and models)
       "  border: 0;\n",
       "  clip: rect(1px 1px 1px 1px);\n",
       "  clip: rect(1px, 1px, 1px, 1px);\n",
       "  height: 1px;\n",
       "  margin: -1px;\n",
       "  overflow: hidden;\n",
       "  padding: 0;\n",
       "  position: absolute;\n",
       "  width: 1px;\n",
       "}\n",
       "\n",
<<<<<<< HEAD
       "#sk-container-id-3 div.sk-dashed-wrapped {\n",
=======
       "#sk-container-id-9 div.sk-dashed-wrapped {\n",
>>>>>>> 28f21dd (added time sign data and models)
       "  border: 1px dashed var(--sklearn-color-line);\n",
       "  margin: 0 0.4em 0.5em 0.4em;\n",
       "  box-sizing: border-box;\n",
       "  padding-bottom: 0.4em;\n",
       "  background-color: var(--sklearn-color-background);\n",
       "}\n",
       "\n",
<<<<<<< HEAD
       "#sk-container-id-3 div.sk-container {\n",
=======
       "#sk-container-id-9 div.sk-container {\n",
>>>>>>> 28f21dd (added time sign data and models)
       "  /* jupyter's `normalize.less` sets `[hidden] { display: none; }`\n",
       "     but bootstrap.min.css set `[hidden] { display: none !important; }`\n",
       "     so we also need the `!important` here to be able to override the\n",
       "     default hidden behavior on the sphinx rendered scikit-learn.org.\n",
       "     See: https://github.com/scikit-learn/scikit-learn/issues/21755 */\n",
       "  display: inline-block !important;\n",
       "  position: relative;\n",
       "}\n",
       "\n",
<<<<<<< HEAD
       "#sk-container-id-3 div.sk-text-repr-fallback {\n",
=======
       "#sk-container-id-9 div.sk-text-repr-fallback {\n",
>>>>>>> 28f21dd (added time sign data and models)
       "  display: none;\n",
       "}\n",
       "\n",
       "div.sk-parallel-item,\n",
       "div.sk-serial,\n",
       "div.sk-item {\n",
       "  /* draw centered vertical line to link estimators */\n",
       "  background-image: linear-gradient(var(--sklearn-color-text-on-default-background), var(--sklearn-color-text-on-default-background));\n",
       "  background-size: 2px 100%;\n",
       "  background-repeat: no-repeat;\n",
       "  background-position: center center;\n",
       "}\n",
       "\n",
       "/* Parallel-specific style estimator block */\n",
       "\n",
<<<<<<< HEAD
       "#sk-container-id-3 div.sk-parallel-item::after {\n",
=======
       "#sk-container-id-9 div.sk-parallel-item::after {\n",
>>>>>>> 28f21dd (added time sign data and models)
       "  content: \"\";\n",
       "  width: 100%;\n",
       "  border-bottom: 2px solid var(--sklearn-color-text-on-default-background);\n",
       "  flex-grow: 1;\n",
       "}\n",
       "\n",
<<<<<<< HEAD
       "#sk-container-id-3 div.sk-parallel {\n",
=======
       "#sk-container-id-9 div.sk-parallel {\n",
>>>>>>> 28f21dd (added time sign data and models)
       "  display: flex;\n",
       "  align-items: stretch;\n",
       "  justify-content: center;\n",
       "  background-color: var(--sklearn-color-background);\n",
       "  position: relative;\n",
       "}\n",
       "\n",
<<<<<<< HEAD
       "#sk-container-id-3 div.sk-parallel-item {\n",
=======
       "#sk-container-id-9 div.sk-parallel-item {\n",
>>>>>>> 28f21dd (added time sign data and models)
       "  display: flex;\n",
       "  flex-direction: column;\n",
       "}\n",
       "\n",
<<<<<<< HEAD
       "#sk-container-id-3 div.sk-parallel-item:first-child::after {\n",
=======
       "#sk-container-id-9 div.sk-parallel-item:first-child::after {\n",
>>>>>>> 28f21dd (added time sign data and models)
       "  align-self: flex-end;\n",
       "  width: 50%;\n",
       "}\n",
       "\n",
<<<<<<< HEAD
       "#sk-container-id-3 div.sk-parallel-item:last-child::after {\n",
=======
       "#sk-container-id-9 div.sk-parallel-item:last-child::after {\n",
>>>>>>> 28f21dd (added time sign data and models)
       "  align-self: flex-start;\n",
       "  width: 50%;\n",
       "}\n",
       "\n",
<<<<<<< HEAD
       "#sk-container-id-3 div.sk-parallel-item:only-child::after {\n",
=======
       "#sk-container-id-9 div.sk-parallel-item:only-child::after {\n",
>>>>>>> 28f21dd (added time sign data and models)
       "  width: 0;\n",
       "}\n",
       "\n",
       "/* Serial-specific style estimator block */\n",
       "\n",
<<<<<<< HEAD
       "#sk-container-id-3 div.sk-serial {\n",
=======
       "#sk-container-id-9 div.sk-serial {\n",
>>>>>>> 28f21dd (added time sign data and models)
       "  display: flex;\n",
       "  flex-direction: column;\n",
       "  align-items: center;\n",
       "  background-color: var(--sklearn-color-background);\n",
       "  padding-right: 1em;\n",
       "  padding-left: 1em;\n",
       "}\n",
       "\n",
       "\n",
       "/* Toggleable style: style used for estimator/Pipeline/ColumnTransformer box that is\n",
       "clickable and can be expanded/collapsed.\n",
       "- Pipeline and ColumnTransformer use this feature and define the default style\n",
       "- Estimators will overwrite some part of the style using the `sk-estimator` class\n",
       "*/\n",
       "\n",
       "/* Pipeline and ColumnTransformer style (default) */\n",
       "\n",
<<<<<<< HEAD
       "#sk-container-id-3 div.sk-toggleable {\n",
=======
       "#sk-container-id-9 div.sk-toggleable {\n",
>>>>>>> 28f21dd (added time sign data and models)
       "  /* Default theme specific background. It is overwritten whether we have a\n",
       "  specific estimator or a Pipeline/ColumnTransformer */\n",
       "  background-color: var(--sklearn-color-background);\n",
       "}\n",
       "\n",
       "/* Toggleable label */\n",
<<<<<<< HEAD
       "#sk-container-id-3 label.sk-toggleable__label {\n",
=======
       "#sk-container-id-9 label.sk-toggleable__label {\n",
>>>>>>> 28f21dd (added time sign data and models)
       "  cursor: pointer;\n",
       "  display: block;\n",
       "  width: 100%;\n",
       "  margin-bottom: 0;\n",
       "  padding: 0.5em;\n",
       "  box-sizing: border-box;\n",
       "  text-align: center;\n",
       "}\n",
       "\n",
<<<<<<< HEAD
       "#sk-container-id-3 label.sk-toggleable__label-arrow:before {\n",
=======
       "#sk-container-id-9 label.sk-toggleable__label-arrow:before {\n",
>>>>>>> 28f21dd (added time sign data and models)
       "  /* Arrow on the left of the label */\n",
       "  content: \"▸\";\n",
       "  float: left;\n",
       "  margin-right: 0.25em;\n",
       "  color: var(--sklearn-color-icon);\n",
       "}\n",
       "\n",
<<<<<<< HEAD
       "#sk-container-id-3 label.sk-toggleable__label-arrow:hover:before {\n",
=======
       "#sk-container-id-9 label.sk-toggleable__label-arrow:hover:before {\n",
>>>>>>> 28f21dd (added time sign data and models)
       "  color: var(--sklearn-color-text);\n",
       "}\n",
       "\n",
       "/* Toggleable content - dropdown */\n",
       "\n",
<<<<<<< HEAD
       "#sk-container-id-3 div.sk-toggleable__content {\n",
=======
       "#sk-container-id-9 div.sk-toggleable__content {\n",
>>>>>>> 28f21dd (added time sign data and models)
       "  max-height: 0;\n",
       "  max-width: 0;\n",
       "  overflow: hidden;\n",
       "  text-align: left;\n",
       "  /* unfitted */\n",
       "  background-color: var(--sklearn-color-unfitted-level-0);\n",
       "}\n",
       "\n",
<<<<<<< HEAD
       "#sk-container-id-3 div.sk-toggleable__content.fitted {\n",
=======
       "#sk-container-id-9 div.sk-toggleable__content.fitted {\n",
>>>>>>> 28f21dd (added time sign data and models)
       "  /* fitted */\n",
       "  background-color: var(--sklearn-color-fitted-level-0);\n",
       "}\n",
       "\n",
<<<<<<< HEAD
       "#sk-container-id-3 div.sk-toggleable__content pre {\n",
=======
       "#sk-container-id-9 div.sk-toggleable__content pre {\n",
>>>>>>> 28f21dd (added time sign data and models)
       "  margin: 0.2em;\n",
       "  border-radius: 0.25em;\n",
       "  color: var(--sklearn-color-text);\n",
       "  /* unfitted */\n",
       "  background-color: var(--sklearn-color-unfitted-level-0);\n",
       "}\n",
       "\n",
<<<<<<< HEAD
       "#sk-container-id-3 div.sk-toggleable__content.fitted pre {\n",
=======
       "#sk-container-id-9 div.sk-toggleable__content.fitted pre {\n",
>>>>>>> 28f21dd (added time sign data and models)
       "  /* unfitted */\n",
       "  background-color: var(--sklearn-color-fitted-level-0);\n",
       "}\n",
       "\n",
<<<<<<< HEAD
       "#sk-container-id-3 input.sk-toggleable__control:checked~div.sk-toggleable__content {\n",
=======
       "#sk-container-id-9 input.sk-toggleable__control:checked~div.sk-toggleable__content {\n",
>>>>>>> 28f21dd (added time sign data and models)
       "  /* Expand drop-down */\n",
       "  max-height: 200px;\n",
       "  max-width: 100%;\n",
       "  overflow: auto;\n",
       "}\n",
       "\n",
<<<<<<< HEAD
       "#sk-container-id-3 input.sk-toggleable__control:checked~label.sk-toggleable__label-arrow:before {\n",
=======
       "#sk-container-id-9 input.sk-toggleable__control:checked~label.sk-toggleable__label-arrow:before {\n",
>>>>>>> 28f21dd (added time sign data and models)
       "  content: \"▾\";\n",
       "}\n",
       "\n",
       "/* Pipeline/ColumnTransformer-specific style */\n",
       "\n",
<<<<<<< HEAD
       "#sk-container-id-3 div.sk-label input.sk-toggleable__control:checked~label.sk-toggleable__label {\n",
=======
       "#sk-container-id-9 div.sk-label input.sk-toggleable__control:checked~label.sk-toggleable__label {\n",
>>>>>>> 28f21dd (added time sign data and models)
       "  color: var(--sklearn-color-text);\n",
       "  background-color: var(--sklearn-color-unfitted-level-2);\n",
       "}\n",
       "\n",
<<<<<<< HEAD
       "#sk-container-id-3 div.sk-label.fitted input.sk-toggleable__control:checked~label.sk-toggleable__label {\n",
=======
       "#sk-container-id-9 div.sk-label.fitted input.sk-toggleable__control:checked~label.sk-toggleable__label {\n",
>>>>>>> 28f21dd (added time sign data and models)
       "  background-color: var(--sklearn-color-fitted-level-2);\n",
       "}\n",
       "\n",
       "/* Estimator-specific style */\n",
       "\n",
       "/* Colorize estimator box */\n",
<<<<<<< HEAD
       "#sk-container-id-3 div.sk-estimator input.sk-toggleable__control:checked~label.sk-toggleable__label {\n",
=======
       "#sk-container-id-9 div.sk-estimator input.sk-toggleable__control:checked~label.sk-toggleable__label {\n",
>>>>>>> 28f21dd (added time sign data and models)
       "  /* unfitted */\n",
       "  background-color: var(--sklearn-color-unfitted-level-2);\n",
       "}\n",
       "\n",
<<<<<<< HEAD
       "#sk-container-id-3 div.sk-estimator.fitted input.sk-toggleable__control:checked~label.sk-toggleable__label {\n",
=======
       "#sk-container-id-9 div.sk-estimator.fitted input.sk-toggleable__control:checked~label.sk-toggleable__label {\n",
>>>>>>> 28f21dd (added time sign data and models)
       "  /* fitted */\n",
       "  background-color: var(--sklearn-color-fitted-level-2);\n",
       "}\n",
       "\n",
<<<<<<< HEAD
       "#sk-container-id-3 div.sk-label label.sk-toggleable__label,\n",
       "#sk-container-id-3 div.sk-label label {\n",
=======
       "#sk-container-id-9 div.sk-label label.sk-toggleable__label,\n",
       "#sk-container-id-9 div.sk-label label {\n",
>>>>>>> 28f21dd (added time sign data and models)
       "  /* The background is the default theme color */\n",
       "  color: var(--sklearn-color-text-on-default-background);\n",
       "}\n",
       "\n",
       "/* On hover, darken the color of the background */\n",
<<<<<<< HEAD
       "#sk-container-id-3 div.sk-label:hover label.sk-toggleable__label {\n",
=======
       "#sk-container-id-9 div.sk-label:hover label.sk-toggleable__label {\n",
>>>>>>> 28f21dd (added time sign data and models)
       "  color: var(--sklearn-color-text);\n",
       "  background-color: var(--sklearn-color-unfitted-level-2);\n",
       "}\n",
       "\n",
       "/* Label box, darken color on hover, fitted */\n",
<<<<<<< HEAD
       "#sk-container-id-3 div.sk-label.fitted:hover label.sk-toggleable__label.fitted {\n",
=======
       "#sk-container-id-9 div.sk-label.fitted:hover label.sk-toggleable__label.fitted {\n",
>>>>>>> 28f21dd (added time sign data and models)
       "  color: var(--sklearn-color-text);\n",
       "  background-color: var(--sklearn-color-fitted-level-2);\n",
       "}\n",
       "\n",
       "/* Estimator label */\n",
       "\n",
<<<<<<< HEAD
       "#sk-container-id-3 div.sk-label label {\n",
=======
       "#sk-container-id-9 div.sk-label label {\n",
>>>>>>> 28f21dd (added time sign data and models)
       "  font-family: monospace;\n",
       "  font-weight: bold;\n",
       "  display: inline-block;\n",
       "  line-height: 1.2em;\n",
       "}\n",
       "\n",
<<<<<<< HEAD
       "#sk-container-id-3 div.sk-label-container {\n",
=======
       "#sk-container-id-9 div.sk-label-container {\n",
>>>>>>> 28f21dd (added time sign data and models)
       "  text-align: center;\n",
       "}\n",
       "\n",
       "/* Estimator-specific */\n",
<<<<<<< HEAD
       "#sk-container-id-3 div.sk-estimator {\n",
=======
       "#sk-container-id-9 div.sk-estimator {\n",
>>>>>>> 28f21dd (added time sign data and models)
       "  font-family: monospace;\n",
       "  border: 1px dotted var(--sklearn-color-border-box);\n",
       "  border-radius: 0.25em;\n",
       "  box-sizing: border-box;\n",
       "  margin-bottom: 0.5em;\n",
       "  /* unfitted */\n",
       "  background-color: var(--sklearn-color-unfitted-level-0);\n",
       "}\n",
       "\n",
<<<<<<< HEAD
       "#sk-container-id-3 div.sk-estimator.fitted {\n",
=======
       "#sk-container-id-9 div.sk-estimator.fitted {\n",
>>>>>>> 28f21dd (added time sign data and models)
       "  /* fitted */\n",
       "  background-color: var(--sklearn-color-fitted-level-0);\n",
       "}\n",
       "\n",
       "/* on hover */\n",
<<<<<<< HEAD
       "#sk-container-id-3 div.sk-estimator:hover {\n",
=======
       "#sk-container-id-9 div.sk-estimator:hover {\n",
>>>>>>> 28f21dd (added time sign data and models)
       "  /* unfitted */\n",
       "  background-color: var(--sklearn-color-unfitted-level-2);\n",
       "}\n",
       "\n",
<<<<<<< HEAD
       "#sk-container-id-3 div.sk-estimator.fitted:hover {\n",
=======
       "#sk-container-id-9 div.sk-estimator.fitted:hover {\n",
>>>>>>> 28f21dd (added time sign data and models)
       "  /* fitted */\n",
       "  background-color: var(--sklearn-color-fitted-level-2);\n",
       "}\n",
       "\n",
       "/* Specification for estimator info (e.g. \"i\" and \"?\") */\n",
       "\n",
       "/* Common style for \"i\" and \"?\" */\n",
       "\n",
       ".sk-estimator-doc-link,\n",
       "a:link.sk-estimator-doc-link,\n",
       "a:visited.sk-estimator-doc-link {\n",
       "  float: right;\n",
       "  font-size: smaller;\n",
       "  line-height: 1em;\n",
       "  font-family: monospace;\n",
       "  background-color: var(--sklearn-color-background);\n",
       "  border-radius: 1em;\n",
       "  height: 1em;\n",
       "  width: 1em;\n",
       "  text-decoration: none !important;\n",
       "  margin-left: 1ex;\n",
       "  /* unfitted */\n",
       "  border: var(--sklearn-color-unfitted-level-1) 1pt solid;\n",
       "  color: var(--sklearn-color-unfitted-level-1);\n",
       "}\n",
       "\n",
       ".sk-estimator-doc-link.fitted,\n",
       "a:link.sk-estimator-doc-link.fitted,\n",
       "a:visited.sk-estimator-doc-link.fitted {\n",
       "  /* fitted */\n",
       "  border: var(--sklearn-color-fitted-level-1) 1pt solid;\n",
       "  color: var(--sklearn-color-fitted-level-1);\n",
       "}\n",
       "\n",
       "/* On hover */\n",
       "div.sk-estimator:hover .sk-estimator-doc-link:hover,\n",
       ".sk-estimator-doc-link:hover,\n",
       "div.sk-label-container:hover .sk-estimator-doc-link:hover,\n",
       ".sk-estimator-doc-link:hover {\n",
       "  /* unfitted */\n",
       "  background-color: var(--sklearn-color-unfitted-level-3);\n",
       "  color: var(--sklearn-color-background);\n",
       "  text-decoration: none;\n",
       "}\n",
       "\n",
       "div.sk-estimator.fitted:hover .sk-estimator-doc-link.fitted:hover,\n",
       ".sk-estimator-doc-link.fitted:hover,\n",
       "div.sk-label-container:hover .sk-estimator-doc-link.fitted:hover,\n",
       ".sk-estimator-doc-link.fitted:hover {\n",
       "  /* fitted */\n",
       "  background-color: var(--sklearn-color-fitted-level-3);\n",
       "  color: var(--sklearn-color-background);\n",
       "  text-decoration: none;\n",
       "}\n",
       "\n",
       "/* Span, style for the box shown on hovering the info icon */\n",
       ".sk-estimator-doc-link span {\n",
       "  display: none;\n",
       "  z-index: 9999;\n",
       "  position: relative;\n",
       "  font-weight: normal;\n",
       "  right: .2ex;\n",
       "  padding: .5ex;\n",
       "  margin: .5ex;\n",
       "  width: min-content;\n",
       "  min-width: 20ex;\n",
       "  max-width: 50ex;\n",
       "  color: var(--sklearn-color-text);\n",
       "  box-shadow: 2pt 2pt 4pt #999;\n",
       "  /* unfitted */\n",
       "  background: var(--sklearn-color-unfitted-level-0);\n",
       "  border: .5pt solid var(--sklearn-color-unfitted-level-3);\n",
       "}\n",
       "\n",
       ".sk-estimator-doc-link.fitted span {\n",
       "  /* fitted */\n",
       "  background: var(--sklearn-color-fitted-level-0);\n",
       "  border: var(--sklearn-color-fitted-level-3);\n",
       "}\n",
       "\n",
       ".sk-estimator-doc-link:hover span {\n",
       "  display: block;\n",
       "}\n",
       "\n",
       "/* \"?\"-specific style due to the `<a>` HTML tag */\n",
       "\n",
<<<<<<< HEAD
       "#sk-container-id-3 a.estimator_doc_link {\n",
=======
       "#sk-container-id-9 a.estimator_doc_link {\n",
>>>>>>> 28f21dd (added time sign data and models)
       "  float: right;\n",
       "  font-size: 1rem;\n",
       "  line-height: 1em;\n",
       "  font-family: monospace;\n",
       "  background-color: var(--sklearn-color-background);\n",
       "  border-radius: 1rem;\n",
       "  height: 1rem;\n",
       "  width: 1rem;\n",
       "  text-decoration: none;\n",
       "  /* unfitted */\n",
       "  color: var(--sklearn-color-unfitted-level-1);\n",
       "  border: var(--sklearn-color-unfitted-level-1) 1pt solid;\n",
       "}\n",
       "\n",
<<<<<<< HEAD
       "#sk-container-id-3 a.estimator_doc_link.fitted {\n",
=======
       "#sk-container-id-9 a.estimator_doc_link.fitted {\n",
>>>>>>> 28f21dd (added time sign data and models)
       "  /* fitted */\n",
       "  border: var(--sklearn-color-fitted-level-1) 1pt solid;\n",
       "  color: var(--sklearn-color-fitted-level-1);\n",
       "}\n",
       "\n",
       "/* On hover */\n",
<<<<<<< HEAD
       "#sk-container-id-3 a.estimator_doc_link:hover {\n",
=======
       "#sk-container-id-9 a.estimator_doc_link:hover {\n",
>>>>>>> 28f21dd (added time sign data and models)
       "  /* unfitted */\n",
       "  background-color: var(--sklearn-color-unfitted-level-3);\n",
       "  color: var(--sklearn-color-background);\n",
       "  text-decoration: none;\n",
       "}\n",
       "\n",
<<<<<<< HEAD
       "#sk-container-id-3 a.estimator_doc_link.fitted:hover {\n",
       "  /* fitted */\n",
       "  background-color: var(--sklearn-color-fitted-level-3);\n",
       "}\n",
       "</style><div id=\"sk-container-id-3\" class=\"sk-top-container\"><div class=\"sk-text-repr-fallback\"><pre>Pipeline(steps=[(&#x27;standardscaler&#x27;, StandardScaler()),\n",
       "                (&#x27;randomforestclassifier&#x27;, RandomForestClassifier())])</pre><b>In a Jupyter environment, please rerun this cell to show the HTML representation or trust the notebook. <br />On GitHub, the HTML representation is unable to render, please try loading this page with nbviewer.org.</b></div><div class=\"sk-container\" hidden><div class=\"sk-item sk-dashed-wrapped\"><div class=\"sk-label-container\"><div class=\"sk-label fitted sk-toggleable\"><input class=\"sk-toggleable__control sk-hidden--visually\" id=\"sk-estimator-id-7\" type=\"checkbox\" ><label for=\"sk-estimator-id-7\" class=\"sk-toggleable__label fitted sk-toggleable__label-arrow fitted\">&nbsp;&nbsp;Pipeline<a class=\"sk-estimator-doc-link fitted\" rel=\"noreferrer\" target=\"_blank\" href=\"https://scikit-learn.org/1.4/modules/generated/sklearn.pipeline.Pipeline.html\">?<span>Documentation for Pipeline</span></a><span class=\"sk-estimator-doc-link fitted\">i<span>Fitted</span></span></label><div class=\"sk-toggleable__content fitted\"><pre>Pipeline(steps=[(&#x27;standardscaler&#x27;, StandardScaler()),\n",
       "                (&#x27;randomforestclassifier&#x27;, RandomForestClassifier())])</pre></div> </div></div><div class=\"sk-serial\"><div class=\"sk-item\"><div class=\"sk-estimator fitted sk-toggleable\"><input class=\"sk-toggleable__control sk-hidden--visually\" id=\"sk-estimator-id-8\" type=\"checkbox\" ><label for=\"sk-estimator-id-8\" class=\"sk-toggleable__label fitted sk-toggleable__label-arrow fitted\">&nbsp;StandardScaler<a class=\"sk-estimator-doc-link fitted\" rel=\"noreferrer\" target=\"_blank\" href=\"https://scikit-learn.org/1.4/modules/generated/sklearn.preprocessing.StandardScaler.html\">?<span>Documentation for StandardScaler</span></a></label><div class=\"sk-toggleable__content fitted\"><pre>StandardScaler()</pre></div> </div></div><div class=\"sk-item\"><div class=\"sk-estimator fitted sk-toggleable\"><input class=\"sk-toggleable__control sk-hidden--visually\" id=\"sk-estimator-id-9\" type=\"checkbox\" ><label for=\"sk-estimator-id-9\" class=\"sk-toggleable__label fitted sk-toggleable__label-arrow fitted\">&nbsp;RandomForestClassifier<a class=\"sk-estimator-doc-link fitted\" rel=\"noreferrer\" target=\"_blank\" href=\"https://scikit-learn.org/1.4/modules/generated/sklearn.ensemble.RandomForestClassifier.html\">?<span>Documentation for RandomForestClassifier</span></a></label><div class=\"sk-toggleable__content fitted\"><pre>RandomForestClassifier()</pre></div> </div></div></div></div></div></div>"
=======
       "#sk-container-id-9 a.estimator_doc_link.fitted:hover {\n",
       "  /* fitted */\n",
       "  background-color: var(--sklearn-color-fitted-level-3);\n",
       "}\n",
       "</style><div id=\"sk-container-id-9\" class=\"sk-top-container\"><div class=\"sk-text-repr-fallback\"><pre>Pipeline(steps=[(&#x27;standardscaler&#x27;, StandardScaler()),\n",
       "                (&#x27;randomforestclassifier&#x27;, RandomForestClassifier())])</pre><b>In a Jupyter environment, please rerun this cell to show the HTML representation or trust the notebook. <br />On GitHub, the HTML representation is unable to render, please try loading this page with nbviewer.org.</b></div><div class=\"sk-container\" hidden><div class=\"sk-item sk-dashed-wrapped\"><div class=\"sk-label-container\"><div class=\"sk-label fitted sk-toggleable\"><input class=\"sk-toggleable__control sk-hidden--visually\" id=\"sk-estimator-id-25\" type=\"checkbox\" ><label for=\"sk-estimator-id-25\" class=\"sk-toggleable__label fitted sk-toggleable__label-arrow fitted\">&nbsp;&nbsp;Pipeline<a class=\"sk-estimator-doc-link fitted\" rel=\"noreferrer\" target=\"_blank\" href=\"https://scikit-learn.org/1.4/modules/generated/sklearn.pipeline.Pipeline.html\">?<span>Documentation for Pipeline</span></a><span class=\"sk-estimator-doc-link fitted\">i<span>Fitted</span></span></label><div class=\"sk-toggleable__content fitted\"><pre>Pipeline(steps=[(&#x27;standardscaler&#x27;, StandardScaler()),\n",
       "                (&#x27;randomforestclassifier&#x27;, RandomForestClassifier())])</pre></div> </div></div><div class=\"sk-serial\"><div class=\"sk-item\"><div class=\"sk-estimator fitted sk-toggleable\"><input class=\"sk-toggleable__control sk-hidden--visually\" id=\"sk-estimator-id-26\" type=\"checkbox\" ><label for=\"sk-estimator-id-26\" class=\"sk-toggleable__label fitted sk-toggleable__label-arrow fitted\">&nbsp;StandardScaler<a class=\"sk-estimator-doc-link fitted\" rel=\"noreferrer\" target=\"_blank\" href=\"https://scikit-learn.org/1.4/modules/generated/sklearn.preprocessing.StandardScaler.html\">?<span>Documentation for StandardScaler</span></a></label><div class=\"sk-toggleable__content fitted\"><pre>StandardScaler()</pre></div> </div></div><div class=\"sk-item\"><div class=\"sk-estimator fitted sk-toggleable\"><input class=\"sk-toggleable__control sk-hidden--visually\" id=\"sk-estimator-id-27\" type=\"checkbox\" ><label for=\"sk-estimator-id-27\" class=\"sk-toggleable__label fitted sk-toggleable__label-arrow fitted\">&nbsp;RandomForestClassifier<a class=\"sk-estimator-doc-link fitted\" rel=\"noreferrer\" target=\"_blank\" href=\"https://scikit-learn.org/1.4/modules/generated/sklearn.ensemble.RandomForestClassifier.html\">?<span>Documentation for RandomForestClassifier</span></a></label><div class=\"sk-toggleable__content fitted\"><pre>RandomForestClassifier()</pre></div> </div></div></div></div></div></div>"
>>>>>>> 28f21dd (added time sign data and models)
      ],
      "text/plain": [
       "Pipeline(steps=[('standardscaler', StandardScaler()),\n",
       "                ('randomforestclassifier', RandomForestClassifier())])"
      ]
     },
<<<<<<< HEAD
     "metadata": {},
     "output_type": "display_data"
=======
     "execution_count": 164,
     "metadata": {},
     "output_type": "execute_result"
>>>>>>> 28f21dd (added time sign data and models)
    }
   ],
   "source": [
    "model"
   ]
  },
  {
   "cell_type": "code",
<<<<<<< HEAD
   "execution_count": 50,
   "metadata": {},
=======
   "execution_count": 166,
   "id": "1613683c-1217-4ffa-8168-646cee9ca4b0",
   "metadata": {
    "metadata": {}
   },
>>>>>>> 28f21dd (added time sign data and models)
   "outputs": [
    {
     "name": "stderr",
     "output_type": "stream",
     "text": [
<<<<<<< HEAD
      "/Library/Frameworks/Python.framework/Versions/3.10/lib/python3.10/site-packages/sklearn/base.py:493: UserWarning: X does not have valid feature names, but StandardScaler was fitted with feature names\n",
      "  warnings.warn(\n",
      "/Library/Frameworks/Python.framework/Versions/3.10/lib/python3.10/site-packages/sklearn/base.py:493: UserWarning: X does not have valid feature names, but StandardScaler was fitted with feature names\n",
=======
      "c:\\Users\\jpc\\AppData\\Local\\Programs\\Python\\Python310\\lib\\site-packages\\sklearn\\base.py:493: UserWarning: X does not have valid feature names, but StandardScaler was fitted with feature names\n",
      "  warnings.warn(\n",
      "c:\\Users\\jpc\\AppData\\Local\\Programs\\Python\\Python310\\lib\\site-packages\\sklearn\\base.py:493: UserWarning: X does not have valid feature names, but StandardScaler was fitted with feature names\n",
>>>>>>> 28f21dd (added time sign data and models)
      "  warnings.warn(\n"
     ]
    },
    {
     "name": "stdout",
     "output_type": "stream",
     "text": [
<<<<<<< HEAD
      "amor y paz [0.81 0.17 0.02]\n"
=======
      "anio [0.61 0.32 0.07]\n"
>>>>>>> 28f21dd (added time sign data and models)
     ]
    },
    {
     "name": "stderr",
     "output_type": "stream",
     "text": [
<<<<<<< HEAD
      "/Library/Frameworks/Python.framework/Versions/3.10/lib/python3.10/site-packages/sklearn/base.py:493: UserWarning: X does not have valid feature names, but StandardScaler was fitted with feature names\n",
      "  warnings.warn(\n",
      "/Library/Frameworks/Python.framework/Versions/3.10/lib/python3.10/site-packages/sklearn/base.py:493: UserWarning: X does not have valid feature names, but StandardScaler was fitted with feature names\n",
      "  warnings.warn(\n"
     ]
    },
    {
     "name": "stdout",
     "output_type": "stream",
     "text": [
      "amor y paz [0.82 0.15 0.03]\n"
     ]
    },
    {
     "name": "stderr",
     "output_type": "stream",
     "text": [
      "/Library/Frameworks/Python.framework/Versions/3.10/lib/python3.10/site-packages/sklearn/base.py:493: UserWarning: X does not have valid feature names, but StandardScaler was fitted with feature names\n",
      "  warnings.warn(\n",
      "/Library/Frameworks/Python.framework/Versions/3.10/lib/python3.10/site-packages/sklearn/base.py:493: UserWarning: X does not have valid feature names, but StandardScaler was fitted with feature names\n",
      "  warnings.warn(\n"
     ]
    },
    {
     "name": "stdout",
     "output_type": "stream",
     "text": [
      "amor y paz [0.81 0.15 0.04]\n"
     ]
    },
    {
     "name": "stderr",
     "output_type": "stream",
     "text": [
      "/Library/Frameworks/Python.framework/Versions/3.10/lib/python3.10/site-packages/sklearn/base.py:493: UserWarning: X does not have valid feature names, but StandardScaler was fitted with feature names\n",
      "  warnings.warn(\n",
      "/Library/Frameworks/Python.framework/Versions/3.10/lib/python3.10/site-packages/sklearn/base.py:493: UserWarning: X does not have valid feature names, but StandardScaler was fitted with feature names\n",
=======
      "c:\\Users\\jpc\\AppData\\Local\\Programs\\Python\\Python310\\lib\\site-packages\\sklearn\\base.py:493: UserWarning: X does not have valid feature names, but StandardScaler was fitted with feature names\n",
      "  warnings.warn(\n",
      "c:\\Users\\jpc\\AppData\\Local\\Programs\\Python\\Python310\\lib\\site-packages\\sklearn\\base.py:493: UserWarning: X does not have valid feature names, but StandardScaler was fitted with feature names\n",
      "  warnings.warn(\n",
      "c:\\Users\\jpc\\AppData\\Local\\Programs\\Python\\Python310\\lib\\site-packages\\sklearn\\base.py:493: UserWarning: X does not have valid feature names, but StandardScaler was fitted with feature names\n",
      "  warnings.warn(\n",
      "c:\\Users\\jpc\\AppData\\Local\\Programs\\Python\\Python310\\lib\\site-packages\\sklearn\\base.py:493: UserWarning: X does not have valid feature names, but StandardScaler was fitted with feature names\n",
>>>>>>> 28f21dd (added time sign data and models)
      "  warnings.warn(\n"
     ]
    },
    {
     "name": "stdout",
     "output_type": "stream",
     "text": [
<<<<<<< HEAD
      "amor y paz [0.83 0.14 0.03]\n"
=======
      "anio [0.6  0.32 0.08]\n",
      "anio [0.61 0.32 0.07]\n"
>>>>>>> 28f21dd (added time sign data and models)
     ]
    },
    {
     "name": "stderr",
     "output_type": "stream",
     "text": [
<<<<<<< HEAD
      "/Library/Frameworks/Python.framework/Versions/3.10/lib/python3.10/site-packages/sklearn/base.py:493: UserWarning: X does not have valid feature names, but StandardScaler was fitted with feature names\n",
      "  warnings.warn(\n",
      "/Library/Frameworks/Python.framework/Versions/3.10/lib/python3.10/site-packages/sklearn/base.py:493: UserWarning: X does not have valid feature names, but StandardScaler was fitted with feature names\n",
      "  warnings.warn(\n"
     ]
    },
    {
     "name": "stdout",
     "output_type": "stream",
     "text": [
      "amor y paz [0.82 0.14 0.04]\n"
     ]
    },
    {
     "name": "stderr",
     "output_type": "stream",
     "text": [
      "/Library/Frameworks/Python.framework/Versions/3.10/lib/python3.10/site-packages/sklearn/base.py:493: UserWarning: X does not have valid feature names, but StandardScaler was fitted with feature names\n",
      "  warnings.warn(\n",
      "/Library/Frameworks/Python.framework/Versions/3.10/lib/python3.10/site-packages/sklearn/base.py:493: UserWarning: X does not have valid feature names, but StandardScaler was fitted with feature names\n",
      "  warnings.warn(\n"
     ]
    },
    {
     "name": "stdout",
     "output_type": "stream",
     "text": [
      "amor y paz [0.83 0.14 0.03]\n"
     ]
    },
    {
     "name": "stderr",
     "output_type": "stream",
     "text": [
      "/Library/Frameworks/Python.framework/Versions/3.10/lib/python3.10/site-packages/sklearn/base.py:493: UserWarning: X does not have valid feature names, but StandardScaler was fitted with feature names\n",
      "  warnings.warn(\n",
      "/Library/Frameworks/Python.framework/Versions/3.10/lib/python3.10/site-packages/sklearn/base.py:493: UserWarning: X does not have valid feature names, but StandardScaler was fitted with feature names\n",
=======
      "c:\\Users\\jpc\\AppData\\Local\\Programs\\Python\\Python310\\lib\\site-packages\\sklearn\\base.py:493: UserWarning: X does not have valid feature names, but StandardScaler was fitted with feature names\n",
      "  warnings.warn(\n",
      "c:\\Users\\jpc\\AppData\\Local\\Programs\\Python\\Python310\\lib\\site-packages\\sklearn\\base.py:493: UserWarning: X does not have valid feature names, but StandardScaler was fitted with feature names\n",
      "  warnings.warn(\n",
      "c:\\Users\\jpc\\AppData\\Local\\Programs\\Python\\Python310\\lib\\site-packages\\sklearn\\base.py:493: UserWarning: X does not have valid feature names, but StandardScaler was fitted with feature names\n",
      "  warnings.warn(\n",
      "c:\\Users\\jpc\\AppData\\Local\\Programs\\Python\\Python310\\lib\\site-packages\\sklearn\\base.py:493: UserWarning: X does not have valid feature names, but StandardScaler was fitted with feature names\n",
>>>>>>> 28f21dd (added time sign data and models)
      "  warnings.warn(\n"
     ]
    },
    {
     "name": "stdout",
     "output_type": "stream",
     "text": [
<<<<<<< HEAD
      "amor y paz [0.74 0.21 0.05]\n"
=======
      "anio [0.58 0.32 0.1 ]\n",
      "anio [0.6  0.31 0.09]\n"
>>>>>>> 28f21dd (added time sign data and models)
     ]
    },
    {
     "name": "stderr",
     "output_type": "stream",
     "text": [
<<<<<<< HEAD
      "/Library/Frameworks/Python.framework/Versions/3.10/lib/python3.10/site-packages/sklearn/base.py:493: UserWarning: X does not have valid feature names, but StandardScaler was fitted with feature names\n",
      "  warnings.warn(\n",
      "/Library/Frameworks/Python.framework/Versions/3.10/lib/python3.10/site-packages/sklearn/base.py:493: UserWarning: X does not have valid feature names, but StandardScaler was fitted with feature names\n",
      "  warnings.warn(\n"
     ]
    },
    {
     "name": "stdout",
     "output_type": "stream",
     "text": [
      "amor y paz [0.72 0.21 0.07]\n"
     ]
    },
    {
     "name": "stderr",
     "output_type": "stream",
     "text": [
      "/Library/Frameworks/Python.framework/Versions/3.10/lib/python3.10/site-packages/sklearn/base.py:493: UserWarning: X does not have valid feature names, but StandardScaler was fitted with feature names\n",
      "  warnings.warn(\n",
      "/Library/Frameworks/Python.framework/Versions/3.10/lib/python3.10/site-packages/sklearn/base.py:493: UserWarning: X does not have valid feature names, but StandardScaler was fitted with feature names\n",
      "  warnings.warn(\n"
     ]
    },
    {
     "name": "stdout",
     "output_type": "stream",
     "text": [
      "amor y paz [0.71 0.22 0.07]\n"
     ]
    },
    {
     "name": "stderr",
     "output_type": "stream",
     "text": [
      "/Library/Frameworks/Python.framework/Versions/3.10/lib/python3.10/site-packages/sklearn/base.py:493: UserWarning: X does not have valid feature names, but StandardScaler was fitted with feature names\n",
      "  warnings.warn(\n",
      "/Library/Frameworks/Python.framework/Versions/3.10/lib/python3.10/site-packages/sklearn/base.py:493: UserWarning: X does not have valid feature names, but StandardScaler was fitted with feature names\n",
=======
      "c:\\Users\\jpc\\AppData\\Local\\Programs\\Python\\Python310\\lib\\site-packages\\sklearn\\base.py:493: UserWarning: X does not have valid feature names, but StandardScaler was fitted with feature names\n",
      "  warnings.warn(\n",
      "c:\\Users\\jpc\\AppData\\Local\\Programs\\Python\\Python310\\lib\\site-packages\\sklearn\\base.py:493: UserWarning: X does not have valid feature names, but StandardScaler was fitted with feature names\n",
      "  warnings.warn(\n",
      "c:\\Users\\jpc\\AppData\\Local\\Programs\\Python\\Python310\\lib\\site-packages\\sklearn\\base.py:493: UserWarning: X does not have valid feature names, but StandardScaler was fitted with feature names\n",
      "  warnings.warn(\n",
      "c:\\Users\\jpc\\AppData\\Local\\Programs\\Python\\Python310\\lib\\site-packages\\sklearn\\base.py:493: UserWarning: X does not have valid feature names, but StandardScaler was fitted with feature names\n",
>>>>>>> 28f21dd (added time sign data and models)
      "  warnings.warn(\n"
     ]
    },
    {
     "name": "stdout",
     "output_type": "stream",
     "text": [
<<<<<<< HEAD
      "amor y paz [0.72 0.21 0.07]\n"
=======
      "anio [0.61 0.28 0.11]\n",
      "anio [0.74 0.07 0.19]\n"
>>>>>>> 28f21dd (added time sign data and models)
     ]
    },
    {
     "name": "stderr",
     "output_type": "stream",
     "text": [
<<<<<<< HEAD
      "/Library/Frameworks/Python.framework/Versions/3.10/lib/python3.10/site-packages/sklearn/base.py:493: UserWarning: X does not have valid feature names, but StandardScaler was fitted with feature names\n",
      "  warnings.warn(\n",
      "/Library/Frameworks/Python.framework/Versions/3.10/lib/python3.10/site-packages/sklearn/base.py:493: UserWarning: X does not have valid feature names, but StandardScaler was fitted with feature names\n",
      "  warnings.warn(\n"
     ]
    },
    {
     "name": "stdout",
     "output_type": "stream",
     "text": [
      "amor y paz [0.73 0.21 0.06]\n"
     ]
    },
    {
     "name": "stderr",
     "output_type": "stream",
     "text": [
      "/Library/Frameworks/Python.framework/Versions/3.10/lib/python3.10/site-packages/sklearn/base.py:493: UserWarning: X does not have valid feature names, but StandardScaler was fitted with feature names\n",
      "  warnings.warn(\n",
      "/Library/Frameworks/Python.framework/Versions/3.10/lib/python3.10/site-packages/sklearn/base.py:493: UserWarning: X does not have valid feature names, but StandardScaler was fitted with feature names\n",
=======
      "c:\\Users\\jpc\\AppData\\Local\\Programs\\Python\\Python310\\lib\\site-packages\\sklearn\\base.py:493: UserWarning: X does not have valid feature names, but StandardScaler was fitted with feature names\n",
      "  warnings.warn(\n",
      "c:\\Users\\jpc\\AppData\\Local\\Programs\\Python\\Python310\\lib\\site-packages\\sklearn\\base.py:493: UserWarning: X does not have valid feature names, but StandardScaler was fitted with feature names\n",
      "  warnings.warn(\n",
      "c:\\Users\\jpc\\AppData\\Local\\Programs\\Python\\Python310\\lib\\site-packages\\sklearn\\base.py:493: UserWarning: X does not have valid feature names, but StandardScaler was fitted with feature names\n",
>>>>>>> 28f21dd (added time sign data and models)
      "  warnings.warn(\n"
     ]
    },
    {
     "name": "stdout",
     "output_type": "stream",
     "text": [
<<<<<<< HEAD
      "amor y paz [0.67 0.25 0.08]\n"
=======
      "anio [0.7  0.07 0.23]\n"
>>>>>>> 28f21dd (added time sign data and models)
     ]
    },
    {
     "name": "stderr",
     "output_type": "stream",
     "text": [
<<<<<<< HEAD
      "/Library/Frameworks/Python.framework/Versions/3.10/lib/python3.10/site-packages/sklearn/base.py:493: UserWarning: X does not have valid feature names, but StandardScaler was fitted with feature names\n",
      "  warnings.warn(\n",
      "/Library/Frameworks/Python.framework/Versions/3.10/lib/python3.10/site-packages/sklearn/base.py:493: UserWarning: X does not have valid feature names, but StandardScaler was fitted with feature names\n",
      "  warnings.warn(\n"
     ]
    },
    {
     "name": "stdout",
     "output_type": "stream",
     "text": [
      "amor y paz [0.67 0.25 0.08]\n"
     ]
    },
    {
     "name": "stderr",
     "output_type": "stream",
     "text": [
      "/Library/Frameworks/Python.framework/Versions/3.10/lib/python3.10/site-packages/sklearn/base.py:493: UserWarning: X does not have valid feature names, but StandardScaler was fitted with feature names\n",
      "  warnings.warn(\n",
      "/Library/Frameworks/Python.framework/Versions/3.10/lib/python3.10/site-packages/sklearn/base.py:493: UserWarning: X does not have valid feature names, but StandardScaler was fitted with feature names\n",
=======
      "c:\\Users\\jpc\\AppData\\Local\\Programs\\Python\\Python310\\lib\\site-packages\\sklearn\\base.py:493: UserWarning: X does not have valid feature names, but StandardScaler was fitted with feature names\n",
      "  warnings.warn(\n",
      "c:\\Users\\jpc\\AppData\\Local\\Programs\\Python\\Python310\\lib\\site-packages\\sklearn\\base.py:493: UserWarning: X does not have valid feature names, but StandardScaler was fitted with feature names\n",
      "  warnings.warn(\n",
      "c:\\Users\\jpc\\AppData\\Local\\Programs\\Python\\Python310\\lib\\site-packages\\sklearn\\base.py:493: UserWarning: X does not have valid feature names, but StandardScaler was fitted with feature names\n",
>>>>>>> 28f21dd (added time sign data and models)
      "  warnings.warn(\n"
     ]
    },
    {
     "name": "stdout",
     "output_type": "stream",
     "text": [
<<<<<<< HEAD
      "amor y paz [0.61 0.31 0.08]\n"
=======
      "anio [0.7  0.08 0.22]\n",
      "anio [0.65 0.14 0.21]\n"
>>>>>>> 28f21dd (added time sign data and models)
     ]
    },
    {
     "name": "stderr",
     "output_type": "stream",
     "text": [
<<<<<<< HEAD
      "/Library/Frameworks/Python.framework/Versions/3.10/lib/python3.10/site-packages/sklearn/base.py:493: UserWarning: X does not have valid feature names, but StandardScaler was fitted with feature names\n",
      "  warnings.warn(\n",
      "/Library/Frameworks/Python.framework/Versions/3.10/lib/python3.10/site-packages/sklearn/base.py:493: UserWarning: X does not have valid feature names, but StandardScaler was fitted with feature names\n",
      "  warnings.warn(\n"
     ]
    },
    {
     "name": "stdout",
     "output_type": "stream",
     "text": [
      "amor y paz [0.58 0.33 0.09]\n"
     ]
    },
    {
     "name": "stderr",
     "output_type": "stream",
     "text": [
      "/Library/Frameworks/Python.framework/Versions/3.10/lib/python3.10/site-packages/sklearn/base.py:493: UserWarning: X does not have valid feature names, but StandardScaler was fitted with feature names\n",
      "  warnings.warn(\n",
      "/Library/Frameworks/Python.framework/Versions/3.10/lib/python3.10/site-packages/sklearn/base.py:493: UserWarning: X does not have valid feature names, but StandardScaler was fitted with feature names\n",
      "  warnings.warn(\n"
     ]
    },
    {
     "name": "stdout",
     "output_type": "stream",
     "text": [
      "amor y paz [0.55 0.36 0.09]\n"
     ]
    },
    {
     "name": "stderr",
     "output_type": "stream",
     "text": [
      "/Library/Frameworks/Python.framework/Versions/3.10/lib/python3.10/site-packages/sklearn/base.py:493: UserWarning: X does not have valid feature names, but StandardScaler was fitted with feature names\n",
      "  warnings.warn(\n",
      "/Library/Frameworks/Python.framework/Versions/3.10/lib/python3.10/site-packages/sklearn/base.py:493: UserWarning: X does not have valid feature names, but StandardScaler was fitted with feature names\n",
=======
      "c:\\Users\\jpc\\AppData\\Local\\Programs\\Python\\Python310\\lib\\site-packages\\sklearn\\base.py:493: UserWarning: X does not have valid feature names, but StandardScaler was fitted with feature names\n",
      "  warnings.warn(\n",
      "c:\\Users\\jpc\\AppData\\Local\\Programs\\Python\\Python310\\lib\\site-packages\\sklearn\\base.py:493: UserWarning: X does not have valid feature names, but StandardScaler was fitted with feature names\n",
      "  warnings.warn(\n",
      "c:\\Users\\jpc\\AppData\\Local\\Programs\\Python\\Python310\\lib\\site-packages\\sklearn\\base.py:493: UserWarning: X does not have valid feature names, but StandardScaler was fitted with feature names\n",
      "  warnings.warn(\n",
      "c:\\Users\\jpc\\AppData\\Local\\Programs\\Python\\Python310\\lib\\site-packages\\sklearn\\base.py:493: UserWarning: X does not have valid feature names, but StandardScaler was fitted with feature names\n",
>>>>>>> 28f21dd (added time sign data and models)
      "  warnings.warn(\n"
     ]
    },
    {
     "name": "stdout",
     "output_type": "stream",
     "text": [
<<<<<<< HEAD
      "amor y paz [0.55 0.35 0.1 ]\n"
=======
      "anio [0.67 0.14 0.19]\n",
      "anio [0.68 0.11 0.21]\n"
>>>>>>> 28f21dd (added time sign data and models)
     ]
    },
    {
     "name": "stderr",
     "output_type": "stream",
     "text": [
<<<<<<< HEAD
      "/Library/Frameworks/Python.framework/Versions/3.10/lib/python3.10/site-packages/sklearn/base.py:493: UserWarning: X does not have valid feature names, but StandardScaler was fitted with feature names\n",
      "  warnings.warn(\n",
      "/Library/Frameworks/Python.framework/Versions/3.10/lib/python3.10/site-packages/sklearn/base.py:493: UserWarning: X does not have valid feature names, but StandardScaler was fitted with feature names\n",
      "  warnings.warn(\n"
     ]
    },
    {
     "name": "stdout",
     "output_type": "stream",
     "text": [
      "amor y paz [0.55 0.34 0.11]\n"
     ]
    },
    {
     "name": "stderr",
     "output_type": "stream",
     "text": [
      "/Library/Frameworks/Python.framework/Versions/3.10/lib/python3.10/site-packages/sklearn/base.py:493: UserWarning: X does not have valid feature names, but StandardScaler was fitted with feature names\n",
      "  warnings.warn(\n",
      "/Library/Frameworks/Python.framework/Versions/3.10/lib/python3.10/site-packages/sklearn/base.py:493: UserWarning: X does not have valid feature names, but StandardScaler was fitted with feature names\n",
=======
      "c:\\Users\\jpc\\AppData\\Local\\Programs\\Python\\Python310\\lib\\site-packages\\sklearn\\base.py:493: UserWarning: X does not have valid feature names, but StandardScaler was fitted with feature names\n",
      "  warnings.warn(\n",
      "c:\\Users\\jpc\\AppData\\Local\\Programs\\Python\\Python310\\lib\\site-packages\\sklearn\\base.py:493: UserWarning: X does not have valid feature names, but StandardScaler was fitted with feature names\n",
      "  warnings.warn(\n",
      "c:\\Users\\jpc\\AppData\\Local\\Programs\\Python\\Python310\\lib\\site-packages\\sklearn\\base.py:493: UserWarning: X does not have valid feature names, but StandardScaler was fitted with feature names\n",
      "  warnings.warn(\n",
      "c:\\Users\\jpc\\AppData\\Local\\Programs\\Python\\Python310\\lib\\site-packages\\sklearn\\base.py:493: UserWarning: X does not have valid feature names, but StandardScaler was fitted with feature names\n",
>>>>>>> 28f21dd (added time sign data and models)
      "  warnings.warn(\n"
     ]
    },
    {
     "name": "stdout",
     "output_type": "stream",
     "text": [
<<<<<<< HEAD
      "amor y paz [0.6 0.3 0.1]\n",
      "amor y paz [0.6  0.32 0.08]\n"
=======
      "anio [0.7  0.09 0.21]\n",
      "anio [0.73 0.08 0.19]\n"
>>>>>>> 28f21dd (added time sign data and models)
     ]
    },
    {
     "name": "stderr",
     "output_type": "stream",
     "text": [
<<<<<<< HEAD
      "/Library/Frameworks/Python.framework/Versions/3.10/lib/python3.10/site-packages/sklearn/base.py:493: UserWarning: X does not have valid feature names, but StandardScaler was fitted with feature names\n",
      "  warnings.warn(\n",
      "/Library/Frameworks/Python.framework/Versions/3.10/lib/python3.10/site-packages/sklearn/base.py:493: UserWarning: X does not have valid feature names, but StandardScaler was fitted with feature names\n",
      "  warnings.warn(\n",
      "/Library/Frameworks/Python.framework/Versions/3.10/lib/python3.10/site-packages/sklearn/base.py:493: UserWarning: X does not have valid feature names, but StandardScaler was fitted with feature names\n",
      "  warnings.warn(\n",
      "/Library/Frameworks/Python.framework/Versions/3.10/lib/python3.10/site-packages/sklearn/base.py:493: UserWarning: X does not have valid feature names, but StandardScaler was fitted with feature names\n",
=======
      "c:\\Users\\jpc\\AppData\\Local\\Programs\\Python\\Python310\\lib\\site-packages\\sklearn\\base.py:493: UserWarning: X does not have valid feature names, but StandardScaler was fitted with feature names\n",
      "  warnings.warn(\n",
      "c:\\Users\\jpc\\AppData\\Local\\Programs\\Python\\Python310\\lib\\site-packages\\sklearn\\base.py:493: UserWarning: X does not have valid feature names, but StandardScaler was fitted with feature names\n",
      "  warnings.warn(\n",
      "c:\\Users\\jpc\\AppData\\Local\\Programs\\Python\\Python310\\lib\\site-packages\\sklearn\\base.py:493: UserWarning: X does not have valid feature names, but StandardScaler was fitted with feature names\n",
      "  warnings.warn(\n",
      "c:\\Users\\jpc\\AppData\\Local\\Programs\\Python\\Python310\\lib\\site-packages\\sklearn\\base.py:493: UserWarning: X does not have valid feature names, but StandardScaler was fitted with feature names\n",
>>>>>>> 28f21dd (added time sign data and models)
      "  warnings.warn(\n"
     ]
    },
    {
     "name": "stdout",
     "output_type": "stream",
     "text": [
<<<<<<< HEAD
      "amor y paz [0.59 0.33 0.08]\n"
=======
      "anio [0.68 0.04 0.28]\n",
      "anio [0.7  0.03 0.27]\n"
>>>>>>> 28f21dd (added time sign data and models)
     ]
    },
    {
     "name": "stderr",
     "output_type": "stream",
     "text": [
<<<<<<< HEAD
      "/Library/Frameworks/Python.framework/Versions/3.10/lib/python3.10/site-packages/sklearn/base.py:493: UserWarning: X does not have valid feature names, but StandardScaler was fitted with feature names\n",
      "  warnings.warn(\n",
      "/Library/Frameworks/Python.framework/Versions/3.10/lib/python3.10/site-packages/sklearn/base.py:493: UserWarning: X does not have valid feature names, but StandardScaler was fitted with feature names\n",
      "  warnings.warn(\n"
     ]
    },
    {
     "name": "stdout",
     "output_type": "stream",
     "text": [
      "amor y paz [0.58 0.33 0.09]\n"
     ]
    },
    {
     "name": "stderr",
     "output_type": "stream",
     "text": [
      "/Library/Frameworks/Python.framework/Versions/3.10/lib/python3.10/site-packages/sklearn/base.py:493: UserWarning: X does not have valid feature names, but StandardScaler was fitted with feature names\n",
      "  warnings.warn(\n",
      "/Library/Frameworks/Python.framework/Versions/3.10/lib/python3.10/site-packages/sklearn/base.py:493: UserWarning: X does not have valid feature names, but StandardScaler was fitted with feature names\n",
=======
      "c:\\Users\\jpc\\AppData\\Local\\Programs\\Python\\Python310\\lib\\site-packages\\sklearn\\base.py:493: UserWarning: X does not have valid feature names, but StandardScaler was fitted with feature names\n",
      "  warnings.warn(\n",
      "c:\\Users\\jpc\\AppData\\Local\\Programs\\Python\\Python310\\lib\\site-packages\\sklearn\\base.py:493: UserWarning: X does not have valid feature names, but StandardScaler was fitted with feature names\n",
      "  warnings.warn(\n",
      "c:\\Users\\jpc\\AppData\\Local\\Programs\\Python\\Python310\\lib\\site-packages\\sklearn\\base.py:493: UserWarning: X does not have valid feature names, but StandardScaler was fitted with feature names\n",
>>>>>>> 28f21dd (added time sign data and models)
      "  warnings.warn(\n"
     ]
    },
    {
     "name": "stdout",
     "output_type": "stream",
     "text": [
<<<<<<< HEAD
      "amor y paz [0.61 0.3  0.09]\n"
=======
      "anio [0.68 0.01 0.31]\n"
>>>>>>> 28f21dd (added time sign data and models)
     ]
    },
    {
     "name": "stderr",
     "output_type": "stream",
     "text": [
<<<<<<< HEAD
      "/Library/Frameworks/Python.framework/Versions/3.10/lib/python3.10/site-packages/sklearn/base.py:493: UserWarning: X does not have valid feature names, but StandardScaler was fitted with feature names\n",
      "  warnings.warn(\n",
      "/Library/Frameworks/Python.framework/Versions/3.10/lib/python3.10/site-packages/sklearn/base.py:493: UserWarning: X does not have valid feature names, but StandardScaler was fitted with feature names\n",
      "  warnings.warn(\n"
     ]
    },
    {
     "name": "stdout",
     "output_type": "stream",
     "text": [
      "amor y paz [0.64 0.27 0.09]\n"
     ]
    },
    {
     "name": "stderr",
     "output_type": "stream",
     "text": [
      "/Library/Frameworks/Python.framework/Versions/3.10/lib/python3.10/site-packages/sklearn/base.py:493: UserWarning: X does not have valid feature names, but StandardScaler was fitted with feature names\n",
      "  warnings.warn(\n",
      "/Library/Frameworks/Python.framework/Versions/3.10/lib/python3.10/site-packages/sklearn/base.py:493: UserWarning: X does not have valid feature names, but StandardScaler was fitted with feature names\n",
=======
      "c:\\Users\\jpc\\AppData\\Local\\Programs\\Python\\Python310\\lib\\site-packages\\sklearn\\base.py:493: UserWarning: X does not have valid feature names, but StandardScaler was fitted with feature names\n",
      "  warnings.warn(\n",
      "c:\\Users\\jpc\\AppData\\Local\\Programs\\Python\\Python310\\lib\\site-packages\\sklearn\\base.py:493: UserWarning: X does not have valid feature names, but StandardScaler was fitted with feature names\n",
      "  warnings.warn(\n",
      "c:\\Users\\jpc\\AppData\\Local\\Programs\\Python\\Python310\\lib\\site-packages\\sklearn\\base.py:493: UserWarning: X does not have valid feature names, but StandardScaler was fitted with feature names\n",
>>>>>>> 28f21dd (added time sign data and models)
      "  warnings.warn(\n"
     ]
    },
    {
     "name": "stdout",
     "output_type": "stream",
     "text": [
<<<<<<< HEAD
      "amor y paz [0.61 0.29 0.1 ]\n"
=======
      "anio [0.69 0.   0.31]\n",
      "anio [0.69 0.03 0.28]\n"
>>>>>>> 28f21dd (added time sign data and models)
     ]
    },
    {
     "name": "stderr",
     "output_type": "stream",
     "text": [
<<<<<<< HEAD
      "/Library/Frameworks/Python.framework/Versions/3.10/lib/python3.10/site-packages/sklearn/base.py:493: UserWarning: X does not have valid feature names, but StandardScaler was fitted with feature names\n",
      "  warnings.warn(\n",
      "/Library/Frameworks/Python.framework/Versions/3.10/lib/python3.10/site-packages/sklearn/base.py:493: UserWarning: X does not have valid feature names, but StandardScaler was fitted with feature names\n",
      "  warnings.warn(\n"
     ]
    },
    {
     "name": "stdout",
     "output_type": "stream",
     "text": [
      "amor y paz [0.69 0.23 0.08]\n"
     ]
    },
    {
     "name": "stderr",
     "output_type": "stream",
     "text": [
      "/Library/Frameworks/Python.framework/Versions/3.10/lib/python3.10/site-packages/sklearn/base.py:493: UserWarning: X does not have valid feature names, but StandardScaler was fitted with feature names\n",
      "  warnings.warn(\n",
      "/Library/Frameworks/Python.framework/Versions/3.10/lib/python3.10/site-packages/sklearn/base.py:493: UserWarning: X does not have valid feature names, but StandardScaler was fitted with feature names\n",
      "  warnings.warn(\n"
     ]
    },
    {
     "name": "stdout",
     "output_type": "stream",
     "text": [
      "amor y paz [0.7  0.23 0.07]\n"
     ]
    },
    {
     "name": "stderr",
     "output_type": "stream",
     "text": [
      "/Library/Frameworks/Python.framework/Versions/3.10/lib/python3.10/site-packages/sklearn/base.py:493: UserWarning: X does not have valid feature names, but StandardScaler was fitted with feature names\n",
      "  warnings.warn(\n",
      "/Library/Frameworks/Python.framework/Versions/3.10/lib/python3.10/site-packages/sklearn/base.py:493: UserWarning: X does not have valid feature names, but StandardScaler was fitted with feature names\n",
=======
      "c:\\Users\\jpc\\AppData\\Local\\Programs\\Python\\Python310\\lib\\site-packages\\sklearn\\base.py:493: UserWarning: X does not have valid feature names, but StandardScaler was fitted with feature names\n",
      "  warnings.warn(\n",
      "c:\\Users\\jpc\\AppData\\Local\\Programs\\Python\\Python310\\lib\\site-packages\\sklearn\\base.py:493: UserWarning: X does not have valid feature names, but StandardScaler was fitted with feature names\n",
      "  warnings.warn(\n",
      "c:\\Users\\jpc\\AppData\\Local\\Programs\\Python\\Python310\\lib\\site-packages\\sklearn\\base.py:493: UserWarning: X does not have valid feature names, but StandardScaler was fitted with feature names\n",
      "  warnings.warn(\n",
      "c:\\Users\\jpc\\AppData\\Local\\Programs\\Python\\Python310\\lib\\site-packages\\sklearn\\base.py:493: UserWarning: X does not have valid feature names, but StandardScaler was fitted with feature names\n",
>>>>>>> 28f21dd (added time sign data and models)
      "  warnings.warn(\n"
     ]
    },
    {
     "name": "stdout",
     "output_type": "stream",
     "text": [
<<<<<<< HEAD
      "amor y paz [0.66 0.27 0.07]\n"
=======
      "anio [0.68 0.02 0.3 ]\n",
      "anio [0.7  0.04 0.26]\n"
>>>>>>> 28f21dd (added time sign data and models)
     ]
    },
    {
     "name": "stderr",
     "output_type": "stream",
     "text": [
<<<<<<< HEAD
      "/Library/Frameworks/Python.framework/Versions/3.10/lib/python3.10/site-packages/sklearn/base.py:493: UserWarning: X does not have valid feature names, but StandardScaler was fitted with feature names\n",
      "  warnings.warn(\n",
      "/Library/Frameworks/Python.framework/Versions/3.10/lib/python3.10/site-packages/sklearn/base.py:493: UserWarning: X does not have valid feature names, but StandardScaler was fitted with feature names\n",
      "  warnings.warn(\n"
     ]
    },
    {
     "name": "stdout",
     "output_type": "stream",
     "text": [
      "amor y paz [0.68 0.25 0.07]\n"
     ]
    },
    {
     "name": "stderr",
     "output_type": "stream",
     "text": [
      "/Library/Frameworks/Python.framework/Versions/3.10/lib/python3.10/site-packages/sklearn/base.py:493: UserWarning: X does not have valid feature names, but StandardScaler was fitted with feature names\n",
      "  warnings.warn(\n",
      "/Library/Frameworks/Python.framework/Versions/3.10/lib/python3.10/site-packages/sklearn/base.py:493: UserWarning: X does not have valid feature names, but StandardScaler was fitted with feature names\n",
=======
      "c:\\Users\\jpc\\AppData\\Local\\Programs\\Python\\Python310\\lib\\site-packages\\sklearn\\base.py:493: UserWarning: X does not have valid feature names, but StandardScaler was fitted with feature names\n",
      "  warnings.warn(\n",
      "c:\\Users\\jpc\\AppData\\Local\\Programs\\Python\\Python310\\lib\\site-packages\\sklearn\\base.py:493: UserWarning: X does not have valid feature names, but StandardScaler was fitted with feature names\n",
      "  warnings.warn(\n",
      "c:\\Users\\jpc\\AppData\\Local\\Programs\\Python\\Python310\\lib\\site-packages\\sklearn\\base.py:493: UserWarning: X does not have valid feature names, but StandardScaler was fitted with feature names\n",
      "  warnings.warn(\n",
      "c:\\Users\\jpc\\AppData\\Local\\Programs\\Python\\Python310\\lib\\site-packages\\sklearn\\base.py:493: UserWarning: X does not have valid feature names, but StandardScaler was fitted with feature names\n",
>>>>>>> 28f21dd (added time sign data and models)
      "  warnings.warn(\n"
     ]
    },
    {
     "name": "stdout",
     "output_type": "stream",
     "text": [
<<<<<<< HEAD
      "amor y paz [0.65 0.27 0.08]\n"
=======
      "anio [0.68 0.06 0.26]\n",
      "anio [0.7  0.04 0.26]\n",
      "anio [0.72 0.03 0.25]\n"
>>>>>>> 28f21dd (added time sign data and models)
     ]
    },
    {
     "name": "stderr",
     "output_type": "stream",
     "text": [
<<<<<<< HEAD
      "/Library/Frameworks/Python.framework/Versions/3.10/lib/python3.10/site-packages/sklearn/base.py:493: UserWarning: X does not have valid feature names, but StandardScaler was fitted with feature names\n",
      "  warnings.warn(\n",
      "/Library/Frameworks/Python.framework/Versions/3.10/lib/python3.10/site-packages/sklearn/base.py:493: UserWarning: X does not have valid feature names, but StandardScaler was fitted with feature names\n",
=======
      "c:\\Users\\jpc\\AppData\\Local\\Programs\\Python\\Python310\\lib\\site-packages\\sklearn\\base.py:493: UserWarning: X does not have valid feature names, but StandardScaler was fitted with feature names\n",
      "  warnings.warn(\n",
      "c:\\Users\\jpc\\AppData\\Local\\Programs\\Python\\Python310\\lib\\site-packages\\sklearn\\base.py:493: UserWarning: X does not have valid feature names, but StandardScaler was fitted with feature names\n",
      "  warnings.warn(\n",
      "c:\\Users\\jpc\\AppData\\Local\\Programs\\Python\\Python310\\lib\\site-packages\\sklearn\\base.py:493: UserWarning: X does not have valid feature names, but StandardScaler was fitted with feature names\n",
      "  warnings.warn(\n",
      "c:\\Users\\jpc\\AppData\\Local\\Programs\\Python\\Python310\\lib\\site-packages\\sklearn\\base.py:493: UserWarning: X does not have valid feature names, but StandardScaler was fitted with feature names\n",
>>>>>>> 28f21dd (added time sign data and models)
      "  warnings.warn(\n"
     ]
    },
    {
     "name": "stdout",
     "output_type": "stream",
     "text": [
<<<<<<< HEAD
      "amor y paz [0.64 0.28 0.08]\n"
=======
      "anio [0.69 0.05 0.26]\n",
      "anio [0.74 0.05 0.21]\n"
>>>>>>> 28f21dd (added time sign data and models)
     ]
    },
    {
     "name": "stderr",
     "output_type": "stream",
     "text": [
<<<<<<< HEAD
      "/Library/Frameworks/Python.framework/Versions/3.10/lib/python3.10/site-packages/sklearn/base.py:493: UserWarning: X does not have valid feature names, but StandardScaler was fitted with feature names\n",
      "  warnings.warn(\n",
      "/Library/Frameworks/Python.framework/Versions/3.10/lib/python3.10/site-packages/sklearn/base.py:493: UserWarning: X does not have valid feature names, but StandardScaler was fitted with feature names\n",
=======
      "c:\\Users\\jpc\\AppData\\Local\\Programs\\Python\\Python310\\lib\\site-packages\\sklearn\\base.py:493: UserWarning: X does not have valid feature names, but StandardScaler was fitted with feature names\n",
      "  warnings.warn(\n",
      "c:\\Users\\jpc\\AppData\\Local\\Programs\\Python\\Python310\\lib\\site-packages\\sklearn\\base.py:493: UserWarning: X does not have valid feature names, but StandardScaler was fitted with feature names\n",
      "  warnings.warn(\n",
      "c:\\Users\\jpc\\AppData\\Local\\Programs\\Python\\Python310\\lib\\site-packages\\sklearn\\base.py:493: UserWarning: X does not have valid feature names, but StandardScaler was fitted with feature names\n",
      "  warnings.warn(\n",
      "c:\\Users\\jpc\\AppData\\Local\\Programs\\Python\\Python310\\lib\\site-packages\\sklearn\\base.py:493: UserWarning: X does not have valid feature names, but StandardScaler was fitted with feature names\n",
>>>>>>> 28f21dd (added time sign data and models)
      "  warnings.warn(\n"
     ]
    },
    {
     "name": "stdout",
     "output_type": "stream",
     "text": [
<<<<<<< HEAD
      "amor y paz [0.64 0.28 0.08]\n"
=======
      "anio [0.76 0.04 0.2 ]\n"
>>>>>>> 28f21dd (added time sign data and models)
     ]
    },
    {
     "name": "stderr",
     "output_type": "stream",
     "text": [
<<<<<<< HEAD
      "/Library/Frameworks/Python.framework/Versions/3.10/lib/python3.10/site-packages/sklearn/base.py:493: UserWarning: X does not have valid feature names, but StandardScaler was fitted with feature names\n",
      "  warnings.warn(\n",
      "/Library/Frameworks/Python.framework/Versions/3.10/lib/python3.10/site-packages/sklearn/base.py:493: UserWarning: X does not have valid feature names, but StandardScaler was fitted with feature names\n",
=======
      "c:\\Users\\jpc\\AppData\\Local\\Programs\\Python\\Python310\\lib\\site-packages\\sklearn\\base.py:493: UserWarning: X does not have valid feature names, but StandardScaler was fitted with feature names\n",
      "  warnings.warn(\n",
      "c:\\Users\\jpc\\AppData\\Local\\Programs\\Python\\Python310\\lib\\site-packages\\sklearn\\base.py:493: UserWarning: X does not have valid feature names, but StandardScaler was fitted with feature names\n",
>>>>>>> 28f21dd (added time sign data and models)
      "  warnings.warn(\n"
     ]
    },
    {
     "name": "stdout",
     "output_type": "stream",
     "text": [
<<<<<<< HEAD
      "amor y paz [0.65 0.27 0.08]\n"
=======
      "anio [0.8  0.03 0.17]\n"
>>>>>>> 28f21dd (added time sign data and models)
     ]
    },
    {
     "name": "stderr",
     "output_type": "stream",
     "text": [
<<<<<<< HEAD
      "/Library/Frameworks/Python.framework/Versions/3.10/lib/python3.10/site-packages/sklearn/base.py:493: UserWarning: X does not have valid feature names, but StandardScaler was fitted with feature names\n",
      "  warnings.warn(\n",
      "/Library/Frameworks/Python.framework/Versions/3.10/lib/python3.10/site-packages/sklearn/base.py:493: UserWarning: X does not have valid feature names, but StandardScaler was fitted with feature names\n",
=======
      "c:\\Users\\jpc\\AppData\\Local\\Programs\\Python\\Python310\\lib\\site-packages\\sklearn\\base.py:493: UserWarning: X does not have valid feature names, but StandardScaler was fitted with feature names\n",
      "  warnings.warn(\n",
      "c:\\Users\\jpc\\AppData\\Local\\Programs\\Python\\Python310\\lib\\site-packages\\sklearn\\base.py:493: UserWarning: X does not have valid feature names, but StandardScaler was fitted with feature names\n",
      "  warnings.warn(\n",
      "c:\\Users\\jpc\\AppData\\Local\\Programs\\Python\\Python310\\lib\\site-packages\\sklearn\\base.py:493: UserWarning: X does not have valid feature names, but StandardScaler was fitted with feature names\n",
      "  warnings.warn(\n",
      "c:\\Users\\jpc\\AppData\\Local\\Programs\\Python\\Python310\\lib\\site-packages\\sklearn\\base.py:493: UserWarning: X does not have valid feature names, but StandardScaler was fitted with feature names\n",
>>>>>>> 28f21dd (added time sign data and models)
      "  warnings.warn(\n"
     ]
    },
    {
     "name": "stdout",
     "output_type": "stream",
     "text": [
<<<<<<< HEAD
      "amor y paz [0.64 0.29 0.07]\n"
=======
      "anio [0.76 0.02 0.22]\n",
      "anio [0.77 0.02 0.21]\n",
      "anio [0.76 0.02 0.22]\n"
>>>>>>> 28f21dd (added time sign data and models)
     ]
    },
    {
     "name": "stderr",
     "output_type": "stream",
     "text": [
<<<<<<< HEAD
      "/Library/Frameworks/Python.framework/Versions/3.10/lib/python3.10/site-packages/sklearn/base.py:493: UserWarning: X does not have valid feature names, but StandardScaler was fitted with feature names\n",
      "  warnings.warn(\n",
      "/Library/Frameworks/Python.framework/Versions/3.10/lib/python3.10/site-packages/sklearn/base.py:493: UserWarning: X does not have valid feature names, but StandardScaler was fitted with feature names\n",
=======
      "c:\\Users\\jpc\\AppData\\Local\\Programs\\Python\\Python310\\lib\\site-packages\\sklearn\\base.py:493: UserWarning: X does not have valid feature names, but StandardScaler was fitted with feature names\n",
      "  warnings.warn(\n",
      "c:\\Users\\jpc\\AppData\\Local\\Programs\\Python\\Python310\\lib\\site-packages\\sklearn\\base.py:493: UserWarning: X does not have valid feature names, but StandardScaler was fitted with feature names\n",
      "  warnings.warn(\n",
      "c:\\Users\\jpc\\AppData\\Local\\Programs\\Python\\Python310\\lib\\site-packages\\sklearn\\base.py:493: UserWarning: X does not have valid feature names, but StandardScaler was fitted with feature names\n",
      "  warnings.warn(\n",
      "c:\\Users\\jpc\\AppData\\Local\\Programs\\Python\\Python310\\lib\\site-packages\\sklearn\\base.py:493: UserWarning: X does not have valid feature names, but StandardScaler was fitted with feature names\n",
>>>>>>> 28f21dd (added time sign data and models)
      "  warnings.warn(\n"
     ]
    },
    {
     "name": "stdout",
     "output_type": "stream",
     "text": [
<<<<<<< HEAD
      "amor y paz [0.65 0.28 0.07]\n"
=======
      "anio [0.77 0.01 0.22]\n",
      "anio [0.77 0.01 0.22]\n"
>>>>>>> 28f21dd (added time sign data and models)
     ]
    },
    {
     "name": "stderr",
     "output_type": "stream",
     "text": [
<<<<<<< HEAD
      "/Library/Frameworks/Python.framework/Versions/3.10/lib/python3.10/site-packages/sklearn/base.py:493: UserWarning: X does not have valid feature names, but StandardScaler was fitted with feature names\n",
      "  warnings.warn(\n",
      "/Library/Frameworks/Python.framework/Versions/3.10/lib/python3.10/site-packages/sklearn/base.py:493: UserWarning: X does not have valid feature names, but StandardScaler was fitted with feature names\n",
=======
      "c:\\Users\\jpc\\AppData\\Local\\Programs\\Python\\Python310\\lib\\site-packages\\sklearn\\base.py:493: UserWarning: X does not have valid feature names, but StandardScaler was fitted with feature names\n",
      "  warnings.warn(\n",
      "c:\\Users\\jpc\\AppData\\Local\\Programs\\Python\\Python310\\lib\\site-packages\\sklearn\\base.py:493: UserWarning: X does not have valid feature names, but StandardScaler was fitted with feature names\n",
      "  warnings.warn(\n",
      "c:\\Users\\jpc\\AppData\\Local\\Programs\\Python\\Python310\\lib\\site-packages\\sklearn\\base.py:493: UserWarning: X does not have valid feature names, but StandardScaler was fitted with feature names\n",
      "  warnings.warn(\n",
      "c:\\Users\\jpc\\AppData\\Local\\Programs\\Python\\Python310\\lib\\site-packages\\sklearn\\base.py:493: UserWarning: X does not have valid feature names, but StandardScaler was fitted with feature names\n",
>>>>>>> 28f21dd (added time sign data and models)
      "  warnings.warn(\n"
     ]
    },
    {
     "name": "stdout",
     "output_type": "stream",
     "text": [
<<<<<<< HEAD
      "amor y paz [0.66 0.26 0.08]\n"
=======
      "anio [0.76 0.01 0.23]\n"
>>>>>>> 28f21dd (added time sign data and models)
     ]
    },
    {
     "name": "stderr",
     "output_type": "stream",
     "text": [
<<<<<<< HEAD
      "/Library/Frameworks/Python.framework/Versions/3.10/lib/python3.10/site-packages/sklearn/base.py:493: UserWarning: X does not have valid feature names, but StandardScaler was fitted with feature names\n",
      "  warnings.warn(\n",
      "/Library/Frameworks/Python.framework/Versions/3.10/lib/python3.10/site-packages/sklearn/base.py:493: UserWarning: X does not have valid feature names, but StandardScaler was fitted with feature names\n",
      "  warnings.warn(\n",
      "/Library/Frameworks/Python.framework/Versions/3.10/lib/python3.10/site-packages/sklearn/base.py:493: UserWarning: X does not have valid feature names, but StandardScaler was fitted with feature names\n",
=======
      "c:\\Users\\jpc\\AppData\\Local\\Programs\\Python\\Python310\\lib\\site-packages\\sklearn\\base.py:493: UserWarning: X does not have valid feature names, but StandardScaler was fitted with feature names\n",
      "  warnings.warn(\n",
      "c:\\Users\\jpc\\AppData\\Local\\Programs\\Python\\Python310\\lib\\site-packages\\sklearn\\base.py:493: UserWarning: X does not have valid feature names, but StandardScaler was fitted with feature names\n",
      "  warnings.warn(\n",
      "c:\\Users\\jpc\\AppData\\Local\\Programs\\Python\\Python310\\lib\\site-packages\\sklearn\\base.py:493: UserWarning: X does not have valid feature names, but StandardScaler was fitted with feature names\n",
      "  warnings.warn(\n",
      "c:\\Users\\jpc\\AppData\\Local\\Programs\\Python\\Python310\\lib\\site-packages\\sklearn\\base.py:493: UserWarning: X does not have valid feature names, but StandardScaler was fitted with feature names\n",
>>>>>>> 28f21dd (added time sign data and models)
      "  warnings.warn(\n"
     ]
    },
    {
     "name": "stdout",
     "output_type": "stream",
     "text": [
<<<<<<< HEAD
      "amor y paz [0.67 0.26 0.07]\n",
      "amor y paz [0.69 0.24 0.07]\n"
=======
      "anio [0.8  0.01 0.19]\n",
      "anio [0.77 0.03 0.2 ]\n"
>>>>>>> 28f21dd (added time sign data and models)
     ]
    },
    {
     "name": "stderr",
     "output_type": "stream",
     "text": [
<<<<<<< HEAD
      "/Library/Frameworks/Python.framework/Versions/3.10/lib/python3.10/site-packages/sklearn/base.py:493: UserWarning: X does not have valid feature names, but StandardScaler was fitted with feature names\n",
      "  warnings.warn(\n",
      "/Library/Frameworks/Python.framework/Versions/3.10/lib/python3.10/site-packages/sklearn/base.py:493: UserWarning: X does not have valid feature names, but StandardScaler was fitted with feature names\n",
      "  warnings.warn(\n",
      "/Library/Frameworks/Python.framework/Versions/3.10/lib/python3.10/site-packages/sklearn/base.py:493: UserWarning: X does not have valid feature names, but StandardScaler was fitted with feature names\n",
=======
      "c:\\Users\\jpc\\AppData\\Local\\Programs\\Python\\Python310\\lib\\site-packages\\sklearn\\base.py:493: UserWarning: X does not have valid feature names, but StandardScaler was fitted with feature names\n",
      "  warnings.warn(\n",
      "c:\\Users\\jpc\\AppData\\Local\\Programs\\Python\\Python310\\lib\\site-packages\\sklearn\\base.py:493: UserWarning: X does not have valid feature names, but StandardScaler was fitted with feature names\n",
      "  warnings.warn(\n",
      "c:\\Users\\jpc\\AppData\\Local\\Programs\\Python\\Python310\\lib\\site-packages\\sklearn\\base.py:493: UserWarning: X does not have valid feature names, but StandardScaler was fitted with feature names\n",
      "  warnings.warn(\n",
      "c:\\Users\\jpc\\AppData\\Local\\Programs\\Python\\Python310\\lib\\site-packages\\sklearn\\base.py:493: UserWarning: X does not have valid feature names, but StandardScaler was fitted with feature names\n",
>>>>>>> 28f21dd (added time sign data and models)
      "  warnings.warn(\n"
     ]
    },
    {
     "name": "stdout",
     "output_type": "stream",
     "text": [
<<<<<<< HEAD
      "amor y paz [0.63 0.29 0.08]\n"
=======
      "anio [0.75 0.03 0.22]\n",
      "anio [0.77 0.03 0.2 ]\n"
>>>>>>> 28f21dd (added time sign data and models)
     ]
    },
    {
     "name": "stderr",
     "output_type": "stream",
     "text": [
<<<<<<< HEAD
      "/Library/Frameworks/Python.framework/Versions/3.10/lib/python3.10/site-packages/sklearn/base.py:493: UserWarning: X does not have valid feature names, but StandardScaler was fitted with feature names\n",
      "  warnings.warn(\n",
      "/Library/Frameworks/Python.framework/Versions/3.10/lib/python3.10/site-packages/sklearn/base.py:493: UserWarning: X does not have valid feature names, but StandardScaler was fitted with feature names\n",
=======
      "c:\\Users\\jpc\\AppData\\Local\\Programs\\Python\\Python310\\lib\\site-packages\\sklearn\\base.py:493: UserWarning: X does not have valid feature names, but StandardScaler was fitted with feature names\n",
      "  warnings.warn(\n",
      "c:\\Users\\jpc\\AppData\\Local\\Programs\\Python\\Python310\\lib\\site-packages\\sklearn\\base.py:493: UserWarning: X does not have valid feature names, but StandardScaler was fitted with feature names\n",
      "  warnings.warn(\n",
      "c:\\Users\\jpc\\AppData\\Local\\Programs\\Python\\Python310\\lib\\site-packages\\sklearn\\base.py:493: UserWarning: X does not have valid feature names, but StandardScaler was fitted with feature names\n",
      "  warnings.warn(\n",
      "c:\\Users\\jpc\\AppData\\Local\\Programs\\Python\\Python310\\lib\\site-packages\\sklearn\\base.py:493: UserWarning: X does not have valid feature names, but StandardScaler was fitted with feature names\n",
>>>>>>> 28f21dd (added time sign data and models)
      "  warnings.warn(\n"
     ]
    },
    {
     "name": "stdout",
     "output_type": "stream",
     "text": [
<<<<<<< HEAD
      "amor y paz [0.64 0.28 0.08]\n"
=======
      "anio [0.75 0.04 0.21]\n",
      "anio [0.77 0.02 0.21]\n"
>>>>>>> 28f21dd (added time sign data and models)
     ]
    },
    {
     "name": "stderr",
     "output_type": "stream",
     "text": [
<<<<<<< HEAD
      "/Library/Frameworks/Python.framework/Versions/3.10/lib/python3.10/site-packages/sklearn/base.py:493: UserWarning: X does not have valid feature names, but StandardScaler was fitted with feature names\n",
      "  warnings.warn(\n",
      "/Library/Frameworks/Python.framework/Versions/3.10/lib/python3.10/site-packages/sklearn/base.py:493: UserWarning: X does not have valid feature names, but StandardScaler was fitted with feature names\n",
=======
      "c:\\Users\\jpc\\AppData\\Local\\Programs\\Python\\Python310\\lib\\site-packages\\sklearn\\base.py:493: UserWarning: X does not have valid feature names, but StandardScaler was fitted with feature names\n",
      "  warnings.warn(\n",
      "c:\\Users\\jpc\\AppData\\Local\\Programs\\Python\\Python310\\lib\\site-packages\\sklearn\\base.py:493: UserWarning: X does not have valid feature names, but StandardScaler was fitted with feature names\n",
      "  warnings.warn(\n",
      "c:\\Users\\jpc\\AppData\\Local\\Programs\\Python\\Python310\\lib\\site-packages\\sklearn\\base.py:493: UserWarning: X does not have valid feature names, but StandardScaler was fitted with feature names\n",
      "  warnings.warn(\n",
      "c:\\Users\\jpc\\AppData\\Local\\Programs\\Python\\Python310\\lib\\site-packages\\sklearn\\base.py:493: UserWarning: X does not have valid feature names, but StandardScaler was fitted with feature names\n",
>>>>>>> 28f21dd (added time sign data and models)
      "  warnings.warn(\n"
     ]
    },
    {
     "name": "stdout",
     "output_type": "stream",
     "text": [
<<<<<<< HEAD
      "amor y paz [0.62 0.3  0.08]\n"
=======
      "anio [0.76 0.04 0.2 ]\n",
      "anio [0.73 0.04 0.23]\n"
>>>>>>> 28f21dd (added time sign data and models)
     ]
    },
    {
     "name": "stderr",
     "output_type": "stream",
     "text": [
<<<<<<< HEAD
      "/Library/Frameworks/Python.framework/Versions/3.10/lib/python3.10/site-packages/sklearn/base.py:493: UserWarning: X does not have valid feature names, but StandardScaler was fitted with feature names\n",
      "  warnings.warn(\n",
      "/Library/Frameworks/Python.framework/Versions/3.10/lib/python3.10/site-packages/sklearn/base.py:493: UserWarning: X does not have valid feature names, but StandardScaler was fitted with feature names\n",
=======
      "c:\\Users\\jpc\\AppData\\Local\\Programs\\Python\\Python310\\lib\\site-packages\\sklearn\\base.py:493: UserWarning: X does not have valid feature names, but StandardScaler was fitted with feature names\n",
      "  warnings.warn(\n",
      "c:\\Users\\jpc\\AppData\\Local\\Programs\\Python\\Python310\\lib\\site-packages\\sklearn\\base.py:493: UserWarning: X does not have valid feature names, but StandardScaler was fitted with feature names\n",
>>>>>>> 28f21dd (added time sign data and models)
      "  warnings.warn(\n"
     ]
    },
    {
     "name": "stdout",
     "output_type": "stream",
     "text": [
<<<<<<< HEAD
      "amor y paz [0.64 0.28 0.08]\n"
=======
      "anio [0.74 0.05 0.21]\n",
      "anio [0.74 0.06 0.2 ]\n"
>>>>>>> 28f21dd (added time sign data and models)
     ]
    },
    {
     "name": "stderr",
     "output_type": "stream",
     "text": [
<<<<<<< HEAD
      "/Library/Frameworks/Python.framework/Versions/3.10/lib/python3.10/site-packages/sklearn/base.py:493: UserWarning: X does not have valid feature names, but StandardScaler was fitted with feature names\n",
      "  warnings.warn(\n",
      "/Library/Frameworks/Python.framework/Versions/3.10/lib/python3.10/site-packages/sklearn/base.py:493: UserWarning: X does not have valid feature names, but StandardScaler was fitted with feature names\n",
=======
      "c:\\Users\\jpc\\AppData\\Local\\Programs\\Python\\Python310\\lib\\site-packages\\sklearn\\base.py:493: UserWarning: X does not have valid feature names, but StandardScaler was fitted with feature names\n",
      "  warnings.warn(\n",
      "c:\\Users\\jpc\\AppData\\Local\\Programs\\Python\\Python310\\lib\\site-packages\\sklearn\\base.py:493: UserWarning: X does not have valid feature names, but StandardScaler was fitted with feature names\n",
      "  warnings.warn(\n",
      "c:\\Users\\jpc\\AppData\\Local\\Programs\\Python\\Python310\\lib\\site-packages\\sklearn\\base.py:493: UserWarning: X does not have valid feature names, but StandardScaler was fitted with feature names\n",
      "  warnings.warn(\n",
      "c:\\Users\\jpc\\AppData\\Local\\Programs\\Python\\Python310\\lib\\site-packages\\sklearn\\base.py:493: UserWarning: X does not have valid feature names, but StandardScaler was fitted with feature names\n",
>>>>>>> 28f21dd (added time sign data and models)
      "  warnings.warn(\n"
     ]
    },
    {
     "name": "stdout",
     "output_type": "stream",
     "text": [
<<<<<<< HEAD
      "amor y paz [0.65 0.27 0.08]\n"
=======
      "anio [0.75 0.06 0.19]\n"
>>>>>>> 28f21dd (added time sign data and models)
     ]
    },
    {
     "name": "stderr",
     "output_type": "stream",
     "text": [
<<<<<<< HEAD
      "/Library/Frameworks/Python.framework/Versions/3.10/lib/python3.10/site-packages/sklearn/base.py:493: UserWarning: X does not have valid feature names, but StandardScaler was fitted with feature names\n",
      "  warnings.warn(\n",
      "/Library/Frameworks/Python.framework/Versions/3.10/lib/python3.10/site-packages/sklearn/base.py:493: UserWarning: X does not have valid feature names, but StandardScaler was fitted with feature names\n",
=======
      "c:\\Users\\jpc\\AppData\\Local\\Programs\\Python\\Python310\\lib\\site-packages\\sklearn\\base.py:493: UserWarning: X does not have valid feature names, but StandardScaler was fitted with feature names\n",
      "  warnings.warn(\n",
      "c:\\Users\\jpc\\AppData\\Local\\Programs\\Python\\Python310\\lib\\site-packages\\sklearn\\base.py:493: UserWarning: X does not have valid feature names, but StandardScaler was fitted with feature names\n",
>>>>>>> 28f21dd (added time sign data and models)
      "  warnings.warn(\n"
     ]
    },
    {
     "name": "stdout",
     "output_type": "stream",
     "text": [
<<<<<<< HEAD
      "amor y paz [0.62 0.29 0.09]\n"
=======
      "anio [0.75 0.07 0.18]\n",
      "anio [0.72 0.06 0.22]\n"
>>>>>>> 28f21dd (added time sign data and models)
     ]
    },
    {
     "name": "stderr",
     "output_type": "stream",
     "text": [
<<<<<<< HEAD
      "/Library/Frameworks/Python.framework/Versions/3.10/lib/python3.10/site-packages/sklearn/base.py:493: UserWarning: X does not have valid feature names, but StandardScaler was fitted with feature names\n",
      "  warnings.warn(\n",
      "/Library/Frameworks/Python.framework/Versions/3.10/lib/python3.10/site-packages/sklearn/base.py:493: UserWarning: X does not have valid feature names, but StandardScaler was fitted with feature names\n",
=======
      "c:\\Users\\jpc\\AppData\\Local\\Programs\\Python\\Python310\\lib\\site-packages\\sklearn\\base.py:493: UserWarning: X does not have valid feature names, but StandardScaler was fitted with feature names\n",
      "  warnings.warn(\n",
      "c:\\Users\\jpc\\AppData\\Local\\Programs\\Python\\Python310\\lib\\site-packages\\sklearn\\base.py:493: UserWarning: X does not have valid feature names, but StandardScaler was fitted with feature names\n",
      "  warnings.warn(\n",
      "c:\\Users\\jpc\\AppData\\Local\\Programs\\Python\\Python310\\lib\\site-packages\\sklearn\\base.py:493: UserWarning: X does not have valid feature names, but StandardScaler was fitted with feature names\n",
      "  warnings.warn(\n",
      "c:\\Users\\jpc\\AppData\\Local\\Programs\\Python\\Python310\\lib\\site-packages\\sklearn\\base.py:493: UserWarning: X does not have valid feature names, but StandardScaler was fitted with feature names\n",
>>>>>>> 28f21dd (added time sign data and models)
      "  warnings.warn(\n"
     ]
    },
    {
     "name": "stdout",
     "output_type": "stream",
     "text": [
<<<<<<< HEAD
      "amor y paz [0.6 0.3 0.1]\n"
=======
      "anio [0.71 0.08 0.21]\n",
      "anio [0.7  0.07 0.23]\n"
>>>>>>> 28f21dd (added time sign data and models)
     ]
    },
    {
     "name": "stderr",
     "output_type": "stream",
     "text": [
<<<<<<< HEAD
      "/Library/Frameworks/Python.framework/Versions/3.10/lib/python3.10/site-packages/sklearn/base.py:493: UserWarning: X does not have valid feature names, but StandardScaler was fitted with feature names\n",
      "  warnings.warn(\n",
      "/Library/Frameworks/Python.framework/Versions/3.10/lib/python3.10/site-packages/sklearn/base.py:493: UserWarning: X does not have valid feature names, but StandardScaler was fitted with feature names\n",
=======
      "c:\\Users\\jpc\\AppData\\Local\\Programs\\Python\\Python310\\lib\\site-packages\\sklearn\\base.py:493: UserWarning: X does not have valid feature names, but StandardScaler was fitted with feature names\n",
      "  warnings.warn(\n",
      "c:\\Users\\jpc\\AppData\\Local\\Programs\\Python\\Python310\\lib\\site-packages\\sklearn\\base.py:493: UserWarning: X does not have valid feature names, but StandardScaler was fitted with feature names\n",
      "  warnings.warn(\n",
      "c:\\Users\\jpc\\AppData\\Local\\Programs\\Python\\Python310\\lib\\site-packages\\sklearn\\base.py:493: UserWarning: X does not have valid feature names, but StandardScaler was fitted with feature names\n",
      "  warnings.warn(\n",
      "c:\\Users\\jpc\\AppData\\Local\\Programs\\Python\\Python310\\lib\\site-packages\\sklearn\\base.py:493: UserWarning: X does not have valid feature names, but StandardScaler was fitted with feature names\n",
>>>>>>> 28f21dd (added time sign data and models)
      "  warnings.warn(\n"
     ]
    },
    {
     "name": "stdout",
     "output_type": "stream",
     "text": [
<<<<<<< HEAD
      "amor y paz [0.62 0.27 0.11]\n"
=======
      "anio [0.71 0.07 0.22]\n",
      "anio [0.67 0.07 0.26]\n"
>>>>>>> 28f21dd (added time sign data and models)
     ]
    },
    {
     "name": "stderr",
     "output_type": "stream",
     "text": [
<<<<<<< HEAD
      "/Library/Frameworks/Python.framework/Versions/3.10/lib/python3.10/site-packages/sklearn/base.py:493: UserWarning: X does not have valid feature names, but StandardScaler was fitted with feature names\n",
      "  warnings.warn(\n",
      "/Library/Frameworks/Python.framework/Versions/3.10/lib/python3.10/site-packages/sklearn/base.py:493: UserWarning: X does not have valid feature names, but StandardScaler was fitted with feature names\n",
=======
      "c:\\Users\\jpc\\AppData\\Local\\Programs\\Python\\Python310\\lib\\site-packages\\sklearn\\base.py:493: UserWarning: X does not have valid feature names, but StandardScaler was fitted with feature names\n",
      "  warnings.warn(\n",
      "c:\\Users\\jpc\\AppData\\Local\\Programs\\Python\\Python310\\lib\\site-packages\\sklearn\\base.py:493: UserWarning: X does not have valid feature names, but StandardScaler was fitted with feature names\n",
      "  warnings.warn(\n",
      "c:\\Users\\jpc\\AppData\\Local\\Programs\\Python\\Python310\\lib\\site-packages\\sklearn\\base.py:493: UserWarning: X does not have valid feature names, but StandardScaler was fitted with feature names\n",
      "  warnings.warn(\n",
      "c:\\Users\\jpc\\AppData\\Local\\Programs\\Python\\Python310\\lib\\site-packages\\sklearn\\base.py:493: UserWarning: X does not have valid feature names, but StandardScaler was fitted with feature names\n",
>>>>>>> 28f21dd (added time sign data and models)
      "  warnings.warn(\n"
     ]
    },
    {
     "name": "stdout",
     "output_type": "stream",
     "text": [
<<<<<<< HEAD
      "amor y paz [0.64 0.28 0.08]\n"
=======
      "anio [0.72 0.09 0.19]\n"
>>>>>>> 28f21dd (added time sign data and models)
     ]
    },
    {
     "name": "stderr",
     "output_type": "stream",
     "text": [
<<<<<<< HEAD
      "/Library/Frameworks/Python.framework/Versions/3.10/lib/python3.10/site-packages/sklearn/base.py:493: UserWarning: X does not have valid feature names, but StandardScaler was fitted with feature names\n",
      "  warnings.warn(\n",
      "/Library/Frameworks/Python.framework/Versions/3.10/lib/python3.10/site-packages/sklearn/base.py:493: UserWarning: X does not have valid feature names, but StandardScaler was fitted with feature names\n",
=======
      "c:\\Users\\jpc\\AppData\\Local\\Programs\\Python\\Python310\\lib\\site-packages\\sklearn\\base.py:493: UserWarning: X does not have valid feature names, but StandardScaler was fitted with feature names\n",
      "  warnings.warn(\n",
      "c:\\Users\\jpc\\AppData\\Local\\Programs\\Python\\Python310\\lib\\site-packages\\sklearn\\base.py:493: UserWarning: X does not have valid feature names, but StandardScaler was fitted with feature names\n",
      "  warnings.warn(\n",
      "c:\\Users\\jpc\\AppData\\Local\\Programs\\Python\\Python310\\lib\\site-packages\\sklearn\\base.py:493: UserWarning: X does not have valid feature names, but StandardScaler was fitted with feature names\n",
      "  warnings.warn(\n",
      "c:\\Users\\jpc\\AppData\\Local\\Programs\\Python\\Python310\\lib\\site-packages\\sklearn\\base.py:493: UserWarning: X does not have valid feature names, but StandardScaler was fitted with feature names\n",
>>>>>>> 28f21dd (added time sign data and models)
      "  warnings.warn(\n"
     ]
    },
    {
     "name": "stdout",
     "output_type": "stream",
     "text": [
<<<<<<< HEAD
      "amor y paz [0.64 0.3  0.06]\n"
=======
      "anio [0.72 0.13 0.15]\n",
      "anio [0.54 0.34 0.12]\n"
>>>>>>> 28f21dd (added time sign data and models)
     ]
    },
    {
     "name": "stderr",
     "output_type": "stream",
     "text": [
<<<<<<< HEAD
      "/Library/Frameworks/Python.framework/Versions/3.10/lib/python3.10/site-packages/sklearn/base.py:493: UserWarning: X does not have valid feature names, but StandardScaler was fitted with feature names\n",
      "  warnings.warn(\n",
      "/Library/Frameworks/Python.framework/Versions/3.10/lib/python3.10/site-packages/sklearn/base.py:493: UserWarning: X does not have valid feature names, but StandardScaler was fitted with feature names\n",
=======
      "c:\\Users\\jpc\\AppData\\Local\\Programs\\Python\\Python310\\lib\\site-packages\\sklearn\\base.py:493: UserWarning: X does not have valid feature names, but StandardScaler was fitted with feature names\n",
      "  warnings.warn(\n",
      "c:\\Users\\jpc\\AppData\\Local\\Programs\\Python\\Python310\\lib\\site-packages\\sklearn\\base.py:493: UserWarning: X does not have valid feature names, but StandardScaler was fitted with feature names\n",
      "  warnings.warn(\n",
      "c:\\Users\\jpc\\AppData\\Local\\Programs\\Python\\Python310\\lib\\site-packages\\sklearn\\base.py:493: UserWarning: X does not have valid feature names, but StandardScaler was fitted with feature names\n",
      "  warnings.warn(\n",
      "c:\\Users\\jpc\\AppData\\Local\\Programs\\Python\\Python310\\lib\\site-packages\\sklearn\\base.py:493: UserWarning: X does not have valid feature names, but StandardScaler was fitted with feature names\n",
>>>>>>> 28f21dd (added time sign data and models)
      "  warnings.warn(\n"
     ]
    },
    {
     "name": "stdout",
     "output_type": "stream",
     "text": [
<<<<<<< HEAD
      "amor y paz [0.67 0.28 0.05]\n"
=======
      "anio [0.55 0.32 0.13]\n",
      "anio [0.55 0.33 0.12]\n"
>>>>>>> 28f21dd (added time sign data and models)
     ]
    },
    {
     "name": "stderr",
     "output_type": "stream",
     "text": [
<<<<<<< HEAD
      "/Library/Frameworks/Python.framework/Versions/3.10/lib/python3.10/site-packages/sklearn/base.py:493: UserWarning: X does not have valid feature names, but StandardScaler was fitted with feature names\n",
      "  warnings.warn(\n",
      "/Library/Frameworks/Python.framework/Versions/3.10/lib/python3.10/site-packages/sklearn/base.py:493: UserWarning: X does not have valid feature names, but StandardScaler was fitted with feature names\n",
=======
      "c:\\Users\\jpc\\AppData\\Local\\Programs\\Python\\Python310\\lib\\site-packages\\sklearn\\base.py:493: UserWarning: X does not have valid feature names, but StandardScaler was fitted with feature names\n",
      "  warnings.warn(\n",
      "c:\\Users\\jpc\\AppData\\Local\\Programs\\Python\\Python310\\lib\\site-packages\\sklearn\\base.py:493: UserWarning: X does not have valid feature names, but StandardScaler was fitted with feature names\n",
      "  warnings.warn(\n",
      "c:\\Users\\jpc\\AppData\\Local\\Programs\\Python\\Python310\\lib\\site-packages\\sklearn\\base.py:493: UserWarning: X does not have valid feature names, but StandardScaler was fitted with feature names\n",
      "  warnings.warn(\n",
      "c:\\Users\\jpc\\AppData\\Local\\Programs\\Python\\Python310\\lib\\site-packages\\sklearn\\base.py:493: UserWarning: X does not have valid feature names, but StandardScaler was fitted with feature names\n",
>>>>>>> 28f21dd (added time sign data and models)
      "  warnings.warn(\n"
     ]
    },
    {
     "name": "stdout",
     "output_type": "stream",
     "text": [
<<<<<<< HEAD
      "amor y paz [0.64 0.3  0.06]\n"
=======
      "anio [0.53 0.34 0.13]\n",
      "anio [0.54 0.31 0.15]\n"
>>>>>>> 28f21dd (added time sign data and models)
     ]
    },
    {
     "name": "stderr",
     "output_type": "stream",
     "text": [
<<<<<<< HEAD
      "/Library/Frameworks/Python.framework/Versions/3.10/lib/python3.10/site-packages/sklearn/base.py:493: UserWarning: X does not have valid feature names, but StandardScaler was fitted with feature names\n",
      "  warnings.warn(\n",
      "/Library/Frameworks/Python.framework/Versions/3.10/lib/python3.10/site-packages/sklearn/base.py:493: UserWarning: X does not have valid feature names, but StandardScaler was fitted with feature names\n",
=======
      "c:\\Users\\jpc\\AppData\\Local\\Programs\\Python\\Python310\\lib\\site-packages\\sklearn\\base.py:493: UserWarning: X does not have valid feature names, but StandardScaler was fitted with feature names\n",
      "  warnings.warn(\n",
      "c:\\Users\\jpc\\AppData\\Local\\Programs\\Python\\Python310\\lib\\site-packages\\sklearn\\base.py:493: UserWarning: X does not have valid feature names, but StandardScaler was fitted with feature names\n",
      "  warnings.warn(\n",
      "c:\\Users\\jpc\\AppData\\Local\\Programs\\Python\\Python310\\lib\\site-packages\\sklearn\\base.py:493: UserWarning: X does not have valid feature names, but StandardScaler was fitted with feature names\n",
      "  warnings.warn(\n",
      "c:\\Users\\jpc\\AppData\\Local\\Programs\\Python\\Python310\\lib\\site-packages\\sklearn\\base.py:493: UserWarning: X does not have valid feature names, but StandardScaler was fitted with feature names\n",
>>>>>>> 28f21dd (added time sign data and models)
      "  warnings.warn(\n"
     ]
    },
    {
     "name": "stdout",
     "output_type": "stream",
     "text": [
<<<<<<< HEAD
      "amor y paz [0.7  0.25 0.05]\n"
=======
      "anio [0.56 0.3  0.14]\n",
      "anio [0.53 0.32 0.15]\n"
>>>>>>> 28f21dd (added time sign data and models)
     ]
    },
    {
     "name": "stderr",
     "output_type": "stream",
     "text": [
<<<<<<< HEAD
      "/Library/Frameworks/Python.framework/Versions/3.10/lib/python3.10/site-packages/sklearn/base.py:493: UserWarning: X does not have valid feature names, but StandardScaler was fitted with feature names\n",
      "  warnings.warn(\n",
      "/Library/Frameworks/Python.framework/Versions/3.10/lib/python3.10/site-packages/sklearn/base.py:493: UserWarning: X does not have valid feature names, but StandardScaler was fitted with feature names\n",
=======
      "c:\\Users\\jpc\\AppData\\Local\\Programs\\Python\\Python310\\lib\\site-packages\\sklearn\\base.py:493: UserWarning: X does not have valid feature names, but StandardScaler was fitted with feature names\n",
      "  warnings.warn(\n",
      "c:\\Users\\jpc\\AppData\\Local\\Programs\\Python\\Python310\\lib\\site-packages\\sklearn\\base.py:493: UserWarning: X does not have valid feature names, but StandardScaler was fitted with feature names\n",
      "  warnings.warn(\n",
      "c:\\Users\\jpc\\AppData\\Local\\Programs\\Python\\Python310\\lib\\site-packages\\sklearn\\base.py:493: UserWarning: X does not have valid feature names, but StandardScaler was fitted with feature names\n",
      "  warnings.warn(\n",
      "c:\\Users\\jpc\\AppData\\Local\\Programs\\Python\\Python310\\lib\\site-packages\\sklearn\\base.py:493: UserWarning: X does not have valid feature names, but StandardScaler was fitted with feature names\n",
>>>>>>> 28f21dd (added time sign data and models)
      "  warnings.warn(\n"
     ]
    },
    {
     "name": "stdout",
     "output_type": "stream",
     "text": [
<<<<<<< HEAD
      "amor y paz [0.69 0.26 0.05]\n"
=======
      "anio [0.53 0.32 0.15]\n",
      "anio [0.55 0.31 0.14]\n"
>>>>>>> 28f21dd (added time sign data and models)
     ]
    },
    {
     "name": "stderr",
     "output_type": "stream",
     "text": [
<<<<<<< HEAD
      "/Library/Frameworks/Python.framework/Versions/3.10/lib/python3.10/site-packages/sklearn/base.py:493: UserWarning: X does not have valid feature names, but StandardScaler was fitted with feature names\n",
      "  warnings.warn(\n",
      "/Library/Frameworks/Python.framework/Versions/3.10/lib/python3.10/site-packages/sklearn/base.py:493: UserWarning: X does not have valid feature names, but StandardScaler was fitted with feature names\n",
=======
      "c:\\Users\\jpc\\AppData\\Local\\Programs\\Python\\Python310\\lib\\site-packages\\sklearn\\base.py:493: UserWarning: X does not have valid feature names, but StandardScaler was fitted with feature names\n",
      "  warnings.warn(\n",
      "c:\\Users\\jpc\\AppData\\Local\\Programs\\Python\\Python310\\lib\\site-packages\\sklearn\\base.py:493: UserWarning: X does not have valid feature names, but StandardScaler was fitted with feature names\n",
      "  warnings.warn(\n",
      "c:\\Users\\jpc\\AppData\\Local\\Programs\\Python\\Python310\\lib\\site-packages\\sklearn\\base.py:493: UserWarning: X does not have valid feature names, but StandardScaler was fitted with feature names\n",
      "  warnings.warn(\n",
      "c:\\Users\\jpc\\AppData\\Local\\Programs\\Python\\Python310\\lib\\site-packages\\sklearn\\base.py:493: UserWarning: X does not have valid feature names, but StandardScaler was fitted with feature names\n",
>>>>>>> 28f21dd (added time sign data and models)
      "  warnings.warn(\n"
     ]
    },
    {
     "name": "stdout",
     "output_type": "stream",
     "text": [
<<<<<<< HEAD
      "amor y paz [0.66 0.28 0.06]\n"
=======
      "anio [0.69 0.25 0.06]\n",
      "anio [0.67 0.31 0.02]\n"
>>>>>>> 28f21dd (added time sign data and models)
     ]
    },
    {
     "name": "stderr",
     "output_type": "stream",
     "text": [
<<<<<<< HEAD
      "/Library/Frameworks/Python.framework/Versions/3.10/lib/python3.10/site-packages/sklearn/base.py:493: UserWarning: X does not have valid feature names, but StandardScaler was fitted with feature names\n",
      "  warnings.warn(\n",
      "/Library/Frameworks/Python.framework/Versions/3.10/lib/python3.10/site-packages/sklearn/base.py:493: UserWarning: X does not have valid feature names, but StandardScaler was fitted with feature names\n",
=======
      "c:\\Users\\jpc\\AppData\\Local\\Programs\\Python\\Python310\\lib\\site-packages\\sklearn\\base.py:493: UserWarning: X does not have valid feature names, but StandardScaler was fitted with feature names\n",
      "  warnings.warn(\n",
      "c:\\Users\\jpc\\AppData\\Local\\Programs\\Python\\Python310\\lib\\site-packages\\sklearn\\base.py:493: UserWarning: X does not have valid feature names, but StandardScaler was fitted with feature names\n",
      "  warnings.warn(\n",
      "c:\\Users\\jpc\\AppData\\Local\\Programs\\Python\\Python310\\lib\\site-packages\\sklearn\\base.py:493: UserWarning: X does not have valid feature names, but StandardScaler was fitted with feature names\n",
      "  warnings.warn(\n",
      "c:\\Users\\jpc\\AppData\\Local\\Programs\\Python\\Python310\\lib\\site-packages\\sklearn\\base.py:493: UserWarning: X does not have valid feature names, but StandardScaler was fitted with feature names\n",
>>>>>>> 28f21dd (added time sign data and models)
      "  warnings.warn(\n"
     ]
    },
    {
     "name": "stdout",
     "output_type": "stream",
     "text": [
<<<<<<< HEAD
      "amor y paz [0.67 0.28 0.05]\n"
=======
      "anio [0.68 0.3  0.02]\n",
      "anio [0.89 0.09 0.02]\n"
>>>>>>> 28f21dd (added time sign data and models)
     ]
    },
    {
     "name": "stderr",
     "output_type": "stream",
     "text": [
<<<<<<< HEAD
      "/Library/Frameworks/Python.framework/Versions/3.10/lib/python3.10/site-packages/sklearn/base.py:493: UserWarning: X does not have valid feature names, but StandardScaler was fitted with feature names\n",
      "  warnings.warn(\n",
      "/Library/Frameworks/Python.framework/Versions/3.10/lib/python3.10/site-packages/sklearn/base.py:493: UserWarning: X does not have valid feature names, but StandardScaler was fitted with feature names\n",
=======
      "c:\\Users\\jpc\\AppData\\Local\\Programs\\Python\\Python310\\lib\\site-packages\\sklearn\\base.py:493: UserWarning: X does not have valid feature names, but StandardScaler was fitted with feature names\n",
      "  warnings.warn(\n",
      "c:\\Users\\jpc\\AppData\\Local\\Programs\\Python\\Python310\\lib\\site-packages\\sklearn\\base.py:493: UserWarning: X does not have valid feature names, but StandardScaler was fitted with feature names\n",
      "  warnings.warn(\n",
      "c:\\Users\\jpc\\AppData\\Local\\Programs\\Python\\Python310\\lib\\site-packages\\sklearn\\base.py:493: UserWarning: X does not have valid feature names, but StandardScaler was fitted with feature names\n",
      "  warnings.warn(\n",
      "c:\\Users\\jpc\\AppData\\Local\\Programs\\Python\\Python310\\lib\\site-packages\\sklearn\\base.py:493: UserWarning: X does not have valid feature names, but StandardScaler was fitted with feature names\n",
>>>>>>> 28f21dd (added time sign data and models)
      "  warnings.warn(\n"
     ]
    },
    {
     "name": "stdout",
     "output_type": "stream",
     "text": [
<<<<<<< HEAD
      "amor y paz [0.68 0.27 0.05]\n"
=======
      "anio [0.89 0.09 0.02]\n",
      "anio [0.88 0.09 0.03]\n"
>>>>>>> 28f21dd (added time sign data and models)
     ]
    },
    {
     "name": "stderr",
     "output_type": "stream",
     "text": [
<<<<<<< HEAD
      "/Library/Frameworks/Python.framework/Versions/3.10/lib/python3.10/site-packages/sklearn/base.py:493: UserWarning: X does not have valid feature names, but StandardScaler was fitted with feature names\n",
      "  warnings.warn(\n",
      "/Library/Frameworks/Python.framework/Versions/3.10/lib/python3.10/site-packages/sklearn/base.py:493: UserWarning: X does not have valid feature names, but StandardScaler was fitted with feature names\n",
=======
      "c:\\Users\\jpc\\AppData\\Local\\Programs\\Python\\Python310\\lib\\site-packages\\sklearn\\base.py:493: UserWarning: X does not have valid feature names, but StandardScaler was fitted with feature names\n",
      "  warnings.warn(\n",
      "c:\\Users\\jpc\\AppData\\Local\\Programs\\Python\\Python310\\lib\\site-packages\\sklearn\\base.py:493: UserWarning: X does not have valid feature names, but StandardScaler was fitted with feature names\n",
      "  warnings.warn(\n",
      "c:\\Users\\jpc\\AppData\\Local\\Programs\\Python\\Python310\\lib\\site-packages\\sklearn\\base.py:493: UserWarning: X does not have valid feature names, but StandardScaler was fitted with feature names\n",
>>>>>>> 28f21dd (added time sign data and models)
      "  warnings.warn(\n"
     ]
    },
    {
     "name": "stdout",
     "output_type": "stream",
     "text": [
<<<<<<< HEAD
      "amor y paz [0.68 0.26 0.06]\n"
=======
      "anio [0.73 0.24 0.03]\n"
>>>>>>> 28f21dd (added time sign data and models)
     ]
    },
    {
     "name": "stderr",
     "output_type": "stream",
     "text": [
<<<<<<< HEAD
      "/Library/Frameworks/Python.framework/Versions/3.10/lib/python3.10/site-packages/sklearn/base.py:493: UserWarning: X does not have valid feature names, but StandardScaler was fitted with feature names\n",
      "  warnings.warn(\n",
      "/Library/Frameworks/Python.framework/Versions/3.10/lib/python3.10/site-packages/sklearn/base.py:493: UserWarning: X does not have valid feature names, but StandardScaler was fitted with feature names\n",
=======
      "c:\\Users\\jpc\\AppData\\Local\\Programs\\Python\\Python310\\lib\\site-packages\\sklearn\\base.py:493: UserWarning: X does not have valid feature names, but StandardScaler was fitted with feature names\n",
      "  warnings.warn(\n",
      "c:\\Users\\jpc\\AppData\\Local\\Programs\\Python\\Python310\\lib\\site-packages\\sklearn\\base.py:493: UserWarning: X does not have valid feature names, but StandardScaler was fitted with feature names\n",
      "  warnings.warn(\n",
      "c:\\Users\\jpc\\AppData\\Local\\Programs\\Python\\Python310\\lib\\site-packages\\sklearn\\base.py:493: UserWarning: X does not have valid feature names, but StandardScaler was fitted with feature names\n",
>>>>>>> 28f21dd (added time sign data and models)
      "  warnings.warn(\n"
     ]
    },
    {
     "name": "stdout",
     "output_type": "stream",
     "text": [
<<<<<<< HEAD
      "amor y paz [0.68 0.26 0.06]\n"
=======
      "anio [0.73 0.24 0.03]\n",
      "anio [0.81 0.16 0.03]\n"
>>>>>>> 28f21dd (added time sign data and models)
     ]
    },
    {
     "name": "stderr",
     "output_type": "stream",
     "text": [
<<<<<<< HEAD
      "/Library/Frameworks/Python.framework/Versions/3.10/lib/python3.10/site-packages/sklearn/base.py:493: UserWarning: X does not have valid feature names, but StandardScaler was fitted with feature names\n",
      "  warnings.warn(\n",
      "/Library/Frameworks/Python.framework/Versions/3.10/lib/python3.10/site-packages/sklearn/base.py:493: UserWarning: X does not have valid feature names, but StandardScaler was fitted with feature names\n",
=======
      "c:\\Users\\jpc\\AppData\\Local\\Programs\\Python\\Python310\\lib\\site-packages\\sklearn\\base.py:493: UserWarning: X does not have valid feature names, but StandardScaler was fitted with feature names\n",
      "  warnings.warn(\n",
      "c:\\Users\\jpc\\AppData\\Local\\Programs\\Python\\Python310\\lib\\site-packages\\sklearn\\base.py:493: UserWarning: X does not have valid feature names, but StandardScaler was fitted with feature names\n",
      "  warnings.warn(\n",
      "c:\\Users\\jpc\\AppData\\Local\\Programs\\Python\\Python310\\lib\\site-packages\\sklearn\\base.py:493: UserWarning: X does not have valid feature names, but StandardScaler was fitted with feature names\n",
>>>>>>> 28f21dd (added time sign data and models)
      "  warnings.warn(\n"
     ]
    },
    {
     "name": "stdout",
     "output_type": "stream",
     "text": [
<<<<<<< HEAD
      "amor y paz [0.68 0.25 0.07]\n"
=======
      "anio [0.88 0.08 0.04]\n",
      "anio [0.88 0.08 0.04]\n"
>>>>>>> 28f21dd (added time sign data and models)
     ]
    },
    {
     "name": "stderr",
     "output_type": "stream",
     "text": [
<<<<<<< HEAD
      "/Library/Frameworks/Python.framework/Versions/3.10/lib/python3.10/site-packages/sklearn/base.py:493: UserWarning: X does not have valid feature names, but StandardScaler was fitted with feature names\n",
      "  warnings.warn(\n",
      "/Library/Frameworks/Python.framework/Versions/3.10/lib/python3.10/site-packages/sklearn/base.py:493: UserWarning: X does not have valid feature names, but StandardScaler was fitted with feature names\n",
=======
      "c:\\Users\\jpc\\AppData\\Local\\Programs\\Python\\Python310\\lib\\site-packages\\sklearn\\base.py:493: UserWarning: X does not have valid feature names, but StandardScaler was fitted with feature names\n",
      "  warnings.warn(\n",
      "c:\\Users\\jpc\\AppData\\Local\\Programs\\Python\\Python310\\lib\\site-packages\\sklearn\\base.py:493: UserWarning: X does not have valid feature names, but StandardScaler was fitted with feature names\n",
      "  warnings.warn(\n",
      "c:\\Users\\jpc\\AppData\\Local\\Programs\\Python\\Python310\\lib\\site-packages\\sklearn\\base.py:493: UserWarning: X does not have valid feature names, but StandardScaler was fitted with feature names\n",
>>>>>>> 28f21dd (added time sign data and models)
      "  warnings.warn(\n"
     ]
    },
    {
     "name": "stdout",
     "output_type": "stream",
     "text": [
<<<<<<< HEAD
      "amor y paz [0.71 0.21 0.08]\n"
=======
      "anio [0.85 0.12 0.03]\n",
      "anio [0.86 0.11 0.03]\n"
>>>>>>> 28f21dd (added time sign data and models)
     ]
    },
    {
     "name": "stderr",
     "output_type": "stream",
     "text": [
<<<<<<< HEAD
      "/Library/Frameworks/Python.framework/Versions/3.10/lib/python3.10/site-packages/sklearn/base.py:493: UserWarning: X does not have valid feature names, but StandardScaler was fitted with feature names\n",
      "  warnings.warn(\n",
      "/Library/Frameworks/Python.framework/Versions/3.10/lib/python3.10/site-packages/sklearn/base.py:493: UserWarning: X does not have valid feature names, but StandardScaler was fitted with feature names\n",
      "  warnings.warn(\n",
      "/Library/Frameworks/Python.framework/Versions/3.10/lib/python3.10/site-packages/sklearn/base.py:493: UserWarning: X does not have valid feature names, but StandardScaler was fitted with feature names\n",
      "  warnings.warn(\n",
      "/Library/Frameworks/Python.framework/Versions/3.10/lib/python3.10/site-packages/sklearn/base.py:493: UserWarning: X does not have valid feature names, but StandardScaler was fitted with feature names\n",
      "  warnings.warn(\n"
     ]
    },
    {
     "name": "stdout",
     "output_type": "stream",
     "text": [
      "amor y paz [0.72 0.21 0.07]\n",
      "amor y paz [0.72 0.21 0.07]\n"
     ]
    },
    {
     "name": "stderr",
     "output_type": "stream",
     "text": [
      "/Library/Frameworks/Python.framework/Versions/3.10/lib/python3.10/site-packages/sklearn/base.py:493: UserWarning: X does not have valid feature names, but StandardScaler was fitted with feature names\n",
      "  warnings.warn(\n",
      "/Library/Frameworks/Python.framework/Versions/3.10/lib/python3.10/site-packages/sklearn/base.py:493: UserWarning: X does not have valid feature names, but StandardScaler was fitted with feature names\n",
      "  warnings.warn(\n"
     ]
    },
    {
     "name": "stdout",
     "output_type": "stream",
     "text": [
      "amor y paz [0.74 0.2  0.06]\n"
     ]
    },
    {
     "name": "stderr",
     "output_type": "stream",
     "text": [
      "/Library/Frameworks/Python.framework/Versions/3.10/lib/python3.10/site-packages/sklearn/base.py:493: UserWarning: X does not have valid feature names, but StandardScaler was fitted with feature names\n",
      "  warnings.warn(\n",
      "/Library/Frameworks/Python.framework/Versions/3.10/lib/python3.10/site-packages/sklearn/base.py:493: UserWarning: X does not have valid feature names, but StandardScaler was fitted with feature names\n",
=======
      "c:\\Users\\jpc\\AppData\\Local\\Programs\\Python\\Python310\\lib\\site-packages\\sklearn\\base.py:493: UserWarning: X does not have valid feature names, but StandardScaler was fitted with feature names\n",
      "  warnings.warn(\n",
      "c:\\Users\\jpc\\AppData\\Local\\Programs\\Python\\Python310\\lib\\site-packages\\sklearn\\base.py:493: UserWarning: X does not have valid feature names, but StandardScaler was fitted with feature names\n",
      "  warnings.warn(\n",
      "c:\\Users\\jpc\\AppData\\Local\\Programs\\Python\\Python310\\lib\\site-packages\\sklearn\\base.py:493: UserWarning: X does not have valid feature names, but StandardScaler was fitted with feature names\n",
      "  warnings.warn(\n",
      "c:\\Users\\jpc\\AppData\\Local\\Programs\\Python\\Python310\\lib\\site-packages\\sklearn\\base.py:493: UserWarning: X does not have valid feature names, but StandardScaler was fitted with feature names\n",
      "  warnings.warn(\n",
      "c:\\Users\\jpc\\AppData\\Local\\Programs\\Python\\Python310\\lib\\site-packages\\sklearn\\base.py:493: UserWarning: X does not have valid feature names, but StandardScaler was fitted with feature names\n",
      "  warnings.warn(\n",
      "c:\\Users\\jpc\\AppData\\Local\\Programs\\Python\\Python310\\lib\\site-packages\\sklearn\\base.py:493: UserWarning: X does not have valid feature names, but StandardScaler was fitted with feature names\n",
>>>>>>> 28f21dd (added time sign data and models)
      "  warnings.warn(\n"
     ]
    },
    {
     "name": "stdout",
     "output_type": "stream",
     "text": [
<<<<<<< HEAD
      "amor y paz [0.78 0.18 0.04]\n"
=======
      "anio [0.86 0.11 0.03]\n",
      "anio [0.83 0.12 0.05]\n"
>>>>>>> 28f21dd (added time sign data and models)
     ]
    },
    {
     "name": "stderr",
     "output_type": "stream",
     "text": [
<<<<<<< HEAD
      "/Library/Frameworks/Python.framework/Versions/3.10/lib/python3.10/site-packages/sklearn/base.py:493: UserWarning: X does not have valid feature names, but StandardScaler was fitted with feature names\n",
      "  warnings.warn(\n",
      "/Library/Frameworks/Python.framework/Versions/3.10/lib/python3.10/site-packages/sklearn/base.py:493: UserWarning: X does not have valid feature names, but StandardScaler was fitted with feature names\n",
      "  warnings.warn(\n"
     ]
    },
    {
     "name": "stdout",
     "output_type": "stream",
     "text": [
      "amor y paz [0.79 0.18 0.03]\n"
     ]
    },
    {
     "name": "stderr",
     "output_type": "stream",
     "text": [
      "/Library/Frameworks/Python.framework/Versions/3.10/lib/python3.10/site-packages/sklearn/base.py:493: UserWarning: X does not have valid feature names, but StandardScaler was fitted with feature names\n",
      "  warnings.warn(\n",
      "/Library/Frameworks/Python.framework/Versions/3.10/lib/python3.10/site-packages/sklearn/base.py:493: UserWarning: X does not have valid feature names, but StandardScaler was fitted with feature names\n",
      "  warnings.warn(\n"
     ]
    },
    {
     "name": "stdout",
     "output_type": "stream",
     "text": [
      "amor y paz [0.77 0.2  0.03]\n"
     ]
    },
    {
     "name": "stderr",
     "output_type": "stream",
     "text": [
      "/Library/Frameworks/Python.framework/Versions/3.10/lib/python3.10/site-packages/sklearn/base.py:493: UserWarning: X does not have valid feature names, but StandardScaler was fitted with feature names\n",
      "  warnings.warn(\n",
      "/Library/Frameworks/Python.framework/Versions/3.10/lib/python3.10/site-packages/sklearn/base.py:493: UserWarning: X does not have valid feature names, but StandardScaler was fitted with feature names\n",
=======
      "c:\\Users\\jpc\\AppData\\Local\\Programs\\Python\\Python310\\lib\\site-packages\\sklearn\\base.py:493: UserWarning: X does not have valid feature names, but StandardScaler was fitted with feature names\n",
      "  warnings.warn(\n",
      "c:\\Users\\jpc\\AppData\\Local\\Programs\\Python\\Python310\\lib\\site-packages\\sklearn\\base.py:493: UserWarning: X does not have valid feature names, but StandardScaler was fitted with feature names\n",
      "  warnings.warn(\n",
      "c:\\Users\\jpc\\AppData\\Local\\Programs\\Python\\Python310\\lib\\site-packages\\sklearn\\base.py:493: UserWarning: X does not have valid feature names, but StandardScaler was fitted with feature names\n",
      "  warnings.warn(\n",
      "c:\\Users\\jpc\\AppData\\Local\\Programs\\Python\\Python310\\lib\\site-packages\\sklearn\\base.py:493: UserWarning: X does not have valid feature names, but StandardScaler was fitted with feature names\n",
>>>>>>> 28f21dd (added time sign data and models)
      "  warnings.warn(\n"
     ]
    },
    {
     "name": "stdout",
     "output_type": "stream",
     "text": [
<<<<<<< HEAD
      "amor y paz [0.69 0.25 0.06]\n"
=======
      "anio [0.81 0.13 0.06]\n",
      "anio [0.78 0.13 0.09]\n"
>>>>>>> 28f21dd (added time sign data and models)
     ]
    },
    {
     "name": "stderr",
     "output_type": "stream",
     "text": [
<<<<<<< HEAD
      "/Library/Frameworks/Python.framework/Versions/3.10/lib/python3.10/site-packages/sklearn/base.py:493: UserWarning: X does not have valid feature names, but StandardScaler was fitted with feature names\n",
      "  warnings.warn(\n",
      "/Library/Frameworks/Python.framework/Versions/3.10/lib/python3.10/site-packages/sklearn/base.py:493: UserWarning: X does not have valid feature names, but StandardScaler was fitted with feature names\n",
=======
      "c:\\Users\\jpc\\AppData\\Local\\Programs\\Python\\Python310\\lib\\site-packages\\sklearn\\base.py:493: UserWarning: X does not have valid feature names, but StandardScaler was fitted with feature names\n",
      "  warnings.warn(\n",
      "c:\\Users\\jpc\\AppData\\Local\\Programs\\Python\\Python310\\lib\\site-packages\\sklearn\\base.py:493: UserWarning: X does not have valid feature names, but StandardScaler was fitted with feature names\n",
      "  warnings.warn(\n",
      "c:\\Users\\jpc\\AppData\\Local\\Programs\\Python\\Python310\\lib\\site-packages\\sklearn\\base.py:493: UserWarning: X does not have valid feature names, but StandardScaler was fitted with feature names\n",
>>>>>>> 28f21dd (added time sign data and models)
      "  warnings.warn(\n"
     ]
    },
    {
     "name": "stdout",
     "output_type": "stream",
     "text": [
<<<<<<< HEAD
      "amor y paz [0.58 0.37 0.05]\n"
=======
      "anio [0.79 0.12 0.09]\n",
      "anio [0.82 0.1  0.08]\n"
>>>>>>> 28f21dd (added time sign data and models)
     ]
    },
    {
     "name": "stderr",
     "output_type": "stream",
     "text": [
<<<<<<< HEAD
      "/Library/Frameworks/Python.framework/Versions/3.10/lib/python3.10/site-packages/sklearn/base.py:493: UserWarning: X does not have valid feature names, but StandardScaler was fitted with feature names\n",
      "  warnings.warn(\n",
      "/Library/Frameworks/Python.framework/Versions/3.10/lib/python3.10/site-packages/sklearn/base.py:493: UserWarning: X does not have valid feature names, but StandardScaler was fitted with feature names\n",
=======
      "c:\\Users\\jpc\\AppData\\Local\\Programs\\Python\\Python310\\lib\\site-packages\\sklearn\\base.py:493: UserWarning: X does not have valid feature names, but StandardScaler was fitted with feature names\n",
      "  warnings.warn(\n",
      "c:\\Users\\jpc\\AppData\\Local\\Programs\\Python\\Python310\\lib\\site-packages\\sklearn\\base.py:493: UserWarning: X does not have valid feature names, but StandardScaler was fitted with feature names\n",
      "  warnings.warn(\n",
      "c:\\Users\\jpc\\AppData\\Local\\Programs\\Python\\Python310\\lib\\site-packages\\sklearn\\base.py:493: UserWarning: X does not have valid feature names, but StandardScaler was fitted with feature names\n",
>>>>>>> 28f21dd (added time sign data and models)
      "  warnings.warn(\n"
     ]
    },
    {
     "name": "stdout",
     "output_type": "stream",
     "text": [
<<<<<<< HEAD
      "amor y paz [0.48 0.46 0.06]\n"
=======
      "anio [0.78 0.12 0.1 ]\n"
>>>>>>> 28f21dd (added time sign data and models)
     ]
    },
    {
     "name": "stderr",
     "output_type": "stream",
     "text": [
<<<<<<< HEAD
      "/Library/Frameworks/Python.framework/Versions/3.10/lib/python3.10/site-packages/sklearn/base.py:493: UserWarning: X does not have valid feature names, but StandardScaler was fitted with feature names\n",
      "  warnings.warn(\n",
      "/Library/Frameworks/Python.framework/Versions/3.10/lib/python3.10/site-packages/sklearn/base.py:493: UserWarning: X does not have valid feature names, but StandardScaler was fitted with feature names\n",
=======
      "c:\\Users\\jpc\\AppData\\Local\\Programs\\Python\\Python310\\lib\\site-packages\\sklearn\\base.py:493: UserWarning: X does not have valid feature names, but StandardScaler was fitted with feature names\n",
      "  warnings.warn(\n",
      "c:\\Users\\jpc\\AppData\\Local\\Programs\\Python\\Python310\\lib\\site-packages\\sklearn\\base.py:493: UserWarning: X does not have valid feature names, but StandardScaler was fitted with feature names\n",
>>>>>>> 28f21dd (added time sign data and models)
      "  warnings.warn(\n"
     ]
    },
    {
     "name": "stdout",
     "output_type": "stream",
     "text": [
<<<<<<< HEAD
      "bien [0.46 0.48 0.06]\n"
     ]
    },
    {
     "ename": "",
     "evalue": "",
     "output_type": "error",
     "traceback": [
      "\u001b[1;31mEl kernel se bloqueó al ejecutar código en la celda actual o en una celda anterior. \n",
      "\u001b[1;31mRevise el código de las celdas para identificar una posible causa del error. \n",
      "\u001b[1;31mHaga clic <a href='https://aka.ms/vscodeJupyterKernelCrash'>aquí</a> para obtener más información. \n",
      "\u001b[1;31mVea Jupyter <a href='command:jupyter.viewOutput'>log</a> para obtener más detalles."
=======
      "anio [0.67 0.11 0.22]\n"
>>>>>>> 28f21dd (added time sign data and models)
     ]
    }
   ],
   "source": [
    "cap = cv2.VideoCapture(0)\n",
    "# Initiate holistic model\n",
<<<<<<< HEAD
    "with mp_holistic.Holistic(min_detection_confidence=0.5, min_tracking_confidence=0.5) as holistic:\n",
=======
    "with mp_holistic.Holistic(min_detection_confidence=0.7, min_tracking_confidence=0.6) as holistic:\n",
>>>>>>> 28f21dd (added time sign data and models)
    "    \n",
    "    while cap.isOpened():\n",
    "        ret, frame = cap.read()\n",
    "        \n",
    "        # Recolor Feed\n",
    "        image = cv2.cvtColor(frame, cv2.COLOR_BGR2RGB)\n",
    "        image.flags.writeable = False        \n",
    "        \n",
    "        # Make Detections\n",
    "        results = holistic.process(image)\n",
    "        # print(results.face_landmarks)\n",
    "        \n",
    "        # face_landmarks, pose_landmarks, left_hand_landmarks, right_hand_landmarks\n",
    "        \n",
    "        # Recolor image back to BGR for rendering\n",
    "        image.flags.writeable = True   \n",
    "        image = cv2.cvtColor(image, cv2.COLOR_RGB2BGR)\n",
    "        \n",
    "        # 1. Draw face landmarks\n",
    "        mp_drawing.draw_landmarks(image, results.face_landmarks, mp_holistic.FACEMESH_TESSELATION, \n",
    "                                 mp_drawing.DrawingSpec(color=(80,110,10), thickness=1, circle_radius=1),\n",
    "                                 mp_drawing.DrawingSpec(color=(80,256,121), thickness=1, circle_radius=1)\n",
    "                                 )\n",
    "        \n",
    "        # 2. Right hand\n",
    "        mp_drawing.draw_landmarks(image, results.right_hand_landmarks, mp_holistic.HAND_CONNECTIONS, \n",
    "                                 mp_drawing.DrawingSpec(color=(80,22,10), thickness=2, circle_radius=4),\n",
    "                                 mp_drawing.DrawingSpec(color=(80,44,121), thickness=2, circle_radius=2)\n",
    "                                 )\n",
    "\n",
    "        # 3. Left Hand\n",
    "        mp_drawing.draw_landmarks(image, results.left_hand_landmarks, mp_holistic.HAND_CONNECTIONS, \n",
    "                                 mp_drawing.DrawingSpec(color=(121,22,76), thickness=2, circle_radius=4),\n",
    "                                 mp_drawing.DrawingSpec(color=(121,44,250), thickness=2, circle_radius=2)\n",
    "                                 )\n",
    "\n",
    "        # 4. Pose Detections\n",
    "        mp_drawing.draw_landmarks(image, results.pose_landmarks, mp_holistic.POSE_CONNECTIONS, \n",
    "                                 mp_drawing.DrawingSpec(color=(245,117,66), thickness=2, circle_radius=4),\n",
    "                                 mp_drawing.DrawingSpec(color=(245,66,230), thickness=2, circle_radius=2)\n",
    "                                 )\n",
<<<<<<< HEAD
    "        # Export coordinates\n",
    "        try:\n",
    "            # Extract Pose landmarks\n",
    "            pose = results.pose_landmarks.landmark\n",
    "            pose_row = list(np.array([[landmark.x, landmark.y, landmark.z, landmark.visibility] for landmark in pose]).flatten())\n",
    "            \n",
    "            # Extract Face landmarks\n",
    "            face = results.face_landmarks.landmark\n",
    "            face_row = list(np.array([[landmark.x, landmark.y, landmark.z, landmark.visibility] for landmark in face]).flatten())\n",
    "            \n",
    "            # Concate rows\n",
    "            row = pose_row+face_row\n",
    "            \n",
    "#             # Append class name \n",
    "#             row.insert(0, class_name)\n",
    "            \n",
    "#             # Export to CSV\n",
    "#             with open('coords.csv', mode='a', newline='') as f:\n",
    "#                 csv_writer = csv.writer(f, delimiter=',', quotechar='\"', quoting=csv.QUOTE_MINIMAL)\n",
    "#                 csv_writer.writerow(row) \n",
    "\n",
    "            # Make Detections\n",
    "            X = pd.DataFrame([row])\n",
    "            body_language_class = model.predict(X)[0]\n",
    "            body_language_prob = model.predict_proba(X)[0]\n",
    "            print(body_language_class, body_language_prob)\n",
    "            \n",
    "            # Grab ear coords\n",
    "            coords = tuple(np.multiply(\n",
    "                            np.array(\n",
    "                                (results.pose_landmarks.landmark[mp_holistic.PoseLandmark.LEFT_EAR].x, \n",
    "                                 results.pose_landmarks.landmark[mp_holistic.PoseLandmark.LEFT_EAR].y))\n",
    "                        , [640,480]).astype(int))\n",
    "            \n",
    "            cv2.rectangle(image, \n",
    "                          (coords[0], coords[1]+5), \n",
    "                          (coords[0]+len(body_language_class)*20, coords[1]-30), \n",
    "                          (245, 117, 16), -1)\n",
    "            cv2.putText(image, body_language_class, coords, \n",
    "                        cv2.FONT_HERSHEY_SIMPLEX, 1, (255, 255, 255), 2, cv2.LINE_AA)\n",
    "            \n",
    "            # Get status box\n",
    "            cv2.rectangle(image, (0,0), (250, 60), (245, 117, 16), -1)\n",
    "            \n",
    "            # Display Class\n",
    "            cv2.putText(image, ''\n",
    "                        , (95,12), cv2.FONT_HERSHEY_SIMPLEX, 0.5, (0, 0, 0), 1, cv2.LINE_AA)\n",
    "            cv2.putText(image, body_language_class.split(' ')[0]\n",
    "                        , (90,40), cv2.FONT_HERSHEY_SIMPLEX, 1, (255, 255, 255), 2, cv2.LINE_AA)\n",
    "            \n",
    "            # Display Probability\n",
    "            cv2.putText(image, ''\n",
    "                        , (15,12), cv2.FONT_HERSHEY_SIMPLEX, 0.5, (0, 0, 0), 1, cv2.LINE_AA)\n",
    "            cv2.putText(image, str(round(body_language_prob[np.argmax(body_language_prob)],2))\n",
    "                        , (10,40), cv2.FONT_HERSHEY_SIMPLEX, 1, (255, 255, 255), 2, cv2.LINE_AA)\n",
    "            \n",
    "        except:\n",
    "            pass\n",
    "                        \n",
    "        cv2.imshow('Rosa Webcam', image)\n",
    "\n",
    "        if cv2.waitKey(10) & 0xFF == ord('q'):\n",
    "            break\n",
    "\n",
    "cap.release()\n",
    "cv2.destroyAllWindows()"
   ]
  },
  {
   "cell_type": "code",
   "execution_count": 78,
   "id": "033d0a11",
   "metadata": {},
   "outputs": [
    {
     "data": {
      "text/plain": [
       "mediapipe.python.solution_base.SolutionOutputs"
      ]
     },
     "execution_count": 78,
     "metadata": {},
     "output_type": "execute_result"
    }
   ],
   "source": [
    "results"
   ]
  },
  {
   "cell_type": "code",
   "execution_count": 79,
   "id": "37a5b300",
   "metadata": {},
   "outputs": [
    {
     "data": {
      "text/plain": [
       "landmark {\n",
       "  x: 0.5809244\n",
       "  y: 0.24712658\n",
       "  z: -0.739278\n",
       "  visibility: 0.99993914\n",
       "}\n",
       "landmark {\n",
       "  x: 0.6049273\n",
       "  y: 0.15868685\n",
       "  z: -0.6839315\n",
       "  visibility: 0.99988085\n",
       "}\n",
       "landmark {\n",
       "  x: 0.6220694\n",
       "  y: 0.15958098\n",
       "  z: -0.68387604\n",
       "  visibility: 0.99987334\n",
       "}\n",
       "landmark {\n",
       "  x: 0.63892114\n",
       "  y: 0.16115968\n",
       "  z: -0.6841286\n",
       "  visibility: 0.99987036\n",
       "}\n",
       "landmark {\n",
       "  x: 0.54849285\n",
       "  y: 0.15705356\n",
       "  z: -0.6899874\n",
       "  visibility: 0.9998952\n",
       "}\n",
       "landmark {\n",
       "  x: 0.52555025\n",
       "  y: 0.15668614\n",
       "  z: -0.68933886\n",
       "  visibility: 0.9998963\n",
       "}\n",
       "landmark {\n",
       "  x: 0.50590986\n",
       "  y: 0.15615633\n",
       "  z: -0.689562\n",
       "  visibility: 0.9999029\n",
       "}\n",
       "landmark {\n",
       "  x: 0.6626643\n",
       "  y: 0.2011099\n",
       "  z: -0.35323778\n",
       "  visibility: 0.9998439\n",
       "}\n",
       "landmark {\n",
       "  x: 0.47565588\n",
       "  y: 0.19750349\n",
       "  z: -0.3682824\n",
       "  visibility: 0.99991006\n",
       "}\n",
       "landmark {\n",
       "  x: 0.6106254\n",
       "  y: 0.33324215\n",
       "  z: -0.61935574\n",
       "  visibility: 0.9999331\n",
       "}\n",
       "landmark {\n",
       "  x: 0.54190326\n",
       "  y: 0.33145252\n",
       "  z: -0.6230754\n",
       "  visibility: 0.9999421\n",
       "}\n",
       "landmark {\n",
       "  x: 0.77338624\n",
       "  y: 0.67101187\n",
       "  z: -0.19209817\n",
       "  visibility: 0.9990629\n",
       "}\n",
       "landmark {\n",
       "  x: 0.3314059\n",
       "  y: 0.69686127\n",
       "  z: -0.3093231\n",
       "  visibility: 0.9990125\n",
       "}\n",
       "landmark {\n",
       "  x: 0.8759099\n",
       "  y: 1.0357248\n",
       "  z: -0.2057263\n",
       "  visibility: 0.31266868\n",
       "}\n",
       "landmark {\n",
       "  x: 0.27247548\n",
       "  y: 1.3027484\n",
       "  z: -0.33921245\n",
       "  visibility: 0.45266393\n",
       "}\n",
       "landmark {\n",
       "  x: 0.9553095\n",
       "  y: 1.5810893\n",
       "  z: -0.5213495\n",
       "  visibility: 0.12174888\n",
       "}\n",
       "landmark {\n",
       "  x: 0.2327183\n",
       "  y: 1.7245259\n",
       "  z: -0.80656767\n",
       "  visibility: 0.22486159\n",
       "}\n",
       "landmark {\n",
       "  x: 1.0019696\n",
       "  y: 1.7080785\n",
       "  z: -0.62058204\n",
       "  visibility: 0.12975112\n",
       "}\n",
       "landmark {\n",
       "  x: 0.18794407\n",
       "  y: 1.8581065\n",
       "  z: -0.92546093\n",
       "  visibility: 0.2384526\n",
       "}\n",
       "landmark {\n",
       "  x: 0.9618707\n",
       "  y: 1.7144945\n",
       "  z: -0.65489966\n",
       "  visibility: 0.1661912\n",
       "}\n",
       "landmark {\n",
       "  x: 0.2346004\n",
       "  y: 1.8553627\n",
       "  z: -1.0257657\n",
       "  visibility: 0.30950117\n",
       "}\n",
       "landmark {\n",
       "  x: 0.9331772\n",
       "  y: 1.6683339\n",
       "  z: -0.56305146\n",
       "  visibility: 0.1675756\n",
       "}\n",
       "landmark {\n",
       "  x: 0.26259118\n",
       "  y: 1.8004785\n",
       "  z: -0.86652786\n",
       "  visibility: 0.30181152\n",
       "}\n",
       "landmark {\n",
       "  x: 0.71068764\n",
       "  y: 1.7009072\n",
       "  z: -0.04375672\n",
       "  visibility: 0.0018331904\n",
       "}\n",
       "landmark {\n",
       "  x: 0.42416888\n",
       "  y: 1.7146344\n",
       "  z: 0.04785337\n",
       "  visibility: 0.0019507147\n",
       "}\n",
       "landmark {\n",
       "  x: 0.7069418\n",
       "  y: 2.5661414\n",
       "  z: 0.0024344628\n",
       "  visibility: 0.001884419\n",
       "}\n",
       "landmark {\n",
       "  x: 0.44366056\n",
       "  y: 2.5870023\n",
       "  z: 0.12656592\n",
       "  visibility: 0.0007285858\n",
       "}\n",
       "landmark {\n",
       "  x: 0.7178904\n",
       "  y: 3.3514407\n",
       "  z: 0.6000527\n",
       "  visibility: 0.00027280394\n",
       "}\n",
       "landmark {\n",
       "  x: 0.47280198\n",
       "  y: 3.3570294\n",
       "  z: 0.53263015\n",
       "  visibility: 4.1248873e-05\n",
       "}\n",
       "landmark {\n",
       "  x: 0.72537917\n",
       "  y: 3.4757993\n",
       "  z: 0.6271635\n",
       "  visibility: 0.00020669066\n",
       "}\n",
       "landmark {\n",
       "  x: 0.470155\n",
       "  y: 3.4770355\n",
       "  z: 0.5582036\n",
       "  visibility: 8.203569e-05\n",
       "}\n",
       "landmark {\n",
       "  x: 0.6942489\n",
       "  y: 3.5821817\n",
       "  z: 0.10134424\n",
       "  visibility: 0.00030812057\n",
       "}\n",
       "landmark {\n",
       "  x: 0.52079284\n",
       "  y: 3.5925694\n",
       "  z: -0.03258152\n",
       "  visibility: 0.00016489792\n",
       "}"
      ]
     },
     "execution_count": 79,
     "metadata": {},
     "output_type": "execute_result"
    }
   ],
   "source": [
    "results.pose_landmarks"
   ]
  },
  {
   "cell_type": "code",
   "execution_count": 80,
   "id": "bc197923",
   "metadata": {},
   "outputs": [
    {
     "data": {
      "text/plain": [
       "x: 0.5809244\n",
       "y: 0.24712658\n",
       "z: -0.739278\n",
       "visibility: 0.99993914"
      ]
     },
     "execution_count": 80,
     "metadata": {},
     "output_type": "execute_result"
    }
   ],
   "source": [
    "results.pose_landmarks.landmark[0]"
   ]
  },
  {
   "cell_type": "code",
   "execution_count": 81,
   "id": "241ec37d",
   "metadata": {},
   "outputs": [
    {
     "data": {
      "text/plain": [
       "0.9999391436576843"
      ]
     },
     "execution_count": 81,
     "metadata": {},
     "output_type": "execute_result"
    }
   ],
   "source": [
    "results.pose_landmarks.landmark[0].visibility"
   ]
  },
  {
   "cell_type": "code",
   "execution_count": 82,
   "id": "56522667",
   "metadata": {},
   "outputs": [
    {
     "data": {
      "text/plain": [
       "x: 0.56733704\n",
       "y: 0.33550656\n",
       "z: -0.0311259"
      ]
     },
     "execution_count": 82,
     "metadata": {},
     "output_type": "execute_result"
    }
   ],
   "source": [
    "results.face_landmarks.landmark[0]"
   ]
  },
  {
   "cell_type": "code",
   "execution_count": 83,
   "id": "5445a134",
   "metadata": {},
   "outputs": [
    {
     "data": {
      "text/plain": [
       "0.0"
      ]
     },
     "execution_count": 83,
     "metadata": {},
     "output_type": "execute_result"
    }
   ],
   "source": [
    "results.face_landmarks.landmark[0].visibility # visibility muestra si el landmark si se muestra en la pantalla o no\n",
    "# para los landmarks de la cara siempre sera cero"
   ]
  },
  {
   "cell_type": "markdown",
   "id": "a423fb05",
   "metadata": {},
   "source": [
    "<img src=\"https://i.imgur.com/AzKNp7A.png\">"
   ]
  },
  {
   "cell_type": "markdown",
   "id": "53da50d3",
   "metadata": {},
   "source": [
    "## 2. Capturar Landmarks & Exportar CSV"
   ]
  },
  {
   "cell_type": "code",
   "execution_count": 84,
   "id": "a3a98fb9",
   "metadata": {},
   "outputs": [],
   "source": [
    "import csv\n",
    "import os\n",
    "import numpy as np"
   ]
  },
  {
   "cell_type": "code",
   "execution_count": 103,
   "id": "b58a4cc2",
   "metadata": {},
   "outputs": [
    {
     "data": {
      "text/plain": [
       "501"
      ]
     },
     "execution_count": 103,
     "metadata": {},
     "output_type": "execute_result"
    }
   ],
   "source": [
    "num_coords = len(results.face_landmarks.landmark) + len(results.pose_landmarks.landmark)\n",
    "num_coords #501"
   ]
  },
  {
   "cell_type": "code",
   "execution_count": 104,
   "id": "83a430d1",
   "metadata": {},
   "outputs": [],
   "source": [
    "#Create header table | class | x | y | z | visibility |\n",
    "landmarks = ['class']\n",
    "for val in range(1, num_coords+1):\n",
    "    landmarks += ['x{}'.format(val), 'y{}'.format(val), 'z{}'.format(val), 'v{}'.format(val)]"
   ]
  },
  {
   "cell_type": "code",
   "execution_count": 105,
   "id": "904a3c14",
   "metadata": {},
   "outputs": [
    {
     "data": {
      "text/plain": [
       "2005"
      ]
     },
     "execution_count": 105,
     "metadata": {},
     "output_type": "execute_result"
    }
   ],
   "source": [
    "len(landmarks) #2005"
   ]
  },
  {
   "cell_type": "code",
   "execution_count": 106,
   "id": "3b23af69",
   "metadata": {},
   "outputs": [],
   "source": [
    "#Export header CSV\n",
    "with open('coords.csv', mode='w', newline='') as f:\n",
    "    csv_writer = csv.writer(f, delimiter=',', quotechar='\"', quoting=csv.QUOTE_MINIMAL)\n",
    "    csv_writer.writerow(landmarks)"
   ]
  },
  {
   "cell_type": "markdown",
   "id": "660880c2",
   "metadata": {},
   "source": [
    "## 3. Tomar coordenadas de señas"
   ]
  },
  {
   "cell_type": "code",
   "execution_count": 108,
   "id": "3625f653",
   "metadata": {},
   "outputs": [],
   "source": [
    "#Save coord poses\n",
    "class_name=\"Buuu que mal\"\n",
    "\n",
    "#Detectar puntos de referencia\n",
    "cap = cv2.VideoCapture(0)  #0 o 2\n",
    "\n",
    "# Initiate holistic model\n",
    "with mp_holistic.Holistic(min_detection_confidence=0.5, min_tracking_confidence=0.5) as holistic:\n",
    "\n",
    "    while cap.isOpened():\n",
    "        ret, frame = cap.read()\n",
    "\n",
    "        # Recolor Feed\n",
    "        image = cv2.cvtColor(frame, cv2.COLOR_BGR2RGB)\n",
    "        image.flags.writeable = False\n",
    "\n",
    "        # Make Detections\n",
    "        results = holistic.process(image)\n",
    "        # print(results.face_landmarks)\n",
    "\n",
    "        # face_landmarks, pose_landmarks, left_hand_landmarks, right_hand_landmarks\n",
    "\n",
    "        # Recolor image back to BGR for rendering\n",
    "        image.flags.writeable = True\n",
    "        image = cv2.cvtColor(image, cv2.COLOR_RGB2BGR)\n",
    "\n",
    "\n",
    "        # 1. Draw face landmarks\n",
    "       # mp_drawing.draw_landmarks(image, results.face_landmarks, mp_holistic.FACEMESH_TESSELATION,\n",
    "       #                          mp_drawing.DrawingSpec(color=(80,110,10), thickness=1, circle_radius=1),\n",
    "       #                          mp_drawing.DrawingSpec(color=(80,256,121), thickness=1, circle_radius=1)\n",
    "       #                          )\n",
    "\n",
    "        # 2. Right hand\n",
    "        mp_drawing.draw_landmarks(image, results.right_hand_landmarks, mp_holistic.HAND_CONNECTIONS,\n",
    "                                 mp_drawing.DrawingSpec(color=(80,22,10), thickness=2, circle_radius=4),\n",
    "                                 mp_drawing.DrawingSpec(color=(80,44,121), thickness=2, circle_radius=2)\n",
    "                                 )\n",
    "\n",
    "        # 3. Left Hand\n",
    "        mp_drawing.draw_landmarks(image, results.left_hand_landmarks, mp_holistic.HAND_CONNECTIONS,\n",
    "                                 mp_drawing.DrawingSpec(color=(121,22,76), thickness=2, circle_radius=4),\n",
    "                                 mp_drawing.DrawingSpec(color=(121,44,250), thickness=2, circle_radius=2)\n",
    "                                 )\n",
    "\n",
    "        # 4. Pose Detections\n",
    "        mp_drawing.draw_landmarks(image, results.pose_landmarks, mp_holistic.POSE_CONNECTIONS,\n",
    "                                 mp_drawing.DrawingSpec(color=(245,117,66), thickness=2, circle_radius=4),\n",
    "                                 mp_drawing.DrawingSpec(color=(245,66,230), thickness=2, circle_radius=2)\n",
    "                                 )\n",
    "        # Export coordinates, da todos los landmarks y los almacena en una matriz\n",
    "        try:\n",
    "            # Extract Pose landmarks\n",
    "            pose = results.pose_landmarks.landmark\n",
    "            pose_row = list(np.array([[landmark.x, landmark.y, landmark.z, landmark.visibility] for landmark in pose]).flatten())\n",
    "\n",
    "            # Extract Face landmarks\n",
    "            face = results.face_landmarks.landmark\n",
    "            face_row = list(np.array([[landmark.x, landmark.y, landmark.z, landmark.visibility] for landmark in face]).flatten())\n",
    "\n",
    "            # Concate rows\n",
    "            row = pose_row+face_row\n",
    "\n",
    "            # Append class name\n",
    "            row.insert(0, class_name)\n",
    "\n",
    "            # Export to CSV\n",
    "            with open('coords.csv', mode='a', newline='') as f:\n",
    "                csv_writer = csv.writer(f, delimiter=',', quotechar='\"', quoting=csv.QUOTE_MINIMAL)\n",
    "                csv_writer.writerow(row)\n",
    "\n",
    "        except:\n",
    "            pass\n",
    "\n",
    "\n",
    "        cv2.imshow('Rosa Webcam', image)\n",
    "        if cv2.waitKey(10) & 0xFF == ord('q'):\n",
    "            break\n",
    "\n",
    "cap.release()\n",
    "cv2.destroyAllWindows()"
   ]
  },
  {
   "cell_type": "code",
   "execution_count": 109,
   "id": "a94f1c11",
   "metadata": {},
   "outputs": [
    {
     "data": {
      "text/plain": [
       "x: 0.5739429\n",
       "y: 0.31865352\n",
       "z: -0.85075855\n",
       "visibility: 0.9998646"
      ]
     },
     "execution_count": 109,
     "metadata": {},
     "output_type": "execute_result"
    }
   ],
   "source": [
    "results.pose_landmarks.landmark[0]"
   ]
  },
  {
   "cell_type": "code",
   "execution_count": 121,
   "id": "5efa04af",
   "metadata": {},
   "outputs": [
    {
     "data": {
      "text/plain": [
       "0.0"
      ]
     },
     "execution_count": 121,
     "metadata": {},
     "output_type": "execute_result"
    }
   ],
   "source": [
    "results.face_landmarks.landmark[0].visibility #la visibilidad de face_landmark siempre sera cero"
   ]
  },
  {
   "cell_type": "markdown",
   "id": "54d8925c",
   "metadata": {},
   "source": [
    "Numero de coordenadas que tendremos:"
   ]
  },
  {
   "cell_type": "code",
   "execution_count": 144,
   "id": "a0d1148f",
   "metadata": {},
   "outputs": [
    {
     "data": {
      "text/plain": [
       "132"
      ]
     },
     "execution_count": 144,
     "metadata": {},
     "output_type": "execute_result"
    }
   ],
   "source": [
    "pose_row = list(np.array([[landmark.x, landmark.y, landmark.z, landmark.visibility] for landmark in pose]).flatten())\n",
    "len(pose_row) #132\n"
   ]
  },
  {
   "cell_type": "code",
   "execution_count": 157,
   "id": "ac6e925e",
   "metadata": {},
   "outputs": [
    {
     "data": {
      "text/plain": [
       "1872"
      ]
     },
     "execution_count": 157,
     "metadata": {},
     "output_type": "execute_result"
    }
   ],
   "source": [
    "face_row = list(np.array([[landmark.x, landmark.y, landmark.z, landmark.visibility] for landmark in face]).flatten())\n",
    "len(face_row)"
   ]
  },
  {
   "cell_type": "code",
   "execution_count": 146,
   "id": "0eaf1503",
   "metadata": {},
   "outputs": [
    {
     "data": {
      "text/plain": [
       "2004"
      ]
     },
     "execution_count": 146,
     "metadata": {},
     "output_type": "execute_result"
    }
   ],
   "source": [
    "row=pose_row+face_row #total de coordenadas deberia de ser 2004\n",
    "len(row)\n"
   ]
  },
  {
   "cell_type": "code",
   "execution_count": 148,
   "id": "096d7d1c",
   "metadata": {},
   "outputs": [
    {
     "data": {
      "text/plain": [
       "2005"
      ]
     },
     "execution_count": 148,
     "metadata": {},
     "output_type": "execute_result"
    }
   ],
   "source": [
    "1+501*4"
   ]
  },
  {
   "cell_type": "code",
   "execution_count": 147,
   "id": "5400a813",
   "metadata": {},
   "outputs": [
    {
     "data": {
      "text/plain": [
       "2005"
      ]
     },
     "execution_count": 147,
     "metadata": {},
     "output_type": "execute_result"
    }
   ],
   "source": [
    "row.insert(0, class_name) #agregar el nombre de la clase (pose)\n",
    "len(row) #1+501*4 class_name, landmarks, header (x,y,z,visibility)"
   ]
  },
  {
   "cell_type": "markdown",
   "id": "cf98267a",
   "metadata": {},
   "source": [
    "## 4. Entrenar modelo usando Scikit Learn"
   ]
  },
  {
   "cell_type": "markdown",
   "id": "978de101",
   "metadata": {},
   "source": [
    "### Leer y recolectar datos"
   ]
  },
  {
   "cell_type": "code",
   "execution_count": 158,
   "id": "8b1f0b43",
   "metadata": {},
   "outputs": [],
   "source": [
    "import pandas as pd\n",
    "from sklearn.model_selection import train_test_split"
   ]
  },
  {
   "cell_type": "code",
   "execution_count": 159,
   "id": "8a945a78",
   "metadata": {},
   "outputs": [],
   "source": [
    "df = pd.read_csv('coords.csv')"
   ]
  },
  {
   "cell_type": "code",
   "execution_count": 161,
   "id": "61a6170f",
   "metadata": {},
   "outputs": [
    {
     "data": {
      "text/html": [
       "<div>\n",
       "<style scoped>\n",
       "    .dataframe tbody tr th:only-of-type {\n",
       "        vertical-align: middle;\n",
       "    }\n",
       "\n",
       "    .dataframe tbody tr th {\n",
       "        vertical-align: top;\n",
       "    }\n",
       "\n",
       "    .dataframe thead th {\n",
       "        text-align: right;\n",
       "    }\n",
       "</style>\n",
       "<table border=\"1\" class=\"dataframe\">\n",
       "  <thead>\n",
       "    <tr style=\"text-align: right;\">\n",
       "      <th></th>\n",
       "      <th>class</th>\n",
       "      <th>x1</th>\n",
       "      <th>y1</th>\n",
       "      <th>z1</th>\n",
       "      <th>v1</th>\n",
       "      <th>x2</th>\n",
       "      <th>y2</th>\n",
       "      <th>z2</th>\n",
       "      <th>v2</th>\n",
       "      <th>x3</th>\n",
       "      <th>...</th>\n",
       "      <th>z499</th>\n",
       "      <th>v499</th>\n",
       "      <th>x500</th>\n",
       "      <th>y500</th>\n",
       "      <th>z500</th>\n",
       "      <th>v500</th>\n",
       "      <th>x501</th>\n",
       "      <th>y501</th>\n",
       "      <th>z501</th>\n",
       "      <th>v501</th>\n",
       "    </tr>\n",
       "  </thead>\n",
       "  <tbody>\n",
       "    <tr>\n",
       "      <th>0</th>\n",
       "      <td>Buuieeen</td>\n",
       "      <td>0.530443</td>\n",
       "      <td>0.256885</td>\n",
       "      <td>-0.653312</td>\n",
       "      <td>0.999986</td>\n",
       "      <td>0.559472</td>\n",
       "      <td>0.183092</td>\n",
       "      <td>-0.591619</td>\n",
       "      <td>0.999977</td>\n",
       "      <td>0.577272</td>\n",
       "      <td>...</td>\n",
       "      <td>0.003441</td>\n",
       "      <td>0.0</td>\n",
       "      <td>0.577638</td>\n",
       "      <td>0.191048</td>\n",
       "      <td>0.022638</td>\n",
       "      <td>0.0</td>\n",
       "      <td>0.582679</td>\n",
       "      <td>0.182326</td>\n",
       "      <td>0.023350</td>\n",
       "      <td>0.0</td>\n",
       "    </tr>\n",
       "    <tr>\n",
       "      <th>1</th>\n",
       "      <td>Bieeen</td>\n",
       "      <td>0.527919</td>\n",
       "      <td>0.270350</td>\n",
       "      <td>-0.671225</td>\n",
       "      <td>0.999984</td>\n",
       "      <td>0.555597</td>\n",
       "      <td>0.191837</td>\n",
       "      <td>-0.610291</td>\n",
       "      <td>0.999974</td>\n",
       "      <td>0.572588</td>\n",
       "      <td>...</td>\n",
       "      <td>0.000889</td>\n",
       "      <td>0.0</td>\n",
       "      <td>0.575438</td>\n",
       "      <td>0.192714</td>\n",
       "      <td>0.018138</td>\n",
       "      <td>0.0</td>\n",
       "      <td>0.580191</td>\n",
       "      <td>0.184997</td>\n",
       "      <td>0.018685</td>\n",
       "      <td>0.0</td>\n",
       "    </tr>\n",
       "    <tr>\n",
       "      <th>2</th>\n",
       "      <td>Bieeen</td>\n",
       "      <td>0.526927</td>\n",
       "      <td>0.269982</td>\n",
       "      <td>-0.686023</td>\n",
       "      <td>0.999982</td>\n",
       "      <td>0.554501</td>\n",
       "      <td>0.191207</td>\n",
       "      <td>-0.624949</td>\n",
       "      <td>0.999969</td>\n",
       "      <td>0.571297</td>\n",
       "      <td>...</td>\n",
       "      <td>0.002067</td>\n",
       "      <td>0.0</td>\n",
       "      <td>0.574890</td>\n",
       "      <td>0.188843</td>\n",
       "      <td>0.020768</td>\n",
       "      <td>0.0</td>\n",
       "      <td>0.579669</td>\n",
       "      <td>0.182104</td>\n",
       "      <td>0.021323</td>\n",
       "      <td>0.0</td>\n",
       "    </tr>\n",
       "    <tr>\n",
       "      <th>3</th>\n",
       "      <td>Bieeen</td>\n",
       "      <td>0.526678</td>\n",
       "      <td>0.269773</td>\n",
       "      <td>-0.686642</td>\n",
       "      <td>0.999981</td>\n",
       "      <td>0.554088</td>\n",
       "      <td>0.190821</td>\n",
       "      <td>-0.628925</td>\n",
       "      <td>0.999967</td>\n",
       "      <td>0.570879</td>\n",
       "      <td>...</td>\n",
       "      <td>0.002285</td>\n",
       "      <td>0.0</td>\n",
       "      <td>0.575821</td>\n",
       "      <td>0.186804</td>\n",
       "      <td>0.020908</td>\n",
       "      <td>0.0</td>\n",
       "      <td>0.580568</td>\n",
       "      <td>0.179891</td>\n",
       "      <td>0.021366</td>\n",
       "      <td>0.0</td>\n",
       "    </tr>\n",
       "    <tr>\n",
       "      <th>4</th>\n",
       "      <td>Bieeen</td>\n",
       "      <td>0.525802</td>\n",
       "      <td>0.269881</td>\n",
       "      <td>-0.776611</td>\n",
       "      <td>0.999976</td>\n",
       "      <td>0.552998</td>\n",
       "      <td>0.191072</td>\n",
       "      <td>-0.715791</td>\n",
       "      <td>0.999958</td>\n",
       "      <td>0.569570</td>\n",
       "      <td>...</td>\n",
       "      <td>0.001017</td>\n",
       "      <td>0.0</td>\n",
       "      <td>0.574593</td>\n",
       "      <td>0.188575</td>\n",
       "      <td>0.019574</td>\n",
       "      <td>0.0</td>\n",
       "      <td>0.579291</td>\n",
       "      <td>0.181415</td>\n",
       "      <td>0.020120</td>\n",
       "      <td>0.0</td>\n",
       "    </tr>\n",
       "  </tbody>\n",
       "</table>\n",
       "<p>5 rows × 2005 columns</p>\n",
       "</div>"
      ],
      "text/plain": [
       "      class        x1        y1        z1        v1        x2        y2  \\\n",
       "0  Buuieeen  0.530443  0.256885 -0.653312  0.999986  0.559472  0.183092   \n",
       "1    Bieeen  0.527919  0.270350 -0.671225  0.999984  0.555597  0.191837   \n",
       "2    Bieeen  0.526927  0.269982 -0.686023  0.999982  0.554501  0.191207   \n",
       "3    Bieeen  0.526678  0.269773 -0.686642  0.999981  0.554088  0.190821   \n",
       "4    Bieeen  0.525802  0.269881 -0.776611  0.999976  0.552998  0.191072   \n",
       "\n",
       "         z2        v2        x3  ...      z499  v499      x500      y500  \\\n",
       "0 -0.591619  0.999977  0.577272  ...  0.003441   0.0  0.577638  0.191048   \n",
       "1 -0.610291  0.999974  0.572588  ...  0.000889   0.0  0.575438  0.192714   \n",
       "2 -0.624949  0.999969  0.571297  ...  0.002067   0.0  0.574890  0.188843   \n",
       "3 -0.628925  0.999967  0.570879  ...  0.002285   0.0  0.575821  0.186804   \n",
       "4 -0.715791  0.999958  0.569570  ...  0.001017   0.0  0.574593  0.188575   \n",
       "\n",
       "       z500  v500      x501      y501      z501  v501  \n",
       "0  0.022638   0.0  0.582679  0.182326  0.023350   0.0  \n",
       "1  0.018138   0.0  0.580191  0.184997  0.018685   0.0  \n",
       "2  0.020768   0.0  0.579669  0.182104  0.021323   0.0  \n",
       "3  0.020908   0.0  0.580568  0.179891  0.021366   0.0  \n",
       "4  0.019574   0.0  0.579291  0.181415  0.020120   0.0  \n",
       "\n",
       "[5 rows x 2005 columns]"
      ]
     },
     "execution_count": 161,
     "metadata": {},
     "output_type": "execute_result"
    }
   ],
   "source": [
    "df.head()"
   ]
  },
  {
   "cell_type": "code",
   "execution_count": 162,
   "id": "d03794bd",
   "metadata": {},
   "outputs": [
    {
     "data": {
      "text/html": [
       "<div>\n",
       "<style scoped>\n",
       "    .dataframe tbody tr th:only-of-type {\n",
       "        vertical-align: middle;\n",
       "    }\n",
       "\n",
       "    .dataframe tbody tr th {\n",
       "        vertical-align: top;\n",
       "    }\n",
       "\n",
       "    .dataframe thead th {\n",
       "        text-align: right;\n",
       "    }\n",
       "</style>\n",
       "<table border=\"1\" class=\"dataframe\">\n",
       "  <thead>\n",
       "    <tr style=\"text-align: right;\">\n",
       "      <th></th>\n",
       "      <th>class</th>\n",
       "      <th>x1</th>\n",
       "      <th>y1</th>\n",
       "      <th>z1</th>\n",
       "      <th>v1</th>\n",
       "      <th>x2</th>\n",
       "      <th>y2</th>\n",
       "      <th>z2</th>\n",
       "      <th>v2</th>\n",
       "      <th>x3</th>\n",
       "      <th>...</th>\n",
       "      <th>z499</th>\n",
       "      <th>v499</th>\n",
       "      <th>x500</th>\n",
       "      <th>y500</th>\n",
       "      <th>z500</th>\n",
       "      <th>v500</th>\n",
       "      <th>x501</th>\n",
       "      <th>y501</th>\n",
       "      <th>z501</th>\n",
       "      <th>v501</th>\n",
       "    </tr>\n",
       "  </thead>\n",
       "  <tbody>\n",
       "    <tr>\n",
       "      <th>542</th>\n",
       "      <td>Buuu que mal</td>\n",
       "      <td>0.561161</td>\n",
       "      <td>0.312676</td>\n",
       "      <td>-0.954139</td>\n",
       "      <td>0.999895</td>\n",
       "      <td>0.585262</td>\n",
       "      <td>0.240363</td>\n",
       "      <td>-0.879301</td>\n",
       "      <td>0.999777</td>\n",
       "      <td>0.600595</td>\n",
       "      <td>...</td>\n",
       "      <td>0.002703</td>\n",
       "      <td>0.0</td>\n",
       "      <td>0.612643</td>\n",
       "      <td>0.256506</td>\n",
       "      <td>0.021253</td>\n",
       "      <td>0.0</td>\n",
       "      <td>0.617767</td>\n",
       "      <td>0.247276</td>\n",
       "      <td>0.021986</td>\n",
       "      <td>0.0</td>\n",
       "    </tr>\n",
       "    <tr>\n",
       "      <th>543</th>\n",
       "      <td>Buuu que mal</td>\n",
       "      <td>0.561202</td>\n",
       "      <td>0.313547</td>\n",
       "      <td>-1.004511</td>\n",
       "      <td>0.999883</td>\n",
       "      <td>0.585302</td>\n",
       "      <td>0.240690</td>\n",
       "      <td>-0.925527</td>\n",
       "      <td>0.999742</td>\n",
       "      <td>0.600615</td>\n",
       "      <td>...</td>\n",
       "      <td>0.002702</td>\n",
       "      <td>0.0</td>\n",
       "      <td>0.616873</td>\n",
       "      <td>0.256113</td>\n",
       "      <td>0.021999</td>\n",
       "      <td>0.0</td>\n",
       "      <td>0.621815</td>\n",
       "      <td>0.247989</td>\n",
       "      <td>0.022703</td>\n",
       "      <td>0.0</td>\n",
       "    </tr>\n",
       "    <tr>\n",
       "      <th>544</th>\n",
       "      <td>Buuu que mal</td>\n",
       "      <td>0.564997</td>\n",
       "      <td>0.315829</td>\n",
       "      <td>-0.923724</td>\n",
       "      <td>0.999874</td>\n",
       "      <td>0.587699</td>\n",
       "      <td>0.241852</td>\n",
       "      <td>-0.852775</td>\n",
       "      <td>0.999715</td>\n",
       "      <td>0.603202</td>\n",
       "      <td>...</td>\n",
       "      <td>0.003340</td>\n",
       "      <td>0.0</td>\n",
       "      <td>0.620147</td>\n",
       "      <td>0.253019</td>\n",
       "      <td>0.022850</td>\n",
       "      <td>0.0</td>\n",
       "      <td>0.625026</td>\n",
       "      <td>0.244550</td>\n",
       "      <td>0.023674</td>\n",
       "      <td>0.0</td>\n",
       "    </tr>\n",
       "    <tr>\n",
       "      <th>545</th>\n",
       "      <td>Buuu que mal</td>\n",
       "      <td>0.570446</td>\n",
       "      <td>0.317763</td>\n",
       "      <td>-0.891257</td>\n",
       "      <td>0.999865</td>\n",
       "      <td>0.592185</td>\n",
       "      <td>0.243242</td>\n",
       "      <td>-0.811182</td>\n",
       "      <td>0.999696</td>\n",
       "      <td>0.608082</td>\n",
       "      <td>...</td>\n",
       "      <td>0.002278</td>\n",
       "      <td>0.0</td>\n",
       "      <td>0.621281</td>\n",
       "      <td>0.251643</td>\n",
       "      <td>0.021229</td>\n",
       "      <td>0.0</td>\n",
       "      <td>0.626135</td>\n",
       "      <td>0.244106</td>\n",
       "      <td>0.021871</td>\n",
       "      <td>0.0</td>\n",
       "    </tr>\n",
       "    <tr>\n",
       "      <th>546</th>\n",
       "      <td>Buuu que mal</td>\n",
       "      <td>0.573943</td>\n",
       "      <td>0.318654</td>\n",
       "      <td>-0.850759</td>\n",
       "      <td>0.999865</td>\n",
       "      <td>0.594787</td>\n",
       "      <td>0.243582</td>\n",
       "      <td>-0.771189</td>\n",
       "      <td>0.999693</td>\n",
       "      <td>0.610638</td>\n",
       "      <td>...</td>\n",
       "      <td>0.002614</td>\n",
       "      <td>0.0</td>\n",
       "      <td>0.622002</td>\n",
       "      <td>0.249436</td>\n",
       "      <td>0.022121</td>\n",
       "      <td>0.0</td>\n",
       "      <td>0.626846</td>\n",
       "      <td>0.241835</td>\n",
       "      <td>0.022813</td>\n",
       "      <td>0.0</td>\n",
       "    </tr>\n",
       "  </tbody>\n",
       "</table>\n",
       "<p>5 rows × 2005 columns</p>\n",
       "</div>"
      ],
      "text/plain": [
       "            class        x1        y1        z1        v1        x2        y2  \\\n",
       "542  Buuu que mal  0.561161  0.312676 -0.954139  0.999895  0.585262  0.240363   \n",
       "543  Buuu que mal  0.561202  0.313547 -1.004511  0.999883  0.585302  0.240690   \n",
       "544  Buuu que mal  0.564997  0.315829 -0.923724  0.999874  0.587699  0.241852   \n",
       "545  Buuu que mal  0.570446  0.317763 -0.891257  0.999865  0.592185  0.243242   \n",
       "546  Buuu que mal  0.573943  0.318654 -0.850759  0.999865  0.594787  0.243582   \n",
       "\n",
       "           z2        v2        x3  ...      z499  v499      x500      y500  \\\n",
       "542 -0.879301  0.999777  0.600595  ...  0.002703   0.0  0.612643  0.256506   \n",
       "543 -0.925527  0.999742  0.600615  ...  0.002702   0.0  0.616873  0.256113   \n",
       "544 -0.852775  0.999715  0.603202  ...  0.003340   0.0  0.620147  0.253019   \n",
       "545 -0.811182  0.999696  0.608082  ...  0.002278   0.0  0.621281  0.251643   \n",
       "546 -0.771189  0.999693  0.610638  ...  0.002614   0.0  0.622002  0.249436   \n",
       "\n",
       "         z500  v500      x501      y501      z501  v501  \n",
       "542  0.021253   0.0  0.617767  0.247276  0.021986   0.0  \n",
       "543  0.021999   0.0  0.621815  0.247989  0.022703   0.0  \n",
       "544  0.022850   0.0  0.625026  0.244550  0.023674   0.0  \n",
       "545  0.021229   0.0  0.626135  0.244106  0.021871   0.0  \n",
       "546  0.022121   0.0  0.626846  0.241835  0.022813   0.0  \n",
       "\n",
       "[5 rows x 2005 columns]"
      ]
     },
     "execution_count": 162,
     "metadata": {},
     "output_type": "execute_result"
    }
   ],
   "source": [
    "df.tail()"
   ]
  },
  {
   "cell_type": "code",
   "execution_count": 165,
   "id": "ef6f2b99",
   "metadata": {},
   "outputs": [
    {
     "data": {
      "text/html": [
       "<div>\n",
       "<style scoped>\n",
       "    .dataframe tbody tr th:only-of-type {\n",
       "        vertical-align: middle;\n",
       "    }\n",
       "\n",
       "    .dataframe tbody tr th {\n",
       "        vertical-align: top;\n",
       "    }\n",
       "\n",
       "    .dataframe thead th {\n",
       "        text-align: right;\n",
       "    }\n",
       "</style>\n",
       "<table border=\"1\" class=\"dataframe\">\n",
       "  <thead>\n",
       "    <tr style=\"text-align: right;\">\n",
       "      <th></th>\n",
       "      <th>class</th>\n",
       "      <th>x1</th>\n",
       "      <th>y1</th>\n",
       "      <th>z1</th>\n",
       "      <th>v1</th>\n",
       "      <th>x2</th>\n",
       "      <th>y2</th>\n",
       "      <th>z2</th>\n",
       "      <th>v2</th>\n",
       "      <th>x3</th>\n",
       "      <th>...</th>\n",
       "      <th>z499</th>\n",
       "      <th>v499</th>\n",
       "      <th>x500</th>\n",
       "      <th>y500</th>\n",
       "      <th>z500</th>\n",
       "      <th>v500</th>\n",
       "      <th>x501</th>\n",
       "      <th>y501</th>\n",
       "      <th>z501</th>\n",
       "      <th>v501</th>\n",
       "    </tr>\n",
       "  </thead>\n",
       "  <tbody>\n",
       "    <tr>\n",
       "      <th>1</th>\n",
       "      <td>Bieeen</td>\n",
       "      <td>0.527919</td>\n",
       "      <td>0.270350</td>\n",
       "      <td>-0.671225</td>\n",
       "      <td>0.999984</td>\n",
       "      <td>0.555597</td>\n",
       "      <td>0.191837</td>\n",
       "      <td>-0.610291</td>\n",
       "      <td>0.999974</td>\n",
       "      <td>0.572588</td>\n",
       "      <td>...</td>\n",
       "      <td>0.000889</td>\n",
       "      <td>0.0</td>\n",
       "      <td>0.575438</td>\n",
       "      <td>0.192714</td>\n",
       "      <td>0.018138</td>\n",
       "      <td>0.0</td>\n",
       "      <td>0.580191</td>\n",
       "      <td>0.184997</td>\n",
       "      <td>0.018685</td>\n",
       "      <td>0.0</td>\n",
       "    </tr>\n",
       "    <tr>\n",
       "      <th>2</th>\n",
       "      <td>Bieeen</td>\n",
       "      <td>0.526927</td>\n",
       "      <td>0.269982</td>\n",
       "      <td>-0.686023</td>\n",
       "      <td>0.999982</td>\n",
       "      <td>0.554501</td>\n",
       "      <td>0.191207</td>\n",
       "      <td>-0.624949</td>\n",
       "      <td>0.999969</td>\n",
       "      <td>0.571297</td>\n",
       "      <td>...</td>\n",
       "      <td>0.002067</td>\n",
       "      <td>0.0</td>\n",
       "      <td>0.574890</td>\n",
       "      <td>0.188843</td>\n",
       "      <td>0.020768</td>\n",
       "      <td>0.0</td>\n",
       "      <td>0.579669</td>\n",
       "      <td>0.182104</td>\n",
       "      <td>0.021323</td>\n",
       "      <td>0.0</td>\n",
       "    </tr>\n",
       "    <tr>\n",
       "      <th>3</th>\n",
       "      <td>Bieeen</td>\n",
       "      <td>0.526678</td>\n",
       "      <td>0.269773</td>\n",
       "      <td>-0.686642</td>\n",
       "      <td>0.999981</td>\n",
       "      <td>0.554088</td>\n",
       "      <td>0.190821</td>\n",
       "      <td>-0.628925</td>\n",
       "      <td>0.999967</td>\n",
       "      <td>0.570879</td>\n",
       "      <td>...</td>\n",
       "      <td>0.002285</td>\n",
       "      <td>0.0</td>\n",
       "      <td>0.575821</td>\n",
       "      <td>0.186804</td>\n",
       "      <td>0.020908</td>\n",
       "      <td>0.0</td>\n",
       "      <td>0.580568</td>\n",
       "      <td>0.179891</td>\n",
       "      <td>0.021366</td>\n",
       "      <td>0.0</td>\n",
       "    </tr>\n",
       "    <tr>\n",
       "      <th>4</th>\n",
       "      <td>Bieeen</td>\n",
       "      <td>0.525802</td>\n",
       "      <td>0.269881</td>\n",
       "      <td>-0.776611</td>\n",
       "      <td>0.999976</td>\n",
       "      <td>0.552998</td>\n",
       "      <td>0.191072</td>\n",
       "      <td>-0.715791</td>\n",
       "      <td>0.999958</td>\n",
       "      <td>0.569570</td>\n",
       "      <td>...</td>\n",
       "      <td>0.001017</td>\n",
       "      <td>0.0</td>\n",
       "      <td>0.574593</td>\n",
       "      <td>0.188575</td>\n",
       "      <td>0.019574</td>\n",
       "      <td>0.0</td>\n",
       "      <td>0.579291</td>\n",
       "      <td>0.181415</td>\n",
       "      <td>0.020120</td>\n",
       "      <td>0.0</td>\n",
       "    </tr>\n",
       "    <tr>\n",
       "      <th>5</th>\n",
       "      <td>Bieeen</td>\n",
       "      <td>0.524074</td>\n",
       "      <td>0.269810</td>\n",
       "      <td>-0.796441</td>\n",
       "      <td>0.999970</td>\n",
       "      <td>0.551455</td>\n",
       "      <td>0.191224</td>\n",
       "      <td>-0.731950</td>\n",
       "      <td>0.999950</td>\n",
       "      <td>0.567993</td>\n",
       "      <td>...</td>\n",
       "      <td>0.003378</td>\n",
       "      <td>0.0</td>\n",
       "      <td>0.574250</td>\n",
       "      <td>0.191542</td>\n",
       "      <td>0.022691</td>\n",
       "      <td>0.0</td>\n",
       "      <td>0.579120</td>\n",
       "      <td>0.183588</td>\n",
       "      <td>0.023304</td>\n",
       "      <td>0.0</td>\n",
       "    </tr>\n",
       "    <tr>\n",
       "      <th>...</th>\n",
       "      <td>...</td>\n",
       "      <td>...</td>\n",
       "      <td>...</td>\n",
       "      <td>...</td>\n",
       "      <td>...</td>\n",
       "      <td>...</td>\n",
       "      <td>...</td>\n",
       "      <td>...</td>\n",
       "      <td>...</td>\n",
       "      <td>...</td>\n",
       "      <td>...</td>\n",
       "      <td>...</td>\n",
       "      <td>...</td>\n",
       "      <td>...</td>\n",
       "      <td>...</td>\n",
       "      <td>...</td>\n",
       "      <td>...</td>\n",
       "      <td>...</td>\n",
       "      <td>...</td>\n",
       "      <td>...</td>\n",
       "      <td>...</td>\n",
       "    </tr>\n",
       "    <tr>\n",
       "      <th>332</th>\n",
       "      <td>Bieeen</td>\n",
       "      <td>0.502346</td>\n",
       "      <td>0.364458</td>\n",
       "      <td>-0.711878</td>\n",
       "      <td>0.999970</td>\n",
       "      <td>0.523844</td>\n",
       "      <td>0.285156</td>\n",
       "      <td>-0.645986</td>\n",
       "      <td>0.999950</td>\n",
       "      <td>0.538261</td>\n",
       "      <td>...</td>\n",
       "      <td>0.000084</td>\n",
       "      <td>0.0</td>\n",
       "      <td>0.568144</td>\n",
       "      <td>0.287267</td>\n",
       "      <td>0.020360</td>\n",
       "      <td>0.0</td>\n",
       "      <td>0.573151</td>\n",
       "      <td>0.280079</td>\n",
       "      <td>0.021128</td>\n",
       "      <td>0.0</td>\n",
       "    </tr>\n",
       "    <tr>\n",
       "      <th>333</th>\n",
       "      <td>Bieeen</td>\n",
       "      <td>0.504117</td>\n",
       "      <td>0.367366</td>\n",
       "      <td>-0.690439</td>\n",
       "      <td>0.999969</td>\n",
       "      <td>0.525992</td>\n",
       "      <td>0.288800</td>\n",
       "      <td>-0.626301</td>\n",
       "      <td>0.999947</td>\n",
       "      <td>0.540995</td>\n",
       "      <td>...</td>\n",
       "      <td>0.000711</td>\n",
       "      <td>0.0</td>\n",
       "      <td>0.572651</td>\n",
       "      <td>0.290650</td>\n",
       "      <td>0.022053</td>\n",
       "      <td>0.0</td>\n",
       "      <td>0.578006</td>\n",
       "      <td>0.282941</td>\n",
       "      <td>0.022980</td>\n",
       "      <td>0.0</td>\n",
       "    </tr>\n",
       "    <tr>\n",
       "      <th>334</th>\n",
       "      <td>Bieeen</td>\n",
       "      <td>0.504405</td>\n",
       "      <td>0.366832</td>\n",
       "      <td>-0.775375</td>\n",
       "      <td>0.999964</td>\n",
       "      <td>0.526557</td>\n",
       "      <td>0.287651</td>\n",
       "      <td>-0.712337</td>\n",
       "      <td>0.999936</td>\n",
       "      <td>0.541663</td>\n",
       "      <td>...</td>\n",
       "      <td>0.001722</td>\n",
       "      <td>0.0</td>\n",
       "      <td>0.570707</td>\n",
       "      <td>0.279155</td>\n",
       "      <td>0.022135</td>\n",
       "      <td>0.0</td>\n",
       "      <td>0.576245</td>\n",
       "      <td>0.269708</td>\n",
       "      <td>0.023198</td>\n",
       "      <td>0.0</td>\n",
       "    </tr>\n",
       "    <tr>\n",
       "      <th>335</th>\n",
       "      <td>Bieeen</td>\n",
       "      <td>0.504425</td>\n",
       "      <td>0.360905</td>\n",
       "      <td>-0.769675</td>\n",
       "      <td>0.999963</td>\n",
       "      <td>0.527333</td>\n",
       "      <td>0.283022</td>\n",
       "      <td>-0.703782</td>\n",
       "      <td>0.999935</td>\n",
       "      <td>0.542733</td>\n",
       "      <td>...</td>\n",
       "      <td>0.000002</td>\n",
       "      <td>0.0</td>\n",
       "      <td>0.569716</td>\n",
       "      <td>0.265240</td>\n",
       "      <td>0.020307</td>\n",
       "      <td>0.0</td>\n",
       "      <td>0.575013</td>\n",
       "      <td>0.256650</td>\n",
       "      <td>0.021239</td>\n",
       "      <td>0.0</td>\n",
       "    </tr>\n",
       "    <tr>\n",
       "      <th>336</th>\n",
       "      <td>Bieeen</td>\n",
       "      <td>0.504749</td>\n",
       "      <td>0.358122</td>\n",
       "      <td>-0.785410</td>\n",
       "      <td>0.999960</td>\n",
       "      <td>0.528486</td>\n",
       "      <td>0.281024</td>\n",
       "      <td>-0.717480</td>\n",
       "      <td>0.999927</td>\n",
       "      <td>0.543921</td>\n",
       "      <td>...</td>\n",
       "      <td>-0.001100</td>\n",
       "      <td>0.0</td>\n",
       "      <td>0.568778</td>\n",
       "      <td>0.259204</td>\n",
       "      <td>0.019351</td>\n",
       "      <td>0.0</td>\n",
       "      <td>0.573868</td>\n",
       "      <td>0.252160</td>\n",
       "      <td>0.020115</td>\n",
       "      <td>0.0</td>\n",
       "    </tr>\n",
       "  </tbody>\n",
       "</table>\n",
       "<p>336 rows × 2005 columns</p>\n",
       "</div>"
      ],
      "text/plain": [
       "      class        x1        y1        z1        v1        x2        y2  \\\n",
       "1    Bieeen  0.527919  0.270350 -0.671225  0.999984  0.555597  0.191837   \n",
       "2    Bieeen  0.526927  0.269982 -0.686023  0.999982  0.554501  0.191207   \n",
       "3    Bieeen  0.526678  0.269773 -0.686642  0.999981  0.554088  0.190821   \n",
       "4    Bieeen  0.525802  0.269881 -0.776611  0.999976  0.552998  0.191072   \n",
       "5    Bieeen  0.524074  0.269810 -0.796441  0.999970  0.551455  0.191224   \n",
       "..      ...       ...       ...       ...       ...       ...       ...   \n",
       "332  Bieeen  0.502346  0.364458 -0.711878  0.999970  0.523844  0.285156   \n",
       "333  Bieeen  0.504117  0.367366 -0.690439  0.999969  0.525992  0.288800   \n",
       "334  Bieeen  0.504405  0.366832 -0.775375  0.999964  0.526557  0.287651   \n",
       "335  Bieeen  0.504425  0.360905 -0.769675  0.999963  0.527333  0.283022   \n",
       "336  Bieeen  0.504749  0.358122 -0.785410  0.999960  0.528486  0.281024   \n",
       "\n",
       "           z2        v2        x3  ...      z499  v499      x500      y500  \\\n",
       "1   -0.610291  0.999974  0.572588  ...  0.000889   0.0  0.575438  0.192714   \n",
       "2   -0.624949  0.999969  0.571297  ...  0.002067   0.0  0.574890  0.188843   \n",
       "3   -0.628925  0.999967  0.570879  ...  0.002285   0.0  0.575821  0.186804   \n",
       "4   -0.715791  0.999958  0.569570  ...  0.001017   0.0  0.574593  0.188575   \n",
       "5   -0.731950  0.999950  0.567993  ...  0.003378   0.0  0.574250  0.191542   \n",
       "..        ...       ...       ...  ...       ...   ...       ...       ...   \n",
       "332 -0.645986  0.999950  0.538261  ...  0.000084   0.0  0.568144  0.287267   \n",
       "333 -0.626301  0.999947  0.540995  ...  0.000711   0.0  0.572651  0.290650   \n",
       "334 -0.712337  0.999936  0.541663  ...  0.001722   0.0  0.570707  0.279155   \n",
       "335 -0.703782  0.999935  0.542733  ...  0.000002   0.0  0.569716  0.265240   \n",
       "336 -0.717480  0.999927  0.543921  ... -0.001100   0.0  0.568778  0.259204   \n",
       "\n",
       "         z500  v500      x501      y501      z501  v501  \n",
       "1    0.018138   0.0  0.580191  0.184997  0.018685   0.0  \n",
       "2    0.020768   0.0  0.579669  0.182104  0.021323   0.0  \n",
       "3    0.020908   0.0  0.580568  0.179891  0.021366   0.0  \n",
       "4    0.019574   0.0  0.579291  0.181415  0.020120   0.0  \n",
       "5    0.022691   0.0  0.579120  0.183588  0.023304   0.0  \n",
       "..        ...   ...       ...       ...       ...   ...  \n",
       "332  0.020360   0.0  0.573151  0.280079  0.021128   0.0  \n",
       "333  0.022053   0.0  0.578006  0.282941  0.022980   0.0  \n",
       "334  0.022135   0.0  0.576245  0.269708  0.023198   0.0  \n",
       "335  0.020307   0.0  0.575013  0.256650  0.021239   0.0  \n",
       "336  0.019351   0.0  0.573868  0.252160  0.020115   0.0  \n",
       "\n",
       "[336 rows x 2005 columns]"
      ]
     },
     "execution_count": 165,
     "metadata": {},
     "output_type": "execute_result"
    }
   ],
   "source": [
    "df[df['class']=='Bieeen']"
   ]
  },
  {
   "cell_type": "markdown",
   "id": "3b0ed234",
   "metadata": {},
   "source": [
    "x, y, z son las caracteristicas que le pasaremos al modelo para entrenarlo.\n",
    "La idea es que se pasen esas coordenadas y el modelo pueda predecir que clase es (pose)"
   ]
  },
  {
   "cell_type": "code",
   "execution_count": 167,
   "id": "4f83ab93",
   "metadata": {},
   "outputs": [],
   "source": [
    "X = df.drop('class', axis=1) # coordenadas\n",
    "y = df['class'] # clase"
   ]
  },
  {
   "cell_type": "code",
   "execution_count": 172,
   "id": "b6511b6b",
   "metadata": {},
   "outputs": [
    {
     "data": {
      "text/plain": [
       "0          Buuieeen\n",
       "1            Bieeen\n",
       "2            Bieeen\n",
       "3            Bieeen\n",
       "4            Bieeen\n",
       "           ...     \n",
       "542    Buuu que mal\n",
       "543    Buuu que mal\n",
       "544    Buuu que mal\n",
       "545    Buuu que mal\n",
       "546    Buuu que mal\n",
       "Name: class, Length: 547, dtype: object"
      ]
     },
     "execution_count": 172,
     "metadata": {},
     "output_type": "execute_result"
    }
   ],
   "source": [
    "y #X = coords , y = class"
   ]
  },
  {
   "cell_type": "code",
   "execution_count": 173,
   "id": "c4b2e4db",
   "metadata": {},
   "outputs": [],
   "source": [
    "X_train, X_test, y_train, y_test = train_test_split(X, y, test_size=0.3, random_state=1234)"
   ]
  },
  {
   "cell_type": "code",
   "execution_count": 174,
   "id": "91c25616",
   "metadata": {},
   "outputs": [
    {
     "data": {
      "text/html": [
       "<div>\n",
       "<style scoped>\n",
       "    .dataframe tbody tr th:only-of-type {\n",
       "        vertical-align: middle;\n",
       "    }\n",
       "\n",
       "    .dataframe tbody tr th {\n",
       "        vertical-align: top;\n",
       "    }\n",
       "\n",
       "    .dataframe thead th {\n",
       "        text-align: right;\n",
       "    }\n",
       "</style>\n",
       "<table border=\"1\" class=\"dataframe\">\n",
       "  <thead>\n",
       "    <tr style=\"text-align: right;\">\n",
       "      <th></th>\n",
       "      <th>x1</th>\n",
       "      <th>y1</th>\n",
       "      <th>z1</th>\n",
       "      <th>v1</th>\n",
       "      <th>x2</th>\n",
       "      <th>y2</th>\n",
       "      <th>z2</th>\n",
       "      <th>v2</th>\n",
       "      <th>x3</th>\n",
       "      <th>y3</th>\n",
       "      <th>...</th>\n",
       "      <th>z499</th>\n",
       "      <th>v499</th>\n",
       "      <th>x500</th>\n",
       "      <th>y500</th>\n",
       "      <th>z500</th>\n",
       "      <th>v500</th>\n",
       "      <th>x501</th>\n",
       "      <th>y501</th>\n",
       "      <th>z501</th>\n",
       "      <th>v501</th>\n",
       "    </tr>\n",
       "  </thead>\n",
       "  <tbody>\n",
       "    <tr>\n",
       "      <th>444</th>\n",
       "      <td>0.607627</td>\n",
       "      <td>0.331788</td>\n",
       "      <td>-0.786915</td>\n",
       "      <td>0.999879</td>\n",
       "      <td>0.629459</td>\n",
       "      <td>0.266417</td>\n",
       "      <td>-0.717988</td>\n",
       "      <td>0.999843</td>\n",
       "      <td>0.644549</td>\n",
       "      <td>0.268743</td>\n",
       "      <td>...</td>\n",
       "      <td>0.001988</td>\n",
       "      <td>0.0</td>\n",
       "      <td>0.665968</td>\n",
       "      <td>0.260837</td>\n",
       "      <td>0.021296</td>\n",
       "      <td>0.0</td>\n",
       "      <td>0.670673</td>\n",
       "      <td>0.253972</td>\n",
       "      <td>0.021934</td>\n",
       "      <td>0.0</td>\n",
       "    </tr>\n",
       "    <tr>\n",
       "      <th>480</th>\n",
       "      <td>0.561522</td>\n",
       "      <td>0.337758</td>\n",
       "      <td>-0.722480</td>\n",
       "      <td>0.999941</td>\n",
       "      <td>0.583754</td>\n",
       "      <td>0.270509</td>\n",
       "      <td>-0.622497</td>\n",
       "      <td>0.999925</td>\n",
       "      <td>0.598792</td>\n",
       "      <td>0.271359</td>\n",
       "      <td>...</td>\n",
       "      <td>0.004055</td>\n",
       "      <td>0.0</td>\n",
       "      <td>0.608456</td>\n",
       "      <td>0.254144</td>\n",
       "      <td>0.021859</td>\n",
       "      <td>0.0</td>\n",
       "      <td>0.613111</td>\n",
       "      <td>0.245462</td>\n",
       "      <td>0.022605</td>\n",
       "      <td>0.0</td>\n",
       "    </tr>\n",
       "    <tr>\n",
       "      <th>134</th>\n",
       "      <td>0.505146</td>\n",
       "      <td>0.288510</td>\n",
       "      <td>-0.693865</td>\n",
       "      <td>0.999984</td>\n",
       "      <td>0.529100</td>\n",
       "      <td>0.220908</td>\n",
       "      <td>-0.624870</td>\n",
       "      <td>0.999972</td>\n",
       "      <td>0.543936</td>\n",
       "      <td>0.223276</td>\n",
       "      <td>...</td>\n",
       "      <td>0.002321</td>\n",
       "      <td>0.0</td>\n",
       "      <td>0.554203</td>\n",
       "      <td>0.209690</td>\n",
       "      <td>0.022227</td>\n",
       "      <td>0.0</td>\n",
       "      <td>0.558938</td>\n",
       "      <td>0.202911</td>\n",
       "      <td>0.022755</td>\n",
       "      <td>0.0</td>\n",
       "    </tr>\n",
       "    <tr>\n",
       "      <th>93</th>\n",
       "      <td>0.512465</td>\n",
       "      <td>0.361475</td>\n",
       "      <td>-0.661181</td>\n",
       "      <td>0.999947</td>\n",
       "      <td>0.533841</td>\n",
       "      <td>0.292627</td>\n",
       "      <td>-0.601996</td>\n",
       "      <td>0.999917</td>\n",
       "      <td>0.547602</td>\n",
       "      <td>0.292967</td>\n",
       "      <td>...</td>\n",
       "      <td>0.001359</td>\n",
       "      <td>0.0</td>\n",
       "      <td>0.565009</td>\n",
       "      <td>0.273539</td>\n",
       "      <td>0.020338</td>\n",
       "      <td>0.0</td>\n",
       "      <td>0.569777</td>\n",
       "      <td>0.266539</td>\n",
       "      <td>0.020884</td>\n",
       "      <td>0.0</td>\n",
       "    </tr>\n",
       "    <tr>\n",
       "      <th>363</th>\n",
       "      <td>0.538592</td>\n",
       "      <td>0.274794</td>\n",
       "      <td>-0.750494</td>\n",
       "      <td>0.999549</td>\n",
       "      <td>0.565521</td>\n",
       "      <td>0.204791</td>\n",
       "      <td>-0.675919</td>\n",
       "      <td>0.999103</td>\n",
       "      <td>0.580280</td>\n",
       "      <td>0.206831</td>\n",
       "      <td>...</td>\n",
       "      <td>0.004653</td>\n",
       "      <td>0.0</td>\n",
       "      <td>0.594222</td>\n",
       "      <td>0.208484</td>\n",
       "      <td>0.024701</td>\n",
       "      <td>0.0</td>\n",
       "      <td>0.599227</td>\n",
       "      <td>0.200359</td>\n",
       "      <td>0.025415</td>\n",
       "      <td>0.0</td>\n",
       "    </tr>\n",
       "    <tr>\n",
       "      <th>...</th>\n",
       "      <td>...</td>\n",
       "      <td>...</td>\n",
       "      <td>...</td>\n",
       "      <td>...</td>\n",
       "      <td>...</td>\n",
       "      <td>...</td>\n",
       "      <td>...</td>\n",
       "      <td>...</td>\n",
       "      <td>...</td>\n",
       "      <td>...</td>\n",
       "      <td>...</td>\n",
       "      <td>...</td>\n",
       "      <td>...</td>\n",
       "      <td>...</td>\n",
       "      <td>...</td>\n",
       "      <td>...</td>\n",
       "      <td>...</td>\n",
       "      <td>...</td>\n",
       "      <td>...</td>\n",
       "      <td>...</td>\n",
       "      <td>...</td>\n",
       "    </tr>\n",
       "    <tr>\n",
       "      <th>279</th>\n",
       "      <td>0.488968</td>\n",
       "      <td>0.363467</td>\n",
       "      <td>-0.626467</td>\n",
       "      <td>0.999947</td>\n",
       "      <td>0.515220</td>\n",
       "      <td>0.283686</td>\n",
       "      <td>-0.562118</td>\n",
       "      <td>0.999918</td>\n",
       "      <td>0.531321</td>\n",
       "      <td>0.281666</td>\n",
       "      <td>...</td>\n",
       "      <td>-0.002455</td>\n",
       "      <td>0.0</td>\n",
       "      <td>0.550067</td>\n",
       "      <td>0.273457</td>\n",
       "      <td>0.016614</td>\n",
       "      <td>0.0</td>\n",
       "      <td>0.555085</td>\n",
       "      <td>0.266556</td>\n",
       "      <td>0.017167</td>\n",
       "      <td>0.0</td>\n",
       "    </tr>\n",
       "    <tr>\n",
       "      <th>372</th>\n",
       "      <td>0.553317</td>\n",
       "      <td>0.296857</td>\n",
       "      <td>-0.723984</td>\n",
       "      <td>0.999655</td>\n",
       "      <td>0.575554</td>\n",
       "      <td>0.220616</td>\n",
       "      <td>-0.667189</td>\n",
       "      <td>0.999247</td>\n",
       "      <td>0.591970</td>\n",
       "      <td>0.219673</td>\n",
       "      <td>...</td>\n",
       "      <td>0.003934</td>\n",
       "      <td>0.0</td>\n",
       "      <td>0.607926</td>\n",
       "      <td>0.218048</td>\n",
       "      <td>0.023417</td>\n",
       "      <td>0.0</td>\n",
       "      <td>0.612781</td>\n",
       "      <td>0.210321</td>\n",
       "      <td>0.024091</td>\n",
       "      <td>0.0</td>\n",
       "    </tr>\n",
       "    <tr>\n",
       "      <th>204</th>\n",
       "      <td>0.480797</td>\n",
       "      <td>0.354897</td>\n",
       "      <td>-0.773540</td>\n",
       "      <td>0.999975</td>\n",
       "      <td>0.500139</td>\n",
       "      <td>0.278386</td>\n",
       "      <td>-0.703254</td>\n",
       "      <td>0.999961</td>\n",
       "      <td>0.516196</td>\n",
       "      <td>0.275988</td>\n",
       "      <td>...</td>\n",
       "      <td>0.001624</td>\n",
       "      <td>0.0</td>\n",
       "      <td>0.530649</td>\n",
       "      <td>0.266843</td>\n",
       "      <td>0.021341</td>\n",
       "      <td>0.0</td>\n",
       "      <td>0.535038</td>\n",
       "      <td>0.260296</td>\n",
       "      <td>0.022014</td>\n",
       "      <td>0.0</td>\n",
       "    </tr>\n",
       "    <tr>\n",
       "      <th>53</th>\n",
       "      <td>0.520480</td>\n",
       "      <td>0.353810</td>\n",
       "      <td>-0.560121</td>\n",
       "      <td>0.999949</td>\n",
       "      <td>0.541462</td>\n",
       "      <td>0.283457</td>\n",
       "      <td>-0.492140</td>\n",
       "      <td>0.999928</td>\n",
       "      <td>0.554404</td>\n",
       "      <td>0.284279</td>\n",
       "      <td>...</td>\n",
       "      <td>0.002891</td>\n",
       "      <td>0.0</td>\n",
       "      <td>0.569414</td>\n",
       "      <td>0.277148</td>\n",
       "      <td>0.022025</td>\n",
       "      <td>0.0</td>\n",
       "      <td>0.574226</td>\n",
       "      <td>0.270020</td>\n",
       "      <td>0.022672</td>\n",
       "      <td>0.0</td>\n",
       "    </tr>\n",
       "    <tr>\n",
       "      <th>294</th>\n",
       "      <td>0.497812</td>\n",
       "      <td>0.356935</td>\n",
       "      <td>-0.593829</td>\n",
       "      <td>0.999959</td>\n",
       "      <td>0.522068</td>\n",
       "      <td>0.279929</td>\n",
       "      <td>-0.523389</td>\n",
       "      <td>0.999932</td>\n",
       "      <td>0.536551</td>\n",
       "      <td>0.278835</td>\n",
       "      <td>...</td>\n",
       "      <td>-0.002423</td>\n",
       "      <td>0.0</td>\n",
       "      <td>0.552853</td>\n",
       "      <td>0.275002</td>\n",
       "      <td>0.016064</td>\n",
       "      <td>0.0</td>\n",
       "      <td>0.557846</td>\n",
       "      <td>0.268267</td>\n",
       "      <td>0.016600</td>\n",
       "      <td>0.0</td>\n",
       "    </tr>\n",
       "  </tbody>\n",
       "</table>\n",
       "<p>382 rows × 2004 columns</p>\n",
       "</div>"
      ],
      "text/plain": [
       "           x1        y1        z1        v1        x2        y2        z2  \\\n",
       "444  0.607627  0.331788 -0.786915  0.999879  0.629459  0.266417 -0.717988   \n",
       "480  0.561522  0.337758 -0.722480  0.999941  0.583754  0.270509 -0.622497   \n",
       "134  0.505146  0.288510 -0.693865  0.999984  0.529100  0.220908 -0.624870   \n",
       "93   0.512465  0.361475 -0.661181  0.999947  0.533841  0.292627 -0.601996   \n",
       "363  0.538592  0.274794 -0.750494  0.999549  0.565521  0.204791 -0.675919   \n",
       "..        ...       ...       ...       ...       ...       ...       ...   \n",
       "279  0.488968  0.363467 -0.626467  0.999947  0.515220  0.283686 -0.562118   \n",
       "372  0.553317  0.296857 -0.723984  0.999655  0.575554  0.220616 -0.667189   \n",
       "204  0.480797  0.354897 -0.773540  0.999975  0.500139  0.278386 -0.703254   \n",
       "53   0.520480  0.353810 -0.560121  0.999949  0.541462  0.283457 -0.492140   \n",
       "294  0.497812  0.356935 -0.593829  0.999959  0.522068  0.279929 -0.523389   \n",
       "\n",
       "           v2        x3        y3  ...      z499  v499      x500      y500  \\\n",
       "444  0.999843  0.644549  0.268743  ...  0.001988   0.0  0.665968  0.260837   \n",
       "480  0.999925  0.598792  0.271359  ...  0.004055   0.0  0.608456  0.254144   \n",
       "134  0.999972  0.543936  0.223276  ...  0.002321   0.0  0.554203  0.209690   \n",
       "93   0.999917  0.547602  0.292967  ...  0.001359   0.0  0.565009  0.273539   \n",
       "363  0.999103  0.580280  0.206831  ...  0.004653   0.0  0.594222  0.208484   \n",
       "..        ...       ...       ...  ...       ...   ...       ...       ...   \n",
       "279  0.999918  0.531321  0.281666  ... -0.002455   0.0  0.550067  0.273457   \n",
       "372  0.999247  0.591970  0.219673  ...  0.003934   0.0  0.607926  0.218048   \n",
       "204  0.999961  0.516196  0.275988  ...  0.001624   0.0  0.530649  0.266843   \n",
       "53   0.999928  0.554404  0.284279  ...  0.002891   0.0  0.569414  0.277148   \n",
       "294  0.999932  0.536551  0.278835  ... -0.002423   0.0  0.552853  0.275002   \n",
       "\n",
       "         z500  v500      x501      y501      z501  v501  \n",
       "444  0.021296   0.0  0.670673  0.253972  0.021934   0.0  \n",
       "480  0.021859   0.0  0.613111  0.245462  0.022605   0.0  \n",
       "134  0.022227   0.0  0.558938  0.202911  0.022755   0.0  \n",
       "93   0.020338   0.0  0.569777  0.266539  0.020884   0.0  \n",
       "363  0.024701   0.0  0.599227  0.200359  0.025415   0.0  \n",
       "..        ...   ...       ...       ...       ...   ...  \n",
       "279  0.016614   0.0  0.555085  0.266556  0.017167   0.0  \n",
       "372  0.023417   0.0  0.612781  0.210321  0.024091   0.0  \n",
       "204  0.021341   0.0  0.535038  0.260296  0.022014   0.0  \n",
       "53   0.022025   0.0  0.574226  0.270020  0.022672   0.0  \n",
       "294  0.016064   0.0  0.557846  0.268267  0.016600   0.0  \n",
       "\n",
       "[382 rows x 2004 columns]"
      ]
     },
     "execution_count": 174,
     "metadata": {},
     "output_type": "execute_result"
    }
   ],
   "source": [
    "X_train"
   ]
  },
  {
   "cell_type": "code",
   "execution_count": 175,
   "id": "46d45ff3",
   "metadata": {},
   "outputs": [
    {
     "data": {
      "text/html": [
       "<div>\n",
       "<style scoped>\n",
       "    .dataframe tbody tr th:only-of-type {\n",
       "        vertical-align: middle;\n",
       "    }\n",
       "\n",
       "    .dataframe tbody tr th {\n",
       "        vertical-align: top;\n",
       "    }\n",
       "\n",
       "    .dataframe thead th {\n",
       "        text-align: right;\n",
       "    }\n",
       "</style>\n",
       "<table border=\"1\" class=\"dataframe\">\n",
       "  <thead>\n",
       "    <tr style=\"text-align: right;\">\n",
       "      <th></th>\n",
       "      <th>class</th>\n",
       "      <th>x1</th>\n",
       "      <th>y1</th>\n",
       "      <th>z1</th>\n",
       "      <th>v1</th>\n",
       "      <th>x2</th>\n",
       "      <th>y2</th>\n",
       "      <th>z2</th>\n",
       "      <th>v2</th>\n",
       "      <th>x3</th>\n",
       "      <th>...</th>\n",
       "      <th>z499</th>\n",
       "      <th>v499</th>\n",
       "      <th>x500</th>\n",
       "      <th>y500</th>\n",
       "      <th>z500</th>\n",
       "      <th>v500</th>\n",
       "      <th>x501</th>\n",
       "      <th>y501</th>\n",
       "      <th>z501</th>\n",
       "      <th>v501</th>\n",
       "    </tr>\n",
       "  </thead>\n",
       "  <tbody>\n",
       "    <tr>\n",
       "      <th>0</th>\n",
       "      <td>Buuieeen</td>\n",
       "      <td>0.530443</td>\n",
       "      <td>0.256885</td>\n",
       "      <td>-0.653312</td>\n",
       "      <td>0.999986</td>\n",
       "      <td>0.559472</td>\n",
       "      <td>0.183092</td>\n",
       "      <td>-0.591619</td>\n",
       "      <td>0.999977</td>\n",
       "      <td>0.577272</td>\n",
       "      <td>...</td>\n",
       "      <td>0.003441</td>\n",
       "      <td>0.0</td>\n",
       "      <td>0.577638</td>\n",
       "      <td>0.191048</td>\n",
       "      <td>0.022638</td>\n",
       "      <td>0.0</td>\n",
       "      <td>0.582679</td>\n",
       "      <td>0.182326</td>\n",
       "      <td>0.023350</td>\n",
       "      <td>0.0</td>\n",
       "    </tr>\n",
       "    <tr>\n",
       "      <th>1</th>\n",
       "      <td>Bieeen</td>\n",
       "      <td>0.527919</td>\n",
       "      <td>0.270350</td>\n",
       "      <td>-0.671225</td>\n",
       "      <td>0.999984</td>\n",
       "      <td>0.555597</td>\n",
       "      <td>0.191837</td>\n",
       "      <td>-0.610291</td>\n",
       "      <td>0.999974</td>\n",
       "      <td>0.572588</td>\n",
       "      <td>...</td>\n",
       "      <td>0.000889</td>\n",
       "      <td>0.0</td>\n",
       "      <td>0.575438</td>\n",
       "      <td>0.192714</td>\n",
       "      <td>0.018138</td>\n",
       "      <td>0.0</td>\n",
       "      <td>0.580191</td>\n",
       "      <td>0.184997</td>\n",
       "      <td>0.018685</td>\n",
       "      <td>0.0</td>\n",
       "    </tr>\n",
       "    <tr>\n",
       "      <th>2</th>\n",
       "      <td>Bieeen</td>\n",
       "      <td>0.526927</td>\n",
       "      <td>0.269982</td>\n",
       "      <td>-0.686023</td>\n",
       "      <td>0.999982</td>\n",
       "      <td>0.554501</td>\n",
       "      <td>0.191207</td>\n",
       "      <td>-0.624949</td>\n",
       "      <td>0.999969</td>\n",
       "      <td>0.571297</td>\n",
       "      <td>...</td>\n",
       "      <td>0.002067</td>\n",
       "      <td>0.0</td>\n",
       "      <td>0.574890</td>\n",
       "      <td>0.188843</td>\n",
       "      <td>0.020768</td>\n",
       "      <td>0.0</td>\n",
       "      <td>0.579669</td>\n",
       "      <td>0.182104</td>\n",
       "      <td>0.021323</td>\n",
       "      <td>0.0</td>\n",
       "    </tr>\n",
       "    <tr>\n",
       "      <th>3</th>\n",
       "      <td>Bieeen</td>\n",
       "      <td>0.526678</td>\n",
       "      <td>0.269773</td>\n",
       "      <td>-0.686642</td>\n",
       "      <td>0.999981</td>\n",
       "      <td>0.554088</td>\n",
       "      <td>0.190821</td>\n",
       "      <td>-0.628925</td>\n",
       "      <td>0.999967</td>\n",
       "      <td>0.570879</td>\n",
       "      <td>...</td>\n",
       "      <td>0.002285</td>\n",
       "      <td>0.0</td>\n",
       "      <td>0.575821</td>\n",
       "      <td>0.186804</td>\n",
       "      <td>0.020908</td>\n",
       "      <td>0.0</td>\n",
       "      <td>0.580568</td>\n",
       "      <td>0.179891</td>\n",
       "      <td>0.021366</td>\n",
       "      <td>0.0</td>\n",
       "    </tr>\n",
       "    <tr>\n",
       "      <th>4</th>\n",
       "      <td>Bieeen</td>\n",
       "      <td>0.525802</td>\n",
       "      <td>0.269881</td>\n",
       "      <td>-0.776611</td>\n",
       "      <td>0.999976</td>\n",
       "      <td>0.552998</td>\n",
       "      <td>0.191072</td>\n",
       "      <td>-0.715791</td>\n",
       "      <td>0.999958</td>\n",
       "      <td>0.569570</td>\n",
       "      <td>...</td>\n",
       "      <td>0.001017</td>\n",
       "      <td>0.0</td>\n",
       "      <td>0.574593</td>\n",
       "      <td>0.188575</td>\n",
       "      <td>0.019574</td>\n",
       "      <td>0.0</td>\n",
       "      <td>0.579291</td>\n",
       "      <td>0.181415</td>\n",
       "      <td>0.020120</td>\n",
       "      <td>0.0</td>\n",
       "    </tr>\n",
       "    <tr>\n",
       "      <th>...</th>\n",
       "      <td>...</td>\n",
       "      <td>...</td>\n",
       "      <td>...</td>\n",
       "      <td>...</td>\n",
       "      <td>...</td>\n",
       "      <td>...</td>\n",
       "      <td>...</td>\n",
       "      <td>...</td>\n",
       "      <td>...</td>\n",
       "      <td>...</td>\n",
       "      <td>...</td>\n",
       "      <td>...</td>\n",
       "      <td>...</td>\n",
       "      <td>...</td>\n",
       "      <td>...</td>\n",
       "      <td>...</td>\n",
       "      <td>...</td>\n",
       "      <td>...</td>\n",
       "      <td>...</td>\n",
       "      <td>...</td>\n",
       "      <td>...</td>\n",
       "    </tr>\n",
       "    <tr>\n",
       "      <th>542</th>\n",
       "      <td>Buuu que mal</td>\n",
       "      <td>0.561161</td>\n",
       "      <td>0.312676</td>\n",
       "      <td>-0.954139</td>\n",
       "      <td>0.999895</td>\n",
       "      <td>0.585262</td>\n",
       "      <td>0.240363</td>\n",
       "      <td>-0.879301</td>\n",
       "      <td>0.999777</td>\n",
       "      <td>0.600595</td>\n",
       "      <td>...</td>\n",
       "      <td>0.002703</td>\n",
       "      <td>0.0</td>\n",
       "      <td>0.612643</td>\n",
       "      <td>0.256506</td>\n",
       "      <td>0.021253</td>\n",
       "      <td>0.0</td>\n",
       "      <td>0.617767</td>\n",
       "      <td>0.247276</td>\n",
       "      <td>0.021986</td>\n",
       "      <td>0.0</td>\n",
       "    </tr>\n",
       "    <tr>\n",
       "      <th>543</th>\n",
       "      <td>Buuu que mal</td>\n",
       "      <td>0.561202</td>\n",
       "      <td>0.313547</td>\n",
       "      <td>-1.004511</td>\n",
       "      <td>0.999883</td>\n",
       "      <td>0.585302</td>\n",
       "      <td>0.240690</td>\n",
       "      <td>-0.925527</td>\n",
       "      <td>0.999742</td>\n",
       "      <td>0.600615</td>\n",
       "      <td>...</td>\n",
       "      <td>0.002702</td>\n",
       "      <td>0.0</td>\n",
       "      <td>0.616873</td>\n",
       "      <td>0.256113</td>\n",
       "      <td>0.021999</td>\n",
       "      <td>0.0</td>\n",
       "      <td>0.621815</td>\n",
       "      <td>0.247989</td>\n",
       "      <td>0.022703</td>\n",
       "      <td>0.0</td>\n",
       "    </tr>\n",
       "    <tr>\n",
       "      <th>544</th>\n",
       "      <td>Buuu que mal</td>\n",
       "      <td>0.564997</td>\n",
       "      <td>0.315829</td>\n",
       "      <td>-0.923724</td>\n",
       "      <td>0.999874</td>\n",
       "      <td>0.587699</td>\n",
       "      <td>0.241852</td>\n",
       "      <td>-0.852775</td>\n",
       "      <td>0.999715</td>\n",
       "      <td>0.603202</td>\n",
       "      <td>...</td>\n",
       "      <td>0.003340</td>\n",
       "      <td>0.0</td>\n",
       "      <td>0.620147</td>\n",
       "      <td>0.253019</td>\n",
       "      <td>0.022850</td>\n",
       "      <td>0.0</td>\n",
       "      <td>0.625026</td>\n",
       "      <td>0.244550</td>\n",
       "      <td>0.023674</td>\n",
       "      <td>0.0</td>\n",
       "    </tr>\n",
       "    <tr>\n",
       "      <th>545</th>\n",
       "      <td>Buuu que mal</td>\n",
       "      <td>0.570446</td>\n",
       "      <td>0.317763</td>\n",
       "      <td>-0.891257</td>\n",
       "      <td>0.999865</td>\n",
       "      <td>0.592185</td>\n",
       "      <td>0.243242</td>\n",
       "      <td>-0.811182</td>\n",
       "      <td>0.999696</td>\n",
       "      <td>0.608082</td>\n",
       "      <td>...</td>\n",
       "      <td>0.002278</td>\n",
       "      <td>0.0</td>\n",
       "      <td>0.621281</td>\n",
       "      <td>0.251643</td>\n",
       "      <td>0.021229</td>\n",
       "      <td>0.0</td>\n",
       "      <td>0.626135</td>\n",
       "      <td>0.244106</td>\n",
       "      <td>0.021871</td>\n",
       "      <td>0.0</td>\n",
       "    </tr>\n",
       "    <tr>\n",
       "      <th>546</th>\n",
       "      <td>Buuu que mal</td>\n",
       "      <td>0.573943</td>\n",
       "      <td>0.318654</td>\n",
       "      <td>-0.850759</td>\n",
       "      <td>0.999865</td>\n",
       "      <td>0.594787</td>\n",
       "      <td>0.243582</td>\n",
       "      <td>-0.771189</td>\n",
       "      <td>0.999693</td>\n",
       "      <td>0.610638</td>\n",
       "      <td>...</td>\n",
       "      <td>0.002614</td>\n",
       "      <td>0.0</td>\n",
       "      <td>0.622002</td>\n",
       "      <td>0.249436</td>\n",
       "      <td>0.022121</td>\n",
       "      <td>0.0</td>\n",
       "      <td>0.626846</td>\n",
       "      <td>0.241835</td>\n",
       "      <td>0.022813</td>\n",
       "      <td>0.0</td>\n",
       "    </tr>\n",
       "  </tbody>\n",
       "</table>\n",
       "<p>547 rows × 2005 columns</p>\n",
       "</div>"
      ],
      "text/plain": [
       "            class        x1        y1        z1        v1        x2        y2  \\\n",
       "0        Buuieeen  0.530443  0.256885 -0.653312  0.999986  0.559472  0.183092   \n",
       "1          Bieeen  0.527919  0.270350 -0.671225  0.999984  0.555597  0.191837   \n",
       "2          Bieeen  0.526927  0.269982 -0.686023  0.999982  0.554501  0.191207   \n",
       "3          Bieeen  0.526678  0.269773 -0.686642  0.999981  0.554088  0.190821   \n",
       "4          Bieeen  0.525802  0.269881 -0.776611  0.999976  0.552998  0.191072   \n",
       "..            ...       ...       ...       ...       ...       ...       ...   \n",
       "542  Buuu que mal  0.561161  0.312676 -0.954139  0.999895  0.585262  0.240363   \n",
       "543  Buuu que mal  0.561202  0.313547 -1.004511  0.999883  0.585302  0.240690   \n",
       "544  Buuu que mal  0.564997  0.315829 -0.923724  0.999874  0.587699  0.241852   \n",
       "545  Buuu que mal  0.570446  0.317763 -0.891257  0.999865  0.592185  0.243242   \n",
       "546  Buuu que mal  0.573943  0.318654 -0.850759  0.999865  0.594787  0.243582   \n",
       "\n",
       "           z2        v2        x3  ...      z499  v499      x500      y500  \\\n",
       "0   -0.591619  0.999977  0.577272  ...  0.003441   0.0  0.577638  0.191048   \n",
       "1   -0.610291  0.999974  0.572588  ...  0.000889   0.0  0.575438  0.192714   \n",
       "2   -0.624949  0.999969  0.571297  ...  0.002067   0.0  0.574890  0.188843   \n",
       "3   -0.628925  0.999967  0.570879  ...  0.002285   0.0  0.575821  0.186804   \n",
       "4   -0.715791  0.999958  0.569570  ...  0.001017   0.0  0.574593  0.188575   \n",
       "..        ...       ...       ...  ...       ...   ...       ...       ...   \n",
       "542 -0.879301  0.999777  0.600595  ...  0.002703   0.0  0.612643  0.256506   \n",
       "543 -0.925527  0.999742  0.600615  ...  0.002702   0.0  0.616873  0.256113   \n",
       "544 -0.852775  0.999715  0.603202  ...  0.003340   0.0  0.620147  0.253019   \n",
       "545 -0.811182  0.999696  0.608082  ...  0.002278   0.0  0.621281  0.251643   \n",
       "546 -0.771189  0.999693  0.610638  ...  0.002614   0.0  0.622002  0.249436   \n",
       "\n",
       "         z500  v500      x501      y501      z501  v501  \n",
       "0    0.022638   0.0  0.582679  0.182326  0.023350   0.0  \n",
       "1    0.018138   0.0  0.580191  0.184997  0.018685   0.0  \n",
       "2    0.020768   0.0  0.579669  0.182104  0.021323   0.0  \n",
       "3    0.020908   0.0  0.580568  0.179891  0.021366   0.0  \n",
       "4    0.019574   0.0  0.579291  0.181415  0.020120   0.0  \n",
       "..        ...   ...       ...       ...       ...   ...  \n",
       "542  0.021253   0.0  0.617767  0.247276  0.021986   0.0  \n",
       "543  0.021999   0.0  0.621815  0.247989  0.022703   0.0  \n",
       "544  0.022850   0.0  0.625026  0.244550  0.023674   0.0  \n",
       "545  0.021229   0.0  0.626135  0.244106  0.021871   0.0  \n",
       "546  0.022121   0.0  0.626846  0.241835  0.022813   0.0  \n",
       "\n",
       "[547 rows x 2005 columns]"
      ]
     },
     "execution_count": 175,
     "metadata": {},
     "output_type": "execute_result"
    }
   ],
   "source": [
    "df #marco de datos completo, deben de ser 548 filas"
   ]
  },
  {
   "cell_type": "markdown",
   "id": "60854fd0",
   "metadata": {},
   "source": [
    "### Modelo de clasificación de aprendizaje automático"
   ]
  },
  {
   "cell_type": "code",
   "execution_count": 176,
   "id": "39370b2d",
   "metadata": {},
   "outputs": [],
   "source": [
    "from sklearn.pipeline import make_pipeline \n",
    "from sklearn.preprocessing import StandardScaler \n",
    "\n",
    "from sklearn.linear_model import LogisticRegression, RidgeClassifier\n",
    "from sklearn.ensemble import RandomForestClassifier, GradientBoostingClassifier"
   ]
  },
  {
   "cell_type": "markdown",
   "id": "143bcf6f",
   "metadata": {},
   "source": [
    "## Modelos de aprendizaje automatico:"
   ]
  },
  {
   "cell_type": "code",
   "execution_count": 177,
   "id": "20246ff2",
   "metadata": {},
   "outputs": [],
   "source": [
    "pipelines = {\n",
    "    'lr':make_pipeline(StandardScaler(), LogisticRegression()),\n",
    "    'rc':make_pipeline(StandardScaler(), RidgeClassifier()),\n",
    "    'rf':make_pipeline(StandardScaler(), RandomForestClassifier()),\n",
    "    'gb':make_pipeline(StandardScaler(), GradientBoostingClassifier()),\n",
    "}"
   ]
  },
  {
   "cell_type": "code",
   "execution_count": 178,
   "id": "516e4cbe",
   "metadata": {},
   "outputs": [
    {
     "data": {
      "text/plain": [
       "dict_keys(['lr', 'rc', 'rf', 'gb'])"
      ]
     },
     "execution_count": 178,
     "metadata": {},
     "output_type": "execute_result"
    }
   ],
   "source": [
    "pipelines.keys()"
   ]
  },
  {
   "cell_type": "code",
   "execution_count": 179,
   "id": "88f4a531",
   "metadata": {},
   "outputs": [
    {
     "data": {
      "text/html": [
       "<style>#sk-container-id-1 {\n",
       "  /* Definition of color scheme common for light and dark mode */\n",
       "  --sklearn-color-text: black;\n",
       "  --sklearn-color-line: gray;\n",
       "  /* Definition of color scheme for unfitted estimators */\n",
       "  --sklearn-color-unfitted-level-0: #fff5e6;\n",
       "  --sklearn-color-unfitted-level-1: #f6e4d2;\n",
       "  --sklearn-color-unfitted-level-2: #ffe0b3;\n",
       "  --sklearn-color-unfitted-level-3: chocolate;\n",
       "  /* Definition of color scheme for fitted estimators */\n",
       "  --sklearn-color-fitted-level-0: #f0f8ff;\n",
       "  --sklearn-color-fitted-level-1: #d4ebff;\n",
       "  --sklearn-color-fitted-level-2: #b3dbfd;\n",
       "  --sklearn-color-fitted-level-3: cornflowerblue;\n",
       "\n",
       "  /* Specific color for light theme */\n",
       "  --sklearn-color-text-on-default-background: var(--sg-text-color, var(--theme-code-foreground, var(--jp-content-font-color1, black)));\n",
       "  --sklearn-color-background: var(--sg-background-color, var(--theme-background, var(--jp-layout-color0, white)));\n",
       "  --sklearn-color-border-box: var(--sg-text-color, var(--theme-code-foreground, var(--jp-content-font-color1, black)));\n",
       "  --sklearn-color-icon: #696969;\n",
       "\n",
       "  @media (prefers-color-scheme: dark) {\n",
       "    /* Redefinition of color scheme for dark theme */\n",
       "    --sklearn-color-text-on-default-background: var(--sg-text-color, var(--theme-code-foreground, var(--jp-content-font-color1, white)));\n",
       "    --sklearn-color-background: var(--sg-background-color, var(--theme-background, var(--jp-layout-color0, #111)));\n",
       "    --sklearn-color-border-box: var(--sg-text-color, var(--theme-code-foreground, var(--jp-content-font-color1, white)));\n",
       "    --sklearn-color-icon: #878787;\n",
       "  }\n",
       "}\n",
       "\n",
       "#sk-container-id-1 {\n",
       "  color: var(--sklearn-color-text);\n",
       "}\n",
       "\n",
       "#sk-container-id-1 pre {\n",
       "  padding: 0;\n",
       "}\n",
       "\n",
       "#sk-container-id-1 input.sk-hidden--visually {\n",
       "  border: 0;\n",
       "  clip: rect(1px 1px 1px 1px);\n",
       "  clip: rect(1px, 1px, 1px, 1px);\n",
       "  height: 1px;\n",
       "  margin: -1px;\n",
       "  overflow: hidden;\n",
       "  padding: 0;\n",
       "  position: absolute;\n",
       "  width: 1px;\n",
       "}\n",
       "\n",
       "#sk-container-id-1 div.sk-dashed-wrapped {\n",
       "  border: 1px dashed var(--sklearn-color-line);\n",
       "  margin: 0 0.4em 0.5em 0.4em;\n",
       "  box-sizing: border-box;\n",
       "  padding-bottom: 0.4em;\n",
       "  background-color: var(--sklearn-color-background);\n",
       "}\n",
       "\n",
       "#sk-container-id-1 div.sk-container {\n",
       "  /* jupyter's `normalize.less` sets `[hidden] { display: none; }`\n",
       "     but bootstrap.min.css set `[hidden] { display: none !important; }`\n",
       "     so we also need the `!important` here to be able to override the\n",
       "     default hidden behavior on the sphinx rendered scikit-learn.org.\n",
       "     See: https://github.com/scikit-learn/scikit-learn/issues/21755 */\n",
       "  display: inline-block !important;\n",
       "  position: relative;\n",
       "}\n",
       "\n",
       "#sk-container-id-1 div.sk-text-repr-fallback {\n",
       "  display: none;\n",
       "}\n",
       "\n",
       "div.sk-parallel-item,\n",
       "div.sk-serial,\n",
       "div.sk-item {\n",
       "  /* draw centered vertical line to link estimators */\n",
       "  background-image: linear-gradient(var(--sklearn-color-text-on-default-background), var(--sklearn-color-text-on-default-background));\n",
       "  background-size: 2px 100%;\n",
       "  background-repeat: no-repeat;\n",
       "  background-position: center center;\n",
       "}\n",
       "\n",
       "/* Parallel-specific style estimator block */\n",
       "\n",
       "#sk-container-id-1 div.sk-parallel-item::after {\n",
       "  content: \"\";\n",
       "  width: 100%;\n",
       "  border-bottom: 2px solid var(--sklearn-color-text-on-default-background);\n",
       "  flex-grow: 1;\n",
       "}\n",
       "\n",
       "#sk-container-id-1 div.sk-parallel {\n",
       "  display: flex;\n",
       "  align-items: stretch;\n",
       "  justify-content: center;\n",
       "  background-color: var(--sklearn-color-background);\n",
       "  position: relative;\n",
       "}\n",
       "\n",
       "#sk-container-id-1 div.sk-parallel-item {\n",
       "  display: flex;\n",
       "  flex-direction: column;\n",
       "}\n",
       "\n",
       "#sk-container-id-1 div.sk-parallel-item:first-child::after {\n",
       "  align-self: flex-end;\n",
       "  width: 50%;\n",
       "}\n",
       "\n",
       "#sk-container-id-1 div.sk-parallel-item:last-child::after {\n",
       "  align-self: flex-start;\n",
       "  width: 50%;\n",
       "}\n",
       "\n",
       "#sk-container-id-1 div.sk-parallel-item:only-child::after {\n",
       "  width: 0;\n",
       "}\n",
       "\n",
       "/* Serial-specific style estimator block */\n",
       "\n",
       "#sk-container-id-1 div.sk-serial {\n",
       "  display: flex;\n",
       "  flex-direction: column;\n",
       "  align-items: center;\n",
       "  background-color: var(--sklearn-color-background);\n",
       "  padding-right: 1em;\n",
       "  padding-left: 1em;\n",
       "}\n",
       "\n",
       "\n",
       "/* Toggleable style: style used for estimator/Pipeline/ColumnTransformer box that is\n",
       "clickable and can be expanded/collapsed.\n",
       "- Pipeline and ColumnTransformer use this feature and define the default style\n",
       "- Estimators will overwrite some part of the style using the `sk-estimator` class\n",
       "*/\n",
       "\n",
       "/* Pipeline and ColumnTransformer style (default) */\n",
       "\n",
       "#sk-container-id-1 div.sk-toggleable {\n",
       "  /* Default theme specific background. It is overwritten whether we have a\n",
       "  specific estimator or a Pipeline/ColumnTransformer */\n",
       "  background-color: var(--sklearn-color-background);\n",
       "}\n",
       "\n",
       "/* Toggleable label */\n",
       "#sk-container-id-1 label.sk-toggleable__label {\n",
       "  cursor: pointer;\n",
       "  display: block;\n",
       "  width: 100%;\n",
       "  margin-bottom: 0;\n",
       "  padding: 0.5em;\n",
       "  box-sizing: border-box;\n",
       "  text-align: center;\n",
       "}\n",
       "\n",
       "#sk-container-id-1 label.sk-toggleable__label-arrow:before {\n",
       "  /* Arrow on the left of the label */\n",
       "  content: \"▸\";\n",
       "  float: left;\n",
       "  margin-right: 0.25em;\n",
       "  color: var(--sklearn-color-icon);\n",
       "}\n",
       "\n",
       "#sk-container-id-1 label.sk-toggleable__label-arrow:hover:before {\n",
       "  color: var(--sklearn-color-text);\n",
       "}\n",
       "\n",
       "/* Toggleable content - dropdown */\n",
       "\n",
       "#sk-container-id-1 div.sk-toggleable__content {\n",
       "  max-height: 0;\n",
       "  max-width: 0;\n",
       "  overflow: hidden;\n",
       "  text-align: left;\n",
       "  /* unfitted */\n",
       "  background-color: var(--sklearn-color-unfitted-level-0);\n",
       "}\n",
       "\n",
       "#sk-container-id-1 div.sk-toggleable__content.fitted {\n",
       "  /* fitted */\n",
       "  background-color: var(--sklearn-color-fitted-level-0);\n",
       "}\n",
       "\n",
       "#sk-container-id-1 div.sk-toggleable__content pre {\n",
       "  margin: 0.2em;\n",
       "  border-radius: 0.25em;\n",
       "  color: var(--sklearn-color-text);\n",
       "  /* unfitted */\n",
       "  background-color: var(--sklearn-color-unfitted-level-0);\n",
       "}\n",
       "\n",
       "#sk-container-id-1 div.sk-toggleable__content.fitted pre {\n",
       "  /* unfitted */\n",
       "  background-color: var(--sklearn-color-fitted-level-0);\n",
       "}\n",
       "\n",
       "#sk-container-id-1 input.sk-toggleable__control:checked~div.sk-toggleable__content {\n",
       "  /* Expand drop-down */\n",
       "  max-height: 200px;\n",
       "  max-width: 100%;\n",
       "  overflow: auto;\n",
       "}\n",
       "\n",
       "#sk-container-id-1 input.sk-toggleable__control:checked~label.sk-toggleable__label-arrow:before {\n",
       "  content: \"▾\";\n",
       "}\n",
       "\n",
       "/* Pipeline/ColumnTransformer-specific style */\n",
       "\n",
       "#sk-container-id-1 div.sk-label input.sk-toggleable__control:checked~label.sk-toggleable__label {\n",
       "  color: var(--sklearn-color-text);\n",
       "  background-color: var(--sklearn-color-unfitted-level-2);\n",
       "}\n",
       "\n",
       "#sk-container-id-1 div.sk-label.fitted input.sk-toggleable__control:checked~label.sk-toggleable__label {\n",
       "  background-color: var(--sklearn-color-fitted-level-2);\n",
       "}\n",
       "\n",
       "/* Estimator-specific style */\n",
       "\n",
       "/* Colorize estimator box */\n",
       "#sk-container-id-1 div.sk-estimator input.sk-toggleable__control:checked~label.sk-toggleable__label {\n",
       "  /* unfitted */\n",
       "  background-color: var(--sklearn-color-unfitted-level-2);\n",
       "}\n",
       "\n",
       "#sk-container-id-1 div.sk-estimator.fitted input.sk-toggleable__control:checked~label.sk-toggleable__label {\n",
       "  /* fitted */\n",
       "  background-color: var(--sklearn-color-fitted-level-2);\n",
       "}\n",
       "\n",
       "#sk-container-id-1 div.sk-label label.sk-toggleable__label,\n",
       "#sk-container-id-1 div.sk-label label {\n",
       "  /* The background is the default theme color */\n",
       "  color: var(--sklearn-color-text-on-default-background);\n",
       "}\n",
       "\n",
       "/* On hover, darken the color of the background */\n",
       "#sk-container-id-1 div.sk-label:hover label.sk-toggleable__label {\n",
       "  color: var(--sklearn-color-text);\n",
       "  background-color: var(--sklearn-color-unfitted-level-2);\n",
       "}\n",
       "\n",
       "/* Label box, darken color on hover, fitted */\n",
       "#sk-container-id-1 div.sk-label.fitted:hover label.sk-toggleable__label.fitted {\n",
       "  color: var(--sklearn-color-text);\n",
       "  background-color: var(--sklearn-color-fitted-level-2);\n",
       "}\n",
       "\n",
       "/* Estimator label */\n",
       "\n",
       "#sk-container-id-1 div.sk-label label {\n",
       "  font-family: monospace;\n",
       "  font-weight: bold;\n",
       "  display: inline-block;\n",
       "  line-height: 1.2em;\n",
       "}\n",
       "\n",
       "#sk-container-id-1 div.sk-label-container {\n",
       "  text-align: center;\n",
       "}\n",
       "\n",
       "/* Estimator-specific */\n",
       "#sk-container-id-1 div.sk-estimator {\n",
       "  font-family: monospace;\n",
       "  border: 1px dotted var(--sklearn-color-border-box);\n",
       "  border-radius: 0.25em;\n",
       "  box-sizing: border-box;\n",
       "  margin-bottom: 0.5em;\n",
       "  /* unfitted */\n",
       "  background-color: var(--sklearn-color-unfitted-level-0);\n",
       "}\n",
       "\n",
       "#sk-container-id-1 div.sk-estimator.fitted {\n",
       "  /* fitted */\n",
       "  background-color: var(--sklearn-color-fitted-level-0);\n",
       "}\n",
       "\n",
       "/* on hover */\n",
       "#sk-container-id-1 div.sk-estimator:hover {\n",
       "  /* unfitted */\n",
       "  background-color: var(--sklearn-color-unfitted-level-2);\n",
       "}\n",
       "\n",
       "#sk-container-id-1 div.sk-estimator.fitted:hover {\n",
       "  /* fitted */\n",
       "  background-color: var(--sklearn-color-fitted-level-2);\n",
       "}\n",
       "\n",
       "/* Specification for estimator info (e.g. \"i\" and \"?\") */\n",
       "\n",
       "/* Common style for \"i\" and \"?\" */\n",
       "\n",
       ".sk-estimator-doc-link,\n",
       "a:link.sk-estimator-doc-link,\n",
       "a:visited.sk-estimator-doc-link {\n",
       "  float: right;\n",
       "  font-size: smaller;\n",
       "  line-height: 1em;\n",
       "  font-family: monospace;\n",
       "  background-color: var(--sklearn-color-background);\n",
       "  border-radius: 1em;\n",
       "  height: 1em;\n",
       "  width: 1em;\n",
       "  text-decoration: none !important;\n",
       "  margin-left: 1ex;\n",
       "  /* unfitted */\n",
       "  border: var(--sklearn-color-unfitted-level-1) 1pt solid;\n",
       "  color: var(--sklearn-color-unfitted-level-1);\n",
       "}\n",
       "\n",
       ".sk-estimator-doc-link.fitted,\n",
       "a:link.sk-estimator-doc-link.fitted,\n",
       "a:visited.sk-estimator-doc-link.fitted {\n",
       "  /* fitted */\n",
       "  border: var(--sklearn-color-fitted-level-1) 1pt solid;\n",
       "  color: var(--sklearn-color-fitted-level-1);\n",
       "}\n",
       "\n",
       "/* On hover */\n",
       "div.sk-estimator:hover .sk-estimator-doc-link:hover,\n",
       ".sk-estimator-doc-link:hover,\n",
       "div.sk-label-container:hover .sk-estimator-doc-link:hover,\n",
       ".sk-estimator-doc-link:hover {\n",
       "  /* unfitted */\n",
       "  background-color: var(--sklearn-color-unfitted-level-3);\n",
       "  color: var(--sklearn-color-background);\n",
       "  text-decoration: none;\n",
       "}\n",
       "\n",
       "div.sk-estimator.fitted:hover .sk-estimator-doc-link.fitted:hover,\n",
       ".sk-estimator-doc-link.fitted:hover,\n",
       "div.sk-label-container:hover .sk-estimator-doc-link.fitted:hover,\n",
       ".sk-estimator-doc-link.fitted:hover {\n",
       "  /* fitted */\n",
       "  background-color: var(--sklearn-color-fitted-level-3);\n",
       "  color: var(--sklearn-color-background);\n",
       "  text-decoration: none;\n",
       "}\n",
       "\n",
       "/* Span, style for the box shown on hovering the info icon */\n",
       ".sk-estimator-doc-link span {\n",
       "  display: none;\n",
       "  z-index: 9999;\n",
       "  position: relative;\n",
       "  font-weight: normal;\n",
       "  right: .2ex;\n",
       "  padding: .5ex;\n",
       "  margin: .5ex;\n",
       "  width: min-content;\n",
       "  min-width: 20ex;\n",
       "  max-width: 50ex;\n",
       "  color: var(--sklearn-color-text);\n",
       "  box-shadow: 2pt 2pt 4pt #999;\n",
       "  /* unfitted */\n",
       "  background: var(--sklearn-color-unfitted-level-0);\n",
       "  border: .5pt solid var(--sklearn-color-unfitted-level-3);\n",
       "}\n",
       "\n",
       ".sk-estimator-doc-link.fitted span {\n",
       "  /* fitted */\n",
       "  background: var(--sklearn-color-fitted-level-0);\n",
       "  border: var(--sklearn-color-fitted-level-3);\n",
       "}\n",
       "\n",
       ".sk-estimator-doc-link:hover span {\n",
       "  display: block;\n",
       "}\n",
       "\n",
       "/* \"?\"-specific style due to the `<a>` HTML tag */\n",
       "\n",
       "#sk-container-id-1 a.estimator_doc_link {\n",
       "  float: right;\n",
       "  font-size: 1rem;\n",
       "  line-height: 1em;\n",
       "  font-family: monospace;\n",
       "  background-color: var(--sklearn-color-background);\n",
       "  border-radius: 1rem;\n",
       "  height: 1rem;\n",
       "  width: 1rem;\n",
       "  text-decoration: none;\n",
       "  /* unfitted */\n",
       "  color: var(--sklearn-color-unfitted-level-1);\n",
       "  border: var(--sklearn-color-unfitted-level-1) 1pt solid;\n",
       "}\n",
       "\n",
       "#sk-container-id-1 a.estimator_doc_link.fitted {\n",
       "  /* fitted */\n",
       "  border: var(--sklearn-color-fitted-level-1) 1pt solid;\n",
       "  color: var(--sklearn-color-fitted-level-1);\n",
       "}\n",
       "\n",
       "/* On hover */\n",
       "#sk-container-id-1 a.estimator_doc_link:hover {\n",
       "  /* unfitted */\n",
       "  background-color: var(--sklearn-color-unfitted-level-3);\n",
       "  color: var(--sklearn-color-background);\n",
       "  text-decoration: none;\n",
       "}\n",
       "\n",
       "#sk-container-id-1 a.estimator_doc_link.fitted:hover {\n",
       "  /* fitted */\n",
       "  background-color: var(--sklearn-color-fitted-level-3);\n",
       "}\n",
       "</style><div id=\"sk-container-id-1\" class=\"sk-top-container\"><div class=\"sk-text-repr-fallback\"><pre>Pipeline(steps=[(&#x27;standardscaler&#x27;, StandardScaler()),\n",
       "                (&#x27;logisticregression&#x27;, LogisticRegression())])</pre><b>In a Jupyter environment, please rerun this cell to show the HTML representation or trust the notebook. <br />On GitHub, the HTML representation is unable to render, please try loading this page with nbviewer.org.</b></div><div class=\"sk-container\" hidden><div class=\"sk-item sk-dashed-wrapped\"><div class=\"sk-label-container\"><div class=\"sk-label  sk-toggleable\"><input class=\"sk-toggleable__control sk-hidden--visually\" id=\"sk-estimator-id-1\" type=\"checkbox\" ><label for=\"sk-estimator-id-1\" class=\"sk-toggleable__label  sk-toggleable__label-arrow \">&nbsp;&nbsp;Pipeline<a class=\"sk-estimator-doc-link \" rel=\"noreferrer\" target=\"_blank\" href=\"https://scikit-learn.org/1.4/modules/generated/sklearn.pipeline.Pipeline.html\">?<span>Documentation for Pipeline</span></a><span class=\"sk-estimator-doc-link \">i<span>Not fitted</span></span></label><div class=\"sk-toggleable__content \"><pre>Pipeline(steps=[(&#x27;standardscaler&#x27;, StandardScaler()),\n",
       "                (&#x27;logisticregression&#x27;, LogisticRegression())])</pre></div> </div></div><div class=\"sk-serial\"><div class=\"sk-item\"><div class=\"sk-estimator  sk-toggleable\"><input class=\"sk-toggleable__control sk-hidden--visually\" id=\"sk-estimator-id-2\" type=\"checkbox\" ><label for=\"sk-estimator-id-2\" class=\"sk-toggleable__label  sk-toggleable__label-arrow \">&nbsp;StandardScaler<a class=\"sk-estimator-doc-link \" rel=\"noreferrer\" target=\"_blank\" href=\"https://scikit-learn.org/1.4/modules/generated/sklearn.preprocessing.StandardScaler.html\">?<span>Documentation for StandardScaler</span></a></label><div class=\"sk-toggleable__content \"><pre>StandardScaler()</pre></div> </div></div><div class=\"sk-item\"><div class=\"sk-estimator  sk-toggleable\"><input class=\"sk-toggleable__control sk-hidden--visually\" id=\"sk-estimator-id-3\" type=\"checkbox\" ><label for=\"sk-estimator-id-3\" class=\"sk-toggleable__label  sk-toggleable__label-arrow \">&nbsp;LogisticRegression<a class=\"sk-estimator-doc-link \" rel=\"noreferrer\" target=\"_blank\" href=\"https://scikit-learn.org/1.4/modules/generated/sklearn.linear_model.LogisticRegression.html\">?<span>Documentation for LogisticRegression</span></a></label><div class=\"sk-toggleable__content \"><pre>LogisticRegression()</pre></div> </div></div></div></div></div></div>"
      ],
      "text/plain": [
       "Pipeline(steps=[('standardscaler', StandardScaler()),\n",
       "                ('logisticregression', LogisticRegression())])"
      ]
     },
     "execution_count": 179,
     "metadata": {},
     "output_type": "execute_result"
    }
   ],
   "source": [
    "list(pipelines.values())[0]"
   ]
  },
  {
   "cell_type": "code",
   "execution_count": 180,
   "id": "1bce83e9",
   "metadata": {},
   "outputs": [],
   "source": [
    "fit_models = {}\n",
    "for algo, pipeline in pipelines.items():\n",
    "    model = pipeline.fit(X_train, y_train)\n",
    "    fit_models[algo] =  model"
   ]
  },
  {
   "cell_type": "code",
   "execution_count": 181,
   "id": "9e7b61c3",
   "metadata": {},
   "outputs": [
    {
     "data": {
      "text/plain": [
       "{'lr': Pipeline(steps=[('standardscaler', StandardScaler()),\n",
       "                 ('logisticregression', LogisticRegression())]),\n",
       " 'rc': Pipeline(steps=[('standardscaler', StandardScaler()),\n",
       "                 ('ridgeclassifier', RidgeClassifier())]),\n",
       " 'rf': Pipeline(steps=[('standardscaler', StandardScaler()),\n",
       "                 ('randomforestclassifier', RandomForestClassifier())]),\n",
       " 'gb': Pipeline(steps=[('standardscaler', StandardScaler()),\n",
       "                 ('gradientboostingclassifier', GradientBoostingClassifier())])}"
      ]
     },
     "execution_count": 181,
     "metadata": {},
     "output_type": "execute_result"
    }
   ],
   "source": [
    "fit_models"
   ]
  },
  {
   "cell_type": "code",
   "execution_count": 185,
   "id": "d6112735",
   "metadata": {},
   "outputs": [
    {
     "data": {
      "text/plain": [
       "array(['Buuu que mal', 'Bieeen', 'Bieeen', 'Bieeen', 'Buuu que mal',\n",
       "       'Bieeen', 'Buuu que mal', 'Buuu que mal', 'Bieeen', 'Bieeen',\n",
       "       'Bieeen', 'Bieeen', 'Bieeen', 'Bieeen', 'Bieeen', 'Bieeen',\n",
       "       'Bieeen', 'Bieeen', 'Buuu que mal', 'Buuu que mal', 'Bieeen',\n",
       "       'Bieeen', 'Bieeen', 'Buuu que mal', 'Buuu que mal', 'Bieeen',\n",
       "       'Buuu que mal', 'Bieeen', 'Bieeen', 'Bieeen', 'Bieeen', 'Bieeen',\n",
       "       'Buuu que mal', 'Buuu que mal', 'Buuu que mal', 'Buuu que mal',\n",
       "       'Bieeen', 'Bieeen', 'Buuu que mal', 'Bieeen', 'Buuu que mal',\n",
       "       'Bieeen', 'Buuu que mal', 'Bieeen', 'Bieeen', 'Buuu que mal',\n",
       "       'Bieeen', 'Bieeen', 'Bieeen', 'Bieeen', 'Bieeen', 'Buuu que mal',\n",
       "       'Bieeen', 'Bieeen', 'Bieeen', 'Bieeen', 'Buuu que mal', 'Bieeen',\n",
       "       'Buuu que mal', 'Bieeen', 'Bieeen', 'Buuu que mal', 'Buuu que mal',\n",
       "       'Buuu que mal', 'Buuu que mal', 'Bieeen', 'Buuu que mal', 'Bieeen',\n",
       "       'Bieeen', 'Buuu que mal', 'Buuu que mal', 'Bieeen', 'Bieeen',\n",
       "       'Bieeen', 'Buuu que mal', 'Buuu que mal', 'Bieeen', 'Buuu que mal',\n",
       "       'Buuu que mal', 'Bieeen', 'Buuu que mal', 'Bieeen', 'Buuu que mal',\n",
       "       'Buuu que mal', 'Bieeen', 'Buuu que mal', 'Bieeen', 'Bieeen',\n",
       "       'Bieeen', 'Bieeen', 'Bieeen', 'Bieeen', 'Bieeen', 'Bieeen',\n",
       "       'Bieeen', 'Bieeen', 'Bieeen', 'Bieeen', 'Bieeen', 'Buuu que mal',\n",
       "       'Buuu que mal', 'Buuu que mal', 'Buuu que mal', 'Bieeen', 'Bieeen',\n",
       "       'Buuu que mal', 'Buuu que mal', 'Bieeen', 'Bieeen', 'Bieeen',\n",
       "       'Bieeen', 'Buuu que mal', 'Buuu que mal', 'Bieeen', 'Buuu que mal',\n",
       "       'Bieeen', 'Buuu que mal', 'Bieeen', 'Buuu que mal', 'Bieeen',\n",
       "       'Buuu que mal', 'Bieeen', 'Buuu que mal', 'Buuu que mal', 'Bieeen',\n",
       "       'Bieeen', 'Bieeen', 'Buuu que mal', 'Bieeen', 'Bieeen', 'Bieeen',\n",
       "       'Buuu que mal', 'Bieeen', 'Buuu que mal', 'Bieeen', 'Buuu que mal',\n",
       "       'Buuu que mal', 'Buuu que mal', 'Buuu que mal', 'Buuu que mal',\n",
       "       'Bieeen', 'Buuu que mal', 'Buuu que mal', 'Bieeen', 'Buuu que mal',\n",
       "       'Bieeen', 'Bieeen', 'Buuu que mal', 'Bieeen', 'Bieeen', 'Bieeen',\n",
       "       'Bieeen', 'Bieeen', 'Bieeen', 'Bieeen', 'Bieeen', 'Bieeen',\n",
       "       'Bieeen', 'Bieeen', 'Bieeen', 'Bieeen', 'Buuu que mal', 'Bieeen',\n",
       "       'Buuu que mal', 'Bieeen'], dtype='<U12')"
      ]
     },
     "execution_count": 185,
     "metadata": {},
     "output_type": "execute_result"
    }
   ],
   "source": [
    "fit_models['rc'].predict(X_test) "
   ]
  },
  {
   "cell_type": "markdown",
   "id": "620a909e",
   "metadata": {},
   "source": [
    "Evaluar y serializar el modelo"
   ]
  },
  {
   "cell_type": "markdown",
   "id": "f7bfffe7",
   "metadata": {},
   "source": [
    "Otras metricas: precision, recall, f1 score, AUC. Aqui se usa precision"
   ]
  },
  {
   "cell_type": "code",
   "execution_count": 186,
   "id": "8474ab01",
   "metadata": {},
   "outputs": [],
   "source": [
    "from sklearn.metrics import accuracy_score # Accuracy metrics \n",
    "import pickle "
   ]
  },
  {
   "cell_type": "code",
   "execution_count": 187,
   "id": "ef378352",
   "metadata": {},
   "outputs": [
    {
     "name": "stdout",
     "output_type": "stream",
     "text": [
      "lr 0.9939393939393939\n",
      "rc 0.9939393939393939\n",
      "rf 0.9878787878787879\n",
      "gb 0.9818181818181818\n"
     ]
    }
   ],
   "source": [
    "for algo, model in fit_models.items():\n",
    "    yhat = model.predict(X_test) ## yhat almacena las predicciones reales  \n",
    "    print(algo, accuracy_score(y_test, yhat)) #imprimimos la precision, "
   ]
  },
  {
   "cell_type": "markdown",
   "id": "3b566873",
   "metadata": {},
   "source": [
    "Lo que se hace a continuacion tiene muchos casos de uso diferentes, se puede hacer una deteccion de accion o un modelo de lenguaje de señas(que se base en un solo cuadro o en una sola coordenada), analisis de sentimientos, etc."
   ]
  },
  {
   "cell_type": "code",
   "execution_count": 193,
   "id": "c643d0e0",
   "metadata": {},
   "outputs": [
    {
     "data": {
      "text/plain": [
       "array(['Buuu que mal', 'Bieeen', 'Bieeen', 'Bieeen', 'Buuu que mal',\n",
       "       'Bieeen', 'Buuu que mal', 'Buuu que mal', 'Bieeen', 'Bieeen',\n",
       "       'Bieeen', 'Bieeen', 'Bieeen', 'Bieeen', 'Bieeen', 'Bieeen',\n",
       "       'Bieeen', 'Bieeen', 'Buuu que mal', 'Buuu que mal', 'Bieeen',\n",
       "       'Bieeen', 'Bieeen', 'Buuu que mal', 'Buuu que mal', 'Bieeen',\n",
       "       'Buuu que mal', 'Bieeen', 'Bieeen', 'Bieeen', 'Bieeen', 'Bieeen',\n",
       "       'Buuu que mal', 'Buuu que mal', 'Buuu que mal', 'Buuu que mal',\n",
       "       'Bieeen', 'Bieeen', 'Buuu que mal', 'Bieeen', 'Buuu que mal',\n",
       "       'Bieeen', 'Buuu que mal', 'Bieeen', 'Bieeen', 'Buuu que mal',\n",
       "       'Bieeen', 'Bieeen', 'Bieeen', 'Bieeen', 'Bieeen', 'Buuu que mal',\n",
       "       'Bieeen', 'Bieeen', 'Bieeen', 'Bieeen', 'Buuu que mal', 'Bieeen',\n",
       "       'Buuu que mal', 'Bieeen', 'Bieeen', 'Buuu que mal', 'Buuu que mal',\n",
       "       'Buuu que mal', 'Buuu que mal', 'Bieeen', 'Buuu que mal', 'Bieeen',\n",
       "       'Bieeen', 'Buuu que mal', 'Buuu que mal', 'Bieeen', 'Bieeen',\n",
       "       'Bieeen', 'Buuu que mal', 'Buuu que mal', 'Bieeen', 'Buuu que mal',\n",
       "       'Buuu que mal', 'Bieeen', 'Buuu que mal', 'Bieeen', 'Buuu que mal',\n",
       "       'Buuu que mal', 'Bieeen', 'Buuu que mal', 'Bieeen', 'Bieeen',\n",
       "       'Bieeen', 'Bieeen', 'Bieeen', 'Bieeen', 'Bieeen', 'Bieeen',\n",
       "       'Bieeen', 'Bieeen', 'Bieeen', 'Bieeen', 'Bieeen', 'Buuu que mal',\n",
       "       'Buuu que mal', 'Buuu que mal', 'Buuu que mal', 'Bieeen', 'Bieeen',\n",
       "       'Buuu que mal', 'Buuu que mal', 'Bieeen', 'Bieeen', 'Bieeen',\n",
       "       'Bieeen', 'Buuu que mal', 'Buuu que mal', 'Bieeen', 'Buuu que mal',\n",
       "       'Bieeen', 'Buuu que mal', 'Bieeen', 'Buuu que mal', 'Bieeen',\n",
       "       'Buuu que mal', 'Bieeen', 'Buuu que mal', 'Buuu que mal', 'Bieeen',\n",
       "       'Bieeen', 'Bieeen', 'Buuu que mal', 'Bieeen', 'Bieeen', 'Bieeen',\n",
       "       'Buuu que mal', 'Bieeen', 'Buuu que mal', 'Bieeen', 'Buuu que mal',\n",
       "       'Buuu que mal', 'Buuu que mal', 'Buuu que mal', 'Buuu que mal',\n",
       "       'Bieeen', 'Buuu que mal', 'Buuu que mal', 'Bieeen', 'Buuu que mal',\n",
       "       'Bieeen', 'Bieeen', 'Buuu que mal', 'Bieeen', 'Bieeen', 'Bieeen',\n",
       "       'Bieeen', 'Bieeen', 'Bieeen', 'Bieeen', 'Bieeen', 'Bieeen',\n",
       "       'Bieeen', 'Bieeen', 'Bieeen', 'Bieeen', 'Buuu que mal', 'Bieeen',\n",
       "       'Buuu que mal', 'Bieeen'], dtype='<U12')"
      ]
     },
     "execution_count": 193,
     "metadata": {},
     "output_type": "execute_result"
    }
   ],
   "source": [
    "fit_models['rc'].predict(X_test)"
   ]
  },
  {
   "cell_type": "code",
   "execution_count": 194,
   "id": "f2627dd6",
   "metadata": {},
   "outputs": [
    {
     "data": {
      "text/plain": [
       "435    Buuu que mal\n",
       "20           Bieeen\n",
       "11           Bieeen\n",
       "129          Bieeen\n",
       "348    Buuu que mal\n",
       "           ...     \n",
       "43           Bieeen\n",
       "439    Buuu que mal\n",
       "115          Bieeen\n",
       "496    Buuu que mal\n",
       "122          Bieeen\n",
       "Name: class, Length: 165, dtype: object"
      ]
     },
     "execution_count": 194,
     "metadata": {},
     "output_type": "execute_result"
    }
   ],
   "source": [
    "y_test"
   ]
  },
  {
   "cell_type": "code",
   "execution_count": 196,
   "id": "85b69cfb",
   "metadata": {},
   "outputs": [],
   "source": [
    "# Guardar el modelo ya entrenado\n",
    "with open('modelo.pkl', 'wb') as f: \n",
    "    pickle.dump(fit_models['rf'], f) "
   ]
  },
  {
   "cell_type": "markdown",
   "id": "8e53abf1",
   "metadata": {},
   "source": [
    "## Cargar el modelo ya entrenado"
   ]
  },
  {
   "cell_type": "code",
   "execution_count": 197,
   "id": "6723a260",
   "metadata": {},
   "outputs": [],
   "source": [
    "with open('modelo.pkl', 'rb') as f: \n",
    "    model = pickle.load(f)"
   ]
  },
  {
   "cell_type": "code",
   "execution_count": 198,
   "id": "2f052255",
   "metadata": {},
   "outputs": [
    {
     "data": {
      "text/html": [
       "<style>#sk-container-id-3 {\n",
       "  /* Definition of color scheme common for light and dark mode */\n",
       "  --sklearn-color-text: black;\n",
       "  --sklearn-color-line: gray;\n",
       "  /* Definition of color scheme for unfitted estimators */\n",
       "  --sklearn-color-unfitted-level-0: #fff5e6;\n",
       "  --sklearn-color-unfitted-level-1: #f6e4d2;\n",
       "  --sklearn-color-unfitted-level-2: #ffe0b3;\n",
       "  --sklearn-color-unfitted-level-3: chocolate;\n",
       "  /* Definition of color scheme for fitted estimators */\n",
       "  --sklearn-color-fitted-level-0: #f0f8ff;\n",
       "  --sklearn-color-fitted-level-1: #d4ebff;\n",
       "  --sklearn-color-fitted-level-2: #b3dbfd;\n",
       "  --sklearn-color-fitted-level-3: cornflowerblue;\n",
       "\n",
       "  /* Specific color for light theme */\n",
       "  --sklearn-color-text-on-default-background: var(--sg-text-color, var(--theme-code-foreground, var(--jp-content-font-color1, black)));\n",
       "  --sklearn-color-background: var(--sg-background-color, var(--theme-background, var(--jp-layout-color0, white)));\n",
       "  --sklearn-color-border-box: var(--sg-text-color, var(--theme-code-foreground, var(--jp-content-font-color1, black)));\n",
       "  --sklearn-color-icon: #696969;\n",
       "\n",
       "  @media (prefers-color-scheme: dark) {\n",
       "    /* Redefinition of color scheme for dark theme */\n",
       "    --sklearn-color-text-on-default-background: var(--sg-text-color, var(--theme-code-foreground, var(--jp-content-font-color1, white)));\n",
       "    --sklearn-color-background: var(--sg-background-color, var(--theme-background, var(--jp-layout-color0, #111)));\n",
       "    --sklearn-color-border-box: var(--sg-text-color, var(--theme-code-foreground, var(--jp-content-font-color1, white)));\n",
       "    --sklearn-color-icon: #878787;\n",
       "  }\n",
       "}\n",
       "\n",
       "#sk-container-id-3 {\n",
       "  color: var(--sklearn-color-text);\n",
       "}\n",
       "\n",
       "#sk-container-id-3 pre {\n",
       "  padding: 0;\n",
       "}\n",
       "\n",
       "#sk-container-id-3 input.sk-hidden--visually {\n",
       "  border: 0;\n",
       "  clip: rect(1px 1px 1px 1px);\n",
       "  clip: rect(1px, 1px, 1px, 1px);\n",
       "  height: 1px;\n",
       "  margin: -1px;\n",
       "  overflow: hidden;\n",
       "  padding: 0;\n",
       "  position: absolute;\n",
       "  width: 1px;\n",
       "}\n",
       "\n",
       "#sk-container-id-3 div.sk-dashed-wrapped {\n",
       "  border: 1px dashed var(--sklearn-color-line);\n",
       "  margin: 0 0.4em 0.5em 0.4em;\n",
       "  box-sizing: border-box;\n",
       "  padding-bottom: 0.4em;\n",
       "  background-color: var(--sklearn-color-background);\n",
       "}\n",
       "\n",
       "#sk-container-id-3 div.sk-container {\n",
       "  /* jupyter's `normalize.less` sets `[hidden] { display: none; }`\n",
       "     but bootstrap.min.css set `[hidden] { display: none !important; }`\n",
       "     so we also need the `!important` here to be able to override the\n",
       "     default hidden behavior on the sphinx rendered scikit-learn.org.\n",
       "     See: https://github.com/scikit-learn/scikit-learn/issues/21755 */\n",
       "  display: inline-block !important;\n",
       "  position: relative;\n",
       "}\n",
       "\n",
       "#sk-container-id-3 div.sk-text-repr-fallback {\n",
       "  display: none;\n",
       "}\n",
       "\n",
       "div.sk-parallel-item,\n",
       "div.sk-serial,\n",
       "div.sk-item {\n",
       "  /* draw centered vertical line to link estimators */\n",
       "  background-image: linear-gradient(var(--sklearn-color-text-on-default-background), var(--sklearn-color-text-on-default-background));\n",
       "  background-size: 2px 100%;\n",
       "  background-repeat: no-repeat;\n",
       "  background-position: center center;\n",
       "}\n",
       "\n",
       "/* Parallel-specific style estimator block */\n",
       "\n",
       "#sk-container-id-3 div.sk-parallel-item::after {\n",
       "  content: \"\";\n",
       "  width: 100%;\n",
       "  border-bottom: 2px solid var(--sklearn-color-text-on-default-background);\n",
       "  flex-grow: 1;\n",
       "}\n",
       "\n",
       "#sk-container-id-3 div.sk-parallel {\n",
       "  display: flex;\n",
       "  align-items: stretch;\n",
       "  justify-content: center;\n",
       "  background-color: var(--sklearn-color-background);\n",
       "  position: relative;\n",
       "}\n",
       "\n",
       "#sk-container-id-3 div.sk-parallel-item {\n",
       "  display: flex;\n",
       "  flex-direction: column;\n",
       "}\n",
       "\n",
       "#sk-container-id-3 div.sk-parallel-item:first-child::after {\n",
       "  align-self: flex-end;\n",
       "  width: 50%;\n",
       "}\n",
       "\n",
       "#sk-container-id-3 div.sk-parallel-item:last-child::after {\n",
       "  align-self: flex-start;\n",
       "  width: 50%;\n",
       "}\n",
       "\n",
       "#sk-container-id-3 div.sk-parallel-item:only-child::after {\n",
       "  width: 0;\n",
       "}\n",
       "\n",
       "/* Serial-specific style estimator block */\n",
       "\n",
       "#sk-container-id-3 div.sk-serial {\n",
       "  display: flex;\n",
       "  flex-direction: column;\n",
       "  align-items: center;\n",
       "  background-color: var(--sklearn-color-background);\n",
       "  padding-right: 1em;\n",
       "  padding-left: 1em;\n",
       "}\n",
       "\n",
       "\n",
       "/* Toggleable style: style used for estimator/Pipeline/ColumnTransformer box that is\n",
       "clickable and can be expanded/collapsed.\n",
       "- Pipeline and ColumnTransformer use this feature and define the default style\n",
       "- Estimators will overwrite some part of the style using the `sk-estimator` class\n",
       "*/\n",
       "\n",
       "/* Pipeline and ColumnTransformer style (default) */\n",
       "\n",
       "#sk-container-id-3 div.sk-toggleable {\n",
       "  /* Default theme specific background. It is overwritten whether we have a\n",
       "  specific estimator or a Pipeline/ColumnTransformer */\n",
       "  background-color: var(--sklearn-color-background);\n",
       "}\n",
       "\n",
       "/* Toggleable label */\n",
       "#sk-container-id-3 label.sk-toggleable__label {\n",
       "  cursor: pointer;\n",
       "  display: block;\n",
       "  width: 100%;\n",
       "  margin-bottom: 0;\n",
       "  padding: 0.5em;\n",
       "  box-sizing: border-box;\n",
       "  text-align: center;\n",
       "}\n",
       "\n",
       "#sk-container-id-3 label.sk-toggleable__label-arrow:before {\n",
       "  /* Arrow on the left of the label */\n",
       "  content: \"▸\";\n",
       "  float: left;\n",
       "  margin-right: 0.25em;\n",
       "  color: var(--sklearn-color-icon);\n",
       "}\n",
       "\n",
       "#sk-container-id-3 label.sk-toggleable__label-arrow:hover:before {\n",
       "  color: var(--sklearn-color-text);\n",
       "}\n",
       "\n",
       "/* Toggleable content - dropdown */\n",
       "\n",
       "#sk-container-id-3 div.sk-toggleable__content {\n",
       "  max-height: 0;\n",
       "  max-width: 0;\n",
       "  overflow: hidden;\n",
       "  text-align: left;\n",
       "  /* unfitted */\n",
       "  background-color: var(--sklearn-color-unfitted-level-0);\n",
       "}\n",
       "\n",
       "#sk-container-id-3 div.sk-toggleable__content.fitted {\n",
       "  /* fitted */\n",
       "  background-color: var(--sklearn-color-fitted-level-0);\n",
       "}\n",
       "\n",
       "#sk-container-id-3 div.sk-toggleable__content pre {\n",
       "  margin: 0.2em;\n",
       "  border-radius: 0.25em;\n",
       "  color: var(--sklearn-color-text);\n",
       "  /* unfitted */\n",
       "  background-color: var(--sklearn-color-unfitted-level-0);\n",
       "}\n",
       "\n",
       "#sk-container-id-3 div.sk-toggleable__content.fitted pre {\n",
       "  /* unfitted */\n",
       "  background-color: var(--sklearn-color-fitted-level-0);\n",
       "}\n",
       "\n",
       "#sk-container-id-3 input.sk-toggleable__control:checked~div.sk-toggleable__content {\n",
       "  /* Expand drop-down */\n",
       "  max-height: 200px;\n",
       "  max-width: 100%;\n",
       "  overflow: auto;\n",
       "}\n",
       "\n",
       "#sk-container-id-3 input.sk-toggleable__control:checked~label.sk-toggleable__label-arrow:before {\n",
       "  content: \"▾\";\n",
       "}\n",
       "\n",
       "/* Pipeline/ColumnTransformer-specific style */\n",
       "\n",
       "#sk-container-id-3 div.sk-label input.sk-toggleable__control:checked~label.sk-toggleable__label {\n",
       "  color: var(--sklearn-color-text);\n",
       "  background-color: var(--sklearn-color-unfitted-level-2);\n",
       "}\n",
       "\n",
       "#sk-container-id-3 div.sk-label.fitted input.sk-toggleable__control:checked~label.sk-toggleable__label {\n",
       "  background-color: var(--sklearn-color-fitted-level-2);\n",
       "}\n",
       "\n",
       "/* Estimator-specific style */\n",
       "\n",
       "/* Colorize estimator box */\n",
       "#sk-container-id-3 div.sk-estimator input.sk-toggleable__control:checked~label.sk-toggleable__label {\n",
       "  /* unfitted */\n",
       "  background-color: var(--sklearn-color-unfitted-level-2);\n",
       "}\n",
       "\n",
       "#sk-container-id-3 div.sk-estimator.fitted input.sk-toggleable__control:checked~label.sk-toggleable__label {\n",
       "  /* fitted */\n",
       "  background-color: var(--sklearn-color-fitted-level-2);\n",
       "}\n",
       "\n",
       "#sk-container-id-3 div.sk-label label.sk-toggleable__label,\n",
       "#sk-container-id-3 div.sk-label label {\n",
       "  /* The background is the default theme color */\n",
       "  color: var(--sklearn-color-text-on-default-background);\n",
       "}\n",
       "\n",
       "/* On hover, darken the color of the background */\n",
       "#sk-container-id-3 div.sk-label:hover label.sk-toggleable__label {\n",
       "  color: var(--sklearn-color-text);\n",
       "  background-color: var(--sklearn-color-unfitted-level-2);\n",
       "}\n",
       "\n",
       "/* Label box, darken color on hover, fitted */\n",
       "#sk-container-id-3 div.sk-label.fitted:hover label.sk-toggleable__label.fitted {\n",
       "  color: var(--sklearn-color-text);\n",
       "  background-color: var(--sklearn-color-fitted-level-2);\n",
       "}\n",
       "\n",
       "/* Estimator label */\n",
       "\n",
       "#sk-container-id-3 div.sk-label label {\n",
       "  font-family: monospace;\n",
       "  font-weight: bold;\n",
       "  display: inline-block;\n",
       "  line-height: 1.2em;\n",
       "}\n",
       "\n",
       "#sk-container-id-3 div.sk-label-container {\n",
       "  text-align: center;\n",
       "}\n",
       "\n",
       "/* Estimator-specific */\n",
       "#sk-container-id-3 div.sk-estimator {\n",
       "  font-family: monospace;\n",
       "  border: 1px dotted var(--sklearn-color-border-box);\n",
       "  border-radius: 0.25em;\n",
       "  box-sizing: border-box;\n",
       "  margin-bottom: 0.5em;\n",
       "  /* unfitted */\n",
       "  background-color: var(--sklearn-color-unfitted-level-0);\n",
       "}\n",
       "\n",
       "#sk-container-id-3 div.sk-estimator.fitted {\n",
       "  /* fitted */\n",
       "  background-color: var(--sklearn-color-fitted-level-0);\n",
       "}\n",
       "\n",
       "/* on hover */\n",
       "#sk-container-id-3 div.sk-estimator:hover {\n",
       "  /* unfitted */\n",
       "  background-color: var(--sklearn-color-unfitted-level-2);\n",
       "}\n",
       "\n",
       "#sk-container-id-3 div.sk-estimator.fitted:hover {\n",
       "  /* fitted */\n",
       "  background-color: var(--sklearn-color-fitted-level-2);\n",
       "}\n",
       "\n",
       "/* Specification for estimator info (e.g. \"i\" and \"?\") */\n",
       "\n",
       "/* Common style for \"i\" and \"?\" */\n",
       "\n",
       ".sk-estimator-doc-link,\n",
       "a:link.sk-estimator-doc-link,\n",
       "a:visited.sk-estimator-doc-link {\n",
       "  float: right;\n",
       "  font-size: smaller;\n",
       "  line-height: 1em;\n",
       "  font-family: monospace;\n",
       "  background-color: var(--sklearn-color-background);\n",
       "  border-radius: 1em;\n",
       "  height: 1em;\n",
       "  width: 1em;\n",
       "  text-decoration: none !important;\n",
       "  margin-left: 1ex;\n",
       "  /* unfitted */\n",
       "  border: var(--sklearn-color-unfitted-level-1) 1pt solid;\n",
       "  color: var(--sklearn-color-unfitted-level-1);\n",
       "}\n",
       "\n",
       ".sk-estimator-doc-link.fitted,\n",
       "a:link.sk-estimator-doc-link.fitted,\n",
       "a:visited.sk-estimator-doc-link.fitted {\n",
       "  /* fitted */\n",
       "  border: var(--sklearn-color-fitted-level-1) 1pt solid;\n",
       "  color: var(--sklearn-color-fitted-level-1);\n",
       "}\n",
       "\n",
       "/* On hover */\n",
       "div.sk-estimator:hover .sk-estimator-doc-link:hover,\n",
       ".sk-estimator-doc-link:hover,\n",
       "div.sk-label-container:hover .sk-estimator-doc-link:hover,\n",
       ".sk-estimator-doc-link:hover {\n",
       "  /* unfitted */\n",
       "  background-color: var(--sklearn-color-unfitted-level-3);\n",
       "  color: var(--sklearn-color-background);\n",
       "  text-decoration: none;\n",
       "}\n",
       "\n",
       "div.sk-estimator.fitted:hover .sk-estimator-doc-link.fitted:hover,\n",
       ".sk-estimator-doc-link.fitted:hover,\n",
       "div.sk-label-container:hover .sk-estimator-doc-link.fitted:hover,\n",
       ".sk-estimator-doc-link.fitted:hover {\n",
       "  /* fitted */\n",
       "  background-color: var(--sklearn-color-fitted-level-3);\n",
       "  color: var(--sklearn-color-background);\n",
       "  text-decoration: none;\n",
       "}\n",
       "\n",
       "/* Span, style for the box shown on hovering the info icon */\n",
       ".sk-estimator-doc-link span {\n",
       "  display: none;\n",
       "  z-index: 9999;\n",
       "  position: relative;\n",
       "  font-weight: normal;\n",
       "  right: .2ex;\n",
       "  padding: .5ex;\n",
       "  margin: .5ex;\n",
       "  width: min-content;\n",
       "  min-width: 20ex;\n",
       "  max-width: 50ex;\n",
       "  color: var(--sklearn-color-text);\n",
       "  box-shadow: 2pt 2pt 4pt #999;\n",
       "  /* unfitted */\n",
       "  background: var(--sklearn-color-unfitted-level-0);\n",
       "  border: .5pt solid var(--sklearn-color-unfitted-level-3);\n",
       "}\n",
       "\n",
       ".sk-estimator-doc-link.fitted span {\n",
       "  /* fitted */\n",
       "  background: var(--sklearn-color-fitted-level-0);\n",
       "  border: var(--sklearn-color-fitted-level-3);\n",
       "}\n",
       "\n",
       ".sk-estimator-doc-link:hover span {\n",
       "  display: block;\n",
       "}\n",
       "\n",
       "/* \"?\"-specific style due to the `<a>` HTML tag */\n",
       "\n",
       "#sk-container-id-3 a.estimator_doc_link {\n",
       "  float: right;\n",
       "  font-size: 1rem;\n",
       "  line-height: 1em;\n",
       "  font-family: monospace;\n",
       "  background-color: var(--sklearn-color-background);\n",
       "  border-radius: 1rem;\n",
       "  height: 1rem;\n",
       "  width: 1rem;\n",
       "  text-decoration: none;\n",
       "  /* unfitted */\n",
       "  color: var(--sklearn-color-unfitted-level-1);\n",
       "  border: var(--sklearn-color-unfitted-level-1) 1pt solid;\n",
       "}\n",
       "\n",
       "#sk-container-id-3 a.estimator_doc_link.fitted {\n",
       "  /* fitted */\n",
       "  border: var(--sklearn-color-fitted-level-1) 1pt solid;\n",
       "  color: var(--sklearn-color-fitted-level-1);\n",
       "}\n",
       "\n",
       "/* On hover */\n",
       "#sk-container-id-3 a.estimator_doc_link:hover {\n",
       "  /* unfitted */\n",
       "  background-color: var(--sklearn-color-unfitted-level-3);\n",
       "  color: var(--sklearn-color-background);\n",
       "  text-decoration: none;\n",
       "}\n",
       "\n",
       "#sk-container-id-3 a.estimator_doc_link.fitted:hover {\n",
       "  /* fitted */\n",
       "  background-color: var(--sklearn-color-fitted-level-3);\n",
       "}\n",
       "</style><div id=\"sk-container-id-3\" class=\"sk-top-container\"><div class=\"sk-text-repr-fallback\"><pre>Pipeline(steps=[(&#x27;standardscaler&#x27;, StandardScaler()),\n",
       "                (&#x27;randomforestclassifier&#x27;, RandomForestClassifier())])</pre><b>In a Jupyter environment, please rerun this cell to show the HTML representation or trust the notebook. <br />On GitHub, the HTML representation is unable to render, please try loading this page with nbviewer.org.</b></div><div class=\"sk-container\" hidden><div class=\"sk-item sk-dashed-wrapped\"><div class=\"sk-label-container\"><div class=\"sk-label fitted sk-toggleable\"><input class=\"sk-toggleable__control sk-hidden--visually\" id=\"sk-estimator-id-7\" type=\"checkbox\" ><label for=\"sk-estimator-id-7\" class=\"sk-toggleable__label fitted sk-toggleable__label-arrow fitted\">&nbsp;&nbsp;Pipeline<a class=\"sk-estimator-doc-link fitted\" rel=\"noreferrer\" target=\"_blank\" href=\"https://scikit-learn.org/1.4/modules/generated/sklearn.pipeline.Pipeline.html\">?<span>Documentation for Pipeline</span></a><span class=\"sk-estimator-doc-link fitted\">i<span>Fitted</span></span></label><div class=\"sk-toggleable__content fitted\"><pre>Pipeline(steps=[(&#x27;standardscaler&#x27;, StandardScaler()),\n",
       "                (&#x27;randomforestclassifier&#x27;, RandomForestClassifier())])</pre></div> </div></div><div class=\"sk-serial\"><div class=\"sk-item\"><div class=\"sk-estimator fitted sk-toggleable\"><input class=\"sk-toggleable__control sk-hidden--visually\" id=\"sk-estimator-id-8\" type=\"checkbox\" ><label for=\"sk-estimator-id-8\" class=\"sk-toggleable__label fitted sk-toggleable__label-arrow fitted\">&nbsp;StandardScaler<a class=\"sk-estimator-doc-link fitted\" rel=\"noreferrer\" target=\"_blank\" href=\"https://scikit-learn.org/1.4/modules/generated/sklearn.preprocessing.StandardScaler.html\">?<span>Documentation for StandardScaler</span></a></label><div class=\"sk-toggleable__content fitted\"><pre>StandardScaler()</pre></div> </div></div><div class=\"sk-item\"><div class=\"sk-estimator fitted sk-toggleable\"><input class=\"sk-toggleable__control sk-hidden--visually\" id=\"sk-estimator-id-9\" type=\"checkbox\" ><label for=\"sk-estimator-id-9\" class=\"sk-toggleable__label fitted sk-toggleable__label-arrow fitted\">&nbsp;RandomForestClassifier<a class=\"sk-estimator-doc-link fitted\" rel=\"noreferrer\" target=\"_blank\" href=\"https://scikit-learn.org/1.4/modules/generated/sklearn.ensemble.RandomForestClassifier.html\">?<span>Documentation for RandomForestClassifier</span></a></label><div class=\"sk-toggleable__content fitted\"><pre>RandomForestClassifier()</pre></div> </div></div></div></div></div></div>"
      ],
      "text/plain": [
       "Pipeline(steps=[('standardscaler', StandardScaler()),\n",
       "                ('randomforestclassifier', RandomForestClassifier())])"
      ]
     },
     "execution_count": 198,
     "metadata": {},
     "output_type": "execute_result"
    }
   ],
   "source": [
    "model"
   ]
  },
  {
   "cell_type": "code",
   "execution_count": 199,
   "id": "2c14c146",
   "metadata": {},
   "outputs": [
    {
     "name": "stderr",
     "output_type": "stream",
     "text": [
      "/Library/Frameworks/Python.framework/Versions/3.10/lib/python3.10/site-packages/sklearn/base.py:493: UserWarning: X does not have valid feature names, but StandardScaler was fitted with feature names\n",
      "  warnings.warn(\n",
      "/Library/Frameworks/Python.framework/Versions/3.10/lib/python3.10/site-packages/sklearn/base.py:493: UserWarning: X does not have valid feature names, but StandardScaler was fitted with feature names\n",
      "  warnings.warn(\n"
     ]
    },
    {
     "name": "stdout",
     "output_type": "stream",
     "text": [
      "Buuu que mal [0. 1.]\n"
     ]
    },
    {
     "name": "stderr",
     "output_type": "stream",
     "text": [
      "/Library/Frameworks/Python.framework/Versions/3.10/lib/python3.10/site-packages/sklearn/base.py:493: UserWarning: X does not have valid feature names, but StandardScaler was fitted with feature names\n",
      "  warnings.warn(\n",
      "/Library/Frameworks/Python.framework/Versions/3.10/lib/python3.10/site-packages/sklearn/base.py:493: UserWarning: X does not have valid feature names, but StandardScaler was fitted with feature names\n",
      "  warnings.warn(\n"
     ]
    },
    {
     "name": "stdout",
     "output_type": "stream",
     "text": [
      "Buuu que mal [0. 1.]\n"
     ]
    },
    {
     "name": "stderr",
     "output_type": "stream",
     "text": [
      "/Library/Frameworks/Python.framework/Versions/3.10/lib/python3.10/site-packages/sklearn/base.py:493: UserWarning: X does not have valid feature names, but StandardScaler was fitted with feature names\n",
      "  warnings.warn(\n",
      "/Library/Frameworks/Python.framework/Versions/3.10/lib/python3.10/site-packages/sklearn/base.py:493: UserWarning: X does not have valid feature names, but StandardScaler was fitted with feature names\n",
      "  warnings.warn(\n"
     ]
    },
    {
     "name": "stdout",
     "output_type": "stream",
     "text": [
      "Buuu que mal [0. 1.]\n",
      "Buuu que mal [0. 1.]\n"
     ]
    },
    {
     "name": "stderr",
     "output_type": "stream",
     "text": [
      "/Library/Frameworks/Python.framework/Versions/3.10/lib/python3.10/site-packages/sklearn/base.py:493: UserWarning: X does not have valid feature names, but StandardScaler was fitted with feature names\n",
      "  warnings.warn(\n",
      "/Library/Frameworks/Python.framework/Versions/3.10/lib/python3.10/site-packages/sklearn/base.py:493: UserWarning: X does not have valid feature names, but StandardScaler was fitted with feature names\n",
      "  warnings.warn(\n",
      "/Library/Frameworks/Python.framework/Versions/3.10/lib/python3.10/site-packages/sklearn/base.py:493: UserWarning: X does not have valid feature names, but StandardScaler was fitted with feature names\n",
      "  warnings.warn(\n",
      "/Library/Frameworks/Python.framework/Versions/3.10/lib/python3.10/site-packages/sklearn/base.py:493: UserWarning: X does not have valid feature names, but StandardScaler was fitted with feature names\n",
      "  warnings.warn(\n"
     ]
    },
    {
     "name": "stdout",
     "output_type": "stream",
     "text": [
      "Buuu que mal [0. 1.]\n"
     ]
    },
    {
     "name": "stderr",
     "output_type": "stream",
     "text": [
      "/Library/Frameworks/Python.framework/Versions/3.10/lib/python3.10/site-packages/sklearn/base.py:493: UserWarning: X does not have valid feature names, but StandardScaler was fitted with feature names\n",
      "  warnings.warn(\n",
      "/Library/Frameworks/Python.framework/Versions/3.10/lib/python3.10/site-packages/sklearn/base.py:493: UserWarning: X does not have valid feature names, but StandardScaler was fitted with feature names\n",
      "  warnings.warn(\n",
      "/Library/Frameworks/Python.framework/Versions/3.10/lib/python3.10/site-packages/sklearn/base.py:493: UserWarning: X does not have valid feature names, but StandardScaler was fitted with feature names\n",
      "  warnings.warn(\n",
      "/Library/Frameworks/Python.framework/Versions/3.10/lib/python3.10/site-packages/sklearn/base.py:493: UserWarning: X does not have valid feature names, but StandardScaler was fitted with feature names\n",
      "  warnings.warn(\n"
     ]
    },
    {
     "name": "stdout",
     "output_type": "stream",
     "text": [
      "Buuu que mal [0. 1.]\n",
      "Buuu que mal [0. 1.]\n"
     ]
    },
    {
     "name": "stderr",
     "output_type": "stream",
     "text": [
      "/Library/Frameworks/Python.framework/Versions/3.10/lib/python3.10/site-packages/sklearn/base.py:493: UserWarning: X does not have valid feature names, but StandardScaler was fitted with feature names\n",
      "  warnings.warn(\n",
      "/Library/Frameworks/Python.framework/Versions/3.10/lib/python3.10/site-packages/sklearn/base.py:493: UserWarning: X does not have valid feature names, but StandardScaler was fitted with feature names\n",
      "  warnings.warn(\n"
     ]
    },
    {
     "name": "stdout",
     "output_type": "stream",
     "text": [
      "Buuu que mal [0. 1.]\n"
     ]
    },
    {
     "name": "stderr",
     "output_type": "stream",
     "text": [
      "/Library/Frameworks/Python.framework/Versions/3.10/lib/python3.10/site-packages/sklearn/base.py:493: UserWarning: X does not have valid feature names, but StandardScaler was fitted with feature names\n",
      "  warnings.warn(\n",
      "/Library/Frameworks/Python.framework/Versions/3.10/lib/python3.10/site-packages/sklearn/base.py:493: UserWarning: X does not have valid feature names, but StandardScaler was fitted with feature names\n",
      "  warnings.warn(\n"
     ]
    },
    {
     "name": "stdout",
     "output_type": "stream",
     "text": [
      "Buuu que mal [0. 1.]\n"
     ]
    },
    {
     "name": "stderr",
     "output_type": "stream",
     "text": [
      "/Library/Frameworks/Python.framework/Versions/3.10/lib/python3.10/site-packages/sklearn/base.py:493: UserWarning: X does not have valid feature names, but StandardScaler was fitted with feature names\n",
      "  warnings.warn(\n",
      "/Library/Frameworks/Python.framework/Versions/3.10/lib/python3.10/site-packages/sklearn/base.py:493: UserWarning: X does not have valid feature names, but StandardScaler was fitted with feature names\n",
      "  warnings.warn(\n",
      "/Library/Frameworks/Python.framework/Versions/3.10/lib/python3.10/site-packages/sklearn/base.py:493: UserWarning: X does not have valid feature names, but StandardScaler was fitted with feature names\n",
      "  warnings.warn(\n",
      "/Library/Frameworks/Python.framework/Versions/3.10/lib/python3.10/site-packages/sklearn/base.py:493: UserWarning: X does not have valid feature names, but StandardScaler was fitted with feature names\n",
      "  warnings.warn(\n"
     ]
    },
    {
     "name": "stdout",
     "output_type": "stream",
     "text": [
      "Buuu que mal [0. 1.]\n",
      "Buuu que mal [0. 1.]\n",
      "Buuu que mal [0. 1.]\n"
     ]
    },
    {
     "name": "stderr",
     "output_type": "stream",
     "text": [
      "/Library/Frameworks/Python.framework/Versions/3.10/lib/python3.10/site-packages/sklearn/base.py:493: UserWarning: X does not have valid feature names, but StandardScaler was fitted with feature names\n",
      "  warnings.warn(\n",
      "/Library/Frameworks/Python.framework/Versions/3.10/lib/python3.10/site-packages/sklearn/base.py:493: UserWarning: X does not have valid feature names, but StandardScaler was fitted with feature names\n",
      "  warnings.warn(\n",
      "/Library/Frameworks/Python.framework/Versions/3.10/lib/python3.10/site-packages/sklearn/base.py:493: UserWarning: X does not have valid feature names, but StandardScaler was fitted with feature names\n",
      "  warnings.warn(\n",
      "/Library/Frameworks/Python.framework/Versions/3.10/lib/python3.10/site-packages/sklearn/base.py:493: UserWarning: X does not have valid feature names, but StandardScaler was fitted with feature names\n",
      "  warnings.warn(\n"
     ]
    },
    {
     "name": "stdout",
     "output_type": "stream",
     "text": [
      "Buuu que mal [0. 1.]\n",
      "Buuu que mal [0. 1.]\n"
     ]
    },
    {
     "name": "stderr",
     "output_type": "stream",
     "text": [
      "/Library/Frameworks/Python.framework/Versions/3.10/lib/python3.10/site-packages/sklearn/base.py:493: UserWarning: X does not have valid feature names, but StandardScaler was fitted with feature names\n",
      "  warnings.warn(\n",
      "/Library/Frameworks/Python.framework/Versions/3.10/lib/python3.10/site-packages/sklearn/base.py:493: UserWarning: X does not have valid feature names, but StandardScaler was fitted with feature names\n",
      "  warnings.warn(\n",
      "/Library/Frameworks/Python.framework/Versions/3.10/lib/python3.10/site-packages/sklearn/base.py:493: UserWarning: X does not have valid feature names, but StandardScaler was fitted with feature names\n",
      "  warnings.warn(\n",
      "/Library/Frameworks/Python.framework/Versions/3.10/lib/python3.10/site-packages/sklearn/base.py:493: UserWarning: X does not have valid feature names, but StandardScaler was fitted with feature names\n",
      "  warnings.warn(\n"
     ]
    },
    {
     "name": "stdout",
     "output_type": "stream",
     "text": [
      "Buuu que mal [0. 1.]\n"
     ]
    },
    {
     "name": "stderr",
     "output_type": "stream",
     "text": [
      "/Library/Frameworks/Python.framework/Versions/3.10/lib/python3.10/site-packages/sklearn/base.py:493: UserWarning: X does not have valid feature names, but StandardScaler was fitted with feature names\n",
      "  warnings.warn(\n",
      "/Library/Frameworks/Python.framework/Versions/3.10/lib/python3.10/site-packages/sklearn/base.py:493: UserWarning: X does not have valid feature names, but StandardScaler was fitted with feature names\n",
      "  warnings.warn(\n"
     ]
    },
    {
     "name": "stdout",
     "output_type": "stream",
     "text": [
      "Buuu que mal [0. 1.]\n"
     ]
    },
    {
     "name": "stderr",
     "output_type": "stream",
     "text": [
      "/Library/Frameworks/Python.framework/Versions/3.10/lib/python3.10/site-packages/sklearn/base.py:493: UserWarning: X does not have valid feature names, but StandardScaler was fitted with feature names\n",
      "  warnings.warn(\n",
      "/Library/Frameworks/Python.framework/Versions/3.10/lib/python3.10/site-packages/sklearn/base.py:493: UserWarning: X does not have valid feature names, but StandardScaler was fitted with feature names\n",
      "  warnings.warn(\n",
      "/Library/Frameworks/Python.framework/Versions/3.10/lib/python3.10/site-packages/sklearn/base.py:493: UserWarning: X does not have valid feature names, but StandardScaler was fitted with feature names\n",
      "  warnings.warn(\n"
     ]
    },
    {
     "name": "stdout",
     "output_type": "stream",
     "text": [
      "Buuu que mal [0. 1.]\n",
      "Buuu que mal [0. 1.]\n"
     ]
    },
    {
     "name": "stderr",
     "output_type": "stream",
     "text": [
      "/Library/Frameworks/Python.framework/Versions/3.10/lib/python3.10/site-packages/sklearn/base.py:493: UserWarning: X does not have valid feature names, but StandardScaler was fitted with feature names\n",
      "  warnings.warn(\n",
      "/Library/Frameworks/Python.framework/Versions/3.10/lib/python3.10/site-packages/sklearn/base.py:493: UserWarning: X does not have valid feature names, but StandardScaler was fitted with feature names\n",
      "  warnings.warn(\n",
      "/Library/Frameworks/Python.framework/Versions/3.10/lib/python3.10/site-packages/sklearn/base.py:493: UserWarning: X does not have valid feature names, but StandardScaler was fitted with feature names\n",
      "  warnings.warn(\n"
     ]
    },
    {
     "name": "stdout",
     "output_type": "stream",
     "text": [
      "Buuu que mal [0. 1.]\n"
     ]
    },
    {
     "name": "stderr",
     "output_type": "stream",
     "text": [
      "/Library/Frameworks/Python.framework/Versions/3.10/lib/python3.10/site-packages/sklearn/base.py:493: UserWarning: X does not have valid feature names, but StandardScaler was fitted with feature names\n",
      "  warnings.warn(\n",
      "/Library/Frameworks/Python.framework/Versions/3.10/lib/python3.10/site-packages/sklearn/base.py:493: UserWarning: X does not have valid feature names, but StandardScaler was fitted with feature names\n",
      "  warnings.warn(\n"
     ]
    },
    {
     "name": "stdout",
     "output_type": "stream",
     "text": [
      "Buuu que mal [0. 1.]\n"
     ]
    },
    {
     "name": "stderr",
     "output_type": "stream",
     "text": [
      "/Library/Frameworks/Python.framework/Versions/3.10/lib/python3.10/site-packages/sklearn/base.py:493: UserWarning: X does not have valid feature names, but StandardScaler was fitted with feature names\n",
      "  warnings.warn(\n",
      "/Library/Frameworks/Python.framework/Versions/3.10/lib/python3.10/site-packages/sklearn/base.py:493: UserWarning: X does not have valid feature names, but StandardScaler was fitted with feature names\n",
      "  warnings.warn(\n"
     ]
    },
    {
     "name": "stdout",
     "output_type": "stream",
     "text": [
      "Buuu que mal [0. 1.]\n"
     ]
    },
    {
     "name": "stderr",
     "output_type": "stream",
     "text": [
      "/Library/Frameworks/Python.framework/Versions/3.10/lib/python3.10/site-packages/sklearn/base.py:493: UserWarning: X does not have valid feature names, but StandardScaler was fitted with feature names\n",
      "  warnings.warn(\n",
      "/Library/Frameworks/Python.framework/Versions/3.10/lib/python3.10/site-packages/sklearn/base.py:493: UserWarning: X does not have valid feature names, but StandardScaler was fitted with feature names\n",
      "  warnings.warn(\n"
     ]
    },
    {
     "name": "stdout",
     "output_type": "stream",
     "text": [
      "Buuu que mal [0. 1.]\n"
     ]
    },
    {
     "name": "stderr",
     "output_type": "stream",
     "text": [
      "/Library/Frameworks/Python.framework/Versions/3.10/lib/python3.10/site-packages/sklearn/base.py:493: UserWarning: X does not have valid feature names, but StandardScaler was fitted with feature names\n",
      "  warnings.warn(\n",
      "/Library/Frameworks/Python.framework/Versions/3.10/lib/python3.10/site-packages/sklearn/base.py:493: UserWarning: X does not have valid feature names, but StandardScaler was fitted with feature names\n",
      "  warnings.warn(\n"
     ]
    },
    {
     "name": "stdout",
     "output_type": "stream",
     "text": [
      "Buuu que mal [0. 1.]\n"
     ]
    },
    {
     "name": "stderr",
     "output_type": "stream",
     "text": [
      "/Library/Frameworks/Python.framework/Versions/3.10/lib/python3.10/site-packages/sklearn/base.py:493: UserWarning: X does not have valid feature names, but StandardScaler was fitted with feature names\n",
      "  warnings.warn(\n",
      "/Library/Frameworks/Python.framework/Versions/3.10/lib/python3.10/site-packages/sklearn/base.py:493: UserWarning: X does not have valid feature names, but StandardScaler was fitted with feature names\n",
      "  warnings.warn(\n"
     ]
    },
    {
     "name": "stdout",
     "output_type": "stream",
     "text": [
      "Buuu que mal [0. 1.]\n"
     ]
    },
    {
     "name": "stderr",
     "output_type": "stream",
     "text": [
      "/Library/Frameworks/Python.framework/Versions/3.10/lib/python3.10/site-packages/sklearn/base.py:493: UserWarning: X does not have valid feature names, but StandardScaler was fitted with feature names\n",
      "  warnings.warn(\n",
      "/Library/Frameworks/Python.framework/Versions/3.10/lib/python3.10/site-packages/sklearn/base.py:493: UserWarning: X does not have valid feature names, but StandardScaler was fitted with feature names\n",
      "  warnings.warn(\n"
     ]
    },
    {
     "name": "stdout",
     "output_type": "stream",
     "text": [
      "Buuu que mal [0. 1.]\n"
     ]
    },
    {
     "name": "stderr",
     "output_type": "stream",
     "text": [
      "/Library/Frameworks/Python.framework/Versions/3.10/lib/python3.10/site-packages/sklearn/base.py:493: UserWarning: X does not have valid feature names, but StandardScaler was fitted with feature names\n",
      "  warnings.warn(\n",
      "/Library/Frameworks/Python.framework/Versions/3.10/lib/python3.10/site-packages/sklearn/base.py:493: UserWarning: X does not have valid feature names, but StandardScaler was fitted with feature names\n",
      "  warnings.warn(\n"
     ]
    },
    {
     "name": "stdout",
     "output_type": "stream",
     "text": [
      "Buuu que mal [0. 1.]\n"
     ]
    },
    {
     "name": "stderr",
     "output_type": "stream",
     "text": [
      "/Library/Frameworks/Python.framework/Versions/3.10/lib/python3.10/site-packages/sklearn/base.py:493: UserWarning: X does not have valid feature names, but StandardScaler was fitted with feature names\n",
      "  warnings.warn(\n",
      "/Library/Frameworks/Python.framework/Versions/3.10/lib/python3.10/site-packages/sklearn/base.py:493: UserWarning: X does not have valid feature names, but StandardScaler was fitted with feature names\n",
      "  warnings.warn(\n"
     ]
    },
    {
     "name": "stdout",
     "output_type": "stream",
     "text": [
      "Buuu que mal [0. 1.]\n"
     ]
    },
    {
     "name": "stderr",
     "output_type": "stream",
     "text": [
      "/Library/Frameworks/Python.framework/Versions/3.10/lib/python3.10/site-packages/sklearn/base.py:493: UserWarning: X does not have valid feature names, but StandardScaler was fitted with feature names\n",
      "  warnings.warn(\n",
      "/Library/Frameworks/Python.framework/Versions/3.10/lib/python3.10/site-packages/sklearn/base.py:493: UserWarning: X does not have valid feature names, but StandardScaler was fitted with feature names\n",
      "  warnings.warn(\n"
     ]
    },
    {
     "name": "stdout",
     "output_type": "stream",
     "text": [
      "Buuu que mal [0. 1.]\n"
     ]
    },
    {
     "name": "stderr",
     "output_type": "stream",
     "text": [
      "/Library/Frameworks/Python.framework/Versions/3.10/lib/python3.10/site-packages/sklearn/base.py:493: UserWarning: X does not have valid feature names, but StandardScaler was fitted with feature names\n",
      "  warnings.warn(\n",
      "/Library/Frameworks/Python.framework/Versions/3.10/lib/python3.10/site-packages/sklearn/base.py:493: UserWarning: X does not have valid feature names, but StandardScaler was fitted with feature names\n",
      "  warnings.warn(\n"
     ]
    },
    {
     "name": "stdout",
     "output_type": "stream",
     "text": [
      "Buuu que mal [0. 1.]\n"
     ]
    },
    {
     "name": "stderr",
     "output_type": "stream",
     "text": [
      "/Library/Frameworks/Python.framework/Versions/3.10/lib/python3.10/site-packages/sklearn/base.py:493: UserWarning: X does not have valid feature names, but StandardScaler was fitted with feature names\n",
      "  warnings.warn(\n",
      "/Library/Frameworks/Python.framework/Versions/3.10/lib/python3.10/site-packages/sklearn/base.py:493: UserWarning: X does not have valid feature names, but StandardScaler was fitted with feature names\n",
      "  warnings.warn(\n"
     ]
    },
    {
     "name": "stdout",
     "output_type": "stream",
     "text": [
      "Buuu que mal [0. 1.]\n"
     ]
    },
    {
     "name": "stderr",
     "output_type": "stream",
     "text": [
      "/Library/Frameworks/Python.framework/Versions/3.10/lib/python3.10/site-packages/sklearn/base.py:493: UserWarning: X does not have valid feature names, but StandardScaler was fitted with feature names\n",
      "  warnings.warn(\n",
      "/Library/Frameworks/Python.framework/Versions/3.10/lib/python3.10/site-packages/sklearn/base.py:493: UserWarning: X does not have valid feature names, but StandardScaler was fitted with feature names\n",
      "  warnings.warn(\n"
     ]
    },
    {
     "name": "stdout",
     "output_type": "stream",
     "text": [
      "Buuu que mal [0. 1.]\n"
     ]
    },
    {
     "name": "stderr",
     "output_type": "stream",
     "text": [
      "/Library/Frameworks/Python.framework/Versions/3.10/lib/python3.10/site-packages/sklearn/base.py:493: UserWarning: X does not have valid feature names, but StandardScaler was fitted with feature names\n",
      "  warnings.warn(\n",
      "/Library/Frameworks/Python.framework/Versions/3.10/lib/python3.10/site-packages/sklearn/base.py:493: UserWarning: X does not have valid feature names, but StandardScaler was fitted with feature names\n",
      "  warnings.warn(\n"
     ]
    },
    {
     "name": "stdout",
     "output_type": "stream",
     "text": [
      "Buuu que mal [0. 1.]\n"
     ]
    },
    {
     "name": "stderr",
     "output_type": "stream",
     "text": [
      "/Library/Frameworks/Python.framework/Versions/3.10/lib/python3.10/site-packages/sklearn/base.py:493: UserWarning: X does not have valid feature names, but StandardScaler was fitted with feature names\n",
      "  warnings.warn(\n",
      "/Library/Frameworks/Python.framework/Versions/3.10/lib/python3.10/site-packages/sklearn/base.py:493: UserWarning: X does not have valid feature names, but StandardScaler was fitted with feature names\n",
      "  warnings.warn(\n"
     ]
    },
    {
     "name": "stdout",
     "output_type": "stream",
     "text": [
      "Buuu que mal [0. 1.]\n"
     ]
    },
    {
     "name": "stderr",
     "output_type": "stream",
     "text": [
      "/Library/Frameworks/Python.framework/Versions/3.10/lib/python3.10/site-packages/sklearn/base.py:493: UserWarning: X does not have valid feature names, but StandardScaler was fitted with feature names\n",
      "  warnings.warn(\n",
      "/Library/Frameworks/Python.framework/Versions/3.10/lib/python3.10/site-packages/sklearn/base.py:493: UserWarning: X does not have valid feature names, but StandardScaler was fitted with feature names\n",
      "  warnings.warn(\n"
     ]
    },
    {
     "name": "stdout",
     "output_type": "stream",
     "text": [
      "Buuu que mal [0. 1.]\n"
     ]
    },
    {
     "name": "stderr",
     "output_type": "stream",
     "text": [
      "/Library/Frameworks/Python.framework/Versions/3.10/lib/python3.10/site-packages/sklearn/base.py:493: UserWarning: X does not have valid feature names, but StandardScaler was fitted with feature names\n",
      "  warnings.warn(\n",
      "/Library/Frameworks/Python.framework/Versions/3.10/lib/python3.10/site-packages/sklearn/base.py:493: UserWarning: X does not have valid feature names, but StandardScaler was fitted with feature names\n",
      "  warnings.warn(\n"
     ]
    },
    {
     "name": "stdout",
     "output_type": "stream",
     "text": [
      "Buuu que mal [0. 1.]\n"
     ]
    },
    {
     "name": "stderr",
     "output_type": "stream",
     "text": [
      "/Library/Frameworks/Python.framework/Versions/3.10/lib/python3.10/site-packages/sklearn/base.py:493: UserWarning: X does not have valid feature names, but StandardScaler was fitted with feature names\n",
      "  warnings.warn(\n",
      "/Library/Frameworks/Python.framework/Versions/3.10/lib/python3.10/site-packages/sklearn/base.py:493: UserWarning: X does not have valid feature names, but StandardScaler was fitted with feature names\n",
      "  warnings.warn(\n"
     ]
    },
    {
     "name": "stdout",
     "output_type": "stream",
     "text": [
      "Buuu que mal [0. 1.]\n"
     ]
    },
    {
     "name": "stderr",
     "output_type": "stream",
     "text": [
      "/Library/Frameworks/Python.framework/Versions/3.10/lib/python3.10/site-packages/sklearn/base.py:493: UserWarning: X does not have valid feature names, but StandardScaler was fitted with feature names\n",
      "  warnings.warn(\n",
      "/Library/Frameworks/Python.framework/Versions/3.10/lib/python3.10/site-packages/sklearn/base.py:493: UserWarning: X does not have valid feature names, but StandardScaler was fitted with feature names\n",
      "  warnings.warn(\n"
     ]
    },
    {
     "name": "stdout",
     "output_type": "stream",
     "text": [
      "Buuu que mal [0. 1.]\n"
     ]
    },
    {
     "name": "stderr",
     "output_type": "stream",
     "text": [
      "/Library/Frameworks/Python.framework/Versions/3.10/lib/python3.10/site-packages/sklearn/base.py:493: UserWarning: X does not have valid feature names, but StandardScaler was fitted with feature names\n",
      "  warnings.warn(\n",
      "/Library/Frameworks/Python.framework/Versions/3.10/lib/python3.10/site-packages/sklearn/base.py:493: UserWarning: X does not have valid feature names, but StandardScaler was fitted with feature names\n",
      "  warnings.warn(\n"
     ]
    },
    {
     "name": "stdout",
     "output_type": "stream",
     "text": [
      "Buuu que mal [0. 1.]\n"
     ]
    },
    {
     "name": "stderr",
     "output_type": "stream",
     "text": [
      "/Library/Frameworks/Python.framework/Versions/3.10/lib/python3.10/site-packages/sklearn/base.py:493: UserWarning: X does not have valid feature names, but StandardScaler was fitted with feature names\n",
      "  warnings.warn(\n",
      "/Library/Frameworks/Python.framework/Versions/3.10/lib/python3.10/site-packages/sklearn/base.py:493: UserWarning: X does not have valid feature names, but StandardScaler was fitted with feature names\n",
      "  warnings.warn(\n"
     ]
    },
    {
     "name": "stdout",
     "output_type": "stream",
     "text": [
      "Buuu que mal [0. 1.]\n"
     ]
    },
    {
     "name": "stderr",
     "output_type": "stream",
     "text": [
      "/Library/Frameworks/Python.framework/Versions/3.10/lib/python3.10/site-packages/sklearn/base.py:493: UserWarning: X does not have valid feature names, but StandardScaler was fitted with feature names\n",
      "  warnings.warn(\n",
      "/Library/Frameworks/Python.framework/Versions/3.10/lib/python3.10/site-packages/sklearn/base.py:493: UserWarning: X does not have valid feature names, but StandardScaler was fitted with feature names\n",
      "  warnings.warn(\n"
     ]
    },
    {
     "name": "stdout",
     "output_type": "stream",
     "text": [
      "Buuu que mal [0. 1.]\n"
     ]
    },
    {
     "name": "stderr",
     "output_type": "stream",
     "text": [
      "/Library/Frameworks/Python.framework/Versions/3.10/lib/python3.10/site-packages/sklearn/base.py:493: UserWarning: X does not have valid feature names, but StandardScaler was fitted with feature names\n",
      "  warnings.warn(\n",
      "/Library/Frameworks/Python.framework/Versions/3.10/lib/python3.10/site-packages/sklearn/base.py:493: UserWarning: X does not have valid feature names, but StandardScaler was fitted with feature names\n",
      "  warnings.warn(\n"
     ]
    },
    {
     "name": "stdout",
     "output_type": "stream",
     "text": [
      "Buuu que mal [0. 1.]\n"
     ]
    },
    {
     "name": "stderr",
     "output_type": "stream",
     "text": [
      "/Library/Frameworks/Python.framework/Versions/3.10/lib/python3.10/site-packages/sklearn/base.py:493: UserWarning: X does not have valid feature names, but StandardScaler was fitted with feature names\n",
      "  warnings.warn(\n",
      "/Library/Frameworks/Python.framework/Versions/3.10/lib/python3.10/site-packages/sklearn/base.py:493: UserWarning: X does not have valid feature names, but StandardScaler was fitted with feature names\n",
      "  warnings.warn(\n"
     ]
    },
    {
     "name": "stdout",
     "output_type": "stream",
     "text": [
      "Buuu que mal [0. 1.]\n"
     ]
    },
    {
     "name": "stderr",
     "output_type": "stream",
     "text": [
      "/Library/Frameworks/Python.framework/Versions/3.10/lib/python3.10/site-packages/sklearn/base.py:493: UserWarning: X does not have valid feature names, but StandardScaler was fitted with feature names\n",
      "  warnings.warn(\n",
      "/Library/Frameworks/Python.framework/Versions/3.10/lib/python3.10/site-packages/sklearn/base.py:493: UserWarning: X does not have valid feature names, but StandardScaler was fitted with feature names\n",
      "  warnings.warn(\n"
     ]
    },
    {
     "name": "stdout",
     "output_type": "stream",
     "text": [
      "Buuu que mal [0. 1.]\n"
     ]
    },
    {
     "name": "stderr",
     "output_type": "stream",
     "text": [
      "/Library/Frameworks/Python.framework/Versions/3.10/lib/python3.10/site-packages/sklearn/base.py:493: UserWarning: X does not have valid feature names, but StandardScaler was fitted with feature names\n",
      "  warnings.warn(\n",
      "/Library/Frameworks/Python.framework/Versions/3.10/lib/python3.10/site-packages/sklearn/base.py:493: UserWarning: X does not have valid feature names, but StandardScaler was fitted with feature names\n",
      "  warnings.warn(\n"
     ]
    },
    {
     "name": "stdout",
     "output_type": "stream",
     "text": [
      "Buuu que mal [0. 1.]\n"
     ]
    },
    {
     "name": "stderr",
     "output_type": "stream",
     "text": [
      "/Library/Frameworks/Python.framework/Versions/3.10/lib/python3.10/site-packages/sklearn/base.py:493: UserWarning: X does not have valid feature names, but StandardScaler was fitted with feature names\n",
      "  warnings.warn(\n",
      "/Library/Frameworks/Python.framework/Versions/3.10/lib/python3.10/site-packages/sklearn/base.py:493: UserWarning: X does not have valid feature names, but StandardScaler was fitted with feature names\n",
      "  warnings.warn(\n"
     ]
    },
    {
     "name": "stdout",
     "output_type": "stream",
     "text": [
      "Buuu que mal [0. 1.]\n"
     ]
    },
    {
     "name": "stderr",
     "output_type": "stream",
     "text": [
      "/Library/Frameworks/Python.framework/Versions/3.10/lib/python3.10/site-packages/sklearn/base.py:493: UserWarning: X does not have valid feature names, but StandardScaler was fitted with feature names\n",
      "  warnings.warn(\n",
      "/Library/Frameworks/Python.framework/Versions/3.10/lib/python3.10/site-packages/sklearn/base.py:493: UserWarning: X does not have valid feature names, but StandardScaler was fitted with feature names\n",
      "  warnings.warn(\n"
     ]
    },
    {
     "name": "stdout",
     "output_type": "stream",
     "text": [
      "Buuu que mal [0. 1.]\n"
     ]
    },
    {
     "name": "stderr",
     "output_type": "stream",
     "text": [
      "/Library/Frameworks/Python.framework/Versions/3.10/lib/python3.10/site-packages/sklearn/base.py:493: UserWarning: X does not have valid feature names, but StandardScaler was fitted with feature names\n",
      "  warnings.warn(\n",
      "/Library/Frameworks/Python.framework/Versions/3.10/lib/python3.10/site-packages/sklearn/base.py:493: UserWarning: X does not have valid feature names, but StandardScaler was fitted with feature names\n",
      "  warnings.warn(\n"
     ]
    },
    {
     "name": "stdout",
     "output_type": "stream",
     "text": [
      "Buuu que mal [0. 1.]\n"
     ]
    },
    {
     "name": "stderr",
     "output_type": "stream",
     "text": [
      "/Library/Frameworks/Python.framework/Versions/3.10/lib/python3.10/site-packages/sklearn/base.py:493: UserWarning: X does not have valid feature names, but StandardScaler was fitted with feature names\n",
      "  warnings.warn(\n",
      "/Library/Frameworks/Python.framework/Versions/3.10/lib/python3.10/site-packages/sklearn/base.py:493: UserWarning: X does not have valid feature names, but StandardScaler was fitted with feature names\n",
      "  warnings.warn(\n"
     ]
    },
    {
     "name": "stdout",
     "output_type": "stream",
     "text": [
      "Buuu que mal [0. 1.]\n"
     ]
    },
    {
     "name": "stderr",
     "output_type": "stream",
     "text": [
      "/Library/Frameworks/Python.framework/Versions/3.10/lib/python3.10/site-packages/sklearn/base.py:493: UserWarning: X does not have valid feature names, but StandardScaler was fitted with feature names\n",
      "  warnings.warn(\n",
      "/Library/Frameworks/Python.framework/Versions/3.10/lib/python3.10/site-packages/sklearn/base.py:493: UserWarning: X does not have valid feature names, but StandardScaler was fitted with feature names\n",
      "  warnings.warn(\n"
     ]
    },
    {
     "name": "stdout",
     "output_type": "stream",
     "text": [
      "Buuu que mal [0. 1.]\n"
     ]
    },
    {
     "name": "stderr",
     "output_type": "stream",
     "text": [
      "/Library/Frameworks/Python.framework/Versions/3.10/lib/python3.10/site-packages/sklearn/base.py:493: UserWarning: X does not have valid feature names, but StandardScaler was fitted with feature names\n",
      "  warnings.warn(\n",
      "/Library/Frameworks/Python.framework/Versions/3.10/lib/python3.10/site-packages/sklearn/base.py:493: UserWarning: X does not have valid feature names, but StandardScaler was fitted with feature names\n",
      "  warnings.warn(\n"
     ]
    },
    {
     "name": "stdout",
     "output_type": "stream",
     "text": [
      "Buuu que mal [0. 1.]\n"
     ]
    },
    {
     "name": "stderr",
     "output_type": "stream",
     "text": [
      "/Library/Frameworks/Python.framework/Versions/3.10/lib/python3.10/site-packages/sklearn/base.py:493: UserWarning: X does not have valid feature names, but StandardScaler was fitted with feature names\n",
      "  warnings.warn(\n",
      "/Library/Frameworks/Python.framework/Versions/3.10/lib/python3.10/site-packages/sklearn/base.py:493: UserWarning: X does not have valid feature names, but StandardScaler was fitted with feature names\n",
      "  warnings.warn(\n"
     ]
    },
    {
     "name": "stdout",
     "output_type": "stream",
     "text": [
      "Buuu que mal [0. 1.]\n"
     ]
    },
    {
     "name": "stderr",
     "output_type": "stream",
     "text": [
      "/Library/Frameworks/Python.framework/Versions/3.10/lib/python3.10/site-packages/sklearn/base.py:493: UserWarning: X does not have valid feature names, but StandardScaler was fitted with feature names\n",
      "  warnings.warn(\n",
      "/Library/Frameworks/Python.framework/Versions/3.10/lib/python3.10/site-packages/sklearn/base.py:493: UserWarning: X does not have valid feature names, but StandardScaler was fitted with feature names\n",
      "  warnings.warn(\n"
     ]
    },
    {
     "name": "stdout",
     "output_type": "stream",
     "text": [
      "Buuu que mal [0. 1.]\n"
     ]
    },
    {
     "name": "stderr",
     "output_type": "stream",
     "text": [
      "/Library/Frameworks/Python.framework/Versions/3.10/lib/python3.10/site-packages/sklearn/base.py:493: UserWarning: X does not have valid feature names, but StandardScaler was fitted with feature names\n",
      "  warnings.warn(\n",
      "/Library/Frameworks/Python.framework/Versions/3.10/lib/python3.10/site-packages/sklearn/base.py:493: UserWarning: X does not have valid feature names, but StandardScaler was fitted with feature names\n",
      "  warnings.warn(\n"
     ]
    },
    {
     "name": "stdout",
     "output_type": "stream",
     "text": [
      "Buuu que mal [0. 1.]\n"
     ]
    },
    {
     "name": "stderr",
     "output_type": "stream",
     "text": [
      "/Library/Frameworks/Python.framework/Versions/3.10/lib/python3.10/site-packages/sklearn/base.py:493: UserWarning: X does not have valid feature names, but StandardScaler was fitted with feature names\n",
      "  warnings.warn(\n",
      "/Library/Frameworks/Python.framework/Versions/3.10/lib/python3.10/site-packages/sklearn/base.py:493: UserWarning: X does not have valid feature names, but StandardScaler was fitted with feature names\n",
      "  warnings.warn(\n"
     ]
    },
    {
     "name": "stdout",
     "output_type": "stream",
     "text": [
      "Buuu que mal [0. 1.]\n"
     ]
    },
    {
     "name": "stderr",
     "output_type": "stream",
     "text": [
      "/Library/Frameworks/Python.framework/Versions/3.10/lib/python3.10/site-packages/sklearn/base.py:493: UserWarning: X does not have valid feature names, but StandardScaler was fitted with feature names\n",
      "  warnings.warn(\n",
      "/Library/Frameworks/Python.framework/Versions/3.10/lib/python3.10/site-packages/sklearn/base.py:493: UserWarning: X does not have valid feature names, but StandardScaler was fitted with feature names\n",
      "  warnings.warn(\n"
     ]
    },
    {
     "name": "stdout",
     "output_type": "stream",
     "text": [
      "Buuu que mal [0. 1.]\n"
     ]
    },
    {
     "name": "stderr",
     "output_type": "stream",
     "text": [
      "/Library/Frameworks/Python.framework/Versions/3.10/lib/python3.10/site-packages/sklearn/base.py:493: UserWarning: X does not have valid feature names, but StandardScaler was fitted with feature names\n",
      "  warnings.warn(\n",
      "/Library/Frameworks/Python.framework/Versions/3.10/lib/python3.10/site-packages/sklearn/base.py:493: UserWarning: X does not have valid feature names, but StandardScaler was fitted with feature names\n",
      "  warnings.warn(\n"
     ]
    },
    {
     "name": "stdout",
     "output_type": "stream",
     "text": [
      "Buuu que mal [0. 1.]\n"
     ]
    },
    {
     "name": "stderr",
     "output_type": "stream",
     "text": [
      "/Library/Frameworks/Python.framework/Versions/3.10/lib/python3.10/site-packages/sklearn/base.py:493: UserWarning: X does not have valid feature names, but StandardScaler was fitted with feature names\n",
      "  warnings.warn(\n",
      "/Library/Frameworks/Python.framework/Versions/3.10/lib/python3.10/site-packages/sklearn/base.py:493: UserWarning: X does not have valid feature names, but StandardScaler was fitted with feature names\n",
      "  warnings.warn(\n"
     ]
    },
    {
     "name": "stdout",
     "output_type": "stream",
     "text": [
      "Buuu que mal [0. 1.]\n"
     ]
    },
    {
     "name": "stderr",
     "output_type": "stream",
     "text": [
      "/Library/Frameworks/Python.framework/Versions/3.10/lib/python3.10/site-packages/sklearn/base.py:493: UserWarning: X does not have valid feature names, but StandardScaler was fitted with feature names\n",
      "  warnings.warn(\n",
      "/Library/Frameworks/Python.framework/Versions/3.10/lib/python3.10/site-packages/sklearn/base.py:493: UserWarning: X does not have valid feature names, but StandardScaler was fitted with feature names\n",
      "  warnings.warn(\n"
     ]
    },
    {
     "name": "stdout",
     "output_type": "stream",
     "text": [
      "Buuu que mal [0. 1.]\n"
     ]
    },
    {
     "name": "stderr",
     "output_type": "stream",
     "text": [
      "/Library/Frameworks/Python.framework/Versions/3.10/lib/python3.10/site-packages/sklearn/base.py:493: UserWarning: X does not have valid feature names, but StandardScaler was fitted with feature names\n",
      "  warnings.warn(\n",
      "/Library/Frameworks/Python.framework/Versions/3.10/lib/python3.10/site-packages/sklearn/base.py:493: UserWarning: X does not have valid feature names, but StandardScaler was fitted with feature names\n",
      "  warnings.warn(\n"
     ]
    },
    {
     "name": "stdout",
     "output_type": "stream",
     "text": [
      "Buuu que mal [0.01 0.99]\n"
     ]
    },
    {
     "name": "stderr",
     "output_type": "stream",
     "text": [
      "/Library/Frameworks/Python.framework/Versions/3.10/lib/python3.10/site-packages/sklearn/base.py:493: UserWarning: X does not have valid feature names, but StandardScaler was fitted with feature names\n",
      "  warnings.warn(\n",
      "/Library/Frameworks/Python.framework/Versions/3.10/lib/python3.10/site-packages/sklearn/base.py:493: UserWarning: X does not have valid feature names, but StandardScaler was fitted with feature names\n",
      "  warnings.warn(\n"
     ]
    },
    {
     "name": "stdout",
     "output_type": "stream",
     "text": [
      "Buuu que mal [0.26 0.74]\n"
     ]
    },
    {
     "name": "stderr",
     "output_type": "stream",
     "text": [
      "/Library/Frameworks/Python.framework/Versions/3.10/lib/python3.10/site-packages/sklearn/base.py:493: UserWarning: X does not have valid feature names, but StandardScaler was fitted with feature names\n",
      "  warnings.warn(\n",
      "/Library/Frameworks/Python.framework/Versions/3.10/lib/python3.10/site-packages/sklearn/base.py:493: UserWarning: X does not have valid feature names, but StandardScaler was fitted with feature names\n",
      "  warnings.warn(\n"
     ]
    },
    {
     "name": "stdout",
     "output_type": "stream",
     "text": [
      "Buuu que mal [0.1 0.9]\n"
     ]
    },
    {
     "name": "stderr",
     "output_type": "stream",
     "text": [
      "/Library/Frameworks/Python.framework/Versions/3.10/lib/python3.10/site-packages/sklearn/base.py:493: UserWarning: X does not have valid feature names, but StandardScaler was fitted with feature names\n",
      "  warnings.warn(\n",
      "/Library/Frameworks/Python.framework/Versions/3.10/lib/python3.10/site-packages/sklearn/base.py:493: UserWarning: X does not have valid feature names, but StandardScaler was fitted with feature names\n",
      "  warnings.warn(\n"
     ]
    },
    {
     "name": "stdout",
     "output_type": "stream",
     "text": [
      "Buuu que mal [0.05 0.95]\n"
     ]
    },
    {
     "name": "stderr",
     "output_type": "stream",
     "text": [
      "/Library/Frameworks/Python.framework/Versions/3.10/lib/python3.10/site-packages/sklearn/base.py:493: UserWarning: X does not have valid feature names, but StandardScaler was fitted with feature names\n",
      "  warnings.warn(\n",
      "/Library/Frameworks/Python.framework/Versions/3.10/lib/python3.10/site-packages/sklearn/base.py:493: UserWarning: X does not have valid feature names, but StandardScaler was fitted with feature names\n",
      "  warnings.warn(\n"
     ]
    },
    {
     "name": "stdout",
     "output_type": "stream",
     "text": [
      "Buuu que mal [0.01 0.99]\n"
     ]
    },
    {
     "name": "stderr",
     "output_type": "stream",
     "text": [
      "/Library/Frameworks/Python.framework/Versions/3.10/lib/python3.10/site-packages/sklearn/base.py:493: UserWarning: X does not have valid feature names, but StandardScaler was fitted with feature names\n",
      "  warnings.warn(\n",
      "/Library/Frameworks/Python.framework/Versions/3.10/lib/python3.10/site-packages/sklearn/base.py:493: UserWarning: X does not have valid feature names, but StandardScaler was fitted with feature names\n",
      "  warnings.warn(\n"
     ]
    },
    {
     "name": "stdout",
     "output_type": "stream",
     "text": [
      "Buuu que mal [0. 1.]\n"
     ]
    },
    {
     "name": "stderr",
     "output_type": "stream",
     "text": [
      "/Library/Frameworks/Python.framework/Versions/3.10/lib/python3.10/site-packages/sklearn/base.py:493: UserWarning: X does not have valid feature names, but StandardScaler was fitted with feature names\n",
      "  warnings.warn(\n",
      "/Library/Frameworks/Python.framework/Versions/3.10/lib/python3.10/site-packages/sklearn/base.py:493: UserWarning: X does not have valid feature names, but StandardScaler was fitted with feature names\n",
      "  warnings.warn(\n"
     ]
    },
    {
     "name": "stdout",
     "output_type": "stream",
     "text": [
      "Buuu que mal [0. 1.]\n"
     ]
    },
    {
     "name": "stderr",
     "output_type": "stream",
     "text": [
      "/Library/Frameworks/Python.framework/Versions/3.10/lib/python3.10/site-packages/sklearn/base.py:493: UserWarning: X does not have valid feature names, but StandardScaler was fitted with feature names\n",
      "  warnings.warn(\n",
      "/Library/Frameworks/Python.framework/Versions/3.10/lib/python3.10/site-packages/sklearn/base.py:493: UserWarning: X does not have valid feature names, but StandardScaler was fitted with feature names\n",
      "  warnings.warn(\n"
     ]
    },
    {
     "name": "stdout",
     "output_type": "stream",
     "text": [
      "Buuu que mal [0.16 0.84]\n"
     ]
    },
    {
     "name": "stderr",
     "output_type": "stream",
     "text": [
      "/Library/Frameworks/Python.framework/Versions/3.10/lib/python3.10/site-packages/sklearn/base.py:493: UserWarning: X does not have valid feature names, but StandardScaler was fitted with feature names\n",
      "  warnings.warn(\n",
      "/Library/Frameworks/Python.framework/Versions/3.10/lib/python3.10/site-packages/sklearn/base.py:493: UserWarning: X does not have valid feature names, but StandardScaler was fitted with feature names\n",
      "  warnings.warn(\n"
     ]
    },
    {
     "name": "stdout",
     "output_type": "stream",
     "text": [
      "Bieeen [0.64 0.36]\n"
     ]
    },
    {
     "name": "stderr",
     "output_type": "stream",
     "text": [
      "/Library/Frameworks/Python.framework/Versions/3.10/lib/python3.10/site-packages/sklearn/base.py:493: UserWarning: X does not have valid feature names, but StandardScaler was fitted with feature names\n",
      "  warnings.warn(\n",
      "/Library/Frameworks/Python.framework/Versions/3.10/lib/python3.10/site-packages/sklearn/base.py:493: UserWarning: X does not have valid feature names, but StandardScaler was fitted with feature names\n",
      "  warnings.warn(\n"
     ]
    },
    {
     "name": "stdout",
     "output_type": "stream",
     "text": [
      "Buuu que mal [0.01 0.99]\n"
     ]
    },
    {
     "name": "stderr",
     "output_type": "stream",
     "text": [
      "/Library/Frameworks/Python.framework/Versions/3.10/lib/python3.10/site-packages/sklearn/base.py:493: UserWarning: X does not have valid feature names, but StandardScaler was fitted with feature names\n",
      "  warnings.warn(\n",
      "/Library/Frameworks/Python.framework/Versions/3.10/lib/python3.10/site-packages/sklearn/base.py:493: UserWarning: X does not have valid feature names, but StandardScaler was fitted with feature names\n",
      "  warnings.warn(\n"
     ]
    },
    {
     "name": "stdout",
     "output_type": "stream",
     "text": [
      "Buuu que mal [0. 1.]\n"
     ]
    },
    {
     "name": "stderr",
     "output_type": "stream",
     "text": [
      "/Library/Frameworks/Python.framework/Versions/3.10/lib/python3.10/site-packages/sklearn/base.py:493: UserWarning: X does not have valid feature names, but StandardScaler was fitted with feature names\n",
      "  warnings.warn(\n",
      "/Library/Frameworks/Python.framework/Versions/3.10/lib/python3.10/site-packages/sklearn/base.py:493: UserWarning: X does not have valid feature names, but StandardScaler was fitted with feature names\n",
      "  warnings.warn(\n"
     ]
    },
    {
     "name": "stdout",
     "output_type": "stream",
     "text": [
      "Buuu que mal [0. 1.]\n"
     ]
    },
    {
     "name": "stderr",
     "output_type": "stream",
     "text": [
      "/Library/Frameworks/Python.framework/Versions/3.10/lib/python3.10/site-packages/sklearn/base.py:493: UserWarning: X does not have valid feature names, but StandardScaler was fitted with feature names\n",
      "  warnings.warn(\n",
      "/Library/Frameworks/Python.framework/Versions/3.10/lib/python3.10/site-packages/sklearn/base.py:493: UserWarning: X does not have valid feature names, but StandardScaler was fitted with feature names\n",
      "  warnings.warn(\n"
     ]
    },
    {
     "name": "stdout",
     "output_type": "stream",
     "text": [
      "Buuu que mal [0. 1.]\n"
     ]
    },
    {
     "name": "stderr",
     "output_type": "stream",
     "text": [
      "/Library/Frameworks/Python.framework/Versions/3.10/lib/python3.10/site-packages/sklearn/base.py:493: UserWarning: X does not have valid feature names, but StandardScaler was fitted with feature names\n",
      "  warnings.warn(\n",
      "/Library/Frameworks/Python.framework/Versions/3.10/lib/python3.10/site-packages/sklearn/base.py:493: UserWarning: X does not have valid feature names, but StandardScaler was fitted with feature names\n",
      "  warnings.warn(\n"
     ]
    },
    {
     "name": "stdout",
     "output_type": "stream",
     "text": [
      "Buuu que mal [0. 1.]\n"
     ]
    },
    {
     "name": "stderr",
     "output_type": "stream",
     "text": [
      "/Library/Frameworks/Python.framework/Versions/3.10/lib/python3.10/site-packages/sklearn/base.py:493: UserWarning: X does not have valid feature names, but StandardScaler was fitted with feature names\n",
      "  warnings.warn(\n",
      "/Library/Frameworks/Python.framework/Versions/3.10/lib/python3.10/site-packages/sklearn/base.py:493: UserWarning: X does not have valid feature names, but StandardScaler was fitted with feature names\n",
      "  warnings.warn(\n"
     ]
    },
    {
     "name": "stdout",
     "output_type": "stream",
     "text": [
      "Buuu que mal [0. 1.]\n"
     ]
    },
    {
     "name": "stderr",
     "output_type": "stream",
     "text": [
      "/Library/Frameworks/Python.framework/Versions/3.10/lib/python3.10/site-packages/sklearn/base.py:493: UserWarning: X does not have valid feature names, but StandardScaler was fitted with feature names\n",
      "  warnings.warn(\n",
      "/Library/Frameworks/Python.framework/Versions/3.10/lib/python3.10/site-packages/sklearn/base.py:493: UserWarning: X does not have valid feature names, but StandardScaler was fitted with feature names\n",
      "  warnings.warn(\n"
     ]
    },
    {
     "name": "stdout",
     "output_type": "stream",
     "text": [
      "Buuu que mal [0. 1.]\n"
     ]
    },
    {
     "name": "stderr",
     "output_type": "stream",
     "text": [
      "/Library/Frameworks/Python.framework/Versions/3.10/lib/python3.10/site-packages/sklearn/base.py:493: UserWarning: X does not have valid feature names, but StandardScaler was fitted with feature names\n",
      "  warnings.warn(\n",
      "/Library/Frameworks/Python.framework/Versions/3.10/lib/python3.10/site-packages/sklearn/base.py:493: UserWarning: X does not have valid feature names, but StandardScaler was fitted with feature names\n",
      "  warnings.warn(\n"
     ]
    },
    {
     "name": "stdout",
     "output_type": "stream",
     "text": [
      "Buuu que mal [0. 1.]\n"
     ]
    },
    {
     "name": "stderr",
     "output_type": "stream",
     "text": [
      "/Library/Frameworks/Python.framework/Versions/3.10/lib/python3.10/site-packages/sklearn/base.py:493: UserWarning: X does not have valid feature names, but StandardScaler was fitted with feature names\n",
      "  warnings.warn(\n",
      "/Library/Frameworks/Python.framework/Versions/3.10/lib/python3.10/site-packages/sklearn/base.py:493: UserWarning: X does not have valid feature names, but StandardScaler was fitted with feature names\n",
      "  warnings.warn(\n"
     ]
    },
    {
     "name": "stdout",
     "output_type": "stream",
     "text": [
      "Buuu que mal [0. 1.]\n"
     ]
    },
    {
     "name": "stderr",
     "output_type": "stream",
     "text": [
      "/Library/Frameworks/Python.framework/Versions/3.10/lib/python3.10/site-packages/sklearn/base.py:493: UserWarning: X does not have valid feature names, but StandardScaler was fitted with feature names\n",
      "  warnings.warn(\n",
      "/Library/Frameworks/Python.framework/Versions/3.10/lib/python3.10/site-packages/sklearn/base.py:493: UserWarning: X does not have valid feature names, but StandardScaler was fitted with feature names\n",
      "  warnings.warn(\n"
     ]
    },
    {
     "name": "stdout",
     "output_type": "stream",
     "text": [
      "Buuu que mal [0. 1.]\n"
     ]
    },
    {
     "name": "stderr",
     "output_type": "stream",
     "text": [
      "/Library/Frameworks/Python.framework/Versions/3.10/lib/python3.10/site-packages/sklearn/base.py:493: UserWarning: X does not have valid feature names, but StandardScaler was fitted with feature names\n",
      "  warnings.warn(\n",
      "/Library/Frameworks/Python.framework/Versions/3.10/lib/python3.10/site-packages/sklearn/base.py:493: UserWarning: X does not have valid feature names, but StandardScaler was fitted with feature names\n",
      "  warnings.warn(\n"
     ]
    },
    {
     "name": "stdout",
     "output_type": "stream",
     "text": [
      "Buuu que mal [0. 1.]\n"
     ]
    },
    {
     "name": "stderr",
     "output_type": "stream",
     "text": [
      "/Library/Frameworks/Python.framework/Versions/3.10/lib/python3.10/site-packages/sklearn/base.py:493: UserWarning: X does not have valid feature names, but StandardScaler was fitted with feature names\n",
      "  warnings.warn(\n",
      "/Library/Frameworks/Python.framework/Versions/3.10/lib/python3.10/site-packages/sklearn/base.py:493: UserWarning: X does not have valid feature names, but StandardScaler was fitted with feature names\n",
      "  warnings.warn(\n"
     ]
    },
    {
     "name": "stdout",
     "output_type": "stream",
     "text": [
      "Buuu que mal [0. 1.]\n"
     ]
    },
    {
     "name": "stderr",
     "output_type": "stream",
     "text": [
      "/Library/Frameworks/Python.framework/Versions/3.10/lib/python3.10/site-packages/sklearn/base.py:493: UserWarning: X does not have valid feature names, but StandardScaler was fitted with feature names\n",
      "  warnings.warn(\n",
      "/Library/Frameworks/Python.framework/Versions/3.10/lib/python3.10/site-packages/sklearn/base.py:493: UserWarning: X does not have valid feature names, but StandardScaler was fitted with feature names\n",
      "  warnings.warn(\n"
     ]
    },
    {
     "name": "stdout",
     "output_type": "stream",
     "text": [
      "Buuu que mal [0. 1.]\n"
     ]
    },
    {
     "name": "stderr",
     "output_type": "stream",
     "text": [
      "/Library/Frameworks/Python.framework/Versions/3.10/lib/python3.10/site-packages/sklearn/base.py:493: UserWarning: X does not have valid feature names, but StandardScaler was fitted with feature names\n",
      "  warnings.warn(\n",
      "/Library/Frameworks/Python.framework/Versions/3.10/lib/python3.10/site-packages/sklearn/base.py:493: UserWarning: X does not have valid feature names, but StandardScaler was fitted with feature names\n",
      "  warnings.warn(\n"
     ]
    },
    {
     "name": "stdout",
     "output_type": "stream",
     "text": [
      "Buuu que mal [0. 1.]\n"
     ]
    },
    {
     "name": "stderr",
     "output_type": "stream",
     "text": [
      "/Library/Frameworks/Python.framework/Versions/3.10/lib/python3.10/site-packages/sklearn/base.py:493: UserWarning: X does not have valid feature names, but StandardScaler was fitted with feature names\n",
      "  warnings.warn(\n",
      "/Library/Frameworks/Python.framework/Versions/3.10/lib/python3.10/site-packages/sklearn/base.py:493: UserWarning: X does not have valid feature names, but StandardScaler was fitted with feature names\n",
      "  warnings.warn(\n"
     ]
    },
    {
     "name": "stdout",
     "output_type": "stream",
     "text": [
      "Buuu que mal [0. 1.]\n"
     ]
    },
    {
     "name": "stderr",
     "output_type": "stream",
     "text": [
      "/Library/Frameworks/Python.framework/Versions/3.10/lib/python3.10/site-packages/sklearn/base.py:493: UserWarning: X does not have valid feature names, but StandardScaler was fitted with feature names\n",
      "  warnings.warn(\n",
      "/Library/Frameworks/Python.framework/Versions/3.10/lib/python3.10/site-packages/sklearn/base.py:493: UserWarning: X does not have valid feature names, but StandardScaler was fitted with feature names\n",
      "  warnings.warn(\n"
     ]
    },
    {
     "name": "stdout",
     "output_type": "stream",
     "text": [
      "Buuu que mal [0. 1.]\n"
     ]
    },
    {
     "name": "stderr",
     "output_type": "stream",
     "text": [
      "/Library/Frameworks/Python.framework/Versions/3.10/lib/python3.10/site-packages/sklearn/base.py:493: UserWarning: X does not have valid feature names, but StandardScaler was fitted with feature names\n",
      "  warnings.warn(\n",
      "/Library/Frameworks/Python.framework/Versions/3.10/lib/python3.10/site-packages/sklearn/base.py:493: UserWarning: X does not have valid feature names, but StandardScaler was fitted with feature names\n",
      "  warnings.warn(\n"
     ]
    },
    {
     "name": "stdout",
     "output_type": "stream",
     "text": [
      "Buuu que mal [0. 1.]\n"
     ]
    },
    {
     "name": "stderr",
     "output_type": "stream",
     "text": [
      "/Library/Frameworks/Python.framework/Versions/3.10/lib/python3.10/site-packages/sklearn/base.py:493: UserWarning: X does not have valid feature names, but StandardScaler was fitted with feature names\n",
      "  warnings.warn(\n",
      "/Library/Frameworks/Python.framework/Versions/3.10/lib/python3.10/site-packages/sklearn/base.py:493: UserWarning: X does not have valid feature names, but StandardScaler was fitted with feature names\n",
      "  warnings.warn(\n"
     ]
    },
    {
     "name": "stdout",
     "output_type": "stream",
     "text": [
      "Buuu que mal [0. 1.]\n"
     ]
    },
    {
     "name": "stderr",
     "output_type": "stream",
     "text": [
      "/Library/Frameworks/Python.framework/Versions/3.10/lib/python3.10/site-packages/sklearn/base.py:493: UserWarning: X does not have valid feature names, but StandardScaler was fitted with feature names\n",
      "  warnings.warn(\n",
      "/Library/Frameworks/Python.framework/Versions/3.10/lib/python3.10/site-packages/sklearn/base.py:493: UserWarning: X does not have valid feature names, but StandardScaler was fitted with feature names\n",
      "  warnings.warn(\n"
     ]
    },
    {
     "name": "stdout",
     "output_type": "stream",
     "text": [
      "Buuu que mal [0. 1.]\n"
     ]
    },
    {
     "name": "stderr",
     "output_type": "stream",
     "text": [
      "/Library/Frameworks/Python.framework/Versions/3.10/lib/python3.10/site-packages/sklearn/base.py:493: UserWarning: X does not have valid feature names, but StandardScaler was fitted with feature names\n",
      "  warnings.warn(\n",
      "/Library/Frameworks/Python.framework/Versions/3.10/lib/python3.10/site-packages/sklearn/base.py:493: UserWarning: X does not have valid feature names, but StandardScaler was fitted with feature names\n",
      "  warnings.warn(\n"
     ]
    },
    {
     "name": "stdout",
     "output_type": "stream",
     "text": [
      "Buuu que mal [0. 1.]\n"
     ]
    },
    {
     "name": "stderr",
     "output_type": "stream",
     "text": [
      "/Library/Frameworks/Python.framework/Versions/3.10/lib/python3.10/site-packages/sklearn/base.py:493: UserWarning: X does not have valid feature names, but StandardScaler was fitted with feature names\n",
      "  warnings.warn(\n",
      "/Library/Frameworks/Python.framework/Versions/3.10/lib/python3.10/site-packages/sklearn/base.py:493: UserWarning: X does not have valid feature names, but StandardScaler was fitted with feature names\n",
      "  warnings.warn(\n"
     ]
    },
    {
     "name": "stdout",
     "output_type": "stream",
     "text": [
      "Buuu que mal [0. 1.]\n"
     ]
    },
    {
     "name": "stderr",
     "output_type": "stream",
     "text": [
      "/Library/Frameworks/Python.framework/Versions/3.10/lib/python3.10/site-packages/sklearn/base.py:493: UserWarning: X does not have valid feature names, but StandardScaler was fitted with feature names\n",
      "  warnings.warn(\n",
      "/Library/Frameworks/Python.framework/Versions/3.10/lib/python3.10/site-packages/sklearn/base.py:493: UserWarning: X does not have valid feature names, but StandardScaler was fitted with feature names\n",
      "  warnings.warn(\n"
     ]
    },
    {
     "name": "stdout",
     "output_type": "stream",
     "text": [
      "Buuu que mal [0. 1.]\n"
     ]
    },
    {
     "name": "stderr",
     "output_type": "stream",
     "text": [
      "/Library/Frameworks/Python.framework/Versions/3.10/lib/python3.10/site-packages/sklearn/base.py:493: UserWarning: X does not have valid feature names, but StandardScaler was fitted with feature names\n",
      "  warnings.warn(\n",
      "/Library/Frameworks/Python.framework/Versions/3.10/lib/python3.10/site-packages/sklearn/base.py:493: UserWarning: X does not have valid feature names, but StandardScaler was fitted with feature names\n",
      "  warnings.warn(\n"
     ]
    },
    {
     "name": "stdout",
     "output_type": "stream",
     "text": [
      "Buuu que mal [0. 1.]\n"
     ]
    },
    {
     "name": "stderr",
     "output_type": "stream",
     "text": [
      "/Library/Frameworks/Python.framework/Versions/3.10/lib/python3.10/site-packages/sklearn/base.py:493: UserWarning: X does not have valid feature names, but StandardScaler was fitted with feature names\n",
      "  warnings.warn(\n",
      "/Library/Frameworks/Python.framework/Versions/3.10/lib/python3.10/site-packages/sklearn/base.py:493: UserWarning: X does not have valid feature names, but StandardScaler was fitted with feature names\n",
      "  warnings.warn(\n"
     ]
    },
    {
     "name": "stdout",
     "output_type": "stream",
     "text": [
      "Buuu que mal [0. 1.]\n"
     ]
    },
    {
     "name": "stderr",
     "output_type": "stream",
     "text": [
      "/Library/Frameworks/Python.framework/Versions/3.10/lib/python3.10/site-packages/sklearn/base.py:493: UserWarning: X does not have valid feature names, but StandardScaler was fitted with feature names\n",
      "  warnings.warn(\n",
      "/Library/Frameworks/Python.framework/Versions/3.10/lib/python3.10/site-packages/sklearn/base.py:493: UserWarning: X does not have valid feature names, but StandardScaler was fitted with feature names\n",
      "  warnings.warn(\n"
     ]
    },
    {
     "name": "stdout",
     "output_type": "stream",
     "text": [
      "Buuu que mal [0. 1.]\n"
     ]
    },
    {
     "name": "stderr",
     "output_type": "stream",
     "text": [
      "/Library/Frameworks/Python.framework/Versions/3.10/lib/python3.10/site-packages/sklearn/base.py:493: UserWarning: X does not have valid feature names, but StandardScaler was fitted with feature names\n",
      "  warnings.warn(\n",
      "/Library/Frameworks/Python.framework/Versions/3.10/lib/python3.10/site-packages/sklearn/base.py:493: UserWarning: X does not have valid feature names, but StandardScaler was fitted with feature names\n",
      "  warnings.warn(\n"
     ]
    },
    {
     "name": "stdout",
     "output_type": "stream",
     "text": [
      "Buuu que mal [0. 1.]\n"
     ]
    },
    {
     "name": "stderr",
     "output_type": "stream",
     "text": [
      "/Library/Frameworks/Python.framework/Versions/3.10/lib/python3.10/site-packages/sklearn/base.py:493: UserWarning: X does not have valid feature names, but StandardScaler was fitted with feature names\n",
      "  warnings.warn(\n",
      "/Library/Frameworks/Python.framework/Versions/3.10/lib/python3.10/site-packages/sklearn/base.py:493: UserWarning: X does not have valid feature names, but StandardScaler was fitted with feature names\n",
      "  warnings.warn(\n"
     ]
    },
    {
     "name": "stdout",
     "output_type": "stream",
     "text": [
      "Buuu que mal [0. 1.]\n"
     ]
    },
    {
     "name": "stderr",
     "output_type": "stream",
     "text": [
      "/Library/Frameworks/Python.framework/Versions/3.10/lib/python3.10/site-packages/sklearn/base.py:493: UserWarning: X does not have valid feature names, but StandardScaler was fitted with feature names\n",
      "  warnings.warn(\n",
      "/Library/Frameworks/Python.framework/Versions/3.10/lib/python3.10/site-packages/sklearn/base.py:493: UserWarning: X does not have valid feature names, but StandardScaler was fitted with feature names\n",
      "  warnings.warn(\n"
     ]
    },
    {
     "name": "stdout",
     "output_type": "stream",
     "text": [
      "Buuu que mal [0. 1.]\n"
     ]
    },
    {
     "name": "stderr",
     "output_type": "stream",
     "text": [
      "/Library/Frameworks/Python.framework/Versions/3.10/lib/python3.10/site-packages/sklearn/base.py:493: UserWarning: X does not have valid feature names, but StandardScaler was fitted with feature names\n",
      "  warnings.warn(\n",
      "/Library/Frameworks/Python.framework/Versions/3.10/lib/python3.10/site-packages/sklearn/base.py:493: UserWarning: X does not have valid feature names, but StandardScaler was fitted with feature names\n",
      "  warnings.warn(\n"
     ]
    },
    {
     "name": "stdout",
     "output_type": "stream",
     "text": [
      "Buuu que mal [0. 1.]\n"
     ]
    },
    {
     "name": "stderr",
     "output_type": "stream",
     "text": [
      "/Library/Frameworks/Python.framework/Versions/3.10/lib/python3.10/site-packages/sklearn/base.py:493: UserWarning: X does not have valid feature names, but StandardScaler was fitted with feature names\n",
      "  warnings.warn(\n",
      "/Library/Frameworks/Python.framework/Versions/3.10/lib/python3.10/site-packages/sklearn/base.py:493: UserWarning: X does not have valid feature names, but StandardScaler was fitted with feature names\n",
      "  warnings.warn(\n"
     ]
    },
    {
     "name": "stdout",
     "output_type": "stream",
     "text": [
      "Buuu que mal [0. 1.]\n"
     ]
    },
    {
     "name": "stderr",
     "output_type": "stream",
     "text": [
      "/Library/Frameworks/Python.framework/Versions/3.10/lib/python3.10/site-packages/sklearn/base.py:493: UserWarning: X does not have valid feature names, but StandardScaler was fitted with feature names\n",
      "  warnings.warn(\n",
      "/Library/Frameworks/Python.framework/Versions/3.10/lib/python3.10/site-packages/sklearn/base.py:493: UserWarning: X does not have valid feature names, but StandardScaler was fitted with feature names\n",
      "  warnings.warn(\n"
     ]
    },
    {
     "name": "stdout",
     "output_type": "stream",
     "text": [
      "Buuu que mal [0. 1.]\n"
     ]
    },
    {
     "name": "stderr",
     "output_type": "stream",
     "text": [
      "/Library/Frameworks/Python.framework/Versions/3.10/lib/python3.10/site-packages/sklearn/base.py:493: UserWarning: X does not have valid feature names, but StandardScaler was fitted with feature names\n",
      "  warnings.warn(\n",
      "/Library/Frameworks/Python.framework/Versions/3.10/lib/python3.10/site-packages/sklearn/base.py:493: UserWarning: X does not have valid feature names, but StandardScaler was fitted with feature names\n",
      "  warnings.warn(\n"
     ]
    },
    {
     "name": "stdout",
     "output_type": "stream",
     "text": [
      "Buuu que mal [0. 1.]\n"
     ]
    },
    {
     "name": "stderr",
     "output_type": "stream",
     "text": [
      "/Library/Frameworks/Python.framework/Versions/3.10/lib/python3.10/site-packages/sklearn/base.py:493: UserWarning: X does not have valid feature names, but StandardScaler was fitted with feature names\n",
      "  warnings.warn(\n",
      "/Library/Frameworks/Python.framework/Versions/3.10/lib/python3.10/site-packages/sklearn/base.py:493: UserWarning: X does not have valid feature names, but StandardScaler was fitted with feature names\n",
      "  warnings.warn(\n"
     ]
    },
    {
     "name": "stdout",
     "output_type": "stream",
     "text": [
      "Buuu que mal [0. 1.]\n"
     ]
    },
    {
     "name": "stderr",
     "output_type": "stream",
     "text": [
      "/Library/Frameworks/Python.framework/Versions/3.10/lib/python3.10/site-packages/sklearn/base.py:493: UserWarning: X does not have valid feature names, but StandardScaler was fitted with feature names\n",
      "  warnings.warn(\n",
      "/Library/Frameworks/Python.framework/Versions/3.10/lib/python3.10/site-packages/sklearn/base.py:493: UserWarning: X does not have valid feature names, but StandardScaler was fitted with feature names\n",
      "  warnings.warn(\n"
     ]
    },
    {
     "name": "stdout",
     "output_type": "stream",
     "text": [
      "Buuu que mal [0. 1.]\n"
     ]
    },
    {
     "name": "stderr",
     "output_type": "stream",
     "text": [
      "/Library/Frameworks/Python.framework/Versions/3.10/lib/python3.10/site-packages/sklearn/base.py:493: UserWarning: X does not have valid feature names, but StandardScaler was fitted with feature names\n",
      "  warnings.warn(\n",
      "/Library/Frameworks/Python.framework/Versions/3.10/lib/python3.10/site-packages/sklearn/base.py:493: UserWarning: X does not have valid feature names, but StandardScaler was fitted with feature names\n",
      "  warnings.warn(\n"
     ]
    },
    {
     "name": "stdout",
     "output_type": "stream",
     "text": [
      "Buuu que mal [0. 1.]\n"
     ]
    },
    {
     "name": "stderr",
     "output_type": "stream",
     "text": [
      "/Library/Frameworks/Python.framework/Versions/3.10/lib/python3.10/site-packages/sklearn/base.py:493: UserWarning: X does not have valid feature names, but StandardScaler was fitted with feature names\n",
      "  warnings.warn(\n",
      "/Library/Frameworks/Python.framework/Versions/3.10/lib/python3.10/site-packages/sklearn/base.py:493: UserWarning: X does not have valid feature names, but StandardScaler was fitted with feature names\n",
      "  warnings.warn(\n"
     ]
    },
    {
     "name": "stdout",
     "output_type": "stream",
     "text": [
      "Buuu que mal [0. 1.]\n"
     ]
    },
    {
     "name": "stderr",
     "output_type": "stream",
     "text": [
      "/Library/Frameworks/Python.framework/Versions/3.10/lib/python3.10/site-packages/sklearn/base.py:493: UserWarning: X does not have valid feature names, but StandardScaler was fitted with feature names\n",
      "  warnings.warn(\n",
      "/Library/Frameworks/Python.framework/Versions/3.10/lib/python3.10/site-packages/sklearn/base.py:493: UserWarning: X does not have valid feature names, but StandardScaler was fitted with feature names\n",
      "  warnings.warn(\n"
     ]
    },
    {
     "name": "stdout",
     "output_type": "stream",
     "text": [
      "Buuu que mal [0. 1.]\n"
     ]
    },
    {
     "ename": "",
     "evalue": "",
     "output_type": "error",
     "traceback": [
      "\u001b[1;31mEl kernel se bloqueó al ejecutar código en la celda actual o en una celda anterior. \n",
      "\u001b[1;31mRevise el código de las celdas para identificar una posible causa del error. \n",
      "\u001b[1;31mHaga clic <a href='https://aka.ms/vscodeJupyterKernelCrash'>aquí</a> para obtener más información. \n",
      "\u001b[1;31mVea Jupyter <a href='command:jupyter.viewOutput'>log</a> para obtener más detalles."
     ]
    }
   ],
   "source": [
    "cap = cv2.VideoCapture(0)\n",
    "# Initiate holistic model\n",
    "with mp_holistic.Holistic(min_detection_confidence=0.5, min_tracking_confidence=0.5) as holistic:\n",
    "    \n",
    "    while cap.isOpened():\n",
    "        ret, frame = cap.read()\n",
    "        \n",
    "        # Recolor Feed\n",
    "        image = cv2.cvtColor(frame, cv2.COLOR_BGR2RGB)\n",
    "        image.flags.writeable = False        \n",
    "        \n",
    "        # Make Detections\n",
    "        results = holistic.process(image)\n",
    "        # print(results.face_landmarks)\n",
    "        \n",
    "        # face_landmarks, pose_landmarks, left_hand_landmarks, right_hand_landmarks\n",
    "        \n",
    "        # Recolor image back to BGR for rendering\n",
    "        image.flags.writeable = True   \n",
    "        image = cv2.cvtColor(image, cv2.COLOR_RGB2BGR)\n",
    "        \n",
    "        # 1. Draw face landmarks\n",
    "        #mp_drawing.draw_landmarks(image, results.face_landmarks, mp_holistic.FACEMESH_TESSELATION, \n",
    "         #                        mp_drawing.DrawingSpec(color=(80,110,10), thickness=1, circle_radius=1),\n",
    "          #                       mp_drawing.DrawingSpec(color=(80,256,121), thickness=1, circle_radius=1)\n",
    "           #                      )\n",
    "        \n",
    "        # 2. Right hand\n",
    "        mp_drawing.draw_landmarks(image, results.right_hand_landmarks, mp_holistic.HAND_CONNECTIONS, \n",
    "                                 mp_drawing.DrawingSpec(color=(80,22,10), thickness=2, circle_radius=4),\n",
    "                                 mp_drawing.DrawingSpec(color=(80,44,121), thickness=2, circle_radius=2)\n",
    "                                 )\n",
    "\n",
    "        # 3. Left Hand\n",
    "        mp_drawing.draw_landmarks(image, results.left_hand_landmarks, mp_holistic.HAND_CONNECTIONS, \n",
    "                                 mp_drawing.DrawingSpec(color=(121,22,76), thickness=2, circle_radius=4),\n",
    "                                 mp_drawing.DrawingSpec(color=(121,44,250), thickness=2, circle_radius=2)\n",
    "                                 )\n",
    "\n",
    "        # 4. Pose Detections\n",
    "        mp_drawing.draw_landmarks(image, results.pose_landmarks, mp_holistic.POSE_CONNECTIONS, \n",
    "                                 mp_drawing.DrawingSpec(color=(245,117,66), thickness=2, circle_radius=4),\n",
    "                                 mp_drawing.DrawingSpec(color=(245,66,230), thickness=2, circle_radius=2)\n",
    "                                 )\n",
=======
>>>>>>> 28f21dd (added time sign data and models)
    "        # Export coordinates\n",
    "        try:\n",
    "            # Extract Pose landmarks\n",
    "            pose = results.pose_landmarks.landmark\n",
    "            pose_row = list(np.array([[landmark.x, landmark.y, landmark.z, landmark.visibility] for landmark in pose]).flatten())\n",
    "            \n",
    "            # Extract Face landmarks\n",
    "            face = results.face_landmarks.landmark\n",
    "            face_row = list(np.array([[landmark.x, landmark.y, landmark.z, landmark.visibility] for landmark in face]).flatten())\n",
    "            \n",
    "            # Concate rows\n",
    "            row = pose_row+face_row\n",
    "            \n",
    "#             # Append class name \n",
    "#             row.insert(0, class_name)\n",
    "            \n",
    "#             # Export to CSV\n",
    "#             with open('coords.csv', mode='a', newline='') as f:\n",
    "#                 csv_writer = csv.writer(f, delimiter=',', quotechar='\"', quoting=csv.QUOTE_MINIMAL)\n",
    "#                 csv_writer.writerow(row) \n",
    "\n",
    "            # Make Detections\n",
    "            X = pd.DataFrame([row])\n",
    "            body_language_class = model.predict(X)[0]\n",
    "            body_language_prob = model.predict_proba(X)[0]\n",
    "            print(body_language_class, body_language_prob)\n",
    "            \n",
    "            # Grab ear coords\n",
    "            coords = tuple(np.multiply(\n",
    "                            np.array(\n",
    "                                (results.pose_landmarks.landmark[mp_holistic.PoseLandmark.LEFT_EAR].x, \n",
    "                                 results.pose_landmarks.landmark[mp_holistic.PoseLandmark.LEFT_EAR].y))\n",
    "                        , [640,480]).astype(int))\n",
    "            \n",
    "            cv2.rectangle(image, \n",
    "                          (coords[0], coords[1]+5), \n",
    "                          (coords[0]+len(body_language_class)*20, coords[1]-30), \n",
    "                          (245, 117, 16), -1)\n",
    "            cv2.putText(image, body_language_class, coords, \n",
    "                        cv2.FONT_HERSHEY_SIMPLEX, 1, (255, 255, 255), 2, cv2.LINE_AA)\n",
    "            \n",
    "            # Get status box\n",
    "            cv2.rectangle(image, (0,0), (250, 60), (245, 117, 16), -1)\n",
    "            \n",
    "            # Display Class\n",
    "            cv2.putText(image, ''\n",
    "                        , (95,12), cv2.FONT_HERSHEY_SIMPLEX, 0.5, (0, 0, 0), 1, cv2.LINE_AA)\n",
    "            cv2.putText(image, body_language_class.split(' ')[0]\n",
    "                        , (90,40), cv2.FONT_HERSHEY_SIMPLEX, 1, (255, 255, 255), 2, cv2.LINE_AA)\n",
    "            \n",
    "            # Display Probability\n",
    "            cv2.putText(image, ''\n",
    "                        , (15,12), cv2.FONT_HERSHEY_SIMPLEX, 0.5, (0, 0, 0), 1, cv2.LINE_AA)\n",
    "            cv2.putText(image, str(round(body_language_prob[np.argmax(body_language_prob)],2))\n",
    "                        , (10,40), cv2.FONT_HERSHEY_SIMPLEX, 1, (255, 255, 255), 2, cv2.LINE_AA)\n",
    "            \n",
    "        except:\n",
    "            pass\n",
    "                        \n",
    "        cv2.imshow('Rosa Webcam', image)\n",
    "\n",
    "        if cv2.waitKey(10) & 0xFF == ord('q'):\n",
    "            break\n",
    "\n",
    "cap.release()\n",
    "cv2.destroyAllWindows()"
   ]
  }
 ],
 "metadata": {
  "kernelspec": {
   "display_name": "Python 3 (ipykernel)",
   "language": "python",
   "name": "python3"
  },
  "language_info": {
   "codemirror_mode": {
    "name": "ipython",
    "version": 3
   },
   "file_extension": ".py",
   "mimetype": "text/x-python",
   "name": "python",
   "nbconvert_exporter": "python",
   "pygments_lexer": "ipython3",
   "version": "3.10.4"
  }
 },
 "nbformat": 4,
 "nbformat_minor": 5
}
